{
 "cells": [
  {
   "cell_type": "markdown",
   "metadata": {},
   "source": [
    "# Three Body Problem\n",
    "\n",
    "Three bodies orbit under the influence of gravity.  In general, the motion is chaotic and no practical closed form solution is known.  In practice the problem can be solved using numerical integrators.<br>\n",
    "See https://en.wikipedia.org/wiki/Three-body_problem for a detailed discussion on the theory and history of this problem."
   ]
  },
  {
   "cell_type": "code",
   "execution_count": 1,
   "metadata": {},
   "outputs": [],
   "source": [
    "# Library imports\n",
    "import tensorflow as tf\n",
    "import rebound\n",
    "import numpy as np\n",
    "import datetime\n",
    "import matplotlib.pyplot as plt\n",
    "\n",
    "# Aliases\n",
    "keras = tf.keras"
   ]
  },
  {
   "cell_type": "code",
   "execution_count": 2,
   "metadata": {},
   "outputs": [],
   "source": [
    "# Local imports\n",
    "from utils import load_vartbl, save_vartbl, plot_style\n",
    "from tf_utils import gpu_grow_memory, TimeHistory\n",
    "from tf_utils import plot_loss_hist, EpochLoss, TimeHistory\n",
    "from tf_utils import Identity\n",
    "\n",
    "from orbital_element import OrbitalElementToConfig, ConfigToOrbitalElement, MeanToTrueAnomaly, G_\n",
    "from orbital_element import make_model_elt_to_cfg, make_model_cfg_to_elt\n",
    "\n",
    "from jacobi import CartesianToJacobi, JacobiToCartesian\n",
    "\n",
    "from g3b_data import make_traj_g3b, make_data_g3b, make_datasets_g3b, traj_to_batch\n",
    "from g3b_data import make_datasets_solar, make_datasets_hard\n",
    "from g3b_plot import plot_orbit_q, plot_orbit_v, plot_orbit_a, plot_orbit_energy, plot_orbit_element\n",
    "from g3b import KineticEnergy_G3B, PotentialEnergy_G3B, Momentum_G3B, AngularMomentum_G3B\n",
    "from g3b import VectorError, EnergyError\n",
    "from g3b import Motion_G3B, make_physics_model_g3b\n",
    "from g3b import compile_and_fit\n",
    "from g3b_model_math import make_position_model_g3b_math, make_model_g3b_math\n",
    "# from g3b_model_nn import make_position_model_g3b_nn, make_model_g3b_nn"
   ]
  },
  {
   "cell_type": "code",
   "execution_count": 3,
   "metadata": {},
   "outputs": [],
   "source": [
    "# Grow GPU memory (must be first operation in TF)\n",
    "gpu_grow_memory()"
   ]
  },
  {
   "cell_type": "code",
   "execution_count": 4,
   "metadata": {},
   "outputs": [],
   "source": [
    "# Lightweight serialization\n",
    "fname = '../data/g3b/g3b.pickle'\n",
    "vartbl = load_vartbl(fname)"
   ]
  },
  {
   "cell_type": "markdown",
   "metadata": {},
   "source": [
    "### Orbital Elements Refresher"
   ]
  },
  {
   "cell_type": "markdown",
   "metadata": {},
   "source": [
    "![title](../figs/web/orbital-elements.png)"
   ]
  },
  {
   "cell_type": "markdown",
   "metadata": {},
   "source": [
    "**Variable Names of Six Keplerian Orbital Elements**\n",
    "* `a` - semi-major axis; size of the ellipse; mean of periapsis and apoapsis distances\n",
    "* `e` - eccentricity; shape of the ellipse.  e=0 is a circle, e=1 is a line.  $e^2 = 1 - b^2 / a^2$\n",
    "* `inc` - inclination; angle between orbital and ecliptic planes\n",
    "* `Omega` - longitude of the asending node; undefined when inc=0\n",
    "* `omega` - argument of pericenter; true anomaly where body is closest to the primary.\n",
    "* `f` - true anomaly; angle of the orbiting body in its orbital plane\n",
    "\n",
    "**Two Additional Elements**\n",
    "* `M` - mean anomaly; area swept out by the orbiting body, normalized so a full orbit is $2 \\pi$.  Because of the rule of equal area in equal time, a.k.a. conservation of angular momentum, the mean anomly is linear in time\n",
    "* `N` - mean motion; rate at which mean anomly changes, i.e. $2 \\pi / T$ where $T$ is the orbital period"
   ]
  },
  {
   "cell_type": "markdown",
   "metadata": {},
   "source": [
    "### Generate and Visualize One Example Orbital Path"
   ]
  },
  {
   "cell_type": "markdown",
   "metadata": {},
   "source": [
    "The module `g3b_data.py` includes functions used to generate training data for the (general) three body problem.<br>\n",
    "The function `make_traj_g3b` generates a single trajectory for the G3B problem.  It takes as inputs the masses of the three bodies, `m`; and the six traditional orbital elements (`a`, `e`, `inc`, `Omega`, `omega`, `f`).  The mass is an array of size 3, and each orbital element is an array of size 2.  Orbital elements describe the relationship between two bodies, or here the relationship between body i and the center of mass of bodies 0 through i-1.<br>\n",
    "`make_traj_g3b` creates a new Rebound simulation with three particles: the sun and two orbiting bodies.  The sun has mass 1.0 in solar mass units, and initial position and velocity 0.<br>\n",
    "The first orbiting body orbits around the primary (body 0, similar tot he sun) with initial position and velocity are assigned by Rebound based on the orbital elements.<br>\n",
    "The second orbiting body orbits around the center of mass of body 0 and body 1.  In practice this will be very close to the primary.  This choice of coordinates is called Jacobi coordinates.<br>\n",
    "The orbit is evaluated for a period of `n_years` with `sample_freq` observations per year.\n",
    "Here I used 100 years and 10 observations per year, leading to 1001 data points counting both the start and end point.  The results are returned in two Dict objects named inputs and outputs.<br>\n",
    "**Inputs**\n",
    "* t - vector of times at which the orbit was sampled\n",
    "* q0 - initial position of the bodies; shape (num_particles, space_dims,) = (3, 3,)\n",
    "* v0 - initial velocity of the bodies; shape (num_particles, space_dims,) = (3, 3,)\n",
    "* m - mass of the bodies in solar masses; shape (num_particles,) = (3,)\n",
    "\n",
    "**Outputs**\n",
    "* q - orbital positions of the bodies over time; shape (N, 3, 3,)\n",
    "* v - orbital velocitiy of body 1 over time; shape (N, 3, 3,)\n",
    "* a - orbital acceleration of body 1 over time;  shape (N, 3, 3,)\n",
    "* q0_rec - recovered initial position of bodies; duplicate of q0_init\n",
    "* v0_rec - recovered initial velocity of bodies; duplicate of v0_init\n",
    "* T - the kinetic energy of the system; $T = \\frac{1}{2} \\sum_{i=1}^{3}{m_i |v_i|^2}$\n",
    "* U - the potential energy of the system; \n",
    "$$U = \\sum_{i=1}^{3}\\sum_{j=i+1}^{3} \\frac{-G m_i m_i}{r_{ij}}$$\n",
    "where $r_{ij} = |qi - qj|$ is the distance between bodies $i$ and $j$\n",
    "* H - the total energy in the system $H = T + U$\n",
    "* P - the momentum, $P = \\sum{m_i \\cdot v_i}$\n",
    "* L - the angular momentum, $L = \\sum{q_i \\times m_i v_i}$"
   ]
  },
  {
   "cell_type": "code",
   "execution_count": 5,
   "metadata": {},
   "outputs": [
    {
     "name": "stdout",
     "output_type": "stream",
     "text": [
      "Input fields: ['t', 'q0', 'v0', 'm']\n",
      "Output fields: ['q', 'v', 'a', 'orb_a', 'orb_e', 'orb_inc', 'orb_Omega', 'orb_omega', 'orb_f', 'q0_rec', 'v0_rec', 'T', 'U', 'H', 'P', 'L']\n"
     ]
    }
   ],
   "source": [
    "# Generate one example trajectory with orbiting earth-like and jupiter-like planets\n",
    "# https://ssd.jpl.nasa.gov/txt/p_elem_t1.txt\n",
    "m = np.array([1.0, 1.0E-6, 1.0E-3])\n",
    "a = np.array([1.00000, 5.2029])\n",
    "e = np.array([0.0167, 0.0484])\n",
    "inc = np.radians([0.00, 1.3044])\n",
    "Omega = np.radians([0.00, 100.47])\n",
    "omega = np.radians([102.94, 14.73]) - Omega\n",
    "f = np.radians([100.46, 34.40]) - Omega\n",
    "n_years = 100\n",
    "sample_freq = 10\n",
    "\n",
    "inputs_traj, outputs_traj = make_traj_g3b(m=m, a=a, e=e, inc=inc, Omega=Omega, omega=omega, f=f, \n",
    "                                          n_years=n_years, sample_freq=sample_freq)\n",
    "\n",
    "# Combined dict\n",
    "data_traj = {**inputs_traj, **outputs_traj}\n",
    "\n",
    "# Review the fields\n",
    "print('Input fields:', list(inputs_traj.keys()))\n",
    "print('Output fields:', list(outputs_traj.keys()))"
   ]
  },
  {
   "cell_type": "code",
   "execution_count": 6,
   "metadata": {},
   "outputs": [],
   "source": [
    "# Plot style \n",
    "plot_style()"
   ]
  },
  {
   "cell_type": "code",
   "execution_count": 7,
   "metadata": {},
   "outputs": [
    {
     "data": {
      "image/png": "[encoded data removed]",
      "text/plain": [
       "<Figure size 1152x648 with 1 Axes>"
      ]
     },
     "metadata": {
      "needs_background": "light"
     },
     "output_type": "display_data"
    }
   ],
   "source": [
    "fig, ax = plot_orbit_q(data_traj, 1, False, 10.0)"
   ]
  },
  {
   "cell_type": "code",
   "execution_count": 8,
   "metadata": {},
   "outputs": [
    {
     "data": {
      "image/png": "[encoded data removed]",
      "text/plain": [
       "<Figure size 1152x648 with 1 Axes>"
      ]
     },
     "metadata": {
      "needs_background": "light"
     },
     "output_type": "display_data"
    }
   ],
   "source": [
    "fig, ax = plot_orbit_energy(data_traj)"
   ]
  },
  {
   "cell_type": "code",
   "execution_count": 9,
   "metadata": {},
   "outputs": [
    {
     "data": {
      "image/png": "[encoded data removed]",
      "text/plain": [
       "<Figure size 1152x648 with 1 Axes>"
      ]
     },
     "metadata": {
      "needs_background": "light"
     },
     "output_type": "display_data"
    }
   ],
   "source": [
    "fig, ax = plot_orbit_element(data_traj, 'a')"
   ]
  },
  {
   "cell_type": "code",
   "execution_count": 10,
   "metadata": {},
   "outputs": [],
   "source": [
    "# The eccentricity of body 1 has tiny wobbles that are barely visible\n",
    "# fig, ax = plot_orbit_element(data_traj, 'e')"
   ]
  },
  {
   "cell_type": "code",
   "execution_count": 11,
   "metadata": {},
   "outputs": [],
   "source": [
    "# fig, ax = plot_orbit_element(data_traj, 'inc')"
   ]
  },
  {
   "cell_type": "code",
   "execution_count": 12,
   "metadata": {},
   "outputs": [
    {
     "data": {
      "image/png": "[encoded data removed]",
      "text/plain": [
       "<Figure size 1152x648 with 1 Axes>"
      ]
     },
     "metadata": {
      "needs_background": "light"
     },
     "output_type": "display_data"
    }
   ],
   "source": [
    "# The omega parameter for body 1 looks like a decaying sine curve; omega2 appears nearly constant.\n",
    "fig, ax = plot_orbit_element(data_traj, 'omega')"
   ]
  },
  {
   "cell_type": "code",
   "execution_count": 13,
   "metadata": {},
   "outputs": [],
   "source": [
    "# The true anomaly f looks like a staircase that is equivalent to a straight line mod two pi\n",
    "# The wobbles comapred to the mean anomaly are not visible on this scale\n",
    "# fig, ax = plot_orbit_element(data_traj, 'f')"
   ]
  },
  {
   "cell_type": "markdown",
   "metadata": {},
   "source": [
    "### Generate Training Data with a Range of Orbital Parameters"
   ]
  },
  {
   "cell_type": "markdown",
   "metadata": {},
   "source": [
    "The function `make_train_g3b` creates training data for the general 3 body problem in the form of dictionaries of numpy arrays.  These are analogous to the outputs of `make_traj_r3b`, but there is an outer index of `n_traj` different trajectories.  The inputs `m_min` and `m_max` control the mass range of bodies 2 and 3 solar units; the first body always has mass equal to 1 solar unit.<br>\n",
    "The inputs `a_min`, `a_max`, `e_max`, and `inc_max` determine the sampling ranges for the parameters `a`, `e` and `inc` of the orbital elements of the starting configuration. <br>\n",
    "The other orbital elements (`Omega`, `omega`, `f`) are sampled over the full range of admissible values.<br>\n",
    "The function `make_datasets_r3b` generates three tensorflow Dataset objects for train, validation and test, respectively.  Data is generated in the form of Numpy arrays using `make_train_g3b` because it is easier to serialize in that format.  The function checks on disk to see if the data is already available, and if so, loads it.  Otherwise it generates and then saves it.  Effective serialization is critical because the data set is expensive to generate."
   ]
  },
  {
   "cell_type": "code",
   "execution_count": 14,
   "metadata": {},
   "outputs": [],
   "source": [
    "# Inputs for make_train_g3b\n",
    "m_min = 1.0E-7\n",
    "m_max = 2.0E-3\n",
    "n_traj = 10\n",
    "n_years = 100\n",
    "sample_freq = 10\n",
    "a_min = 0.50\n",
    "a_max = 32.0\n",
    "e_max = 0.08\n",
    "inc_max = 0.04\n",
    "seed = 42"
   ]
  },
  {
   "cell_type": "code",
   "execution_count": 15,
   "metadata": {},
   "outputs": [
    {
     "data": {
      "application/vnd.jupyter.widget-view+json": {
       "model_id": "960f63c3775944aa8c4102b2c76b9db5",
       "version_major": 2,
       "version_minor": 0
      },
      "text/plain": [
       "HBox(children=(IntProgress(value=0, max=10), HTML(value='')))"
      ]
     },
     "metadata": {},
     "output_type": "display_data"
    },
    {
     "name": "stdout",
     "output_type": "stream",
     "text": [
      "\n"
     ]
    }
   ],
   "source": [
    "# Test make_data_g3b\n",
    "inputs, outputs= make_data_g3b(n_traj=n_traj, n_years=n_years, sample_freq=sample_freq,\n",
    "                               a_min=a_min, a_max=a_max, e_max=e_max, inc_max=inc_max, seed=seed)"
   ]
  },
  {
   "cell_type": "code",
   "execution_count": 16,
   "metadata": {},
   "outputs": [],
   "source": [
    "# Inputs for make_datasets_g3b\n",
    "vt_split = 0.20\n",
    "n_years = 100\n",
    "sample_freq = 10\n",
    "\n",
    "# The batch size\n",
    "batch_size = 64"
   ]
  },
  {
   "cell_type": "code",
   "execution_count": 17,
   "metadata": {},
   "outputs": [
    {
     "name": "stdout",
     "output_type": "stream",
     "text": [
      "Unable to load data from ../data/g3b/881911622.pickle.\n"
     ]
    },
    {
     "data": {
      "application/vnd.jupyter.widget-view+json": {
       "model_id": "ea5e48bbd7714a8bad2513079e8d5a91",
       "version_major": 2,
       "version_minor": 0
      },
      "text/plain": [
       "HBox(children=(IntProgress(value=0, max=64), HTML(value='')))"
      ]
     },
     "metadata": {},
     "output_type": "display_data"
    },
    {
     "name": "stdout",
     "output_type": "stream",
     "text": [
      "particle 1, m=5.300154824718853e-05, a=20.38086671891378, e=0.046862046501877065, inc=0.03604632041963956, Omega=-2.627885505319415, omega=-1.2479796227326374, f=2.8030261169836725\n",
      "particle 0, m=0.001479832521494569, a=28.59946648807907, e=0.0021209048433297453, inc=0.02337257247692401, Omega=0.8036218480318178, omega=-0.23448982234152194, f=2.2731660983009743\n",
      "Status before shift to COM:\n",
      "---------------------------------\n",
      "REBOUND version:     \t3.8.3\n",
      "REBOUND built on:    \tJun  6 2019 12:14:12\n",
      "Number of particles: \t3\n",
      "Selected integrator: \tias15\n",
      "Simulation time:     \t0.0000000000000000e+00\n",
      "Current timestep:    \t0.100000\n",
      "---------------------------------\n",
      "<rebound.Particle object, m=1.0 x=0.0 y=0.0 z=0.0 vx=0.0 vy=0.0 vz=0.0>\n",
      "<rebound.Particle object, m=5.300154824718853e-05 x=10.155578515826209 y=-18.680709720148222 z=0.7666809344255396 vx=1.1803472851306693 vy=0.6170471079457281 vz=0.0015373035503336724>\n",
      "<rebound.Particle object, m=0.001479832521494569 x=-27.359877890729038 y=8.438139111540222 z=0.5974052545032837 vx=-0.34805948877697956 vy=-1.1212775117369493 vz=-0.012335909381306307>\n",
      "---------------------------------\n",
      "None\n",
      "Status after shift to COM:\n",
      "---------------------------------\n",
      "REBOUND version:     \t3.8.3\n",
      "REBOUND built on:    \tJun  6 2019 12:14:12\n",
      "Number of particles: \t3\n",
      "Selected integrator: \tias15\n",
      "Simulation time:     \t0.0000000000000000e+00\n",
      "Current timestep:    \t0.100000\n",
      "---------------------------------\n",
      "<rebound.Particle object, m=1.0 x=0.039888633046407426 y=-0.01147933023215069 z=-0.0009232797659806556 vx=0.0004518169569008325 vy=0.0016241089858398032 vz=1.8145785937466248e-05>\n",
      "<rebound.Particle object, m=5.300154824718853e-05 x=10.195467148872616 y=-18.692189050380374 z=0.765757654659559 vx=1.18079910208757 vy=0.6186712169315679 vz=0.0015554493362711385>\n",
      "<rebound.Particle object, m=0.001479832521494569 x=-27.319989257682632 y=8.426659781308071 z=0.5964819747373031 vx=-0.34760767182007873 vy=-1.1196534027511096 vz=-0.01231776359536884>\n",
      "---------------------------------\n",
      "None\n",
      "i=50\n",
      "inputs to make_traj_g3b:\n",
      "m=  [1.00000000e+00 1.47983252e-03 5.30015482e-05]\n",
      "a=  [28.59946649 20.38086672]\n",
      "e=  [0.0021209  0.04686205]\n",
      "inc=  [0.02337257 0.03604632]\n",
      "Omega=  [ 0.80362185 -2.62788551]\n",
      "omega=  [-0.23448982 -1.24797962]\n",
      "f= [2.2731661  2.80302612]\n",
      "n_years=  100\n",
      "integator=  ias15\n",
      "inputs_traj=\n",
      "t\n",
      "[  0.    0.1   0.2 ...  99.8  99.9 100. ]\n",
      "q0\n",
      "[[ 3.9888632e-02 -1.1479330e-02 -9.2327979e-04]\n",
      " [ 1.0195467e+01 -1.8692188e+01  7.6575768e-01]\n",
      " [-2.7319990e+01  8.4266596e+00  5.9648198e-01]]\n",
      "v0\n",
      "[[ 4.5181694e-04  1.6241090e-03  1.8145785e-05]\n",
      " [ 1.1807991e+00  6.1867124e-01  1.5554493e-03]\n",
      " [-3.4760767e-01 -1.1196533e+00 -1.2317764e-02]]\n",
      "m\n",
      "[1.0000000e+00 5.3001550e-05 1.4798326e-03]\n",
      "m=  [1.0000000e+00 5.3001550e-05 1.4798326e-03]\n",
      "q0=\n",
      " [[ 3.9888632e-02 -1.1479330e-02 -9.2327979e-04]\n",
      " [ 1.0195467e+01 -1.8692188e+01  7.6575768e-01]\n",
      " [-2.7319990e+01  8.4266596e+00  5.9648198e-01]]\n",
      "mq=\n",
      " [[ 3.9888632e-02 -1.1479330e-02 -9.2327979e-04]\n",
      " [ 5.4037553e-04 -9.9071499e-04  4.0586343e-05]\n",
      " [-4.0429011e-02  1.2470045e-02  8.8269345e-04]]\n",
      "com=\n",
      " [-3.7195884e-09  0.0000000e+00  0.0000000e+00]\n",
      "\n"
     ]
    },
    {
     "data": {
      "application/vnd.jupyter.widget-view+json": {
       "model_id": "95fd5a07a33148ba883f6d4ca7b2651b",
       "version_major": 2,
       "version_minor": 0
      },
      "text/plain": [
       "HBox(children=(IntProgress(value=1, bar_style='info', max=1), HTML(value='')))"
      ]
     },
     "metadata": {},
     "output_type": "display_data"
    },
    {
     "name": "stdout",
     "output_type": "stream",
     "text": [
      "\n"
     ]
    },
    {
     "data": {
      "application/vnd.jupyter.widget-view+json": {
       "model_id": "6cdccdc4de0245d78e46be4312ad104b",
       "version_major": 2,
       "version_minor": 0
      },
      "text/plain": [
       "HBox(children=(IntProgress(value=1, bar_style='info', max=1), HTML(value='')))"
      ]
     },
     "metadata": {},
     "output_type": "display_data"
    },
    {
     "name": "stdout",
     "output_type": "stream",
     "text": [
      "\n"
     ]
    },
    {
     "name": "stderr",
     "output_type": "stream",
     "text": [
      "WARNING: Logging before flag parsing goes to stderr.\n",
      "W0815 16:44:51.815929 139877655529280 deprecation.py:323] From /home/michael/anaconda3/envs/nbody/lib/python3.7/site-packages/tensorflow/python/data/util/random_seed.py:58: add_dispatch_support.<locals>.wrapper (from tensorflow.python.ops.array_ops) is deprecated and will be removed in a future version.\n",
      "Instructions for updating:\n",
      "Use tf.where in 2.0, which has the same broadcast rule as np.where\n"
     ]
    }
   ],
   "source": [
    "# Create a tiny data set with 100 solar type orbits\n",
    "n_traj = 64\n",
    "ds_tiny_trn, ds_tiny_val, ds_tiny_tst = make_datasets_solar(n_traj=n_traj, vt_split=0.0, \n",
    "                                                               n_years=n_years, sample_freq=sample_freq)"
   ]
  },
  {
   "cell_type": "code",
   "execution_count": 18,
   "metadata": {},
   "outputs": [
    {
     "name": "stdout",
     "output_type": "stream",
     "text": [
      "Unable to load data from ../data/g3b/398004947.pickle.\n"
     ]
    },
    {
     "data": {
      "application/vnd.jupyter.widget-view+json": {
       "model_id": "99358fd08f3b459daac2750740ed5641",
       "version_major": 2,
       "version_minor": 0
      },
      "text/plain": [
       "HBox(children=(IntProgress(value=0, max=10000), HTML(value='')))"
      ]
     },
     "metadata": {},
     "output_type": "display_data"
    },
    {
     "name": "stdout",
     "output_type": "stream",
     "text": [
      "\n"
     ]
    },
    {
     "ename": "KeyboardInterrupt",
     "evalue": "",
     "output_type": "error",
     "traceback": [
      "\u001b[0;31m---------------------------------------------------------------------------\u001b[0m",
      "\u001b[0;31mKeyboardInterrupt\u001b[0m                         Traceback (most recent call last)",
      "\u001b[0;32m<ipython-input-18-2c134de1f7ad>\u001b[0m in \u001b[0;36m<module>\u001b[0;34m\u001b[0m\n\u001b[1;32m      3\u001b[0m \u001b[0;34m\u001b[0m\u001b[0m\n\u001b[1;32m      4\u001b[0m ds_small_trn, ds_small_val, ds_small_tst = make_datasets_solar(n_traj=n_traj, vt_split=vt_split, \n\u001b[0;32m----> 5\u001b[0;31m                                                                n_years=n_years, sample_freq=sample_freq)\n\u001b[0m",
      "\u001b[0;32m~/IACS/n-body/src/g3b_data.py\u001b[0m in \u001b[0;36mmake_datasets_solar\u001b[0;34m(n_traj, vt_split, n_years, sample_freq, batch_size, seed)\u001b[0m\n\u001b[1;32m    618\u001b[0m     return make_datasets_g3b(n_traj=n_traj, vt_split=vt_split, n_years=n_years, sample_freq=sample_freq,\n\u001b[1;32m    619\u001b[0m                              \u001b[0mm_min\u001b[0m\u001b[0;34m=\u001b[0m\u001b[0mm_min\u001b[0m\u001b[0;34m,\u001b[0m \u001b[0mm_max\u001b[0m\u001b[0;34m=\u001b[0m\u001b[0mm_max\u001b[0m\u001b[0;34m,\u001b[0m \u001b[0ma_min\u001b[0m\u001b[0;34m=\u001b[0m\u001b[0ma_min\u001b[0m\u001b[0;34m,\u001b[0m \u001b[0ma_max\u001b[0m\u001b[0;34m=\u001b[0m\u001b[0ma_max\u001b[0m\u001b[0;34m,\u001b[0m \u001b[0me_max\u001b[0m\u001b[0;34m=\u001b[0m\u001b[0me_max\u001b[0m\u001b[0;34m,\u001b[0m \u001b[0minc_max\u001b[0m\u001b[0;34m=\u001b[0m\u001b[0minc_max\u001b[0m\u001b[0;34m,\u001b[0m\u001b[0;34m\u001b[0m\u001b[0;34m\u001b[0m\u001b[0m\n\u001b[0;32m--> 620\u001b[0;31m                              seed=seed, batch_size=batch_size)\n\u001b[0m\u001b[1;32m    621\u001b[0m \u001b[0;34m\u001b[0m\u001b[0m\n\u001b[1;32m    622\u001b[0m \u001b[0;31m# *********************************************************************************************************************\u001b[0m\u001b[0;34m\u001b[0m\u001b[0;34m\u001b[0m\u001b[0;34m\u001b[0m\u001b[0m\n",
      "\u001b[0;32m~/IACS/n-body/src/g3b_data.py\u001b[0m in \u001b[0;36mmake_datasets_g3b\u001b[0;34m(n_traj, vt_split, n_years, sample_freq, m_min, m_max, a_min, a_max, e_max, inc_max, seed, batch_size)\u001b[0m\n\u001b[1;32m    557\u001b[0m         inputs_trn, outputs_trn = make_data_g3b(n_traj=n_traj_trn, n_years=n_years, sample_freq=sample_freq,\n\u001b[1;32m    558\u001b[0m                                                 \u001b[0mm_min\u001b[0m\u001b[0;34m=\u001b[0m\u001b[0mm_min\u001b[0m\u001b[0;34m,\u001b[0m \u001b[0mm_max\u001b[0m\u001b[0;34m=\u001b[0m\u001b[0mm_max\u001b[0m\u001b[0;34m,\u001b[0m \u001b[0ma_min\u001b[0m\u001b[0;34m=\u001b[0m\u001b[0ma_min\u001b[0m\u001b[0;34m,\u001b[0m \u001b[0ma_max\u001b[0m\u001b[0;34m=\u001b[0m\u001b[0ma_max\u001b[0m\u001b[0;34m,\u001b[0m\u001b[0;34m\u001b[0m\u001b[0;34m\u001b[0m\u001b[0m\n\u001b[0;32m--> 559\u001b[0;31m                                                 e_max=e_max, inc_max=inc_max, seed=seed_trn)\n\u001b[0m\u001b[1;32m    560\u001b[0m         inputs_val, outputs_val = make_data_g3b(n_traj=n_traj_val, n_years=n_years, sample_freq=sample_freq,\n\u001b[1;32m    561\u001b[0m                                                 \u001b[0mm_min\u001b[0m\u001b[0;34m=\u001b[0m\u001b[0mm_min\u001b[0m\u001b[0;34m,\u001b[0m \u001b[0mm_max\u001b[0m\u001b[0;34m=\u001b[0m\u001b[0mm_max\u001b[0m\u001b[0;34m,\u001b[0m\u001b[0;34m\u001b[0m\u001b[0;34m\u001b[0m\u001b[0m\n",
      "\u001b[0;32m~/IACS/n-body/src/g3b_data.py\u001b[0m in \u001b[0;36mmake_data_g3b\u001b[0;34m(n_traj, n_years, sample_freq, m_min, m_max, a_min, a_max, e_max, inc_max, seed)\u001b[0m\n\u001b[1;32m    378\u001b[0m         inputs_traj, outputs_traj = make_traj_g3b(m=m0[i], a=orb_a0[i], e=orb_e0[i], inc=orb_inc0[i], \n\u001b[1;32m    379\u001b[0m                                         \u001b[0mOmega\u001b[0m\u001b[0;34m=\u001b[0m\u001b[0morb_Omega0\u001b[0m\u001b[0;34m[\u001b[0m\u001b[0mi\u001b[0m\u001b[0;34m]\u001b[0m\u001b[0;34m,\u001b[0m \u001b[0momega\u001b[0m\u001b[0;34m=\u001b[0m\u001b[0morb_omega0\u001b[0m\u001b[0;34m[\u001b[0m\u001b[0mi\u001b[0m\u001b[0;34m]\u001b[0m\u001b[0;34m,\u001b[0m \u001b[0mf\u001b[0m\u001b[0;34m=\u001b[0m\u001b[0morb_f0\u001b[0m\u001b[0;34m[\u001b[0m\u001b[0mi\u001b[0m\u001b[0;34m]\u001b[0m\u001b[0;34m,\u001b[0m\u001b[0;34m\u001b[0m\u001b[0;34m\u001b[0m\u001b[0m\n\u001b[0;32m--> 380\u001b[0;31m                                         n_years=n_years, sample_freq=sample_freq, integrator=integrator)\n\u001b[0m\u001b[1;32m    381\u001b[0m \u001b[0;34m\u001b[0m\u001b[0m\n\u001b[1;32m    382\u001b[0m         \u001b[0;31m# Copy results into main arrays\u001b[0m\u001b[0;34m\u001b[0m\u001b[0;34m\u001b[0m\u001b[0;34m\u001b[0m\u001b[0m\n",
      "\u001b[0;32m~/IACS/n-body/src/g3b_data.py\u001b[0m in \u001b[0;36mmake_traj_g3b\u001b[0;34m(m, a, e, inc, Omega, omega, f, n_years, sample_freq, integrator)\u001b[0m\n\u001b[1;32m    169\u001b[0m     \u001b[0;32mfor\u001b[0m \u001b[0mi\u001b[0m\u001b[0;34m,\u001b[0m \u001b[0mt\u001b[0m \u001b[0;32min\u001b[0m \u001b[0menumerate\u001b[0m\u001b[0;34m(\u001b[0m\u001b[0mts\u001b[0m\u001b[0;34m)\u001b[0m\u001b[0;34m:\u001b[0m\u001b[0;34m\u001b[0m\u001b[0;34m\u001b[0m\u001b[0m\n\u001b[1;32m    170\u001b[0m         \u001b[0;31m# Integrate to the current time step with an exact finish time\u001b[0m\u001b[0;34m\u001b[0m\u001b[0;34m\u001b[0m\u001b[0;34m\u001b[0m\u001b[0m\n\u001b[0;32m--> 171\u001b[0;31m         \u001b[0msim\u001b[0m\u001b[0;34m.\u001b[0m\u001b[0mintegrate\u001b[0m\u001b[0;34m(\u001b[0m\u001b[0mt\u001b[0m\u001b[0;34m,\u001b[0m \u001b[0mexact_finish_time\u001b[0m\u001b[0;34m=\u001b[0m\u001b[0;36m1\u001b[0m\u001b[0;34m)\u001b[0m\u001b[0;34m\u001b[0m\u001b[0;34m\u001b[0m\u001b[0m\n\u001b[0m\u001b[1;32m    172\u001b[0m \u001b[0;34m\u001b[0m\u001b[0m\n\u001b[1;32m    173\u001b[0m         \u001b[0;31m# Save the position\u001b[0m\u001b[0;34m\u001b[0m\u001b[0;34m\u001b[0m\u001b[0;34m\u001b[0m\u001b[0m\n",
      "\u001b[0;32m~/anaconda3/envs/nbody/lib/python3.7/site-packages/rebound/simulation.py\u001b[0m in \u001b[0;36mintegrate\u001b[0;34m(self, tmax, exact_finish_time)\u001b[0m\n\u001b[1;32m   1549\u001b[0m                 \u001b[0;32mraise\u001b[0m \u001b[0mEscape\u001b[0m\u001b[0;34m(\u001b[0m\u001b[0;34m\"User caused exit. Simulation did not finish.\"\u001b[0m\u001b[0;34m)\u001b[0m \u001b[0;31m# should not occur in python\u001b[0m\u001b[0;34m\u001b[0m\u001b[0;34m\u001b[0m\u001b[0m\n\u001b[1;32m   1550\u001b[0m             \u001b[0;32mif\u001b[0m \u001b[0mret_value\u001b[0m \u001b[0;34m==\u001b[0m \u001b[0;36m6\u001b[0m\u001b[0;34m:\u001b[0m\u001b[0;34m\u001b[0m\u001b[0;34m\u001b[0m\u001b[0m\n\u001b[0;32m-> 1551\u001b[0;31m                 \u001b[0;32mraise\u001b[0m \u001b[0mKeyboardInterrupt\u001b[0m\u001b[0;34m\u001b[0m\u001b[0;34m\u001b[0m\u001b[0m\n\u001b[0m\u001b[1;32m   1552\u001b[0m             \u001b[0;32mif\u001b[0m \u001b[0mret_value\u001b[0m \u001b[0;34m==\u001b[0m \u001b[0;36m7\u001b[0m\u001b[0;34m:\u001b[0m\u001b[0;34m\u001b[0m\u001b[0;34m\u001b[0m\u001b[0m\n\u001b[1;32m   1553\u001b[0m                 \u001b[0;32mraise\u001b[0m \u001b[0mCollision\u001b[0m\u001b[0;34m(\u001b[0m\u001b[0;34m\"Two particles collided (d < r1+r2)\"\u001b[0m\u001b[0;34m)\u001b[0m\u001b[0;34m\u001b[0m\u001b[0;34m\u001b[0m\u001b[0m\n",
      "\u001b[0;31mKeyboardInterrupt\u001b[0m: "
     ]
    }
   ],
   "source": [
    "# Create a medium data set with 10,000 solar type orbits\n",
    "n_traj = 10000\n",
    "\n",
    "ds_small_trn, ds_small_val, ds_small_tst = make_datasets_solar(n_traj=n_traj, vt_split=vt_split, \n",
    "                                                               n_years=n_years, sample_freq=sample_freq)"
   ]
  },
  {
   "cell_type": "code",
   "execution_count": null,
   "metadata": {},
   "outputs": [],
   "source": [
    "# Create a large data set with 50,000 solar type orbits\n",
    "n_traj = 50000\n",
    "\n",
    "ds_large_trn, ds_large_val, ds_large_tst = make_datasets_solar(n_traj=n_traj, vt_split=vt_split, \n",
    "                                                               n_years=n_years, sample_freq=sample_freq)"
   ]
  },
  {
   "cell_type": "markdown",
   "metadata": {},
   "source": [
    "***Generating 14,000 trajectories takes about 52 minutes on my server and uses about 2.68 GB of disk space.***<br>\n",
    "***Generating 70,000 trajectories takes about 265 minutes (4:25) and uses about 13.42 GB of disk space***<br>\n",
    "Pace is about 4.5 trajectories per second. Storage requirements about 145 KB / trajectory.<br>"
   ]
  },
  {
   "cell_type": "markdown",
   "metadata": {},
   "source": [
    "### Review One Example Batch of Training Data"
   ]
  },
  {
   "cell_type": "code",
   "execution_count": 19,
   "metadata": {},
   "outputs": [
    {
     "name": "stdout",
     "output_type": "stream",
     "text": [
      "Input field names:  ['t', 'q0', 'v0', 'm']\n",
      "Output field names: ['q', 'v', 'a', 'orb_a', 'orb_e', 'orb_inc', 'orb_Omega', 'orb_omega', 'orb_f', 'q0_rec', 'v0_rec', 'T', 'U', 'H', 'P', 'L']\n",
      "\n",
      "Example batch sizes:\n",
      "t  = (64, 1001)\n",
      "q0 = (64, 3, 3)\n",
      "v0 = (64, 3, 3)\n",
      "m  = (64, 3)\n",
      "q  = (64, 1001, 3, 3)\n",
      "v  = (64, 1001, 3, 3)\n",
      "a  = (64, 1001, 3, 3)\n",
      "H  = (64, 1001)\n",
      "P  = (64, 1001, 3)\n",
      "L  = (64, 1001, 3)\n"
     ]
    }
   ],
   "source": [
    "# Example batch\n",
    "# batch_in, batch_out = list(ds_small_trn.take(1))[0]\n",
    "batch_in, batch_out = list(ds_tiny_trn.take(1))[0]\n",
    "batch_tiny_in, batch_tiny_out = batch_in, batch_out\n",
    "print('Input field names: ', list(batch_in.keys()))\n",
    "print('Output field names:', list(batch_out.keys()))\n",
    "# inputs\n",
    "t = batch_in['t']\n",
    "q0 = batch_in['q0']\n",
    "v0 = batch_in['v0']\n",
    "m = batch_in['m']\n",
    "# outputs - trajectory\n",
    "q = batch_out['q']\n",
    "v = batch_out['v']\n",
    "a = batch_out['a']\n",
    "q0_rec = batch_out['q0_rec']\n",
    "v0_rec = batch_out['v0_rec']\n",
    "# outputs - orbital elements\n",
    "orb_a = batch_out['orb_a']\n",
    "orb_e = batch_out['orb_e']\n",
    "orb_inc = batch_out['orb_inc']\n",
    "orb_Omega = batch_out['orb_Omega']\n",
    "orb_omega = batch_out['orb_omega']\n",
    "orb_f = batch_out['orb_f']\n",
    "# outputs - physics\n",
    "H = batch_out['H']\n",
    "P = batch_out['P']\n",
    "L = batch_out['L']\n",
    "\n",
    "print(f'\\nExample batch sizes:')\n",
    "print(f't  = {t.shape}')\n",
    "print(f'q0 = {q0.shape}')\n",
    "print(f'v0 = {v0.shape}')\n",
    "print(f'm  = {m.shape}')\n",
    "\n",
    "print(f'q  = {q.shape}')\n",
    "print(f'v  = {v.shape}')\n",
    "print(f'a  = {a.shape}')\n",
    "# print(f'q0_rec = {q0_rec.shape}')\n",
    "# print(f'v0_rec = {v0_rec.shape}')\n",
    "print(f'H  = {H.shape}')\n",
    "print(f'P  = {P.shape}')\n",
    "print(f'L  = {L.shape}')"
   ]
  },
  {
   "cell_type": "markdown",
   "metadata": {},
   "source": [
    "### Custom Keras Layers with Physics Computations of Energy and Angular Momentum\n",
    "\n",
    "The module `g3b.py` contains shared elements used in the general 3 body problem.<br>\n",
    "The layer `KineticEnergy_G3B` computes the kinetic energy of the system given the object masses `m` with shape (3,) and the velocities `v` with shape (traj_size, 3, 3).<br>\n",
    "The kinetetic energy is $T = \\frac{1}{2} \\sum m_i |v_i|^2$ <br>\n",
    "The layer `PotentialEnergy_G3B` computes the potential energy of the system given the masses `m` and the positions `q` with shape (traj_size, 3, 3).  <br>\n",
    "The potential energy \n",
    "$$U = -\\sum_{i<j}{\\frac{G m_i m_j}{r_{ij}}}$$ \n",
    "where $r_{ij} = |q_j - q_i|$. For the 3 body problem there are ${3}\\choose{2} = 3$ interaction pairs.<br>\n",
    "The layer `Momentum_G3B` computes the momentum of the system given its masses `m`, and velocity `v`. This quantity will be constant by conservation of momentum.  In the center of momentum frame adopted by convention, both the momentum and center of mass will be the zero vector.<br>\n",
    "The momentum $P = \\sum m_i v_i$<br>\n",
    "The layer `AngularMomentum_G3B` computes the angular momentum of the system given its masses `m`, position `q` and velocity `v`.<br>\n",
    "The angular momentum $L = \\sum q_i \\times m_i v_i$, the 3D vector cross product.\n",
    "\n",
    "In addition to the custom layers computing the physical quantities, there are also custom loss functions intended to be used with them.<br>\n",
    "The custom loss function `VectorError` returns the relative error \n",
    "$$E = \\frac{|y_{true} - y_{pred}|}{|y_{true}| + R}$$\n",
    "where $R$ is an optional regularization term that defaults to 0.<br>\n",
    "The custom loss function `EnergyError` returns a log scaled squared error\n",
    "$$E = \\log{\\left[1 + \\left(\\frac{y_{pred} - y_{true}}{y_{true}}\\right)^2\\right]}$$\n",
    "The log scaling is introduced so that the error doesn't blow up catastrophically when distance gets too small.  This was causing problems in training when an un-scaled energy error was used."
   ]
  },
  {
   "cell_type": "markdown",
   "metadata": {},
   "source": [
    "**Call layers with physics computations**"
   ]
  },
  {
   "cell_type": "code",
   "execution_count": 20,
   "metadata": {},
   "outputs": [
    {
     "data": {
      "text/plain": [
       "TensorShape([64, 1001])"
      ]
     },
     "execution_count": 20,
     "metadata": {},
     "output_type": "execute_result"
    }
   ],
   "source": [
    "T = KineticEnergy_G3B()([m, v])\n",
    "T.shape"
   ]
  },
  {
   "cell_type": "code",
   "execution_count": 21,
   "metadata": {},
   "outputs": [
    {
     "data": {
      "text/plain": [
       "TensorShape([64, 1001])"
      ]
     },
     "execution_count": 21,
     "metadata": {},
     "output_type": "execute_result"
    }
   ],
   "source": [
    "U = PotentialEnergy_G3B()([m, q])\n",
    "U.shape"
   ]
  },
  {
   "cell_type": "code",
   "execution_count": 22,
   "metadata": {},
   "outputs": [
    {
     "data": {
      "text/plain": [
       "TensorShape([64, 1001, 3])"
      ]
     },
     "execution_count": 22,
     "metadata": {},
     "output_type": "execute_result"
    }
   ],
   "source": [
    "P = Momentum_G3B()([m, v])\n",
    "P.shape"
   ]
  },
  {
   "cell_type": "code",
   "execution_count": 23,
   "metadata": {},
   "outputs": [
    {
     "data": {
      "text/plain": [
       "TensorShape([64, 1001, 3])"
      ]
     },
     "execution_count": 23,
     "metadata": {},
     "output_type": "execute_result"
    }
   ],
   "source": [
    "L = AngularMomentum_G3B()([m, q, v])\n",
    "L.shape"
   ]
  },
  {
   "cell_type": "markdown",
   "metadata": {},
   "source": [
    "## Convert Initial Configuration from Cartesian to Jacobi Coordinates"
   ]
  },
  {
   "cell_type": "code",
   "execution_count": 24,
   "metadata": {},
   "outputs": [],
   "source": [
    "# Compute the Jacobi coordinates of the initial conditions\n",
    "qj0, vj0, mu0 = CartesianToJacobi()([m, q0, v0])"
   ]
  },
  {
   "cell_type": "code",
   "execution_count": 25,
   "metadata": {},
   "outputs": [
    {
     "name": "stdout",
     "output_type": "stream",
     "text": [
      "Shape of q0 : (64, 3, 3)\n",
      "Shape of v0:  (64, 3, 3)\n",
      "Shape of m:   (64, 3)\n",
      "Shape of qj0: (64, 3, 3)\n",
      "Shape of vj0: (64, 3, 3)\n",
      "Shape of mu0: (64, 3)\n"
     ]
    }
   ],
   "source": [
    "# Review shape of Jacobi inputs\n",
    "print(f'Shape of q0 : {q0.shape}')\n",
    "print(f'Shape of v0:  {v0.shape}')\n",
    "print(f'Shape of m:   {m.shape}')\n",
    "\n",
    "# Review shape of Jacobi outputs\n",
    "print(f'Shape of qj0: {qj0.shape}')\n",
    "print(f'Shape of vj0: {vj0.shape}')\n",
    "print(f'Shape of mu0: {mu0.shape}')"
   ]
  },
  {
   "cell_type": "code",
   "execution_count": 26,
   "metadata": {},
   "outputs": [],
   "source": [
    "# qj0[0]"
   ]
  },
  {
   "cell_type": "code",
   "execution_count": 27,
   "metadata": {},
   "outputs": [],
   "source": [
    "# vj0[0]"
   ]
  },
  {
   "cell_type": "code",
   "execution_count": 28,
   "metadata": {},
   "outputs": [
    {
     "name": "stdout",
     "output_type": "stream",
     "text": [
      "RMS Error in q0_rec: 4.772e-07\n",
      "RMS Error in v0_rec: 5.319e-08\n"
     ]
    }
   ],
   "source": [
    "# Check that the round trip back to Cartesian coordinates is consistent\n",
    "q0_rec, v0_rec = JacobiToCartesian()([m, qj0, vj0])\n",
    "\n",
    "# Compute errors\n",
    "rms = lambda x : np.sqrt(np.mean(np.square(x)))\n",
    "\n",
    "err_q0 = q0_rec - q0\n",
    "err_v0 = v0_rec - v0\n",
    "rms_q0 = rms(err_q0)\n",
    "rms_v0 = rms(err_v0)\n",
    "\n",
    "# Display errors\n",
    "print(f'RMS Error in q0_rec: {rms_q0:5.3e}')\n",
    "print(f'RMS Error in v0_rec: {rms_v0:5.3e}')"
   ]
  },
  {
   "cell_type": "markdown",
   "metadata": {},
   "source": [
    "***The round trip between Jacobi to Cartesian coordinates is very accurate***"
   ]
  },
  {
   "cell_type": "markdown",
   "metadata": {},
   "source": [
    "## Convert Jacobi Coordinates to Orbital Elements"
   ]
  },
  {
   "cell_type": "code",
   "execution_count": 29,
   "metadata": {},
   "outputs": [],
   "source": [
    "# Extract Jacobi coordinates of p1 and p2\n",
    "\n",
    "# Initial position qj0\n",
    "qj0_1 = qj0[:, 1, :]\n",
    "vj0_1 = vj0[:, 1, :]\n",
    "\n",
    "# Initial velocity qv0\n",
    "qj0_2 = qj0[:, 2, :]\n",
    "vj0_2 = vj0[:, 2, :]\n",
    "\n",
    "# Gravitational field strength for orbital element conversion of p1 and p2\n",
    "mu0_1 = mu0[:, 1:2]\n",
    "mu0_2 = mu0[:, 2:3]"
   ]
  },
  {
   "cell_type": "code",
   "execution_count": 30,
   "metadata": {},
   "outputs": [],
   "source": [
    "# Tuple of inputs for the model converting from configuration to orbital elements\n",
    "cfg_1 = (qj0_1, vj0_1, mu0_1)\n",
    "cfg_2 = (qj0_2, vj0_2, mu0_2)"
   ]
  },
  {
   "cell_type": "code",
   "execution_count": 31,
   "metadata": {},
   "outputs": [],
   "source": [
    "# Model mapping cartesian coordinates to orbital elements\n",
    "model_c2e = make_model_cfg_to_elt()"
   ]
  },
  {
   "cell_type": "code",
   "execution_count": 32,
   "metadata": {},
   "outputs": [],
   "source": [
    "# Extract the orbital elements of the initial conditions\n",
    "a1_0, e1_0, inc1_0, Omega1_0, omega1_0, f1_0, M1_0, N1_0 = model_c2e(cfg_1)\n",
    "a2_0, e2_0, inc2_0, Omega2_0, omega2_0, f2_0, M2_0, N2_0 = model_c2e(cfg_2)"
   ]
  },
  {
   "cell_type": "markdown",
   "metadata": {},
   "source": [
    "**Position Model: Compute q over time with Orbital Elements and Kepler's Equation**<br>\n",
    "In the next section, we instantiate a mathematical position model."
   ]
  },
  {
   "cell_type": "code",
   "execution_count": 33,
   "metadata": {},
   "outputs": [],
   "source": [
    "n_years = 100\n",
    "sample_freq = 10\n",
    "traj_size = n_years * sample_freq + 1\n",
    "batch_size = 64"
   ]
  },
  {
   "cell_type": "code",
   "execution_count": 34,
   "metadata": {},
   "outputs": [],
   "source": [
    "position_model_math = make_position_model_g3b_math(traj_size=traj_size, batch_size=batch_size)"
   ]
  },
  {
   "cell_type": "code",
   "execution_count": 35,
   "metadata": {},
   "outputs": [],
   "source": [
    "optimizer = keras.optimizers.Adam(learning_rate=1.0E-3)\n",
    "\n",
    "loss_pos = {'q': VectorError(name='q_loss'),\n",
    "            'v': VectorError(name='v_loss'),}\n",
    "\n",
    "metrics = None\n",
    "\n",
    "loss_weights_pos = {'q': 1.0,\n",
    "                    'v': 1.0,}"
   ]
  },
  {
   "cell_type": "code",
   "execution_count": 36,
   "metadata": {},
   "outputs": [],
   "source": [
    "position_model_math.compile(optimizer=optimizer, loss=loss_pos, metrics=metrics, loss_weights=loss_weights_pos)"
   ]
  },
  {
   "cell_type": "code",
   "execution_count": 37,
   "metadata": {},
   "outputs": [
    {
     "name": "stdout",
     "output_type": "stream",
     "text": [
      "\r",
      "1/1 [==============================] - 1s 1s/step - loss: 0.0143 - q_loss: 0.0094 - v_loss: 0.0049\n"
     ]
    },
    {
     "data": {
      "text/plain": [
       "[0.014345470815896988, 0.009423045, 0.004922426]"
      ]
     },
     "execution_count": 37,
     "metadata": {},
     "output_type": "execute_result"
    }
   ],
   "source": [
    "# Test the position model on the tiny data set\n",
    "position_model_math.evaluate(ds_tiny_trn)"
   ]
  },
  {
   "cell_type": "code",
   "execution_count": null,
   "metadata": {},
   "outputs": [],
   "source": [
    "# Test the position model on the example batch; \n",
    "# b/c the tiny set has 100 elements it only has 1 batch when dropping remainders\n",
    "# so the output should be the same as with evaluate(ds_tiny_trn)\n",
    "position_model_math.test_on_batch(batch_in, batch_out)"
   ]
  },
  {
   "cell_type": "code",
   "execution_count": null,
   "metadata": {},
   "outputs": [],
   "source": [
    "# Test the position model on the small data set\n",
    "# position_model_math.evaluate(ds_small_trn)"
   ]
  },
  {
   "cell_type": "code",
   "execution_count": null,
   "metadata": {},
   "outputs": [],
   "source": [
    "q_pos, v_pos = position_model_math([t, q0, v0, m])\n",
    "print('shape of position_model outputs:')\n",
    "print(f'q_pos: {q_pos.shape}')\n",
    "print(f'v_pos: {v_pos.shape}')"
   ]
  },
  {
   "cell_type": "code",
   "execution_count": null,
   "metadata": {},
   "outputs": [],
   "source": [
    "# position_model_math({'t':t, 'q0':q0, 'v0':v0, 'm':m})\n",
    "# position_model_math([batch_tiny_in['t'], batch_tiny_in['q0'], batch_tiny_in['v0'], batch_tiny_in['m'])"
   ]
  },
  {
   "cell_type": "code",
   "execution_count": null,
   "metadata": {},
   "outputs": [],
   "source": [
    "# Compute RMS error in recovered position\n",
    "num_body=3\n",
    "q_err = q_pos - q\n",
    "q_rms_err = rms(q_err)\n",
    "q_rel_err = q_err / np.reshape(np.linalg.norm(q, axis=-1), (batch_size, traj_size, num_body, 1))\n",
    "q_rms_rel_err = rms(q_rel_err)\n",
    "print(f'Position RMS error: {q_rms_err:5.2e}')\n",
    "# print(f'Position RMS relative error:{q_rms_rel_err:5.2e}')"
   ]
  },
  {
   "cell_type": "code",
   "execution_count": null,
   "metadata": {},
   "outputs": [],
   "source": [
    "# Compute RMS error in recovered initial position; should be nearly zero\n",
    "q0_err = np.linalg.norm(q_err[:,0,:,:], axis=(1,2,))\n",
    "# Index with max error\n",
    "idx = np.argmax(q0_err)\n",
    "\n",
    "# Print error\n",
    "print(f'RMS Error in q0: {rms(q0_err):5.2e}')\n",
    "print(f'Max error at index {idx} = {q0_err[idx]:9.6f}')\n",
    "q0_err"
   ]
  },
  {
   "cell_type": "code",
   "execution_count": null,
   "metadata": {},
   "outputs": [],
   "source": [
    "# Print initial orbital elements with worst error\n",
    "print(f'Initial orbital elements')\n",
    "print('m:    ', m[idx].numpy())\n",
    "print('a:    ', orb_a[idx, 0].numpy())\n",
    "print('e:    ', orb_e[idx, 0].numpy())\n",
    "print('inc:  ', orb_inc[idx, 0].numpy())\n",
    "print('Omega:', orb_Omega[idx, 0].numpy())\n",
    "print('omega:', orb_omega[idx, 0].numpy())\n",
    "print('f:    ', orb_f[idx, 0].numpy())"
   ]
  },
  {
   "cell_type": "markdown",
   "metadata": {},
   "source": [
    "**Motion Model: Compute v and a from q using automatic differentiation**<br>\n",
    "In the next section, we instantiate a motion model using mathematical position model."
   ]
  },
  {
   "cell_type": "code",
   "execution_count": null,
   "metadata": {},
   "outputs": [],
   "source": [
    "motion_model_math = Motion_G3B(position_model=position_model_math, name='motion_model')"
   ]
  },
  {
   "cell_type": "code",
   "execution_count": null,
   "metadata": {},
   "outputs": [],
   "source": [
    "q_mot, v_mot, a_mot = motion_model_math([t, q0, v0, m])\n",
    "print('shape of motion_model outputs:')\n",
    "print(f'q_mot: {q_mot.shape}')\n",
    "print(f'v_mot: {v_mot.shape}')\n",
    "print(f'a_mot: {a_mot.shape}')"
   ]
  },
  {
   "cell_type": "code",
   "execution_count": null,
   "metadata": {},
   "outputs": [],
   "source": [
    "# Compare v_mot with v_pos\n",
    "vel_err = v_mot - v_pos\n",
    "\n",
    "# Compute RMS error\n",
    "v_rms_err = np.sqrt(np.mean(vel_err**2))\n",
    "v_rel_err = v_rms_err / np.sqrt(np.mean(v_pos**2))\n",
    "print(f'RMS error of recovered velocity from automatic differentiation vs. orbital elements:')\n",
    "print(f'{v_rms_err:5.2E}')\n",
    "print(f'Relative error of recovered velocity from automatic differentiation vs. orbital elements:')\n",
    "print(f'{v_rel_err:5.2E}')"
   ]
  },
  {
   "cell_type": "markdown",
   "metadata": {},
   "source": [
    "**Full physics model: computes energy, momentum and angular momentum from m, q, v**<br>\n",
    "In the next section, we instantiate a full physics model from the same mathematical position model.<br>\n",
    "This model is evloving the G3B system using Kepler's Equation and computing the physical quantities.\n",
    "It is an approximate solution only that treats the 3 body system as two 2 body systems described in Jacobi coordinates.\n",
    "Body 1 orbits around the primary in the first system.  Body 2 orbits around the center of mass of body 1 in the second system.  The second system is simplified by replacing the primary and body 1 with their combined center of mass."
   ]
  },
  {
   "cell_type": "code",
   "execution_count": null,
   "metadata": {},
   "outputs": [],
   "source": [
    "# model_math = make_physics_model_g3b(position_model=position_model_math, traj_size=traj_size)"
   ]
  },
  {
   "cell_type": "code",
   "execution_count": null,
   "metadata": {},
   "outputs": [],
   "source": [
    "model_math = make_model_g3b_math(traj_size=traj_size)"
   ]
  },
  {
   "cell_type": "markdown",
   "metadata": {},
   "source": [
    "## Review outputs of math model"
   ]
  },
  {
   "cell_type": "code",
   "execution_count": null,
   "metadata": {},
   "outputs": [],
   "source": [
    "q, v, a, q0_rec, v0_rec, H, P, L = model_math([t, q0, v0, m])\n",
    "print(f'model output shapes:')\n",
    "print(f'q = {q.shape}')\n",
    "print(f'v = {v.shape}')\n",
    "print(f'a = {a.shape}')\n",
    "print(f'q0_rec = {q0_rec.shape}')\n",
    "print(f'v0_rec = {v0_rec.shape}')\n",
    "print(f'H = {H.shape}')\n",
    "print(f'P = {P.shape}')\n",
    "print(f'L = {L.shape}')"
   ]
  },
  {
   "cell_type": "code",
   "execution_count": null,
   "metadata": {},
   "outputs": [],
   "source": [
    "optimizer = keras.optimizers.Adam(learning_rate=1.0E-3)\n",
    "\n",
    "loss = {'q': VectorError(name='q_loss'),\n",
    "        'v': VectorError(name='v_loss'),\n",
    "        'a': VectorError(regularizer=1.0, name='a_loss'),\n",
    "        'q0_rec': VectorError(name='q0_loss'),\n",
    "        'v0_rec': VectorError(name='v0_loss'),\n",
    "        'H': EnergyError(name='H_loss'),\n",
    "        'P': VectorError(name='P_loss', regularizer=1.0),\n",
    "        'L': VectorError(name='L_loss'),\n",
    "       }\n",
    "\n",
    "metrics = None\n",
    "\n",
    "loss_weights = {'q': 1.0,\n",
    "                'v': 1.0,\n",
    "                'a': 1.0,\n",
    "                'q0_rec': 1.0,\n",
    "                'v0_rec': 1.0,\n",
    "                'H': 1.0,\n",
    "                'P': 1.0,\n",
    "                'L': 1.0}"
   ]
  },
  {
   "cell_type": "code",
   "execution_count": null,
   "metadata": {},
   "outputs": [],
   "source": [
    "# Compile the mathematical model\n",
    "model_math.compile(optimizer=optimizer, loss=loss, metrics=metrics, loss_weights=loss_weights)"
   ]
  },
  {
   "cell_type": "code",
   "execution_count": null,
   "metadata": {},
   "outputs": [],
   "source": [
    "# Evaluate the math model on the small data set\n",
    "model_math.evaluate(ds_small_trn)"
   ]
  },
  {
   "cell_type": "markdown",
   "metadata": {},
   "source": [
    "### Debug Position Model Code\n",
    "Why is doesn't recovered q0 and v0 match the initial conditions?"
   ]
  },
  {
   "cell_type": "code",
   "execution_count": null,
   "metadata": {},
   "outputs": [],
   "source": [
    "# Data for sol, earth, jupiter 3 body problem\n",
    "m = np.array([1.0, 1.0E-6, 1.0E-3])\n",
    "# m = np.array([1.0, 1.0E-2, 1.0E-2])\n",
    "# m = np.array([1.0, 1.0E-6, 1.0E-6])\n",
    "a = np.array([1.00000, 5.2029])\n",
    "e = np.array([0.0167, 0.0484])\n",
    "# inc = np.radians([0.0000, 1.3044])\n",
    "inc = np.radians([0.0001, 1.3044])\n",
    "Omega = np.radians([0.00, 100.47])\n",
    "omega = np.radians([102.94, 14.73]) - Omega\n",
    "f = np.radians([100.46, 34.40]) - Omega\n",
    "n_years = 100\n",
    "sample_freq = 10"
   ]
  },
  {
   "cell_type": "code",
   "execution_count": null,
   "metadata": {},
   "outputs": [],
   "source": [
    "# Create a tiny data set with 64 solar type orbits\n",
    "n_traj = 64\n",
    "ds_tiny_trn, ds_tiny_val, ds_tiny_tst = make_datasets_solar(n_traj=n_traj, vt_split=0.0, \n",
    "                                                               n_years=n_years, sample_freq=sample_freq)"
   ]
  },
  {
   "cell_type": "code",
   "execution_count": null,
   "metadata": {},
   "outputs": [],
   "source": [
    "batch_tiny_in, batch_tiny_out = list(ds_tiny_trn.take(1))[0]"
   ]
  },
  {
   "cell_type": "code",
   "execution_count": null,
   "metadata": {},
   "outputs": [],
   "source": [
    "position_model_math.test_on_batch(batch_tiny_in, batch_tiny_out)"
   ]
  },
  {
   "cell_type": "code",
   "execution_count": null,
   "metadata": {},
   "outputs": [],
   "source": [
    "q_pos, v_pos = position_model_math([batch_tiny_in['t'], batch_tiny_in['q0'], batch_tiny_in['v0'], batch_tiny_in['m']])"
   ]
  },
  {
   "cell_type": "code",
   "execution_count": null,
   "metadata": {},
   "outputs": [],
   "source": [
    "q_err = q_pos - batch_tiny_out['q']"
   ]
  },
  {
   "cell_type": "code",
   "execution_count": null,
   "metadata": {},
   "outputs": [],
   "source": [
    "rms = lambda x : np.sqrt(np.mean(np.square(x)))"
   ]
  },
  {
   "cell_type": "code",
   "execution_count": null,
   "metadata": {},
   "outputs": [],
   "source": [
    "# Compute RMS error in recovered initial position; should be nearly zero\n",
    "q0_err = np.linalg.norm(q_err[:,0,:,:], axis=(1,2,))\n",
    "# Index with max error\n",
    "idx = np.argmax(q0_err)\n",
    "\n",
    "# Print error\n",
    "print(f'RMS Error in q0: {rms(q0_err):5.2e}')\n",
    "print(f'Max error at index {idx} = {q0_err[idx]:9.6f}')\n",
    "q0_err"
   ]
  },
  {
   "cell_type": "code",
   "execution_count": null,
   "metadata": {},
   "outputs": [],
   "source": [
    "# import pickle\n",
    "\n",
    "# filename = '../data/g3b/881911622.pickle'\n",
    "# with open(filename, 'rb') as fh:\n",
    "#     vartbl_ = pickle.load(fh)\n",
    "#     inputs_trn = vartbl_['inputs_trn']\n",
    "#     outputs_trn = vartbl_['outputs_trn']\n",
    "#     inputs_val = vartbl_['inputs_val']\n",
    "#     outputs_val = vartbl_['outputs_val']\n",
    "#     inputs_tst = vartbl_['inputs_tst']\n",
    "#     outputs_tst = vartbl_['outputs_tst']\n",
    "#     print(f'Loaded data from {filename}.')\n",
    "#     # data  = (inputs_trn, outputs_trn, inputs_val, outputs_val, inputs_tst, outputs_tst)\n",
    "    \n",
    "# batch_tiny_in, batch_tiny_out = inputs_trn, outputs_trn"
   ]
  },
  {
   "cell_type": "code",
   "execution_count": null,
   "metadata": {},
   "outputs": [],
   "source": [
    "# Data for 3 body problem with highest error in tiny batch\n",
    "m = batch_tiny_in['m'][idx]\n",
    "a = batch_tiny_out['orb_a'][idx,0]\n",
    "e = batch_tiny_out['orb_e'][idx,0]\n",
    "inc = batch_tiny_out['orb_inc'][idx,0]\n",
    "Omega = batch_tiny_out['orb_Omega'][idx,0]\n",
    "omega = batch_tiny_out['orb_omega'][idx,0]\n",
    "f = batch_tiny_out['orb_f'][idx,0]\n",
    "integrator = 'ias15'"
   ]
  },
  {
   "cell_type": "code",
   "execution_count": null,
   "metadata": {},
   "outputs": [],
   "source": [
    "# One trajectory\n",
    "inputs_traj, outputs_traj = make_traj_g3b(m=m, a=a, e=e, inc=inc, Omega=Omega, omega=omega, f=f, \n",
    "                                          n_years=n_years, sample_freq=sample_freq, integrator=integrator)\n",
    "\n",
    "# Batch with clones of this system\n",
    "batch_in, batch_out = traj_to_batch(inputs_traj, outputs_traj, batch_size)"
   ]
  },
  {
   "cell_type": "code",
   "execution_count": null,
   "metadata": {},
   "outputs": [],
   "source": [
    "# Expected values\n",
    "orb_in_a0 = a\n",
    "orb_in_e0 = e\n",
    "orb_in_inc0 = inc\n",
    "orb_in_Omega0 = Omega\n",
    "orb_in_omega0 = omega\n",
    "orb_in_f0 = f\n",
    "\n",
    "# print(f'Input orbital elements for earth and jupiter:')\n",
    "print(f'Input orbital elements for test system with idx={idx}:')\n",
    "print(f'm    = [{m[1]:10.8e}, {m[2]:10.8e}]')\n",
    "print(f'a    = [{a[0]: 8.6f}, {a[1]: 8.6f}]')\n",
    "print(f'e    = [{e[0]: 8.6f}, {e[1]: 8.6f}]')\n",
    "print(f'inc  = [{inc[0]: 8.6f}, {inc[1]: 8.6f}]')\n",
    "print(f'Omega= [{Omega[0]:+8.6f}, {Omega[1]:+8.6f}]')\n",
    "print(f'omega= [{omega[0]:+8.6f}, {omega[1]:+8.6f}]')\n",
    "print(f'f    = [{f[0]:+8.6f}, {f[1]:+8.6f}]')"
   ]
  },
  {
   "cell_type": "code",
   "execution_count": null,
   "metadata": {},
   "outputs": [],
   "source": [
    "position_model_math.test_on_batch(batch_tiny_in, batch_tiny_out)"
   ]
  },
  {
   "cell_type": "code",
   "execution_count": null,
   "metadata": {},
   "outputs": [],
   "source": [
    "position_model_math.test_on_batch(batch_in, batch_out)"
   ]
  },
  {
   "cell_type": "markdown",
   "metadata": {},
   "source": [
    "**Why is error on [batch_in, batch_out] smaller than [batch_tiny_in, batch_tiny_out]?**<br>\n",
    "batch_ is supposed to be 64 copies of the row with the largest error in batch_tiny_.  The error should be larger...<br>\n",
    "Compare contents of the arrays to see what's going on."
   ]
  },
  {
   "cell_type": "code",
   "execution_count": null,
   "metadata": {},
   "outputs": [],
   "source": [
    "print(f'Norm of difference between batch_tiny_in and batch_in')\n",
    "for var in ['t', 'q0', 'v0', 'm']:\n",
    "    diff = np.linalg.norm(batch_in[var][idx] - batch_tiny_in[var][idx])\n",
    "    print(f'{var:5}: {diff:5.3e}')"
   ]
  },
  {
   "cell_type": "code",
   "execution_count": null,
   "metadata": {},
   "outputs": [],
   "source": [
    "print(f'Norm of difference between batch_tiny_out and batch_out')\n",
    "for var in ['q', 'v']:\n",
    "    diff = np.linalg.norm(batch_out[var][idx] - batch_tiny_out[var][idx])\n",
    "    print(f'{var:5}: {diff:5.3e}')"
   ]
  },
  {
   "cell_type": "code",
   "execution_count": null,
   "metadata": {},
   "outputs": [],
   "source": [
    "diff = (batch_in['m'][idx] - batch_tiny_in['m'][idx].numpy())\n",
    "print(f'm:')\n",
    "print('batch_in     \\n', batch_in['m'][idx])\n",
    "print('batch_tiny_in\\n', batch_tiny_in['m'][idx].numpy())\n",
    "print('diff\\n', diff)"
   ]
  },
  {
   "cell_type": "code",
   "execution_count": null,
   "metadata": {},
   "outputs": [],
   "source": [
    "diff = (batch_in['q0'][idx] - batch_tiny_in['q0'][idx].numpy())\n",
    "print(f'q0:')\n",
    "print('batch_in     \\n', batch_in['q0'][idx])\n",
    "print('batch_tiny_in\\n', batch_tiny_in['q0'][idx].numpy())\n",
    "print('diff\\n', diff)"
   ]
  },
  {
   "cell_type": "code",
   "execution_count": null,
   "metadata": {},
   "outputs": [],
   "source": [
    "# batch_in['q0'][0]"
   ]
  },
  {
   "cell_type": "code",
   "execution_count": null,
   "metadata": {},
   "outputs": [],
   "source": [
    "# batch_tiny_in['q0'][idx]"
   ]
  },
  {
   "cell_type": "code",
   "execution_count": null,
   "metadata": {},
   "outputs": [],
   "source": [
    "# batch_tiny_in['q0'][idx] - batch_in['q0'][0]"
   ]
  },
  {
   "cell_type": "markdown",
   "metadata": {},
   "source": [
    "**Check center of mass by hand**"
   ]
  },
  {
   "cell_type": "code",
   "execution_count": null,
   "metadata": {},
   "outputs": [],
   "source": [
    "batch_in['q0'][0,:,0] * batch_in['m'][0]"
   ]
  },
  {
   "cell_type": "code",
   "execution_count": null,
   "metadata": {},
   "outputs": [],
   "source": [
    "np.sum(batch_in['q0'][0,:,0] * batch_in['m'][0])"
   ]
  },
  {
   "cell_type": "code",
   "execution_count": null,
   "metadata": {},
   "outputs": [],
   "source": [
    "(batch_tiny_in['q0'][idx,:,0] * batch_tiny_in['m'][idx])"
   ]
  },
  {
   "cell_type": "code",
   "execution_count": null,
   "metadata": {},
   "outputs": [],
   "source": [
    "np.sum(batch_tiny_in['q0'][idx,:,0] * batch_tiny_in['m'][idx])"
   ]
  },
  {
   "cell_type": "markdown",
   "metadata": {},
   "source": [
    "Check that orbital elements match:"
   ]
  },
  {
   "cell_type": "code",
   "execution_count": null,
   "metadata": {},
   "outputs": [],
   "source": [
    "batch_tiny_out['orb_a'][idx,0] - batch_out['orb_a'][0,0]"
   ]
  },
  {
   "cell_type": "code",
   "execution_count": null,
   "metadata": {},
   "outputs": [],
   "source": [
    "batch_tiny_out['orb_e'][idx,0] - batch_out['orb_e'][0,0]"
   ]
  },
  {
   "cell_type": "code",
   "execution_count": null,
   "metadata": {},
   "outputs": [],
   "source": [
    "batch_tiny_out['orb_inc'][idx,0] - batch_out['orb_inc'][0,0]"
   ]
  },
  {
   "cell_type": "code",
   "execution_count": null,
   "metadata": {},
   "outputs": [],
   "source": [
    "batch_tiny_out['orb_Omega'][idx,0] - batch_out['orb_Omega'][0,0]"
   ]
  },
  {
   "cell_type": "code",
   "execution_count": null,
   "metadata": {},
   "outputs": [],
   "source": [
    "batch_tiny_out['orb_omega'][idx,0] - batch_out['orb_omega'][0,0]"
   ]
  },
  {
   "cell_type": "code",
   "execution_count": null,
   "metadata": {},
   "outputs": [],
   "source": [
    "batch_tiny_out['orb_f'][idx,0] - batch_out['orb_f'][0,0]"
   ]
  },
  {
   "cell_type": "markdown",
   "metadata": {},
   "source": [
    "**Compare Output Trajectories**"
   ]
  },
  {
   "cell_type": "code",
   "execution_count": null,
   "metadata": {},
   "outputs": [],
   "source": [
    "j=0\n",
    "norm_q0 = np.linalg.norm(batch_tiny_out['q'][idx] - batch_out['q'][idx])\n",
    "print(f'{norm_q0:5.2e}')\n",
    "print(batch_tiny_out['q'][idx,j] - batch_out['q'][idx,j])"
   ]
  },
  {
   "cell_type": "code",
   "execution_count": null,
   "metadata": {},
   "outputs": [],
   "source": [
    "j=100\n",
    "norm_v0 = np.linalg.norm(batch_tiny_out['v'][idx] - batch_out['v'][idx])\n",
    "print(f'{norm_v0:5.2e}')\n",
    "print(batch_tiny_out['v'][idx,j] - batch_out['v'][idx,j])"
   ]
  },
  {
   "cell_type": "markdown",
   "metadata": {},
   "source": [
    "**Live call to make_data_g3b**"
   ]
  },
  {
   "cell_type": "code",
   "execution_count": null,
   "metadata": {},
   "outputs": [],
   "source": [
    "batch_2_in, batch_2_out = make_data_g3b(n_traj=64, n_years=n_years, sample_freq=sample_freq, \n",
    "                                        m_min=1.0E-7, m_max=2.0E-3, a_min=0.50, a_max=32.0, e_max=0.20, inc_max=0.04, seed=42)"
   ]
  },
  {
   "cell_type": "code",
   "execution_count": null,
   "metadata": {},
   "outputs": [],
   "source": [
    "batch_2_in['m'][0]"
   ]
  },
  {
   "cell_type": "code",
   "execution_count": null,
   "metadata": {},
   "outputs": [],
   "source": [
    "batch_2_in['q0'][idx]"
   ]
  },
  {
   "cell_type": "code",
   "execution_count": null,
   "metadata": {},
   "outputs": [],
   "source": [
    "batch_2_in['q0'][0,:,0] * batch_2_in['m'][0]"
   ]
  },
  {
   "cell_type": "code",
   "execution_count": null,
   "metadata": {},
   "outputs": [],
   "source": [
    "np.sum(batch_2_in['q0'][0,:,0] * batch_2_in['m'][0])"
   ]
  },
  {
   "cell_type": "code",
   "execution_count": null,
   "metadata": {},
   "outputs": [],
   "source": [
    "# Alias to arrays in batches\n",
    "t = batch_in['t']\n",
    "q0 = batch_in['q0']\n",
    "v0 = batch_in['v0']\n",
    "m = batch_in['m']\n",
    "\n",
    "q = batch_out['q']\n",
    "v = batch_out['v']\n",
    "a = batch_out['a']\n",
    "q0_rec = batch_out['q0_rec']\n",
    "v0_rec = batch_out['v0_rec']\n",
    "H = batch_out['H']\n",
    "P = batch_out['P']\n",
    "L = batch_out['L']"
   ]
  },
  {
   "cell_type": "code",
   "execution_count": null,
   "metadata": {},
   "outputs": [],
   "source": [
    "# Alias arrays with model outputs\n",
    "q_out, v_out = position_model_math([t, q0, v0, m])"
   ]
  },
  {
   "cell_type": "code",
   "execution_count": null,
   "metadata": {},
   "outputs": [],
   "source": [
    "# q0[0]"
   ]
  },
  {
   "cell_type": "code",
   "execution_count": null,
   "metadata": {},
   "outputs": [],
   "source": [
    "# q_out[0, 0]"
   ]
  },
  {
   "cell_type": "code",
   "execution_count": null,
   "metadata": {},
   "outputs": [],
   "source": [
    "q0_err = q_out[0, 0] - q0[0]\n",
    "print(f'Error in q0: rms = {rms(q0_err):5.2e}')\n",
    "print(q0_err.numpy())"
   ]
  },
  {
   "cell_type": "code",
   "execution_count": null,
   "metadata": {},
   "outputs": [],
   "source": [
    "v0_err = v_out[0, 0] - v0[0]\n",
    "print(f'Error in v0: rms = {rms(v0_err):5.2e}')\n",
    "print(v0_err.numpy())"
   ]
  },
  {
   "cell_type": "markdown",
   "metadata": {},
   "source": [
    "**The initial position q0 and velocity v0 are recovered to order 1E-7**"
   ]
  },
  {
   "cell_type": "code",
   "execution_count": null,
   "metadata": {},
   "outputs": [],
   "source": [
    "q_err = q_out[0] - q[0]\n",
    "q_err_ts = np.linalg.norm(q_err, axis=(1,2,))\n",
    "q_err_mean = np.linalg.norm(q_err)/traj_size\n",
    "print(f'RMS position error: {q_err_mean:5.2e}')\n",
    "print('Time series of errors in q:')\n",
    "for x in q_err_ts[0:101:10]:\n",
    "    print(f'{x:5.2e}', end=', ')"
   ]
  },
  {
   "cell_type": "code",
   "execution_count": null,
   "metadata": {},
   "outputs": [],
   "source": [
    "v_err = v_out[0] - v[0]\n",
    "v_err_ts = np.linalg.norm(v_err, axis=(1,2,))\n",
    "v_err_mean = np.linalg.norm(v_err)/traj_size\n",
    "print(f'RMS velocity error: {v_err_mean:5.2e}')\n",
    "print('Time series of errors in v:')\n",
    "for x in v_err_ts[0:101:10]:\n",
    "    print(f'{x:5.2e}', end=', ')"
   ]
  },
  {
   "cell_type": "markdown",
   "metadata": {},
   "source": [
    "**Summary of Accuracy for earth-jupiter type systems as masses vary:**<br>\n",
    "When the mass is small (e.g. 1E-6 on both planets), 100 years of simulations is very accurate.<br>\n",
    "Mean position error is 1.78E-6; accuracy trend is 5.6E-7 to 1.2E-5.<br>\n",
    "When the mass is large (e.g. 1E-2 on both planets), 100 years of simulations have declining accuracy, but are still quite close. <br>\n",
    "Mean position error is 4.15E-3; accuracy trend is 7.2E-7 to 2.5E-2.<br>\n",
    "With approximate solar system values (1E-3, 1E-6), 100 years of simulation are a good approximation.<br>\n",
    "Mean position error is 2.53E-4; accuracy trend 1.23E-6 to 1.42E-3."
   ]
  },
  {
   "cell_type": "markdown",
   "metadata": {},
   "source": [
    "### Deep dive into position model"
   ]
  },
  {
   "cell_type": "code",
   "execution_count": null,
   "metadata": {},
   "outputs": [],
   "source": [
    "batch_size=64\n",
    "space_dims=3\n",
    "\n",
    "# Wrap these up into one tuple of inputs for the model\n",
    "inputs = (t, q0, v0, m)\n",
    "\n",
    "# Compute the Jacobi coordinates of the initial conditions\n",
    "qj0, vj0, mu0 = CartesianToJacobi()([m, q0, v0])\n",
    "\n",
    "# Extract Jacobi coordinates of p1 and p2\n",
    "qj0_1 = qj0[:, 1, :]\n",
    "qj0_2 = qj0[:, 2, :]\n",
    "vj0_1 = vj0[:, 1, :]\n",
    "vj0_2 = vj0[:, 2, :]\n",
    "\n",
    "# Extract gravitational field strength for orbital element conversion of p1 and p2\n",
    "mu0_1 = mu0[:, 1:2]\n",
    "mu0_2 = mu0[:, 2:3]\n",
    "\n",
    "# Manually set the shapes to work around documented bug on slices losing shape info\n",
    "jacobi_shape = (batch_size, space_dims)\n",
    "qj0_1.set_shape(jacobi_shape)\n",
    "qj0_2.set_shape(jacobi_shape)\n",
    "vj0_1.set_shape(jacobi_shape)\n",
    "vj0_1.set_shape(jacobi_shape)\n",
    "mu_shape = (batch_size, 1)\n",
    "mu0_1.set_shape(mu_shape)\n",
    "mu0_2.set_shape(mu_shape)\n",
    "\n",
    "# Tuple of inputs for the model converting from configuration to orbital elements\n",
    "cfg_1 = (qj0_1, vj0_1, mu0_1)\n",
    "cfg_2 = (qj0_2, vj0_2, mu0_2)\n",
    "\n",
    "# Print initial configuration\n",
    "print(f'Initial Configuration (Jacobi coordinates)')\n",
    "print(f'qj0_1 = {qj0_1[0]}')\n",
    "print(f'vj0_1 = {vj0_1[0]}')\n",
    "\n",
    "# Model mapping cartesian coordinates to orbital elements\n",
    "# model_c2e = make_model_cfg_to_elt()\n",
    "model_c2e_1 = make_model_cfg_to_elt()\n",
    "model_c2e_2 = make_model_cfg_to_elt()\n",
    "\n",
    "# Extract the orbital elements of the initial conditions\n",
    "a1_0, e1_0, inc1_0, Omega1_0, omega1_0, f1_0, M1_0, N1_0 = model_c2e_1(cfg_1)\n",
    "a2_0, e2_0, inc2_0, Omega2_0, omega2_0, f2_0, M2_0, N2_0 = model_c2e_2(cfg_2)\n",
    "\n",
    "# Extract the orbital elements of the initial conditions\n",
    "a1_0, e1_0, inc1_0, Omega1_0, omega1_0, f1_0, M1_0, N1_0 = model_c2e(cfg_1)\n",
    "a2_0, e2_0, inc2_0, Omega2_0, omega2_0, f2_0, M2_0, N2_0 = model_c2e(cfg_2)\n",
    "\n",
    "# Assemble initial orbital elements\n",
    "orb_a0 = np.hstack([a1_0, a2_0])\n",
    "orb_e0 = np.hstack([e1_0, e2_0])\n",
    "orb_inc0 = np.hstack([inc1_0, inc2_0])\n",
    "orb_Omega0 = np.hstack([Omega1_0, Omega2_0])\n",
    "orb_omega0 = np.hstack([omega1_0, omega2_0])\n",
    "orb_f0 = np.hstack([f1_0, f2_0])\n",
    "# orb_mu = G_ * np.cumsum(m[0:2])\n",
    "\n",
    "# Print input elements\n",
    "print(f'\\nInput orbital elements')\n",
    "print(f'a1={orb_in_a0[0]:6.4f}, e1={orb_in_e0[0]:6.4f}, inc1={orb_in_inc0[0]:6.4f}, '\n",
    "      f'Omega1={orb_in_Omega0[0]:7.4f}, omega1={orb_in_omega0[0]:7.4f}, f1={orb_in_f0[0]:7.4f}')\n",
    "print(f'a2={orb_in_a0[1]:6.4f}, e2={orb_in_e0[1]:6.4f}, inc2={orb_in_inc0[1]:6.4f}, '\n",
    "      f'Omega2={orb_in_Omega0[1]:7.4f}, omega2={orb_in_omega0[1]:7.4f}, f2={orb_in_f0[1]:7.4f}')\n",
    "\n",
    "# Print initial elements\n",
    "print(f'\\nInitial orbital elements:')\n",
    "print(f'a1={a1_0[0,0]:6.4f}, e1={e1_0[0,0]:6.4f}, inc1={inc1_0[0,0]:6.4f}, '\n",
    "      f'Omega1={Omega1_0[0,0]:6.4f}, omega1={omega1_0[0,0]:6.4f}, f1={f1_0[0,0]:6.4f}, '\n",
    "      f'M1_0={M1_0[0,0]:6.4f}')\n",
    "print(f'a2={a2_0[0,0]:6.4f}, e2={e2_0[0,0]:6.4f}, inc2={inc2_0[0,0]:6.4f}, '\n",
    "      f'Omega2={Omega2_0[0,0]:6.4f}, omega2={omega2_0[0,0]:6.4f}, f2={f2_0[0,0]:6.4f} '\n",
    "      f'M2_0={M2_0[0,0]:6.4f}')\n",
    "\n",
    "# Difference between calculated and expected\n",
    "diff_a = orb_a0[0] - orb_in_a0\n",
    "diff_e = orb_e0[0] - orb_in_e0\n",
    "diff_inc = orb_inc0[0] - orb_in_inc0\n",
    "diff_Omega = orb_Omega0[0] - orb_in_Omega0\n",
    "diff_omega = orb_omega0[0] - orb_in_omega0\n",
    "diff_f = orb_f0[0] - orb_in_f0\n",
    "\n",
    "# Print differences\n",
    "print(f'\\nDifference between recovered and input orbital elements:')\n",
    "print(f'a    : {diff_a}')\n",
    "print(f'e    : {diff_e}')\n",
    "print(f'inc  : {diff_inc}')\n",
    "print(f'Omega: {diff_Omega}')\n",
    "print(f'omega: {diff_omega}')\n",
    "print(f'f    : {diff_f}')\n",
    "\n",
    "# Alias mu0_i for naming consistency\n",
    "mu1_0 = mu0_1\n",
    "mu2_0 = mu0_2\n",
    "\n",
    "# Reshape t to (batch_size, traj_size, 1)\n",
    "t_vec = keras.layers.Reshape(target_shape=(traj_size, 1), name='t_vec')(t)\n",
    "\n",
    "# ******************************************************************\n",
    "# Predict orbital elements for Jacobi coordinates of body 1\n",
    "\n",
    "# Repeat the constant orbital elements to be vectors of shape (batch_size, traj_size)\n",
    "a1 = keras.layers.RepeatVector(n=traj_size, name='a1')(a1_0)\n",
    "e1 = keras.layers.RepeatVector(n=traj_size, name='e1')(e1_0)\n",
    "inc1 = keras.layers.RepeatVector(n=traj_size, name='inc1')(inc1_0)\n",
    "Omega1 = keras.layers.RepeatVector(n=traj_size, name='Omega1')(Omega1_0)\n",
    "omega1 = keras.layers.RepeatVector(n=traj_size, name='omega1')(omega1_0)\n",
    "mu1 = keras.layers.RepeatVector(n=traj_size, name='mu1')(mu1_0)\n",
    "\n",
    "# Repeat initial mean anomaly M0 and mean motion N0 to match shape of outputs\n",
    "M1_0_vec = keras.layers.RepeatVector(n=traj_size, name='M1_0_vec')(M1_0)\n",
    "N1_0_vec = keras.layers.RepeatVector(n=traj_size, name='N1_0_vec')(N1_0)\n",
    "# Compute the mean anomaly M(t) as a function of time\n",
    "N1_t = keras.layers.multiply(inputs=[N1_0_vec, t_vec])\n",
    "M1 = keras.layers.add(inputs=[M1_0_vec, N1_t])\n",
    "\n",
    "# Compute the true anomaly from the mean anomly and eccentricity\n",
    "f1 = MeanToTrueAnomaly(name='mean_to_true_anomaly_f1')([M1, e1])\n",
    "\n",
    "# Wrap orbital elements into one tuple of inputs for layer converting to cartesian coordinates\n",
    "elt1 = (a1, e1, inc1, Omega1, omega1, f1, mu1,)\n",
    "\n",
    "# ******************************************************************\n",
    "# Predict orbital elements for Jacobi coordinates of body 2 \n",
    "# Repeat the constant orbital elements to be vectors of shape (batch_size, traj_size)\n",
    "a2 = keras.layers.RepeatVector(n=traj_size, name='a2')(a2_0)\n",
    "e2 = keras.layers.RepeatVector(n=traj_size, name='e2')(e2_0)\n",
    "inc2 = keras.layers.RepeatVector(n=traj_size, name='inc2')(inc2_0)\n",
    "Omega2 = keras.layers.RepeatVector(n=traj_size, name='Omega2')(Omega2_0)\n",
    "omega2 = keras.layers.RepeatVector(n=traj_size, name='omega2')(omega2_0)\n",
    "mu2 = keras.layers.RepeatVector(n=traj_size, name='mu2')(mu2_0)\n",
    "\n",
    "# Repeat initial mean anomaly M0 and mean motion N0 to match shape of outputs\n",
    "M2_0_vec = keras.layers.RepeatVector(n=traj_size, name='M2_0_vec')(M2_0)\n",
    "N2_0_vec = keras.layers.RepeatVector(n=traj_size, name='N2_0_vec')(N2_0)\n",
    "# Compute the mean anomaly M(t) as a function of time\n",
    "N2_t = keras.layers.multiply(inputs=[N2_0_vec, t_vec])\n",
    "M2 = keras.layers.add(inputs=[M2_0_vec, N2_t])\n",
    "\n",
    "# Compute the true anomaly from the mean anomly and eccentricity\n",
    "f2 = MeanToTrueAnomaly(name='mean_to_true_anomaly_f2')([M2, e2])\n",
    "\n",
    "# Wrap orbital elements into one tuple of inputs for layer converting to cartesian coordinates\n",
    "elt2 = (a2, e2, inc2, Omega2, omega2, f2, mu2,)\n",
    "\n",
    "\n",
    "# Print output elements\n",
    "print(f'\\nOutput orbital elements')\n",
    "print(f'a1={a1[0,0,0]:6.4f}, e1={e1[0,0,0]:6.4f}, inc1={inc1[0,0,0]:6.4f}, '\n",
    "      f'Omega1={Omega1[0,0,0]:7.4f}, omega1={omega1[0,0,0]:7.4f}, f1={f1[0,0,0]:7.4f}')\n",
    "\n",
    "# ******************************************************************\n",
    "# Convert orbital elements to cartesian Jacobi coordinates \n",
    "\n",
    "# Model mapping orbital elements to cartesian coordinates\n",
    "model_e2c = make_model_elt_to_cfg()\n",
    "\n",
    "# The position of Jacobi coordinate 0 over time comes from the average velocity\n",
    "# We always use center of momentum coordinates, so this is zero\n",
    "qjt_0 = keras.backend.zeros(shape=[batch_size, traj_size, space_dims])\n",
    "vjt_0 = keras.backend.zeros(shape=[batch_size, traj_size, space_dims])\n",
    "\n",
    "# Convert from orbital elements to cartesian coordinates\n",
    "# This is the position and velocity of the Jacobi coordinate \n",
    "qjt_1, vjt_1 = model_e2c(elt1)\n",
    "qjt_2, vjt_2 = model_e2c(elt2)\n",
    "\n",
    "# Reshape the Jacobi coordinates to include an axis for body number\n",
    "particle_traj_shape = (-1, 1, 3)\n",
    "particle_traj_shape_layer = keras.layers.Reshape(target_shape=particle_traj_shape, name='particle_traj_shape')\n",
    "qjt_0 = particle_traj_shape_layer(qjt_0)\n",
    "qjt_1 = particle_traj_shape_layer(qjt_1)\n",
    "qjt_2 = particle_traj_shape_layer(qjt_2)\n",
    "vjt_0 = particle_traj_shape_layer(vjt_0)\n",
    "vjt_1 = particle_traj_shape_layer(vjt_1)\n",
    "vjt_2 = particle_traj_shape_layer(vjt_2)\n",
    "\n",
    "# Assemble the Jacobi coordinates over time\n",
    "qj = keras.layers.concatenate(inputs=[qjt_0, qjt_1, qjt_2], axis=-2, name='qj')\n",
    "vj = keras.layers.concatenate(inputs=[vjt_0, vjt_1, vjt_2], axis=-2, name='vj')\n",
    "\n",
    "# Convert the Jacobi coordinates over time to Cartesian coordinates\n",
    "q_out, v_out = JacobiToCartesian()([m, qj, vj])"
   ]
  },
  {
   "cell_type": "code",
   "execution_count": null,
   "metadata": {},
   "outputs": [],
   "source": [
    "# Create a simulation\n",
    "sim = rebound.Simulation()\n",
    "\n",
    "# Set units\n",
    "sim.units = ('yr', 'AU', 'Msun')\n",
    "\n",
    "# Jacobi coordinates\n",
    "qj_ = np.zeros((3,3))\n",
    "vj_ = np.zeros((3,3))\n",
    "# Gravitational field\n",
    "mu_ = np.zeros(3)\n",
    "\n",
    "for i in range(3):\n",
    "    # Add particle i\n",
    "    sim.add(m=m[0,i], \n",
    "            x=q0[0,i,0], y=q0[0,i,1], z=q0[0,i,2], \n",
    "            vx=v0[0,i,0], vy=v0[0,i,1], vz=v0[0,i,2])\n",
    "    # The body that was just added\n",
    "    p = sim.particles[i]\n",
    "    # Jacobi coordinates of this body are its coordinates less the cumulative center of mass\n",
    "    if i > 0:\n",
    "        qj_[i, :] = [p.x -  com.x,  p.y - com.y,   p.z  - com.z]    \n",
    "        vj_[i, :] = [p.vx - com.vx, p.vy - com.vy, p.vz - com.vz]    \n",
    "    # update COM\n",
    "    com = sim.calculate_com()\n",
    "    mu_[i] = sim.G * com.m\n",
    "\n",
    "# Particles\n",
    "ps = sim.particles\n",
    "p0, p1, p2 = ps"
   ]
  },
  {
   "cell_type": "code",
   "execution_count": null,
   "metadata": {},
   "outputs": [],
   "source": [
    "sim.status()"
   ]
  },
  {
   "cell_type": "code",
   "execution_count": null,
   "metadata": {},
   "outputs": [],
   "source": [
    "sim.calculate_com()"
   ]
  },
  {
   "cell_type": "code",
   "execution_count": null,
   "metadata": {},
   "outputs": [],
   "source": [
    "orbs = sim.calculate_orbits()\n",
    "for orb in orbs:\n",
    "    print(orb)"
   ]
  },
  {
   "cell_type": "code",
   "execution_count": null,
   "metadata": {},
   "outputs": [],
   "source": [
    "qj_[1]"
   ]
  },
  {
   "cell_type": "code",
   "execution_count": null,
   "metadata": {},
   "outputs": [],
   "source": [
    "qj0_1[0].numpy()"
   ]
  },
  {
   "cell_type": "code",
   "execution_count": null,
   "metadata": {},
   "outputs": [],
   "source": [
    "qj_[2]"
   ]
  },
  {
   "cell_type": "code",
   "execution_count": null,
   "metadata": {},
   "outputs": [],
   "source": [
    "qj0_2[0].numpy()"
   ]
  },
  {
   "cell_type": "code",
   "execution_count": null,
   "metadata": {},
   "outputs": [],
   "source": [
    "vj_[1]"
   ]
  },
  {
   "cell_type": "code",
   "execution_count": null,
   "metadata": {},
   "outputs": [],
   "source": [
    "vj0_1[0].numpy()"
   ]
  },
  {
   "cell_type": "code",
   "execution_count": null,
   "metadata": {},
   "outputs": [],
   "source": [
    "vj_[2]"
   ]
  },
  {
   "cell_type": "code",
   "execution_count": null,
   "metadata": {},
   "outputs": [],
   "source": [
    "vj0_2[0].numpy()"
   ]
  },
  {
   "cell_type": "code",
   "execution_count": null,
   "metadata": {},
   "outputs": [],
   "source": [
    "mu_[0]"
   ]
  },
  {
   "cell_type": "code",
   "execution_count": null,
   "metadata": {},
   "outputs": [],
   "source": [
    "mu0_1[0].numpy()"
   ]
  },
  {
   "cell_type": "code",
   "execution_count": null,
   "metadata": {},
   "outputs": [],
   "source": [
    "model_c2e = make_model_cfg_to_elt()"
   ]
  },
  {
   "cell_type": "code",
   "execution_count": null,
   "metadata": {},
   "outputs": [],
   "source": [
    "elts_1 = model_c2e([qj0_1, vj0_1, mu0_1])\n",
    "print(f'a={elts_1[0][0,0]}')\n",
    "print(f'e={elts_1[1][0,0]}')\n",
    "print(f'inc={elts_1[2][0,0]}')\n",
    "print(f'Omega={elts_1[3][0,0]}')\n",
    "print(f'omega={elts_1[4][0,0]}')\n",
    "print(f'f={elts_1[5][0,0]}')"
   ]
  },
  {
   "cell_type": "code",
   "execution_count": null,
   "metadata": {},
   "outputs": [],
   "source": [
    "qjx, qjy, qjz = qj0_1[0]\n",
    "vjx, vjy, vjz = vj0_1[0]\n",
    "mu_ = mu0_1[0]\n",
    "ConfigToOrbitalElement()([qjx, qjy, qjz, vjx, vjy, vjz, mu_])"
   ]
  },
  {
   "cell_type": "code",
   "execution_count": null,
   "metadata": {},
   "outputs": [],
   "source": [
    "M1[0, 0:5]"
   ]
  },
  {
   "cell_type": "code",
   "execution_count": null,
   "metadata": {},
   "outputs": [],
   "source": [
    "f1_0[0]"
   ]
  },
  {
   "cell_type": "code",
   "execution_count": null,
   "metadata": {},
   "outputs": [],
   "source": [
    "f1[0, 0:5]"
   ]
  },
  {
   "cell_type": "code",
   "execution_count": null,
   "metadata": {},
   "outputs": [],
   "source": [
    "f2_0[0]"
   ]
  },
  {
   "cell_type": "code",
   "execution_count": null,
   "metadata": {},
   "outputs": [],
   "source": [
    "f2[0, 0:5]"
   ]
  },
  {
   "cell_type": "code",
   "execution_count": null,
   "metadata": {},
   "outputs": [],
   "source": [
    "q0[0]"
   ]
  },
  {
   "cell_type": "code",
   "execution_count": null,
   "metadata": {},
   "outputs": [],
   "source": [
    "q_out[0][0,:,:]"
   ]
  },
  {
   "cell_type": "code",
   "execution_count": null,
   "metadata": {},
   "outputs": [],
   "source": [
    "q0[0:3,0]"
   ]
  },
  {
   "cell_type": "code",
   "execution_count": null,
   "metadata": {},
   "outputs": [],
   "source": [
    "qj0_1[0:3]"
   ]
  },
  {
   "cell_type": "code",
   "execution_count": null,
   "metadata": {},
   "outputs": [],
   "source": [
    "qj0_2[0:3]"
   ]
  },
  {
   "cell_type": "code",
   "execution_count": null,
   "metadata": {},
   "outputs": [],
   "source": [
    "qj0_1.shape"
   ]
  },
  {
   "cell_type": "code",
   "execution_count": null,
   "metadata": {},
   "outputs": [],
   "source": [
    "qj0[0:3, 1, :]"
   ]
  },
  {
   "cell_type": "code",
   "execution_count": null,
   "metadata": {},
   "outputs": [],
   "source": [
    "# Compute the Jacobi coordinates of the initial conditions\n",
    "qj0, vj0, mu0 = CartesianToJacobi()([m, q0, v0])"
   ]
  },
  {
   "cell_type": "code",
   "execution_count": null,
   "metadata": {},
   "outputs": [],
   "source": [
    "# m is (64,3,)\n",
    "m[0:2,:]"
   ]
  },
  {
   "cell_type": "code",
   "execution_count": null,
   "metadata": {},
   "outputs": [],
   "source": [
    "m[1] - m[0]"
   ]
  },
  {
   "cell_type": "code",
   "execution_count": null,
   "metadata": {},
   "outputs": [],
   "source": [
    "# q0 is (64, 3, 3,)\n",
    "q0[0:2]"
   ]
  },
  {
   "cell_type": "code",
   "execution_count": null,
   "metadata": {},
   "outputs": [],
   "source": [
    "q0[1] - q0[0]"
   ]
  },
  {
   "cell_type": "code",
   "execution_count": null,
   "metadata": {},
   "outputs": [],
   "source": [
    "# v0 is (64, 3, 3,)\n",
    "v0[0:2]"
   ]
  },
  {
   "cell_type": "code",
   "execution_count": null,
   "metadata": {},
   "outputs": [],
   "source": [
    "v0[1] - v0[0]"
   ]
  },
  {
   "cell_type": "code",
   "execution_count": null,
   "metadata": {},
   "outputs": [],
   "source": [
    "qj0[0:2]"
   ]
  },
  {
   "cell_type": "code",
   "execution_count": null,
   "metadata": {},
   "outputs": [],
   "source": [
    "qj0[1]-qj0[0]"
   ]
  },
  {
   "cell_type": "code",
   "execution_count": null,
   "metadata": {},
   "outputs": [],
   "source": [
    "vj0[1]-vj0[0]"
   ]
  },
  {
   "cell_type": "code",
   "execution_count": null,
   "metadata": {},
   "outputs": [],
   "source": [
    "# Extract Jacobi coordinates of p1 and p2\n",
    "qj0_1 = qj0[:, 1, :]\n",
    "qj0_2 = qj0[:, 2, :]\n",
    "vj0_1 = vj0[:, 1, :]\n",
    "vj0_2 = vj0[:, 2, :]\n",
    "\n",
    "# Extract gravitational field strength for orbital element conversion of p1 and p2\n",
    "mu0_1 = mu0[:, 1:2]\n",
    "mu0_2 = mu0[:, 2:3]"
   ]
  },
  {
   "cell_type": "code",
   "execution_count": null,
   "metadata": {},
   "outputs": [],
   "source": [
    "# qj0_1 = qj0[:, 1, :]\n",
    "qj0_1[0:2]"
   ]
  },
  {
   "cell_type": "code",
   "execution_count": null,
   "metadata": {},
   "outputs": [],
   "source": [
    "# qj0_2 = qj0[:, 2, :]\n",
    "qj0_2[0:2]"
   ]
  },
  {
   "cell_type": "code",
   "execution_count": null,
   "metadata": {},
   "outputs": [],
   "source": [
    "vj0_1[0:2]"
   ]
  },
  {
   "cell_type": "code",
   "execution_count": null,
   "metadata": {},
   "outputs": [],
   "source": [
    "vj0[0:2,1,:]"
   ]
  },
  {
   "cell_type": "code",
   "execution_count": null,
   "metadata": {},
   "outputs": [],
   "source": [
    "vj0[0:2,2,:]"
   ]
  },
  {
   "cell_type": "code",
   "execution_count": null,
   "metadata": {},
   "outputs": [],
   "source": [
    "mu0_1[0:2]"
   ]
  },
  {
   "cell_type": "code",
   "execution_count": null,
   "metadata": {},
   "outputs": [],
   "source": [
    "mu0_2[0:2]"
   ]
  },
  {
   "cell_type": "code",
   "execution_count": null,
   "metadata": {},
   "outputs": [],
   "source": [
    "qj0_1.shape"
   ]
  },
  {
   "cell_type": "code",
   "execution_count": null,
   "metadata": {},
   "outputs": [],
   "source": [
    "a1_0[0:2]"
   ]
  },
  {
   "cell_type": "code",
   "execution_count": null,
   "metadata": {},
   "outputs": [],
   "source": [
    "a2_0[0:2]"
   ]
  },
  {
   "cell_type": "code",
   "execution_count": null,
   "metadata": {},
   "outputs": [],
   "source": [
    "# f2_0"
   ]
  },
  {
   "cell_type": "code",
   "execution_count": null,
   "metadata": {},
   "outputs": [],
   "source": [
    "a1[0,0:5]"
   ]
  },
  {
   "cell_type": "code",
   "execution_count": null,
   "metadata": {},
   "outputs": [],
   "source": [
    "e1[0,0:5]"
   ]
  },
  {
   "cell_type": "code",
   "execution_count": null,
   "metadata": {},
   "outputs": [],
   "source": [
    "inc1[0,0:5]"
   ]
  },
  {
   "cell_type": "code",
   "execution_count": null,
   "metadata": {},
   "outputs": [],
   "source": [
    "Omega1[0,0:5]"
   ]
  },
  {
   "cell_type": "code",
   "execution_count": null,
   "metadata": {},
   "outputs": [],
   "source": [
    "omega1[0,0:5]"
   ]
  },
  {
   "cell_type": "code",
   "execution_count": null,
   "metadata": {},
   "outputs": [],
   "source": [
    "f1[0,0:5]"
   ]
  },
  {
   "cell_type": "code",
   "execution_count": null,
   "metadata": {},
   "outputs": [],
   "source": [
    "f1_0[0].numpy()"
   ]
  },
  {
   "cell_type": "code",
   "execution_count": null,
   "metadata": {},
   "outputs": [],
   "source": [
    "f2[0,0:5]"
   ]
  },
  {
   "cell_type": "code",
   "execution_count": null,
   "metadata": {},
   "outputs": [],
   "source": [
    "f2_0[0].numpy()"
   ]
  },
  {
   "cell_type": "code",
   "execution_count": null,
   "metadata": {},
   "outputs": [],
   "source": []
  }
 ],
 "metadata": {
  "kernelspec": {
   "display_name": "Python [conda env:nbody]",
   "language": "python",
   "name": "conda-env-nbody-py"
  },
  "language_info": {
   "codemirror_mode": {
    "name": "ipython",
    "version": 3
   },
   "file_extension": ".py",
   "mimetype": "text/x-python",
   "name": "python",
   "nbconvert_exporter": "python",
   "pygments_lexer": "ipython3",
   "version": "3.7.3"
  }
 },
 "nbformat": 4,
 "nbformat_minor": 2
}
