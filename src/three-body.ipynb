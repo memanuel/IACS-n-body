{
 "cells": [
  {
   "cell_type": "markdown",
   "metadata": {},
   "source": [
    "# Three Body Problem\n",
    "\n",
    "Three bodies orbit under the influence of gravity.  In general, the motion is chaotic and no practical closed form solution is known.  In practice the problem can be solved using numerical integrators.<br>\n",
    "See https://en.wikipedia.org/wiki/Three-body_problem for a detailed discussion on the theory and history of this problem."
   ]
  },
  {
   "cell_type": "code",
   "execution_count": null,
   "metadata": {},
   "outputs": [],
   "source": [
    "# Library imports\n",
    "import tensorflow as tf\n",
    "import rebound\n",
    "import numpy as np\n",
    "import datetime\n",
    "import matplotlib.pyplot as plt\n",
    "\n",
    "# Aliases\n",
    "keras = tf.keras"
   ]
  },
  {
   "cell_type": "code",
   "execution_count": null,
   "metadata": {},
   "outputs": [],
   "source": [
    "# Local imports\n",
    "from utils import load_vartbl, save_vartbl, plot_style\n",
    "from tf_utils import gpu_grow_memory, TimeHistory\n",
    "from tf_utils import plot_loss_hist, EpochLoss, TimeHistory\n",
    "from tf_utils import Identity\n",
    "\n",
    "from orbital_element import OrbitalElementToConfig, ConfigToOrbitalElement, MeanToTrueAnomaly, G_\n",
    "from orbital_element import make_model_elt_to_cfg, make_model_cfg_to_elt\n",
    "\n",
    "from jacobi import CartesianToJacobi, JacobiToCartesian\n",
    "\n",
    "from g3b_data import make_traj_g3b, make_data_g3b, make_datasets_g3b, combine_datasets_g3b, traj_to_batch\n",
    "from g3b_data import make_datasets_solar, make_datasets_hard\n",
    "from g3b_plot import plot_orbit_q, plot_orbit_v, plot_orbit_a, plot_orbit_energy, plot_orbit_element\n",
    "from g3b import KineticEnergy_G3B, PotentialEnergy_G3B, Momentum_G3B, AngularMomentum_G3B\n",
    "from g3b import VectorError, EnergyError\n",
    "from g3b import Motion_G3B, make_physics_model_g3b\n",
    "from g3b import fit_model\n",
    "from g3b_model_math import make_position_model_g3b_math, make_model_g3b_math\n",
    "from g3b_model_nn import make_position_model_g3b_nn, make_model_g3b_nn"
   ]
  },
  {
   "cell_type": "code",
   "execution_count": null,
   "metadata": {},
   "outputs": [],
   "source": [
    "# Set active GPUs\n",
    "gpus = tf.config.experimental.list_physical_devices('GPU')\n",
    "# tf.config.experimental.set_visible_devices(gpus[1:2], 'GPU')"
   ]
  },
  {
   "cell_type": "code",
   "execution_count": null,
   "metadata": {},
   "outputs": [],
   "source": [
    "# Grow GPU memory (must be first operation in TF)\n",
    "# gpu_grow_memory()"
   ]
  },
  {
   "cell_type": "code",
   "execution_count": null,
   "metadata": {},
   "outputs": [],
   "source": [
    "# strat = tf.distribute.MirroredStrategy(['/GPU:0', '/GPU:1', '/GPU:2', '/GPU:3'])"
   ]
  },
  {
   "cell_type": "code",
   "execution_count": null,
   "metadata": {},
   "outputs": [],
   "source": [
    "# Lightweight serialization\n",
    "fname = '../data/g3b/g3b.pickle'\n",
    "vartbl = load_vartbl(fname)"
   ]
  },
  {
   "cell_type": "markdown",
   "metadata": {},
   "source": [
    "### Orbital Elements Refresher"
   ]
  },
  {
   "cell_type": "markdown",
   "metadata": {},
   "source": [
    "![title](../figs/web/orbital-elements.png)"
   ]
  },
  {
   "cell_type": "markdown",
   "metadata": {},
   "source": [
    "**Variable Names of Six Keplerian Orbital Elements**\n",
    "* `a` - semi-major axis; size of the ellipse; mean of periapsis and apoapsis distances\n",
    "* `e` - eccentricity; shape of the ellipse.  e=0 is a circle, e=1 is a line.  $e^2 = 1 - b^2 / a^2$\n",
    "* `inc` - inclination; angle between orbital and ecliptic planes\n",
    "* `Omega` - longitude of the asending node; undefined when inc=0\n",
    "* `omega` - argument of pericenter; true anomaly where body is closest to the primary.\n",
    "* `f` - true anomaly; angle of the orbiting body in its orbital plane\n",
    "\n",
    "**Two Additional Elements**\n",
    "* `M` - mean anomaly; area swept out by the orbiting body, normalized so a full orbit is $2 \\pi$.  Because of the rule of equal area in equal time, a.k.a. conservation of angular momentum, the mean anomly is linear in time\n",
    "* `N` - mean motion; rate at which mean anomly changes, i.e. $2 \\pi / T$ where $T$ is the orbital period"
   ]
  },
  {
   "cell_type": "markdown",
   "metadata": {},
   "source": [
    "### Generate and Visualize One Example Orbital Path"
   ]
  },
  {
   "cell_type": "markdown",
   "metadata": {},
   "source": [
    "The module `g3b_data.py` includes functions used to generate training data for the (general) three body problem.<br>\n",
    "The function `make_traj_g3b` generates a single trajectory for the G3B problem.  It takes as inputs the masses of the three bodies, `m`; and the six traditional orbital elements (`a`, `e`, `inc`, `Omega`, `omega`, `f`).  The mass is an array of size 3, and each orbital element is an array of size 2.  Orbital elements describe the relationship between two bodies, or here the relationship between body i and the center of mass of bodies 0 through i-1.<br>\n",
    "`make_traj_g3b` creates a new Rebound simulation with three particles: the sun and two orbiting bodies.  The sun has mass 1.0 in solar mass units, and initial position and velocity 0.<br>\n",
    "The first orbiting body orbits around the primary (body 0, similar tot he sun) with initial position and velocity are assigned by Rebound based on the orbital elements.<br>\n",
    "The second orbiting body orbits around the center of mass of body 0 and body 1.  In practice this will be very close to the primary.  This choice of coordinates is called Jacobi coordinates.<br>\n",
    "The orbit is evaluated for a period of `n_years` with `sample_freq` observations per year.\n",
    "Here I used 100 years and 10 observations per year, leading to 1001 data points counting both the start and end point.  The results are returned in two Dict objects named inputs and outputs.<br>\n",
    "**Inputs**\n",
    "* t - vector of times at which the orbit was sampled\n",
    "* q0 - initial position of the bodies; shape (num_particles, space_dims,) = (3, 3,)\n",
    "* v0 - initial velocity of the bodies; shape (num_particles, space_dims,) = (3, 3,)\n",
    "* m - mass of the bodies in solar masses; shape (num_particles,) = (3,)\n",
    "\n",
    "**Outputs**\n",
    "* q - orbital positions of the bodies over time; shape (N, 3, 3,)\n",
    "* v - orbital velocitiy of body 1 over time; shape (N, 3, 3,)\n",
    "* a - orbital acceleration of body 1 over time;  shape (N, 3, 3,)\n",
    "* q0_rec - recovered initial position of bodies; duplicate of q0_init\n",
    "* v0_rec - recovered initial velocity of bodies; duplicate of v0_init\n",
    "* T - the kinetic energy of the system; $T = \\frac{1}{2} \\sum_{i=1}^{3}{m_i |v_i|^2}$\n",
    "* U - the potential energy of the system; \n",
    "$$U = \\sum_{i=1}^{3}\\sum_{j=i+1}^{3} \\frac{-G m_i m_i}{r_{ij}}$$\n",
    "where $r_{ij} = |qi - qj|$ is the distance between bodies $i$ and $j$\n",
    "* H - the total energy in the system $H = T + U$\n",
    "* P - the momentum, $P = \\sum{m_i \\cdot v_i}$\n",
    "* L - the angular momentum, $L = \\sum{q_i \\times m_i v_i}$"
   ]
  },
  {
   "cell_type": "code",
   "execution_count": null,
   "metadata": {},
   "outputs": [],
   "source": [
    "# Generate one example trajectory with orbiting earth-like and jupiter-like planets\n",
    "# https://ssd.jpl.nasa.gov/txt/p_elem_t1.txt\n",
    "m = np.array([1.0, 1.0E-6, 1.0E-3])\n",
    "a = np.array([1.00000, 5.2029])\n",
    "e = np.array([0.0167, 0.0484])\n",
    "inc = np.radians([0.00, 1.3044])\n",
    "Omega = np.radians([0.00, 100.47])\n",
    "omega = np.radians([102.94, 14.73]) - Omega\n",
    "f = np.radians([100.46, 34.40]) - Omega\n",
    "n_years = 100\n",
    "sample_freq = 10\n",
    "\n",
    "inputs_traj, outputs_traj = make_traj_g3b(m=m, a=a, e=e, inc=inc, Omega=Omega, omega=omega, f=f, \n",
    "                                          n_years=n_years, sample_freq=sample_freq)\n",
    "\n",
    "# Combined dict\n",
    "data_traj = {**inputs_traj, **outputs_traj}\n",
    "\n",
    "# Review the fields\n",
    "print('Input fields:', list(inputs_traj.keys()))\n",
    "print('Output fields:', list(outputs_traj.keys()))"
   ]
  },
  {
   "cell_type": "code",
   "execution_count": null,
   "metadata": {},
   "outputs": [],
   "source": [
    "# Plot style \n",
    "plot_style()"
   ]
  },
  {
   "cell_type": "code",
   "execution_count": null,
   "metadata": {},
   "outputs": [],
   "source": [
    "fig, ax = plot_orbit_q(data_traj, 1, False, 10.0)"
   ]
  },
  {
   "cell_type": "code",
   "execution_count": null,
   "metadata": {},
   "outputs": [],
   "source": [
    "fig, ax = plot_orbit_energy(data_traj)"
   ]
  },
  {
   "cell_type": "code",
   "execution_count": null,
   "metadata": {},
   "outputs": [],
   "source": [
    "fig, ax = plot_orbit_element(data_traj, 'a')"
   ]
  },
  {
   "cell_type": "code",
   "execution_count": null,
   "metadata": {},
   "outputs": [],
   "source": [
    "# The eccentricity of body 1 has tiny wobbles that are barely visible\n",
    "# fig, ax = plot_orbit_element(data_traj, 'e')"
   ]
  },
  {
   "cell_type": "code",
   "execution_count": null,
   "metadata": {},
   "outputs": [],
   "source": [
    "# The inclination is rock solid\n",
    "# fig, ax = plot_orbit_element(data_traj, 'inc')"
   ]
  },
  {
   "cell_type": "code",
   "execution_count": null,
   "metadata": {},
   "outputs": [],
   "source": [
    "# The Omega parameter for body 1 looks like a decaying sine curve with; the spikes are an artifact of wrapping around +/- pi\n",
    "# omega2 appears nearly constant.\n",
    "# fig, ax = plot_orbit_element(data_traj, 'Omega')"
   ]
  },
  {
   "cell_type": "code",
   "execution_count": null,
   "metadata": {},
   "outputs": [],
   "source": [
    "# The omega parameter for body 1 looks like a decaying sine curve; omega2 appears nearly constant.\n",
    "fig, ax = plot_orbit_element(data_traj, 'omega')"
   ]
  },
  {
   "cell_type": "code",
   "execution_count": null,
   "metadata": {},
   "outputs": [],
   "source": [
    "# The true anomaly f looks like a staircase that is equivalent to a straight line mod two pi\n",
    "# The wobbles comapred to the mean anomaly are not visible on this scale\n",
    "# fig, ax = plot_orbit_element(data_traj, 'f')"
   ]
  },
  {
   "cell_type": "markdown",
   "metadata": {},
   "source": [
    "### Generate Training Data with a Range of Orbital Parameters"
   ]
  },
  {
   "cell_type": "markdown",
   "metadata": {},
   "source": [
    "The function `make_train_g3b` creates training data for the general 3 body problem in the form of dictionaries of numpy arrays.  These are analogous to the outputs of `make_traj_r3b`, but there is an outer index of `n_traj` different trajectories.  The inputs `m_min` and `m_max` control the mass range of bodies 2 and 3 solar units; the first body always has mass equal to 1 solar unit.<br>\n",
    "The inputs `a_min`, `a_max`, `e_max`, and `inc_max` determine the sampling ranges for the parameters `a`, `e` and `inc` of the orbital elements of the starting configuration. <br>\n",
    "The other orbital elements (`Omega`, `omega`, `f`) are sampled over the full range of admissible values.<br>\n",
    "The function `make_datasets_r3b` generates three tensorflow Dataset objects for train, validation and test, respectively.  Data is generated in the form of Numpy arrays using `make_train_g3b` because it is easier to serialize in that format.  The function checks on disk to see if the data is already available, and if so, loads it.  Otherwise it generates and then saves it.  Effective serialization is critical because the data set is expensive to generate."
   ]
  },
  {
   "cell_type": "code",
   "execution_count": null,
   "metadata": {},
   "outputs": [],
   "source": [
    "# Inputs for make_train_g3b\n",
    "m_min = 1.0E-7\n",
    "m_max = 2.0E-3\n",
    "n_traj = 10\n",
    "n_years = 100\n",
    "sample_freq = 10\n",
    "a_min = 0.50\n",
    "a_max = 32.0\n",
    "e_max = 0.08\n",
    "inc_max = 0.04\n",
    "seed = 42"
   ]
  },
  {
   "cell_type": "code",
   "execution_count": null,
   "metadata": {},
   "outputs": [],
   "source": [
    "# Test make_data_g3b\n",
    "# inputs, outputs= make_data_g3b(n_traj=n_traj, n_years=n_years, sample_freq=sample_freq,\n",
    "#                                a_min=a_min, a_max=a_max, e_max=e_max, inc_max=inc_max, seed=seed)"
   ]
  },
  {
   "cell_type": "code",
   "execution_count": null,
   "metadata": {},
   "outputs": [],
   "source": [
    "# Inputs for make_datasets_g3b\n",
    "vt_split = 0.20\n",
    "n_years = 100\n",
    "sample_freq = 10\n",
    "\n",
    "# The batch size\n",
    "batch_size = 64\n",
    "num_gpus = 1\n",
    "full_batch_size = batch_size * num_gpus"
   ]
  },
  {
   "cell_type": "code",
   "execution_count": null,
   "metadata": {},
   "outputs": [],
   "source": [
    "# Create a tiny data set with 64 solar type orbits\n",
    "n_traj = 64\n",
    "ds_tiny_trn, ds_tiny_val, ds_tiny_tst = make_datasets_solar(n_traj=n_traj, vt_split=1.0, \n",
    "                                                            n_years=n_years, sample_freq=sample_freq)"
   ]
  },
  {
   "cell_type": "code",
   "execution_count": null,
   "metadata": {},
   "outputs": [],
   "source": [
    "# Create a medium data set with 10,000 solar type orbits\n",
    "n_traj = 10000\n",
    "\n",
    "ds_small_trn, ds_small_val, ds_small_tst = make_datasets_solar(n_traj=n_traj, vt_split=vt_split, \n",
    "                                                               n_years=n_years, sample_freq=sample_freq,\n",
    "                                                               batch_size = full_batch_size)"
   ]
  },
  {
   "cell_type": "code",
   "execution_count": null,
   "metadata": {},
   "outputs": [],
   "source": [
    "# Create a large data set with 50,000 solar type orbits\n",
    "# n_traj = 50000\n",
    "\n",
    "# ds_large_trn, ds_large_val, ds_large_tst = make_datasets_solar(n_traj=n_traj, vt_split=vt_split, \n",
    "#                                                                n_years=n_years, sample_freq=sample_freq)"
   ]
  },
  {
   "cell_type": "code",
   "execution_count": null,
   "metadata": {},
   "outputs": [],
   "source": [
    "# Create a list of medium data sets\n",
    "n_traj = 10000\n",
    "num_data_sets = 50\n",
    "seeds = list(range(42, 42+3*num_data_sets, 3))\n",
    "\n",
    "# Load big combined dataset\n",
    "ds_trn, ds_val, ds_tst = combine_datasets_g3b(\n",
    "    n_traj=n_traj, vt_split=vt_split, n_years=n_years, sample_freq=sample_freq,\n",
    "    m_min=m_min, m_max=m_max, a_min=a_min, a_max=a_max,\n",
    "    e_max=e_max, inc_max=inc_max, seeds=seeds, batch_size=full_batch_size)"
   ]
  },
  {
   "cell_type": "markdown",
   "metadata": {},
   "source": [
    "***Generating 14,000 trajectories takes about 52 minutes on my server and uses about 2.68 GB of disk space.***<br>\n",
    "***Generating 70,000 trajectories takes about 265 minutes (4:25) and uses about 13.42 GB of disk space***<br>\n",
    "***Generating 50 medium data sets each with 70,000 trajectories took 45 hours and uses about 134 GB of disk space.***\n",
    "Pace is about 4.5 trajectories per second. Storage requirements about 145 KB / trajectory.<br>"
   ]
  },
  {
   "cell_type": "markdown",
   "metadata": {},
   "source": [
    "### Review One Example Batch of Training Data"
   ]
  },
  {
   "cell_type": "code",
   "execution_count": null,
   "metadata": {},
   "outputs": [],
   "source": [
    "# Example batch\n",
    "# batch_in, batch_out = list(ds_small_trn.take(1))[0]\n",
    "batch_in, batch_out = list(ds_tiny_trn.take(1))[0]\n",
    "batch_tiny_in, batch_tiny_out = batch_in, batch_out\n",
    "print('Input field names: ', list(batch_in.keys()))\n",
    "print('Output field names:', list(batch_out.keys()))\n",
    "# inputs\n",
    "t = batch_in['t']\n",
    "q0 = batch_in['q0']\n",
    "v0 = batch_in['v0']\n",
    "m = batch_in['m']\n",
    "# outputs - trajectory\n",
    "q = batch_out['q']\n",
    "v = batch_out['v']\n",
    "a = batch_out['a']\n",
    "q0_rec = batch_out['q0_rec']\n",
    "v0_rec = batch_out['v0_rec']\n",
    "# outputs - orbital elements\n",
    "orb_a = batch_out['orb_a']\n",
    "orb_e = batch_out['orb_e']\n",
    "orb_inc = batch_out['orb_inc']\n",
    "orb_Omega = batch_out['orb_Omega']\n",
    "orb_omega = batch_out['orb_omega']\n",
    "orb_f = batch_out['orb_f']\n",
    "# outputs - physics\n",
    "H = batch_out['H']\n",
    "P = batch_out['P']\n",
    "L = batch_out['L']\n",
    "\n",
    "print(f'\\nExample batch sizes:')\n",
    "print(f't  = {t.shape}')\n",
    "print(f'q0 = {q0.shape}')\n",
    "print(f'v0 = {v0.shape}')\n",
    "print(f'm  = {m.shape}')\n",
    "\n",
    "print(f'q  = {q.shape}')\n",
    "print(f'v  = {v.shape}')\n",
    "print(f'a  = {a.shape}')\n",
    "# print(f'q0_rec = {q0_rec.shape}')\n",
    "# print(f'v0_rec = {v0_rec.shape}')\n",
    "print(f'H  = {H.shape}')\n",
    "print(f'P  = {P.shape}')\n",
    "print(f'L  = {L.shape}')"
   ]
  },
  {
   "cell_type": "markdown",
   "metadata": {},
   "source": [
    "### Custom Keras Layers with Physics Computations of Energy and Angular Momentum\n",
    "\n",
    "The module `g3b.py` contains shared elements used in the general 3 body problem.<br>\n",
    "The layer `KineticEnergy_G3B` computes the kinetic energy of the system given the object masses `m` with shape (3,) and the velocities `v` with shape (traj_size, 3, 3).<br>\n",
    "The kinetetic energy is $T = \\frac{1}{2} \\sum m_i |v_i|^2$ <br>\n",
    "The layer `PotentialEnergy_G3B` computes the potential energy of the system given the masses `m` and the positions `q` with shape (traj_size, 3, 3).  <br>\n",
    "The potential energy \n",
    "$$U = -\\sum_{i<j}{\\frac{G m_i m_j}{r_{ij}}}$$ \n",
    "where $r_{ij} = |q_j - q_i|$. For the 3 body problem there are ${3}\\choose{2} = 3$ interaction pairs.<br>\n",
    "The layer `Momentum_G3B` computes the momentum of the system given its masses `m`, and velocity `v`. This quantity will be constant by conservation of momentum.  In the center of momentum frame adopted by convention, both the momentum and center of mass will be the zero vector.<br>\n",
    "The momentum $P = \\sum m_i v_i$<br>\n",
    "The layer `AngularMomentum_G3B` computes the angular momentum of the system given its masses `m`, position `q` and velocity `v`.<br>\n",
    "The angular momentum $L = \\sum q_i \\times m_i v_i$, the 3D vector cross product.\n",
    "\n",
    "In addition to the custom layers computing the physical quantities, there are also custom loss functions intended to be used with them.<br>\n",
    "The custom loss function `VectorError` returns the relative error \n",
    "$$E = \\frac{|y_{true} - y_{pred}|}{|y_{true}| + R}$$\n",
    "where $R$ is an optional regularization term that defaults to 0.<br>\n",
    "The custom loss function `EnergyError` returns a log scaled squared error\n",
    "$$E = \\log{\\left[1 + \\left(\\frac{y_{pred} - y_{true}}{y_{true}}\\right)^2\\right]}$$\n",
    "The log scaling is introduced so that the error doesn't blow up catastrophically when distance gets too small.  This was causing problems in training when an un-scaled energy error was used."
   ]
  },
  {
   "cell_type": "markdown",
   "metadata": {},
   "source": [
    "**Call layers with physics computations**"
   ]
  },
  {
   "cell_type": "code",
   "execution_count": null,
   "metadata": {},
   "outputs": [],
   "source": [
    "T = KineticEnergy_G3B()([m, v])\n",
    "T.shape"
   ]
  },
  {
   "cell_type": "code",
   "execution_count": null,
   "metadata": {},
   "outputs": [],
   "source": [
    "U = PotentialEnergy_G3B()([m, q])\n",
    "U.shape"
   ]
  },
  {
   "cell_type": "code",
   "execution_count": null,
   "metadata": {},
   "outputs": [],
   "source": [
    "P = Momentum_G3B()([m, v])\n",
    "P.shape"
   ]
  },
  {
   "cell_type": "code",
   "execution_count": null,
   "metadata": {},
   "outputs": [],
   "source": [
    "L = AngularMomentum_G3B()([m, q, v])\n",
    "L.shape"
   ]
  },
  {
   "cell_type": "markdown",
   "metadata": {},
   "source": [
    "## Convert Initial Configuration from Cartesian to Jacobi Coordinates"
   ]
  },
  {
   "cell_type": "code",
   "execution_count": null,
   "metadata": {},
   "outputs": [],
   "source": [
    "# Compute the Jacobi coordinates of the initial conditions\n",
    "qj0, vj0, mu0 = CartesianToJacobi(include_accel=False)([m, q0, v0])"
   ]
  },
  {
   "cell_type": "code",
   "execution_count": null,
   "metadata": {},
   "outputs": [],
   "source": [
    "# Review shape of Jacobi inputs\n",
    "print(f'Shape of q0 : {q0.shape}')\n",
    "print(f'Shape of v0:  {v0.shape}')\n",
    "print(f'Shape of m:   {m.shape}')\n",
    "\n",
    "# Review shape of Jacobi outputs\n",
    "print(f'Shape of qj0: {qj0.shape}')\n",
    "print(f'Shape of vj0: {vj0.shape}')\n",
    "print(f'Shape of mu0: {mu0.shape}')"
   ]
  },
  {
   "cell_type": "code",
   "execution_count": null,
   "metadata": {},
   "outputs": [],
   "source": [
    "# qj0[0]"
   ]
  },
  {
   "cell_type": "code",
   "execution_count": null,
   "metadata": {},
   "outputs": [],
   "source": [
    "# vj0[0]"
   ]
  },
  {
   "cell_type": "code",
   "execution_count": null,
   "metadata": {},
   "outputs": [],
   "source": [
    "# Check that the round trip back to Cartesian coordinates is consistent\n",
    "q0_rec, v0_rec = JacobiToCartesian()([m, qj0, vj0])\n",
    "\n",
    "# Compute errors\n",
    "rms = lambda x : np.sqrt(np.mean(np.square(x)))\n",
    "\n",
    "err_q0 = q0_rec - q0\n",
    "err_v0 = v0_rec - v0\n",
    "rms_q0 = rms(err_q0)\n",
    "rms_v0 = rms(err_v0)\n",
    "\n",
    "# Display errors\n",
    "print(f'RMS Error in q0_rec: {rms_q0:5.3e}')\n",
    "print(f'RMS Error in v0_rec: {rms_v0:5.3e}')"
   ]
  },
  {
   "cell_type": "markdown",
   "metadata": {},
   "source": [
    "***The round trip between Jacobi to Cartesian coordinates is very accurate with losses on the order of 1E-7.***"
   ]
  },
  {
   "cell_type": "markdown",
   "metadata": {},
   "source": [
    "## Convert Jacobi Coordinates to Orbital Elements"
   ]
  },
  {
   "cell_type": "code",
   "execution_count": null,
   "metadata": {},
   "outputs": [],
   "source": [
    "# Extract Jacobi coordinates of p1 and p2\n",
    "\n",
    "# Initial position qj0\n",
    "qj0_1 = qj0[:, 1, :]\n",
    "vj0_1 = vj0[:, 1, :]\n",
    "\n",
    "# Initial velocity qv0\n",
    "qj0_2 = qj0[:, 2, :]\n",
    "vj0_2 = vj0[:, 2, :]\n",
    "\n",
    "# Gravitational field strength for orbital element conversion of p1 and p2\n",
    "mu0_1 = mu0[:, 1:2]\n",
    "mu0_2 = mu0[:, 2:3]"
   ]
  },
  {
   "cell_type": "code",
   "execution_count": null,
   "metadata": {},
   "outputs": [],
   "source": [
    "# Tuple of inputs for the model converting from configuration to orbital elements\n",
    "cfg_1 = (qj0_1, vj0_1, mu0_1)\n",
    "cfg_2 = (qj0_2, vj0_2, mu0_2)"
   ]
  },
  {
   "cell_type": "code",
   "execution_count": null,
   "metadata": {},
   "outputs": [],
   "source": [
    "# Model mapping cartesian coordinates to orbital elements\n",
    "model_c2e = make_model_cfg_to_elt()"
   ]
  },
  {
   "cell_type": "code",
   "execution_count": null,
   "metadata": {},
   "outputs": [],
   "source": [
    "# Extract the orbital elements of the initial conditions\n",
    "a1_0, e1_0, inc1_0, Omega1_0, omega1_0, f1_0, M1_0, N1_0 = model_c2e(cfg_1)\n",
    "a2_0, e2_0, inc2_0, Omega2_0, omega2_0, f2_0, M2_0, N2_0 = model_c2e(cfg_2)"
   ]
  },
  {
   "cell_type": "code",
   "execution_count": null,
   "metadata": {},
   "outputs": [],
   "source": [
    "# Model mapping orbital elements to cartesian coordinates\n",
    "model_e2c = make_model_elt_to_cfg()"
   ]
  },
  {
   "cell_type": "code",
   "execution_count": null,
   "metadata": {},
   "outputs": [],
   "source": [
    "# Attempt to recover the original Jacobi coordinates\n",
    "qj0_1_rec, vj0_1_rec = model_e2c([a1_0, e1_0, inc1_0, Omega1_0, omega1_0, f1_0, mu0_1])\n",
    "qj0_2_rec, vj0_2_rec = model_e2c([a2_0, e2_0, inc2_0, Omega2_0, omega2_0, f2_0, mu0_2])"
   ]
  },
  {
   "cell_type": "code",
   "execution_count": null,
   "metadata": {},
   "outputs": [],
   "source": [
    "# Error in recovered Jacobi coordinates - position qj0\n",
    "err_qj0_1 = qj0_1_rec - qj0_1\n",
    "err_qj0_2 = qj0_2_rec - qj0_2\n",
    "err_qj0 = np.concatenate([err_qj0_1, err_qj0_2])\n",
    "rms_qj0 = rms(err_qj0)\n",
    "\n",
    "# Error in recovered Jacobi coordinates - velocity vj0\n",
    "err_qj0_1 = qj0_1_rec - qj0_1\n",
    "err_qj0_2 = qj0_2_rec - qj0_2\n",
    "err_qj0 = np.concatenate([err_qj0_1, err_qj0_2])\n",
    "rms_qj0 = rms(err_qj0)\n",
    "\n",
    "# Display errors\n",
    "print(f'RMS Error in recovered initial Jacobi position qj0_rec:\\n{rms_qj0:5.3e}')\n",
    "print(f'RMS Error in recovered initial Jacobi velocity vj0_rec:\\n{rms_v0:5.3e}')"
   ]
  },
  {
   "cell_type": "markdown",
   "metadata": {},
   "source": [
    "***The round trip from Jacobi coordinates, to orbital elements, and back is very accurate with losses on the order of 1E-6.***"
   ]
  },
  {
   "cell_type": "markdown",
   "metadata": {},
   "source": [
    "## Kepler-Jacobi Model for the Three Body Problem\n",
    "\n",
    "Approximate the motion as coupled Kepler two body problems using Jacobi coordinates."
   ]
  },
  {
   "cell_type": "markdown",
   "metadata": {},
   "source": [
    "**Position Model: Compute q over time with Orbital Elements and Kepler's Equation**<br>\n",
    "In the next section, we instantiate a mathematical position model."
   ]
  },
  {
   "cell_type": "code",
   "execution_count": null,
   "metadata": {},
   "outputs": [],
   "source": [
    "n_years = 100\n",
    "sample_freq = 10\n",
    "traj_size = n_years * sample_freq + 1"
   ]
  },
  {
   "cell_type": "code",
   "execution_count": null,
   "metadata": {},
   "outputs": [],
   "source": [
    "position_model_math = make_position_model_g3b_math(traj_size=traj_size, batch_size=batch_size, num_gpus=1)"
   ]
  },
  {
   "cell_type": "code",
   "execution_count": null,
   "metadata": {},
   "outputs": [],
   "source": [
    "optimizer = keras.optimizers.Adam(learning_rate=1.0E-3)\n",
    "\n",
    "loss_pos = {'q': VectorError(name='q_loss'),\n",
    "            'v': VectorError(name='v_loss'),\n",
    "            'a': VectorError(name='a_loss')}\n",
    "\n",
    "metrics = None\n",
    "\n",
    "loss_weights_pos = {'q': 1.0,\n",
    "                    'v': 1.0,\n",
    "                    'a': 1.0}"
   ]
  },
  {
   "cell_type": "code",
   "execution_count": null,
   "metadata": {},
   "outputs": [],
   "source": [
    "# Compile the position model\n",
    "position_model_math.compile(optimizer=optimizer, loss=loss_pos, metrics=metrics, loss_weights=loss_weights_pos)"
   ]
  },
  {
   "cell_type": "code",
   "execution_count": null,
   "metadata": {},
   "outputs": [],
   "source": [
    "# # Compile the mathematical model for parallel GPUs\n",
    "# with strat.scope():\n",
    "#     position_model_math2 = make_position_model_g3b_math(traj_size=traj_size, \n",
    "#                                                         batch_size=batch_size, num_gpus=num_gpus)\n",
    "#     position_model_math2.compile(optimizer=optimizer, loss=loss_pos, metrics=metrics, loss_weights=loss_weights_pos)"
   ]
  },
  {
   "cell_type": "code",
   "execution_count": null,
   "metadata": {},
   "outputs": [],
   "source": [
    "# Test the position model on the tiny data set\n",
    "position_model_math.evaluate(ds_tiny_trn)"
   ]
  },
  {
   "cell_type": "code",
   "execution_count": null,
   "metadata": {},
   "outputs": [],
   "source": [
    "# Test the position model on the example batch; \n",
    "# b/c the tiny set has 100 elements it only has 1 batch when dropping remainders\n",
    "# so the output should be the same as with evaluate(ds_tiny_trn)\n",
    "position_model_math.test_on_batch(batch_in, batch_out)"
   ]
  },
  {
   "cell_type": "code",
   "execution_count": null,
   "metadata": {},
   "outputs": [],
   "source": [
    "# Test the position model on the small data set\n",
    "position_model_math.evaluate(ds_small_trn)"
   ]
  },
  {
   "cell_type": "code",
   "execution_count": null,
   "metadata": {},
   "outputs": [],
   "source": [
    "q_pos, v_pos, a_pos = position_model_math([t, q0, v0, m])\n",
    "print('shape of position_model outputs:')\n",
    "print(f'q_pos: {q_pos.shape}')\n",
    "print(f'v_pos: {v_pos.shape}')"
   ]
  },
  {
   "cell_type": "code",
   "execution_count": null,
   "metadata": {},
   "outputs": [],
   "source": [
    "# Compute RMS error in recovered position\n",
    "num_body=3\n",
    "q_err = q_pos - q\n",
    "v_err = v_pos - v\n",
    "q_rms_err = rms(q_err)\n",
    "v_rms_err = rms(v_err)\n",
    "print(f'Position RMS error: {q_rms_err:5.2e}')\n",
    "print(f'Velocity RMS error: {v_rms_err:5.2e}')"
   ]
  },
  {
   "cell_type": "code",
   "execution_count": null,
   "metadata": {},
   "outputs": [],
   "source": [
    "# Compute RMS error in recovered initial position; should be nearly zero\n",
    "q0_err = np.linalg.norm(q_err[:,0,:,:], axis=(1,2,))\n",
    "# Index with max error\n",
    "idx_q = np.argmax(q0_err)\n",
    "\n",
    "# Print error in q0\n",
    "print(f'RMS Error in q0: {rms(q0_err):5.2e}')\n",
    "print(f'Max error in q0 at index {idx_q} = {q0_err[idx_q]:5.2e}')\n",
    "# q0_err"
   ]
  },
  {
   "cell_type": "code",
   "execution_count": null,
   "metadata": {},
   "outputs": [],
   "source": [
    "# Compute RMS error in recovered initial velocity; should be nearly zero\n",
    "v0_err = np.linalg.norm(v_err[:,0,:,:], axis=(1,2,))\n",
    "# Index with max error\n",
    "idx_v = np.argmax(v0_err)\n",
    "\n",
    "# Print error in v0\n",
    "print(f'RMS Error in v0: {rms(v0_err):5.2e}')\n",
    "print(f'Max error in v0 at index {idx_v} = {v0_err[idx_v]:5.2e}')\n",
    "# q0_err"
   ]
  },
  {
   "cell_type": "markdown",
   "metadata": {},
   "source": [
    "***The position model recovers the initial position and velocity with very high accuracy, on the order of 1E-6***<br>\n",
    "The accuracy drifts lower over 100 years because the 2 body approximation breaks down."
   ]
  },
  {
   "cell_type": "markdown",
   "metadata": {},
   "source": [
    "**Motion Model: Compute v and a from q using automatic differentiation**<br>\n",
    "In the next section, we instantiate a motion model using mathematical position model."
   ]
  },
  {
   "cell_type": "code",
   "execution_count": null,
   "metadata": {},
   "outputs": [],
   "source": [
    "motion_model_math = Motion_G3B(position_model=position_model_math, name='motion_model')"
   ]
  },
  {
   "cell_type": "code",
   "execution_count": null,
   "metadata": {},
   "outputs": [],
   "source": [
    "q_mot, v_mot, a_mot = motion_model_math([t, q0, v0, m])\n",
    "print('shape of motion_model outputs:')\n",
    "print(f'q_mot: {q_mot.shape}')\n",
    "print(f'v_mot: {v_mot.shape}')\n",
    "print(f'a_mot: {a_mot.shape}')"
   ]
  },
  {
   "cell_type": "code",
   "execution_count": null,
   "metadata": {},
   "outputs": [],
   "source": [
    "# Compare v_mot with v_pos\n",
    "vel_err = v_mot - v_pos\n",
    "\n",
    "# Compute RMS error\n",
    "v_rms_err = np.sqrt(np.mean(vel_err**2))\n",
    "v_rel_err = v_rms_err / np.sqrt(np.mean(v_pos**2))\n",
    "print(f'RMS error of recovered velocity from automatic differentiation vs. orbital elements:')\n",
    "print(f'{v_rms_err:5.2E}')\n",
    "print(f'Relative error of recovered velocity from automatic differentiation vs. orbital elements:')\n",
    "print(f'{v_rel_err:5.2E}')"
   ]
  },
  {
   "cell_type": "markdown",
   "metadata": {},
   "source": [
    "***Velocity computed by automatic differentiation is extremely close to velocity from stable orbital elements,\n",
    "with differences on the order of 1E-7***"
   ]
  },
  {
   "cell_type": "code",
   "execution_count": null,
   "metadata": {},
   "outputs": [],
   "source": [
    "loss_mot = {'q': VectorError(name='q_loss'),\n",
    "            'v': VectorError(name='v_loss'),\n",
    "            'a': VectorError(name='a_loss')}\n",
    "\n",
    "loss_weights_mot = {'q': 1.0,\n",
    "                    'v': 1.0,\n",
    "                    'a': 1.0}"
   ]
  },
  {
   "cell_type": "code",
   "execution_count": null,
   "metadata": {},
   "outputs": [],
   "source": [
    "# Compile the motion model\n",
    "motion_model_math.compile(optimizer=optimizer, loss=loss_mot, metrics=metrics, loss_weights=loss_weights_mot)"
   ]
  },
  {
   "cell_type": "code",
   "execution_count": null,
   "metadata": {},
   "outputs": [],
   "source": [
    "# Test the position model on the tiny data set\n",
    "# motion_model_math.evaluate(ds_tiny_trn)"
   ]
  },
  {
   "cell_type": "markdown",
   "metadata": {},
   "source": [
    "**Full physics model: computes energy, momentum and angular momentum from m, q, v**<br>\n",
    "In the next section, we instantiate a full physics model from the same mathematical position model.<br>\n",
    "This model is evloving the G3B system using Kepler's Equation and computing the physical quantities.\n",
    "It is an approximate solution only that treats the 3 body system as two 2 body systems described in Jacobi coordinates.\n",
    "Body 1 orbits around the primary in the first system.  Body 2 orbits around the center of mass of body 1 in the second system.  The second system is simplified by replacing the primary and body 1 with their combined center of mass."
   ]
  },
  {
   "cell_type": "code",
   "execution_count": null,
   "metadata": {},
   "outputs": [],
   "source": [
    "# model_math = make_physics_model_g3b(position_model=position_model_math, traj_size=traj_size)"
   ]
  },
  {
   "cell_type": "code",
   "execution_count": null,
   "metadata": {},
   "outputs": [],
   "source": [
    "model_math = make_model_g3b_math(traj_size=traj_size)"
   ]
  },
  {
   "cell_type": "markdown",
   "metadata": {},
   "source": [
    "## Review outputs of math model"
   ]
  },
  {
   "cell_type": "code",
   "execution_count": null,
   "metadata": {},
   "outputs": [],
   "source": [
    "q, v, a, q0_rec, v0_rec, H, P, L = model_math([t, q0, v0, m])\n",
    "print(f'model output shapes:')\n",
    "print(f'q = {q.shape}')\n",
    "print(f'v = {v.shape}')\n",
    "print(f'a = {a.shape}')\n",
    "print(f'q0_rec = {q0_rec.shape}')\n",
    "print(f'v0_rec = {v0_rec.shape}')\n",
    "print(f'H = {H.shape}')\n",
    "print(f'P = {P.shape}')\n",
    "print(f'L = {L.shape}')"
   ]
  },
  {
   "cell_type": "code",
   "execution_count": null,
   "metadata": {},
   "outputs": [],
   "source": [
    "optimizer = keras.optimizers.Adam(learning_rate=1.0E-3)\n",
    "\n",
    "loss = {'q': VectorError(name='q_loss'),\n",
    "        'v': VectorError(name='v_loss'),\n",
    "        'a': VectorError(regularizer=1.0, name='a_loss'),\n",
    "        'q0_rec': VectorError(name='q0_loss'),\n",
    "        'v0_rec': VectorError(name='v0_loss'),\n",
    "        'H': EnergyError(name='H_loss'),\n",
    "        'P': VectorError(name='P_loss', regularizer=1.0),\n",
    "        'L': VectorError(name='L_loss'),\n",
    "       }\n",
    "\n",
    "metrics = None\n",
    "\n",
    "loss_weights = {'q': 1.0,\n",
    "                'v': 1.0,\n",
    "                'a': 1.0,\n",
    "                'q0_rec': 1.0,\n",
    "                'v0_rec': 1.0,\n",
    "                'H': 1.0,\n",
    "                'P': 1.0,\n",
    "                'L': 1.0}"
   ]
  },
  {
   "cell_type": "code",
   "execution_count": null,
   "metadata": {},
   "outputs": [],
   "source": [
    "# Compile the full mathematical model\n",
    "model_math.compile(optimizer=optimizer, loss=loss, metrics=metrics, loss_weights=loss_weights)"
   ]
  },
  {
   "cell_type": "code",
   "execution_count": null,
   "metadata": {},
   "outputs": [],
   "source": [
    "# Evaluate the math model on the small data set\n",
    "model_math.evaluate(ds_tiny_trn)"
   ]
  },
  {
   "cell_type": "code",
   "execution_count": null,
   "metadata": {},
   "outputs": [],
   "source": [
    "# Evaluate the math model on the small data set\n",
    "model_math.evaluate(ds_small_trn)"
   ]
  },
  {
   "cell_type": "markdown",
   "metadata": {},
   "source": [
    "***The Kepler-Jacobi model is surprisingly accurate on solar-type systems.<br>***\n",
    "Because the central mass is so dominant (planetary masses are logarithmically sampled between 1E-7 and 2E-3 solar masses),\n",
    "approximating the 3 body system as coupled 2 body systems with Jacobi coordinates achieves MSE for position and velocity on the order of 5.0E-3 AU or AU / year, consistent with RMS errors around 0.07.  Not bad for a 100 year forecast!<br>\n",
    "The losses on the physical quantities are all negible.  This is because the modeling approach preserves physical quantities including energy, momentum and angular momentum, and the orbital elements are capable of matching the initial conditions to very high accuracy."
   ]
  },
  {
   "cell_type": "markdown",
   "metadata": {},
   "source": [
    "**Summary of Accuracy for earth-jupiter type systems as masses vary:**<br>\n",
    "When the mass is small (e.g. 1E-6 on both planets), 100 years of simulations is very accurate.<br>\n",
    "Mean position error is 1.78E-6; accuracy trend is 5.6E-7 to 1.2E-5.<br>\n",
    "When the mass is large (e.g. 1E-2 on both planets), 100 years of simulations have declining accuracy, but are still quite close. <br>\n",
    "Mean position error is 4.15E-3; accuracy trend is 7.2E-7 to 2.5E-2.<br>\n",
    "With approximate solar system values (1E-3, 1E-6), 100 years of simulation are a good approximation.<br>\n",
    "Mean position error is 2.53E-4; accuracy trend 1.23E-6 to 1.42E-3."
   ]
  },
  {
   "cell_type": "markdown",
   "metadata": {},
   "source": [
    "## Simple Neural Network Model Based on Kepler-Jacobi Model\n",
    "\n",
    "This neural network model is based on starting with an approximate solution using the Kepler-Jacobi model.<br>\n",
    "The neural network is designed to learn how to adjust the orbital elements to improve the accuracy of the solution.<br>\n",
    "The network design is along the following lines:\n",
    "* The initial position and velocity are converted to Jacobi coordinates qj and vj\n",
    "* The initial orbital elements a0, e0, inc0, Omega0, omega0, f0, N0, M0 are extracted from the Jacobi coordinates\n",
    "* The orbit is simulated over time using the Kepler-Jacobi model.\n",
    "    * The 5 orbital elements a, e, inc, Omega, omega remain\n",
    "    * The mean anomaly is linear in time with slope given by the mean motion $N_0$\n",
    "    * The true anomaly is computed from the mean anomaly using Kepler's Equation $M = E - e \\sin (E)$\n",
    "* The following features, which remain constant for an orbit, are collected into an initial batch of features:<br>\n",
    "phi_traj = [a0, e0, inc0, Omega0, omega0, N0]\n",
    "* These features are then copied to match the shape of the output, i.e. duplicated traj_size times in the appropriate axis\n",
    "* The initial feature layer phi_0 consists of [t, phi_traj, M, f], where M and f are the computed mean anomaly and true anomaly over time\n",
    "* The first hidden layer phi_1 has as an input phi_0.  The size is an argument to the model building function.\n",
    "* The outputs of phi_1 are combined with phi_0, i.e. phi_1 = [phi_0, phi_1]\n",
    "* The second hidden layer phi_2 has an input of phi_1.  The size is an argument to the model building function.\n",
    "* The outputs of phi_2 are combined with phi_1, i.e. phi_2 = [phi_1, phi_2]\n",
    "* There are six layers to compute the orbital elements a, e, inc, Omega, omega, f as a function of time.  These accept as inputs phi_n, the last output layer above.  (It can be phi_0, phi_1, or phi_2 depending on the specified input size.)\n",
    "* The calculated orbital elements are transformed minimally to ensure that they are legal: a must be non-negative and e in [0, 1].\n",
    "* The orbital elements are transformed into Cartesian Jacobi coordinates for the trajectory\n",
    "* The Jacobi coordinates are transformed back to Cartesian coordinates for the 2 bodies"
   ]
  },
  {
   "cell_type": "code",
   "execution_count": null,
   "metadata": {},
   "outputs": [],
   "source": [
    "# Configuration for neural network model\n",
    "hidden_sizes = [64, 16]\n",
    "# hidden_sizes = []\n",
    "skip_layers = True\n",
    "traj_size = 1001\n",
    "batch_size = 64"
   ]
  },
  {
   "cell_type": "code",
   "execution_count": null,
   "metadata": {},
   "outputs": [],
   "source": [
    "# Build neural network model\n",
    "model_nn = make_model_g3b_nn(hidden_sizes=hidden_sizes, skip_layers=skip_layers, traj_size=traj_size)"
   ]
  },
  {
   "cell_type": "code",
   "execution_count": null,
   "metadata": {},
   "outputs": [],
   "source": [
    "# position_model_nn.summary()"
   ]
  },
  {
   "cell_type": "code",
   "execution_count": null,
   "metadata": {},
   "outputs": [],
   "source": [
    "optimizer = keras.optimizers.Adam(learning_rate=2.0E-5)\n",
    "\n",
    "loss = {'q': VectorError(name='q_loss'),\n",
    "        'v': VectorError(name='v_loss'),\n",
    "        'a': VectorError(regularizer=1.0E-2, name='a_loss'),\n",
    "        'q0_rec': VectorError(name='q0_loss'),\n",
    "        'v0_rec': VectorError(name='v0_loss'),\n",
    "        'H': EnergyError(name='H_loss'),\n",
    "        'P': VectorError(name='P_loss', regularizer=1.0E-4),\n",
    "        'L': VectorError(name='L_loss'),\n",
    "       }\n",
    "\n",
    "metrics = None\n",
    "\n",
    "loss_weights = {'q': 1.0,\n",
    "                'v': 1.0,\n",
    "                'a': 1.0,\n",
    "                'q0_rec': 1.0,\n",
    "                'v0_rec': 1.0,\n",
    "                'H': 1.0,\n",
    "                'P': 1.0,\n",
    "                'L': 1.0}"
   ]
  },
  {
   "cell_type": "code",
   "execution_count": null,
   "metadata": {},
   "outputs": [],
   "source": [
    "# Compile the NN model\n",
    "model_nn.compile(optimizer=optimizer, loss=loss, metrics=metrics, loss_weights=loss_weights)"
   ]
  },
  {
   "cell_type": "code",
   "execution_count": null,
   "metadata": {},
   "outputs": [],
   "source": [
    "# # Create a list of medium data sets\n",
    "# n_traj = 10000\n",
    "# # num_data_sets = 50\n",
    "# num_data_sets = 10\n",
    "# seeds = list(range(42, 42+3*num_data_sets, 3))\n",
    "\n",
    "# # Load big combined dataset\n",
    "# ds_trn, ds_val, ds_tst = combine_datasets_g3b(\n",
    "#     n_traj=n_traj, vt_split=vt_split, n_years=n_years, sample_freq=sample_freq,\n",
    "#     m_min=m_min, m_max=m_max, a_min=a_min, a_max=a_max,\n",
    "#     e_max=e_max, inc_max=inc_max, seeds=seeds, batch_size=batch_size)"
   ]
  },
  {
   "cell_type": "code",
   "execution_count": null,
   "metadata": {},
   "outputs": [],
   "source": [
    "# Evaluate the NN model on the tiny training data\n",
    "model_nn.evaluate(ds_tiny_trn)"
   ]
  },
  {
   "cell_type": "code",
   "execution_count": null,
   "metadata": {},
   "outputs": [],
   "source": [
    "# Evaluate the NN model on the small training data\n",
    "model_nn.evaluate(ds_small_trn)"
   ]
  },
  {
   "cell_type": "code",
   "execution_count": null,
   "metadata": {},
   "outputs": [],
   "source": [
    "# Evaluate the NN model on the full training data\n",
    "model_nn.evaluate(ds_trn)"
   ]
  },
  {
   "cell_type": "code",
   "execution_count": null,
   "metadata": {},
   "outputs": [],
   "source": [
    "# Set up training\n",
    "suffix = '_'.join(str(sz) for sz in hidden_sizes)\n",
    "model_name = f'model_g3b_nn_{suffix}'\n",
    "model_h5 = f'../models/g3b/{model_name}.h5'\n",
    "hist_name = model_name.replace('model_', 'hist_')\n",
    "epochs = 1\n",
    "save_freq = 'epoch'"
   ]
  },
  {
   "cell_type": "code",
   "execution_count": null,
   "metadata": {},
   "outputs": [],
   "source": [
    "try:\n",
    "    model_nn.load_weights(model_h5)\n",
    "    model_nn.compile(loss=loss, optimizer=optimizer, metrics=metrics)\n",
    "    hist = vartbl[hist_name]\n",
    "    print(f'Loaded {model_name} from {model_h5}.')\n",
    "except:\n",
    "    print(f'Unable to load {model_name} from {model_h5}. Fitting...')\n",
    "    hist = fit_model(model=model_nn, \n",
    "                     ds=ds_tiny_trn, \n",
    "                     epochs=epochs,\n",
    "                     loss=loss, \n",
    "                     optimizer=optimizer,\n",
    "                     metrics=metrics,\n",
    "                     save_freq=save_freq,\n",
    "                     prev_history = None, \n",
    "                     batch_num=0)\n",
    "    vartbl[hist_name] = hist\n",
    "    save_vartbl(vartbl, fname)"
   ]
  },
  {
   "cell_type": "code",
   "execution_count": null,
   "metadata": {},
   "outputs": [],
   "source": [
    "num_epochs = 50\n",
    "for i in range(num_epochs):\n",
    "    ts = datetime.datetime.now()\n",
    "    st = ts.strftime('%Y-%m-%d %H:%M:%S')\n",
    "    print(f'*** Training loop {i+1:3} *** - {st}')\n",
    "    hist = fit_model(model=model_nn, \n",
    "                     ds=ds_trn, \n",
    "                     epochs=epochs,\n",
    "                     loss=loss, \n",
    "                     optimizer=optimizer,\n",
    "                     metrics=metrics,\n",
    "                     save_freq=save_freq,\n",
    "                     prev_history = hist, \n",
    "                     batch_num=i)\n",
    "    vartbl[hist_name] = hist\n",
    "    save_vartbl(vartbl, fname)"
   ]
  },
  {
   "cell_type": "code",
   "execution_count": null,
   "metadata": {},
   "outputs": [],
   "source": [
    "model_nn.evaluate(ds_small_trn)"
   ]
  },
  {
   "cell_type": "code",
   "execution_count": null,
   "metadata": {},
   "outputs": [],
   "source": [
    "fig, ax = plot_loss_hist(hist, '[64, 16]')"
   ]
  },
  {
   "cell_type": "code",
   "execution_count": null,
   "metadata": {},
   "outputs": [],
   "source": [
    "best_epoch = np.argmin(hist['q_loss'])\n",
    "print(f'Best epoch: {best_epoch}')"
   ]
  },
  {
   "cell_type": "code",
   "execution_count": null,
   "metadata": {},
   "outputs": [],
   "source": [
    "hist['q_loss'][best_epoch]"
   ]
  },
  {
   "cell_type": "code",
   "execution_count": null,
   "metadata": {},
   "outputs": [],
   "source": [
    "hist['q_loss'][0]"
   ]
  },
  {
   "cell_type": "code",
   "execution_count": null,
   "metadata": {},
   "outputs": [],
   "source": [
    "model_nn.evaluate(ds_trn)"
   ]
  },
  {
   "cell_type": "code",
   "execution_count": null,
   "metadata": {},
   "outputs": [],
   "source": [
    "model_nn.evaluate(ds_tst)"
   ]
  },
  {
   "cell_type": "code",
   "execution_count": null,
   "metadata": {},
   "outputs": [],
   "source": [
    "model_math.evaluate(ds_trn)"
   ]
  },
  {
   "cell_type": "code",
   "execution_count": null,
   "metadata": {},
   "outputs": [],
   "source": [
    "model_math.evaluate(ds_tst)"
   ]
  },
  {
   "cell_type": "code",
   "execution_count": null,
   "metadata": {},
   "outputs": [],
   "source": []
  }
 ],
 "metadata": {
  "kernelspec": {
   "display_name": "Python [conda env:nbody]",
   "language": "python",
   "name": "conda-env-nbody-py"
  },
  "language_info": {
   "codemirror_mode": {
    "name": "ipython",
    "version": 3
   },
   "file_extension": ".py",
   "mimetype": "text/x-python",
   "name": "python",
   "nbconvert_exporter": "python",
   "pygments_lexer": "ipython3",
   "version": "3.7.3"
  }
 },
 "nbformat": 4,
 "nbformat_minor": 2
}
