{
 "cells": [
  {
   "cell_type": "markdown",
   "metadata": {},
   "source": [
    "# Restricted Two Body Problem: Elliptical Orbits Around a Central Mass\n",
    "\n",
    "This is the general case of a Keperian orbit.<br>\n",
    "A light body (e.g. a planet) orbits a heavy central body (e.g. the sun).  The orbit is an ellipse with the primary at one focus."
   ]
  },
  {
   "cell_type": "code",
   "execution_count": 1,
   "metadata": {},
   "outputs": [],
   "source": [
    "# Library imports\n",
    "import tensorflow as tf\n",
    "import rebound\n",
    "import numpy as np\n",
    "\n",
    "# Aliases\n",
    "keras = tf.keras"
   ]
  },
  {
   "cell_type": "code",
   "execution_count": 2,
   "metadata": {},
   "outputs": [],
   "source": [
    "# Local imports\n",
    "from utils import load_vartbl, save_vartbl, plot_style\n",
    "from tf_utils import gpu_grow_memory, TimeHistory\n",
    "from tf_utils import plot_loss_hist, EpochLoss, TimeHistory\n",
    "from tf_utils import Identity\n",
    "\n",
    "from orbital_element import OrbitalElementToConfig, ConfigToOrbitalElement\n",
    "from orbital_element import make_model_elt_to_cfg, make_model_cfg_to_elt\n",
    "\n",
    "from r2b_data import make_traj_r2b, make_train_r2b, make_datasets_r2b, make_datasets_earth\n",
    "from r2b import KineticEnergy_R2B, PotentialEnergy_R2B, AngularMomentum_R2B"
   ]
  },
  {
   "cell_type": "code",
   "execution_count": 3,
   "metadata": {},
   "outputs": [],
   "source": [
    "# Lightweight serialization\n",
    "# fname = '../data/r2b/r2bc.pickle'\n",
    "# vartbl = load_vartbl(fname)"
   ]
  },
  {
   "cell_type": "markdown",
   "metadata": {},
   "source": [
    "### Generate data sets and an example batch"
   ]
  },
  {
   "cell_type": "code",
   "execution_count": 4,
   "metadata": {},
   "outputs": [],
   "source": [
    "# Generate one example trajectory\n",
    "a = 1.0\n",
    "e = 0.0\n",
    "inc = 0.0\n",
    "Omega = 0.0\n",
    "omega = 0.0\n",
    "f = 0.0\n",
    "n_years = 2\n",
    "\n",
    "inputs_traj, outputs_traj = make_traj_r2b(a=a, e=e, inc=inc, Omega=Omega, omega=omega, f=f, n_years=n_years)"
   ]
  },
  {
   "cell_type": "code",
   "execution_count": 5,
   "metadata": {},
   "outputs": [
    {
     "data": {
      "text/plain": [
       "dict_keys(['t', 'q0', 'v0', 'mu'])"
      ]
     },
     "execution_count": 5,
     "metadata": {},
     "output_type": "execute_result"
    }
   ],
   "source": [
    "inputs_traj.keys()"
   ]
  },
  {
   "cell_type": "code",
   "execution_count": 6,
   "metadata": {},
   "outputs": [],
   "source": [
    "# Inputs for make_train_r2b\n",
    "n_traj = 10\n",
    "n_years = 2\n",
    "a_min = 0.50\n",
    "a_max = 32.0\n",
    "e_max = 0.20\n",
    "inc_max = np.pi/4.0\n",
    "seed = 42"
   ]
  },
  {
   "cell_type": "code",
   "execution_count": 7,
   "metadata": {},
   "outputs": [
    {
     "data": {
      "application/vnd.jupyter.widget-view+json": {
       "model_id": "f30dc15da9de42b298394d9923a8190a",
       "version_major": 2,
       "version_minor": 0
      },
      "text/plain": [
       "HBox(children=(IntProgress(value=0, max=10), HTML(value='')))"
      ]
     },
     "metadata": {},
     "output_type": "display_data"
    },
    {
     "name": "stdout",
     "output_type": "stream",
     "text": [
      "\n"
     ]
    }
   ],
   "source": [
    "# Test make_train_r2b\n",
    "inputs, outputs= make_train_r2b(n_traj=n_traj, n_years=n_years, a_min=a_min, a_max=a_max, \n",
    "                                e_max=e_max, inc_max=inc_max, seed=seed)"
   ]
  },
  {
   "cell_type": "code",
   "execution_count": 8,
   "metadata": {},
   "outputs": [],
   "source": [
    "# Inputs for make_datasets_r2b\n",
    "n_traj = 100\n",
    "vt_split = 0.20\n",
    "n_years = 2\n",
    "a_min = 0.50\n",
    "a_max = 32.0\n",
    "e_max = 0.20\n",
    "inc_max = np.pi/4.0\n",
    "seed = 42\n",
    "batch_size = 64"
   ]
  },
  {
   "cell_type": "code",
   "execution_count": 9,
   "metadata": {},
   "outputs": [
    {
     "name": "stdout",
     "output_type": "stream",
     "text": [
      "Loaded data from ../data/r2b/1421569704.pickle.\n"
     ]
    }
   ],
   "source": [
    "ds_trn, ds_val, ds_tst = make_datasets_r2b(n_traj=n_traj, vt_split=vt_split, n_years=n_years, a_min=a_min, a_max=a_max, \n",
    "                                e_max=e_max, inc_max=inc_max, seed=seed, batch_size=batch_size)"
   ]
  },
  {
   "cell_type": "code",
   "execution_count": 10,
   "metadata": {},
   "outputs": [
    {
     "name": "stdout",
     "output_type": "stream",
     "text": [
      "Loaded data from ../data/r2b/2367906283.pickle.\n"
     ]
    }
   ],
   "source": [
    "# Create DataSet objects for toy size problem - earth orbits only (a=1, e=0)\n",
    "ds_earth_trn, ds_earth_val, ds_earth_tst = make_datasets_earth(n_traj=n_traj, vt_split=vt_split, n_years=n_years)"
   ]
  },
  {
   "cell_type": "code",
   "execution_count": 31,
   "metadata": {},
   "outputs": [
    {
     "name": "stdout",
     "output_type": "stream",
     "text": [
      "Input field names:  ['t', 'q0', 'v0', 'mu']\n",
      "Output field names: ['q', 'v', 'a', 'q0_rec', 'v0_rec', 'T', 'U', 'H', 'L']\n",
      "Example batch sizes:\n",
      "t  = (64, 731)\n",
      "q0 = (64, 3)\n",
      "v0 = (64, 3)\n",
      "mu = (64,)\n",
      "q  = (64, 731, 3)\n",
      "v  = (64, 731, 3)\n",
      "a  = (64, 731, 3)\n",
      "H  = (64, 731)\n",
      "L  = (64, 731, 3)\n"
     ]
    }
   ],
   "source": [
    "# Example batch\n",
    "batch_in, batch_out = list(ds_earth_trn.take(1))[0]\n",
    "print('Input field names: ', list(batch_in.keys()))\n",
    "print('Output field names:', list(batch_out.keys()))\n",
    "\n",
    "t = batch_in['t']\n",
    "q0 = batch_in['q0']\n",
    "v0 = batch_in['v0']\n",
    "mu = batch_in['mu']\n",
    "\n",
    "q = batch_out['q']\n",
    "v = batch_out['v']\n",
    "a = batch_out['a']\n",
    "q0_rec = batch_out['q0_rec']\n",
    "v0_rec = batch_out['v0_rec']\n",
    "H = batch_out['H']\n",
    "L = batch_out['L']\n",
    "\n",
    "print(f'Example batch sizes:')\n",
    "print(f't  = {t.shape}')\n",
    "print(f'q0 = {q0.shape}')\n",
    "print(f'v0 = {v0.shape}')\n",
    "print(f'mu = {mu.shape}')\n",
    "\n",
    "print(f'q  = {q.shape}')\n",
    "print(f'v  = {v.shape}')\n",
    "print(f'a  = {a.shape}')\n",
    "# print(f'q0_rec = {q0_rec.shape}')\n",
    "# print(f'v0_rec = {v0_rec.shape}')\n",
    "print(f'H  = {H.shape}')\n",
    "print(f'L  = {L.shape}')"
   ]
  },
  {
   "cell_type": "code",
   "execution_count": 32,
   "metadata": {},
   "outputs": [],
   "source": [
    "traj_size = 731\n",
    "\n",
    "tf.debugging.assert_shapes(\n",
    "    shapes = {\n",
    "    # Inputs\n",
    "    t: (batch_size, traj_size),\n",
    "    q0: (batch_size, 3),\n",
    "    v0: (batch_size, 3),\n",
    "    mu: (batch_size,),\n",
    "    # Outputs\n",
    "    q: (batch_size, traj_size, 3),\n",
    "    v: (batch_size, traj_size, 3),\n",
    "    a: (batch_size, traj_size, 3),\n",
    "    q0_rec: (batch_size, 3),\n",
    "    v0_rec: (batch_size, 3),\n",
    "    H: (batch_size, traj_size),\n",
    "    L: (batch_size, traj_size, 3),\n",
    "    })"
   ]
  },
  {
   "cell_type": "markdown",
   "metadata": {},
   "source": [
    "**Call layers with physics computations**"
   ]
  },
  {
   "cell_type": "code",
   "execution_count": 33,
   "metadata": {},
   "outputs": [
    {
     "data": {
      "text/plain": [
       "TensorShape([64, 731])"
      ]
     },
     "execution_count": 33,
     "metadata": {},
     "output_type": "execute_result"
    }
   ],
   "source": [
    "T = KineticEnergy_R2B()(v)\n",
    "T.shape"
   ]
  },
  {
   "cell_type": "code",
   "execution_count": 34,
   "metadata": {},
   "outputs": [
    {
     "data": {
      "text/plain": [
       "TensorShape([64, 731])"
      ]
     },
     "execution_count": 34,
     "metadata": {},
     "output_type": "execute_result"
    }
   ],
   "source": [
    "U = PotentialEnergy_R2B()([q, mu])\n",
    "U.shape"
   ]
  },
  {
   "cell_type": "code",
   "execution_count": 35,
   "metadata": {},
   "outputs": [
    {
     "data": {
      "text/plain": [
       "TensorShape([64, 731, 3])"
      ]
     },
     "execution_count": 35,
     "metadata": {},
     "output_type": "execute_result"
    }
   ],
   "source": [
    "L = AngularMomentum_R2B()([q, v])\n",
    "L.shape"
   ]
  },
  {
   "cell_type": "markdown",
   "metadata": {},
   "source": [
    "**Conversion of initial configuration to orbital elements**"
   ]
  },
  {
   "cell_type": "code",
   "execution_count": 36,
   "metadata": {},
   "outputs": [],
   "source": [
    "qx = q0[:,0]\n",
    "qy = q0[:,1]\n",
    "qz = q0[:,2]\n",
    "vx = v0[:,0]\n",
    "vy = v0[:,1]\n",
    "vz = v0[:,2]\n",
    "inputs_cart = (qx, qy, qz, vx, vy, vz, mu)"
   ]
  },
  {
   "cell_type": "code",
   "execution_count": 37,
   "metadata": {},
   "outputs": [],
   "source": [
    "elts = ConfigToOrbitalElement()(inputs_cart)\n",
    "a0, e0, inc0, Omega0, omega0, f0, M0, N0 = elts"
   ]
  },
  {
   "cell_type": "code",
   "execution_count": 38,
   "metadata": {},
   "outputs": [
    {
     "name": "stdout",
     "output_type": "stream",
     "text": [
      "Example batch sizes:\n",
      "qx   = (64,)\n",
      "vx   = (64,)\n",
      "mu   = (64,)\n",
      "a0   = (64,)\n"
     ]
    }
   ],
   "source": [
    "# Review shapes\n",
    "print(f'Example batch sizes:')\n",
    "print(f'qx   = {qx.shape}')\n",
    "print(f'vx   = {vx.shape}')\n",
    "print(f'mu   = {mu.shape}')\n",
    "print(f'a0   = {a0.shape}')"
   ]
  },
  {
   "cell_type": "markdown",
   "metadata": {},
   "source": [
    "### Mathematical Model\n",
    "**Compute position as a function of time from initial orbital elements**"
   ]
  },
  {
   "cell_type": "code",
   "execution_count": 89,
   "metadata": {},
   "outputs": [],
   "source": [
    "def make_position_model_r2b_math(traj_size = 731):\n",
    "    \"\"\"\n",
    "    Compute orbit positions for the restricted two body problem from \n",
    "    the initial orbital elements with a deterministic mathematical model.\n",
    "    Factory function that returns a functional model.\n",
    "    \"\"\"\n",
    "    # Create input layers \n",
    "    t = keras.Input(shape=(traj_size,), name='t')\n",
    "    q0 = keras.Input(shape=(3,), name='q0')\n",
    "    v0 = keras.Input(shape=(3,), name='v0')\n",
    "    \n",
    "    # Wrap these up into one tuple of inputs for the model\n",
    "    inputs = (t, q0, v0)\n",
    "    \n",
    "    # The gravitational constant; give this shape (1,1) for compatibility with RepeatVector\n",
    "    # The numerical value mu0 is close to 4 pi^2; see rebound documentation for exact value\n",
    "    mu0 = tf.constant([[39.476924896240234]])\n",
    "\n",
    "    # Tuple of inputs for the model converting from configuration to orbital elements\n",
    "    inputs_c2e = (q0, v0, mu0)\n",
    "\n",
    "    # Model mapping cartesian coordinates to orbital elements\n",
    "    model_c2e = make_model_cfg_to_elt()\n",
    "    \n",
    "    # Extract the orbital elements of the initial conditions\n",
    "    a0, e0, inc0, Omega0, omega0, f0, M0, N0 = model_c2e(inputs_c2e)\n",
    "\n",
    "    # Name the outputs of the orbital elements model for legibility in model summary\n",
    "    # a0 = Identity(name='a0')(a0)\n",
    "    # e0 = Identity(name='e0')(e0)\n",
    "    # inc0 = Identity(name='inc0')(inc0)\n",
    "    # Omega0 = Identity(name='Omega0')(Omega0)\n",
    "    # omega0 = Identity(name='omega0')(omega0)\n",
    "    # f0 = Identity(name='f0')(f0)\n",
    "    # \"Bonus outputs\" - mean anomaly and mean motion\n",
    "    # M0 = Identity(name='M0')(M0)\n",
    "    # N0 = Identity(name='N0')(N0)\n",
    "\n",
    "    # Check shapes of initial orbital elements\n",
    "    batch_size = t.shape[0]\n",
    "    tf.debugging.assert_shapes(shapes={\n",
    "        a0: (batch_size, 1),\n",
    "        e0: (batch_size, 1),\n",
    "        inc0: (batch_size, 1),\n",
    "        Omega0: (batch_size, 1),\n",
    "        omega0: (batch_size, 1),\n",
    "        mu0: (batch_size, 1),\n",
    "    }, message='make_position_model_r2b_math / initial orbital elements')\n",
    "    \n",
    "    # Reshape t to (batch_size, traj_size, 1)\n",
    "    t_vec = keras.layers.Reshape(target_shape=(traj_size, 1), name='t_vec')(t)\n",
    "    \n",
    "    # Repeat the constant orbital elements to be vectors of shape (batch_size, traj_size)\n",
    "    a = keras.layers.RepeatVector(n=traj_size, name='a')(a0)\n",
    "    e = keras.layers.RepeatVector(n=traj_size, name='e')(e0)\n",
    "    inc = keras.layers.RepeatVector(n=traj_size, name='inc')(inc0)\n",
    "    Omega = keras.layers.RepeatVector(n=traj_size, name='Omega')(Omega0)\n",
    "    omega = keras.layers.RepeatVector(n=traj_size, name='omega')(omega0)\n",
    "    mu = keras.layers.RepeatVector(n=traj_size, name='mu_vec')(mu0)\n",
    "\n",
    "    # Throwaway - set the true anomaly f to initial f0 plus t\n",
    "    # This is wrong, but the code should run\n",
    "    f_vec = keras.layers.RepeatVector(n=traj_size, name='f')(f0)\n",
    "    f = f_vec + t_vec\n",
    "    \n",
    "#     # Check shapes of orbital element calculations\n",
    "#     tf.debugging.assert_shapes(shapes={\n",
    "#         a: (batch_size, traj_size, 1),\n",
    "#         e: (batch_size, traj_size, 1),\n",
    "#         inc: (batch_size, traj_size, 1),\n",
    "#         Omega: (batch_size, traj_size, 1),\n",
    "#         omega: (batch_size, traj_size, 1),\n",
    "#         f: (batch_size, traj_size, 1),\n",
    "#         mu: (batch_size, traj_size, 1),\n",
    "#     }, message='make_position_model_r2b_math / orbital element calcs')\n",
    "\n",
    "    # Wrap orbital elements into one tuple of inputs for layer converting to cartesian coordinates\n",
    "    inputs_e2c = (a, e, inc, Omega, omega, f, mu,)\n",
    "    \n",
    "    # Convert from orbital elements to cartesian\n",
    "    qx, qy, qz, vx, vy, vz = OrbitalElementToConfig(name='orbital_element_to_config')(inputs_e2c)\n",
    "    \n",
    "    # Wrap up the outputs\n",
    "    outputs = (qx, qy, qz, vx, vy, vz)\n",
    "    \n",
    "#     # Check shapes\n",
    "#     tf.debugging.assert_shapes(shapes={\n",
    "#         qx: (batch_size, traj_size, 1),\n",
    "#         qy: (batch_size, traj_size, 1),\n",
    "#         qz: (batch_size, traj_size, 1),\n",
    "#         vx: (batch_size, traj_size, 1),\n",
    "#         vy: (batch_size, traj_size, 1),\n",
    "#         vz: (batch_size, traj_size, 1),\n",
    "#     }, message='make_position_model_r2b_math / outputs')\n",
    "    \n",
    "    # Wrap this into a model\n",
    "    model = keras.Model(inputs=inputs, outputs=outputs, name='model_r2b_math')\n",
    "    return model"
   ]
  },
  {
   "cell_type": "code",
   "execution_count": 90,
   "metadata": {},
   "outputs": [],
   "source": [
    "position_model_math = make_position_model_r2b_math(traj_size=traj_size)"
   ]
  },
  {
   "cell_type": "code",
   "execution_count": 91,
   "metadata": {},
   "outputs": [
    {
     "name": "stdout",
     "output_type": "stream",
     "text": [
      "t     = (64, 731)\n",
      "a0    = (64,)\n",
      "e0    = (64,)\n",
      "inc0  = (64,)\n",
      "Omega0= (64,)\n",
      "omega0= (64,)\n",
      "f0    = (64,)\n"
     ]
    }
   ],
   "source": [
    "print(f't     = {t.shape}')\n",
    "print(f'a0    = {a0.shape}')\n",
    "print(f'e0    = {e0.shape}')\n",
    "print(f'inc0  = {inc0.shape}')\n",
    "print(f'Omega0= {Omega0.shape}')\n",
    "print(f'omega0= {omega0.shape}')\n",
    "print(f'f0    = {f0.shape}')"
   ]
  },
  {
   "cell_type": "code",
   "execution_count": 92,
   "metadata": {},
   "outputs": [
    {
     "name": "stdout",
     "output_type": "stream",
     "text": [
      "qx = (64, 731, 1)\n",
      "qy = (64, 731, 1)\n",
      "qz = (64, 731, 1)\n"
     ]
    }
   ],
   "source": [
    "qx, qy, qz, vx, vy, vz = position_model_math([t, q0, v0])\n",
    "print(f'qx = {qx.shape}')\n",
    "print(f'qy = {qy.shape}')\n",
    "print(f'qz = {qz.shape}')"
   ]
  },
  {
   "cell_type": "code",
   "execution_count": 93,
   "metadata": {},
   "outputs": [
    {
     "data": {
      "text/plain": [
       "array([[-5.551481 ],\n",
       "       [-5.5432205],\n",
       "       [-5.5349197],\n",
       "       [-5.5265765],\n",
       "       [-5.518193 ]], dtype=float32)"
      ]
     },
     "execution_count": 93,
     "metadata": {},
     "output_type": "execute_result"
    }
   ],
   "source": [
    "vx[0,0:5].numpy()"
   ]
  },
  {
   "cell_type": "code",
   "execution_count": 94,
   "metadata": {},
   "outputs": [],
   "source": [
    "# keras.utils.plot_model(position_model_math, '../model_plots/r2b/position_model_math.png')"
   ]
  },
  {
   "cell_type": "code",
   "execution_count": 95,
   "metadata": {},
   "outputs": [],
   "source": [
    "# position_model_math.summary()"
   ]
  },
  {
   "cell_type": "markdown",
   "metadata": {},
   "source": [
    "**Motion Model: Compute v and a from q using automatic differentiation**<br>\n",
    "Factory function that accepts any position model<br>\n",
    "Instantiated here from mathematical position model"
   ]
  },
  {
   "cell_type": "code",
   "execution_count": 132,
   "metadata": {},
   "outputs": [],
   "source": [
    "class Motion_R2B(keras.Model):\n",
    "    \"\"\"Motion for restricted two body problem generated from a position calculation model.\"\"\"\n",
    "\n",
    "    def __init__(self, position_model, **kwargs):\n",
    "        super(Motion_R2B, self).__init__(**kwargs)\n",
    "        self.position_model = position_model\n",
    "\n",
    "    def call(self, inputs):\n",
    "        \"\"\"\n",
    "        Compute full orbits for the restricted two body problem.\n",
    "        Computes positions using the passed position_layer, \n",
    "        then uses automatic differentiation for velocity v and acceleration a.\n",
    "        INPUTS:\n",
    "            t: the times to report the orbit; shape (batch_size, traj_size)\n",
    "            q0: the initial position; shape (batch_size, 3)\n",
    "            v0: the initial velocity; shape (batch_size, 3)\n",
    "        OUTPUTS:\n",
    "            q: the position at time t; shape (batch_size, traj_size, 3)\n",
    "            v: the velocity at time t; shape (batch_size, traj_size, 3)\n",
    "            a: the acceleration at time t; shape (batch_size, traj_size, 3)\n",
    "        \"\"\"\n",
    "        # Unpack the inputs\n",
    "        t, q0, v0 = inputs\n",
    "\n",
    "        # Get the trajectory size and target shape of t\n",
    "        traj_size = t.shape[1]\n",
    "        target_shape = (traj_size, 1)\n",
    "\n",
    "        # Reshape t to have shape (batch_size, traj_size, 1)\n",
    "        t = keras.layers.Reshape(target_shape=target_shape, name='t')(t)\n",
    "\n",
    "        # Check shapes after resizing operation; can accept t of shape EITHER \n",
    "        # (batch_size, traj_size) or (batch_size, traj_size, 1)\n",
    "        batch_size = t.shape[0]\n",
    "        tf.debugging.assert_shapes(shapes={\n",
    "            t: (batch_size, traj_size, 1),\n",
    "        }, message='Motion_R2B.call / inputs')\n",
    "    \n",
    "        # Evaluation of the position is under the scope of two gradient tapes\n",
    "        # These are for velocity and acceleration\n",
    "        with tf.GradientTape(persistent=True) as gt2:\n",
    "            gt2.watch(t)\n",
    "\n",
    "            with tf.GradientTape(persistent=True) as gt1:\n",
    "                gt1.watch(t)       \n",
    "        \n",
    "                # Get the position using the input position layer\n",
    "                position_inputs = (t, q0, v0)\n",
    "                # The velocity from the position model assumes the orbital elements are not changing\n",
    "                # Here we only want to take the position output and do a full automatic differentiation\n",
    "                qx, qy, qz, vx_, vy_, vz_ = self.position_model(position_inputs)\n",
    "                q = keras.layers.concatenate(inputs=[qx, qy, qz], axis=2, name='q')\n",
    "\n",
    "                tf.debugging.assert_shapes(shapes={\n",
    "                    qx: (batch_size, traj_size, 1),\n",
    "                    qy: (batch_size, traj_size, 1),\n",
    "                    qz: (batch_size, traj_size, 1),\n",
    "                    vx_: (batch_size, traj_size, 1),\n",
    "                    vy_: (batch_size, traj_size, 1),\n",
    "                    vz_: (batch_size, traj_size, 1),\n",
    "                }, message='Motion_R2B / outputs of position model')\n",
    "                \n",
    "            # Compute the velocity v = dq/dt with gt1\n",
    "            vx = gt1.gradient(qx, t)\n",
    "            vy = gt1.gradient(qy, t)\n",
    "            vz = gt1.gradient(qz, t)\n",
    "            v = keras.layers.concatenate(inputs=[vx, vy, vz], axis=2, name='v')\n",
    "            del gt1\n",
    "            \n",
    "            tf.debugging.assert_shapes(shapes={\n",
    "                vx: (batch_size, traj_size, 1),\n",
    "                vy: (batch_size, traj_size, 1),\n",
    "                vz: (batch_size, traj_size, 1),\n",
    "            }, message='Motion_R2B / velocity by automatic differentation')\n",
    "\n",
    "        # Compute the acceleration a = d2q/dt2 = dv/dt with gt2\n",
    "        ax = gt2.gradient(vx, t)\n",
    "        ay = gt2.gradient(vy, t)\n",
    "        az = gt2.gradient(vz, t)\n",
    "        # a = keras.layers.concatenate(inputs=[ax, ay, az], name='a')\n",
    "        a = ax\n",
    "        del gt2\n",
    "        \n",
    "        # Check shapes\n",
    "#         tf.debugging.assert_shapes(shapes={\n",
    "#             q: (batch_size, traj_size, 3),\n",
    "#             v: (batch_size, traj_size, 3),\n",
    "#             a: (batch_size, traj_size, 3),\n",
    "#         }, message='Motion_R2B.call / outputs')\n",
    "\n",
    "        return q, v, a"
   ]
  },
  {
   "cell_type": "code",
   "execution_count": 133,
   "metadata": {},
   "outputs": [],
   "source": [
    "motion_model_math = Motion_R2B(position_model=position_model_math, name='motion_model')"
   ]
  },
  {
   "cell_type": "code",
   "execution_count": 134,
   "metadata": {},
   "outputs": [],
   "source": [
    "# motion_model_math.summary()"
   ]
  },
  {
   "cell_type": "code",
   "execution_count": 135,
   "metadata": {},
   "outputs": [
    {
     "name": "stdout",
     "output_type": "stream",
     "text": [
      "shape of motion_model outputs:\n",
      "q: (64, 731, 3)\n",
      "v: (64, 731, 3)\n"
     ]
    }
   ],
   "source": [
    "q, v, a = motion_model_math([t, q0, v0])\n",
    "print('shape of motion_model outputs:')\n",
    "print(f'q: {q.shape}')\n",
    "print(f'v: {v.shape}')\n",
    "# print(f'acc: {a.shape}')"
   ]
  },
  {
   "cell_type": "code",
   "execution_count": 137,
   "metadata": {},
   "outputs": [
    {
     "data": {
      "text/plain": [
       "NoneType"
      ]
     },
     "execution_count": 137,
     "metadata": {},
     "output_type": "execute_result"
    }
   ],
   "source": [
    "type(a)"
   ]
  },
  {
   "cell_type": "code",
   "execution_count": 71,
   "metadata": {},
   "outputs": [
    {
     "data": {
      "text/plain": [
       "array([[-8.7614697e-01, -4.7325712e-01, -3.1138441e-04],\n",
       "       [-8.7486190e-01, -4.7565076e-01, -3.1178427e-04],\n",
       "       [-8.7357020e-01, -4.7804099e-01, -3.1218180e-04],\n",
       "       [-8.7227190e-01, -4.8042759e-01, -3.1257700e-04],\n",
       "       [-8.7096715e-01, -4.8281080e-01, -3.1296990e-04]], dtype=float32)"
      ]
     },
     "execution_count": 71,
     "metadata": {},
     "output_type": "execute_result"
    }
   ],
   "source": [
    "v.numpy()[0,0:5,:]"
   ]
  },
  {
   "cell_type": "code",
   "execution_count": null,
   "metadata": {},
   "outputs": [],
   "source": []
  }
 ],
 "metadata": {
  "kernelspec": {
   "display_name": "Python [conda env:nbody]",
   "language": "python",
   "name": "conda-env-nbody-py"
  },
  "language_info": {
   "codemirror_mode": {
    "name": "ipython",
    "version": 3
   },
   "file_extension": ".py",
   "mimetype": "text/x-python",
   "name": "python",
   "nbconvert_exporter": "python",
   "pygments_lexer": "ipython3",
   "version": "3.7.3"
  }
 },
 "nbformat": 4,
 "nbformat_minor": 2
}
