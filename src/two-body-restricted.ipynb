{
 "cells": [
  {
   "cell_type": "markdown",
   "metadata": {},
   "source": [
    "# Restricted Two Body Problem: Elliptical Orbits Around a Central Mass\n",
    "\n",
    "This is the general case of a Keperian orbit.<br>\n",
    "A light body (e.g. a planet) orbits a heavy central body (e.g. the sun).  The orbit is an ellipse with the primary at one focus."
   ]
  },
  {
   "cell_type": "code",
   "execution_count": null,
   "metadata": {},
   "outputs": [],
   "source": [
    "# Library imports\n",
    "import tensorflow as tf\n",
    "import rebound\n",
    "import numpy as np\n",
    "\n",
    "# Aliases\n",
    "keras = tf.keras"
   ]
  },
  {
   "cell_type": "code",
   "execution_count": 33,
   "metadata": {},
   "outputs": [],
   "source": [
    "# Local imports\n",
    "from utils import load_vartbl, save_vartbl, plot_style\n",
    "from tf_utils import gpu_grow_memory, TimeHistory\n",
    "from tf_utils import plot_loss_hist, EpochLoss, TimeHistory\n",
    "from tf_utils import Identity\n",
    "\n",
    "from orbital_element import OrbitalElementToConfig, ConfigToOrbitalElement\n",
    "\n",
    "from r2b_data import make_traj_r2b, make_train_r2b, make_datasets_r2b, make_datasets_earth\n",
    "from r2b import KineticEnergy_R2B, PotentialEnergy_R2B, AngularMomentum_R2B"
   ]
  },
  {
   "cell_type": "code",
   "execution_count": 3,
   "metadata": {},
   "outputs": [],
   "source": [
    "# Lightweight serialization\n",
    "# fname = '../data/r2b/r2bc.pickle'\n",
    "# vartbl = load_vartbl(fname)"
   ]
  },
  {
   "cell_type": "markdown",
   "metadata": {},
   "source": [
    "### Generate data sets and an example batch"
   ]
  },
  {
   "cell_type": "code",
   "execution_count": 4,
   "metadata": {},
   "outputs": [],
   "source": [
    "# Generate one example trajectory\n",
    "a = 1.0\n",
    "e = 0.0\n",
    "inc = 0.0\n",
    "Omega = 0.0\n",
    "omega = 0.0\n",
    "f = 0.0\n",
    "n_years = 2\n",
    "\n",
    "inputs_traj, outputs_traj = make_traj_r2b(a=a, e=e, inc=inc, Omega=Omega, omega=omega, f=f, n_years=n_years)"
   ]
  },
  {
   "cell_type": "code",
   "execution_count": 5,
   "metadata": {},
   "outputs": [
    {
     "data": {
      "text/plain": [
       "dict_keys(['t', 'q0', 'v0', 'mu'])"
      ]
     },
     "execution_count": 5,
     "metadata": {},
     "output_type": "execute_result"
    }
   ],
   "source": [
    "inputs_traj.keys()"
   ]
  },
  {
   "cell_type": "code",
   "execution_count": 169,
   "metadata": {},
   "outputs": [],
   "source": [
    "# Inputs for make_train_r2b\n",
    "n_traj = 10\n",
    "n_years = 2\n",
    "a_min = 0.50\n",
    "a_max = 32.0\n",
    "e_max = 0.20\n",
    "inc_max = np.pi/4.0\n",
    "seed = 42"
   ]
  },
  {
   "cell_type": "code",
   "execution_count": 183,
   "metadata": {},
   "outputs": [
    {
     "data": {
      "application/vnd.jupyter.widget-view+json": {
       "model_id": "28651e0b440f4613b91c47ab19eefcd6",
       "version_major": 2,
       "version_minor": 0
      },
      "text/plain": [
       "HBox(children=(IntProgress(value=0), HTML(value='')))"
      ]
     },
     "metadata": {},
     "output_type": "display_data"
    },
    {
     "name": "stdout",
     "output_type": "stream",
     "text": [
      "\n"
     ]
    }
   ],
   "source": [
    "# Test make_train_r2b\n",
    "inputs, outputs= make_train_r2b(n_traj=n_traj, n_years=n_years, a_min=a_min, a_max=a_max, \n",
    "                                e_max=e_max, inc_max=inc_max, seed=seed)"
   ]
  },
  {
   "cell_type": "code",
   "execution_count": 184,
   "metadata": {},
   "outputs": [],
   "source": [
    "# Inputs for make_datasets_r2b\n",
    "n_traj = 100\n",
    "vt_split = 0.20\n",
    "n_years = 2\n",
    "a_min = 0.50\n",
    "a_max = 32.0\n",
    "e_max = 0.20\n",
    "inc_max = np.pi/4.0\n",
    "seed = 42\n",
    "batch_size = 64"
   ]
  },
  {
   "cell_type": "code",
   "execution_count": 185,
   "metadata": {},
   "outputs": [
    {
     "name": "stdout",
     "output_type": "stream",
     "text": [
      "Unable to load data from ../data/r2b/1421569704.pickle.\n"
     ]
    },
    {
     "data": {
      "application/vnd.jupyter.widget-view+json": {
       "model_id": "f8a0e771ee2a49ec85dee99a0ff8a47d",
       "version_major": 2,
       "version_minor": 0
      },
      "text/plain": [
       "HBox(children=(IntProgress(value=0), HTML(value='')))"
      ]
     },
     "metadata": {},
     "output_type": "display_data"
    },
    {
     "name": "stdout",
     "output_type": "stream",
     "text": [
      "\n"
     ]
    },
    {
     "data": {
      "application/vnd.jupyter.widget-view+json": {
       "model_id": "42a601c846104a9894eecd84f01bd5ea",
       "version_major": 2,
       "version_minor": 0
      },
      "text/plain": [
       "HBox(children=(IntProgress(value=0, max=20), HTML(value='')))"
      ]
     },
     "metadata": {},
     "output_type": "display_data"
    },
    {
     "name": "stdout",
     "output_type": "stream",
     "text": [
      "\n"
     ]
    },
    {
     "data": {
      "application/vnd.jupyter.widget-view+json": {
       "model_id": "e1a53d0ec3f243fe8b85c5ed0e938df4",
       "version_major": 2,
       "version_minor": 0
      },
      "text/plain": [
       "HBox(children=(IntProgress(value=0, max=20), HTML(value='')))"
      ]
     },
     "metadata": {},
     "output_type": "display_data"
    },
    {
     "name": "stdout",
     "output_type": "stream",
     "text": [
      "\n"
     ]
    }
   ],
   "source": [
    "ds_trn, ds_val, ds_tst = make_datasets_r2b(n_traj=n_traj, vt_split=vt_split, n_years=n_years, a_min=a_min, a_max=a_max, \n",
    "                                e_max=e_max, inc_max=inc_max, seed=seed, batch_size=batch_size)"
   ]
  },
  {
   "cell_type": "code",
   "execution_count": 186,
   "metadata": {},
   "outputs": [
    {
     "name": "stdout",
     "output_type": "stream",
     "text": [
      "Unable to load data from ../data/r2b/2367906283.pickle.\n"
     ]
    },
    {
     "data": {
      "application/vnd.jupyter.widget-view+json": {
       "model_id": "9b719350cca442d48205242e7d79bbcb",
       "version_major": 2,
       "version_minor": 0
      },
      "text/plain": [
       "HBox(children=(IntProgress(value=0), HTML(value='')))"
      ]
     },
     "metadata": {},
     "output_type": "display_data"
    },
    {
     "name": "stdout",
     "output_type": "stream",
     "text": [
      "\n"
     ]
    },
    {
     "data": {
      "application/vnd.jupyter.widget-view+json": {
       "model_id": "78540ba8d2cf45eaafeac2bcea3de099",
       "version_major": 2,
       "version_minor": 0
      },
      "text/plain": [
       "HBox(children=(IntProgress(value=0, max=20), HTML(value='')))"
      ]
     },
     "metadata": {},
     "output_type": "display_data"
    },
    {
     "name": "stdout",
     "output_type": "stream",
     "text": [
      "\n"
     ]
    },
    {
     "data": {
      "application/vnd.jupyter.widget-view+json": {
       "model_id": "32057f3ba03e4282a652135a55354994",
       "version_major": 2,
       "version_minor": 0
      },
      "text/plain": [
       "HBox(children=(IntProgress(value=0, max=20), HTML(value='')))"
      ]
     },
     "metadata": {},
     "output_type": "display_data"
    },
    {
     "name": "stdout",
     "output_type": "stream",
     "text": [
      "\n"
     ]
    }
   ],
   "source": [
    "# Create DataSet objects for toy size problem - earth orbits only (a=1, e=0)\n",
    "ds_earth_trn, ds_earth_val, ds_earth_tst = make_datasets_earth(n_traj=n_traj, vt_split=vt_split, n_years=n_years)"
   ]
  },
  {
   "cell_type": "code",
   "execution_count": 188,
   "metadata": {},
   "outputs": [
    {
     "name": "stdout",
     "output_type": "stream",
     "text": [
      "Input field names:  ['t', 'q0', 'v0', 'mu']\n",
      "Output field names: ['q', 'v', 'a', 'q0_rec', 'v0_rec', 'T', 'U', 'H', 'L']\n",
      "Example batch sizes:\n",
      "t  = (64, 731)\n",
      "q0 = (64, 3)\n",
      "v0 = (64, 3)\n",
      "mu = (64,)\n",
      "q  = (64, 731, 3)\n",
      "v  = (64, 731, 3)\n",
      "a  = (64, 731, 3)\n",
      "H  = (64, 731)\n",
      "L  = (64, 731, 3)\n"
     ]
    }
   ],
   "source": [
    "# Example batch\n",
    "batch_in, batch_out = list(ds_earth_trn.take(1))[0]\n",
    "print('Input field names: ', list(batch_in.keys()))\n",
    "print('Output field names:', list(batch_out.keys()))\n",
    "\n",
    "t = batch_in['t']\n",
    "q0 = batch_in['q0']\n",
    "v0 = batch_in['v0']\n",
    "mu = batch_in['mu']\n",
    "\n",
    "q = batch_out['q']\n",
    "v = batch_out['v']\n",
    "a = batch_out['a']\n",
    "q0_rec = batch_out['q0_rec']\n",
    "v0_rec = batch_out['v0_rec']\n",
    "H = batch_out['H']\n",
    "L = batch_out['L']\n",
    "\n",
    "print(f'Example batch sizes:')\n",
    "print(f't  = {t.shape}')\n",
    "print(f'q0 = {q0.shape}')\n",
    "print(f'v0 = {v0.shape}')\n",
    "print(f'mu = {mu.shape}')\n",
    "\n",
    "print(f'q  = {q.shape}')\n",
    "print(f'v  = {v.shape}')\n",
    "print(f'a  = {a.shape}')\n",
    "# print(f'q0_rec = {q0_rec.shape}')\n",
    "# print(f'v0_rec = {v0_rec.shape}')\n",
    "print(f'H  = {H.shape}')\n",
    "print(f'L  = {L.shape}')"
   ]
  },
  {
   "cell_type": "code",
   "execution_count": 248,
   "metadata": {},
   "outputs": [],
   "source": [
    "traj_size = 731\n",
    "\n",
    "tf.debugging.assert_shapes(\n",
    "    shapes = {\n",
    "    # Inputs\n",
    "    t: (batch_size, traj_size),\n",
    "    q0: (batch_size, 3),\n",
    "    v0: (batch_size, 3),\n",
    "    mu: (batch_size,),\n",
    "    # Outputs\n",
    "    q: (batch_size, traj_size, 3),\n",
    "    v: (batch_size, traj_size, 3),\n",
    "    a: (batch_size, traj_size, 3),\n",
    "    q0_rec: (batch_size, 3),\n",
    "    v0_rec: (batch_size, 3),\n",
    "    H: (batch_size, traj_size),\n",
    "    L: (batch_size, traj_size, 3),\n",
    "    })"
   ]
  },
  {
   "cell_type": "markdown",
   "metadata": {},
   "source": [
    "**Call layers with physics computations**"
   ]
  },
  {
   "cell_type": "code",
   "execution_count": 190,
   "metadata": {},
   "outputs": [
    {
     "data": {
      "text/plain": [
       "TensorShape([64, 731])"
      ]
     },
     "execution_count": 190,
     "metadata": {},
     "output_type": "execute_result"
    }
   ],
   "source": [
    "T = KineticEnergy_R2B()(v)\n",
    "T.shape"
   ]
  },
  {
   "cell_type": "code",
   "execution_count": 191,
   "metadata": {},
   "outputs": [
    {
     "data": {
      "text/plain": [
       "TensorShape([64, 731])"
      ]
     },
     "execution_count": 191,
     "metadata": {},
     "output_type": "execute_result"
    }
   ],
   "source": [
    "U = PotentialEnergy_R2B()([q, mu])\n",
    "U.shape"
   ]
  },
  {
   "cell_type": "code",
   "execution_count": 192,
   "metadata": {},
   "outputs": [
    {
     "data": {
      "text/plain": [
       "TensorShape([64, 731, 3])"
      ]
     },
     "execution_count": 192,
     "metadata": {},
     "output_type": "execute_result"
    }
   ],
   "source": [
    "L = AngularMomentum_R2B()([q, v])\n",
    "L.shape"
   ]
  },
  {
   "cell_type": "markdown",
   "metadata": {},
   "source": [
    "**Conversion of initial configuration to orbital elements**"
   ]
  },
  {
   "cell_type": "code",
   "execution_count": 193,
   "metadata": {},
   "outputs": [],
   "source": [
    "qx = q0[:,0]\n",
    "qy = q0[:,1]\n",
    "qz = q0[:,2]\n",
    "vx = v0[:,0]\n",
    "vy = v0[:,1]\n",
    "vz = v0[:,2]\n",
    "inputs_cart = (qx, qy, qz, vx, vy, vz, mu)"
   ]
  },
  {
   "cell_type": "code",
   "execution_count": 194,
   "metadata": {},
   "outputs": [],
   "source": [
    "elts = ConfigToOrbitalElement()(inputs_cart)\n",
    "a0, e0, inc0, Omega0, omega0, f0, M0, N0 = elts\n",
    "mu0 = mu"
   ]
  },
  {
   "cell_type": "code",
   "execution_count": 195,
   "metadata": {},
   "outputs": [
    {
     "name": "stdout",
     "output_type": "stream",
     "text": [
      "Example batch sizes:\n",
      "qx   = (64,)\n",
      "vx   = (64,)\n",
      "mu   = (64,)\n",
      "a0   = (64,)\n",
      "mu0  = (64,)\n"
     ]
    }
   ],
   "source": [
    "# Review shapes\n",
    "print(f'Example batch sizes:')\n",
    "print(f'qx   = {qx.shape}')\n",
    "print(f'vx   = {vx.shape}')\n",
    "print(f'mu   = {mu.shape}')\n",
    "print(f'a0   = {a0.shape}')\n",
    "print(f'mu0  = {mu0.shape}')"
   ]
  },
  {
   "cell_type": "markdown",
   "metadata": {},
   "source": [
    "### Mathematical Model\n",
    "**Compute position as a function of time from initial orbital elements**"
   ]
  },
  {
   "cell_type": "code",
   "execution_count": 301,
   "metadata": {},
   "outputs": [],
   "source": [
    "def make_position_model_r2b_math(traj_size = 731):\n",
    "    \"\"\"\n",
    "    Compute orbit positions for the restricted two body problem from \n",
    "    the initial orbital elements with a deterministic mathematical model.\n",
    "    Factory function that returns a functional model.\n",
    "    \"\"\"\n",
    "    # Create input layers\n",
    "    t = keras.Input(shape=(traj_size), name='t')\n",
    "    a0 = keras.Input(shape=(1,), name='a0')\n",
    "    e0 = keras.Input(shape=(1,), name='e0')\n",
    "    inc0 = keras.Input(shape=(1,), name='inc0')\n",
    "    Omega0 = keras.Input(shape=(1,), name='Omega0')\n",
    "    omega0 = keras.Input(shape=(1,), name='omega0')\n",
    "    f0 = keras.Input(shape=(1,), name='f0')\n",
    "    mu0 = keras.Input(shape=(1,), name='mu0')\n",
    "    \n",
    "    # The combined input layers\n",
    "    inputs = [t, a0, e0, inc0, Omega0, omega0, f0, mu0]\n",
    "\n",
    "    # Get batch size explicitly\n",
    "    batch_size = t.shape[0]\n",
    "\n",
    "    # Reshape inputs if necessary\n",
    "    a0 = tf.reshape(a0, (-1, 1,))\n",
    "    e0 = tf.reshape(e0, (-1, 1,))\n",
    "    inc0 = tf.reshape(inc0, (-1, 1,))\n",
    "    Omega0 = tf.reshape(Omega0, (-1, 1,))\n",
    "    omega0 = tf.reshape(omega0, (-1, 1,))\n",
    "    f0 = tf.reshape(f0, (-1, 1,))\n",
    "    mu0 = tf.reshape(mu0, (-1, 1,))\n",
    "    \n",
    "    # Check inputs shapes\n",
    "    tf.debugging.assert_shapes(shapes={\n",
    "        a0: (batch_size, 1),\n",
    "        e0: (batch_size, 1),\n",
    "        inc0: (batch_size, 1),\n",
    "        Omega0: (batch_size, 1),\n",
    "        omega0: (batch_size, 1),\n",
    "        mu0: (batch_size, 1),\n",
    "    }, message='make_position_model_r2b_math / inputs')\n",
    "    \n",
    "    # Reshape t to (batch_size, traj_size, 1)\n",
    "    # t_vec = keras.layers.Reshape(target_shape=(traj_size, 1), name='t_vec')(t)\n",
    "    \n",
    "    # Repeat the constant orbital elements to be vectors of shape (batch_size, traj_size)\n",
    "    a = keras.layers.RepeatVector(n=traj_size, name='a')(a0)\n",
    "    e = keras.layers.RepeatVector(n=traj_size, name='e')(e0)\n",
    "    inc = keras.layers.RepeatVector(n=traj_size, name='inc')(inc0)\n",
    "    Omega = keras.layers.RepeatVector(n=traj_size, name='Omega')(Omega0)\n",
    "    omega = keras.layers.RepeatVector(n=traj_size, name='omega')(omega0)\n",
    "    mu = keras.layers.RepeatVector(n=traj_size, name='mu')(mu0)\n",
    "\n",
    "    # Check shapes\n",
    "    tf.debugging.assert_shapes(shapes={\n",
    "        a: (batch_size, traj_size, 1),\n",
    "        e: (batch_size, traj_size, 1),\n",
    "        inc: (batch_size, traj_size, 1),\n",
    "        Omega: (batch_size, traj_size, 1),\n",
    "        omega: (batch_size, traj_size, 1),\n",
    "        mu: (batch_size, traj_size, 1),\n",
    "    }, message='make_position_model_r2b_math / calcs')\n",
    "\n",
    "    # Throwaway - duplicate the initial true anomaly\n",
    "    # This is wrong, but the code should run\n",
    "    f = keras.layers.RepeatVector(n=traj_size, name='f')(f0)\n",
    "    \n",
    "    tf.debugging.assert_shapes(shapes={\n",
    "        f: (batch_size, traj_size, 1),\n",
    "    }, message='make_position_model_r2b_math / f')\n",
    "    \n",
    "    # Wrap these up into one tuple of inputs\n",
    "    inputs_elt = (a, e, inc, Omega, omega, f, mu,)\n",
    "    \n",
    "    # Convert from orbital elements to cartesian\n",
    "    qx, qy, qz, vx, vy, vz = OrbitalElementToConfig(name='orbital_element_to_config')(inputs_elt)\n",
    "    \n",
    "    # Wrap up the outputs\n",
    "    outputs = (qx, qy, qz)\n",
    "    \n",
    "    # Check shapes\n",
    "    tf.debugging.assert_shapes(shapes={\n",
    "        qx: (batch_size, traj_size, 1),\n",
    "        qy: (batch_size, traj_size, 1),\n",
    "        qz: (batch_size, traj_size, 1),\n",
    "    }, message='make_position_model_r2b_math / outputs')\n",
    "    \n",
    "    # Wrap this into a model\n",
    "    model = keras.Model(inputs=inputs, outputs=outputs, name='model_r2b_math')\n",
    "    return model\n"
   ]
  },
  {
   "cell_type": "code",
   "execution_count": 302,
   "metadata": {},
   "outputs": [],
   "source": [
    "position_model_math = make_position_model_r2b_math(traj_size)"
   ]
  },
  {
   "cell_type": "code",
   "execution_count": 303,
   "metadata": {},
   "outputs": [
    {
     "name": "stdout",
     "output_type": "stream",
     "text": [
      "t     = (64, 731)\n",
      "a0    = (64,)\n",
      "e0    = (64,)\n",
      "inc0  = (64,)\n",
      "Omega0= (64,)\n",
      "omega0= (64,)\n",
      "f0    = (64,)\n",
      "mu0   = (64,)\n"
     ]
    }
   ],
   "source": [
    "print(f't     = {t.shape}')\n",
    "print(f'a0    = {a0.shape}')\n",
    "print(f'e0    = {e0.shape}')\n",
    "print(f'inc0  = {inc0.shape}')\n",
    "print(f'Omega0= {Omega0.shape}')\n",
    "print(f'omega0= {omega0.shape}')\n",
    "print(f'f0    = {f0.shape}')\n",
    "print(f'mu0   = {mu0.shape}')"
   ]
  },
  {
   "cell_type": "code",
   "execution_count": 304,
   "metadata": {},
   "outputs": [
    {
     "name": "stdout",
     "output_type": "stream",
     "text": [
      "qx = (64, 731, 1)\n",
      "qy = (64, 731, 1)\n"
     ]
    }
   ],
   "source": [
    "qx, qy, qz = position_model_math([t, a0, e0, inc0, Omega0, omega0, f0, mu])\n",
    "print(f'qx = {qx.shape}')\n",
    "print(f'qy = {qy.shape}')"
   ]
  },
  {
   "cell_type": "code",
   "execution_count": null,
   "metadata": {},
   "outputs": [],
   "source": []
  }
 ],
 "metadata": {
  "kernelspec": {
   "display_name": "Python [conda env:nbody]",
   "language": "python",
   "name": "conda-env-nbody-py"
  },
  "language_info": {
   "codemirror_mode": {
    "name": "ipython",
    "version": 3
   },
   "file_extension": ".py",
   "mimetype": "text/x-python",
   "name": "python",
   "nbconvert_exporter": "python",
   "pygments_lexer": "ipython3",
   "version": "3.7.3"
  }
 },
 "nbformat": 4,
 "nbformat_minor": 2
}
