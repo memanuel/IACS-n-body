{
 "cells": [
  {
   "cell_type": "markdown",
   "metadata": {},
   "source": [
    "# Base Case: Circular Orbit of Radius 1 AU, Period 1 Year\n",
    "\n",
    "Create synthetic data for the simplest base case: a circular orbit of radius 1.\n",
    "\n",
    "Can think of this as approximating the earth: radius = 1 AU, period = 1 year, mass of sun $m_0$ = 1 solar mass\n",
    "\n",
    "\\begin{align}\n",
    "x(t) &= \\cos(\\omega t) \\\\\n",
    "y(t) &= \\sin(\\omega t) \\\\\n",
    "\\omega &= 2 \\pi\n",
    "\\end{align}\n",
    "\n",
    "Taking two derivatives\n",
    "\\begin{align}\n",
    "\\ddot{x}(t) = -\\omega^2 x(t)\\\\\n",
    "\\ddot{y}(t) = -\\omega^2 y(t)\n",
    "\\end{align}\n",
    "\n",
    "Equating the acceleration $\\omega^2 r$ to $G \\cdot m_0 / r^2$ for $r=1$ in the case of earth, we can see that in these units the gravitational constant $G$ is\n",
    "$$G = 4 \\pi^2$$\n",
    "\n",
    "Further we can see that for a planet in a circular orbit with radius $r$, the angular frequency will satisfy\n",
    "$$ \\omega^2 = G m_0 / r^3$$\n",
    "This is a special case of Kepler's third law."
   ]
  },
  {
   "cell_type": "code",
   "execution_count": 1,
   "metadata": {},
   "outputs": [],
   "source": [
    "# Library imports\n",
    "import tensorflow as tf\n",
    "import numpy as np\n",
    "import matplotlib.pyplot as plt\n",
    "import time\n",
    "\n",
    "# Aliases\n",
    "keras = tf.keras"
   ]
  },
  {
   "cell_type": "code",
   "execution_count": 2,
   "metadata": {},
   "outputs": [],
   "source": [
    "# Local imports\n",
    "from utils import load_vartbl, save_vartbl, plot_style\n",
    "from tf_utils import gpu_grow_memory, TimeHistory\n",
    "from tf_utils import Identity\n",
    "\n",
    "from r2b_data import make_traj_r2bc , make_train_r2bc\n",
    "from r2b_data import plot_orbit_q, plot_orbit_v, plot_orbit_a, plot_orbit_energy\n",
    "from r2b_data import make_datasets_earth, make_datasets_solar, make_datasets_r2bc\n",
    "\n",
    "from r2b import KineticEnergy_R2B, PotentialEnergy_R2B\n",
    "from r2b import AngularMomentum0_R2B, AngularMomentum_R2B\n",
    "from r2b import ConfigToPolar2D\n",
    "from r2b import Motion_R2B, make_position_model_r2bc_math\n",
    "\n",
    "from r2bc_model import make_model_r2b\n",
    "from r2bc_model import make_model_r2bc_math"
   ]
  },
  {
   "cell_type": "code",
   "execution_count": 3,
   "metadata": {},
   "outputs": [],
   "source": [
    "# Grow GPU memory (must be first operation in TF)\n",
    "gpu_grow_memory()"
   ]
  },
  {
   "cell_type": "code",
   "execution_count": 4,
   "metadata": {},
   "outputs": [],
   "source": [
    "# Create distribution strategy\n",
    "# This isn't working properly for training in Michael-PC (Windows 10)\n",
    "# but does work for evaluating (with no real benefit though)\n",
    "# strat = tf.distribute.MirroredStrategy(['/GPU:0', '/GPU:1'])\n",
    "\n",
    "# Plot style \n",
    "plot_style()"
   ]
  },
  {
   "cell_type": "code",
   "execution_count": 5,
   "metadata": {},
   "outputs": [],
   "source": [
    "# Lightweight serialization\n",
    "fname = '../pickle/r2bc.pickle'\n",
    "vartbl = load_vartbl(fname)"
   ]
  },
  {
   "cell_type": "code",
   "execution_count": 6,
   "metadata": {},
   "outputs": [],
   "source": [
    "# One trajectory of earth for plotting\n",
    "inputs_earth, outputs_earth = make_traj_r2bc(r0=1.0, theta0=0.0, n_years=2)\n",
    "\n",
    "# Combined dict\n",
    "data_earth = {**inputs_earth, **outputs_earth}"
   ]
  },
  {
   "cell_type": "code",
   "execution_count": 7,
   "metadata": {},
   "outputs": [],
   "source": [
    "# fig, ax = plot_orbit_q(data_earth)"
   ]
  },
  {
   "cell_type": "code",
   "execution_count": 8,
   "metadata": {},
   "outputs": [],
   "source": [
    "# fig, ax = plot_orbit_v(data_earth)"
   ]
  },
  {
   "cell_type": "code",
   "execution_count": 9,
   "metadata": {},
   "outputs": [],
   "source": [
    "# fig, ax = plot_orbit_a(data_earth)"
   ]
  },
  {
   "cell_type": "code",
   "execution_count": 10,
   "metadata": {},
   "outputs": [],
   "source": [
    "# fig, ax = plot_orbit_energy(data_earth)"
   ]
  },
  {
   "cell_type": "markdown",
   "metadata": {},
   "source": [
    "### Generate data sets and an example batch"
   ]
  },
  {
   "cell_type": "code",
   "execution_count": 11,
   "metadata": {},
   "outputs": [],
   "source": [
    "# Create DataSet objects for toy size problem - earth orbits only (a=1, e=0)\n",
    "ds_earth_trn, ds_earth_val, ds_earth_tst = make_datasets_earth(n_traj=1000, vt_split=0.20)\n",
    "\n",
    "# Create DataSet objects for solar system type orbits (a between 0.25 and 32.0)\n",
    "ds_solar_trn, ds_solar_val, ds_solar_tst = make_datasets_solar(n_traj=10000, vt_split=0.20)\n",
    "\n",
    "# Create DataSet objects for jupiter orbits only (a=5.2, e=0)\n",
    "ds_jup_trn, ds_jup_val, ds_jup_tst = make_datasets_r2bc(n_traj=1000, vt_split=0.20, \n",
    "                                                        n_years=2, r_min=5.2, r_max=5.2, seed=42, batch_size=64)"
   ]
  },
  {
   "cell_type": "code",
   "execution_count": 12,
   "metadata": {},
   "outputs": [
    {
     "name": "stdout",
     "output_type": "stream",
     "text": [
      "Example batch sizes:\n",
      "t  = (64, 731)\n",
      "q0 = (64, 2)\n",
      "v0 = (64, 2)\n",
      "mu = (64, 1)\n",
      "q  = (64, 731, 2)\n",
      "v  = (64, 731, 2)\n",
      "a  = (64, 731, 2)\n",
      "H  = (64, 731)\n",
      "L  = (64, 731)\n"
     ]
    }
   ],
   "source": [
    "# Example batch\n",
    "batch_in, batch_out = list(ds_earth_val.take(1))[0]\n",
    "# batch_in.keys()\n",
    "# batch_out.keys()\n",
    "\n",
    "t = batch_in['t']\n",
    "q0 = batch_in['q0']\n",
    "v0 = batch_in['v0']\n",
    "mu = batch_in['mu']\n",
    "\n",
    "q = batch_out['q']\n",
    "v = batch_out['v']\n",
    "a = batch_out['a']\n",
    "q0_rec = batch_out['q0_rec']\n",
    "v0_rec = batch_out['v0_rec']\n",
    "H = batch_out['H']\n",
    "L = batch_out['L']\n",
    "\n",
    "print(f'Example batch sizes:')\n",
    "print(f't  = {t.shape}')\n",
    "print(f'q0 = {q0.shape}')\n",
    "print(f'v0 = {v0.shape}')\n",
    "print(f'mu = {mu.shape}')\n",
    "\n",
    "print(f'q  = {q.shape}')\n",
    "print(f'v  = {v.shape}')\n",
    "print(f'a  = {a.shape}')\n",
    "# print(f'q0_rec = {q0_rec.shape}')\n",
    "# print(f'v0_rec = {v0_rec.shape}')\n",
    "print(f'H  = {H.shape}')\n",
    "print(f'L  = {L.shape}')"
   ]
  },
  {
   "cell_type": "code",
   "execution_count": 13,
   "metadata": {},
   "outputs": [],
   "source": [
    "batch_size = 64\n",
    "traj_size = 731\n",
    "\n",
    "tf.debugging.assert_shapes(\n",
    "    shapes = {\n",
    "    # Inputs\n",
    "    t: (batch_size, traj_size),\n",
    "    q0: (batch_size, 2),\n",
    "    v0: (batch_size, 2),\n",
    "    mu: (batch_size, 1),\n",
    "    # Outputs\n",
    "    q: (batch_size, traj_size, 2),\n",
    "    v: (batch_size, traj_size, 2),\n",
    "    a: (batch_size, traj_size, 2),\n",
    "    q0_rec: (batch_size, 2),\n",
    "    v0_rec: (batch_size, 2),\n",
    "    H: (batch_size, traj_size),\n",
    "    L: (batch_size, traj_size),\n",
    "    })"
   ]
  },
  {
   "cell_type": "markdown",
   "metadata": {},
   "source": [
    "**Call layers with physics computations**"
   ]
  },
  {
   "cell_type": "code",
   "execution_count": 14,
   "metadata": {},
   "outputs": [
    {
     "data": {
      "text/plain": [
       "TensorShape([64, 731])"
      ]
     },
     "execution_count": 14,
     "metadata": {},
     "output_type": "execute_result"
    }
   ],
   "source": [
    "T = KineticEnergy_R2B()(v)\n",
    "T.shape"
   ]
  },
  {
   "cell_type": "code",
   "execution_count": 15,
   "metadata": {},
   "outputs": [
    {
     "data": {
      "text/plain": [
       "TensorShape([64, 731])"
      ]
     },
     "execution_count": 15,
     "metadata": {},
     "output_type": "execute_result"
    }
   ],
   "source": [
    "U = PotentialEnergy_R2B()([q, mu])\n",
    "U.shape"
   ]
  },
  {
   "cell_type": "code",
   "execution_count": 16,
   "metadata": {},
   "outputs": [
    {
     "data": {
      "text/plain": [
       "TensorShape([64, 731])"
      ]
     },
     "execution_count": 16,
     "metadata": {},
     "output_type": "execute_result"
    }
   ],
   "source": [
    "L = AngularMomentum_R2B()([q, v])\n",
    "L.shape"
   ]
  },
  {
   "cell_type": "code",
   "execution_count": 17,
   "metadata": {},
   "outputs": [
    {
     "data": {
      "text/plain": [
       "TensorShape([64, 1])"
      ]
     },
     "execution_count": 17,
     "metadata": {},
     "output_type": "execute_result"
    }
   ],
   "source": [
    "L0 = AngularMomentum0_R2B()([q0, v0])\n",
    "L0.shape"
   ]
  },
  {
   "cell_type": "markdown",
   "metadata": {},
   "source": [
    "**Conversion of initial configuration to polar coordinates**"
   ]
  },
  {
   "cell_type": "code",
   "execution_count": 18,
   "metadata": {},
   "outputs": [
    {
     "name": "stdout",
     "output_type": "stream",
     "text": [
      "shape of polar batches\n",
      "r0 : (64, 1)\n",
      "theta0 : (64, 1)\n",
      "omega0 : (64, 1)\n"
     ]
    }
   ],
   "source": [
    "r0, theta0, omega0 = ConfigToPolar2D()([q0, v0])\n",
    "print(f'shape of polar batches')\n",
    "print(f'r0 : {r0.shape}')\n",
    "print(f'theta0 : {theta0.shape}')\n",
    "print(f'omega0 : {omega0.shape}')"
   ]
  },
  {
   "cell_type": "markdown",
   "metadata": {},
   "source": [
    "### Mathematical Model\n",
    "**Compute position as a function of time from initial polar coordinates**"
   ]
  },
  {
   "cell_type": "code",
   "execution_count": 19,
   "metadata": {},
   "outputs": [],
   "source": [
    "position_model = make_position_model_r2bc_math(traj_size)"
   ]
  },
  {
   "cell_type": "code",
   "execution_count": 20,
   "metadata": {},
   "outputs": [],
   "source": [
    "# Need to call the position model on RESHAPED t vector\n",
    "# t_vec = tf.reshape(t, (batch_size, traj_size, 1))\n",
    "# print(f'shape of t_vec = {t_vec.shape}')"
   ]
  },
  {
   "cell_type": "code",
   "execution_count": 21,
   "metadata": {},
   "outputs": [
    {
     "name": "stdout",
     "output_type": "stream",
     "text": [
      "qx : (64, 731, 1)\n",
      "qy : (64, 731, 1)\n"
     ]
    }
   ],
   "source": [
    "pos_model_out = position_model([t, r0, theta0, omega0])\n",
    "out_names = ['qx', 'qy']\n",
    "for i, x in enumerate(pos_model_out):\n",
    "    print(f'{out_names[i]} : {x.shape}')"
   ]
  },
  {
   "cell_type": "code",
   "execution_count": 22,
   "metadata": {},
   "outputs": [
    {
     "data": {
      "image/png": "[encoded data removed]",
      "text/plain": [
       "<IPython.core.display.Image object>"
      ]
     },
     "execution_count": 22,
     "metadata": {},
     "output_type": "execute_result"
    }
   ],
   "source": [
    "keras.utils.plot_model(position_model)"
   ]
  },
  {
   "cell_type": "code",
   "execution_count": 23,
   "metadata": {},
   "outputs": [
    {
     "name": "stdout",
     "output_type": "stream",
     "text": [
      "Model: \"model_r2bc_math\"\n",
      "__________________________________________________________________________________________________\n",
      "Layer (type)                    Output Shape         Param #     Connected to                     \n",
      "==================================================================================================\n",
      "omega0 (InputLayer)             [(None, 1)]          0                                            \n",
      "__________________________________________________________________________________________________\n",
      "t (InputLayer)                  [(None, 731)]        0                                            \n",
      "__________________________________________________________________________________________________\n",
      "omega_vec (RepeatVector)        (None, 731, 1)       0           omega0[0][0]                     \n",
      "__________________________________________________________________________________________________\n",
      "t_vec (Reshape)                 (None, 731, 1)       0           t[0][0]                          \n",
      "__________________________________________________________________________________________________\n",
      "theta0 (InputLayer)             [(None, 1)]          0                                            \n",
      "__________________________________________________________________________________________________\n",
      "omega_t (Multiply)              (None, 731, 1)       0           omega_vec[0][0]                  \n",
      "                                                                 t_vec[0][0]                      \n",
      "__________________________________________________________________________________________________\n",
      "theta0_vec (RepeatVector)       (None, 731, 1)       0           theta0[0][0]                     \n",
      "__________________________________________________________________________________________________\n",
      "r0 (InputLayer)                 [(None, 1)]          0                                            \n",
      "__________________________________________________________________________________________________\n",
      "theta (Add)                     (None, 731, 1)       0           omega_t[0][0]                    \n",
      "                                                                 theta0_vec[0][0]                 \n",
      "__________________________________________________________________________________________________\n",
      "r (RepeatVector)                (None, 731, 1)       0           r0[0][0]                         \n",
      "__________________________________________________________________________________________________\n",
      "cos_theta (Activation)          (None, 731, 1)       0           theta[0][0]                      \n",
      "__________________________________________________________________________________________________\n",
      "sin_theta (Activation)          (None, 731, 1)       0           theta[0][0]                      \n",
      "__________________________________________________________________________________________________\n",
      "qx (Multiply)                   (None, 731, 1)       0           r[0][0]                          \n",
      "                                                                 cos_theta[0][0]                  \n",
      "__________________________________________________________________________________________________\n",
      "qy (Multiply)                   (None, 731, 1)       0           r[0][0]                          \n",
      "                                                                 sin_theta[0][0]                  \n",
      "==================================================================================================\n",
      "Total params: 0\n",
      "Trainable params: 0\n",
      "Non-trainable params: 0\n",
      "__________________________________________________________________________________________________\n"
     ]
    }
   ],
   "source": [
    "position_model.summary()"
   ]
  },
  {
   "cell_type": "markdown",
   "metadata": {},
   "source": [
    "**Motion Model: Compute v and a from q using automatic differentiation**<br>\n",
    "Factory function that accepts any position model<br>\n",
    "Instantiated here from mathematical position model"
   ]
  },
  {
   "cell_type": "code",
   "execution_count": 24,
   "metadata": {},
   "outputs": [],
   "source": [
    "motion_model = Motion_R2B(position_model=position_model, name='motion_model')"
   ]
  },
  {
   "cell_type": "code",
   "execution_count": 25,
   "metadata": {},
   "outputs": [
    {
     "name": "stdout",
     "output_type": "stream",
     "text": [
      "shape of motion_model outputs:\n",
      "q: (64, 731, 2)\n",
      "v: (64, 731, 2)\n",
      "a: (64, 731, 2)\n"
     ]
    }
   ],
   "source": [
    "q, v, a = motion_model([t, r0, theta0, omega0])\n",
    "print('shape of motion_model outputs:')\n",
    "print(f'q: {q.shape}')\n",
    "print(f'v: {v.shape}')\n",
    "print(f'a: {a.shape}')"
   ]
  },
  {
   "cell_type": "code",
   "execution_count": 26,
   "metadata": {},
   "outputs": [],
   "source": [
    "# keras.utils.plot_model(motion_model)"
   ]
  },
  {
   "cell_type": "code",
   "execution_count": 27,
   "metadata": {},
   "outputs": [],
   "source": [
    "# motion_model.summary()"
   ]
  },
  {
   "cell_type": "markdown",
   "metadata": {},
   "source": [
    "**Full physics model: computes energy and angular momentum from q, v**<br>\n",
    "Factory function that accepts any position model.<br>\n",
    "Instantiated here from mathematical position model."
   ]
  },
  {
   "cell_type": "code",
   "execution_count": 28,
   "metadata": {},
   "outputs": [],
   "source": [
    "model_math = make_model_r2bc_math()\n",
    "# model_math = make_model_r2b(position_model=position_model, traj_size=traj_size)"
   ]
  },
  {
   "cell_type": "code",
   "execution_count": 29,
   "metadata": {},
   "outputs": [],
   "source": [
    "# keras.utils.plot_model(model_math)"
   ]
  },
  {
   "cell_type": "code",
   "execution_count": 30,
   "metadata": {},
   "outputs": [],
   "source": [
    "# model_math.summary()"
   ]
  },
  {
   "cell_type": "code",
   "execution_count": 31,
   "metadata": {},
   "outputs": [
    {
     "name": "stdout",
     "output_type": "stream",
     "text": [
      "model output shapes:\n",
      "q = (64, 731, 2)\n",
      "v = (64, 731, 2)\n",
      "a = (64, 731, 2)\n",
      "q0_rec = (64, 2)\n",
      "v0_rec = (64, 2)\n",
      "H = (64, 731)\n",
      "L = (64, 731)\n"
     ]
    }
   ],
   "source": [
    "q, v, a, q0_rec, v0_rec, H, L  = model_math([t, q0, v0, mu])\n",
    "print(f'model output shapes:')\n",
    "print(f'q = {q.shape}')\n",
    "print(f'v = {v.shape}')\n",
    "print(f'a = {a.shape}')\n",
    "print(f'q0_rec = {q0_rec.shape}')\n",
    "print(f'v0_rec = {v0_rec.shape}')\n",
    "print(f'H = {H.shape}')\n",
    "print(f'L = {L.shape}')"
   ]
  },
  {
   "cell_type": "code",
   "execution_count": 32,
   "metadata": {},
   "outputs": [],
   "source": [
    "optimizer = keras.optimizers.Adam()\n",
    "\n",
    "loss = {'q': keras.losses.MeanSquaredError(name='q_mse'),\n",
    "        'v': keras.losses.MeanSquaredError(name='q_mse'),\n",
    "        'a': keras.losses.MeanSquaredError(name='a_mse'),\n",
    "        'q0_rec': keras.losses.MeanSquaredError(name='q0_mse'),\n",
    "        'v0_rec': keras.losses.MeanSquaredError(name='v0_mse'),\n",
    "        'H': keras.losses.MeanSquaredError(name='H'),\n",
    "        'L': keras.losses.MeanSquaredError(name='L')}\n",
    "\n",
    "# these metrics produce crazy output names when multiple instances share them; hold off for now\n",
    "# metrics = {'q': keras.metrics.MeanAbsoluteError(name='q_mae'),\n",
    "#            'v': keras.metrics.MeanAbsoluteError(name='v_mae')}\n",
    "metrics = None\n",
    "\n",
    "loss_weights = {'q': 1.0,\n",
    "                'v': 1.0,\n",
    "                'a': 0.0,\n",
    "                'q0_rec': 1.0,\n",
    "                'v0_rec': 1.0,\n",
    "                'H': 1.0,\n",
    "                'L': 1.0}"
   ]
  },
  {
   "cell_type": "code",
   "execution_count": 33,
   "metadata": {},
   "outputs": [],
   "source": [
    "# Compile the mathematical model on a single GPU\n",
    "# model_math = make_model_r2bc_math()\n",
    "model_math.compile(optimizer=optimizer, loss=loss, metrics=metrics, loss_weights=loss_weights)"
   ]
  },
  {
   "cell_type": "code",
   "execution_count": 34,
   "metadata": {},
   "outputs": [],
   "source": [
    "# Compile the mathematical model for parallel GPUs\n",
    "# with strat.scope():\n",
    "#     model_math_par = make_model_r2bc_analytic()\n",
    "#     model_math_par.compile(optimizer=optimizer, loss=loss, metrics=metrics, loss_weights=loss_weights)"
   ]
  },
  {
   "cell_type": "code",
   "execution_count": 35,
   "metadata": {},
   "outputs": [
    {
     "name": "stdout",
     "output_type": "stream",
     "text": [
      "32/32 [==============================] - 1s 32ms/step - loss: 1.0462e-11 - q_loss: 1.0713e-12 - v_loss: 9.3807e-13 - a_loss: 1.8915e-10 - q0_rec_loss: 6.8588e-13 - v0_rec_loss: 1.6613e-14 - H_loss: 9.0250e-13 - L_loss: 6.8472e-12\n"
     ]
    },
    {
     "data": {
      "text/plain": [
       "[1.046152853473141e-11,\n",
       " 1.0712517e-12,\n",
       " 9.380711e-13,\n",
       " 1.8915272e-10,\n",
       " 6.8588467e-13,\n",
       " 1.6613316e-14,\n",
       " 9.025031e-13,\n",
       " 6.847203e-12]"
      ]
     },
     "execution_count": 35,
     "metadata": {},
     "output_type": "execute_result"
    }
   ],
   "source": [
    "# Evaluate the math model on the earth-like data set\n",
    "model_math.evaluate(ds_solar_val)"
   ]
  },
  {
   "cell_type": "code",
   "execution_count": 36,
   "metadata": {},
   "outputs": [],
   "source": [
    "def time_model_eval(model, ds, batches=None, time_mean=None):\n",
    "    \"\"\"Time a model to evaluate a dataset\"\"\"\n",
    "    t0 = time.time()\n",
    "    if batches is None:\n",
    "        model.evaluate(ds)\n",
    "    else:\n",
    "        model.evaluate(ds.take(batches))\n",
    "    t1 = time.time()\n",
    "    elapsed = t1 - t0\n",
    "    print(f'Elapsed Time: {elapsed:5.3f} sec')\n",
    "    if time_mean is not None:\n",
    "        delta = (elapsed - time_mean)\n",
    "        print(f'Time Delta:   {delta:+5.3f} sec')"
   ]
  },
  {
   "cell_type": "code",
   "execution_count": 37,
   "metadata": {},
   "outputs": [],
   "source": [
    "# Time the single GPU math model\n",
    "# time_model_eval(model_math, ds_solar_trn)"
   ]
  },
  {
   "cell_type": "code",
   "execution_count": 38,
   "metadata": {},
   "outputs": [],
   "source": [
    "# Time the double GPU math model\n",
    "# time_model_eval(model_math_par, ds_solar_trn)"
   ]
  },
  {
   "cell_type": "code",
   "execution_count": 41,
   "metadata": {},
   "outputs": [],
   "source": [
    "def make_position_model_r2bc_nn(hidden_sizes, skip_layers=True, traj_size = 731):\n",
    "    \"\"\"\n",
    "    Compute orbit positions for the restricted two body circular problem from \n",
    "    the initial polar coordinates (orbital elements) with a deterministic mathematical model.\n",
    "    Factory function that returns a functional model.\n",
    "    \"\"\"\n",
    "    # Create input layers\n",
    "    t = keras.Input(shape=(traj_size,), name='t')\n",
    "    q0 = keras.Input(shape=(2,), name='q0')\n",
    "    v0 = keras.Input(shape=(2,), name='v0')\n",
    "    mu = keras.Input(shape=(1,), name='mu')\n",
    "    # The combined input layers\n",
    "    inputs = [t, q0, v0, mu]\n",
    "\n",
    "    # Check sizes\n",
    "    batch_size = t.shape[0]\n",
    "    tf.debugging.assert_shapes(shapes={\n",
    "        t: (batch_size, traj_size),\n",
    "        q0: (batch_size, 2),\n",
    "        v0: (batch_size, 2),\n",
    "        mu: (batch_size, 1),\n",
    "    }, message='make_position_model_r2bc_nn / inputs')\n",
    "    \n",
    "    # The polar coordinates of the initial conditions\n",
    "    # r0, theta0, and omega0 each scalars in each batch\n",
    "    r0, theta0, omega0 = ConfigToPolar2D(name='polar0')([q0, v0])\n",
    "    \n",
    "    # Name the outputs of the initial polar\n",
    "    # These each have shape (batch_size, 1)\n",
    "    r0 = Identity(name='r0')(r0)\n",
    "    theta0 = Identity(name='theta0')(theta0)\n",
    "    omega0 = Identity(name='omega0')(omega0)\n",
    "\n",
    "    # Check sizes\n",
    "    tf.debugging.assert_shapes(shapes={\n",
    "        r0: (batch_size, 1),\n",
    "        theta0: (batch_size, 1),\n",
    "        omega0: (batch_size, 1),\n",
    "    }, message='make_position_model_r2bc_nn / polar elements r0, theta0, omega0')\n",
    "   \n",
    "    # Reshape t to (batch_size, traj_size, 1)\n",
    "    t_vec = keras.layers.Reshape(target_shape=(traj_size, 1), name='t_vec')(t)\n",
    "    \n",
    "    # Repeat r, theta0 and omega to be vectors of shape matching t\n",
    "    r = keras.layers.RepeatVector(n=traj_size, name='r')(r0)\n",
    "    theta0_vec = keras.layers.RepeatVector(n=traj_size, name='theta0_vec')(theta0)\n",
    "    omega = keras.layers.RepeatVector(n=traj_size, name='omega')(omega0)\n",
    "\n",
    "    # Check shapes\n",
    "    tf.debugging.assert_shapes(shapes={\n",
    "        t_vec: (batch_size, traj_size, 1),\n",
    "        r: (batch_size, traj_size, 1),\n",
    "        theta0_vec: (batch_size, traj_size, 1),\n",
    "        omega: (batch_size, traj_size, 1)\n",
    "    }, message='make_position_model_r2bc_nn / r_vec, theta0_vec, omega_vec')\n",
    "    \n",
    "    # The angle theta at time t\n",
    "    # theta = omega * t + theta0\n",
    "    omega_t = keras.layers.multiply(inputs=[omega, t_vec], name='omega_t')\n",
    "    theta = keras.layers.add(inputs=[omega_t, theta0_vec], name='theta')\n",
    "\n",
    "    # Cosine and sine of theta\n",
    "    cos_theta = keras.layers.Activation(activation=tf.cos, name='cos_theta')(theta)\n",
    "    sin_theta = keras.layers.Activation(activation=tf.sin, name='sin_theta')(theta)\n",
    "\n",
    "    # Compute qx and qy from r, theta\n",
    "    qx = keras.layers.multiply(inputs=[r, cos_theta], name='qx')\n",
    "    qy = keras.layers.multiply(inputs=[r, sin_theta], name='qy')\n",
    "    \n",
    "    # Check shapes\n",
    "    batch_size = t.shape[0]\n",
    "    tf.debugging.assert_shapes(shapes={\n",
    "        omega_t: (batch_size, traj_size, 1),\n",
    "        theta: (batch_size, traj_size, 1),\n",
    "        cos_theta: (batch_size, traj_size, 1),\n",
    "        sin_theta: (batch_size, traj_size, 1),\n",
    "        qx: (batch_size, traj_size, 1),\n",
    "        qy: (batch_size, traj_size, 1),\n",
    "    }, message='make_position_model_r2bc_nn / outputs')\n",
    "    \n",
    "    # Wrap this into a model\n",
    "    outputs = [qx, qy]\n",
    "    model = keras.Model(inputs=inputs, outputs=outputs, name='model_r2bc_nn')\n",
    "    return model"
   ]
  },
  {
   "cell_type": "code",
   "execution_count": 42,
   "metadata": {},
   "outputs": [],
   "source": [
    "position_model_nn = make_position_model_r2bc_nn([16])"
   ]
  },
  {
   "cell_type": "code",
   "execution_count": 43,
   "metadata": {},
   "outputs": [
    {
     "name": "stdout",
     "output_type": "stream",
     "text": [
      "Model: \"model_r2bc_nn\"\n",
      "__________________________________________________________________________________________________\n",
      "Layer (type)                    Output Shape         Param #     Connected to                     \n",
      "==================================================================================================\n",
      "q0 (InputLayer)                 [(None, 2)]          0                                            \n",
      "__________________________________________________________________________________________________\n",
      "v0 (InputLayer)                 [(None, 2)]          0                                            \n",
      "__________________________________________________________________________________________________\n",
      "polar0 (ConfigToPolar2D)        ((None, 1), (None, 1 0           q0[0][0]                         \n",
      "                                                                 v0[0][0]                         \n",
      "__________________________________________________________________________________________________\n",
      "omega0 (Identity)               (None, 1)            0           polar0[0][2]                     \n",
      "__________________________________________________________________________________________________\n",
      "t (InputLayer)                  [(None, 731)]        0                                            \n",
      "__________________________________________________________________________________________________\n",
      "omega (RepeatVector)            (None, 731, 1)       0           omega0[0][0]                     \n",
      "__________________________________________________________________________________________________\n",
      "t_vec (Reshape)                 (None, 731, 1)       0           t[0][0]                          \n",
      "__________________________________________________________________________________________________\n",
      "theta0 (Identity)               (None, 1)            0           polar0[0][1]                     \n",
      "__________________________________________________________________________________________________\n",
      "omega_t (Multiply)              (None, 731, 1)       0           omega[0][0]                      \n",
      "                                                                 t_vec[0][0]                      \n",
      "__________________________________________________________________________________________________\n",
      "theta0_vec (RepeatVector)       (None, 731, 1)       0           theta0[0][0]                     \n",
      "__________________________________________________________________________________________________\n",
      "r0 (Identity)                   (None, 1)            0           polar0[0][0]                     \n",
      "__________________________________________________________________________________________________\n",
      "theta (Add)                     (None, 731, 1)       0           omega_t[0][0]                    \n",
      "                                                                 theta0_vec[0][0]                 \n",
      "__________________________________________________________________________________________________\n",
      "r (RepeatVector)                (None, 731, 1)       0           r0[0][0]                         \n",
      "__________________________________________________________________________________________________\n",
      "cos_theta (Activation)          (None, 731, 1)       0           theta[0][0]                      \n",
      "__________________________________________________________________________________________________\n",
      "sin_theta (Activation)          (None, 731, 1)       0           theta[0][0]                      \n",
      "__________________________________________________________________________________________________\n",
      "mu (InputLayer)                 [(None, 1)]          0                                            \n",
      "__________________________________________________________________________________________________\n",
      "qx (Multiply)                   (None, 731, 1)       0           r[0][0]                          \n",
      "                                                                 cos_theta[0][0]                  \n",
      "__________________________________________________________________________________________________\n",
      "qy (Multiply)                   (None, 731, 1)       0           r[0][0]                          \n",
      "                                                                 sin_theta[0][0]                  \n",
      "==================================================================================================\n",
      "Total params: 0\n",
      "Trainable params: 0\n",
      "Non-trainable params: 0\n",
      "__________________________________________________________________________________________________\n"
     ]
    }
   ],
   "source": [
    "position_model_nn.summary()"
   ]
  },
  {
   "cell_type": "code",
   "execution_count": 44,
   "metadata": {},
   "outputs": [
    {
     "name": "stdout",
     "output_type": "stream",
     "text": [
      "qx = (64, 731, 2)\n",
      "qy = (64, 731, 2)\n"
     ]
    }
   ],
   "source": [
    "qx, qy = position_model([t, q0, v0, mu])\n",
    "print(f'qx = {qx.shape}')\n",
    "print(f'qy = {qy.shape}')"
   ]
  },
  {
   "cell_type": "code",
   "execution_count": 45,
   "metadata": {},
   "outputs": [
    {
     "name": "stdout",
     "output_type": "stream",
     "text": [
      "qx = (64, 731, 1)\n",
      "qy = (64, 731, 1)\n"
     ]
    }
   ],
   "source": [
    "qx, qy = position_model_nn([t, q0, v0, mu])\n",
    "print(f'qx = {qx.shape}')\n",
    "print(f'qy = {qy.shape}')"
   ]
  },
  {
   "cell_type": "code",
   "execution_count": 46,
   "metadata": {},
   "outputs": [],
   "source": [
    "def make_model_r2bc_nn(hidden_sizes, skip_layers=True, traj_size: int = 731):\n",
    "    \"\"\"Create a neural net model for the restricted two body circular problem\"\"\"\n",
    "    # Build the position model\n",
    "    position_model = make_position_model_r2bc_nn(hidden_sizes=hidden_sizes, skip_layers=skip_layers)\n",
    "    \n",
    "    # Build the model with this position model and the input trajectory size\n",
    "    return make_model_r2b(position_model=position_model, traj_size=traj_size)"
   ]
  },
  {
   "cell_type": "code",
   "execution_count": 48,
   "metadata": {},
   "outputs": [
    {
     "ename": "ValueError",
     "evalue": "in converted code:\n\n    D:\\IACS\\Thesis\\src\\r2b.py:217 call  *\n        qx, qy = self.position_model(position_inputs)\n    C:\\Anaconda3\\lib\\site-packages\\tensorflow\\python\\keras\\engine\\base_layer.py:662 __call__\n        outputs = call_fn(inputs, *args, **kwargs)\n    D:\\IACS\\Thesis\\src\\r2b.py:145 call  *\n        arg_func = lambda q : tf.reshape(tensor=tf.atan2(y=q[:,1], x=q[:,0]), shape=(-1, 1,))\n    C:\\Anaconda3\\lib\\site-packages\\tensorflow\\python\\keras\\engine\\base_layer.py:662 __call__\n        outputs = call_fn(inputs, *args, **kwargs)\n    C:\\Anaconda3\\lib\\site-packages\\tensorflow\\python\\keras\\layers\\core.py:785 call\n        return self.function(inputs, **arguments)\n    C:\\Users\\Michael\\AppData\\Local\\Temp\\tmp6d8jz_np.py:12 <lambda>\n        arg_func = lambda q: ag__.converted_call('reshape', tf, ag__.ConversionOptions(recursive=True, force_conversion=False, optional_features=(), internal_convert_user_code=True), (), {'tensor': ag__.converted_call('atan2', tf, ag__.ConversionOptions(recursive=True, force_conversion=False, optional_features=(), internal_convert_user_code=True), (), {'y': q[:, (1)], 'x': q[:, (0)]}), 'shape': (-1, 1)})\n    C:\\Anaconda3\\lib\\site-packages\\tensorflow\\python\\ops\\array_ops.py:680 _slice_helper\n        name=name)\n    C:\\Anaconda3\\lib\\site-packages\\tensorflow\\python\\ops\\array_ops.py:846 strided_slice\n        shrink_axis_mask=shrink_axis_mask)\n    C:\\Anaconda3\\lib\\site-packages\\tensorflow\\python\\ops\\gen_array_ops.py:12096 strided_slice\n        shrink_axis_mask=shrink_axis_mask, name=name)\n    C:\\Anaconda3\\lib\\site-packages\\tensorflow\\python\\framework\\op_def_library.py:788 _apply_op_helper\n        op_def=op_def)\n    C:\\Anaconda3\\lib\\site-packages\\tensorflow\\python\\framework\\func_graph.py:465 create_op\n        compute_device=compute_device)\n    C:\\Anaconda3\\lib\\site-packages\\tensorflow\\python\\util\\deprecation.py:507 new_func\n        return func(*args, **kwargs)\n    C:\\Anaconda3\\lib\\site-packages\\tensorflow\\python\\framework\\ops.py:3296 create_op\n        op_def=op_def)\n    C:\\Anaconda3\\lib\\site-packages\\tensorflow\\python\\framework\\ops.py:1714 __init__\n        control_input_ops)\n    C:\\Anaconda3\\lib\\site-packages\\tensorflow\\python\\framework\\ops.py:1554 _create_c_op\n        raise ValueError(str(e))\n\n    ValueError: slice index 1 of dimension 1 out of bounds. for 'motion_2/model_r2bc_nn/polar0/theta0/strided_slice' (op: 'StridedSlice') with input shapes: [?,1], [2], [2], [2] and with computed input tensors: input[1] = <0 1>, input[2] = <0 2>, input[3] = <1 1>.\n",
     "output_type": "error",
     "traceback": [
      "\u001b[1;31m---------------------------------------------------------------------------\u001b[0m",
      "\u001b[1;31mValueError\u001b[0m                                Traceback (most recent call last)",
      "\u001b[1;32m<ipython-input-48-56b717cbb523>\u001b[0m in \u001b[0;36m<module>\u001b[1;34m\u001b[0m\n\u001b[1;32m----> 1\u001b[1;33m \u001b[0mmodel_math\u001b[0m \u001b[1;33m=\u001b[0m \u001b[0mmake_model_r2b\u001b[0m\u001b[1;33m(\u001b[0m\u001b[0mposition_model\u001b[0m\u001b[1;33m=\u001b[0m\u001b[0mposition_model_nn\u001b[0m\u001b[1;33m,\u001b[0m \u001b[0mtraj_size\u001b[0m\u001b[1;33m=\u001b[0m\u001b[0mtraj_size\u001b[0m\u001b[1;33m)\u001b[0m\u001b[1;33m\u001b[0m\u001b[1;33m\u001b[0m\u001b[0m\n\u001b[0m\u001b[0;32m      2\u001b[0m \u001b[0mmodel\u001b[0m\u001b[1;33m.\u001b[0m\u001b[0mcompile\u001b[0m\u001b[1;33m(\u001b[0m\u001b[0moptimizer\u001b[0m\u001b[1;33m=\u001b[0m\u001b[0moptimizer\u001b[0m\u001b[1;33m,\u001b[0m \u001b[0mloss\u001b[0m\u001b[1;33m=\u001b[0m\u001b[0mloss\u001b[0m\u001b[1;33m,\u001b[0m \u001b[0mmetrics\u001b[0m\u001b[1;33m=\u001b[0m\u001b[0mmetrics\u001b[0m\u001b[1;33m,\u001b[0m \u001b[0mloss_weights\u001b[0m\u001b[1;33m=\u001b[0m\u001b[0mloss_weights\u001b[0m\u001b[1;33m)\u001b[0m\u001b[1;33m\u001b[0m\u001b[1;33m\u001b[0m\u001b[0m\n",
      "\u001b[1;32mD:\\IACS\\Thesis\\src\\r2bc_model.py\u001b[0m in \u001b[0;36mmake_model_r2b\u001b[1;34m(position_model, traj_size)\u001b[0m\n\u001b[0;32m     66\u001b[0m \u001b[1;33m\u001b[0m\u001b[0m\n\u001b[0;32m     67\u001b[0m     \u001b[1;31m# Compute the motion from the specified position layer\u001b[0m\u001b[1;33m\u001b[0m\u001b[1;33m\u001b[0m\u001b[1;33m\u001b[0m\u001b[0m\n\u001b[1;32m---> 68\u001b[1;33m     \u001b[0mq\u001b[0m\u001b[1;33m,\u001b[0m \u001b[0mv\u001b[0m\u001b[1;33m,\u001b[0m \u001b[0ma\u001b[0m \u001b[1;33m=\u001b[0m \u001b[0mMotion_R2B\u001b[0m\u001b[1;33m(\u001b[0m\u001b[0mposition_model\u001b[0m\u001b[1;33m=\u001b[0m\u001b[0mposition_model\u001b[0m\u001b[1;33m,\u001b[0m \u001b[0mname\u001b[0m\u001b[1;33m=\u001b[0m\u001b[1;34m'motion'\u001b[0m\u001b[1;33m)\u001b[0m\u001b[1;33m(\u001b[0m\u001b[1;33m[\u001b[0m\u001b[0mt\u001b[0m\u001b[1;33m,\u001b[0m \u001b[0mr0\u001b[0m\u001b[1;33m,\u001b[0m \u001b[0mtheta0\u001b[0m\u001b[1;33m,\u001b[0m \u001b[0momega0\u001b[0m\u001b[1;33m]\u001b[0m\u001b[1;33m)\u001b[0m\u001b[1;33m\u001b[0m\u001b[1;33m\u001b[0m\u001b[0m\n\u001b[0m\u001b[0;32m     69\u001b[0m \u001b[1;33m\u001b[0m\u001b[0m\n\u001b[0;32m     70\u001b[0m     \u001b[1;31m# Name the outputs of the circular motion\u001b[0m\u001b[1;33m\u001b[0m\u001b[1;33m\u001b[0m\u001b[1;33m\u001b[0m\u001b[0m\n",
      "\u001b[1;32mC:\\Anaconda3\\lib\\site-packages\\tensorflow\\python\\keras\\engine\\base_layer.py\u001b[0m in \u001b[0;36m__call__\u001b[1;34m(self, inputs, *args, **kwargs)\u001b[0m\n\u001b[0;32m    660\u001b[0m                     not base_layer_utils.is_in_eager_or_tf_function()):\n\u001b[0;32m    661\u001b[0m                   \u001b[1;32mwith\u001b[0m \u001b[0mauto_control_deps\u001b[0m\u001b[1;33m.\u001b[0m\u001b[0mAutomaticControlDependencies\u001b[0m\u001b[1;33m(\u001b[0m\u001b[1;33m)\u001b[0m \u001b[1;32mas\u001b[0m \u001b[0macd\u001b[0m\u001b[1;33m:\u001b[0m\u001b[1;33m\u001b[0m\u001b[1;33m\u001b[0m\u001b[0m\n\u001b[1;32m--> 662\u001b[1;33m                     \u001b[0moutputs\u001b[0m \u001b[1;33m=\u001b[0m \u001b[0mcall_fn\u001b[0m\u001b[1;33m(\u001b[0m\u001b[0minputs\u001b[0m\u001b[1;33m,\u001b[0m \u001b[1;33m*\u001b[0m\u001b[0margs\u001b[0m\u001b[1;33m,\u001b[0m \u001b[1;33m**\u001b[0m\u001b[0mkwargs\u001b[0m\u001b[1;33m)\u001b[0m\u001b[1;33m\u001b[0m\u001b[1;33m\u001b[0m\u001b[0m\n\u001b[0m\u001b[0;32m    663\u001b[0m                     \u001b[1;31m# Wrap Tensors in `outputs` in `tf.identity` to avoid\u001b[0m\u001b[1;33m\u001b[0m\u001b[1;33m\u001b[0m\u001b[1;33m\u001b[0m\u001b[0m\n\u001b[0;32m    664\u001b[0m                     \u001b[1;31m# circular dependencies.\u001b[0m\u001b[1;33m\u001b[0m\u001b[1;33m\u001b[0m\u001b[1;33m\u001b[0m\u001b[0m\n",
      "\u001b[1;32mC:\\Anaconda3\\lib\\site-packages\\tensorflow\\python\\autograph\\impl\\api.py\u001b[0m in \u001b[0;36mwrapper\u001b[1;34m(*args, **kwargs)\u001b[0m\n\u001b[0;32m    167\u001b[0m       \u001b[1;32mexcept\u001b[0m \u001b[0mException\u001b[0m \u001b[1;32mas\u001b[0m \u001b[0me\u001b[0m\u001b[1;33m:\u001b[0m  \u001b[1;31m# pylint:disable=broad-except\u001b[0m\u001b[1;33m\u001b[0m\u001b[1;33m\u001b[0m\u001b[0m\n\u001b[0;32m    168\u001b[0m         \u001b[1;32mif\u001b[0m \u001b[0mhasattr\u001b[0m\u001b[1;33m(\u001b[0m\u001b[0me\u001b[0m\u001b[1;33m,\u001b[0m \u001b[1;34m'ag_error_metadata'\u001b[0m\u001b[1;33m)\u001b[0m\u001b[1;33m:\u001b[0m\u001b[1;33m\u001b[0m\u001b[1;33m\u001b[0m\u001b[0m\n\u001b[1;32m--> 169\u001b[1;33m           \u001b[1;32mraise\u001b[0m \u001b[0me\u001b[0m\u001b[1;33m.\u001b[0m\u001b[0mag_error_metadata\u001b[0m\u001b[1;33m.\u001b[0m\u001b[0mto_exception\u001b[0m\u001b[1;33m(\u001b[0m\u001b[0mtype\u001b[0m\u001b[1;33m(\u001b[0m\u001b[0me\u001b[0m\u001b[1;33m)\u001b[0m\u001b[1;33m)\u001b[0m\u001b[1;33m\u001b[0m\u001b[1;33m\u001b[0m\u001b[0m\n\u001b[0m\u001b[0;32m    170\u001b[0m         \u001b[1;32melse\u001b[0m\u001b[1;33m:\u001b[0m\u001b[1;33m\u001b[0m\u001b[1;33m\u001b[0m\u001b[0m\n\u001b[0;32m    171\u001b[0m           \u001b[1;32mraise\u001b[0m\u001b[1;33m\u001b[0m\u001b[1;33m\u001b[0m\u001b[0m\n",
      "\u001b[1;31mValueError\u001b[0m: in converted code:\n\n    D:\\IACS\\Thesis\\src\\r2b.py:217 call  *\n        qx, qy = self.position_model(position_inputs)\n    C:\\Anaconda3\\lib\\site-packages\\tensorflow\\python\\keras\\engine\\base_layer.py:662 __call__\n        outputs = call_fn(inputs, *args, **kwargs)\n    D:\\IACS\\Thesis\\src\\r2b.py:145 call  *\n        arg_func = lambda q : tf.reshape(tensor=tf.atan2(y=q[:,1], x=q[:,0]), shape=(-1, 1,))\n    C:\\Anaconda3\\lib\\site-packages\\tensorflow\\python\\keras\\engine\\base_layer.py:662 __call__\n        outputs = call_fn(inputs, *args, **kwargs)\n    C:\\Anaconda3\\lib\\site-packages\\tensorflow\\python\\keras\\layers\\core.py:785 call\n        return self.function(inputs, **arguments)\n    C:\\Users\\Michael\\AppData\\Local\\Temp\\tmp6d8jz_np.py:12 <lambda>\n        arg_func = lambda q: ag__.converted_call('reshape', tf, ag__.ConversionOptions(recursive=True, force_conversion=False, optional_features=(), internal_convert_user_code=True), (), {'tensor': ag__.converted_call('atan2', tf, ag__.ConversionOptions(recursive=True, force_conversion=False, optional_features=(), internal_convert_user_code=True), (), {'y': q[:, (1)], 'x': q[:, (0)]}), 'shape': (-1, 1)})\n    C:\\Anaconda3\\lib\\site-packages\\tensorflow\\python\\ops\\array_ops.py:680 _slice_helper\n        name=name)\n    C:\\Anaconda3\\lib\\site-packages\\tensorflow\\python\\ops\\array_ops.py:846 strided_slice\n        shrink_axis_mask=shrink_axis_mask)\n    C:\\Anaconda3\\lib\\site-packages\\tensorflow\\python\\ops\\gen_array_ops.py:12096 strided_slice\n        shrink_axis_mask=shrink_axis_mask, name=name)\n    C:\\Anaconda3\\lib\\site-packages\\tensorflow\\python\\framework\\op_def_library.py:788 _apply_op_helper\n        op_def=op_def)\n    C:\\Anaconda3\\lib\\site-packages\\tensorflow\\python\\framework\\func_graph.py:465 create_op\n        compute_device=compute_device)\n    C:\\Anaconda3\\lib\\site-packages\\tensorflow\\python\\util\\deprecation.py:507 new_func\n        return func(*args, **kwargs)\n    C:\\Anaconda3\\lib\\site-packages\\tensorflow\\python\\framework\\ops.py:3296 create_op\n        op_def=op_def)\n    C:\\Anaconda3\\lib\\site-packages\\tensorflow\\python\\framework\\ops.py:1714 __init__\n        control_input_ops)\n    C:\\Anaconda3\\lib\\site-packages\\tensorflow\\python\\framework\\ops.py:1554 _create_c_op\n        raise ValueError(str(e))\n\n    ValueError: slice index 1 of dimension 1 out of bounds. for 'motion_2/model_r2bc_nn/polar0/theta0/strided_slice' (op: 'StridedSlice') with input shapes: [?,1], [2], [2], [2] and with computed input tensors: input[1] = <0 1>, input[2] = <0 2>, input[3] = <1 1>.\n"
     ]
    }
   ],
   "source": [
    "model_math = make_model_r2b(position_model=position_model_nn, traj_size=traj_size)\n",
    "model.compile(optimizer=optimizer, loss=loss, metrics=metrics, loss_weights=loss_weights)"
   ]
  },
  {
   "cell_type": "code",
   "execution_count": 49,
   "metadata": {},
   "outputs": [],
   "source": [
    "# Make the NN r2bc model\n",
    "# model = make_model_r2bc_nn(hidden_sizes=[64])\n",
    "# model.compile(optimizer=optimizer, loss=loss, metrics=metrics, loss_weights=loss_weights)"
   ]
  },
  {
   "cell_type": "code",
   "execution_count": null,
   "metadata": {},
   "outputs": [],
   "source": [
    "# Evaluate the NN model on the solar system data set\n",
    "model_nn.evaluate(ds_solar_val)"
   ]
  },
  {
   "cell_type": "code",
   "execution_count": null,
   "metadata": {},
   "outputs": [],
   "source": []
  }
 ],
 "metadata": {
  "kernelspec": {
   "display_name": "Python 3",
   "language": "python",
   "name": "python3"
  },
  "language_info": {
   "codemirror_mode": {
    "name": "ipython",
    "version": 3
   },
   "file_extension": ".py",
   "mimetype": "text/x-python",
   "name": "python",
   "nbconvert_exporter": "python",
   "pygments_lexer": "ipython3",
   "version": "3.7.3"
  }
 },
 "nbformat": 4,
 "nbformat_minor": 2
}
