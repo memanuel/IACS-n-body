{
 "cells": [
  {
   "cell_type": "markdown",
   "metadata": {},
   "source": [
    "# Base Case: Circular Orbit of Radius 1 AU, Period 1 Year\n",
    "\n",
    "Create synthetic data for the simplest base case: a circular orbit of radius 1.\n",
    "\n",
    "Can think of this as approximating the earth: radius = 1 AU, period = 1 year, mass of sun $m_0$ = 1 solar mass\n",
    "\n",
    "\\begin{align}\n",
    "x(t) &= \\cos(\\omega t) \\\\\n",
    "y(t) &= \\sin(\\omega t) \\\\\n",
    "\\omega &= 2 \\pi\n",
    "\\end{align}\n",
    "\n",
    "Taking two derivatives\n",
    "\\begin{align}\n",
    "\\ddot{x}(t) = -\\omega^2 x(t)\\\\\n",
    "\\ddot{y}(t) = -\\omega^2 y(t)\n",
    "\\end{align}\n",
    "\n",
    "Equating the acceleration $\\omega^2 r$ to $G \\cdot m_0 / r^2$ for $r=1$ in the case of earth, we can see that in these units the gravitational constant $G$ is\n",
    "$$G = 4 \\pi^2$$\n",
    "\n",
    "Further we can see that for a planet in a circular orbit with radius $r$, the angular frequency will satisfy\n",
    "$$ \\omega^2 = G m_0 / r^3$$\n",
    "This is a special case of Kepler's third law."
   ]
  },
  {
   "cell_type": "code",
   "execution_count": 1,
   "metadata": {},
   "outputs": [],
   "source": [
    "# Library imports\n",
    "import tensorflow as tf\n",
    "import numpy as np\n",
    "import matplotlib.pyplot as plt\n",
    "import time\n",
    "\n",
    "# Aliases\n",
    "keras = tf.keras"
   ]
  },
  {
   "cell_type": "code",
   "execution_count": 195,
   "metadata": {},
   "outputs": [],
   "source": [
    "# Local imports\n",
    "from utils import load_vartbl, save_vartbl, plot_style\n",
    "from tf_utils import gpu_grow_memory, TimeHistory\n",
    "from tf_utils import Identity\n",
    "from tf_utils import EpochLoss, TimeHistory\n",
    "\n",
    "from r2b_data import make_traj_r2bc , make_train_r2bc\n",
    "from r2b_data import plot_orbit_q, plot_orbit_v, plot_orbit_a, plot_orbit_energy\n",
    "from r2b_data import make_datasets_earth, make_datasets_solar, make_datasets_r2bc\n",
    "\n",
    "from r2b import KineticEnergy_R2B, PotentialEnergy_R2B\n",
    "from r2b import AngularMomentum0_R2B, AngularMomentum_R2B\n",
    "from r2b import ConfigToPolar2D\n",
    "from r2b import Motion_R2B\n",
    "\n",
    "from r2bc_model_math import make_position_model_r2bc_math, make_model_r2bc_math\n",
    "from r2bc_model_nn import make_position_model_r2bc_nn, make_physics_model_r2bc_nn\n",
    "from r2bc_model_nn import make_model_r2bc_nn"
   ]
  },
  {
   "cell_type": "code",
   "execution_count": 3,
   "metadata": {},
   "outputs": [],
   "source": [
    "# Grow GPU memory (must be first operation in TF)\n",
    "gpu_grow_memory()"
   ]
  },
  {
   "cell_type": "code",
   "execution_count": 4,
   "metadata": {},
   "outputs": [],
   "source": [
    "# Create distribution strategy\n",
    "# This isn't working properly for training in Michael-PC (Windows 10)\n",
    "# but does work for evaluating (with no real benefit though)\n",
    "# strat = tf.distribute.MirroredStrategy(['/GPU:0', '/GPU:1'])\n",
    "\n",
    "# Plot style \n",
    "plot_style()"
   ]
  },
  {
   "cell_type": "code",
   "execution_count": 5,
   "metadata": {},
   "outputs": [],
   "source": [
    "# Lightweight serialization\n",
    "fname = '../pickle/r2bc.pickle'\n",
    "vartbl = load_vartbl(fname)"
   ]
  },
  {
   "cell_type": "code",
   "execution_count": 6,
   "metadata": {},
   "outputs": [],
   "source": [
    "# One trajectory of earth for plotting\n",
    "inputs_earth, outputs_earth = make_traj_r2bc(r0=1.0, theta0=0.0, n_years=2)\n",
    "\n",
    "# Combined dict\n",
    "data_earth = {**inputs_earth, **outputs_earth}"
   ]
  },
  {
   "cell_type": "code",
   "execution_count": 7,
   "metadata": {},
   "outputs": [],
   "source": [
    "# fig, ax = plot_orbit_q(data_earth)"
   ]
  },
  {
   "cell_type": "code",
   "execution_count": 8,
   "metadata": {},
   "outputs": [],
   "source": [
    "# fig, ax = plot_orbit_v(data_earth)"
   ]
  },
  {
   "cell_type": "code",
   "execution_count": 9,
   "metadata": {},
   "outputs": [],
   "source": [
    "# fig, ax = plot_orbit_a(data_earth)"
   ]
  },
  {
   "cell_type": "code",
   "execution_count": 10,
   "metadata": {},
   "outputs": [],
   "source": [
    "# fig, ax = plot_orbit_energy(data_earth)"
   ]
  },
  {
   "cell_type": "markdown",
   "metadata": {},
   "source": [
    "### Generate data sets and an example batch"
   ]
  },
  {
   "cell_type": "code",
   "execution_count": 11,
   "metadata": {},
   "outputs": [],
   "source": [
    "# Create DataSet objects for toy size problem - earth orbits only (a=1, e=0)\n",
    "ds_earth_trn, ds_earth_val, ds_earth_tst = make_datasets_earth(n_traj=1000, vt_split=0.20)\n",
    "\n",
    "# Create DataSet objects for solar system type orbits (a between 0.25 and 32.0)\n",
    "ds_solar_trn, ds_solar_val, ds_solar_tst = make_datasets_solar(n_traj=10000, vt_split=0.20)\n",
    "\n",
    "# Create DataSet objects for jupiter orbits only (a=5.2, e=0)\n",
    "ds_jup_trn, ds_jup_val, ds_jup_tst = make_datasets_r2bc(n_traj=1000, vt_split=0.20, \n",
    "                                                        n_years=2, r_min=5.2, r_max=5.2, seed=42, batch_size=64)"
   ]
  },
  {
   "cell_type": "code",
   "execution_count": 12,
   "metadata": {},
   "outputs": [
    {
     "name": "stdout",
     "output_type": "stream",
     "text": [
      "Example batch sizes:\n",
      "t  = (64, 731)\n",
      "q0 = (64, 2)\n",
      "v0 = (64, 2)\n",
      "mu = (64, 1)\n",
      "q  = (64, 731, 2)\n",
      "v  = (64, 731, 2)\n",
      "a  = (64, 731, 2)\n",
      "H  = (64, 731)\n",
      "L  = (64, 731)\n"
     ]
    }
   ],
   "source": [
    "# Example batch\n",
    "batch_in, batch_out = list(ds_earth_val.take(1))[0]\n",
    "# batch_in.keys()\n",
    "# batch_out.keys()\n",
    "\n",
    "t = batch_in['t']\n",
    "q0 = batch_in['q0']\n",
    "v0 = batch_in['v0']\n",
    "mu = batch_in['mu']\n",
    "\n",
    "q = batch_out['q']\n",
    "v = batch_out['v']\n",
    "a = batch_out['a']\n",
    "q0_rec = batch_out['q0_rec']\n",
    "v0_rec = batch_out['v0_rec']\n",
    "H = batch_out['H']\n",
    "L = batch_out['L']\n",
    "\n",
    "print(f'Example batch sizes:')\n",
    "print(f't  = {t.shape}')\n",
    "print(f'q0 = {q0.shape}')\n",
    "print(f'v0 = {v0.shape}')\n",
    "print(f'mu = {mu.shape}')\n",
    "\n",
    "print(f'q  = {q.shape}')\n",
    "print(f'v  = {v.shape}')\n",
    "print(f'a  = {a.shape}')\n",
    "# print(f'q0_rec = {q0_rec.shape}')\n",
    "# print(f'v0_rec = {v0_rec.shape}')\n",
    "print(f'H  = {H.shape}')\n",
    "print(f'L  = {L.shape}')"
   ]
  },
  {
   "cell_type": "code",
   "execution_count": 13,
   "metadata": {},
   "outputs": [],
   "source": [
    "batch_size = 64\n",
    "traj_size = 731\n",
    "\n",
    "tf.debugging.assert_shapes(\n",
    "    shapes = {\n",
    "    # Inputs\n",
    "    t: (batch_size, traj_size),\n",
    "    q0: (batch_size, 2),\n",
    "    v0: (batch_size, 2),\n",
    "    mu: (batch_size, 1),\n",
    "    # Outputs\n",
    "    q: (batch_size, traj_size, 2),\n",
    "    v: (batch_size, traj_size, 2),\n",
    "    a: (batch_size, traj_size, 2),\n",
    "    q0_rec: (batch_size, 2),\n",
    "    v0_rec: (batch_size, 2),\n",
    "    H: (batch_size, traj_size),\n",
    "    L: (batch_size, traj_size),\n",
    "    })"
   ]
  },
  {
   "cell_type": "markdown",
   "metadata": {},
   "source": [
    "**Call layers with physics computations**"
   ]
  },
  {
   "cell_type": "code",
   "execution_count": 14,
   "metadata": {},
   "outputs": [
    {
     "data": {
      "text/plain": [
       "TensorShape([64, 731])"
      ]
     },
     "execution_count": 14,
     "metadata": {},
     "output_type": "execute_result"
    }
   ],
   "source": [
    "T = KineticEnergy_R2B()(v)\n",
    "T.shape"
   ]
  },
  {
   "cell_type": "code",
   "execution_count": 15,
   "metadata": {},
   "outputs": [
    {
     "data": {
      "text/plain": [
       "TensorShape([64, 731])"
      ]
     },
     "execution_count": 15,
     "metadata": {},
     "output_type": "execute_result"
    }
   ],
   "source": [
    "U = PotentialEnergy_R2B()([q, mu])\n",
    "U.shape"
   ]
  },
  {
   "cell_type": "code",
   "execution_count": 16,
   "metadata": {},
   "outputs": [
    {
     "data": {
      "text/plain": [
       "TensorShape([64, 731])"
      ]
     },
     "execution_count": 16,
     "metadata": {},
     "output_type": "execute_result"
    }
   ],
   "source": [
    "L = AngularMomentum_R2B()([q, v])\n",
    "L.shape"
   ]
  },
  {
   "cell_type": "code",
   "execution_count": 17,
   "metadata": {},
   "outputs": [
    {
     "data": {
      "text/plain": [
       "TensorShape([64, 1])"
      ]
     },
     "execution_count": 17,
     "metadata": {},
     "output_type": "execute_result"
    }
   ],
   "source": [
    "L0 = AngularMomentum0_R2B()([q0, v0])\n",
    "L0.shape"
   ]
  },
  {
   "cell_type": "markdown",
   "metadata": {},
   "source": [
    "**Conversion of initial configuration to polar coordinates**"
   ]
  },
  {
   "cell_type": "code",
   "execution_count": 18,
   "metadata": {},
   "outputs": [
    {
     "name": "stdout",
     "output_type": "stream",
     "text": [
      "shape of polar batches\n",
      "r0 : (64, 1)\n",
      "theta0 : (64, 1)\n",
      "omega0 : (64, 1)\n"
     ]
    }
   ],
   "source": [
    "r0, theta0, omega0 = ConfigToPolar2D()([q0, v0])\n",
    "print(f'shape of polar batches')\n",
    "print(f'r0 : {r0.shape}')\n",
    "print(f'theta0 : {theta0.shape}')\n",
    "print(f'omega0 : {omega0.shape}')"
   ]
  },
  {
   "cell_type": "markdown",
   "metadata": {},
   "source": [
    "### Mathematical Model\n",
    "**Compute position as a function of time from initial polar coordinates**"
   ]
  },
  {
   "cell_type": "code",
   "execution_count": 19,
   "metadata": {},
   "outputs": [],
   "source": [
    "position_model = make_position_model_r2bc_math(traj_size)"
   ]
  },
  {
   "cell_type": "code",
   "execution_count": 20,
   "metadata": {},
   "outputs": [],
   "source": [
    "# Need to call the position model on RESHAPED t vector\n",
    "# t_vec = tf.reshape(t, (batch_size, traj_size, 1))\n",
    "# print(f'shape of t_vec = {t_vec.shape}')"
   ]
  },
  {
   "cell_type": "code",
   "execution_count": 21,
   "metadata": {},
   "outputs": [
    {
     "name": "stdout",
     "output_type": "stream",
     "text": [
      "qx = (64, 731, 1)\n",
      "qy = (64, 731, 1)\n"
     ]
    }
   ],
   "source": [
    "qx, qy = position_model([t, r0, theta0, omega0])\n",
    "print(f'qx = {qx.shape}')\n",
    "print(f'qy = {qy.shape}')"
   ]
  },
  {
   "cell_type": "code",
   "execution_count": 22,
   "metadata": {},
   "outputs": [
    {
     "data": {
      "image/png": "[encoded data removed]",
      "text/plain": [
       "<IPython.core.display.Image object>"
      ]
     },
     "execution_count": 22,
     "metadata": {},
     "output_type": "execute_result"
    }
   ],
   "source": [
    "keras.utils.plot_model(position_model)"
   ]
  },
  {
   "cell_type": "code",
   "execution_count": 23,
   "metadata": {},
   "outputs": [
    {
     "name": "stdout",
     "output_type": "stream",
     "text": [
      "Model: \"model_r2bc_math\"\n",
      "__________________________________________________________________________________________________\n",
      "Layer (type)                    Output Shape         Param #     Connected to                     \n",
      "==================================================================================================\n",
      "omega0 (InputLayer)             [(None, 1)]          0                                            \n",
      "__________________________________________________________________________________________________\n",
      "t (InputLayer)                  [(None, 731)]        0                                            \n",
      "__________________________________________________________________________________________________\n",
      "omega_vec (RepeatVector)        (None, 731, 1)       0           omega0[0][0]                     \n",
      "__________________________________________________________________________________________________\n",
      "t_vec (Reshape)                 (None, 731, 1)       0           t[0][0]                          \n",
      "__________________________________________________________________________________________________\n",
      "theta0 (InputLayer)             [(None, 1)]          0                                            \n",
      "__________________________________________________________________________________________________\n",
      "omega_t (Multiply)              (None, 731, 1)       0           omega_vec[0][0]                  \n",
      "                                                                 t_vec[0][0]                      \n",
      "__________________________________________________________________________________________________\n",
      "theta0_vec (RepeatVector)       (None, 731, 1)       0           theta0[0][0]                     \n",
      "__________________________________________________________________________________________________\n",
      "r0 (InputLayer)                 [(None, 1)]          0                                            \n",
      "__________________________________________________________________________________________________\n",
      "theta (Add)                     (None, 731, 1)       0           omega_t[0][0]                    \n",
      "                                                                 theta0_vec[0][0]                 \n",
      "__________________________________________________________________________________________________\n",
      "r (RepeatVector)                (None, 731, 1)       0           r0[0][0]                         \n",
      "__________________________________________________________________________________________________\n",
      "cos_theta (Activation)          (None, 731, 1)       0           theta[0][0]                      \n",
      "__________________________________________________________________________________________________\n",
      "sin_theta (Activation)          (None, 731, 1)       0           theta[0][0]                      \n",
      "__________________________________________________________________________________________________\n",
      "qx (Multiply)                   (None, 731, 1)       0           r[0][0]                          \n",
      "                                                                 cos_theta[0][0]                  \n",
      "__________________________________________________________________________________________________\n",
      "qy (Multiply)                   (None, 731, 1)       0           r[0][0]                          \n",
      "                                                                 sin_theta[0][0]                  \n",
      "==================================================================================================\n",
      "Total params: 0\n",
      "Trainable params: 0\n",
      "Non-trainable params: 0\n",
      "__________________________________________________________________________________________________\n"
     ]
    }
   ],
   "source": [
    "position_model.summary()"
   ]
  },
  {
   "cell_type": "markdown",
   "metadata": {},
   "source": [
    "**Motion Model: Compute v and a from q using automatic differentiation**<br>\n",
    "Factory function that accepts any position model<br>\n",
    "Instantiated here from mathematical position model"
   ]
  },
  {
   "cell_type": "code",
   "execution_count": 24,
   "metadata": {},
   "outputs": [],
   "source": [
    "motion_model = Motion_R2B(position_model=position_model, name='motion_model')"
   ]
  },
  {
   "cell_type": "code",
   "execution_count": 25,
   "metadata": {},
   "outputs": [
    {
     "name": "stdout",
     "output_type": "stream",
     "text": [
      "shape of motion_model outputs:\n",
      "q: (64, 731, 2)\n",
      "v: (64, 731, 2)\n",
      "a: (64, 731, 2)\n"
     ]
    }
   ],
   "source": [
    "q, v, a = motion_model([t, r0, theta0, omega0])\n",
    "print('shape of motion_model outputs:')\n",
    "print(f'q: {q.shape}')\n",
    "print(f'v: {v.shape}')\n",
    "print(f'a: {a.shape}')"
   ]
  },
  {
   "cell_type": "code",
   "execution_count": 26,
   "metadata": {},
   "outputs": [],
   "source": [
    "# keras.utils.plot_model(motion_model)"
   ]
  },
  {
   "cell_type": "code",
   "execution_count": 27,
   "metadata": {},
   "outputs": [],
   "source": [
    "# motion_model.summary()"
   ]
  },
  {
   "cell_type": "markdown",
   "metadata": {},
   "source": [
    "**Full physics model: computes energy and angular momentum from q, v**<br>\n",
    "Factory function that accepts any position model.<br>\n",
    "Instantiated here from mathematical position model."
   ]
  },
  {
   "cell_type": "code",
   "execution_count": 28,
   "metadata": {},
   "outputs": [],
   "source": [
    "model_math = make_model_r2bc_math()"
   ]
  },
  {
   "cell_type": "code",
   "execution_count": 29,
   "metadata": {},
   "outputs": [
    {
     "data": {
      "image/png": "[encoded data removed]",
      "text/plain": [
       "<IPython.core.display.Image object>"
      ]
     },
     "execution_count": 29,
     "metadata": {},
     "output_type": "execute_result"
    }
   ],
   "source": [
    "keras.utils.plot_model(model_math)"
   ]
  },
  {
   "cell_type": "code",
   "execution_count": 30,
   "metadata": {},
   "outputs": [],
   "source": [
    "# model_math.summary()"
   ]
  },
  {
   "cell_type": "code",
   "execution_count": 31,
   "metadata": {},
   "outputs": [
    {
     "name": "stdout",
     "output_type": "stream",
     "text": [
      "model output shapes:\n",
      "q = (64, 731, 2)\n",
      "v = (64, 731, 2)\n",
      "a = (64, 731, 2)\n",
      "q0_rec = (64, 2)\n",
      "v0_rec = (64, 2)\n",
      "H = (64, 731)\n",
      "L = (64, 731)\n"
     ]
    }
   ],
   "source": [
    "q, v, a, q0_rec, v0_rec, H, L  = model_math([t, q0, v0, mu])\n",
    "print(f'model output shapes:')\n",
    "print(f'q = {q.shape}')\n",
    "print(f'v = {v.shape}')\n",
    "print(f'a = {a.shape}')\n",
    "print(f'q0_rec = {q0_rec.shape}')\n",
    "print(f'v0_rec = {v0_rec.shape}')\n",
    "print(f'H = {H.shape}')\n",
    "print(f'L = {L.shape}')"
   ]
  },
  {
   "cell_type": "code",
   "execution_count": 32,
   "metadata": {},
   "outputs": [],
   "source": [
    "optimizer = keras.optimizers.Adam()\n",
    "\n",
    "loss = {'q': keras.losses.MeanSquaredError(name='q_mse'),\n",
    "        'v': keras.losses.MeanSquaredError(name='q_mse'),\n",
    "        'a': keras.losses.MeanSquaredError(name='a_mse'),\n",
    "        'q0_rec': keras.losses.MeanSquaredError(name='q0_mse'),\n",
    "        'v0_rec': keras.losses.MeanSquaredError(name='v0_mse'),\n",
    "        'H': keras.losses.MeanSquaredError(name='H'),\n",
    "        'L': keras.losses.MeanSquaredError(name='L')}\n",
    "\n",
    "# these metrics produce crazy output names when multiple instances share them; hold off for now\n",
    "# metrics = {'q': keras.metrics.MeanAbsoluteError(name='q_mae'),\n",
    "#            'v': keras.metrics.MeanAbsoluteError(name='v_mae')}\n",
    "metrics = None\n",
    "\n",
    "loss_weights = {'q': 1.0,\n",
    "                'v': 1.0,\n",
    "                'a': 0.0,\n",
    "                'q0_rec': 1.0,\n",
    "                'v0_rec': 1.0,\n",
    "                'H': 1.0,\n",
    "                'L': 1.0}"
   ]
  },
  {
   "cell_type": "code",
   "execution_count": 33,
   "metadata": {},
   "outputs": [],
   "source": [
    "# Compile the mathematical model on a single GPU\n",
    "# model_math = make_model_r2bc_math()\n",
    "model_math.compile(optimizer=optimizer, loss=loss, metrics=metrics, loss_weights=loss_weights)"
   ]
  },
  {
   "cell_type": "code",
   "execution_count": 34,
   "metadata": {},
   "outputs": [],
   "source": [
    "# Compile the mathematical model for parallel GPUs\n",
    "# with strat.scope():\n",
    "#     model_math_par = make_model_r2bc_analytic()\n",
    "#     model_math_par.compile(optimizer=optimizer, loss=loss, metrics=metrics, loss_weights=loss_weights)"
   ]
  },
  {
   "cell_type": "code",
   "execution_count": 35,
   "metadata": {},
   "outputs": [
    {
     "name": "stdout",
     "output_type": "stream",
     "text": [
      "32/32 [==============================] - 1s 37ms/step - loss: 1.0400e-11 - q_loss: 1.0601e-12 - v_loss: 9.3822e-13 - a_loss: 1.8915e-10 - q0_rec_loss: 6.7927e-13 - v0_rec_loss: 1.6890e-14 - H_loss: 8.9976e-13 - L_loss: 6.8054e-12\n"
     ]
    },
    {
     "data": {
      "text/plain": [
       "[1.0399643589321071e-11,\n",
       " 1.0601153e-12,\n",
       " 9.382155e-13,\n",
       " 1.8915154e-10,\n",
       " 6.79265e-13,\n",
       " 1.6890155e-14,\n",
       " 8.9975656e-13,\n",
       " 6.8054013e-12]"
      ]
     },
     "execution_count": 35,
     "metadata": {},
     "output_type": "execute_result"
    }
   ],
   "source": [
    "# Evaluate the math model on the earth-like data set\n",
    "model_math.evaluate(ds_solar_val)"
   ]
  },
  {
   "cell_type": "code",
   "execution_count": 36,
   "metadata": {},
   "outputs": [],
   "source": [
    "def time_model_eval(model, ds, batches=None, time_mean=None):\n",
    "    \"\"\"Time a model to evaluate a dataset\"\"\"\n",
    "    t0 = time.time()\n",
    "    if batches is None:\n",
    "        model.evaluate(ds)\n",
    "    else:\n",
    "        model.evaluate(ds.take(batches))\n",
    "    t1 = time.time()\n",
    "    elapsed = t1 - t0\n",
    "    print(f'Elapsed Time: {elapsed:5.3f} sec')\n",
    "    if time_mean is not None:\n",
    "        delta = (elapsed - time_mean)\n",
    "        print(f'Time Delta:   {delta:+5.3f} sec')"
   ]
  },
  {
   "cell_type": "code",
   "execution_count": 37,
   "metadata": {},
   "outputs": [],
   "source": [
    "# Time the single GPU math model\n",
    "# time_model_eval(model_math, ds_solar_trn)"
   ]
  },
  {
   "cell_type": "code",
   "execution_count": 38,
   "metadata": {},
   "outputs": [],
   "source": [
    "# Time the double GPU math model\n",
    "# time_model_eval(model_math_par, ds_solar_trn)"
   ]
  },
  {
   "cell_type": "code",
   "execution_count": 273,
   "metadata": {},
   "outputs": [],
   "source": [
    "def make_position_model_r2bc_nn(hidden_sizes, skip_layers=True, traj_size = 731):\n",
    "    \"\"\"\n",
    "    Compute orbit positions for the restricted two body circular problem from \n",
    "    the initial polar coordinates (orbital elements) with a deterministic mathematical model.\n",
    "    Factory function that returns a functional model.\n",
    "    \"\"\"\n",
    "    # Create input layers\n",
    "    t = keras.Input(shape=(traj_size,), name='t')\n",
    "    q0 = keras.Input(shape=(2,), name='q0')\n",
    "    v0 = keras.Input(shape=(2,), name='v0')\n",
    "    mu = keras.Input(shape=(1,), name='mu')\n",
    "    # The combined input layers\n",
    "    inputs = [t, q0, v0, mu]\n",
    "\n",
    "    # Check sizes\n",
    "    batch_size = t.shape[0]\n",
    "    tf.debugging.assert_shapes(shapes={\n",
    "        t: (batch_size, traj_size),\n",
    "        q0: (batch_size, 2),\n",
    "        v0: (batch_size, 2),\n",
    "        mu: (batch_size, 1),\n",
    "    }, message='make_position_model_r2bc_nn / inputs')\n",
    "    \n",
    "    # The polar coordinates of the initial conditions\n",
    "    # r0, theta0, and omega0 each scalars in each batch\n",
    "    r0, theta0, omega0 = ConfigToPolar2D(name='polar0')([q0, v0])\n",
    "    \n",
    "    # Name the outputs of the initial polar\n",
    "    # These each have shape (batch_size, 1)\n",
    "    r0 = Identity(name='r0')(r0)\n",
    "    theta0 = Identity(name='theta0')(theta0)\n",
    "    omega0 = Identity(name='omega0')(omega0)\n",
    "\n",
    "    # Check sizes\n",
    "    tf.debugging.assert_shapes(shapes={\n",
    "        r0: (batch_size, 1),\n",
    "        theta0: (batch_size, 1),\n",
    "        omega0: (batch_size, 1),\n",
    "    }, message='make_position_model_r2bc_nn / polar elements r0, theta0, omega0')\n",
    "   \n",
    "    # Combine the trajectory-wide scalars into one feature\n",
    "    # Size of each row is 2+2+1+1+1=7; shape is (batch_size, 7)\n",
    "    phi_traj = keras.layers.concatenate(inputs=[q0, v0, r0, theta0, omega0], name='phi_traj')\n",
    "    \n",
    "    # Repeat phi_traj traj_size times so it has a shape of (batch_size, traj_size, 7)\n",
    "    phi_traj_vec = keras.layers.RepeatVector(n=traj_size, name='phi_traj_vec')(phi_traj)\n",
    "\n",
    "    # Reshape t to (batch_size, traj_size, 1)\n",
    "    t_vec = keras.layers.Reshape(target_shape=(traj_size, 1), name='t_vec')(t)\n",
    "    \n",
    "    # Concatenate phi_traj with the time t to make the initial feature vector phi_0\n",
    "    phi_0 = keras.layers.concatenate(inputs=[t_vec, phi_traj_vec], name='phi_0')\n",
    "    \n",
    "    # Hidden layers as specified in hidden_sizes\n",
    "    # Number of hidden layers\n",
    "    num_layers = len(hidden_sizes)\n",
    "\n",
    "    # phi_n will update to the last available feature layer for the output portion\n",
    "    phi_n = phi_0\n",
    "\n",
    "    # First hidden layer if applicable\n",
    "    if num_layers > 0:\n",
    "        phi_1 = keras.layers.Dense(units=hidden_sizes[0], activation='tanh', name='phi_1')(phi_0)\n",
    "        if skip_layers:\n",
    "            phi_1 = keras.layers.concatenate(inputs=[phi_0, phi_1], name='phi_1_aug')\n",
    "        phi_n = phi_1\n",
    "\n",
    "    # Second hidden layer if applicable\n",
    "    if num_layers > 1:\n",
    "        phi_2 = keras.layers.Dense(units=hidden_sizes[1], activation='tanh', name='phi_2')(phi_1)\n",
    "        if skip_layers:\n",
    "            phi_2 = keras.layers.concatenate(inputs=[phi_1, phi_2], name='phi_2_aug')\n",
    "        phi_n = phi_2\n",
    "    \n",
    "    # Check shapes\n",
    "    tf.debugging.assert_shapes(shapes={\n",
    "        phi_traj: (batch_size, 7),\n",
    "        phi_traj_vec: (batch_size, traj_size, 7),        \n",
    "        t_vec: (batch_size, traj_size, 1),\n",
    "        phi_0: (batch_size, traj_size, 8),\n",
    "        # phi_1: (batch_size, traj_size, 'hs1'),\n",
    "        # phi_2: (batch_size, traj_size, 'hs2'),\n",
    "    }, message='make_position_model_r2bc_nn / phi')\n",
    "\n",
    "    # Compute the radius r from the features; initialize weights to 0, bias to 1\n",
    "    r = keras.layers.Dense(\n",
    "        units=1, kernel_initializer='zeros', bias_initializer='ones', name='r')(phi_n)\n",
    "    \n",
    "    # Compute the mean angular frequency omega from the features\n",
    "    omega = keras.layers.Dense(\n",
    "        units=1, kernel_initializer='zeros', bias_initializer='zeros', name='omega') (phi_n)\n",
    "    \n",
    "    # Add a feature for omega * t + theta0; a rough estimate of the angular offset\n",
    "    omega_t = keras.layers.multiply(inputs=[omega, t_vec], name='omega_t')\n",
    "\n",
    "    # Compute the offset to angle theta to its mean trend from the features\n",
    "    theta_adj = keras.layers.Dense(\n",
    "        units=1, kernel_initializer='zeros', bias_initializer='zeros', name='theta_adj')(phi_n)\n",
    "    \n",
    "    # Compute the angle theta as the sum of its original offset theta0, its trend rate omega_bar_t\n",
    "    # and the adjustment above\n",
    "    theta0_vec = keras.layers.RepeatVector(n=traj_size, name='theta0_vec')(theta0)\n",
    "    theta = keras.layers.add(inputs=[omega_t, theta0_vec, theta_adj], name='theta')\n",
    "    \n",
    "    # Check shapes\n",
    "    tf.debugging.assert_shapes(shapes={\n",
    "        r: (batch_size, traj_size, 1),\n",
    "        omega: (batch_size, traj_size, 1),\n",
    "        omega_t: (batch_size, traj_size, 1),\n",
    "        theta_adj: (batch_size, traj_size, 1),\n",
    "        theta0_vec: (batch_size, traj_size, 1),\n",
    "        theta: (batch_size, traj_size, 1)\n",
    "    }, message='make_position_model_r2bc_nn / r, omega, theta')\n",
    "    \n",
    "    # Cosine and sine of theta\n",
    "    cos_theta = keras.layers.Activation(activation=tf.cos, name='cos_theta')(theta)\n",
    "    sin_theta = keras.layers.Activation(activation=tf.sin, name='sin_theta')(theta)\n",
    "\n",
    "    # Compute qx and qy from r, theta\n",
    "    qx = keras.layers.multiply(inputs=[r, cos_theta], name='qx')\n",
    "    qy = keras.layers.multiply(inputs=[r, sin_theta], name='qy')\n",
    "    \n",
    "    # Check shapes\n",
    "    batch_size = t.shape[0]\n",
    "    tf.debugging.assert_shapes(shapes={\n",
    "        cos_theta: (batch_size, traj_size, 1),\n",
    "        sin_theta: (batch_size, traj_size, 1),\n",
    "        qx: (batch_size, traj_size, 1),\n",
    "        qy: (batch_size, traj_size, 1),\n",
    "    }, message='make_position_model_r2bc_nn / outputs')\n",
    "    \n",
    "    # Wrap this into a model\n",
    "    outputs = [qx, qy]\n",
    "    model = keras.Model(inputs=inputs, outputs=outputs, name='model_r2bc_nn')\n",
    "    return model"
   ]
  },
  {
   "cell_type": "code",
   "execution_count": 274,
   "metadata": {},
   "outputs": [],
   "source": [
    "def make_model_r2bc_nn(hidden_sizes, skip_layers=True, traj_size: int = 731):\n",
    "    \"\"\"Create a neural net model for the restricted two body circular problem\"\"\"\n",
    "    # Build the position model\n",
    "    position_model = make_position_model_r2bc_nn(hidden_sizes=hidden_sizes, skip_layers=skip_layers)\n",
    "    \n",
    "    # Build the model with this position model and the input trajectory size\n",
    "    return make_physics_model_r2bc_nn(position_model=position_model, traj_size=traj_size)"
   ]
  },
  {
   "cell_type": "code",
   "execution_count": 275,
   "metadata": {},
   "outputs": [],
   "source": [
    "position_model_nn = make_position_model_r2bc_nn([64])"
   ]
  },
  {
   "cell_type": "code",
   "execution_count": 276,
   "metadata": {},
   "outputs": [
    {
     "name": "stdout",
     "output_type": "stream",
     "text": [
      "Model: \"model_r2bc_nn\"\n",
      "__________________________________________________________________________________________________\n",
      "Layer (type)                    Output Shape         Param #     Connected to                     \n",
      "==================================================================================================\n",
      "q0 (InputLayer)                 [(None, 2)]          0                                            \n",
      "__________________________________________________________________________________________________\n",
      "v0 (InputLayer)                 [(None, 2)]          0                                            \n",
      "__________________________________________________________________________________________________\n",
      "polar0 (ConfigToPolar2D)        ((None, 1), (None, 1 0           q0[0][0]                         \n",
      "                                                                 v0[0][0]                         \n",
      "__________________________________________________________________________________________________\n",
      "r0 (Identity)                   (None, 1)            0           polar0[0][0]                     \n",
      "__________________________________________________________________________________________________\n",
      "theta0 (Identity)               (None, 1)            0           polar0[0][1]                     \n",
      "__________________________________________________________________________________________________\n",
      "omega0 (Identity)               (None, 1)            0           polar0[0][2]                     \n",
      "__________________________________________________________________________________________________\n",
      "t (InputLayer)                  [(None, 731)]        0                                            \n",
      "__________________________________________________________________________________________________\n",
      "phi_traj (Concatenate)          (None, 7)            0           q0[0][0]                         \n",
      "                                                                 v0[0][0]                         \n",
      "                                                                 r0[0][0]                         \n",
      "                                                                 theta0[0][0]                     \n",
      "                                                                 omega0[0][0]                     \n",
      "__________________________________________________________________________________________________\n",
      "t_vec (Reshape)                 (None, 731, 1)       0           t[0][0]                          \n",
      "__________________________________________________________________________________________________\n",
      "phi_traj_vec (RepeatVector)     (None, 731, 7)       0           phi_traj[0][0]                   \n",
      "__________________________________________________________________________________________________\n",
      "phi_0 (Concatenate)             (None, 731, 8)       0           t_vec[0][0]                      \n",
      "                                                                 phi_traj_vec[0][0]               \n",
      "__________________________________________________________________________________________________\n",
      "phi_1 (Dense)                   (None, 731, 64)      576         phi_0[0][0]                      \n",
      "__________________________________________________________________________________________________\n",
      "phi_1_aug (Concatenate)         (None, 731, 72)      0           phi_0[0][0]                      \n",
      "                                                                 phi_1[0][0]                      \n",
      "__________________________________________________________________________________________________\n",
      "omega (Dense)                   (None, 731, 1)       73          phi_1_aug[0][0]                  \n",
      "__________________________________________________________________________________________________\n",
      "omega_t (Multiply)              (None, 731, 1)       0           omega[0][0]                      \n",
      "                                                                 t_vec[0][0]                      \n",
      "__________________________________________________________________________________________________\n",
      "theta0_vec (RepeatVector)       (None, 731, 1)       0           theta0[0][0]                     \n",
      "__________________________________________________________________________________________________\n",
      "theta_adj (Dense)               (None, 731, 1)       73          phi_1_aug[0][0]                  \n",
      "__________________________________________________________________________________________________\n",
      "theta (Add)                     (None, 731, 1)       0           omega_t[0][0]                    \n",
      "                                                                 theta0_vec[0][0]                 \n",
      "                                                                 theta_adj[0][0]                  \n",
      "__________________________________________________________________________________________________\n",
      "r (Dense)                       (None, 731, 1)       73          phi_1_aug[0][0]                  \n",
      "__________________________________________________________________________________________________\n",
      "cos_theta (Activation)          (None, 731, 1)       0           theta[0][0]                      \n",
      "__________________________________________________________________________________________________\n",
      "sin_theta (Activation)          (None, 731, 1)       0           theta[0][0]                      \n",
      "__________________________________________________________________________________________________\n",
      "mu (InputLayer)                 [(None, 1)]          0                                            \n",
      "__________________________________________________________________________________________________\n",
      "qx (Multiply)                   (None, 731, 1)       0           r[0][0]                          \n",
      "                                                                 cos_theta[0][0]                  \n",
      "__________________________________________________________________________________________________\n",
      "qy (Multiply)                   (None, 731, 1)       0           r[0][0]                          \n",
      "                                                                 sin_theta[0][0]                  \n",
      "==================================================================================================\n",
      "Total params: 795\n",
      "Trainable params: 795\n",
      "Non-trainable params: 0\n",
      "__________________________________________________________________________________________________\n"
     ]
    }
   ],
   "source": [
    "position_model_nn.summary()"
   ]
  },
  {
   "cell_type": "code",
   "execution_count": 277,
   "metadata": {},
   "outputs": [
    {
     "name": "stdout",
     "output_type": "stream",
     "text": [
      "qx = (64, 731, 1)\n",
      "qy = (64, 731, 1)\n"
     ]
    }
   ],
   "source": [
    "qx, qy = position_model_nn([t, q0, v0, mu])\n",
    "print(f'qx = {qx.shape}')\n",
    "print(f'qy = {qy.shape}')"
   ]
  },
  {
   "cell_type": "code",
   "execution_count": 278,
   "metadata": {},
   "outputs": [],
   "source": [
    "motion_model_nn = Motion_R2B(position_model=position_model_nn, name='motion_model_nn')"
   ]
  },
  {
   "cell_type": "code",
   "execution_count": 279,
   "metadata": {},
   "outputs": [
    {
     "name": "stdout",
     "output_type": "stream",
     "text": [
      "shape of motion_model outputs:\n",
      "q: (64, 731, 2)\n",
      "v: (64, 731, 2)\n",
      "a: (64, 731, 2)\n"
     ]
    }
   ],
   "source": [
    "q, v, a = motion_model_nn([t, q0, v0, mu])\n",
    "print('shape of motion_model outputs:')\n",
    "print(f'q: {q.shape}')\n",
    "print(f'v: {v.shape}')\n",
    "print(f'a: {a.shape}')"
   ]
  },
  {
   "cell_type": "code",
   "execution_count": 280,
   "metadata": {},
   "outputs": [],
   "source": [
    "optimizer = keras.optimizers.Adam(learning_rate=1.0E-3)\n",
    "\n",
    "loss_weights = {'q': 1.0,\n",
    "                'v': 1.0,\n",
    "                'a': 1.0,\n",
    "                'q0_rec': 1.0,\n",
    "                'v0_rec': 1.0,\n",
    "                'H': 0.1,\n",
    "                'L': 0.1}"
   ]
  },
  {
   "cell_type": "code",
   "execution_count": 286,
   "metadata": {},
   "outputs": [],
   "source": [
    "# Make the NN r2bc model\n",
    "model_nn = make_model_r2bc_nn(hidden_sizes=[64, 16], skip_layers=True, traj_size=traj_size)\n",
    "model_nn.compile(optimizer=optimizer, loss=loss, metrics=metrics, loss_weights=loss_weights)"
   ]
  },
  {
   "cell_type": "code",
   "execution_count": 287,
   "metadata": {},
   "outputs": [
    {
     "name": "stdout",
     "output_type": "stream",
     "text": [
      "32/32 [==============================] - 4s 113ms/step - loss: 622.6295 - q_loss: 167.4748 - v_loss: 2.5419 - a_loss: 78.0774 - q0_rec_loss: 167.1246 - v0_rec_loss: 2.5419 - H_loss: 1383.3395 - L_loss: 665.3488\n"
     ]
    },
    {
     "data": {
      "text/plain": [
       "[622.6295461654663,\n",
       " 167.4748,\n",
       " 2.541923,\n",
       " 78.07742,\n",
       " 167.12463,\n",
       " 2.541923,\n",
       " 1383.3395,\n",
       " 665.34875]"
      ]
     },
     "execution_count": 287,
     "metadata": {},
     "output_type": "execute_result"
    }
   ],
   "source": [
    "# Evaluate the NN model on the solar system data set\n",
    "model_nn.evaluate(ds_solar_val)"
   ]
  },
  {
   "cell_type": "code",
   "execution_count": 288,
   "metadata": {},
   "outputs": [
    {
     "name": "stdout",
     "output_type": "stream",
     "text": [
      "Epoch 1/20\n",
      "157/157 [==============================] - 17s 108ms/step - loss: 141.0985 - q_loss: 32.8869 - v_loss: 1.6233 - a_loss: 61.5840 - q0_rec_loss: 31.7998 - v0_rec_loss: 1.1376 - H_loss: 30.6655 - L_loss: 89.9636\n",
      "Epoch 2/20\n",
      "157/157 [==============================] - 6s 37ms/step - loss: 70.7476 - q_loss: 3.5415 - v_loss: 1.1911 - a_loss: 61.0285 - q0_rec_loss: 3.4593 - v0_rec_loss: 0.6996 - H_loss: 2.0939 - L_loss: 6.1620\n",
      "Epoch 3/20\n",
      "157/157 [==============================] - 6s 37ms/step - loss: 70.5077 - q_loss: 1.7239 - v_loss: 1.2145 - a_loss: 60.9749 - q0_rec_loss: 1.4400 - v0_rec_loss: 0.6517 - H_loss: 7.1305 - L_loss: 37.8762\n",
      "Epoch 4/20\n",
      "157/157 [==============================] - 6s 38ms/step - loss: 66.1859 - q_loss: 1.0279 - v_loss: 1.0798 - a_loss: 60.4840 - q0_rec_loss: 0.8155 - v0_rec_loss: 0.5381 - H_loss: 2.3811 - L_loss: 20.0070\n",
      "Epoch 5/20\n",
      "157/157 [==============================] - 6s 37ms/step - loss: 62.0569 - q_loss: 0.5864 - v_loss: 0.9466 - a_loss: 58.7957 - q0_rec_loss: 0.4705 - v0_rec_loss: 0.3877 - H_loss: 2.5027 - L_loss: 6.1791\n",
      "Epoch 6/20\n",
      "157/157 [==============================] - 6s 37ms/step - loss: 60.1345 - q_loss: 0.4685 - v_loss: 0.8385 - a_loss: 55.1184 - q0_rec_loss: 0.3633 - v0_rec_loss: 0.5226 - H_loss: 6.4016 - L_loss: 21.8128\n",
      "Epoch 7/20\n",
      "157/157 [==============================] - 6s 38ms/step - loss: 96.8268 - q_loss: 1.4314 - v_loss: 1.1189 - a_loss: 57.3059 - q0_rec_loss: 1.2616 - v0_rec_loss: 1.2012 - H_loss: 320.3957 - L_loss: 24.6542: 1s - loss: 109.4341 - q_loss: 1.2253 - v_loss: 1.1363 - a_loss: 59.6803 - q0_rec_loss: 1.1196 - v0_rec_loss: 1.3087 - H_loss: - ETA: 0s - loss: 97.7161 - q_loss: 1.3914 - v_loss: 1.1152 - a_loss: 55.9368 - q0_rec_loss: 1.2349 - v0_rec_loss: 1.2052 - H_loss: 342.8554 - L_loss: 2\n",
      "Epoch 8/20\n",
      "157/157 [==============================] - 6s 38ms/step - loss: 65.4188 - q_loss: 1.6662 - v_loss: 1.0601 - a_loss: 58.8763 - q0_rec_loss: 1.2504 - v0_rec_loss: 0.5593 - H_loss: 11.0169 - L_loss: 9.0288: 2s - loss: 73.4085 - q_loss: 1.7793 - v_loss: 1.1700 - a_loss: 66.3607 - q0_rec_loss: 1.3512 - v0_rec_loss: 0.6686\n",
      "Epoch 9/20\n",
      "157/157 [==============================] - 6s 37ms/step - loss: 63.5783 - q_loss: 1.2786 - v_loss: 0.9910 - a_loss: 58.1292 - q0_rec_loss: 0.8760 - v0_rec_loss: 0.3329 - H_loss: 9.3115 - L_loss: 10.3771: 1s - loss: 68.2485 - q_loss: 1.3284 - v_loss: 1.0485 - a_loss: 62.9960 - q0_rec_loss: 0.9171\n",
      "Epoch 10/20\n",
      "157/157 [==============================] - 6s 38ms/step - loss: 62.1906 - q_loss: 1.0642 - v_loss: 0.9481 - a_loss: 57.4896 - q0_rec_loss: 0.7189 - v0_rec_loss: 0.2759 - H_loss: 9.1248 - L_loss: 7.7947\n",
      "Epoch 11/20\n",
      "157/157 [==============================] - 6s 38ms/step - loss: 62.9830 - q_loss: 1.0003 - v_loss: 0.9413 - a_loss: 57.1389 - q0_rec_loss: 0.6611 - v0_rec_loss: 0.2764 - H_loss: 9.2543 - L_loss: 20.3764: 3s - loss: 65.9218 - q_loss: 0.9720 - v_loss: 1.0213 - a_loss: 61.3242 - q0_rec_loss: 0.6543 \n",
      "Epoch 12/20\n",
      "157/157 [==============================] - 6s 38ms/step - loss: 60.9880 - q_loss: 0.8473 - v_loss: 0.9182 - a_loss: 56.8970 - q0_rec_loss: 0.5617 - v0_rec_loss: 0.2673 - H_loss: 9.1960 - L_loss: 5.7514\n",
      "Epoch 13/20\n",
      "157/157 [==============================] - 6s 38ms/step - loss: 62.5125 - q_loss: 0.8491 - v_loss: 0.9242 - a_loss: 56.6716 - q0_rec_loss: 0.5451 - v0_rec_loss: 0.2857 - H_loss: 9.1947 - L_loss: 23.1547\n",
      "Epoch 14/20\n",
      "157/157 [==============================] - 6s 38ms/step - loss: 60.5050 - q_loss: 0.7453 - v_loss: 0.9042 - a_loss: 56.4537 - q0_rec_loss: 0.4871 - v0_rec_loss: 0.2810 - H_loss: 9.1833 - L_loss: 7.1357\n",
      "Epoch 15/20\n",
      "157/157 [==============================] - 6s 38ms/step - loss: 59.9075 - q_loss: 0.6570 - v_loss: 0.8951 - a_loss: 56.2479 - q0_rec_loss: 0.4242 - v0_rec_loss: 0.2887 - H_loss: 9.1978 - L_loss: 4.7308\n",
      "Epoch 16/20\n",
      "157/157 [==============================] - 6s 38ms/step - loss: 59.6818 - q_loss: 0.6126 - v_loss: 0.8873 - a_loss: 56.0469 - q0_rec_loss: 0.3933 - v0_rec_loss: 0.3028 - H_loss: 9.1756 - L_loss: 5.1962\n",
      "Epoch 17/20\n",
      "157/157 [==============================] - 6s 38ms/step - loss: 59.6607 - q_loss: 0.5863 - v_loss: 0.8829 - a_loss: 55.8594 - q0_rec_loss: 0.3744 - v0_rec_loss: 0.3194 - H_loss: 9.1343 - L_loss: 7.2313\n",
      "Epoch 18/20\n",
      "157/157 [==============================] - 6s 38ms/step - loss: 66.9372 - q_loss: 1.4110 - v_loss: 0.9358 - a_loss: 55.6704 - q0_rec_loss: 1.0222 - v0_rec_loss: 0.3880 - H_loss: 9.5624 - L_loss: 65.5155\n",
      "Epoch 19/20\n",
      "157/157 [==============================] - 6s 38ms/step - loss: 59.5016 - q_loss: 0.6667 - v_loss: 0.8763 - a_loss: 55.5411 - q0_rec_loss: 0.4642 - v0_rec_loss: 0.3468 - H_loss: 9.2322 - L_loss: 6.8142 0s - loss: 59.1269 - q_loss: 0.6852 - v_loss: 0.8845 - a_loss: 55.0828 - q0_rec_loss: 0.4783 - v0_rec_loss: 0.3565 - H_loss: 9.2\n",
      "Epoch 20/20\n",
      "157/157 [==============================] - 6s 38ms/step - loss: 58.7827 - q_loss: 0.5138 - v_loss: 0.8695 - a_loss: 55.4038 - q0_rec_loss: 0.3341 - v0_rec_loss: 0.3486 - H_loss: 9.0972 - L_loss: 4.0150 6s - l\n"
     ]
    }
   ],
   "source": [
    "hist = model_nn.fit(ds_solar_trn, epochs=20)"
   ]
  },
  {
   "cell_type": "code",
   "execution_count": 211,
   "metadata": {},
   "outputs": [],
   "source": [
    "def compile_and_fit(model, ds, epochs, loss, optimizer, metrics, save_freq):\n",
    "    # Compile the model\n",
    "    model.compile(loss=loss, optimizer=optimizer, metrics=metrics)\n",
    "    model_name = model.name\n",
    "    filepath=f'../models/r2bc/{model_name}.h5'\n",
    "\n",
    "    # Create callbacks\n",
    "    interval = max(epochs // 20, 1)\n",
    "    patience = max(epochs // 10, 1)\n",
    "    cb_log = EpochLoss(interval=interval)\n",
    "    cb_time = TimeHistory()\n",
    "\n",
    "#     cb_ckp = keras.callbacks.ModelCheckpoint(\n",
    "#             filepath=filepath, \n",
    "#             save_freq=save_freq,\n",
    "#             save_best_only=True,\n",
    "#             save_weights_only=True,\n",
    "#             monitor='loss',\n",
    "#             verbose=0)    \n",
    "\n",
    "    cb_early_stop = keras.callbacks.EarlyStopping(\n",
    "            monitor='loss',\n",
    "            min_delta=1.0E-8,\n",
    "            patience=patience,\n",
    "            verbose=1,\n",
    "            restore_best_weights=True)    \n",
    "    # callbacks = [cb_log, cb_time, cb_ckp, cb_early_stop]\n",
    "    callbacks = [cb_log, cb_time, cb_early_stop]\n",
    "    \n",
    "    # Fit the model\n",
    "    hist = model.fit(ds, epochs=epochs, callbacks=callbacks, verbose=0)\n",
    "    # Add the times to the history\n",
    "    hist.history['time'] = cb_time.times\n",
    "    \n",
    "    # Restore the model to the best weights\n",
    "    # model.load_weights(filepath)\n",
    "\n",
    "    return hist"
   ]
  },
  {
   "cell_type": "code",
   "execution_count": 213,
   "metadata": {},
   "outputs": [],
   "source": [
    "epochs = 1\n",
    "epoch_size = 10000\n",
    "samples_total = epochs * epoch_size\n",
    "\n",
    "# Set save_freq in terms of SAMPLES\n",
    "save_freq = samples_total // 10"
   ]
  },
  {
   "cell_type": "code",
   "execution_count": 219,
   "metadata": {},
   "outputs": [
    {
     "name": "stdout",
     "output_type": "stream",
     "text": [
      "Epoch 0001; loss 9.85e+08; elapsed 0:00:16\n"
     ]
    }
   ],
   "source": [
    "# hist = compile_and_fit(model=model_nn, \n",
    "#                        ds=ds_solar_trn, \n",
    "#                        epochs=epochs,\n",
    "#                        loss=loss, \n",
    "#                        optimizer=optimizer,\n",
    "#                        metrics=metrics,\n",
    "#                        save_freq=save_freq)"
   ]
  },
  {
   "cell_type": "code",
   "execution_count": 156,
   "metadata": {},
   "outputs": [
    {
     "data": {
      "text/plain": [
       "ListWrapper([<tf.Variable 'r_23/kernel:0' shape=(8, 1) dtype=float32, numpy=\n",
       "array([[-0.09185164],\n",
       "       [-0.00174467],\n",
       "       [ 0.0019609 ],\n",
       "       [-0.00209787],\n",
       "       [ 0.00126752],\n",
       "       [ 0.9771945 ],\n",
       "       [-0.0047297 ],\n",
       "       [-0.01798369]], dtype=float32)>, <tf.Variable 'r_23/bias:0' shape=(1,) dtype=float32, numpy=array([0.3576834], dtype=float32)>])"
      ]
     },
     "execution_count": 156,
     "metadata": {},
     "output_type": "execute_result"
    }
   ],
   "source": [
    "model_nn.weights"
   ]
  },
  {
   "cell_type": "code",
   "execution_count": null,
   "metadata": {},
   "outputs": [],
   "source": []
  }
 ],
 "metadata": {
  "kernelspec": {
   "display_name": "Python 3",
   "language": "python",
   "name": "python3"
  },
  "language_info": {
   "codemirror_mode": {
    "name": "ipython",
    "version": 3
   },
   "file_extension": ".py",
   "mimetype": "text/x-python",
   "name": "python",
   "nbconvert_exporter": "python",
   "pygments_lexer": "ipython3",
   "version": "3.7.3"
  }
 },
 "nbformat": 4,
 "nbformat_minor": 2
}
