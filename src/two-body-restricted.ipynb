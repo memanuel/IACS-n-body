{
 "cells": [
  {
   "cell_type": "markdown",
   "metadata": {},
   "source": [
    "# Restricted Two Body Problem: Elliptical Orbits Around a Central Mass\n",
    "\n",
    "This is the general case of a Keperian orbit.<br>\n",
    "A light body (e.g. a planet) orbits a heavy central body (e.g. the sun).  The orbit is an ellipse with the primary at one focus."
   ]
  },
  {
   "cell_type": "code",
   "execution_count": 1,
   "metadata": {},
   "outputs": [],
   "source": [
    "# Library imports\n",
    "import tensorflow as tf\n",
    "import rebound\n",
    "import numpy as np\n",
    "\n",
    "# Aliases\n",
    "keras = tf.keras"
   ]
  },
  {
   "cell_type": "code",
   "execution_count": 2,
   "metadata": {},
   "outputs": [],
   "source": [
    "# Local imports\n",
    "from utils import load_vartbl, save_vartbl, plot_style\n",
    "from tf_utils import gpu_grow_memory, TimeHistory\n",
    "from tf_utils import plot_loss_hist, EpochLoss, TimeHistory\n",
    "from tf_utils import Identity\n",
    "\n",
    "# from orbital_element import make_data_orb_elt\n",
    "from r2b_data import make_traj_r2b, make_train_r2b"
   ]
  },
  {
   "cell_type": "code",
   "execution_count": 3,
   "metadata": {},
   "outputs": [],
   "source": [
    "# Generate one example trajectory\n",
    "a = 1.0\n",
    "e = 0.0\n",
    "inc = 0.0\n",
    "Omega = 0.0\n",
    "omega = 0.0\n",
    "f = 0.0\n",
    "n_years = 2\n",
    "\n",
    "inputs_traj, outputs_traj = make_traj_r2b(a=a, e=e, inc=inc, Omega=Omega, omega=omega, f=f, n_years=n_years)"
   ]
  },
  {
   "cell_type": "code",
   "execution_count": 4,
   "metadata": {},
   "outputs": [
    {
     "data": {
      "text/plain": [
       "dict_keys(['t', 'q0', 'v0', 'mu'])"
      ]
     },
     "execution_count": 4,
     "metadata": {},
     "output_type": "execute_result"
    }
   ],
   "source": [
    "inputs_traj.keys()"
   ]
  },
  {
   "cell_type": "code",
   "execution_count": null,
   "metadata": {},
   "outputs": [],
   "source": []
  },
  {
   "cell_type": "code",
   "execution_count": null,
   "metadata": {},
   "outputs": [],
   "source": [
    "def make_train_r2b(n_traj: int, n_years: int, a_min: float = 0.50, a_max: float = 32.0, \n",
    "                   e_max = 0.20, inc_max = 0.0, seed = 42):\n",
    "    \"\"\"\n",
    "    Make a set of training data for the restricted two body problem\n",
    "    INPUTS:\n",
    "    n_traj: the number of trajectories to sample\n",
    "    n_years: the number of years for each trajectory, e.g. 2\n",
    "    a_min: minimal semi-major axis in AU, e.g. 0.50\n",
    "    a_max: maximal semi-major axis in AU, e.g. 32.0\n",
    "    e_max: maximum eccentricity, e.g. 0.20\n",
    "    \"\"\"\n",
    "    # The sample frequency is 365 per year (dt approximately = 1 day)\n",
    "    sample_freq = 365\n",
    "    # Number of samples including both start and end in each trajectory\n",
    "    traj_size = sample_freq*n_years + 1\n",
    "    # Number of spatial dimensions\n",
    "    space_dims = 3\n",
    "\n",
    "    # Shape of arrays for various inputs and outputs\n",
    "    scalar_shape = (n_traj, 1)\n",
    "    init_shape = (n_traj, space_dims)\n",
    "    time_shape = (n_traj, traj_size)\n",
    "    traj_shape = (n_traj, traj_size, space_dims)\n",
    "    \n",
    "    # Set random seed for reproducible results\n",
    "    np.random.seed(seed=seed)\n",
    "\n",
    "    # Initialize orbital element by sampling according to the inputs\n",
    "    orb_a = np.random.uniform(low=a_min, high=a_max, size=n_traj).astype(np.float32)\n",
    "    orb_e = np.random.uniform(low=0.0, high=e_max, size=n_traj).astype(np.float32)\n",
    "    orb_inc = np.random.uniform(low=0.0, high=inc_max, size=n_traj).astype(np.float32)\n",
    "    orb_Omega = np.random.uniform(low=-np.pi, high=np.pi, size=n_traj).astype(np.float32)\n",
    "    orb_omega = np.random.uniform(low=-np.pi, high=np.pi, size=n_traj).astype(np.float32)\n",
    "    orb_f = np.random.uniform(low=-np.pi, high=np.pi, size=n_traj).astype(np.float32)\n",
    "\n",
    "    # Initialize arrays for the data\n",
    "    t = np.zeros(time_shape, dtype=np.float32)\n",
    "    q0 = np.zeros(init_shape, dtype=np.float32)\n",
    "    v0 = np.zeros(init_shape, dtype=np.float32)\n",
    "    mu = np.zeros(scalar_shape, dtype=np.float32)\n",
    "    q = np.zeros(traj_shape, dtype=np.float32)\n",
    "    v = np.zeros(traj_shape, dtype=np.float32)\n",
    "    a = np.zeros(traj_shape, dtype=np.float32)\n",
    "    T = np.zeros(time_shape, dtype=np.float32)\n",
    "    U = np.zeros(time_shape, dtype=np.float32)\n",
    "    H = np.zeros(time_shape, dtype=np.float32)\n",
    "    L = np.zeros(traj_shape, dtype=np.float32)\n",
    "    \n",
    "    # Sample the trajectories\n",
    "    for i in range(n_traj):\n",
    "        # Generate one trajectory\n",
    "        inputs, outputs = make_traj_r2b(a=orb_a[i], e=orb_e[i], inc=orb_inc[i], \n",
    "                                        Omega=orb_Omega[i], omega=orb_omega[i], \n",
    "                                        f=orb_f[i], n_years=n_years)\n",
    "        \n",
    "        # Copy results into main arrays\n",
    "        t[i, :] = inputs['t']\n",
    "        q0[i, :] = inputs['q0']\n",
    "        v0[i, :] = inputs['v0']\n",
    "        mu[i, :] = inputs['mu']\n",
    "        q[i, :, :] = outputs['q']\n",
    "        v[i, :, :] = outputs['v']\n",
    "        a[i, :, :] = outputs['a']\n",
    "        T[i, :] = outputs['T']\n",
    "        U[i, :] = outputs['U']\n",
    "        H[i, :] = outputs['H']\n",
    "        L[i, :] = outputs['L']\n",
    "\n",
    "    # Assemble the input dict\n",
    "    inputs = {\n",
    "        't': t,\n",
    "        'q0': q0,\n",
    "        'v0': v0,\n",
    "        'mu': mu}\n",
    "\n",
    "    # Assemble the output dict\n",
    "    outputs = {\n",
    "        'q': q,\n",
    "        'v': v,\n",
    "        'a': a,\n",
    "        'q0_rec': q0,\n",
    "        'v0_rec': v0,\n",
    "        'T': T,\n",
    "        'U': U,\n",
    "        'H': H,\n",
    "        'L': L}\n",
    "\n",
    "    # Return the dicts\n",
    "    return (inputs, outputs)"
   ]
  },
  {
   "cell_type": "code",
   "execution_count": null,
   "metadata": {},
   "outputs": [],
   "source": [
    "# Test make_train_r2b(n_traj: int, n_years: int, a_min: float = 0.25, a_max: float = 32.0, e_max = 0.20, seed = 42):\n",
    "n_traj = 100\n",
    "n_years = 2\n",
    "a_min = 0.50\n",
    "a_max = 32.0\n",
    "e_max = 0.20\n",
    "inc_max = np.pi/4.0\n",
    "seed = 42\n",
    "\n",
    "inputs, outputs= make_train_r2b(n_traj=n_traj, n_years=n_years, a_min=a_min, a_max=a_max, \n",
    "                                e_max=e_max, inc_max=inc_max, seed=seed)"
   ]
  },
  {
   "cell_type": "code",
   "execution_count": null,
   "metadata": {},
   "outputs": [],
   "source": []
  }
 ],
 "metadata": {
  "kernelspec": {
   "display_name": "Python [conda env:nbody]",
   "language": "python",
   "name": "conda-env-nbody-py"
  },
  "language_info": {
   "codemirror_mode": {
    "name": "ipython",
    "version": 3
   },
   "file_extension": ".py",
   "mimetype": "text/x-python",
   "name": "python",
   "nbconvert_exporter": "python",
   "pygments_lexer": "ipython3",
   "version": "3.7.3"
  }
 },
 "nbformat": 4,
 "nbformat_minor": 2
}
