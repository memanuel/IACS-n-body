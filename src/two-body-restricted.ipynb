{
 "cells": [
  {
   "cell_type": "markdown",
   "metadata": {},
   "source": [
    "# Base Case: Circular Orbit of Radius 1 AU, Period 1 Year\n",
    "\n",
    "Create synthetic data for the simplest base case: a circular orbit of radius 1.\n",
    "\n",
    "Can think of this as approximating the earth: radius = 1 AU, period = 1 year, mass of sun $m_0$ = 1 solar mass\n",
    "\n",
    "\\begin{align}\n",
    "x(t) &= \\cos(\\omega t) \\\\\n",
    "y(t) &= \\sin(\\omega t) \\\\\n",
    "\\omega &= 2 \\pi\n",
    "\\end{align}\n",
    "\n",
    "Taking two derivatives\n",
    "\\begin{align}\n",
    "\\ddot{x}(t) = -\\omega^2 x(t)\\\\\n",
    "\\ddot{y}(t) = -\\omega^2 y(t)\n",
    "\\end{align}\n",
    "\n",
    "Equating the acceleration $\\omega^2 r$ to $G \\cdot m_0 / r^2$ for $r=1$ in the case of earth, we can see that in these units the gravitational constant $G$ is\n",
    "$$G = 4 \\pi^2$$\n",
    "\n",
    "Further we can see that for a planet in a circular orbit with radius $r$, the angular frequency will satisfy\n",
    "$$ \\omega^2 = G m_0 / r^3$$\n",
    "This is a special case of Kepler's third law."
   ]
  },
  {
   "cell_type": "code",
   "execution_count": 1,
   "metadata": {},
   "outputs": [],
   "source": [
    "# Library imports\n",
    "import tensorflow as tf\n",
    "import numpy as np\n",
    "import matplotlib.pyplot as plt\n",
    "import time\n",
    "\n",
    "# Aliases\n",
    "keras = tf.keras"
   ]
  },
  {
   "cell_type": "code",
   "execution_count": 2,
   "metadata": {},
   "outputs": [],
   "source": [
    "# Local imports\n",
    "from utils import gpu_grow_memory, TimeHistory\n",
    "from utils import load_vartbl, save_vartbl, plot_style\n",
    "\n",
    "from r2b_data import make_traj_r2bc , make_train_r2bc\n",
    "from r2b_data import plot_orbit_q, plot_orbit_v, plot_orbit_a, plot_orbit_energy\n",
    "from r2b_data import make_datasets_earth, make_datasets_solar\n",
    "from r2bc_model import make_model_r2bc, make_model_r2bc_analytic"
   ]
  },
  {
   "cell_type": "code",
   "execution_count": 3,
   "metadata": {},
   "outputs": [],
   "source": [
    "# Grow GPU memory (must be first operation in TF)\n",
    "gpu_grow_memory()"
   ]
  },
  {
   "cell_type": "code",
   "execution_count": 4,
   "metadata": {},
   "outputs": [],
   "source": [
    "# Create distribution strategy\n",
    "# This isn't working properly for training in Michael-PC (Windows 10)\n",
    "# but does work for evaluating (with no real benefit though)\n",
    "# strat = tf.distribute.MirroredStrategy(['/GPU:0', '/GPU:1'])\n",
    "\n",
    "# Plot style \n",
    "plot_style()"
   ]
  },
  {
   "cell_type": "code",
   "execution_count": 5,
   "metadata": {},
   "outputs": [],
   "source": [
    "# Lightweight serialization\n",
    "fname = '../pickle/r2bc.pickle'\n",
    "vartbl = load_vartbl(fname)"
   ]
  },
  {
   "cell_type": "code",
   "execution_count": 6,
   "metadata": {},
   "outputs": [],
   "source": [
    "# One trajectory of earth for plotting\n",
    "inputs_earth, outputs_earth = make_traj_r2bc(r=1, theta0=0, n_years=2)\n",
    "\n",
    "# Combined dict\n",
    "data_earth = {**inputs_earth, **outputs_earth}"
   ]
  },
  {
   "cell_type": "code",
   "execution_count": 7,
   "metadata": {},
   "outputs": [],
   "source": [
    "# fig, ax = plot_orbit_q(data_earth)"
   ]
  },
  {
   "cell_type": "code",
   "execution_count": 8,
   "metadata": {},
   "outputs": [],
   "source": [
    "# fig, ax = plot_orbit_v(data_earth)"
   ]
  },
  {
   "cell_type": "code",
   "execution_count": 9,
   "metadata": {},
   "outputs": [],
   "source": [
    "# fig, ax = plot_orbit_a(data_earth)"
   ]
  },
  {
   "cell_type": "code",
   "execution_count": 10,
   "metadata": {},
   "outputs": [],
   "source": [
    "# fig, ax = plot_orbit_energy(data_earth)"
   ]
  },
  {
   "cell_type": "code",
   "execution_count": 11,
   "metadata": {},
   "outputs": [],
   "source": [
    "# Create DataSet objects for toy size problem - earth orbits only (a=1, e=0)\n",
    "ds_earth_trn, ds_earth_val, ds_earth_tst = make_datasets_earth(1000, 0.20)\n",
    "\n",
    "# Create DataSet objects for solar system type orbits (a between 0.25 and 32.0)\n",
    "ds_solar_trn, ds_solar_val, ds_solar_tst = make_datasets_solar(10000, 0.20)"
   ]
  },
  {
   "cell_type": "code",
   "execution_count": 12,
   "metadata": {},
   "outputs": [],
   "source": [
    "optimizer = keras.optimizers.Adam()\n",
    "\n",
    "loss = {'q': keras.losses.MeanSquaredError(name='q_mse'),\n",
    "        'v': keras.losses.MeanSquaredError(name='q_mse'),\n",
    "        'a': keras.losses.MeanSquaredError(name='a_mse'),\n",
    "        'q0_rec': keras.losses.MeanSquaredError(name='q0_mse'),\n",
    "        'v0_rec': keras.losses.MeanSquaredError(name='v0_mse')}\n",
    "\n",
    "# these metrics produce crazy output names when multiple instances share them; hold off for now\n",
    "# metrics = {'q': keras.metrics.MeanAbsoluteError(name='q_mae'),\n",
    "#            'v': keras.metrics.MeanAbsoluteError(name='v_mae')}\n",
    "metrics = None\n",
    "\n",
    "loss_weights = {'q': 1.0,\n",
    "                'v': 1.0,\n",
    "                'a': 1.0,\n",
    "                'q0_rec': 1.0,\n",
    "                'v0_rec': 1.0}"
   ]
  },
  {
   "cell_type": "code",
   "execution_count": 13,
   "metadata": {},
   "outputs": [],
   "source": [
    "# Compile the mathematical model on a single GPU\n",
    "model_math = make_model_r2bc_analytic()\n",
    "model_math.compile(optimizer=optimizer, loss=loss, metrics=metrics, loss_weights=loss_weights)"
   ]
  },
  {
   "cell_type": "code",
   "execution_count": 14,
   "metadata": {},
   "outputs": [],
   "source": [
    "# Compile the mathematical model for parallel GPUs\n",
    "# with strat.scope():\n",
    "#     model_math_par = make_model_r2bc_analytic()\n",
    "#     model_math_par.compile(optimizer=optimizer, loss=loss, metrics=metrics, loss_weights=loss_weights)"
   ]
  },
  {
   "cell_type": "code",
   "execution_count": 15,
   "metadata": {},
   "outputs": [
    {
     "name": "stdout",
     "output_type": "stream",
     "text": [
      "Mean time:  31.917\n",
      "Stdev time: 0.407\n"
     ]
    }
   ],
   "source": [
    "# Timing baseline for analytic model, single GPU\n",
    "# model_math.evaluate(ds_trn.take(5000))\n",
    "trials = np.array([32.438, 32.220, 31.399, 31.492, 32.038])\n",
    "time_mean = np.mean(trials)\n",
    "time_std = np.std(trials)\n",
    "print(f'Mean time:  {time_mean:5.3f}')\n",
    "print(f'Stdev time: {time_std:5.3f}')"
   ]
  },
  {
   "cell_type": "code",
   "execution_count": 16,
   "metadata": {},
   "outputs": [],
   "source": [
    "def time_model_eval(model, ds, batches=None, time_mean=None):\n",
    "    \"\"\"Time a model to evaluate a dataset\"\"\"\n",
    "    t0 = time.time()\n",
    "    if batches is None:\n",
    "        model.evaluate(ds)\n",
    "    else:\n",
    "        model.evaluate(ds.take(batches))\n",
    "    t1 = time.time()\n",
    "    elapsed = t1 - t0\n",
    "    print(f'Elapsed Time: {elapsed:5.3f} sec')\n",
    "    if time_mean is not None:\n",
    "        delta = (elapsed - time_mean)\n",
    "        print(f'Time Delta:   {delta:+5.3f} sec')"
   ]
  },
  {
   "cell_type": "code",
   "execution_count": 17,
   "metadata": {},
   "outputs": [],
   "source": [
    "# Time the single GPU math model\n",
    "# time_model_eval(model_math, ds_earth_trn)"
   ]
  },
  {
   "cell_type": "code",
   "execution_count": 18,
   "metadata": {},
   "outputs": [],
   "source": [
    "# Time the double GPU math model\n",
    "# time_model_eval(model_math_par, ds_earth_trn)"
   ]
  },
  {
   "cell_type": "code",
   "execution_count": 19,
   "metadata": {},
   "outputs": [],
   "source": [
    "# keras.utils.plot_model(model_math, show_shapes=False)"
   ]
  },
  {
   "cell_type": "code",
   "execution_count": 20,
   "metadata": {},
   "outputs": [],
   "source": [
    "# model_math.summary()"
   ]
  },
  {
   "cell_type": "code",
   "execution_count": 21,
   "metadata": {},
   "outputs": [],
   "source": [
    "# Compile the main r2bc model on a single GPU\n",
    "model = make_model_r2bc()\n",
    "model.compile(optimizer=keras.optimizers.Adam(), loss=loss, metrics=metrics, loss_weights=loss_weights)"
   ]
  },
  {
   "cell_type": "code",
   "execution_count": 22,
   "metadata": {},
   "outputs": [],
   "source": [
    "# Compile the main model for parallel GPUs\n",
    "# with strat.scope():\n",
    "#    model_par = make_model_r2bc()\n",
    "#    model_par.compile(optimizer=optimizer, loss=loss, metrics=metrics, loss_weights=loss_weights)"
   ]
  },
  {
   "cell_type": "code",
   "execution_count": 23,
   "metadata": {},
   "outputs": [],
   "source": [
    "# Time the single GPU main model\n",
    "# time_model_eval(model, ds_earth_trn, batches=1024)"
   ]
  },
  {
   "cell_type": "code",
   "execution_count": 24,
   "metadata": {},
   "outputs": [],
   "source": [
    "# Time the double GPU main model\n",
    "# time_model_eval(model_par, ds_earth_trn, batches=1024)"
   ]
  },
  {
   "cell_type": "code",
   "execution_count": 25,
   "metadata": {},
   "outputs": [
    {
     "data": {
      "text/plain": [
       "dict_keys(['t', 'q0', 'v0'])"
      ]
     },
     "execution_count": 25,
     "metadata": {},
     "output_type": "execute_result"
    }
   ],
   "source": [
    "xxx = list(ds_earth_trn.take(16))\n",
    "b1_in, b1_out = xxx[0]\n",
    "b1_in.keys()"
   ]
  },
  {
   "cell_type": "code",
   "execution_count": 26,
   "metadata": {},
   "outputs": [],
   "source": [
    "filepath = '../models/r2bc_earth_{epoch}.h5'\n",
    "callback_ckp = keras.callbacks.ModelCheckpoint(\n",
    "    filepath=filepath,\n",
    "    save_best_only=True,\n",
    "    monitor='val_loss',\n",
    "    verbose=1)\n",
    "\n",
    "log_dir = '../logs/r2bc_earth'\n",
    "callback_tb = keras.callbacks.TensorBoard(\n",
    "    log_dir=log_dir,\n",
    "    histogram_freq=0,\n",
    "    embeddings_freq=0,\n",
    "    update_freq='epoch')\n",
    "\n",
    "# Unable to get TensorBoard to work on Windows 10; fails to create new directory\n",
    "# callbacks = [callback_ckp, callback_tb]\n",
    "callbacks = [callback_ckp, TimeHistory()]"
   ]
  },
  {
   "cell_type": "code",
   "execution_count": null,
   "metadata": {},
   "outputs": [
    {
     "name": "stdout",
     "output_type": "stream",
     "text": [
      "Epoch 1/100\n",
      "2854/2855 [============================>.] - ETA: 0s - loss: 790.1768 - q_loss: 1.2576 - v_loss: 20.9485 - a_loss: 755.1888 - q0_rec_loss: 0.6928 - v0_rec_loss: 12.0899\n",
      "Epoch 00001: val_loss improved from 792.03539 to 787.20814, saving model to ../models/r2bc_earth_1.h5\n",
      "2855/2855 [==============================] - 30s 10ms/step - loss: 790.1763 - q_loss: 1.2577 - v_loss: 20.9484 - a_loss: 755.1883 - q0_rec_loss: 0.6928 - v0_rec_loss: 12.0901 - val_loss: 787.2081 - val_q_loss: 1.2667 - val_v_loss: 20.5606 - val_a_loss: 751.8821 - val_q0_rec_loss: 0.6824 - val_v0_rec_loss: 12.8164\n",
      "Epoch 2/100\n",
      "2851/2855 [============================>.] - ETA: 0s - loss: 786.1392 - q_loss: 1.3258 - v_loss: 20.8968 - a_loss: 751.9371 - q0_rec_loss: 0.6060 - v0_rec_loss: 11.3736\n",
      "Epoch 00002: val_loss improved from 787.20814 to 784.97535, saving model to ../models/r2bc_earth_2.h5\n",
      "2855/2855 [==============================] - 30s 10ms/step - loss: 786.1404 - q_loss: 1.3258 - v_loss: 20.8966 - a_loss: 751.9376 - q0_rec_loss: 0.6060 - v0_rec_loss: 11.3748 - val_loss: 784.9754 - val_q_loss: 1.2618 - val_v_loss: 20.5757 - val_a_loss: 750.2434 - val_q0_rec_loss: 0.6287 - val_v0_rec_loss: 12.2662\n",
      "Epoch 3/100\n",
      "2850/2855 [============================>.] - ETA: 0s - loss: 784.4962 - q_loss: 1.3632 - v_loss: 20.9580 - a_loss: 750.5961 - q0_rec_loss: 0.6069 - v0_rec_loss: 10.9724\n",
      "Epoch 00003: val_loss improved from 784.97535 to 783.89933, saving model to ../models/r2bc_earth_3.h5\n",
      "2855/2855 [==============================] - 29s 10ms/step - loss: 784.4973 - q_loss: 1.3631 - v_loss: 20.9574 - a_loss: 750.5956 - q0_rec_loss: 0.6070 - v0_rec_loss: 10.9746 - val_loss: 783.8993 - val_q_loss: 1.3020 - val_v_loss: 20.6607 - val_a_loss: 749.1918 - val_q0_rec_loss: 0.6519 - val_v0_rec_loss: 12.0928\n",
      "Epoch 4/100\n",
      "2854/2855 [============================>.] - ETA: 0s - loss: 783.8445 - q_loss: 1.3828 - v_loss: 20.9942 - a_loss: 750.0580 - q0_rec_loss: 0.6107 - v0_rec_loss: 10.7988\n",
      "Epoch 00004: val_loss improved from 783.89933 to 783.61360, saving model to ../models/r2bc_earth_4.h5\n",
      "2855/2855 [==============================] - 29s 10ms/step - loss: 783.8451 - q_loss: 1.3827 - v_loss: 20.9941 - a_loss: 750.0583 - q0_rec_loss: 0.6107 - v0_rec_loss: 10.7993 - val_loss: 783.6136 - val_q_loss: 1.3071 - val_v_loss: 20.6765 - val_a_loss: 748.9686 - val_q0_rec_loss: 0.6505 - val_v0_rec_loss: 12.0103\n",
      "Epoch 5/100\n",
      "2852/2855 [============================>.] - ETA: 0s - loss: 783.5760 - q_loss: 1.3887 - v_loss: 21.0051 - a_loss: 749.8468 - q0_rec_loss: 0.6102 - v0_rec_loss: 10.7256\n",
      "Epoch 00005: val_loss improved from 783.61360 to 783.42399, saving model to ../models/r2bc_earth_5.h5\n",
      "2855/2855 [==============================] - 30s 10ms/step - loss: 783.5786 - q_loss: 1.3886 - v_loss: 21.0048 - a_loss: 749.8483 - q0_rec_loss: 0.6103 - v0_rec_loss: 10.7270 - val_loss: 783.4240 - val_q_loss: 1.3095 - val_v_loss: 20.6786 - val_a_loss: 748.8305 - val_q0_rec_loss: 0.6488 - val_v0_rec_loss: 11.9562\n",
      "Epoch 6/100\n",
      "2850/2855 [============================>.] - ETA: 0s - loss: 783.4203 - q_loss: 1.3920 - v_loss: 21.0116 - a_loss: 749.7228 - q0_rec_loss: 0.6100 - v0_rec_loss: 10.6841\n",
      "Epoch 00006: val_loss improved from 783.42399 to 783.27554, saving model to ../models/r2bc_earth_6.h5\n",
      "2855/2855 [==============================] - 30s 10ms/step - loss: 783.4232 - q_loss: 1.3919 - v_loss: 21.0111 - a_loss: 749.7242 - q0_rec_loss: 0.6100 - v0_rec_loss: 10.6863 - val_loss: 783.2755 - val_q_loss: 1.3114 - val_v_loss: 20.6791 - val_a_loss: 748.7383 - val_q0_rec_loss: 0.6463 - val_v0_rec_loss: 11.9005\n",
      "Epoch 7/100\n",
      "2853/2855 [============================>.] - ETA: 0s - loss: 783.3209 - q_loss: 1.3942 - v_loss: 21.0157 - a_loss: 749.6417 - q0_rec_loss: 0.6099 - v0_rec_loss: 10.6591\n",
      "Epoch 00007: val_loss improved from 783.27554 to 783.14870, saving model to ../models/r2bc_earth_7.h5\n",
      "2855/2855 [==============================] - 29s 10ms/step - loss: 783.3216 - q_loss: 1.3941 - v_loss: 21.0155 - a_loss: 749.6418 - q0_rec_loss: 0.6099 - v0_rec_loss: 10.6600 - val_loss: 783.1487 - val_q_loss: 1.3136 - val_v_loss: 20.6811 - val_a_loss: 748.6663 - val_q0_rec_loss: 0.6437 - val_v0_rec_loss: 11.8435\n"
     ]
    }
   ],
   "source": [
    "history_earth = model.fit(ds_earth_trn, epochs=100, callbacks=callbacks, validation_data = ds_earth_val)"
   ]
  },
  {
   "cell_type": "code",
   "execution_count": null,
   "metadata": {},
   "outputs": [],
   "source": [
    "# history_earth = model_par.fit(ds_earth_trn, epochs=1, callbacks=callbacks, validation_data = ds_earth_val)"
   ]
  }
 ],
 "metadata": {
  "kernelspec": {
   "display_name": "Python 3",
   "language": "python",
   "name": "python3"
  },
  "language_info": {
   "codemirror_mode": {
    "name": "ipython",
    "version": 3
   },
   "file_extension": ".py",
   "mimetype": "text/x-python",
   "name": "python",
   "nbconvert_exporter": "python",
   "pygments_lexer": "ipython3",
   "version": "3.7.3"
  }
 },
 "nbformat": 4,
 "nbformat_minor": 2
}
