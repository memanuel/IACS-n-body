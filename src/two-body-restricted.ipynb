{
 "cells": [
  {
   "cell_type": "markdown",
   "metadata": {},
   "source": [
    "# Restricted Two Body Problem: Elliptical Orbits Around a Central Mass\n",
    "\n",
    "This is the general case of a Keperian orbit.<br>\n",
    "A light body (e.g. a planet) orbits a heavy central body (e.g. the sun).  The orbit is an ellipse with the primary at one focus."
   ]
  },
  {
   "cell_type": "code",
   "execution_count": 1,
   "metadata": {},
   "outputs": [],
   "source": [
    "# Library imports\n",
    "import tensorflow as tf\n",
    "import rebound\n",
    "import numpy as np\n",
    "\n",
    "# Aliases\n",
    "keras = tf.keras"
   ]
  },
  {
   "cell_type": "code",
   "execution_count": 2,
   "metadata": {},
   "outputs": [],
   "source": [
    "# Local imports\n",
    "from utils import load_vartbl, save_vartbl, plot_style\n",
    "from tf_utils import gpu_grow_memory, TimeHistory\n",
    "from tf_utils import plot_loss_hist, EpochLoss, TimeHistory\n",
    "from tf_utils import Identity\n",
    "\n",
    "from r2b_data import make_traj_r2b, make_train_r2b, make_datasets_r2b, make_datasets_earth\n",
    "from r2b import KineticEnergy_R2B, PotentialEnergy_R2B, AngularMomentum_R2B"
   ]
  },
  {
   "cell_type": "code",
   "execution_count": 3,
   "metadata": {},
   "outputs": [],
   "source": [
    "# Lightweight serialization\n",
    "# fname = '../data/r2b/r2bc.pickle'\n",
    "# vartbl = load_vartbl(fname)"
   ]
  },
  {
   "cell_type": "markdown",
   "metadata": {},
   "source": [
    "### Generate data sets and an example batch"
   ]
  },
  {
   "cell_type": "code",
   "execution_count": 4,
   "metadata": {},
   "outputs": [],
   "source": [
    "# Generate one example trajectory\n",
    "a = 1.0\n",
    "e = 0.0\n",
    "inc = 0.0\n",
    "Omega = 0.0\n",
    "omega = 0.0\n",
    "f = 0.0\n",
    "n_years = 2\n",
    "\n",
    "inputs_traj, outputs_traj = make_traj_r2b(a=a, e=e, inc=inc, Omega=Omega, omega=omega, f=f, n_years=n_years)"
   ]
  },
  {
   "cell_type": "code",
   "execution_count": 5,
   "metadata": {},
   "outputs": [
    {
     "data": {
      "text/plain": [
       "dict_keys(['t', 'q0', 'v0', 'mu'])"
      ]
     },
     "execution_count": 5,
     "metadata": {},
     "output_type": "execute_result"
    }
   ],
   "source": [
    "inputs_traj.keys()"
   ]
  },
  {
   "cell_type": "code",
   "execution_count": 6,
   "metadata": {},
   "outputs": [],
   "source": [
    "# Inputs for make_train_r2b\n",
    "n_traj = 10\n",
    "n_years = 2\n",
    "a_min = 0.50\n",
    "a_max = 32.0\n",
    "e_max = 0.20\n",
    "inc_max = np.pi/4.0\n",
    "seed = 42"
   ]
  },
  {
   "cell_type": "code",
   "execution_count": 7,
   "metadata": {},
   "outputs": [
    {
     "data": {
      "application/vnd.jupyter.widget-view+json": {
       "model_id": "5a43f1dffaec4d8e8c70bee583457e5d",
       "version_major": 2,
       "version_minor": 0
      },
      "text/plain": [
       "HBox(children=(IntProgress(value=0, max=10), HTML(value='')))"
      ]
     },
     "metadata": {},
     "output_type": "display_data"
    },
    {
     "name": "stdout",
     "output_type": "stream",
     "text": [
      "\n"
     ]
    }
   ],
   "source": [
    "# Test make_train_r2b\n",
    "inputs, outputs= make_train_r2b(n_traj=n_traj, n_years=n_years, a_min=a_min, a_max=a_max, \n",
    "                                e_max=e_max, inc_max=inc_max, seed=seed)"
   ]
  },
  {
   "cell_type": "code",
   "execution_count": 8,
   "metadata": {},
   "outputs": [],
   "source": [
    "# Inputs for make_datasets_r2b\n",
    "n_traj = 10000\n",
    "vt_split = 0.20\n",
    "n_years = 2\n",
    "a_min = 0.50\n",
    "a_max = 32.0\n",
    "e_max = 0.20\n",
    "inc_max = np.pi/4.0\n",
    "seed = 42\n",
    "batch_size = 64"
   ]
  },
  {
   "cell_type": "code",
   "execution_count": 9,
   "metadata": {},
   "outputs": [
    {
     "name": "stdout",
     "output_type": "stream",
     "text": [
      "Loaded data from ../data/r2b/3884155784.pickle.\n"
     ]
    }
   ],
   "source": [
    "ds_trn, ds_val, ds_tst = make_datasets_r2b(n_traj=n_traj, vt_split=vt_split, n_years=n_years, a_min=a_min, a_max=a_max, \n",
    "                                e_max=e_max, inc_max=inc_max, seed=seed, batch_size=batch_size)"
   ]
  },
  {
   "cell_type": "code",
   "execution_count": 10,
   "metadata": {},
   "outputs": [
    {
     "name": "stdout",
     "output_type": "stream",
     "text": [
      "Loaded data from ../data/r2b/1116966658.pickle.\n"
     ]
    }
   ],
   "source": [
    "# Create DataSet objects for toy size problem - earth orbits only (a=1, e=0)\n",
    "ds_earth_trn, ds_earth_val, ds_earth_tst = make_datasets_earth(n_traj=10000, vt_split=0.20, n_years=2)"
   ]
  },
  {
   "cell_type": "code",
   "execution_count": 11,
   "metadata": {},
   "outputs": [
    {
     "name": "stdout",
     "output_type": "stream",
     "text": [
      "Example batch sizes:\n",
      "t  = (64, 731)\n",
      "q0 = (64, 3)\n",
      "v0 = (64, 3)\n",
      "mu = (64, 1)\n",
      "q  = (64, 731, 3)\n",
      "v  = (64, 731, 3)\n",
      "a  = (64, 731, 3)\n",
      "H  = (64, 731)\n",
      "L  = (64, 731, 3)\n"
     ]
    }
   ],
   "source": [
    "# Example batch\n",
    "batch_in, batch_out = list(ds_earth_val.take(1))[0]\n",
    "# batch_in.keys()\n",
    "# batch_out.keys()\n",
    "\n",
    "t = batch_in['t']\n",
    "q0 = batch_in['q0']\n",
    "v0 = batch_in['v0']\n",
    "mu = batch_in['mu']\n",
    "\n",
    "q = batch_out['q']\n",
    "v = batch_out['v']\n",
    "a = batch_out['a']\n",
    "q0_rec = batch_out['q0_rec']\n",
    "v0_rec = batch_out['v0_rec']\n",
    "H = batch_out['H']\n",
    "L = batch_out['L']\n",
    "\n",
    "print(f'Example batch sizes:')\n",
    "print(f't  = {t.shape}')\n",
    "print(f'q0 = {q0.shape}')\n",
    "print(f'v0 = {v0.shape}')\n",
    "print(f'mu = {mu.shape}')\n",
    "\n",
    "print(f'q  = {q.shape}')\n",
    "print(f'v  = {v.shape}')\n",
    "print(f'a  = {a.shape}')\n",
    "# print(f'q0_rec = {q0_rec.shape}')\n",
    "# print(f'v0_rec = {v0_rec.shape}')\n",
    "print(f'H  = {H.shape}')\n",
    "print(f'L  = {L.shape}')"
   ]
  },
  {
   "cell_type": "markdown",
   "metadata": {},
   "source": [
    "**Call layers with physics computations**"
   ]
  },
  {
   "cell_type": "code",
   "execution_count": 12,
   "metadata": {},
   "outputs": [
    {
     "data": {
      "text/plain": [
       "TensorShape([64, 731])"
      ]
     },
     "execution_count": 12,
     "metadata": {},
     "output_type": "execute_result"
    }
   ],
   "source": [
    "T = KineticEnergy_R2B()(v)\n",
    "T.shape"
   ]
  },
  {
   "cell_type": "code",
   "execution_count": 13,
   "metadata": {},
   "outputs": [
    {
     "data": {
      "text/plain": [
       "TensorShape([64, 731])"
      ]
     },
     "execution_count": 13,
     "metadata": {},
     "output_type": "execute_result"
    }
   ],
   "source": [
    "U = PotentialEnergy_R2B()([q, mu])\n",
    "U.shape"
   ]
  },
  {
   "cell_type": "code",
   "execution_count": 14,
   "metadata": {},
   "outputs": [
    {
     "data": {
      "text/plain": [
       "TensorShape([64, 731, 3])"
      ]
     },
     "execution_count": 14,
     "metadata": {},
     "output_type": "execute_result"
    }
   ],
   "source": [
    "L = AngularMomentum_R2B()([q, v])\n",
    "L.shape"
   ]
  },
  {
   "cell_type": "code",
   "execution_count": null,
   "metadata": {},
   "outputs": [],
   "source": []
  }
 ],
 "metadata": {
  "kernelspec": {
   "display_name": "Python [conda env:nbody]",
   "language": "python",
   "name": "conda-env-nbody-py"
  },
  "language_info": {
   "codemirror_mode": {
    "name": "ipython",
    "version": 3
   },
   "file_extension": ".py",
   "mimetype": "text/x-python",
   "name": "python",
   "nbconvert_exporter": "python",
   "pygments_lexer": "ipython3",
   "version": "3.7.3"
  }
 },
 "nbformat": 4,
 "nbformat_minor": 2
}
