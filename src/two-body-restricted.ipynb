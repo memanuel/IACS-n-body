{
 "cells": [
  {
   "cell_type": "markdown",
   "metadata": {},
   "source": [
    "# Base Case: Circular Orbit of Radius 1 AU, Period 1 Year\n",
    "\n",
    "Create synthetic data for the simplest base case: a circular orbit of radius 1.\n",
    "\n",
    "Can think of this as approximating the earth: radius = 1 AU, period = 1 year, mass of sun $m_0$ = 1 solar mass\n",
    "\n",
    "\\begin{align}\n",
    "x(t) &= \\cos(\\omega t) \\\\\n",
    "y(t) &= \\sin(\\omega t) \\\\\n",
    "\\omega &= 2 \\pi\n",
    "\\end{align}\n",
    "\n",
    "Taking two derivatives\n",
    "\\begin{align}\n",
    "\\ddot{x}(t) = -\\omega^2 x(t)\\\\\n",
    "\\ddot{y}(t) = -\\omega^2 y(t)\n",
    "\\end{align}\n",
    "\n",
    "Equating the acceleration $\\omega^2 r$ to $G \\cdot m_0 / r^2$ for $r=1$ in the case of earth, we can see that in these units the gravitational constant $G$ is\n",
    "$$G = 4 \\pi^2$$\n",
    "\n",
    "Further we can see that for a planet in a circular orbit with radius $r$, the angular frequency will satisfy\n",
    "$$ \\omega^2 = G m_0 / r^3$$\n",
    "This is a special case of Kepler's third law."
   ]
  },
  {
   "cell_type": "code",
   "execution_count": 1,
   "metadata": {},
   "outputs": [],
   "source": [
    "# Library imports\n",
    "import tensorflow as tf\n",
    "import numpy as np\n",
    "import matplotlib.pyplot as plt\n",
    "import time\n",
    "\n",
    "# Aliases\n",
    "keras = tf.keras"
   ]
  },
  {
   "cell_type": "code",
   "execution_count": 2,
   "metadata": {},
   "outputs": [],
   "source": [
    "# Local imports\n",
    "from utils import load_vartbl, save_vartbl, plot_style\n",
    "from tf_utils import gpu_grow_memory, TimeHistory\n",
    "from tf_utils import Identity\n",
    "\n",
    "from r2b_data import make_traj_r2bc , make_train_r2bc\n",
    "from r2b_data import plot_orbit_q, plot_orbit_v, plot_orbit_a, plot_orbit_energy\n",
    "from r2b_data import make_datasets_earth, make_datasets_solar, make_datasets_r2bc\n",
    "\n",
    "from r2bc_model import ConfigToPolar2D, MotionR2BC\n",
    "from r2bc_model import make_model_r2bc_math, make_model_r2bc"
   ]
  },
  {
   "cell_type": "code",
   "execution_count": 3,
   "metadata": {},
   "outputs": [],
   "source": [
    "# Grow GPU memory (must be first operation in TF)\n",
    "gpu_grow_memory()"
   ]
  },
  {
   "cell_type": "code",
   "execution_count": 4,
   "metadata": {},
   "outputs": [],
   "source": [
    "# Create distribution strategy\n",
    "# This isn't working properly for training in Michael-PC (Windows 10)\n",
    "# but does work for evaluating (with no real benefit though)\n",
    "# strat = tf.distribute.MirroredStrategy(['/GPU:0', '/GPU:1'])\n",
    "\n",
    "# Plot style \n",
    "plot_style()"
   ]
  },
  {
   "cell_type": "code",
   "execution_count": 5,
   "metadata": {},
   "outputs": [],
   "source": [
    "# Lightweight serialization\n",
    "fname = '../pickle/r2bc.pickle'\n",
    "vartbl = load_vartbl(fname)"
   ]
  },
  {
   "cell_type": "code",
   "execution_count": 6,
   "metadata": {},
   "outputs": [],
   "source": [
    "# One trajectory of earth for plotting\n",
    "inputs_earth, outputs_earth = make_traj_r2bc(r0=1.0, theta0=0.0, n_years=2)\n",
    "\n",
    "# Combined dict\n",
    "data_earth = {**inputs_earth, **outputs_earth}"
   ]
  },
  {
   "cell_type": "code",
   "execution_count": 7,
   "metadata": {},
   "outputs": [],
   "source": [
    "# fig, ax = plot_orbit_q(data_earth)"
   ]
  },
  {
   "cell_type": "code",
   "execution_count": 8,
   "metadata": {},
   "outputs": [],
   "source": [
    "# fig, ax = plot_orbit_v(data_earth)"
   ]
  },
  {
   "cell_type": "code",
   "execution_count": 9,
   "metadata": {},
   "outputs": [],
   "source": [
    "# fig, ax = plot_orbit_a(data_earth)"
   ]
  },
  {
   "cell_type": "code",
   "execution_count": 10,
   "metadata": {},
   "outputs": [],
   "source": [
    "# fig, ax = plot_orbit_energy(data_earth)"
   ]
  },
  {
   "cell_type": "code",
   "execution_count": 11,
   "metadata": {},
   "outputs": [],
   "source": [
    "# Create DataSet objects for toy size problem - earth orbits only (a=1, e=0)\n",
    "ds_earth_trn, ds_earth_val, ds_earth_tst = make_datasets_earth(n_traj=1000, vt_split=0.20)\n",
    "\n",
    "# Create DataSet objects for solar system type orbits (a between 0.25 and 32.0)\n",
    "ds_solar_trn, ds_solar_val, ds_solar_tst = make_datasets_solar(n_traj=10000, vt_split=0.20)\n",
    "\n",
    "# Create DataSet objects for jupiter orbits only (a=5.2, e=0)\n",
    "ds_jup_trn, ds_jup_val, ds_jup_tst = make_datasets_r2bc(n_traj=1000, vt_split=0.20, \n",
    "                                                        n_years=2, r_min=5.2, r_max=5.2, seed=42, batch_size=64)"
   ]
  },
  {
   "cell_type": "code",
   "execution_count": 12,
   "metadata": {},
   "outputs": [
    {
     "name": "stdout",
     "output_type": "stream",
     "text": [
      "Example batch sizes:\n",
      "t  = (64, 731)\n",
      "q0 = (64, 2)\n",
      "v0 = (64, 2)\n",
      "mu = (64, 1)\n",
      "q  = (64, 731, 2)\n",
      "v  = (64, 731, 2)\n",
      "a  = (64, 731, 2)\n"
     ]
    }
   ],
   "source": [
    "# Example batch\n",
    "batch_in, batch_out = list(ds_earth_val.take(1))[0]\n",
    "# batch_in.keys()\n",
    "# batch_out.keys()\n",
    "\n",
    "batch_t = batch_in['t']\n",
    "batch_q0 = batch_in['q0']\n",
    "batch_v0 = batch_in['v0']\n",
    "batch_mu = batch_in['mu']\n",
    "\n",
    "batch_q = batch_out['q']\n",
    "batch_v = batch_out['v']\n",
    "batch_a = batch_out['a']\n",
    "\n",
    "print(f'Example batch sizes:')\n",
    "print(f't  = {batch_t.shape}')\n",
    "print(f'q0 = {batch_q0.shape}')\n",
    "print(f'v0 = {batch_v0.shape}')\n",
    "print(f'mu = {batch_mu.shape}')\n",
    "\n",
    "print(f'q  = {batch_q.shape}')\n",
    "print(f'v  = {batch_v.shape}')\n",
    "print(f'a  = {batch_a.shape}')"
   ]
  },
  {
   "cell_type": "code",
   "execution_count": 13,
   "metadata": {},
   "outputs": [],
   "source": [
    "class AngularMomentum0_R2B(keras.layers.Layer):\n",
    "    \"\"\"Compute the initial angular momentum from initial position and velocity in 2D\"\"\"\n",
    "    def call(self, inputs):\n",
    "        # Unpack inputs\n",
    "        # Shape of q0 and v0 is (batch_size, 2,)\n",
    "        q0, v0 = inputs\n",
    "        \n",
    "        # Compute the angular momentum\n",
    "        L0 = (q0[:,0]*v0[:,1]) - (q0[:,1]*v0[:,0])\n",
    "\n",
    "        # Reshape from (batch_size,) to (batch_size, 1)\n",
    "        return keras.layers.Reshape(target_shape=(1,))(L0)"
   ]
  },
  {
   "cell_type": "code",
   "execution_count": 14,
   "metadata": {},
   "outputs": [],
   "source": [
    "class AngularMomentum_R2B(keras.layers.Layer):\n",
    "    \"\"\"Compute the angular momentum from position and velocity in 2D\"\"\"\n",
    "    def call(self, inputs):\n",
    "        # Unpack inputs\n",
    "        # Shape of q and v is (batch_size, traj_size, 2,)\n",
    "        q, v = inputs\n",
    "        \n",
    "        # Compute the angular momentum\n",
    "        L = (q[:,:,0]*v[:,:,1]) - (q[:,:,1]*v[:,:,0])\n",
    "        return L"
   ]
  },
  {
   "cell_type": "code",
   "execution_count": 15,
   "metadata": {},
   "outputs": [
    {
     "data": {
      "text/plain": [
       "TensorShape([64, 1])"
      ]
     },
     "execution_count": 15,
     "metadata": {},
     "output_type": "execute_result"
    }
   ],
   "source": [
    "L0 = AngularMomentum0_R2B()([batch_q0, batch_v0])\n",
    "L0.shape"
   ]
  },
  {
   "cell_type": "code",
   "execution_count": 16,
   "metadata": {},
   "outputs": [
    {
     "data": {
      "text/plain": [
       "TensorShape([64, 731])"
      ]
     },
     "execution_count": 16,
     "metadata": {},
     "output_type": "execute_result"
    }
   ],
   "source": [
    "L = AngularMomentum_R2B()([batch_q, batch_v])\n",
    "L.shape"
   ]
  },
  {
   "cell_type": "code",
   "execution_count": 17,
   "metadata": {},
   "outputs": [],
   "source": [
    "class KineticEnergy_R2B(keras.layers.Layer):\n",
    "    \"\"\"Compute the kinetic energy from velocity\"\"\"\n",
    "    def call(self, inputs):\n",
    "        # Alias inputs to v\n",
    "        # Shape of v is (batch_size, traj_size, 2,)\n",
    "        v = inputs\n",
    "        \n",
    "        # Element-wise velocity squared\n",
    "        v2 = tf.square(v)\n",
    "        \n",
    "        # The KE is 1/2 m v^2 = 1/2 v^2 per unit mass in restricted problem\n",
    "        T = 0.5 * tf.reduce_sum(v2, axis=-1, keepdims=False)\n",
    "        return T"
   ]
  },
  {
   "cell_type": "code",
   "execution_count": 18,
   "metadata": {},
   "outputs": [
    {
     "data": {
      "text/plain": [
       "TensorShape([64, 731])"
      ]
     },
     "execution_count": 18,
     "metadata": {},
     "output_type": "execute_result"
    }
   ],
   "source": [
    "T = KineticEnergy_R2B()(batch_v)\n",
    "T.shape"
   ]
  },
  {
   "cell_type": "code",
   "execution_count": 19,
   "metadata": {},
   "outputs": [
    {
     "data": {
      "text/plain": [
       "<tf.Tensor: id=253, shape=(), dtype=float32, numpy=19.73921>"
      ]
     },
     "execution_count": 19,
     "metadata": {},
     "output_type": "execute_result"
    }
   ],
   "source": [
    "T[0, 0]"
   ]
  },
  {
   "cell_type": "code",
   "execution_count": 20,
   "metadata": {},
   "outputs": [],
   "source": [
    "class PotentialEnergy_R2B(keras.layers.Layer):\n",
    "    \"\"\"Compute the potential energy from position q and gravitational constant mu\"\"\"\n",
    "    def call(self, inputs):\n",
    "        # Unpack inputs\n",
    "        # Shape of q is (batch_size, traj_size, 2,)\n",
    "        # Shape of mu is (batch_size, 1)\n",
    "        q, mu = inputs\n",
    "        \n",
    "        # Compute the norm of a 2D vector\n",
    "        norm_func = lambda q : tf.norm(q, axis=-1, keepdims=False)\n",
    "\n",
    "        # The distance r\n",
    "        r = keras.layers.Activation(norm_func, name='r')(q)\n",
    "        \n",
    "        # The gravitational potential is -G m0 m1 / r = - mu / r per unit mass m1 in restricted problem\n",
    "        U = tf.negative(tf.divide(mu, r))\n",
    "        return U"
   ]
  },
  {
   "cell_type": "code",
   "execution_count": 21,
   "metadata": {},
   "outputs": [
    {
     "data": {
      "text/plain": [
       "TensorShape([64, 731])"
      ]
     },
     "execution_count": 21,
     "metadata": {},
     "output_type": "execute_result"
    }
   ],
   "source": [
    "U = PotentialEnergy_R2B()([batch_q, batch_mu])\n",
    "U.shape"
   ]
  },
  {
   "cell_type": "code",
   "execution_count": 22,
   "metadata": {},
   "outputs": [
    {
     "data": {
      "text/plain": [
       "1.645492e-06"
      ]
     },
     "execution_count": 22,
     "metadata": {},
     "output_type": "execute_result"
    }
   ],
   "source": [
    "np.std(U)"
   ]
  },
  {
   "cell_type": "code",
   "execution_count": 23,
   "metadata": {},
   "outputs": [],
   "source": [
    "def make_model_r2bc_math(traj_size=731):\n",
    "    \"\"\"Create an anlytical model for the restricted two body circular problem\"\"\"\n",
    "    # Create input layers\n",
    "    t = keras.Input(shape=(traj_size,), name='t')\n",
    "    q0 = keras.Input(shape=(2,), name='q0')\n",
    "    v0 = keras.Input(shape=(2,), name='v0')\n",
    "    mu = keras.Input(shape=(1,), name='mu')\n",
    "    # The combined input layers\n",
    "    inputs = [t, q0, v0, mu]\n",
    "\n",
    "    # Return row 0 of a position or velocity for q0_rec and v0_rec\n",
    "    initial_row_func = lambda q : q[:, 0, :]\n",
    "\n",
    "    # The polar coordinates of the initial conditions\n",
    "    # r0, theta0, and omega0 each scalars in each batch\n",
    "    r0, theta0, omega0 = ConfigToPolar2D(name='initial_polar')([q0, v0])\n",
    "    \n",
    "    # Name the outputs of the initial polar\n",
    "    # These each have shape (batch_size, 1)\n",
    "    r0 = Identity(name='r0')(r0)\n",
    "    theta0 = Identity(name='theta0')(theta0)\n",
    "    omega0 = Identity(name='omega0')(omega0)\n",
    "\n",
    "    # Compute the circular motion\n",
    "    q, v, a = MotionR2BC(name='motion')([t, r0, theta0, omega0])\n",
    "    \n",
    "    # Name the outputs of the circular motion\n",
    "    # These each have shape (batch_size, traj_size, 2)\n",
    "    q = Identity(name='q')(q)\n",
    "    v = Identity(name='v')(v)\n",
    "    a = Identity(name='a')(a)\n",
    "\n",
    "    # Compute q0_rec and v0_rec\n",
    "    # These each have shape (batch_size, 2)\n",
    "    q0_rec = keras.layers.Lambda(initial_row_func, name='q0_rec')(q)\n",
    "    v0_rec = keras.layers.Lambda(initial_row_func, name='v0_rec')(v)\n",
    "\n",
    "    # Compute kinetic energy T and potential energy U\n",
    "    T = KineticEnergy_R2B(name='T')(v)\n",
    "    U = PotentialEnergy_R2B(name='U')([q, mu])\n",
    "    # Compute the total energy H\n",
    "    H = keras.layers.add(inputs=[T,U], name='H')\n",
    "\n",
    "    # Compute angular momentum L\n",
    "    # This has shape (batch_size, 1)\n",
    "    L = AngularMomentum_R2B(name='L')([q, v])\n",
    "    \n",
    "    # Wrap this up into a model\n",
    "    outputs = [q, v, a, q0_rec, v0_rec, H, L]\n",
    "    model = keras.Model(inputs=inputs, outputs=outputs, name='model_math')\n",
    "    return model"
   ]
  },
  {
   "cell_type": "code",
   "execution_count": 24,
   "metadata": {},
   "outputs": [],
   "source": [
    "model_math = make_model_r2bc_math()"
   ]
  },
  {
   "cell_type": "code",
   "execution_count": 25,
   "metadata": {},
   "outputs": [],
   "source": [
    "q,v,a, q0_rec, v0_rec, H, L = model_math(batch_in)"
   ]
  },
  {
   "cell_type": "code",
   "execution_count": 26,
   "metadata": {},
   "outputs": [
    {
     "data": {
      "image/png": "[encoded data removed]",
      "text/plain": [
       "<IPython.core.display.Image object>"
      ]
     },
     "execution_count": 26,
     "metadata": {},
     "output_type": "execute_result"
    }
   ],
   "source": [
    "keras.utils.plot_model(model_math, show_shapes=False)"
   ]
  },
  {
   "cell_type": "code",
   "execution_count": 27,
   "metadata": {},
   "outputs": [
    {
     "name": "stdout",
     "output_type": "stream",
     "text": [
      "Model: \"model_math\"\n",
      "__________________________________________________________________________________________________\n",
      "Layer (type)                    Output Shape         Param #     Connected to                     \n",
      "==================================================================================================\n",
      "q0 (InputLayer)                 [(None, 2)]          0                                            \n",
      "__________________________________________________________________________________________________\n",
      "v0 (InputLayer)                 [(None, 2)]          0                                            \n",
      "__________________________________________________________________________________________________\n",
      "initial_polar (ConfigToPolar2D) ((None, 1), (None, 1 0           q0[0][0]                         \n",
      "                                                                 v0[0][0]                         \n",
      "__________________________________________________________________________________________________\n",
      "t (InputLayer)                  [(None, 731)]        0                                            \n",
      "__________________________________________________________________________________________________\n",
      "r0 (Identity)                   (None, 1)            0           initial_polar[0][0]              \n",
      "__________________________________________________________________________________________________\n",
      "theta0 (Identity)               (None, 1)            0           initial_polar[0][1]              \n",
      "__________________________________________________________________________________________________\n",
      "omega0 (Identity)               (None, 1)            0           initial_polar[0][2]              \n",
      "__________________________________________________________________________________________________\n",
      "motion (MotionR2BC)             ((None, 731, 2), (No 0           t[0][0]                          \n",
      "                                                                 r0[0][0]                         \n",
      "                                                                 theta0[0][0]                     \n",
      "                                                                 omega0[0][0]                     \n",
      "__________________________________________________________________________________________________\n",
      "q (Identity)                    (None, 731, 2)       0           motion[0][0]                     \n",
      "__________________________________________________________________________________________________\n",
      "v (Identity)                    (None, 731, 2)       0           motion[0][1]                     \n",
      "__________________________________________________________________________________________________\n",
      "mu (InputLayer)                 [(None, 1)]          0                                            \n",
      "__________________________________________________________________________________________________\n",
      "T (KineticEnergy_R2B)           (None, 731)          0           v[0][0]                          \n",
      "__________________________________________________________________________________________________\n",
      "U (PotentialEnergy_R2B)         (None, 731)          0           q[0][0]                          \n",
      "                                                                 mu[0][0]                         \n",
      "__________________________________________________________________________________________________\n",
      "a (Identity)                    (None, 731, 2)       0           motion[0][2]                     \n",
      "__________________________________________________________________________________________________\n",
      "q0_rec (Lambda)                 (None, 2)            0           q[0][0]                          \n",
      "__________________________________________________________________________________________________\n",
      "v0_rec (Lambda)                 (None, 2)            0           v[0][0]                          \n",
      "__________________________________________________________________________________________________\n",
      "H (Add)                         (None, 731)          0           T[0][0]                          \n",
      "                                                                 U[0][0]                          \n",
      "__________________________________________________________________________________________________\n",
      "L (AngularMomentum_R2B)         (None, 731)          0           q[0][0]                          \n",
      "                                                                 v[0][0]                          \n",
      "==================================================================================================\n",
      "Total params: 0\n",
      "Trainable params: 0\n",
      "Non-trainable params: 0\n",
      "__________________________________________________________________________________________________\n"
     ]
    }
   ],
   "source": [
    "model_math.summary()"
   ]
  },
  {
   "cell_type": "code",
   "execution_count": 28,
   "metadata": {},
   "outputs": [
    {
     "name": "stdout",
     "output_type": "stream",
     "text": [
      "model output shapes:\n",
      "q = (64, 731, 2)\n",
      "v = (64, 731, 2)\n",
      "a = (64, 731, 2)\n",
      "q0_rec = (64, 2)\n",
      "v0_rec = (64, 2)\n",
      "H = (64, 731)\n",
      "L = (64, 731)\n"
     ]
    }
   ],
   "source": [
    "q, v, a, q0_rec, v0_rec, H, L  = model_math([batch_t, batch_q0, batch_v0, batch_mu])\n",
    "print(f'model output shapes:')\n",
    "print(f'q = {q.shape}')\n",
    "print(f'v = {v.shape}')\n",
    "print(f'a = {a.shape}')\n",
    "print(f'q0_rec = {q0_rec.shape}')\n",
    "print(f'v0_rec = {v0_rec.shape}')\n",
    "print(f'H = {H.shape}')\n",
    "print(f'L = {L.shape}')"
   ]
  },
  {
   "cell_type": "code",
   "execution_count": 29,
   "metadata": {},
   "outputs": [],
   "source": [
    "optimizer = keras.optimizers.Adam()\n",
    "\n",
    "loss = {'q': keras.losses.MeanSquaredError(name='q_mse'),\n",
    "        'v': keras.losses.MeanSquaredError(name='q_mse'),\n",
    "        'a': keras.losses.MeanSquaredError(name='a_mse'),\n",
    "        'q0_rec': keras.losses.MeanSquaredError(name='q0_mse'),\n",
    "        'v0_rec': keras.losses.MeanSquaredError(name='v0_mse'),\n",
    "        'H': keras.losses.MeanSquaredError(name='H'),\n",
    "        'L': keras.losses.MeanSquaredError(name='L')}\n",
    "\n",
    "# these metrics produce crazy output names when multiple instances share them; hold off for now\n",
    "# metrics = {'q': keras.metrics.MeanAbsoluteError(name='q_mae'),\n",
    "#            'v': keras.metrics.MeanAbsoluteError(name='v_mae')}\n",
    "metrics = None\n",
    "\n",
    "loss_weights = {'q': 1.0,\n",
    "                'v': 1.0,\n",
    "                'a': 0.0,\n",
    "                'q0_rec': 1.0,\n",
    "                'v0_rec': 1.0,\n",
    "                'H': 1.0,\n",
    "                'L': 1.0}"
   ]
  },
  {
   "cell_type": "code",
   "execution_count": 30,
   "metadata": {},
   "outputs": [],
   "source": [
    "# Compile the mathematical model on a single GPU\n",
    "model_math = make_model_r2bc_math()\n",
    "model_math.compile(optimizer=optimizer, loss=loss, metrics=metrics, loss_weights=loss_weights)"
   ]
  },
  {
   "cell_type": "code",
   "execution_count": 31,
   "metadata": {},
   "outputs": [],
   "source": [
    "# Compile the mathematical model for parallel GPUs\n",
    "# with strat.scope():\n",
    "#     model_math_par = make_model_r2bc_analytic()\n",
    "#     model_math_par.compile(optimizer=optimizer, loss=loss, metrics=metrics, loss_weights=loss_weights)"
   ]
  },
  {
   "cell_type": "code",
   "execution_count": 32,
   "metadata": {},
   "outputs": [
    {
     "name": "stdout",
     "output_type": "stream",
     "text": [
      "32/32 [==============================] - 1s 29ms/step - loss: 1.0657e-11 - q_loss: 1.0533e-12 - v_loss: 1.0087e-12 - a_loss: 1.9786e-10 - q0_rec_loss: 6.7420e-13 - v0_rec_loss: 1.7146e-14 - H_loss: 1.0514e-12 - L_loss: 6.8522e-12\n"
     ]
    },
    {
     "data": {
      "text/plain": [
       "[1.065689989596455e-11,\n",
       " 1.0533013e-12,\n",
       " 1.0086762e-12,\n",
       " 1.9786123e-10,\n",
       " 6.7419616e-13,\n",
       " 1.7145648e-14,\n",
       " 1.0513703e-12,\n",
       " 6.8522093e-12]"
      ]
     },
     "execution_count": 32,
     "metadata": {},
     "output_type": "execute_result"
    }
   ],
   "source": [
    "# Evaluate the math model on the earth-like data set\n",
    "model_math.evaluate(ds_solar_val)"
   ]
  },
  {
   "cell_type": "code",
   "execution_count": null,
   "metadata": {},
   "outputs": [],
   "source": [
    "# Timing baseline for analytic model, single GPU\n",
    "# model_math.evaluate(ds_trn.take(5000))\n",
    "trials = np.array([32.438, 32.220, 31.399, 31.492, 32.038])\n",
    "time_mean = np.mean(trials)\n",
    "time_std = np.std(trials)\n",
    "print(f'Mean time:  {time_mean:5.3f}')\n",
    "print(f'Stdev time: {time_std:5.3f}')"
   ]
  },
  {
   "cell_type": "code",
   "execution_count": null,
   "metadata": {},
   "outputs": [],
   "source": [
    "def time_model_eval(model, ds, batches=None, time_mean=None):\n",
    "    \"\"\"Time a model to evaluate a dataset\"\"\"\n",
    "    t0 = time.time()\n",
    "    if batches is None:\n",
    "        model.evaluate(ds)\n",
    "    else:\n",
    "        model.evaluate(ds.take(batches))\n",
    "    t1 = time.time()\n",
    "    elapsed = t1 - t0\n",
    "    print(f'Elapsed Time: {elapsed:5.3f} sec')\n",
    "    if time_mean is not None:\n",
    "        delta = (elapsed - time_mean)\n",
    "        print(f'Time Delta:   {delta:+5.3f} sec')"
   ]
  },
  {
   "cell_type": "code",
   "execution_count": null,
   "metadata": {},
   "outputs": [],
   "source": [
    "# Time the single GPU math model\n",
    "# time_model_eval(model_math, ds_earth_trn)"
   ]
  },
  {
   "cell_type": "code",
   "execution_count": null,
   "metadata": {},
   "outputs": [],
   "source": [
    "# Time the double GPU math model\n",
    "# time_model_eval(model_math_par, ds_earth_trn)"
   ]
  },
  {
   "cell_type": "code",
   "execution_count": null,
   "metadata": {},
   "outputs": [],
   "source": [
    "keras.utils.plot_model(model_math, show_shapes=False)"
   ]
  },
  {
   "cell_type": "code",
   "execution_count": null,
   "metadata": {},
   "outputs": [],
   "source": [
    "# model_math.summary()"
   ]
  },
  {
   "cell_type": "code",
   "execution_count": null,
   "metadata": {},
   "outputs": [],
   "source": [
    "def make_model_r2bc():\n",
    "    \"\"\"Create a model for the restricted two body circular problem\"\"\"\n",
    "    # Create input layers\n",
    "    t = keras.Input(shape=(1,), name='t')\n",
    "    q0 = keras.Input(shape=(2,), name='q0')\n",
    "    v0 = keras.Input(shape=(2,), name='v0')\n",
    "    # The combined input layers\n",
    "    inputs = [t, q0, v0]\n",
    "    \n",
    "    # Combine the input features for the initial configuration\n",
    "    config0 = keras.layers.concatenate(inputs=[q0, v0], name='config0') \n",
    "\n",
    "    # 2 Dense feature layers depending ONLY on the configuration (not the time)\n",
    "    phi_1 = keras.layers.Dense(units=4, activation='relu', name='phi_1')(config0)\n",
    "    phi_1 = keras.layers.concatenate(inputs=[config0, phi_1], name='phi_1_aug')\n",
    "    phi_2 = keras.layers.Dense(units=4, activation='relu', name='phi_2')(phi_1)\n",
    "    phi_2 = keras.layers.concatenate(inputs=[phi_1, phi_2], name='phi2_aug')\n",
    "    \n",
    "    # The radius r; this is the same at time 0 and t because phi_2 does not depend on t\n",
    "    # r = keras.layers.Dense(1, name='r')(phi_2)\n",
    "    r = tf.norm(q0, axis=1)\n",
    "  \n",
    "    # The angular velocity omega\n",
    "    omega = keras.layers.Dense(1, name='omega')(phi_2)\n",
    "    \n",
    "    # Negative of omega and omega2; used below for computing the velocity and acceleration components\n",
    "    neg_omega = keras.layers.Activation(activation=tf.negative, name='neg_omega')(omega)\n",
    "    neg_omega2 = keras.layers.multiply(inputs=[neg_omega, omega], name='neg_omega2')\n",
    "    \n",
    "    # The initial angle theta_0\n",
    "    # theta0 = keras.layers.Dense(1, name='theta0')(phi_2)\n",
    "    \n",
    "    # Slice out x and y from a 2D vector\n",
    "    slice_x = lambda q : tf.slice(q, [0, 0], [-1, 1]) \n",
    "    slice_y = lambda q : tf.slice(q, [0, 1], [-1, 1]) \n",
    "    \n",
    "    # Extract x and y from q0\n",
    "    q0x = keras.layers.Lambda(slice_x, name='q0x')(q0)\n",
    "    q0y = keras.layers.Lambda(slice_y, name='q0y')(q0)\n",
    "    \n",
    "    # The initial angle theta0\n",
    "    theta0 = tf.atan2(q0y, q0x, name='theta0')\n",
    "    \n",
    "    # The angle theta at time t\n",
    "    omega_t = keras.layers.multiply(inputs=[omega, t], name='omega_t')\n",
    "    theta = keras.layers.add(inputs=[omega_t, theta0], name='theta')\n",
    "    \n",
    "    # Cosine and sine of theta\n",
    "    cos_theta = keras.layers.Activation(activation=tf.cos, name='cos_theta')(theta)\n",
    "    sin_theta = keras.layers.Activation(activation=tf.sin, name='sin_theta')(theta)\n",
    "\n",
    "    # Compute qx and qy from r, theta\n",
    "    qx = keras.layers.multiply(inputs=[r, cos_theta], name='qx')\n",
    "    qy = keras.layers.multiply(inputs=[r, sin_theta], name='qy')\n",
    "    q = keras.layers.concatenate(inputs=[qx, qy], name='q')\n",
    "    \n",
    "    # Compute vx and vy from r, theta\n",
    "    vx = keras.layers.multiply(inputs=[neg_omega, qy], name='vx')\n",
    "    vy = keras.layers.multiply(inputs=[omega, qx], name='vy')\n",
    "    v = keras.layers.concatenate(inputs=[vx, vy], name='v')\n",
    "\n",
    "    # Compute ax and ay from r, theta\n",
    "    ax = keras.layers.multiply(inputs=[neg_omega2, qx], name='ax')\n",
    "    ay = keras.layers.multiply(inputs=[neg_omega2, qy], name='ay')\n",
    "    a = keras.layers.concatenate(inputs=[ax, ay], name='a')\n",
    "\n",
    "    # The sine and cosine of theta0 are used for the recovered initial configuration\n",
    "    cos_theta0 = keras.layers.Activation(activation=tf.cos, name='cos_theta0')(theta0)\n",
    "    sin_theta0 = keras.layers.Activation(activation=tf.sin, name='sin_theta0')(theta0)\n",
    "\n",
    "    # The recovered initial position q0_rec\n",
    "    qx0_rec = keras.layers.multiply(inputs=[r, cos_theta0], name='qx0_rec')\n",
    "    qy0_rec = keras.layers.multiply(inputs=[r, sin_theta0], name='qy0_rec')\n",
    "    q0_rec = keras.layers.concatenate(inputs=[qx0_rec, qy0_rec], name='q0_rec')\n",
    "\n",
    "    # The recovered initial velocity v0_rec\n",
    "    vx0_rec = keras.layers.multiply(inputs=[neg_omega, qy0_rec], name='vx0_rec')\n",
    "    vy0_rec = keras.layers.multiply(inputs=[omega, qx0_rec], name='vy0_rec')\n",
    "    v0_rec = keras.layers.concatenate(inputs=[vx0_rec, vy0_rec], name='v0_rec')       \n",
    "\n",
    "    # The combined output layers\n",
    "    outputs = [q, v, a, q0_rec, v0_rec]\n",
    "    \n",
    "    model = keras.Model(inputs=inputs, outputs=outputs, name='r2bc')\n",
    "    return model"
   ]
  },
  {
   "cell_type": "code",
   "execution_count": null,
   "metadata": {},
   "outputs": [],
   "source": [
    "# Make the main r2bc model\n",
    "model = make_model_r2bc()"
   ]
  },
  {
   "cell_type": "code",
   "execution_count": null,
   "metadata": {},
   "outputs": [],
   "source": [
    "keras.utils.plot_model(model, show_shapes=False)"
   ]
  },
  {
   "cell_type": "code",
   "execution_count": null,
   "metadata": {},
   "outputs": [],
   "source": [
    "model.summary()"
   ]
  },
  {
   "cell_type": "code",
   "execution_count": null,
   "metadata": {},
   "outputs": [],
   "source": [
    "# Compile the main r2bc model on a single GPU\n",
    "optimizer = keras.optimizers.Adagrad()\n",
    "model.compile(optimizer=optimizer, loss=loss, metrics=metrics, loss_weights=loss_weights)"
   ]
  },
  {
   "cell_type": "code",
   "execution_count": null,
   "metadata": {},
   "outputs": [],
   "source": [
    "hist = model.fit(ds_earth_trn.repeat(), epochs=10, steps_per_epoch=2000, \n",
    "                 validation_data = ds_earth_val, validation_steps=100,\n",
    "                 callbacks=None)"
   ]
  },
  {
   "cell_type": "code",
   "execution_count": null,
   "metadata": {},
   "outputs": [],
   "source": [
    "# Compile the main model for parallel GPUs\n",
    "# with strat.scope():\n",
    "#    model_par = make_model_r2bc()\n",
    "#    model_par.compile(optimizer=optimizer, loss=loss, metrics=metrics, loss_weights=loss_weights)"
   ]
  },
  {
   "cell_type": "code",
   "execution_count": null,
   "metadata": {},
   "outputs": [],
   "source": [
    "# Time the single GPU main model\n",
    "time_model_eval(model, ds_earth_trn)"
   ]
  },
  {
   "cell_type": "code",
   "execution_count": null,
   "metadata": {},
   "outputs": [],
   "source": [
    "# Time the double GPU main model\n",
    "# time_model_eval(model_par, ds_earth_trn, batches=1024)"
   ]
  },
  {
   "cell_type": "code",
   "execution_count": null,
   "metadata": {},
   "outputs": [],
   "source": [
    "# keras.utils.plot_model(model, show_shapes=False)"
   ]
  },
  {
   "cell_type": "code",
   "execution_count": null,
   "metadata": {},
   "outputs": [],
   "source": [
    "# Example batch\n",
    "batch = list(ds_earth_trn.take(1))[0]\n",
    "batch_in, batch_out = batch\n",
    "batch_in.keys()"
   ]
  },
  {
   "cell_type": "code",
   "execution_count": null,
   "metadata": {},
   "outputs": [],
   "source": [
    "# filepath = '../models/r2bc_earth_{epoch}.h5'\n",
    "filepath = '../models/r2bc/model_earth.h5'\n",
    "callback_ckp = keras.callbacks.ModelCheckpoint(\n",
    "    filepath=filepath,\n",
    "    save_best_only=True,\n",
    "    monitor='val_loss',\n",
    "    verbose=1)\n",
    "\n",
    "log_dir = '../logs/r2bc_earth'\n",
    "callback_tb = keras.callbacks.TensorBoard(\n",
    "    log_dir=log_dir,\n",
    "    histogram_freq=0,\n",
    "    embeddings_freq=0,\n",
    "    update_freq='epoch')\n",
    "\n",
    "# Unable to get TensorBoard to work on Windows 10; fails to create new directory\n",
    "# callbacks = [callback_ckp, callback_tb, TimeHistory()]\n",
    "callbacks = [TimeHistory()]"
   ]
  },
  {
   "cell_type": "code",
   "execution_count": null,
   "metadata": {},
   "outputs": [],
   "source": [
    "history_earth = model.fit(ds_earth_trn, epochs=10, callbacks=None, validation_data = ds_earth_val)"
   ]
  },
  {
   "cell_type": "code",
   "execution_count": null,
   "metadata": {},
   "outputs": [],
   "source": [
    "xxx = b1_in['v0'].numpy()\n",
    "xxx = b1_out['a'].numpy()"
   ]
  },
  {
   "cell_type": "code",
   "execution_count": null,
   "metadata": {},
   "outputs": [],
   "source": [
    "np.std(xxx, axis=0)"
   ]
  },
  {
   "cell_type": "code",
   "execution_count": null,
   "metadata": {},
   "outputs": [],
   "source": [
    "np.min(xxx, axis=0)"
   ]
  },
  {
   "cell_type": "code",
   "execution_count": null,
   "metadata": {},
   "outputs": [],
   "source": [
    "np.max(xxx, axis=0)"
   ]
  },
  {
   "cell_type": "code",
   "execution_count": null,
   "metadata": {},
   "outputs": [],
   "source": [
    "pred = model_math.predict(batch_in)\n",
    "t, q0, v0 = batch_in['t'], batch_in['q0'], batch_in['v0']\n",
    "q, v, a, q0, v0 = pred"
   ]
  },
  {
   "cell_type": "code",
   "execution_count": null,
   "metadata": {},
   "outputs": [],
   "source": [
    "batch_in.keys()"
   ]
  },
  {
   "cell_type": "code",
   "execution_count": null,
   "metadata": {},
   "outputs": [],
   "source": [
    "q.shape"
   ]
  },
  {
   "cell_type": "code",
   "execution_count": null,
   "metadata": {},
   "outputs": [],
   "source": []
  }
 ],
 "metadata": {
  "kernelspec": {
   "display_name": "Python 3",
   "language": "python",
   "name": "python3"
  },
  "language_info": {
   "codemirror_mode": {
    "name": "ipython",
    "version": 3
   },
   "file_extension": ".py",
   "mimetype": "text/x-python",
   "name": "python",
   "nbconvert_exporter": "python",
   "pygments_lexer": "ipython3",
   "version": "3.7.3"
  }
 },
 "nbformat": 4,
 "nbformat_minor": 2
}
