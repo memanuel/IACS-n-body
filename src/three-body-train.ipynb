{
 "cells": [
  {
   "cell_type": "markdown",
   "metadata": {},
   "source": [
    "# Three Body Problem: Neural Network Training\n",
    "\n",
    "A simple neural network is trained to learn approximate solutions to the three body problem.<br>\n",
    "Data is sampled from three body systems with parameters similar to planets in the solar system."
   ]
  },
  {
   "cell_type": "code",
   "execution_count": 1,
   "metadata": {},
   "outputs": [],
   "source": [
    "# Library imports\n",
    "import tensorflow as tf\n",
    "import rebound\n",
    "import numpy as np\n",
    "import datetime\n",
    "import matplotlib.pyplot as plt\n",
    "\n",
    "# Aliases\n",
    "keras = tf.keras"
   ]
  },
  {
   "cell_type": "code",
   "execution_count": 2,
   "metadata": {},
   "outputs": [],
   "source": [
    "# Local imports\n",
    "from utils import load_vartbl, save_vartbl, plot_style, range_inc\n",
    "from tf_utils import gpu_grow_memory, TimeHistory\n",
    "from tf_utils import plot_loss_hist, EpochLoss, TimeHistory\n",
    "from tf_utils import Identity\n",
    "\n",
    "from orbital_element import OrbitalElementToConfig, ConfigToOrbitalElement, MeanToTrueAnomaly, G_\n",
    "from orbital_element import make_model_elt_to_cfg, make_model_cfg_to_elt\n",
    "\n",
    "from jacobi import CartesianToJacobi, JacobiToCartesian\n",
    "\n",
    "from g3b_data import make_traj_g3b, make_data_g3b, make_datasets_g3b, traj_to_batch\n",
    "from g3b_data import make_datasets_solar, make_datasets_hard\n",
    "from g3b_data import combine_datasets_g3b, combine_datasets_solar\n",
    "from sej_data import load_data_sej, make_datasets_sej, combine_datasets_sej\n",
    "\n",
    "from g3b_plot import plot_orbit_q, plot_orbit_v, plot_orbit_a, plot_orbit_energy, plot_orbit_element\n",
    "from g3b import KineticEnergy_G3B, PotentialEnergy_G3B, Momentum_G3B, AngularMomentum_G3B\n",
    "from g3b import VectorError, EnergyError\n",
    "from g3b import Motion_G3B, make_physics_model_g3b\n",
    "from g3b import fit_model\n",
    "from g3b_model_math import make_position_model_g3b_math, make_model_g3b_math\n",
    "from g3b_model_nn import make_position_model_g3b_nn, make_model_g3b_nn"
   ]
  },
  {
   "cell_type": "code",
   "execution_count": 3,
   "metadata": {},
   "outputs": [],
   "source": [
    "# Set active GPUs\n",
    "gpus = tf.config.experimental.list_physical_devices('GPU')\n",
    "tf.config.experimental.set_visible_devices(gpus[1:2], 'GPU')"
   ]
  },
  {
   "cell_type": "code",
   "execution_count": 4,
   "metadata": {},
   "outputs": [],
   "source": [
    "# Grow GPU memory (must be first operation in TF)\n",
    "# gpu_grow_memory()"
   ]
  },
  {
   "cell_type": "code",
   "execution_count": 5,
   "metadata": {},
   "outputs": [],
   "source": [
    "# Lightweight serialization\n",
    "fname = '../data/g3b/g3b_train.pickle'\n",
    "vartbl = load_vartbl(fname)"
   ]
  },
  {
   "cell_type": "code",
   "execution_count": 6,
   "metadata": {},
   "outputs": [],
   "source": [
    "# Set plot style\n",
    "plot_style()"
   ]
  },
  {
   "cell_type": "markdown",
   "metadata": {},
   "source": [
    "### Load Data for General Three Body Problem"
   ]
  },
  {
   "cell_type": "code",
   "execution_count": 7,
   "metadata": {},
   "outputs": [],
   "source": [
    "# Description of datasets to be loaded\n",
    "n_years = 100\n",
    "sample_freq = 10\n",
    "traj_size = n_years * sample_freq + 1"
   ]
  },
  {
   "cell_type": "code",
   "execution_count": 8,
   "metadata": {},
   "outputs": [],
   "source": [
    "# Configuration for loading data sets\n",
    "# num_data_sets = 50\n",
    "num_data_sets = 5\n",
    "batch_size = 256\n",
    "# num_gpus = 1\n",
    "# full_batch_size = num_gpus * batch_size\n",
    "\n",
    "# Set size of tiny data sets\n",
    "n_traj_tiny = batch_size\n",
    "\n",
    "# Set starting random seed\n",
    "seed0 = 42"
   ]
  },
  {
   "cell_type": "code",
   "execution_count": 9,
   "metadata": {},
   "outputs": [
    {
     "name": "stdout",
     "output_type": "stream",
     "text": [
      "Loaded data from ../data/g3b/1789961721.pickle.\n"
     ]
    },
    {
     "name": "stderr",
     "output_type": "stream",
     "text": [
      "WARNING: Logging before flag parsing goes to stderr.\n",
      "W0821 11:35:31.928282 139780329862976 deprecation.py:323] From /home/michael/anaconda3/envs/nbody/lib/python3.7/site-packages/tensorflow/python/data/util/random_seed.py:58: add_dispatch_support.<locals>.wrapper (from tensorflow.python.ops.array_ops) is deprecated and will be removed in a future version.\n",
      "Instructions for updating:\n",
      "Use tf.where in 2.0, which has the same broadcast rule as np.where\n"
     ]
    }
   ],
   "source": [
    "# Create a tiny data set with one batch of solar type orbits\n",
    "ds_tiny_solar, _ , _ = \\\n",
    "    make_datasets_solar(n_traj=n_traj_tiny, vt_split=0.0, \n",
    "                        n_years=n_years, sample_freq=sample_freq,\n",
    "                        batch_size=batch_size, seed=seed0)"
   ]
  },
  {
   "cell_type": "code",
   "execution_count": 10,
   "metadata": {},
   "outputs": [],
   "source": [
    "# Build combined solar data sets\n",
    "# ds_solar_trn, ds_solar_val, ds_solar_tst = \\\n",
    "#     combine_datasets_solar(num_data_sets=num_data_sets, batch_size=batch_size, seed0=seed0)"
   ]
  },
  {
   "cell_type": "markdown",
   "metadata": {},
   "source": [
    "### Load Data for Perturbed Sun-Earth-Jupiter System"
   ]
  },
  {
   "cell_type": "code",
   "execution_count": 11,
   "metadata": {},
   "outputs": [],
   "source": [
    "# Orbital perturbation scales\n",
    "sd_log_a = 0.01\n",
    "sd_log_e = 0.10\n",
    "sd_log_inc = 0.10\n",
    "sd_Omega = np.pi * 0.02\n",
    "sd_omega = np.pi * 0.02\n",
    "sd_f = np.pi * 0.02\n",
    "\n",
    "# Wrap into dictionary\n",
    "sej_sigma = {\n",
    "    'sd_log_a': sd_log_a,\n",
    "    'sd_log_e': sd_log_e,\n",
    "    'sd_log_inc': sd_log_inc,\n",
    "    'sd_Omega': sd_Omega,\n",
    "    'sd_omega': sd_omega,\n",
    "    'sd_f': sd_f\n",
    "}"
   ]
  },
  {
   "cell_type": "code",
   "execution_count": 12,
   "metadata": {},
   "outputs": [
    {
     "name": "stdout",
     "output_type": "stream",
     "text": [
      "Loaded data from ../data/sej/1026452775.pickle.\n"
     ]
    }
   ],
   "source": [
    "# Create a tiny data set with one batch of perturbed SEJ orbits\n",
    "ds_tiny_sej, _ , _ = \\\n",
    "    make_datasets_sej(n_traj=n_traj_tiny, vt_split=0.0, n_years=n_years, sample_freq=sample_freq,\n",
    "                      **sej_sigma,\n",
    "                      batch_size=batch_size, seed=seed0)"
   ]
  },
  {
   "cell_type": "code",
   "execution_count": 13,
   "metadata": {},
   "outputs": [
    {
     "name": "stdout",
     "output_type": "stream",
     "text": [
      "Loaded data from ../data/sej/3203691191.pickle.\n"
     ]
    }
   ],
   "source": [
    "# Create dictionary for sigmas of unperturbed orbits: all sd are zero (always same elements)\n",
    "sej_sigma0 = {k: v*0.0 for k, v in sej_sigma.items()}\n",
    "\n",
    "# Create a tiny data set with the unperturbed SEJ system\n",
    "ds_sej0, _, _ = \\\n",
    "    make_datasets_sej(n_traj=n_traj_tiny, vt_split=0.0, n_years=n_years, sample_freq=sample_freq,\n",
    "                      **sej_sigma0,\n",
    "                      batch_size=batch_size, seed=0)"
   ]
  },
  {
   "cell_type": "code",
   "execution_count": 14,
   "metadata": {},
   "outputs": [
    {
     "name": "stdout",
     "output_type": "stream",
     "text": [
      "Loaded data from ../data/sej/4087833051.pickle.\n"
     ]
    },
    {
     "data": {
      "application/vnd.jupyter.widget-view+json": {
       "model_id": "66fc13cb125f47be92370ae5f3c04fd3",
       "version_major": 2,
       "version_minor": 0
      },
      "text/plain": [
       "HBox(children=(IntProgress(value=0, max=4), HTML(value='')))"
      ]
     },
     "metadata": {},
     "output_type": "display_data"
    },
    {
     "name": "stdout",
     "output_type": "stream",
     "text": [
      "Loaded data from ../data/sej/3169253148.pickle.\n",
      "Loaded data from ../data/sej/155748689.pickle.\n",
      "Loaded data from ../data/sej/3645397039.pickle.\n",
      "Loaded data from ../data/sej/2755636330.pickle.\n",
      "\n"
     ]
    }
   ],
   "source": [
    "# Build combined SEJ data sets\n",
    "ds_sej_trn, ds_sej_val, ds_sej_tst = \\\n",
    "    combine_datasets_sej(num_data_sets=num_data_sets, batch_size=batch_size, seed0=seed0)"
   ]
  },
  {
   "cell_type": "markdown",
   "metadata": {},
   "source": [
    "***Choose Data Set for Analysis: Solar vs. SEJ***"
   ]
  },
  {
   "cell_type": "code",
   "execution_count": 15,
   "metadata": {},
   "outputs": [],
   "source": [
    "# Alias ds_trn, ds_val, ds_tst to selected source\n",
    "\n",
    "# The selected data type for this analysis\n",
    "data_type = 'SEJ'\n",
    "\n",
    "# Tables mapping data type to tuple of data sets\n",
    "data_by_type = {\n",
    "    # 'solar': (ds_tiny_solar, ds_solar_trn, ds_solar_val, ds_solar_tst),\n",
    "    'SEJ': (ds_tiny_sej, ds_sej_trn, ds_sej_val, ds_sej_tst)\n",
    "}\n",
    "\n",
    "# Perform the aliasing\n",
    "ds_tiny, ds_trn, ds_val, ds_tst = data_by_type[data_type]"
   ]
  },
  {
   "cell_type": "markdown",
   "metadata": {},
   "source": [
    "### Create the Kepler-Jacobi Model as a Benchmark"
   ]
  },
  {
   "cell_type": "code",
   "execution_count": 16,
   "metadata": {},
   "outputs": [],
   "source": [
    "model_kj = make_model_g3b_math(traj_size=traj_size, batch_size=batch_size)"
   ]
  },
  {
   "cell_type": "code",
   "execution_count": 17,
   "metadata": {},
   "outputs": [],
   "source": [
    "optimizer = keras.optimizers.Adam(learning_rate=0.0)\n",
    "\n",
    "loss = {'q': VectorError(name='q_loss'),\n",
    "        'v': VectorError(name='v_loss'),\n",
    "        'a': VectorError(regularizer=1.0, name='a_loss'),\n",
    "        'q0_rec': VectorError(name='q0_loss'),\n",
    "        'v0_rec': VectorError(name='v0_loss'),\n",
    "        'H': EnergyError(name='H_loss'),\n",
    "        'P': VectorError(name='P_loss', regularizer=1.0E-6),\n",
    "        'L': VectorError(name='L_loss'),\n",
    "       }\n",
    "\n",
    "metrics = None\n",
    "\n",
    "loss_weights = {'q': 1.0,\n",
    "                'v': 1.0,\n",
    "                'a': 1.0,\n",
    "                'q0_rec': 1.0E4,\n",
    "                'v0_rec': 1.0E4,\n",
    "                'H': 1.0,\n",
    "                'P': 1.0,\n",
    "                'L': 1.0}"
   ]
  },
  {
   "cell_type": "code",
   "execution_count": 18,
   "metadata": {},
   "outputs": [],
   "source": [
    "# Compile the full mathematical model\n",
    "model_kj.compile(optimizer=optimizer, loss=loss, metrics=metrics, loss_weights=loss_weights)"
   ]
  },
  {
   "cell_type": "code",
   "execution_count": 19,
   "metadata": {},
   "outputs": [
    {
     "name": "stdout",
     "output_type": "stream",
     "text": [
      "\r",
      "1/1 [==============================] - 2s 2s/step - loss: 6.6520e-05 - q_loss: 1.9148e-05 - v_loss: 1.9136e-05 - a_loss: 2.8235e-05 - q0_rec_loss: 4.1165e-14 - v0_rec_loss: 9.4240e-15 - H_loss: 2.2975e-13 - P_loss: 4.1866e-14 - L_loss: 7.2123e-14\n"
     ]
    },
    {
     "data": {
      "text/plain": [
       "[6.651984585914761e-05,\n",
       " 1.9148267e-05,\n",
       " 1.9135909e-05,\n",
       " 2.8235167e-05,\n",
       " 4.116526e-14,\n",
       " 9.423976e-15,\n",
       " 2.2974615e-13,\n",
       " 4.1866443e-14,\n",
       " 7.2123155e-14]"
      ]
     },
     "execution_count": 19,
     "metadata": {},
     "output_type": "execute_result"
    }
   ],
   "source": [
    "# Evaluate KJ model on unperturbed SEJ data set\n",
    "model_kj.evaluate(ds_sej0)"
   ]
  },
  {
   "cell_type": "code",
   "execution_count": 20,
   "metadata": {},
   "outputs": [
    {
     "name": "stdout",
     "output_type": "stream",
     "text": [
      "\r",
      "1/1 [==============================] - 0s 115ms/step - loss: 6.4279e-05 - q_loss: 1.8427e-05 - v_loss: 1.8415e-05 - a_loss: 2.7436e-05 - q0_rec_loss: 1.4879e-14 - v0_rec_loss: 1.3018e-14 - H_loss: 9.3354e-14 - P_loss: 3.8772e-14 - L_loss: 2.0240e-14\n"
     ]
    },
    {
     "data": {
      "text/plain": [
       "[6.427881453419104e-05,\n",
       " 1.8427074e-05,\n",
       " 1.8414992e-05,\n",
       " 2.7436467e-05,\n",
       " 1.4878642e-14,\n",
       " 1.3017593e-14,\n",
       " 9.33544e-14,\n",
       " 3.877194e-14,\n",
       " 2.0240327e-14]"
      ]
     },
     "execution_count": 20,
     "metadata": {},
     "output_type": "execute_result"
    }
   ],
   "source": [
    "# Evaluate KJ model on tiny data set\n",
    "model_kj.evaluate(ds_tiny)"
   ]
  },
  {
   "cell_type": "code",
   "execution_count": 21,
   "metadata": {},
   "outputs": [
    {
     "name": "stdout",
     "output_type": "stream",
     "text": [
      "35/35 [==============================] - 4s 115ms/step - loss: 6.5870e-05 - q_loss: 1.8911e-05 - v_loss: 1.8899e-05 - a_loss: 2.8060e-05 - q0_rec_loss: 1.4463e-14 - v0_rec_loss: 1.2528e-14 - H_loss: 9.3760e-14 - P_loss: 3.8766e-14 - L_loss: 1.9768e-14\n"
     ]
    },
    {
     "data": {
      "text/plain": [
       "[6.587040261365473e-05,\n",
       " 1.8911158e-05,\n",
       " 1.8898823e-05,\n",
       " 2.806015e-05,\n",
       " 1.4462772e-14,\n",
       " 1.2528137e-14,\n",
       " 9.376004e-14,\n",
       " 3.876589e-14,\n",
       " 1.9768472e-14]"
      ]
     },
     "execution_count": 21,
     "metadata": {},
     "output_type": "execute_result"
    }
   ],
   "source": [
    "# Evaluate KJ model on full validation data\n",
    "model_kj.evaluate(ds_val)"
   ]
  },
  {
   "cell_type": "markdown",
   "metadata": {},
   "source": [
    "### Train the Neural Network Model"
   ]
  },
  {
   "cell_type": "code",
   "execution_count": 61,
   "metadata": {},
   "outputs": [],
   "source": [
    "# Configuration for neural network model architecture\n",
    "# hidden_sizes = [64, 16]\n",
    "hidden_sizes = []\n",
    "skip_layers = True\n",
    "traj_size = 1001\n",
    "\n",
    "# Training configuration\n",
    "# reg = 1.0E2\n",
    "reg = 0.0\n",
    "kernel_reg = reg\n",
    "activity_reg = reg\n",
    "learning_rate = 1.0E-6"
   ]
  },
  {
   "cell_type": "code",
   "execution_count": 62,
   "metadata": {},
   "outputs": [],
   "source": [
    "# Build neural network model\n",
    "model_nn = make_model_g3b_nn(hidden_sizes=hidden_sizes, skip_layers=skip_layers, \n",
    "                             kernel_reg=kernel_reg, activity_reg=activity_reg,\n",
    "                             traj_size=traj_size, batch_size=batch_size)"
   ]
  },
  {
   "cell_type": "code",
   "execution_count": 63,
   "metadata": {},
   "outputs": [],
   "source": [
    "# model_nn.summary()"
   ]
  },
  {
   "cell_type": "code",
   "execution_count": 64,
   "metadata": {},
   "outputs": [],
   "source": [
    "optimizer = keras.optimizers.Adam(learning_rate=learning_rate)\n",
    "# optimizer = keras.optimizers.Adagrad(learning_rate=learning_rate)\n",
    "# optimizer = keras.optimizers.Adadelta()"
   ]
  },
  {
   "cell_type": "code",
   "execution_count": 65,
   "metadata": {},
   "outputs": [],
   "source": [
    "# Compile the NN model\n",
    "model_nn.compile(optimizer=optimizer, loss=loss, metrics=metrics, loss_weights=loss_weights)"
   ]
  },
  {
   "cell_type": "code",
   "execution_count": 66,
   "metadata": {},
   "outputs": [
    {
     "name": "stdout",
     "output_type": "stream",
     "text": [
      "\r",
      "1/1 [==============================] - 2s 2s/step - loss: 6.6520e-05 - q_loss: 1.9148e-05 - v_loss: 1.9136e-05 - a_loss: 2.8235e-05 - q0_rec_loss: 4.1165e-14 - v0_rec_loss: 9.4240e-15 - H_loss: 2.2975e-13 - P_loss: 4.1866e-14 - L_loss: 7.2123e-14\n"
     ]
    },
    {
     "data": {
      "text/plain": [
       "[6.651984585914761e-05,\n",
       " 1.9148267e-05,\n",
       " 1.9135909e-05,\n",
       " 2.8235167e-05,\n",
       " 4.116526e-14,\n",
       " 9.423976e-15,\n",
       " 2.2974615e-13,\n",
       " 4.1866443e-14,\n",
       " 7.2123155e-14]"
      ]
     },
     "execution_count": 66,
     "metadata": {},
     "output_type": "execute_result"
    }
   ],
   "source": [
    "# Evaluate the NN model on the unperturbed orbit\n",
    "model_nn.evaluate(ds_sej0)"
   ]
  },
  {
   "cell_type": "code",
   "execution_count": 67,
   "metadata": {},
   "outputs": [],
   "source": [
    "# Evaluate the NN model on the tiny data set\n",
    "# model_nn.evaluate(ds_tiny)"
   ]
  },
  {
   "cell_type": "code",
   "execution_count": 68,
   "metadata": {},
   "outputs": [],
   "source": [
    "# Evaluate the NN model on the full validation data\n",
    "# model_nn.evaluate(ds_val)"
   ]
  },
  {
   "cell_type": "code",
   "execution_count": 69,
   "metadata": {},
   "outputs": [],
   "source": [
    "# Compare this to math model - should be the same before training\n",
    "# model_math.evaluate(ds_val)\n",
    "\n",
    "# Hard coded baseline losses\n",
    "loss_baseline_list = \\\n",
    "[6.427881453419104e-05,\n",
    " 1.8427074e-05,\n",
    " 1.8414992e-05,\n",
    " 2.7436467e-05,\n",
    " 1.4878642e-14,\n",
    " 1.3017593e-14,\n",
    " 9.33544e-14,\n",
    " 3.877194e-14,\n",
    " 2.0240327e-14]\n",
    "\n",
    "# Baseline position loss\n",
    "q_loss_baseline = loss_baseline_list[1]\n",
    "\n",
    "# Table of baseline losses\n",
    "keys = ['loss', 'q_loss', 'v_loss', 'a_loss', 'q0_rec_loss', 'v0_rec_loss', 'H_loss', 'P_loss', 'L_loss']\n",
    "loss_baseline = {key: loss_baseline_list[i] for i, key in enumerate(keys)}\n",
    "# Set dummy batch_num and time\n",
    "loss_baseline['batch_num'] = 0\n",
    "loss_baseline['time'] = 0.0\n",
    "\n",
    "# Initialize history before training\n",
    "hist0 = {key: np.array([val], dtype=np.float32) for key, val in loss_baseline.items()}\n",
    "\n",
    "# Review baseline loss table\n",
    "# loss_baseline"
   ]
  },
  {
   "cell_type": "code",
   "execution_count": 70,
   "metadata": {},
   "outputs": [],
   "source": [
    "# Set up training\n",
    "suffix = '_'.join(str(sz) for sz in hidden_sizes)\n",
    "if data_type == 'solar':\n",
    "    model_name = f'model_g3b_nn_{suffix}'\n",
    "    folder = 'g3b'\n",
    "elif data_type == 'SEJ':\n",
    "    model_name = f'model_sej_nn_{suffix}'\n",
    "    folder = 'sej'\n",
    "model_h5 = f'../models/g3b/{model_name}.h5'\n",
    "hist_name = model_name.replace('model_', 'hist_')\n",
    "epochs = 1\n",
    "save_freq = 'epoch'"
   ]
  },
  {
   "cell_type": "markdown",
   "metadata": {},
   "source": [
    "### Train on Unperturbed Model (ds_sej0)"
   ]
  },
  {
   "cell_type": "code",
   "execution_count": 71,
   "metadata": {},
   "outputs": [
    {
     "name": "stdout",
     "output_type": "stream",
     "text": [
      "\n",
      "Epoch 0001; loss 6.65e-05; elapsed 0:00:06\n",
      "\r",
      "1/1 [==============================] - 6s 6s/step - loss: 6.6520e-05 - q_loss: 1.9148e-05 - v_loss: 1.9136e-05 - a_loss: 2.8235e-05 - q0_rec_loss: 4.1165e-14 - v0_rec_loss: 9.4240e-15 - H_loss: 2.2975e-13 - P_loss: 4.1866e-14 - L_loss: 7.2123e-14\n"
     ]
    }
   ],
   "source": [
    "hist = fit_model(model=model_nn,\n",
    "                 folder=folder,\n",
    "                 ds=ds_sej0, \n",
    "                 epochs=epochs,\n",
    "                 save_freq=save_freq,\n",
    "                 prev_history = hist0, \n",
    "                 batch_num=1)"
   ]
  },
  {
   "cell_type": "code",
   "execution_count": 72,
   "metadata": {},
   "outputs": [
    {
     "name": "stdout",
     "output_type": "stream",
     "text": [
      "\r",
      "1/1 [==============================] - 0s 126ms/step - loss: 4.3504e-04 - q_loss: 1.4086e-04 - v_loss: 1.5514e-04 - a_loss: 1.2386e-04 - q0_rec_loss: 4.1165e-14 - v0_rec_loss: 9.4240e-15 - H_loss: 8.4000e-07 - P_loss: 3.9661e-14 - L_loss: 1.4339e-05\n"
     ]
    },
    {
     "data": {
      "text/plain": [
       "[0.00043503730557858944,\n",
       " 0.00014085506,\n",
       " 0.00015514014,\n",
       " 0.00012386245,\n",
       " 4.116526e-14,\n",
       " 9.423976e-15,\n",
       " 8.4000203e-07,\n",
       " 3.9661396e-14,\n",
       " 1.4339153e-05]"
      ]
     },
     "execution_count": 72,
     "metadata": {},
     "output_type": "execute_result"
    }
   ],
   "source": [
    "model_nn.evaluate(ds_sej0)"
   ]
  },
  {
   "cell_type": "code",
   "execution_count": 74,
   "metadata": {},
   "outputs": [
    {
     "name": "stdout",
     "output_type": "stream",
     "text": [
      "*** Training loop   1 *** - 2019-08-21 11:50:20\n",
      "Epoch 1/10\n",
      "\n",
      "Epoch 0001; loss 3.54e-05; elapsed 0:00:00\n",
      "1/1 [==============================] - 0s 210ms/step - loss: 3.5384e-05 - q_loss: 1.1137e-05 - v_loss: 1.1291e-05 - a_loss: 1.2091e-05 - q0_rec_loss: 4.1165e-14 - v0_rec_loss: 9.4240e-15 - H_loss: 1.4329e-07 - P_loss: 3.9998e-14 - L_loss: 7.2168e-07\n",
      "Epoch 2/10\n",
      "\n",
      "Epoch 0002; loss 5.74e-05; elapsed 0:00:01\n",
      "1/1 [==============================] - 0s 179ms/step - loss: 5.7445e-05 - q_loss: 2.1709e-05 - v_loss: 2.1499e-05 - a_loss: 1.1437e-05 - q0_rec_loss: 4.1165e-14 - v0_rec_loss: 9.4240e-15 - H_loss: 2.5464e-08 - P_loss: 4.1228e-14 - L_loss: 2.7743e-06\n",
      "Epoch 3/10\n",
      "\n",
      "Epoch 0003; loss 7.01e-05; elapsed 0:00:01\n",
      "1/1 [==============================] - 0s 169ms/step - loss: 7.0072e-05 - q_loss: 2.5141e-05 - v_loss: 2.5384e-05 - a_loss: 1.6338e-05 - q0_rec_loss: 4.1165e-14 - v0_rec_loss: 9.4240e-15 - H_loss: 6.8336e-09 - P_loss: 4.0816e-14 - L_loss: 3.2007e-06\n",
      "Epoch 4/10\n",
      "\n",
      "Epoch 0004; loss 5.15e-05; elapsed 0:00:01\n",
      "1/1 [==============================] - 0s 171ms/step - loss: 5.1509e-05 - q_loss: 1.5466e-05 - v_loss: 1.6050e-05 - a_loss: 1.8294e-05 - q0_rec_loss: 4.1165e-14 - v0_rec_loss: 9.4240e-15 - H_loss: 7.8815e-08 - P_loss: 3.9010e-14 - L_loss: 1.6191e-06\n",
      "Epoch 5/10\n",
      "\n",
      "Epoch 0005; loss 2.64e-05; elapsed 0:00:01\n",
      "1/1 [==============================] - 0s 205ms/step - loss: 2.6366e-05 - q_loss: 5.2801e-06 - v_loss: 5.6170e-06 - a_loss: 1.5167e-05 - q0_rec_loss: 4.1165e-14 - v0_rec_loss: 9.4240e-15 - H_loss: 1.4652e-07 - P_loss: 3.8649e-14 - L_loss: 1.5540e-07\n",
      "Epoch 6/10\n",
      "\n",
      "Epoch 0006; loss 2.48e-05; elapsed 0:00:01\n",
      "1/1 [==============================] - 0s 198ms/step - loss: 2.4789e-05 - q_loss: 6.6021e-06 - v_loss: 6.4482e-06 - a_loss: 1.1227e-05 - q0_rec_loss: 4.1165e-14 - v0_rec_loss: 9.4240e-15 - H_loss: 1.3768e-07 - P_loss: 3.9428e-14 - L_loss: 3.7368e-07\n",
      "Epoch 7/10\n",
      "\n",
      "Epoch 0007; loss 4.09e-05; elapsed 0:00:02\n",
      "1/1 [==============================] - 0s 169ms/step - loss: 4.0930e-05 - q_loss: 1.5173e-05 - v_loss: 1.4824e-05 - a_loss: 9.3147e-06 - q0_rec_loss: 4.1165e-14 - v0_rec_loss: 9.4240e-15 - H_loss: 6.8655e-08 - P_loss: 4.0080e-14 - L_loss: 1.5487e-06\n",
      "Epoch 8/10\n",
      "\n",
      "Epoch 0008; loss 4.47e-05; elapsed 0:00:02\n",
      "1/1 [==============================] - 0s 169ms/step - loss: 4.4750e-05 - q_loss: 1.7592e-05 - v_loss: 1.7418e-05 - a_loss: 7.8094e-06 - q0_rec_loss: 4.1165e-14 - v0_rec_loss: 9.4240e-15 - H_loss: 8.7358e-09 - P_loss: 3.8352e-14 - L_loss: 1.9209e-06\n",
      "Epoch 9/10\n",
      "\n",
      "Epoch 0009; loss 2.77e-05; elapsed 0:00:02\n",
      "1/1 [==============================] - 0s 169ms/step - loss: 2.7687e-05 - q_loss: 1.0371e-05 - v_loss: 1.0413e-05 - a_loss: 5.8264e-06 - q0_rec_loss: 4.1165e-14 - v0_rec_loss: 9.4240e-15 - H_loss: 7.3393e-09 - P_loss: 3.9117e-14 - L_loss: 1.0682e-06\n",
      "Epoch 10/10\n",
      "\n",
      "Epoch 0010; loss 1.16e-05; elapsed 0:00:02\n",
      "1/1 [==============================] - 0s 203ms/step - loss: 1.1557e-05 - q_loss: 2.9128e-06 - v_loss: 2.9551e-06 - a_loss: 5.4996e-06 - q0_rec_loss: 4.1165e-14 - v0_rec_loss: 9.4240e-15 - H_loss: 5.0640e-08 - P_loss: 4.2414e-14 - L_loss: 1.3830e-07\n",
      "*** Training loop   2 *** - 2019-08-21 11:50:23\n",
      "Epoch 1/10\n",
      "\n",
      "Epoch 0001; loss 1.52e-05; elapsed 0:00:00\n",
      "1/1 [==============================] - 0s 182ms/step - loss: 1.5201e-05 - q_loss: 3.5658e-06 - v_loss: 3.4546e-06 - a_loss: 7.9243e-06 - q0_rec_loss: 4.1165e-14 - v0_rec_loss: 9.4240e-15 - H_loss: 8.2727e-08 - P_loss: 3.8230e-14 - L_loss: 1.7267e-07\n",
      "Epoch 2/10\n",
      "\n",
      "Epoch 0002; loss 2.91e-05; elapsed 0:00:00\n",
      "1/1 [==============================] - 0s 160ms/step - loss: 2.9097e-05 - q_loss: 9.0638e-06 - v_loss: 8.8648e-06 - a_loss: 1.0227e-05 - q0_rec_loss: 4.1165e-14 - v0_rec_loss: 9.4240e-15 - H_loss: 6.9050e-08 - P_loss: 3.9452e-14 - L_loss: 8.7178e-07\n",
      "Epoch 3/10\n",
      "\n",
      "Epoch 0003; loss 3.05e-05; elapsed 0:00:01\n",
      "1/1 [==============================] - 0s 159ms/step - loss: 3.0477e-05 - q_loss: 1.0289e-05 - v_loss: 1.0154e-05 - a_loss: 8.8388e-06 - q0_rec_loss: 4.1165e-14 - v0_rec_loss: 9.4240e-15 - H_loss: 2.7683e-08 - P_loss: 3.9839e-14 - L_loss: 1.1666e-06\n",
      "Epoch 4/10\n",
      "\n",
      "Epoch 0004; loss 1.61e-05; elapsed 0:00:01\n",
      "1/1 [==============================] - 0s 163ms/step - loss: 1.6150e-05 - q_loss: 5.3590e-06 - v_loss: 5.3175e-06 - a_loss: 4.7855e-06 - q0_rec_loss: 4.1165e-14 - v0_rec_loss: 9.4240e-15 - H_loss: 1.0415e-09 - P_loss: 4.1832e-14 - L_loss: 6.8615e-07\n",
      "Epoch 5/10\n",
      "\n",
      "Epoch 0005; loss 4.70e-06; elapsed 0:00:01\n",
      "1/1 [==============================] - 0s 182ms/step - loss: 4.6972e-06 - q_loss: 1.0634e-06 - v_loss: 1.0067e-06 - a_loss: 2.5201e-06 - q0_rec_loss: 4.1165e-14 - v0_rec_loss: 9.4240e-15 - H_loss: 9.5967e-09 - P_loss: 3.9000e-14 - L_loss: 9.6882e-08\n",
      "Epoch 6/10\n",
      "\n",
      "Epoch 0006; loss 8.93e-06; elapsed 0:00:01\n",
      "1/1 [==============================] - 0s 164ms/step - loss: 8.9346e-06 - q_loss: 2.5726e-06 - v_loss: 2.4098e-06 - a_loss: 3.8221e-06 - q0_rec_loss: 4.1165e-14 - v0_rec_loss: 9.4240e-15 - H_loss: 3.4748e-08 - P_loss: 4.2074e-14 - L_loss: 9.4883e-08\n",
      "Epoch 7/10\n",
      "\n",
      "Epoch 0007; loss 1.94e-05; elapsed 0:00:01\n",
      "1/1 [==============================] - 0s 159ms/step - loss: 1.9434e-05 - q_loss: 6.7149e-06 - v_loss: 6.4846e-06 - a_loss: 5.6628e-06 - q0_rec_loss: 4.1165e-14 - v0_rec_loss: 9.4240e-15 - H_loss: 4.4418e-08 - P_loss: 4.0299e-14 - L_loss: 5.2675e-07\n",
      "Epoch 8/10\n",
      "\n",
      "Epoch 0008; loss 1.99e-05; elapsed 0:00:02\n",
      "1/1 [==============================] - 0s 158ms/step - loss: 1.9894e-05 - q_loss: 7.2347e-06 - v_loss: 7.0528e-06 - a_loss: 4.8660e-06 - q0_rec_loss: 4.1165e-14 - v0_rec_loss: 9.4240e-15 - H_loss: 2.9096e-08 - P_loss: 3.8633e-14 - L_loss: 7.1084e-07\n",
      "Epoch 9/10\n",
      "\n",
      "Epoch 0009; loss 9.91e-06; elapsed 0:00:02\n",
      "1/1 [==============================] - 0s 160ms/step - loss: 9.9144e-06 - q_loss: 3.5334e-06 - v_loss: 3.4589e-06 - a_loss: 2.5104e-06 - q0_rec_loss: 4.1165e-14 - v0_rec_loss: 9.4240e-15 - H_loss: 7.1505e-09 - P_loss: 3.9921e-14 - L_loss: 4.0406e-07\n",
      "Epoch 10/10\n",
      "\n",
      "Epoch 0010; loss 2.89e-06; elapsed 0:00:02\n",
      "1/1 [==============================] - 0s 185ms/step - loss: 2.8871e-06 - q_loss: 4.9548e-07 - v_loss: 4.7112e-07 - a_loss: 1.8738e-06 - q0_rec_loss: 4.1165e-14 - v0_rec_loss: 9.4240e-15 - H_loss: 2.8532e-10 - P_loss: 4.0954e-14 - L_loss: 4.5875e-08\n",
      "*** Training loop   3 *** - 2019-08-21 11:50:25\n",
      "Epoch 1/10\n",
      "\n",
      "Epoch 0001; loss 6.05e-06; elapsed 0:00:00\n",
      "1/1 [==============================] - 0s 181ms/step - loss: 6.0537e-06 - q_loss: 1.2128e-06 - v_loss: 1.1459e-06 - a_loss: 3.6094e-06 - q0_rec_loss: 4.1165e-14 - v0_rec_loss: 9.4240e-15 - H_loss: 1.0238e-08 - P_loss: 3.9079e-14 - L_loss: 7.4825e-08\n",
      "Epoch 2/10\n",
      "\n",
      "Epoch 0002; loss 1.22e-05; elapsed 0:00:00\n",
      "1/1 [==============================] - 0s 159ms/step - loss: 1.2228e-05 - q_loss: 3.4347e-06 - v_loss: 3.3139e-06 - a_loss: 5.1073e-06 - q0_rec_loss: 4.1165e-14 - v0_rec_loss: 9.4240e-15 - H_loss: 2.0716e-08 - P_loss: 3.8378e-14 - L_loss: 3.5098e-07\n",
      "Epoch 3/10\n",
      "\n",
      "Epoch 0003; loss 1.20e-05; elapsed 0:00:01\n",
      "1/1 [==============================] - 0s 161ms/step - loss: 1.1983e-05 - q_loss: 3.6610e-06 - v_loss: 3.5637e-06 - a_loss: 4.3107e-06 - q0_rec_loss: 4.1165e-14 - v0_rec_loss: 9.4240e-15 - H_loss: 1.8635e-08 - P_loss: 3.9633e-14 - L_loss: 4.2886e-07\n",
      "Epoch 4/10\n",
      "\n",
      "Epoch 0004; loss 6.29e-06; elapsed 0:00:01\n",
      "1/1 [==============================] - 0s 159ms/step - loss: 6.2919e-06 - q_loss: 1.9531e-06 - v_loss: 1.9420e-06 - a_loss: 2.1818e-06 - q0_rec_loss: 4.1165e-14 - v0_rec_loss: 9.4240e-15 - H_loss: 7.6531e-09 - P_loss: 4.0181e-14 - L_loss: 2.0680e-07\n",
      "Epoch 5/10\n",
      "\n",
      "Epoch 0005; loss 2.82e-06; elapsed 0:00:01\n",
      "1/1 [==============================] - 0s 185ms/step - loss: 2.8159e-06 - q_loss: 9.1724e-07 - v_loss: 9.5971e-07 - a_loss: 9.2805e-07 - q0_rec_loss: 4.1165e-14 - v0_rec_loss: 9.4240e-15 - H_loss: 3.1419e-10 - P_loss: 4.3133e-14 - L_loss: 1.0080e-08\n",
      "Epoch 6/10\n",
      "\n",
      "Epoch 0006; loss 4.56e-06; elapsed 0:00:01\n",
      "1/1 [==============================] - 0s 159ms/step - loss: 4.5570e-06 - q_loss: 1.6145e-06 - v_loss: 1.6191e-06 - a_loss: 1.2417e-06 - q0_rec_loss: 4.1165e-14 - v0_rec_loss: 9.4240e-15 - H_loss: 2.2764e-09 - P_loss: 4.0710e-14 - L_loss: 7.8913e-08\n",
      "Epoch 7/10\n",
      "\n",
      "Epoch 0007; loss 7.34e-06; elapsed 0:00:01\n",
      "1/1 [==============================] - 0s 162ms/step - loss: 7.3415e-06 - q_loss: 2.5166e-06 - v_loss: 2.4436e-06 - a_loss: 2.1237e-06 - q0_rec_loss: 4.1165e-14 - v0_rec_loss: 9.4240e-15 - H_loss: 7.7901e-09 - P_loss: 4.1478e-14 - L_loss: 2.4931e-07\n"
     ]
    },
    {
     "name": "stdout",
     "output_type": "stream",
     "text": [
      "Epoch 8/10\n",
      "\n",
      "Epoch 0008; loss 6.95e-06; elapsed 0:00:02\n",
      "1/1 [==============================] - 0s 160ms/step - loss: 6.9516e-06 - q_loss: 2.1117e-06 - v_loss: 2.0232e-06 - a_loss: 2.5634e-06 - q0_rec_loss: 4.1165e-14 - v0_rec_loss: 9.4240e-15 - H_loss: 8.9217e-09 - P_loss: 4.1246e-14 - L_loss: 2.4379e-07\n",
      "Epoch 9/10\n",
      "\n",
      "Epoch 0009; loss 4.28e-06; elapsed 0:00:02\n",
      "1/1 [==============================] - 0s 162ms/step - loss: 4.2804e-06 - q_loss: 8.8466e-07 - v_loss: 8.6377e-07 - a_loss: 2.4457e-06 - q0_rec_loss: 4.1165e-14 - v0_rec_loss: 9.4240e-15 - H_loss: 4.8683e-09 - P_loss: 3.6593e-14 - L_loss: 8.0960e-08\n",
      "Epoch 10/10\n",
      "\n",
      "Epoch 0010; loss 2.71e-06; elapsed 0:00:02\n",
      "1/1 [==============================] - 0s 165ms/step - loss: 2.7112e-06 - q_loss: 2.7091e-07 - v_loss: 3.1501e-07 - a_loss: 2.1222e-06 - q0_rec_loss: 4.1165e-14 - v0_rec_loss: 9.4240e-15 - H_loss: 7.4653e-10 - P_loss: 4.0498e-14 - L_loss: 1.8246e-09\n",
      "*** Training loop   4 *** - 2019-08-21 11:50:27\n",
      "Epoch 1/10\n",
      "\n",
      "Epoch 0001; loss 3.39e-06; elapsed 0:00:00\n",
      "1/1 [==============================] - 0s 185ms/step - loss: 3.3856e-06 - q_loss: 7.0009e-07 - v_loss: 7.3049e-07 - a_loss: 1.8648e-06 - q0_rec_loss: 4.1165e-14 - v0_rec_loss: 9.4240e-15 - H_loss: 2.5588e-10 - P_loss: 4.1859e-14 - L_loss: 8.9464e-08\n",
      "Epoch 2/10\n",
      "\n",
      "Epoch 0002; loss 4.53e-06; elapsed 0:00:00\n",
      "1/1 [==============================] - 0s 142ms/step - loss: 4.5296e-06 - q_loss: 1.3342e-06 - v_loss: 1.3060e-06 - a_loss: 1.7137e-06 - q0_rec_loss: 4.1165e-14 - v0_rec_loss: 9.4240e-15 - H_loss: 2.1223e-09 - P_loss: 3.8966e-14 - L_loss: 1.7308e-07\n",
      "Epoch 3/10\n",
      "\n",
      "Epoch 0003; loss 4.31e-06; elapsed 0:00:01\n",
      "1/1 [==============================] - 0s 151ms/step - loss: 4.3060e-06 - q_loss: 1.3565e-06 - v_loss: 1.3176e-06 - a_loss: 1.5109e-06 - q0_rec_loss: 4.1165e-14 - v0_rec_loss: 9.4240e-15 - H_loss: 3.1239e-09 - P_loss: 4.0799e-14 - L_loss: 1.1733e-07\n",
      "Epoch 4/10\n",
      "\n",
      "Epoch 0004; loss 3.00e-06; elapsed 0:00:01\n",
      "1/1 [==============================] - 0s 199ms/step - loss: 2.9979e-06 - q_loss: 9.0368e-07 - v_loss: 9.2390e-07 - a_loss: 1.1514e-06 - q0_rec_loss: 4.1165e-14 - v0_rec_loss: 9.4240e-15 - H_loss: 2.1737e-09 - P_loss: 3.6761e-14 - L_loss: 1.6211e-08\n",
      "Epoch 5/10\n",
      "\n",
      "Epoch 0005; loss 2.23e-06; elapsed 0:00:01\n",
      "1/1 [==============================] - 0s 186ms/step - loss: 2.2254e-06 - q_loss: 6.2945e-07 - v_loss: 6.9840e-07 - a_loss: 8.7966e-07 - q0_rec_loss: 4.1165e-14 - v0_rec_loss: 9.4240e-15 - H_loss: 6.4568e-10 - P_loss: 4.0888e-14 - L_loss: 1.6747e-08\n",
      "Epoch 6/10\n",
      "\n",
      "Epoch 0006; loss 2.64e-06; elapsed 0:00:01\n",
      "1/1 [==============================] - 0s 159ms/step - loss: 2.6446e-06 - q_loss: 7.2231e-07 - v_loss: 7.6349e-07 - a_loss: 1.0681e-06 - q0_rec_loss: 4.1165e-14 - v0_rec_loss: 9.4240e-15 - H_loss: 2.7861e-12 - P_loss: 4.0078e-14 - L_loss: 9.0180e-08\n",
      "Epoch 7/10\n",
      "\n",
      "Epoch 0007; loss 3.18e-06; elapsed 0:00:01\n",
      "1/1 [==============================] - 0s 164ms/step - loss: 3.1762e-06 - q_loss: 7.4354e-07 - v_loss: 7.2328e-07 - a_loss: 1.6055e-06 - q0_rec_loss: 4.1165e-14 - v0_rec_loss: 9.4240e-15 - H_loss: 2.9466e-10 - P_loss: 3.8950e-14 - L_loss: 1.0308e-07\n",
      "Epoch 8/10\n",
      "\n",
      "Epoch 0008; loss 2.77e-06; elapsed 0:00:02\n",
      "1/1 [==============================] - 0s 158ms/step - loss: 2.7714e-06 - q_loss: 4.3243e-07 - v_loss: 4.0449e-07 - a_loss: 1.8956e-06 - q0_rec_loss: 4.1165e-14 - v0_rec_loss: 9.4240e-15 - H_loss: 7.4309e-10 - P_loss: 4.0547e-14 - L_loss: 3.7631e-08\n",
      "Epoch 9/10\n",
      "\n",
      "Epoch 0009; loss 2.00e-06; elapsed 0:00:02\n",
      "1/1 [==============================] - 0s 182ms/step - loss: 1.9981e-06 - q_loss: 1.7562e-07 - v_loss: 1.9882e-07 - a_loss: 1.6220e-06 - q0_rec_loss: 4.1165e-14 - v0_rec_loss: 9.4240e-15 - H_loss: 8.2660e-10 - P_loss: 4.0715e-14 - L_loss: 4.1026e-10\n",
      "Epoch 10/10\n",
      "\n",
      "Epoch 0010; loss 1.95e-06; elapsed 0:00:02\n",
      "1/1 [==============================] - 0s 165ms/step - loss: 1.9492e-06 - q_loss: 3.6923e-07 - v_loss: 4.2386e-07 - a_loss: 1.1179e-06 - q0_rec_loss: 4.1165e-14 - v0_rec_loss: 9.4240e-15 - H_loss: 5.6947e-10 - P_loss: 4.0024e-14 - L_loss: 3.7142e-08\n",
      "*** Training loop   5 *** - 2019-08-21 11:50:29\n",
      "Epoch 1/10\n",
      "\n",
      "Epoch 0001; loss 2.37e-06; elapsed 0:00:00\n",
      "1/1 [==============================] - 0s 180ms/step - loss: 2.3655e-06 - q_loss: 7.2561e-07 - v_loss: 7.4980e-07 - a_loss: 8.1851e-07 - q0_rec_loss: 4.1165e-14 - v0_rec_loss: 9.4240e-15 - H_loss: 2.2442e-10 - P_loss: 3.9475e-14 - L_loss: 7.0877e-08\n",
      "Epoch 2/10\n",
      "\n",
      "Epoch 0002; loss 2.24e-06; elapsed 0:00:00\n",
      "1/1 [==============================] - 0s 167ms/step - loss: 2.2389e-06 - q_loss: 7.1819e-07 - v_loss: 7.0262e-07 - a_loss: 7.7467e-07 - q0_rec_loss: 4.1165e-14 - v0_rec_loss: 9.4240e-15 - H_loss: 1.3964e-11 - P_loss: 4.1170e-14 - L_loss: 4.2929e-08\n",
      "Epoch 3/10\n",
      "\n",
      "Epoch 0003; loss 1.69e-06; elapsed 0:00:01\n",
      "1/1 [==============================] - 0s 171ms/step - loss: 1.6929e-06 - q_loss: 4.1357e-07 - v_loss: 4.0989e-07 - a_loss: 8.6582e-07 - q0_rec_loss: 4.1165e-14 - v0_rec_loss: 9.4240e-15 - H_loss: 7.2541e-11 - P_loss: 4.1356e-14 - L_loss: 3.0926e-09\n",
      "Epoch 4/10\n",
      "\n",
      "Epoch 0004; loss 1.65e-06; elapsed 0:00:01\n",
      "1/1 [==============================] - 0s 195ms/step - loss: 1.6455e-06 - q_loss: 2.6867e-07 - v_loss: 3.0516e-07 - a_loss: 1.0584e-06 - q0_rec_loss: 4.1165e-14 - v0_rec_loss: 9.4240e-15 - H_loss: 3.8297e-10 - P_loss: 3.7839e-14 - L_loss: 1.2336e-08\n",
      "Epoch 5/10\n",
      "\n",
      "Epoch 0005; loss 2.00e-06; elapsed 0:00:01\n",
      "1/1 [==============================] - 0s 157ms/step - loss: 2.0046e-06 - q_loss: 3.2905e-07 - v_loss: 3.6913e-07 - a_loss: 1.2626e-06 - q0_rec_loss: 4.1165e-14 - v0_rec_loss: 9.4240e-15 - H_loss: 6.9378e-10 - P_loss: 4.0133e-14 - L_loss: 4.2644e-08\n",
      "Epoch 6/10\n",
      "\n",
      "Epoch 0006; loss 1.89e-06; elapsed 0:00:01\n",
      "1/1 [==============================] - 0s 162ms/step - loss: 1.8947e-06 - q_loss: 2.7974e-07 - v_loss: 2.8337e-07 - a_loss: 1.2935e-06 - q0_rec_loss: 4.1165e-14 - v0_rec_loss: 9.4240e-15 - H_loss: 6.5302e-10 - P_loss: 4.0734e-14 - L_loss: 3.6926e-08\n",
      "Epoch 7/10\n",
      "\n",
      "Epoch 0007; loss 1.40e-06; elapsed 0:00:01\n",
      "1/1 [==============================] - 0s 187ms/step - loss: 1.3999e-06 - q_loss: 1.3720e-07 - v_loss: 1.2180e-07 - a_loss: 1.1330e-06 - q0_rec_loss: 4.1165e-14 - v0_rec_loss: 9.4240e-15 - H_loss: 2.4399e-10 - P_loss: 4.1791e-14 - L_loss: 7.1698e-09\n",
      "Epoch 8/10\n",
      "\n",
      "Epoch 0008; loss 1.38e-06; elapsed 0:00:02\n",
      "1/1 [==============================] - 0s 187ms/step - loss: 1.3792e-06 - q_loss: 2.0972e-07 - v_loss: 2.1722e-07 - a_loss: 9.4845e-07 - q0_rec_loss: 4.1165e-14 - v0_rec_loss: 9.4240e-15 - H_loss: 2.8876e-12 - P_loss: 4.0867e-14 - L_loss: 3.3050e-09\n",
      "Epoch 9/10\n",
      "\n",
      "Epoch 0009; loss 1.77e-06; elapsed 0:00:02\n",
      "1/1 [==============================] - 0s 142ms/step - loss: 1.7668e-06 - q_loss: 4.4749e-07 - v_loss: 4.7744e-07 - a_loss: 8.1690e-07 - q0_rec_loss: 4.1165e-14 - v0_rec_loss: 9.4240e-15 - H_loss: 4.2421e-10 - P_loss: 4.0806e-14 - L_loss: 2.4081e-08\n",
      "Epoch 10/10\n",
      "\n",
      "Epoch 0010; loss 1.72e-06; elapsed 0:00:02\n",
      "1/1 [==============================] - 0s 167ms/step - loss: 1.7201e-06 - q_loss: 4.7966e-07 - v_loss: 4.9573e-07 - a_loss: 7.1558e-07 - q0_rec_loss: 4.1165e-14 - v0_rec_loss: 9.4240e-15 - H_loss: 1.1055e-09 - P_loss: 4.0389e-14 - L_loss: 2.7564e-08\n"
     ]
    }
   ],
   "source": [
    "for i in range_inc(1, 5):\n",
    "    ts = datetime.datetime.now()\n",
    "    st = ts.strftime('%Y-%m-%d %H:%M:%S')\n",
    "    print(f'*** Training loop {i:3} *** - {st}')\n",
    "    hist = fit_model(model=model_nn,\n",
    "                     folder=folder,\n",
    "                     ds=ds_sej0, \n",
    "                     epochs=10,\n",
    "                     save_freq=save_freq,\n",
    "                     prev_history = hist, \n",
    "                     batch_num=i)\n",
    "    vartbl[hist_name] = hist\n",
    "    save_vartbl(vartbl, fname)"
   ]
  },
  {
   "cell_type": "code",
   "execution_count": 75,
   "metadata": {},
   "outputs": [
    {
     "name": "stdout",
     "output_type": "stream",
     "text": [
      "\r",
      "1/1 [==============================] - 0s 112ms/step - loss: 1.7668e-06 - q_loss: 4.4749e-07 - v_loss: 4.7744e-07 - a_loss: 8.1690e-07 - q0_rec_loss: 4.1165e-14 - v0_rec_loss: 9.4240e-15 - H_loss: 4.2421e-10 - P_loss: 4.0806e-14 - L_loss: 2.4081e-08\n"
     ]
    },
    {
     "data": {
      "text/plain": [
       "[1.7668359078015783e-06,\n",
       " 4.4749197e-07,\n",
       " 4.7743663e-07,\n",
       " 8.168965e-07,\n",
       " 4.116526e-14,\n",
       " 9.423976e-15,\n",
       " 4.242086e-10,\n",
       " 4.0806117e-14,\n",
       " 2.4080657e-08]"
      ]
     },
     "execution_count": 75,
     "metadata": {},
     "output_type": "execute_result"
    }
   ],
   "source": [
    "model_nn.evaluate(ds_sej0)"
   ]
  },
  {
   "cell_type": "code",
   "execution_count": 78,
   "metadata": {},
   "outputs": [
    {
     "data": {
      "image/png": "[encoded data removed]",
      "text/plain": [
       "<Figure size 1152x648 with 1 Axes>"
      ]
     },
     "metadata": {
      "needs_background": "light"
     },
     "output_type": "display_data"
    }
   ],
   "source": [
    "# Plot the loss\n",
    "fig, ax = plot_loss_hist(hist=hist, model_name=model_nn.name, key='q_loss', baseline=q_loss_baseline)"
   ]
  },
  {
   "cell_type": "markdown",
   "metadata": {},
   "source": [
    "### Train on Tiny Data Set"
   ]
  },
  {
   "cell_type": "code",
   "execution_count": 79,
   "metadata": {},
   "outputs": [
    {
     "name": "stdout",
     "output_type": "stream",
     "text": [
      "\n",
      "Epoch 0001; loss 5.00e-06; elapsed 0:00:00\n",
      "\r",
      "1/1 [==============================] - 0s 207ms/step - loss: 4.9985e-06 - q_loss: 1.6102e-06 - v_loss: 1.6379e-06 - a_loss: 1.7256e-06 - q0_rec_loss: 1.4879e-14 - v0_rec_loss: 1.3018e-14 - H_loss: 4.1827e-10 - P_loss: 3.9454e-14 - L_loss: 2.4077e-08\n"
     ]
    }
   ],
   "source": [
    "hist = fit_model(model=model_nn,\n",
    "                 folder=folder,\n",
    "                 ds=ds_tiny, \n",
    "                 epochs=epochs,\n",
    "                 save_freq=save_freq,\n",
    "                 prev_history = hist0, \n",
    "                 batch_num=1)"
   ]
  },
  {
   "cell_type": "code",
   "execution_count": 80,
   "metadata": {},
   "outputs": [
    {
     "name": "stdout",
     "output_type": "stream",
     "text": [
      "*** Training loop   1 *** - 2019-08-21 11:56:04\n",
      "Epoch 1/10\n",
      "\n",
      "Epoch 0001; loss 1.16e-06; elapsed 0:00:00\n",
      "1/1 [==============================] - 0s 214ms/step - loss: 1.1567e-06 - q_loss: 8.2738e-08 - v_loss: 7.2455e-08 - a_loss: 1.0006e-06 - q0_rec_loss: 4.1165e-14 - v0_rec_loss: 9.4240e-15 - H_loss: 2.4895e-10 - P_loss: 3.8744e-14 - L_loss: 1.1860e-10\n",
      "Epoch 2/10\n",
      "\n",
      "Epoch 0002; loss 1.87e-06; elapsed 0:00:00\n",
      "1/1 [==============================] - 0s 154ms/step - loss: 1.8720e-06 - q_loss: 1.8962e-07 - v_loss: 2.0604e-07 - a_loss: 1.4584e-06 - q0_rec_loss: 4.1165e-14 - v0_rec_loss: 9.4240e-15 - H_loss: 1.8525e-11 - P_loss: 4.0320e-14 - L_loss: 1.7454e-08\n",
      "Epoch 3/10\n",
      "\n",
      "Epoch 0003; loss 2.27e-06; elapsed 0:00:01\n",
      "1/1 [==============================] - 0s 173ms/step - loss: 2.2683e-06 - q_loss: 3.1813e-07 - v_loss: 3.6863e-07 - a_loss: 1.5455e-06 - q0_rec_loss: 4.1165e-14 - v0_rec_loss: 9.4240e-15 - H_loss: 1.5040e-10 - P_loss: 3.9861e-14 - L_loss: 3.5344e-08\n",
      "Epoch 4/10\n",
      "\n",
      "Epoch 0004; loss 1.70e-06; elapsed 0:00:01\n",
      "1/1 [==============================] - 0s 165ms/step - loss: 1.6950e-06 - q_loss: 2.5985e-07 - v_loss: 2.9197e-07 - a_loss: 1.1225e-06 - q0_rec_loss: 4.1165e-14 - v0_rec_loss: 9.4240e-15 - H_loss: 7.6719e-10 - P_loss: 4.1137e-14 - L_loss: 1.9456e-08\n",
      "Epoch 5/10\n",
      "\n",
      "Epoch 0005; loss 1.28e-06; elapsed 0:00:01\n",
      "1/1 [==============================] - 0s 178ms/step - loss: 1.2809e-06 - q_loss: 2.9314e-07 - v_loss: 2.8831e-07 - a_loss: 6.9721e-07 - q0_rec_loss: 4.1165e-14 - v0_rec_loss: 9.4240e-15 - H_loss: 1.1497e-09 - P_loss: 4.2390e-14 - L_loss: 6.0760e-10\n",
      "Epoch 6/10\n",
      "\n",
      "Epoch 0006; loss 1.51e-06; elapsed 0:00:01\n",
      "1/1 [==============================] - 0s 170ms/step - loss: 1.5149e-06 - q_loss: 4.4881e-07 - v_loss: 4.4591e-07 - a_loss: 6.0927e-07 - q0_rec_loss: 4.1165e-14 - v0_rec_loss: 9.4240e-15 - H_loss: 6.5180e-10 - P_loss: 3.7390e-14 - L_loss: 9.7746e-09\n",
      "Epoch 7/10\n",
      "\n",
      "Epoch 0007; loss 1.71e-06; elapsed 0:00:02\n",
      "1/1 [==============================] - 0s 170ms/step - loss: 1.7055e-06 - q_loss: 4.4432e-07 - v_loss: 4.6734e-07 - a_loss: 7.7003e-07 - q0_rec_loss: 4.1165e-14 - v0_rec_loss: 9.4240e-15 - H_loss: 1.5210e-11 - P_loss: 4.1394e-14 - L_loss: 2.3328e-08\n",
      "Epoch 8/10\n",
      "\n",
      "Epoch 0008; loss 1.54e-06; elapsed 0:00:02\n",
      "1/1 [==============================] - 0s 190ms/step - loss: 1.5412e-06 - q_loss: 2.4930e-07 - v_loss: 2.7205e-07 - a_loss: 1.0047e-06 - q0_rec_loss: 4.1165e-14 - v0_rec_loss: 9.4240e-15 - H_loss: 4.9178e-10 - P_loss: 4.1311e-14 - L_loss: 1.4152e-08\n",
      "Epoch 9/10\n",
      "\n",
      "Epoch 0009; loss 1.37e-06; elapsed 0:00:02\n",
      "1/1 [==============================] - 0s 169ms/step - loss: 1.3709e-06 - q_loss: 9.9555e-08 - v_loss: 9.7362e-08 - a_loss: 1.1711e-06 - q0_rec_loss: 4.1165e-14 - v0_rec_loss: 9.4240e-15 - H_loss: 1.5984e-09 - P_loss: 4.0754e-14 - L_loss: 7.3104e-10\n",
      "Epoch 10/10\n",
      "\n",
      "Epoch 0010; loss 1.35e-06; elapsed 0:00:02\n",
      "1/1 [==============================] - 0s 170ms/step - loss: 1.3529e-06 - q_loss: 1.0049e-07 - v_loss: 8.9526e-08 - a_loss: 1.1546e-06 - q0_rec_loss: 4.1165e-14 - v0_rec_loss: 9.4240e-15 - H_loss: 1.5582e-09 - P_loss: 3.8869e-14 - L_loss: 6.2055e-09\n",
      "*** Training loop   2 *** - 2019-08-21 11:56:06\n",
      "Epoch 1/10\n",
      "\n",
      "Epoch 0001; loss 1.87e-06; elapsed 0:00:00\n",
      "1/1 [==============================] - 0s 171ms/step - loss: 1.8720e-06 - q_loss: 1.8962e-07 - v_loss: 2.0604e-07 - a_loss: 1.4584e-06 - q0_rec_loss: 4.1165e-14 - v0_rec_loss: 9.4240e-15 - H_loss: 1.8525e-11 - P_loss: 4.0320e-14 - L_loss: 1.7454e-08\n",
      "Epoch 2/10\n",
      "\n",
      "Epoch 0002; loss 1.47e-06; elapsed 0:00:00\n",
      "1/1 [==============================] - 0s 204ms/step - loss: 1.4747e-06 - q_loss: 2.4133e-07 - v_loss: 2.5895e-07 - a_loss: 9.6323e-07 - q0_rec_loss: 4.1165e-14 - v0_rec_loss: 9.4240e-15 - H_loss: 4.1822e-10 - P_loss: 3.8439e-14 - L_loss: 1.0233e-08\n",
      "Epoch 3/10\n",
      "\n",
      "Epoch 0003; loss 1.57e-06; elapsed 0:00:01\n",
      "1/1 [==============================] - 0s 151ms/step - loss: 1.5743e-06 - q_loss: 4.6269e-07 - v_loss: 4.6011e-07 - a_loss: 6.4919e-07 - q0_rec_loss: 4.1165e-14 - v0_rec_loss: 9.4240e-15 - H_loss: 1.3971e-09 - P_loss: 3.9515e-14 - L_loss: 4.4185e-10\n",
      "Epoch 4/10\n",
      "\n",
      "Epoch 0004; loss 1.63e-06; elapsed 0:00:01\n",
      "1/1 [==============================] - 0s 173ms/step - loss: 1.6328e-06 - q_loss: 5.3220e-07 - v_loss: 5.2302e-07 - a_loss: 5.7051e-07 - q0_rec_loss: 4.1165e-14 - v0_rec_loss: 9.4240e-15 - H_loss: 1.3481e-09 - P_loss: 3.8738e-14 - L_loss: 5.2361e-09\n",
      "Epoch 5/10\n",
      "\n",
      "Epoch 0005; loss 1.38e-06; elapsed 0:00:01\n",
      "1/1 [==============================] - 0s 189ms/step - loss: 1.3808e-06 - q_loss: 3.2147e-07 - v_loss: 3.2445e-07 - a_loss: 7.2223e-07 - q0_rec_loss: 4.1165e-14 - v0_rec_loss: 9.4240e-15 - H_loss: 2.9688e-10 - P_loss: 4.0914e-14 - L_loss: 1.1857e-08\n",
      "Epoch 6/10\n",
      "\n",
      "Epoch 0006; loss 1.41e-06; elapsed 0:00:01\n",
      "1/1 [==============================] - 0s 156ms/step - loss: 1.4070e-06 - q_loss: 1.3875e-07 - v_loss: 1.4563e-07 - a_loss: 1.1155e-06 - q0_rec_loss: 4.1165e-14 - v0_rec_loss: 9.4240e-15 - H_loss: 1.4721e-10 - P_loss: 4.3496e-14 - L_loss: 6.4364e-09\n",
      "Epoch 7/10\n",
      "\n",
      "Epoch 0007; loss 1.56e-06; elapsed 0:00:02\n",
      "1/1 [==============================] - 0s 164ms/step - loss: 1.5631e-06 - q_loss: 9.5194e-08 - v_loss: 9.0191e-08 - a_loss: 1.3757e-06 - q0_rec_loss: 4.1165e-14 - v0_rec_loss: 9.4240e-15 - H_loss: 1.3225e-09 - P_loss: 3.9784e-14 - L_loss: 2.2627e-10\n",
      "Epoch 8/10\n",
      "\n",
      "Epoch 0008; loss 1.36e-06; elapsed 0:00:02\n",
      "1/1 [==============================] - 0s 169ms/step - loss: 1.3640e-06 - q_loss: 8.8815e-08 - v_loss: 7.6805e-08 - a_loss: 1.1919e-06 - q0_rec_loss: 4.1165e-14 - v0_rec_loss: 9.4240e-15 - H_loss: 1.7964e-09 - P_loss: 3.7850e-14 - L_loss: 4.1664e-09\n",
      "Epoch 9/10\n",
      "\n",
      "Epoch 0009; loss 1.21e-06; elapsed 0:00:02\n",
      "1/1 [==============================] - 0s 187ms/step - loss: 1.2112e-06 - q_loss: 1.8006e-07 - v_loss: 1.7477e-07 - a_loss: 8.4707e-07 - q0_rec_loss: 4.1165e-14 - v0_rec_loss: 9.4240e-15 - H_loss: 6.9420e-10 - P_loss: 4.0265e-14 - L_loss: 8.1301e-09\n",
      "Epoch 10/10\n",
      "\n",
      "Epoch 0010; loss 1.39e-06; elapsed 0:00:02\n",
      "1/1 [==============================] - 0s 158ms/step - loss: 1.3864e-06 - q_loss: 3.4938e-07 - v_loss: 3.4905e-07 - a_loss: 6.8371e-07 - q0_rec_loss: 4.1165e-14 - v0_rec_loss: 9.4240e-15 - H_loss: 1.3344e-11 - P_loss: 4.1457e-14 - L_loss: 3.7213e-09\n",
      "*** Training loop   3 *** - 2019-08-21 11:56:09\n",
      "Epoch 1/10\n",
      "\n",
      "Epoch 0001; loss 1.39e-06; elapsed 0:00:00\n",
      "1/1 [==============================] - 0s 193ms/step - loss: 1.3864e-06 - q_loss: 3.4938e-07 - v_loss: 3.4905e-07 - a_loss: 6.8371e-07 - q0_rec_loss: 4.1165e-14 - v0_rec_loss: 9.4240e-15 - H_loss: 1.3344e-11 - P_loss: 4.1457e-14 - L_loss: 3.7213e-09\n",
      "Epoch 2/10\n",
      "\n",
      "Epoch 0002; loss 1.16e-06; elapsed 0:00:00\n",
      "1/1 [==============================] - 0s 194ms/step - loss: 1.1559e-06 - q_loss: 2.0170e-07 - v_loss: 1.9139e-07 - a_loss: 7.6024e-07 - q0_rec_loss: 4.1165e-14 - v0_rec_loss: 9.4240e-15 - H_loss: 8.9753e-10 - P_loss: 4.0432e-14 - L_loss: 1.1421e-09\n",
      "Epoch 3/10\n",
      "\n",
      "Epoch 0003; loss 1.27e-06; elapsed 0:00:01\n",
      "1/1 [==============================] - 0s 165ms/step - loss: 1.2687e-06 - q_loss: 1.4346e-07 - v_loss: 1.3534e-07 - a_loss: 9.7828e-07 - q0_rec_loss: 4.1165e-14 - v0_rec_loss: 9.4240e-15 - H_loss: 1.5134e-09 - P_loss: 4.2547e-14 - L_loss: 9.6450e-09\n",
      "Epoch 4/10\n",
      "\n",
      "Epoch 0004; loss 1.39e-06; elapsed 0:00:01\n",
      "1/1 [==============================] - 0s 153ms/step - loss: 1.3851e-06 - q_loss: 1.2550e-07 - v_loss: 1.2330e-07 - a_loss: 1.1256e-06 - q0_rec_loss: 4.1165e-14 - v0_rec_loss: 9.4240e-15 - H_loss: 6.2980e-10 - P_loss: 3.9813e-14 - L_loss: 9.5451e-09\n",
      "Epoch 5/10\n",
      "\n",
      "Epoch 0005; loss 1.21e-06; elapsed 0:00:01\n",
      "1/1 [==============================] - 0s 174ms/step - loss: 1.2076e-06 - q_loss: 9.2522e-08 - v_loss: 8.7346e-08 - a_loss: 1.0258e-06 - q0_rec_loss: 4.1165e-14 - v0_rec_loss: 9.4240e-15 - H_loss: 1.0663e-11 - P_loss: 3.7256e-14 - L_loss: 1.4362e-09\n",
      "Epoch 6/10\n",
      "\n",
      "Epoch 0006; loss 1.14e-06; elapsed 0:00:01\n",
      "1/1 [==============================] - 0s 182ms/step - loss: 1.1382e-06 - q_loss: 1.5958e-07 - v_loss: 1.4876e-07 - a_loss: 8.2685e-07 - q0_rec_loss: 4.1165e-14 - v0_rec_loss: 9.4240e-15 - H_loss: 8.6345e-10 - P_loss: 4.1252e-14 - L_loss: 1.6251e-09\n",
      "Epoch 7/10\n",
      "\n",
      "Epoch 0007; loss 1.28e-06; elapsed 0:00:02\n",
      "1/1 [==============================] - 0s 179ms/step - loss: 1.2807e-06 - q_loss: 2.8167e-07 - v_loss: 2.7217e-07 - a_loss: 7.1756e-07 - q0_rec_loss: 4.1165e-14 - v0_rec_loss: 9.4240e-15 - H_loss: 1.4415e-09 - P_loss: 3.9348e-14 - L_loss: 7.3773e-09\n"
     ]
    },
    {
     "name": "stdout",
     "output_type": "stream",
     "text": [
      "Epoch 8/10\n",
      "\n",
      "Epoch 0008; loss 1.25e-06; elapsed 0:00:02\n",
      "1/1 [==============================] - 0s 159ms/step - loss: 1.2494e-06 - q_loss: 2.6606e-07 - v_loss: 2.6002e-07 - a_loss: 7.1671e-07 - q0_rec_loss: 4.1165e-14 - v0_rec_loss: 9.4240e-15 - H_loss: 5.9326e-10 - P_loss: 3.6931e-14 - L_loss: 5.5026e-09\n",
      "Epoch 9/10\n",
      "\n",
      "Epoch 0009; loss 1.11e-06; elapsed 0:00:02\n",
      "1/1 [==============================] - 0s 191ms/step - loss: 1.1124e-06 - q_loss: 1.5019e-07 - v_loss: 1.4239e-07 - a_loss: 8.1900e-07 - q0_rec_loss: 4.1165e-14 - v0_rec_loss: 9.4240e-15 - H_loss: 9.0704e-12 - P_loss: 4.1647e-14 - L_loss: 3.0305e-10\n",
      "Epoch 10/10\n",
      "\n",
      "Epoch 0010; loss 1.17e-06; elapsed 0:00:02\n",
      "1/1 [==============================] - 0s 164ms/step - loss: 1.1707e-06 - q_loss: 1.0095e-07 - v_loss: 8.9757e-08 - a_loss: 9.7666e-07 - q0_rec_loss: 4.1165e-14 - v0_rec_loss: 9.4240e-15 - H_loss: 7.6801e-10 - P_loss: 4.1036e-14 - L_loss: 2.0496e-09\n",
      "*** Training loop   4 *** - 2019-08-21 11:56:11\n",
      "Epoch 1/10\n",
      "\n",
      "Epoch 0001; loss 1.17e-06; elapsed 0:00:00\n",
      "1/1 [==============================] - 0s 184ms/step - loss: 1.1707e-06 - q_loss: 1.0095e-07 - v_loss: 8.9757e-08 - a_loss: 9.7666e-07 - q0_rec_loss: 4.1165e-14 - v0_rec_loss: 9.4240e-15 - H_loss: 7.6801e-10 - P_loss: 4.1036e-14 - L_loss: 2.0496e-09\n",
      "Epoch 2/10\n",
      "\n",
      "Epoch 0002; loss 1.12e-06; elapsed 0:00:00\n",
      "1/1 [==============================] - 0s 195ms/step - loss: 1.1234e-06 - q_loss: 1.1157e-07 - v_loss: 1.0194e-07 - a_loss: 9.0718e-07 - q0_rec_loss: 4.1165e-14 - v0_rec_loss: 9.4240e-15 - H_loss: 3.9642e-10 - P_loss: 4.5036e-14 - L_loss: 1.7914e-09\n",
      "Epoch 3/10\n",
      "\n",
      "Epoch 0003; loss 1.10e-06; elapsed 0:00:01\n",
      "1/1 [==============================] - 0s 180ms/step - loss: 1.1024e-06 - q_loss: 1.4799e-07 - v_loss: 1.3971e-07 - a_loss: 8.1402e-07 - q0_rec_loss: 4.1165e-14 - v0_rec_loss: 9.4240e-15 - H_loss: 1.4272e-12 - P_loss: 4.0345e-14 - L_loss: 1.6266e-10\n",
      "Epoch 4/10\n",
      "\n",
      "Epoch 0004; loss 1.14e-06; elapsed 0:00:01\n",
      "1/1 [==============================] - 0s 152ms/step - loss: 1.1429e-06 - q_loss: 1.8907e-07 - v_loss: 1.7956e-07 - a_loss: 7.7294e-07 - q0_rec_loss: 4.1165e-14 - v0_rec_loss: 9.4240e-15 - H_loss: 3.2122e-10 - P_loss: 4.0893e-14 - L_loss: 4.9763e-10\n",
      "Epoch 5/10\n",
      "\n",
      "Epoch 0005; loss 1.14e-06; elapsed 0:00:01\n",
      "1/1 [==============================] - 0s 140ms/step - loss: 1.1411e-06 - q_loss: 1.7973e-07 - v_loss: 1.6907e-07 - a_loss: 7.8947e-07 - q0_rec_loss: 4.1165e-14 - v0_rec_loss: 9.4240e-15 - H_loss: 6.9408e-10 - P_loss: 3.9964e-14 - L_loss: 1.5903e-09\n",
      "Epoch 6/10\n",
      "\n",
      "Epoch 0006; loss 1.10e-06; elapsed 0:00:01\n",
      "1/1 [==============================] - 0s 171ms/step - loss: 1.1001e-06 - q_loss: 1.2864e-07 - v_loss: 1.1857e-07 - a_loss: 8.5108e-07 - q0_rec_loss: 4.1165e-14 - v0_rec_loss: 9.4240e-15 - H_loss: 3.8547e-10 - P_loss: 3.8879e-14 - L_loss: 9.1389e-10\n",
      "Epoch 7/10\n",
      "\n",
      "Epoch 0007; loss 1.10e-06; elapsed 0:00:01\n",
      "1/1 [==============================] - 0s 161ms/step - loss: 1.1027e-06 - q_loss: 9.5716e-08 - v_loss: 8.6140e-08 - a_loss: 9.2033e-07 - q0_rec_loss: 4.1165e-14 - v0_rec_loss: 9.4240e-15 - H_loss: 4.3236e-12 - P_loss: 3.8871e-14 - L_loss: 9.8392e-12\n",
      "Epoch 8/10\n",
      "\n",
      "Epoch 0008; loss 1.12e-06; elapsed 0:00:02\n",
      "1/1 [==============================] - 0s 160ms/step - loss: 1.1248e-06 - q_loss: 1.0154e-07 - v_loss: 9.1285e-08 - a_loss: 9.3055e-07 - q0_rec_loss: 4.1165e-14 - v0_rec_loss: 9.4240e-15 - H_loss: 2.5298e-10 - P_loss: 4.0686e-14 - L_loss: 6.2837e-10\n",
      "Epoch 9/10\n",
      "\n",
      "Epoch 0009; loss 1.12e-06; elapsed 0:00:02\n",
      "1/1 [==============================] - 0s 140ms/step - loss: 1.1153e-06 - q_loss: 1.2775e-07 - v_loss: 1.1710e-07 - a_loss: 8.6827e-07 - q0_rec_loss: 4.1165e-14 - v0_rec_loss: 9.4240e-15 - H_loss: 5.7309e-10 - P_loss: 4.2328e-14 - L_loss: 1.0948e-09\n",
      "Epoch 10/10\n",
      "\n",
      "Epoch 0010; loss 1.10e-06; elapsed 0:00:02\n",
      "1/1 [==============================] - 0s 162ms/step - loss: 1.0989e-06 - q_loss: 1.5493e-07 - v_loss: 1.4488e-07 - a_loss: 7.9793e-07 - q0_rec_loss: 4.1165e-14 - v0_rec_loss: 9.4240e-15 - H_loss: 3.2263e-10 - P_loss: 4.2143e-14 - L_loss: 3.6515e-10\n",
      "*** Training loop   5 *** - 2019-08-21 11:56:13\n",
      "Epoch 1/10\n",
      "\n",
      "Epoch 0001; loss 1.10e-06; elapsed 0:00:00\n",
      "1/1 [==============================] - 0s 184ms/step - loss: 1.0993e-06 - q_loss: 1.6340e-07 - v_loss: 1.5376e-07 - a_loss: 7.8157e-07 - q0_rec_loss: 4.1165e-14 - v0_rec_loss: 9.4240e-15 - H_loss: 4.2442e-12 - P_loss: 3.9625e-14 - L_loss: 6.2199e-11\n",
      "Epoch 2/10\n",
      "\n",
      "Epoch 0002; loss 1.11e-06; elapsed 0:00:00\n",
      "1/1 [==============================] - 0s 154ms/step - loss: 1.1051e-06 - q_loss: 1.4440e-07 - v_loss: 1.3437e-07 - a_loss: 8.2500e-07 - q0_rec_loss: 4.1165e-14 - v0_rec_loss: 9.4240e-15 - H_loss: 1.9894e-10 - P_loss: 4.1167e-14 - L_loss: 6.3002e-10\n",
      "Epoch 3/10\n",
      "\n",
      "Epoch 0003; loss 1.11e-06; elapsed 0:00:01\n",
      "1/1 [==============================] - 0s 162ms/step - loss: 1.1062e-06 - q_loss: 1.1433e-07 - v_loss: 1.0396e-07 - a_loss: 8.8634e-07 - q0_rec_loss: 4.1165e-14 - v0_rec_loss: 9.4240e-15 - H_loss: 4.4244e-10 - P_loss: 3.9334e-14 - L_loss: 6.3211e-10\n",
      "Epoch 4/10\n",
      "\n",
      "Epoch 0004; loss 1.10e-06; elapsed 0:00:01\n",
      "1/1 [==============================] - 0s 189ms/step - loss: 1.0979e-06 - q_loss: 9.8119e-08 - v_loss: 8.7961e-08 - a_loss: 9.1096e-07 - q0_rec_loss: 4.1165e-14 - v0_rec_loss: 9.4240e-15 - H_loss: 2.3662e-10 - P_loss: 4.0430e-14 - L_loss: 9.7946e-11\n",
      "Epoch 5/10\n",
      "\n",
      "Epoch 0005; loss 1.09e-06; elapsed 0:00:01\n",
      "1/1 [==============================] - 0s 194ms/step - loss: 1.0905e-06 - q_loss: 1.0903e-07 - v_loss: 9.9052e-08 - a_loss: 8.8169e-07 - q0_rec_loss: 4.1165e-14 - v0_rec_loss: 9.4240e-15 - H_loss: 1.6632e-12 - P_loss: 3.9136e-14 - L_loss: 1.7541e-10\n",
      "Epoch 6/10\n",
      "\n",
      "Epoch 0006; loss 1.10e-06; elapsed 0:00:01\n",
      "1/1 [==============================] - 0s 172ms/step - loss: 1.0977e-06 - q_loss: 1.3748e-07 - v_loss: 1.2739e-07 - a_loss: 8.3170e-07 - q0_rec_loss: 4.1165e-14 - v0_rec_loss: 9.4240e-15 - H_loss: 1.5707e-10 - P_loss: 3.8950e-14 - L_loss: 5.0741e-10\n",
      "Epoch 7/10\n",
      "\n",
      "Epoch 0007; loss 1.10e-06; elapsed 0:00:01\n",
      "1/1 [==============================] - 0s 165ms/step - loss: 1.1019e-06 - q_loss: 1.5434e-07 - v_loss: 1.4425e-07 - a_loss: 8.0216e-07 - q0_rec_loss: 4.1165e-14 - v0_rec_loss: 9.4240e-15 - H_loss: 3.2424e-10 - P_loss: 4.0526e-14 - L_loss: 2.8293e-10\n",
      "Epoch 8/10\n",
      "\n",
      "Epoch 0008; loss 1.09e-06; elapsed 0:00:02\n",
      "1/1 [==============================] - 0s 168ms/step - loss: 1.0906e-06 - q_loss: 1.4381e-07 - v_loss: 1.3391e-07 - a_loss: 8.1219e-07 - q0_rec_loss: 4.1165e-14 - v0_rec_loss: 9.4240e-15 - H_loss: 1.5754e-10 - P_loss: 3.8467e-14 - L_loss: 3.9522e-11\n",
      "Epoch 9/10\n",
      "\n",
      "Epoch 0009; loss 1.09e-06; elapsed 0:00:02\n",
      "1/1 [==============================] - 0s 199ms/step - loss: 1.0878e-06 - q_loss: 1.2130e-07 - v_loss: 1.1140e-07 - a_loss: 8.5438e-07 - q0_rec_loss: 4.1165e-14 - v0_rec_loss: 9.4240e-15 - H_loss: 1.7189e-13 - P_loss: 3.8669e-14 - L_loss: 2.4599e-10\n",
      "Epoch 10/10\n",
      "\n",
      "Epoch 0010; loss 1.10e-06; elapsed 0:00:02\n",
      "1/1 [==============================] - 0s 175ms/step - loss: 1.0963e-06 - q_loss: 1.0673e-07 - v_loss: 9.6687e-08 - a_loss: 8.9197e-07 - q0_rec_loss: 4.1165e-14 - v0_rec_loss: 9.4240e-15 - H_loss: 1.2328e-10 - P_loss: 3.9700e-14 - L_loss: 3.1688e-10\n"
     ]
    }
   ],
   "source": [
    "for i in range_inc(1, 5):\n",
    "    ts = datetime.datetime.now()\n",
    "    st = ts.strftime('%Y-%m-%d %H:%M:%S')\n",
    "    print(f'*** Training loop {i:3} *** - {st}')\n",
    "    hist = fit_model(model=model_nn,\n",
    "                     folder=folder,\n",
    "                     ds=ds_sej0, \n",
    "                     epochs=10,\n",
    "                     save_freq=save_freq,\n",
    "                     prev_history = hist, \n",
    "                     batch_num=i)\n",
    "    vartbl[hist_name] = hist\n",
    "    save_vartbl(vartbl, fname)"
   ]
  },
  {
   "cell_type": "code",
   "execution_count": 81,
   "metadata": {},
   "outputs": [
    {
     "name": "stdout",
     "output_type": "stream",
     "text": [
      "\r",
      "1/1 [==============================] - 0s 117ms/step - loss: 1.0963e-06 - q_loss: 1.0673e-07 - v_loss: 9.6687e-08 - a_loss: 8.9197e-07 - q0_rec_loss: 4.1165e-14 - v0_rec_loss: 9.4240e-15 - H_loss: 1.2328e-10 - P_loss: 3.9700e-14 - L_loss: 3.1688e-10\n"
     ]
    },
    {
     "data": {
      "text/plain": [
       "[1.0963332215396804e-06,\n",
       " 1.0673262e-07,\n",
       " 9.668671e-08,\n",
       " 8.919678e-07,\n",
       " 4.116526e-14,\n",
       " 9.423976e-15,\n",
       " 1.2328481e-10,\n",
       " 3.9699513e-14,\n",
       " 3.168825e-10]"
      ]
     },
     "execution_count": 81,
     "metadata": {},
     "output_type": "execute_result"
    }
   ],
   "source": [
    "model_nn.evaluate(ds_sej0)"
   ]
  },
  {
   "cell_type": "code",
   "execution_count": 82,
   "metadata": {},
   "outputs": [
    {
     "data": {
      "image/png": "[encoded data removed]",
      "text/plain": [
       "<Figure size 1152x648 with 1 Axes>"
      ]
     },
     "metadata": {
      "needs_background": "light"
     },
     "output_type": "display_data"
    }
   ],
   "source": [
    "# Plot the loss\n",
    "fig, ax = plot_loss_hist(hist=hist, model_name=model_nn.name, key='q_loss', baseline=q_loss_baseline)"
   ]
  },
  {
   "cell_type": "markdown",
   "metadata": {},
   "source": [
    "### Train on Full Data Set"
   ]
  },
  {
   "cell_type": "code",
   "execution_count": 83,
   "metadata": {},
   "outputs": [
    {
     "name": "stdout",
     "output_type": "stream",
     "text": [
      "Unable to load model_sej_nn_ from ../models/g3b/model_sej_nn_.h5. Fitting...\n",
      "194/195 [============================>.] - ETA: 0s - loss: 3.3226e-06 - q_loss: 8.4124e-07 - v_loss: 8.3181e-07 - a_loss: 1.6493e-06 - q0_rec_loss: 1.4524e-14 - v0_rec_loss: 1.2677e-14 - H_loss: 3.7784e-12 - P_loss: 3.9296e-14 - L_loss: 1.8879e-11\n",
      "Epoch 0001; loss 3.32e-06; elapsed 0:00:44\n",
      "195/195 [==============================] - 36s 184ms/step - loss: 3.3215e-06 - q_loss: 8.4152e-07 - v_loss: 8.3210e-07 - a_loss: 1.6476e-06 - q0_rec_loss: 1.4524e-14 - v0_rec_loss: 1.2677e-14 - H_loss: 3.7597e-12 - P_loss: 3.9297e-14 - L_loss: 1.8784e-11\n"
     ]
    }
   ],
   "source": [
    "# Attempt to load model or train a single epoch\n",
    "try:\n",
    "    model_nn.load_weights(model_h5)\n",
    "    model_nn.compile(loss=loss, optimizer=optimizer, metrics=metrics, loss_weights=loss_weights)\n",
    "    hist = vartbl[hist_name]\n",
    "    print(f'Loaded {model_name} from {model_h5}.')\n",
    "except:\n",
    "    print(f'Unable to load {model_name} from {model_h5}. Fitting...')\n",
    "    hist = fit_model(model=model_nn,\n",
    "                     folder=folder,\n",
    "                     ds=ds_trn, \n",
    "                     epochs=epochs,\n",
    "                     save_freq=save_freq,\n",
    "                     prev_history = hist0, \n",
    "                     batch_num=1)\n",
    "    vartbl[hist_name] = hist\n",
    "    save_vartbl(vartbl, fname)"
   ]
  },
  {
   "cell_type": "code",
   "execution_count": 85,
   "metadata": {},
   "outputs": [
    {
     "name": "stdout",
     "output_type": "stream",
     "text": [
      "*** Training loop   1 *** - 2019-08-21 11:59:01\n",
      "194/195 [============================>.] - ETA: 0s - loss: 2.8693e-06 - q_loss: 6.9185e-07 - v_loss: 6.8342e-07 - a_loss: 1.4938e-06 - q0_rec_loss: 1.4524e-14 - v0_rec_loss: 1.2677e-14 - H_loss: 1.1438e-13 - P_loss: 3.9290e-14 - L_loss: 3.7806e-13\n",
      "Epoch 0001; loss 2.87e-06; elapsed 0:00:43\n",
      "195/195 [==============================] - 35s 180ms/step - loss: 2.8679e-06 - q_loss: 6.9150e-07 - v_loss: 6.8306e-07 - a_loss: 1.4930e-06 - q0_rec_loss: 1.4524e-14 - v0_rec_loss: 1.2677e-14 - H_loss: 1.1435e-13 - P_loss: 3.9290e-14 - L_loss: 3.7797e-13\n",
      "*** Training loop   2 *** - 2019-08-21 11:59:45\n",
      "194/195 [============================>.] - ETA: 0s - loss: 2.5717e-06 - q_loss: 5.9403e-07 - v_loss: 5.8666e-07 - a_loss: 1.3907e-06 - q0_rec_loss: 1.4524e-14 - v0_rec_loss: 1.2677e-14 - H_loss: 1.0981e-13 - P_loss: 3.9296e-14 - L_loss: 3.0138e-13\n",
      "Epoch 0001; loss 2.57e-06; elapsed 0:00:43\n",
      "195/195 [==============================] - 35s 178ms/step - loss: 2.5711e-06 - q_loss: 5.9319e-07 - v_loss: 5.8582e-07 - a_loss: 1.3918e-06 - q0_rec_loss: 1.4524e-14 - v0_rec_loss: 1.2677e-14 - H_loss: 1.0979e-13 - P_loss: 3.9296e-14 - L_loss: 3.0123e-13\n",
      "*** Training loop   3 *** - 2019-08-21 12:00:28\n",
      "194/195 [============================>.] - ETA: 0s - loss: 2.3145e-06 - q_loss: 5.0889e-07 - v_loss: 5.0250e-07 - a_loss: 1.3029e-06 - q0_rec_loss: 1.4524e-14 - v0_rec_loss: 1.2677e-14 - H_loss: 1.0806e-13 - P_loss: 3.9290e-14 - L_loss: 2.5761e-13\n",
      "Epoch 0001; loss 2.31e-06; elapsed 0:00:43\n",
      "195/195 [==============================] - 34s 177ms/step - loss: 2.3137e-06 - q_loss: 5.0894e-07 - v_loss: 5.0255e-07 - a_loss: 1.3019e-06 - q0_rec_loss: 1.4524e-14 - v0_rec_loss: 1.2677e-14 - H_loss: 1.0811e-13 - P_loss: 3.9290e-14 - L_loss: 2.5818e-13\n",
      "*** Training loop   4 *** - 2019-08-21 12:01:11\n",
      "194/195 [============================>.] - ETA: 0s - loss: 2.1201e-06 - q_loss: 4.4509e-07 - v_loss: 4.3951e-07 - a_loss: 1.2352e-06 - q0_rec_loss: 1.4524e-14 - v0_rec_loss: 1.2677e-14 - H_loss: 1.1577e-13 - P_loss: 3.9286e-14 - L_loss: 2.1434e-13\n",
      "Epoch 0001; loss 2.12e-06; elapsed 0:00:42\n",
      "195/195 [==============================] - 34s 174ms/step - loss: 2.1192e-06 - q_loss: 4.4470e-07 - v_loss: 4.3913e-07 - a_loss: 1.2351e-06 - q0_rec_loss: 1.4524e-14 - v0_rec_loss: 1.2677e-14 - H_loss: 1.1635e-13 - P_loss: 3.9286e-14 - L_loss: 2.1456e-13\n",
      "*** Training loop   5 *** - 2019-08-21 12:01:53\n",
      "194/195 [============================>.] - ETA: 0s - loss: 2.0031e-06 - q_loss: 4.0652e-07 - v_loss: 4.0157e-07 - a_loss: 1.1947e-06 - q0_rec_loss: 1.4524e-14 - v0_rec_loss: 1.2677e-14 - H_loss: 1.4147e-13 - P_loss: 3.9293e-14 - L_loss: 2.1052e-13\n",
      "Epoch 0001; loss 2.00e-06; elapsed 0:00:42\n",
      "195/195 [==============================] - 34s 173ms/step - loss: 2.0039e-06 - q_loss: 4.0586e-07 - v_loss: 4.0091e-07 - a_loss: 1.1969e-06 - q0_rec_loss: 1.4524e-14 - v0_rec_loss: 1.2677e-14 - H_loss: 1.4127e-13 - P_loss: 3.9292e-14 - L_loss: 2.1021e-13\n",
      "*** Training loop   6 *** - 2019-08-21 12:02:35\n",
      "194/195 [============================>.] - ETA: 0s - loss: 1.8310e-06 - q_loss: 3.5025e-07 - v_loss: 3.4576e-07 - a_loss: 1.1347e-06 - q0_rec_loss: 1.4524e-14 - v0_rec_loss: 1.2677e-14 - H_loss: 2.2761e-13 - P_loss: 3.9294e-14 - L_loss: 3.3286e-13\n",
      "Epoch 0001; loss 1.83e-06; elapsed 0:00:43\n",
      "195/195 [==============================] - 35s 177ms/step - loss: 1.8337e-06 - q_loss: 3.4987e-07 - v_loss: 3.4538e-07 - a_loss: 1.1382e-06 - q0_rec_loss: 1.4524e-14 - v0_rec_loss: 1.2677e-14 - H_loss: 2.2989e-13 - P_loss: 3.9294e-14 - L_loss: 3.3845e-13\n",
      "*** Training loop   7 *** - 2019-08-21 12:03:18\n",
      "194/195 [============================>.] - ETA: 0s - loss: 2.0653e-06 - q_loss: 4.4240e-07 - v_loss: 4.4193e-07 - a_loss: 1.1579e-06 - q0_rec_loss: 1.4524e-14 - v0_rec_loss: 1.2677e-14 - H_loss: 5.3654e-10 - P_loss: 3.9285e-14 - L_loss: 2.2259e-08\n",
      "Epoch 0001; loss 2.07e-06; elapsed 0:00:42\n",
      "195/195 [==============================] - 34s 174ms/step - loss: 2.0680e-06 - q_loss: 4.4169e-07 - v_loss: 4.4119e-07 - a_loss: 1.1622e-06 - q0_rec_loss: 1.4524e-14 - v0_rec_loss: 1.2677e-14 - H_loss: 5.3384e-10 - P_loss: 3.9286e-14 - L_loss: 2.2145e-08\n",
      "*** Training loop   8 *** - 2019-08-21 12:04:01\n",
      "194/195 [============================>.] - ETA: 0s - loss: 2.3493e-06 - q_loss: 5.5521e-07 - v_loss: 5.6814e-07 - a_loss: 1.1943e-06 - q0_rec_loss: 1.4524e-14 - v0_rec_loss: 1.2677e-14 - H_loss: 1.5451e-09 - P_loss: 3.9305e-14 - L_loss: 2.9922e-08\n",
      "Epoch 0001; loss 2.35e-06; elapsed 0:00:43\n",
      "195/195 [==============================] - 34s 176ms/step - loss: 2.3493e-06 - q_loss: 5.5437e-07 - v_loss: 5.6730e-07 - a_loss: 1.1961e-06 - q0_rec_loss: 1.4524e-14 - v0_rec_loss: 1.2677e-14 - H_loss: 1.5423e-09 - P_loss: 3.9306e-14 - L_loss: 2.9772e-08\n",
      "*** Training loop   9 *** - 2019-08-21 12:04:43\n",
      "194/195 [============================>.] - ETA: 0s - loss: 2.1351e-06 - q_loss: 4.6022e-07 - v_loss: 4.6626e-07 - a_loss: 1.1817e-06 - q0_rec_loss: 1.4524e-14 - v0_rec_loss: 1.2677e-14 - H_loss: 7.8108e-10 - P_loss: 3.9304e-14 - L_loss: 2.5918e-08\n",
      "Epoch 0001; loss 2.14e-06; elapsed 0:00:42\n",
      "195/195 [==============================] - 34s 172ms/step - loss: 2.1365e-06 - q_loss: 4.6024e-07 - v_loss: 4.6634e-07 - a_loss: 1.1831e-06 - q0_rec_loss: 1.4524e-14 - v0_rec_loss: 1.2677e-14 - H_loss: 7.8162e-10 - P_loss: 3.9305e-14 - L_loss: 2.5805e-08\n",
      "*** Training loop  10 *** - 2019-08-21 12:05:25\n",
      "194/195 [============================>.] - ETA: 0s - loss: 2.1004e-06 - q_loss: 4.4531e-07 - v_loss: 4.5058e-07 - a_loss: 1.1836e-06 - q0_rec_loss: 1.4524e-14 - v0_rec_loss: 1.2677e-14 - H_loss: 7.4181e-10 - P_loss: 3.9300e-14 - L_loss: 1.9927e-08\n",
      "Epoch 0001; loss 2.10e-06; elapsed 0:00:42\n",
      "195/195 [==============================] - 34s 174ms/step - loss: 2.0992e-06 - q_loss: 4.4417e-07 - v_loss: 4.4939e-07 - a_loss: 1.1847e-06 - q0_rec_loss: 1.4524e-14 - v0_rec_loss: 1.2677e-14 - H_loss: 7.3801e-10 - P_loss: 3.9301e-14 - L_loss: 1.9895e-08\n",
      "*** Training loop  11 *** - 2019-08-21 12:06:08\n",
      "194/195 [============================>.] - ETA: 0s - loss: 2.0592e-06 - q_loss: 4.2994e-07 - v_loss: 4.3431e-07 - a_loss: 1.1816e-06 - q0_rec_loss: 1.4524e-14 - v0_rec_loss: 1.2677e-14 - H_loss: 6.8736e-10 - P_loss: 3.9284e-14 - L_loss: 1.2366e-08\n",
      "Epoch 0001; loss 2.06e-06; elapsed 0:00:42\n",
      "195/195 [==============================] - 34s 172ms/step - loss: 2.0601e-06 - q_loss: 4.2919e-07 - v_loss: 4.3352e-07 - a_loss: 1.1824e-06 - q0_rec_loss: 1.4524e-14 - v0_rec_loss: 1.2677e-14 - H_loss: 6.8398e-10 - P_loss: 3.9285e-14 - L_loss: 1.4024e-08\n",
      "*** Training loop  12 *** - 2019-08-21 12:06:50\n",
      "194/195 [============================>.] - ETA: 0s - loss: 1.9948e-06 - q_loss: 4.0713e-07 - v_loss: 4.1071e-07 - a_loss: 1.1518e-06 - q0_rec_loss: 1.4524e-14 - v0_rec_loss: 1.2677e-14 - H_loss: 6.3906e-10 - P_loss: 3.9296e-14 - L_loss: 2.4284e-08\n",
      "Epoch 0001; loss 2.00e-06; elapsed 0:00:42\n",
      "195/195 [==============================] - 34s 172ms/step - loss: 1.9965e-06 - q_loss: 4.0658e-07 - v_loss: 4.1002e-07 - a_loss: 1.1548e-06 - q0_rec_loss: 1.4524e-14 - v0_rec_loss: 1.2677e-14 - H_loss: 6.3896e-10 - P_loss: 3.9297e-14 - L_loss: 2.4178e-08\n",
      "*** Training loop  13 *** - 2019-08-21 12:07:32\n",
      "194/195 [============================>.] - ETA: 0s - loss: 2.1552e-06 - q_loss: 4.6788e-07 - v_loss: 4.7643e-07 - a_loss: 1.1917e-06 - q0_rec_loss: 1.4524e-14 - v0_rec_loss: 1.2677e-14 - H_loss: 9.1443e-10 - P_loss: 3.9297e-14 - L_loss: 1.8059e-08\n",
      "Epoch 0001; loss 2.15e-06; elapsed 0:00:42\n",
      "195/195 [==============================] - 34s 174ms/step - loss: 2.1518e-06 - q_loss: 4.6640e-07 - v_loss: 4.7488e-07 - a_loss: 1.1914e-06 - q0_rec_loss: 1.4524e-14 - v0_rec_loss: 1.2677e-14 - H_loss: 9.0984e-10 - P_loss: 3.9298e-14 - L_loss: 1.7968e-08\n",
      "*** Training loop  14 *** - 2019-08-21 12:08:14\n",
      "194/195 [============================>.] - ETA: 0s - loss: 2.0025e-06 - q_loss: 4.1569e-07 - v_loss: 4.2197e-07 - a_loss: 1.1443e-06 - q0_rec_loss: 1.4524e-14 - v0_rec_loss: 1.2677e-14 - H_loss: 6.7126e-10 - P_loss: 3.9294e-14 - L_loss: 1.9682e-08\n",
      "Epoch 0001; loss 2.00e-06; elapsed 0:00:42\n",
      "195/195 [==============================] - 33s 171ms/step - loss: 1.9997e-06 - q_loss: 4.1455e-07 - v_loss: 4.2078e-07 - a_loss: 1.1438e-06 - q0_rec_loss: 1.4524e-14 - v0_rec_loss: 1.2677e-14 - H_loss: 6.6782e-10 - P_loss: 3.9294e-14 - L_loss: 1.9581e-08\n"
     ]
    },
    {
     "name": "stdout",
     "output_type": "stream",
     "text": [
      "*** Training loop  15 *** - 2019-08-21 12:08:56\n",
      "194/195 [============================>.] - ETA: 0s - loss: 1.9970e-06 - q_loss: 4.0340e-07 - v_loss: 4.0689e-07 - a_loss: 1.1609e-06 - q0_rec_loss: 1.4524e-14 - v0_rec_loss: 1.2677e-14 - H_loss: 6.7832e-10 - P_loss: 3.9295e-14 - L_loss: 2.4860e-08\n",
      "Epoch 0001; loss 2.00e-06; elapsed 0:00:42\n",
      "195/195 [==============================] - 34s 172ms/step - loss: 1.9961e-06 - q_loss: 4.0277e-07 - v_loss: 4.0618e-07 - a_loss: 1.1614e-06 - q0_rec_loss: 1.4524e-14 - v0_rec_loss: 1.2677e-14 - H_loss: 6.7758e-10 - P_loss: 3.9297e-14 - L_loss: 2.4733e-08\n",
      "*** Training loop  16 *** - 2019-08-21 12:09:38\n",
      "194/195 [============================>.] - ETA: 0s - loss: 2.2594e-06 - q_loss: 5.1422e-07 - v_loss: 5.2863e-07 - a_loss: 1.1892e-06 - q0_rec_loss: 1.4524e-14 - v0_rec_loss: 1.2677e-14 - H_loss: 1.2146e-09 - P_loss: 3.9304e-14 - L_loss: 2.5874e-08\n",
      "Epoch 0001; loss 2.26e-06; elapsed 0:00:42\n",
      "195/195 [==============================] - 33s 171ms/step - loss: 2.2553e-06 - q_loss: 5.1290e-07 - v_loss: 5.2723e-07 - a_loss: 1.1880e-06 - q0_rec_loss: 1.4524e-14 - v0_rec_loss: 1.2677e-14 - H_loss: 1.2093e-09 - P_loss: 3.9305e-14 - L_loss: 2.5742e-08\n",
      "*** Training loop  17 *** - 2019-08-21 12:10:19\n",
      "194/195 [============================>.] - ETA: 0s - loss: 1.9377e-06 - q_loss: 3.8813e-07 - v_loss: 3.9233e-07 - a_loss: 1.1337e-06 - q0_rec_loss: 1.4524e-14 - v0_rec_loss: 1.2677e-14 - H_loss: 6.1132e-10 - P_loss: 3.9299e-14 - L_loss: 2.2653e-08\n",
      "Epoch 0001; loss 1.94e-06; elapsed 0:00:42\n",
      "195/195 [==============================] - 33s 172ms/step - loss: 1.9386e-06 - q_loss: 3.8885e-07 - v_loss: 3.9313e-07 - a_loss: 1.1331e-06 - q0_rec_loss: 1.4524e-14 - v0_rec_loss: 1.2677e-14 - H_loss: 6.1631e-10 - P_loss: 3.9299e-14 - L_loss: 2.2548e-08\n",
      "*** Training loop  18 *** - 2019-08-21 12:11:01\n",
      "194/195 [============================>.] - ETA: 0s - loss: 2.0333e-06 - q_loss: 4.2615e-07 - v_loss: 4.3367e-07 - a_loss: 1.1504e-06 - q0_rec_loss: 1.4524e-14 - v0_rec_loss: 1.2677e-14 - H_loss: 8.1920e-10 - P_loss: 3.9295e-14 - L_loss: 2.1956e-08\n",
      "Epoch 0001; loss 2.03e-06; elapsed 0:00:42\n",
      "195/195 [==============================] - 34s 172ms/step - loss: 2.0306e-06 - q_loss: 4.2567e-07 - v_loss: 4.3315e-07 - a_loss: 1.1489e-06 - q0_rec_loss: 1.4524e-14 - v0_rec_loss: 1.2677e-14 - H_loss: 8.1516e-10 - P_loss: 3.9296e-14 - L_loss: 2.1846e-08\n",
      "*** Training loop  19 *** - 2019-08-21 12:11:43\n",
      "194/195 [============================>.] - ETA: 0s - loss: 1.9872e-06 - q_loss: 4.0957e-07 - v_loss: 4.1575e-07 - a_loss: 1.1410e-06 - q0_rec_loss: 1.4524e-14 - v0_rec_loss: 1.2677e-14 - H_loss: 7.1607e-10 - P_loss: 3.9292e-14 - L_loss: 1.9867e-08\n",
      "Epoch 0001; loss 1.98e-06; elapsed 0:00:42\n",
      "195/195 [==============================] - 33s 171ms/step - loss: 1.9847e-06 - q_loss: 4.0916e-07 - v_loss: 4.1530e-07 - a_loss: 1.1395e-06 - q0_rec_loss: 1.4524e-14 - v0_rec_loss: 1.2677e-14 - H_loss: 7.1242e-10 - P_loss: 3.9292e-14 - L_loss: 1.9811e-08\n",
      "*** Training loop  20 *** - 2019-08-21 12:12:25\n",
      "194/195 [============================>.] - ETA: 0s - loss: 2.0489e-06 - q_loss: 4.2489e-07 - v_loss: 4.3098e-07 - a_loss: 1.1693e-06 - q0_rec_loss: 1.4524e-14 - v0_rec_loss: 1.2677e-14 - H_loss: 8.2445e-10 - P_loss: 3.9296e-14 - L_loss: 2.2606e-08\n",
      "Epoch 0001; loss 2.05e-06; elapsed 0:00:42\n",
      "195/195 [==============================] - 34s 172ms/step - loss: 2.0461e-06 - q_loss: 4.2443e-07 - v_loss: 4.3047e-07 - a_loss: 1.1676e-06 - q0_rec_loss: 1.4524e-14 - v0_rec_loss: 1.2677e-14 - H_loss: 8.2032e-10 - P_loss: 3.9296e-14 - L_loss: 2.2507e-08\n",
      "*** Training loop  21 *** - 2019-08-21 12:13:07\n",
      "194/195 [============================>.] - ETA: 0s - loss: 2.0242e-06 - q_loss: 4.2730e-07 - v_loss: 4.3599e-07 - a_loss: 1.1403e-06 - q0_rec_loss: 1.4524e-14 - v0_rec_loss: 1.2677e-14 - H_loss: 8.8295e-10 - P_loss: 3.9291e-14 - L_loss: 1.9437e-08\n",
      "Epoch 0001; loss 2.02e-06; elapsed 0:00:42\n",
      "195/195 [==============================] - 34s 173ms/step - loss: 2.0215e-06 - q_loss: 4.2683e-07 - v_loss: 4.3546e-07 - a_loss: 1.1387e-06 - q0_rec_loss: 1.4524e-14 - v0_rec_loss: 1.2677e-14 - H_loss: 8.7843e-10 - P_loss: 3.9291e-14 - L_loss: 1.9341e-08\n",
      "*** Training loop  22 *** - 2019-08-21 12:13:49\n",
      "194/195 [============================>.] - ETA: 0s - loss: 1.9571e-06 - q_loss: 3.9408e-07 - v_loss: 3.9841e-07 - a_loss: 1.1446e-06 - q0_rec_loss: 1.4524e-14 - v0_rec_loss: 1.2677e-14 - H_loss: 6.5621e-10 - P_loss: 3.9293e-14 - L_loss: 1.9103e-08\n",
      "Epoch 0001; loss 1.95e-06; elapsed 0:00:42\n",
      "195/195 [==============================] - 34s 173ms/step - loss: 1.9548e-06 - q_loss: 3.9380e-07 - v_loss: 3.9809e-07 - a_loss: 1.1429e-06 - q0_rec_loss: 1.4524e-14 - v0_rec_loss: 1.2677e-14 - H_loss: 6.5293e-10 - P_loss: 3.9294e-14 - L_loss: 1.9010e-08\n",
      "*** Training loop  23 *** - 2019-08-21 12:14:31\n",
      "194/195 [============================>.] - ETA: 0s - loss: 1.8972e-06 - q_loss: 3.6618e-07 - v_loss: 3.6753e-07 - a_loss: 1.1380e-06 - q0_rec_loss: 1.4524e-14 - v0_rec_loss: 1.2677e-14 - H_loss: 5.0980e-10 - P_loss: 3.9295e-14 - L_loss: 2.4666e-08\n",
      "Epoch 0001; loss 1.90e-06; elapsed 0:00:42\n",
      "195/195 [==============================] - 34s 172ms/step - loss: 1.8971e-06 - q_loss: 3.6642e-07 - v_loss: 3.6770e-07 - a_loss: 1.1376e-06 - q0_rec_loss: 1.4524e-14 - v0_rec_loss: 1.2677e-14 - H_loss: 5.1358e-10 - P_loss: 3.9295e-14 - L_loss: 2.4541e-08\n",
      "*** Training loop  24 *** - 2019-08-21 12:15:13\n",
      "194/195 [============================>.] - ETA: 0s - loss: 2.1294e-06 - q_loss: 4.6131e-07 - v_loss: 4.7151e-07 - a_loss: 1.1713e-06 - q0_rec_loss: 1.4524e-14 - v0_rec_loss: 1.2677e-14 - H_loss: 1.0364e-09 - P_loss: 3.9309e-14 - L_loss: 2.3964e-08\n",
      "Epoch 0001; loss 2.13e-06; elapsed 0:00:42\n",
      "195/195 [==============================] - 34s 173ms/step - loss: 2.1265e-06 - q_loss: 4.6081e-07 - v_loss: 4.7097e-07 - a_loss: 1.1696e-06 - q0_rec_loss: 1.4524e-14 - v0_rec_loss: 1.2677e-14 - H_loss: 1.0318e-09 - P_loss: 3.9309e-14 - L_loss: 2.3850e-08\n",
      "*** Training loop  25 *** - 2019-08-21 12:15:55\n",
      "194/195 [============================>.] - ETA: 0s - loss: 1.9037e-06 - q_loss: 3.8302e-07 - v_loss: 3.8876e-07 - a_loss: 1.1129e-06 - q0_rec_loss: 1.4524e-14 - v0_rec_loss: 1.2677e-14 - H_loss: 5.9564e-10 - P_loss: 3.9293e-14 - L_loss: 1.8110e-08\n",
      "Epoch 0001; loss 1.90e-06; elapsed 0:00:42\n",
      "195/195 [==============================] - 34s 175ms/step - loss: 1.9016e-06 - q_loss: 3.8279e-07 - v_loss: 3.8848e-07 - a_loss: 1.1114e-06 - q0_rec_loss: 1.4524e-14 - v0_rec_loss: 1.2677e-14 - H_loss: 5.9259e-10 - P_loss: 3.9293e-14 - L_loss: 1.8023e-08\n",
      "*** Training loop  26 *** - 2019-08-21 12:16:38\n",
      "194/195 [============================>.] - ETA: 0s - loss: 1.9641e-06 - q_loss: 3.9895e-07 - v_loss: 4.0441e-07 - a_loss: 1.1377e-06 - q0_rec_loss: 1.4524e-14 - v0_rec_loss: 1.2677e-14 - H_loss: 6.4424e-10 - P_loss: 3.9291e-14 - L_loss: 2.2183e-08\n",
      "Epoch 0001; loss 1.99e-06; elapsed 0:00:42\n",
      "195/195 [==============================] - 33s 172ms/step - loss: 1.9876e-06 - q_loss: 4.0918e-07 - v_loss: 4.1551e-07 - a_loss: 1.1398e-06 - q0_rec_loss: 1.4524e-14 - v0_rec_loss: 1.2677e-14 - H_loss: 6.9874e-10 - P_loss: 3.9292e-14 - L_loss: 2.2109e-08\n",
      "*** Training loop  27 *** - 2019-08-21 12:17:20\n",
      "194/195 [============================>.] - ETA: 0s - loss: 2.1069e-06 - q_loss: 4.4422e-07 - v_loss: 4.5222e-07 - a_loss: 1.1860e-06 - q0_rec_loss: 1.4524e-14 - v0_rec_loss: 1.2677e-14 - H_loss: 9.8969e-10 - P_loss: 3.9299e-14 - L_loss: 2.3217e-08\n",
      "Epoch 0001; loss 2.13e-06; elapsed 0:00:42\n",
      "195/195 [==============================] - 34s 172ms/step - loss: 2.1331e-06 - q_loss: 4.5567e-07 - v_loss: 4.6464e-07 - a_loss: 1.1884e-06 - q0_rec_loss: 1.4524e-14 - v0_rec_loss: 1.2677e-14 - H_loss: 1.0368e-09 - P_loss: 3.9299e-14 - L_loss: 2.3134e-08\n",
      "*** Training loop  28 *** - 2019-08-21 12:18:02\n",
      "194/195 [============================>.] - ETA: 0s - loss: 1.9886e-06 - q_loss: 4.1472e-07 - v_loss: 4.2243e-07 - a_loss: 1.1314e-06 - q0_rec_loss: 1.4524e-14 - v0_rec_loss: 1.2677e-14 - H_loss: 8.9852e-10 - P_loss: 3.9295e-14 - L_loss: 1.8860e-08\n",
      "Epoch 0001; loss 1.99e-06; elapsed 0:00:42\n",
      "195/195 [==============================] - 33s 172ms/step - loss: 1.9865e-06 - q_loss: 4.1449e-07 - v_loss: 4.2216e-07 - a_loss: 1.1300e-06 - q0_rec_loss: 1.4524e-14 - v0_rec_loss: 1.2677e-14 - H_loss: 8.9526e-10 - P_loss: 3.9294e-14 - L_loss: 1.8766e-08\n"
     ]
    },
    {
     "name": "stdout",
     "output_type": "stream",
     "text": [
      "*** Training loop  29 *** - 2019-08-21 12:18:44\n",
      "194/195 [============================>.] - ETA: 0s - loss: 1.8540e-06 - q_loss: 3.5663e-07 - v_loss: 3.5829e-07 - a_loss: 1.1198e-06 - q0_rec_loss: 1.4524e-14 - v0_rec_loss: 1.2677e-14 - H_loss: 4.8559e-10 - P_loss: 3.9283e-14 - L_loss: 1.8613e-08\n",
      "Epoch 0001; loss 1.85e-06; elapsed 0:00:42\n",
      "195/195 [==============================] - 34s 173ms/step - loss: 1.8529e-06 - q_loss: 3.5674e-07 - v_loss: 3.5838e-07 - a_loss: 1.1185e-06 - q0_rec_loss: 1.4524e-14 - v0_rec_loss: 1.2677e-14 - H_loss: 4.8569e-10 - P_loss: 3.9283e-14 - L_loss: 1.8519e-08\n",
      "*** Training loop  30 *** - 2019-08-21 12:19:26\n",
      "194/195 [============================>.] - ETA: 0s - loss: 1.9954e-06 - q_loss: 4.0861e-07 - v_loss: 4.1507e-07 - a_loss: 1.1415e-06 - q0_rec_loss: 1.4524e-14 - v0_rec_loss: 1.2677e-14 - H_loss: 7.3840e-10 - P_loss: 3.9305e-14 - L_loss: 2.9171e-08\n",
      "Epoch 0001; loss 1.99e-06; elapsed 0:00:42\n",
      "195/195 [==============================] - 33s 172ms/step - loss: 1.9939e-06 - q_loss: 4.0870e-07 - v_loss: 4.1515e-07 - a_loss: 1.1400e-06 - q0_rec_loss: 1.4524e-14 - v0_rec_loss: 1.2677e-14 - H_loss: 7.3630e-10 - P_loss: 3.9306e-14 - L_loss: 2.9023e-08\n",
      "*** Training loop  31 *** - 2019-08-21 12:20:08\n",
      "194/195 [============================>.] - ETA: 0s - loss: 2.0320e-06 - q_loss: 4.2042e-07 - v_loss: 4.2689e-07 - a_loss: 1.1597e-06 - q0_rec_loss: 1.4524e-14 - v0_rec_loss: 1.2677e-14 - H_loss: 8.3619e-10 - P_loss: 3.9283e-14 - L_loss: 2.3859e-08\n",
      "Epoch 0001; loss 2.03e-06; elapsed 0:00:42\n",
      "195/195 [==============================] - 34s 173ms/step - loss: 2.0304e-06 - q_loss: 4.2025e-07 - v_loss: 4.2668e-07 - a_loss: 1.1580e-06 - q0_rec_loss: 1.4524e-14 - v0_rec_loss: 1.2677e-14 - H_loss: 8.3210e-10 - P_loss: 3.9284e-14 - L_loss: 2.4376e-08\n",
      "*** Training loop  32 *** - 2019-08-21 12:20:50\n",
      "194/195 [============================>.] - ETA: 0s - loss: 2.0619e-06 - q_loss: 4.4830e-07 - v_loss: 4.5969e-07 - a_loss: 1.1493e-06 - q0_rec_loss: 1.4524e-14 - v0_rec_loss: 1.2677e-14 - H_loss: 1.0014e-09 - P_loss: 3.9292e-14 - L_loss: 3.4183e-09\n",
      "Epoch 0001; loss 2.06e-06; elapsed 0:00:42\n",
      "195/195 [==============================] - 34s 173ms/step - loss: 2.0590e-06 - q_loss: 4.4774e-07 - v_loss: 4.5906e-07 - a_loss: 1.1475e-06 - q0_rec_loss: 1.4524e-14 - v0_rec_loss: 1.2677e-14 - H_loss: 9.9628e-10 - P_loss: 3.9292e-14 - L_loss: 3.4022e-09\n",
      "*** Training loop  33 *** - 2019-08-21 12:21:32\n",
      "194/195 [============================>.] - ETA: 0s - loss: 1.8945e-06 - q_loss: 3.6865e-07 - v_loss: 3.7118e-07 - a_loss: 1.1225e-06 - q0_rec_loss: 1.4524e-14 - v0_rec_loss: 1.2677e-14 - H_loss: 5.6977e-10 - P_loss: 3.9286e-14 - L_loss: 3.1266e-08\n",
      "Epoch 0001; loss 1.89e-06; elapsed 0:00:42\n",
      "195/195 [==============================] - 34s 172ms/step - loss: 1.8930e-06 - q_loss: 3.6861e-07 - v_loss: 3.7112e-07 - a_loss: 1.1210e-06 - q0_rec_loss: 1.4524e-14 - v0_rec_loss: 1.2677e-14 - H_loss: 5.6750e-10 - P_loss: 3.9287e-14 - L_loss: 3.1353e-08\n",
      "*** Training loop  34 *** - 2019-08-21 12:22:14\n",
      "194/195 [============================>.] - ETA: 0s - loss: 2.0127e-06 - q_loss: 4.2172e-07 - v_loss: 4.3010e-07 - a_loss: 1.1395e-06 - q0_rec_loss: 1.4524e-14 - v0_rec_loss: 1.2677e-14 - H_loss: 8.4155e-10 - P_loss: 3.9297e-14 - L_loss: 2.0271e-08\n",
      "Epoch 0001; loss 2.01e-06; elapsed 0:00:42\n",
      "195/195 [==============================] - 34s 173ms/step - loss: 2.0100e-06 - q_loss: 4.2129e-07 - v_loss: 4.2961e-07 - a_loss: 1.1379e-06 - q0_rec_loss: 1.4524e-14 - v0_rec_loss: 1.2677e-14 - H_loss: 8.3757e-10 - P_loss: 3.9297e-14 - L_loss: 2.0167e-08\n",
      "*** Training loop  35 *** - 2019-08-21 12:22:56\n",
      "194/195 [============================>.] - ETA: 0s - loss: 2.1656e-06 - q_loss: 4.7575e-07 - v_loss: 4.8742e-07 - a_loss: 1.1829e-06 - q0_rec_loss: 1.4524e-14 - v0_rec_loss: 1.2677e-14 - H_loss: 1.1539e-09 - P_loss: 3.9300e-14 - L_loss: 1.8118e-08\n",
      "Epoch 0001; loss 2.17e-06; elapsed 0:00:42\n",
      "195/195 [==============================] - 34s 173ms/step - loss: 2.1655e-06 - q_loss: 4.7642e-07 - v_loss: 4.8814e-07 - a_loss: 1.1814e-06 - q0_rec_loss: 1.4524e-14 - v0_rec_loss: 1.2677e-14 - H_loss: 1.1550e-09 - P_loss: 3.9301e-14 - L_loss: 1.8030e-08\n",
      "*** Training loop  36 *** - 2019-08-21 12:23:39\n",
      "194/195 [============================>.] - ETA: 0s - loss: 1.9281e-06 - q_loss: 3.9003e-07 - v_loss: 3.9603e-07 - a_loss: 1.1235e-06 - q0_rec_loss: 1.4524e-14 - v0_rec_loss: 1.2677e-14 - H_loss: 6.5984e-10 - P_loss: 3.9281e-14 - L_loss: 1.7692e-08\n",
      "Epoch 0001; loss 1.93e-06; elapsed 0:00:42\n",
      "195/195 [==============================] - 34s 174ms/step - loss: 1.9268e-06 - q_loss: 3.9014e-07 - v_loss: 3.9611e-07 - a_loss: 1.1221e-06 - q0_rec_loss: 1.4524e-14 - v0_rec_loss: 1.2677e-14 - H_loss: 6.5675e-10 - P_loss: 3.9282e-14 - L_loss: 1.7601e-08\n",
      "*** Training loop  37 *** - 2019-08-21 12:24:21\n",
      "194/195 [============================>.] - ETA: 0s - loss: 1.9326e-06 - q_loss: 3.8968e-07 - v_loss: 3.9492e-07 - a_loss: 1.1289e-06 - q0_rec_loss: 1.4524e-14 - v0_rec_loss: 1.2677e-14 - H_loss: 6.8530e-10 - P_loss: 3.9286e-14 - L_loss: 1.8143e-08\n",
      "Epoch 0001; loss 1.93e-06; elapsed 0:00:42\n",
      "195/195 [==============================] - 33s 172ms/step - loss: 1.9304e-06 - q_loss: 3.8941e-07 - v_loss: 3.9460e-07 - a_loss: 1.1274e-06 - q0_rec_loss: 1.4524e-14 - v0_rec_loss: 1.2677e-14 - H_loss: 6.8199e-10 - P_loss: 3.9286e-14 - L_loss: 1.8053e-08\n",
      "*** Training loop  38 *** - 2019-08-21 12:25:03\n",
      "194/195 [============================>.] - ETA: 0s - loss: 1.8558e-06 - q_loss: 3.5205e-07 - v_loss: 3.5267e-07 - a_loss: 1.1264e-06 - q0_rec_loss: 1.4524e-14 - v0_rec_loss: 1.2677e-14 - H_loss: 4.8400e-10 - P_loss: 3.9284e-14 - L_loss: 2.3961e-08\n",
      "Epoch 0001; loss 1.86e-06; elapsed 0:00:42\n",
      "195/195 [==============================] - 34s 172ms/step - loss: 1.8585e-06 - q_loss: 3.5315e-07 - v_loss: 3.5381e-07 - a_loss: 1.1251e-06 - q0_rec_loss: 1.4524e-14 - v0_rec_loss: 1.2677e-14 - H_loss: 4.8444e-10 - P_loss: 3.9285e-14 - L_loss: 2.5620e-08\n",
      "*** Training loop  39 *** - 2019-08-21 12:25:45\n",
      "194/195 [============================>.] - ETA: 0s - loss: 2.0457e-06 - q_loss: 4.2996e-07 - v_loss: 4.3856e-07 - a_loss: 1.1450e-06 - q0_rec_loss: 1.4524e-14 - v0_rec_loss: 1.2677e-14 - H_loss: 8.4340e-10 - P_loss: 3.9289e-14 - L_loss: 3.1097e-08\n",
      "Epoch 0001; loss 2.04e-06; elapsed 0:00:42\n",
      "195/195 [==============================] - 34s 173ms/step - loss: 2.0444e-06 - q_loss: 4.2974e-07 - v_loss: 4.3828e-07 - a_loss: 1.1435e-06 - q0_rec_loss: 1.4524e-14 - v0_rec_loss: 1.2677e-14 - H_loss: 8.3924e-10 - P_loss: 3.9289e-14 - L_loss: 3.1767e-08\n",
      "*** Training loop  40 *** - 2019-08-21 12:26:27\n",
      "194/195 [============================>.] - ETA: 0s - loss: 1.9840e-06 - q_loss: 4.0497e-07 - v_loss: 4.1013e-07 - a_loss: 1.1595e-06 - q0_rec_loss: 1.4524e-14 - v0_rec_loss: 1.2677e-14 - H_loss: 8.9784e-10 - P_loss: 3.9290e-14 - L_loss: 8.2887e-09\n",
      "Epoch 0001; loss 1.99e-06; elapsed 0:00:42\n",
      "195/195 [==============================] - 34s 172ms/step - loss: 1.9862e-06 - q_loss: 4.0545e-07 - v_loss: 4.1050e-07 - a_loss: 1.1589e-06 - q0_rec_loss: 1.4524e-14 - v0_rec_loss: 1.2677e-14 - H_loss: 8.9650e-10 - P_loss: 3.9289e-14 - L_loss: 1.0099e-08\n",
      "*** Training loop  41 *** - 2019-08-21 12:27:09\n",
      "194/195 [============================>.] - ETA: 0s - loss: 1.9507e-06 - q_loss: 3.9918e-07 - v_loss: 4.0594e-07 - a_loss: 1.1273e-06 - q0_rec_loss: 1.4524e-14 - v0_rec_loss: 1.2677e-14 - H_loss: 6.9886e-10 - P_loss: 3.9299e-14 - L_loss: 1.7315e-08\n",
      "Epoch 0001; loss 1.95e-06; elapsed 0:00:42\n",
      "195/195 [==============================] - 34s 173ms/step - loss: 1.9501e-06 - q_loss: 3.9924e-07 - v_loss: 4.0587e-07 - a_loss: 1.1268e-06 - q0_rec_loss: 1.4524e-14 - v0_rec_loss: 1.2677e-14 - H_loss: 6.9588e-10 - P_loss: 3.9299e-14 - L_loss: 1.7250e-08\n",
      "*** Training loop  42 *** - 2019-08-21 12:27:51\n",
      "194/195 [============================>.] - ETA: 0s - loss: 1.9819e-06 - q_loss: 4.1222e-07 - v_loss: 4.2064e-07 - a_loss: 1.1239e-06 - q0_rec_loss: 1.4524e-14 - v0_rec_loss: 1.2677e-14 - H_loss: 7.8850e-10 - P_loss: 3.9295e-14 - L_loss: 2.4134e-08\n",
      "Epoch 0001; loss 1.98e-06; elapsed 0:00:42\n",
      "195/195 [==============================] - 34s 172ms/step - loss: 1.9825e-06 - q_loss: 4.1239e-07 - v_loss: 4.2074e-07 - a_loss: 1.1228e-06 - q0_rec_loss: 1.4524e-14 - v0_rec_loss: 1.2677e-14 - H_loss: 7.8535e-10 - P_loss: 3.9297e-14 - L_loss: 2.5554e-08\n"
     ]
    },
    {
     "name": "stdout",
     "output_type": "stream",
     "text": [
      "*** Training loop  43 *** - 2019-08-21 12:28:33\n",
      "194/195 [============================>.] - ETA: 0s - loss: 2.1727e-06 - q_loss: 4.7484e-07 - v_loss: 4.8634e-07 - a_loss: 1.1776e-06 - q0_rec_loss: 1.4524e-14 - v0_rec_loss: 1.2677e-14 - H_loss: 1.1132e-09 - P_loss: 3.9302e-14 - L_loss: 3.2626e-08\n",
      "Epoch 0001; loss 2.17e-06; elapsed 0:00:42\n",
      "195/195 [==============================] - 34s 174ms/step - loss: 2.1701e-06 - q_loss: 4.7430e-07 - v_loss: 4.8573e-07 - a_loss: 1.1758e-06 - q0_rec_loss: 1.4524e-14 - v0_rec_loss: 1.2677e-14 - H_loss: 1.1078e-09 - P_loss: 3.9301e-14 - L_loss: 3.2927e-08\n",
      "*** Training loop  44 *** - 2019-08-21 12:29:16\n",
      "194/195 [============================>.] - ETA: 0s - loss: 1.8760e-06 - q_loss: 3.7001e-07 - v_loss: 3.7421e-07 - a_loss: 1.1132e-06 - q0_rec_loss: 1.4524e-14 - v0_rec_loss: 1.2677e-14 - H_loss: 6.0044e-10 - P_loss: 3.9290e-14 - L_loss: 1.7719e-08\n",
      "Epoch 0001; loss 1.88e-06; elapsed 0:00:42\n",
      "195/195 [==============================] - 34s 173ms/step - loss: 1.8765e-06 - q_loss: 3.7026e-07 - v_loss: 3.7438e-07 - a_loss: 1.1127e-06 - q0_rec_loss: 1.4524e-14 - v0_rec_loss: 1.2677e-14 - H_loss: 5.9875e-10 - P_loss: 3.9291e-14 - L_loss: 1.8326e-08\n",
      "*** Training loop  45 *** - 2019-08-21 12:29:58\n",
      "194/195 [============================>.] - ETA: 0s - loss: 1.9063e-06 - q_loss: 3.7568e-07 - v_loss: 3.7934e-07 - a_loss: 1.1272e-06 - q0_rec_loss: 1.4524e-14 - v0_rec_loss: 1.2677e-14 - H_loss: 5.8422e-10 - P_loss: 3.9303e-14 - L_loss: 2.3272e-08\n",
      "Epoch 0001; loss 1.90e-06; elapsed 0:00:43\n",
      "195/195 [==============================] - 34s 175ms/step - loss: 1.9043e-06 - q_loss: 3.7547e-07 - v_loss: 3.7910e-07 - a_loss: 1.1256e-06 - q0_rec_loss: 1.4524e-14 - v0_rec_loss: 1.2677e-14 - H_loss: 5.8126e-10 - P_loss: 3.9304e-14 - L_loss: 2.3261e-08\n",
      "*** Training loop  46 *** - 2019-08-21 12:30:41\n",
      "194/195 [============================>.] - ETA: 0s - loss: 2.1765e-06 - q_loss: 4.8287e-07 - v_loss: 4.9621e-07 - a_loss: 1.1749e-06 - q0_rec_loss: 1.4524e-14 - v0_rec_loss: 1.2677e-14 - H_loss: 1.2313e-09 - P_loss: 3.9293e-14 - L_loss: 2.0968e-08\n",
      "Epoch 0001; loss 2.19e-06; elapsed 0:00:42\n",
      "195/195 [==============================] - 33s 171ms/step - loss: 2.1900e-06 - q_loss: 4.8874e-07 - v_loss: 5.0262e-07 - a_loss: 1.1762e-06 - q0_rec_loss: 1.4524e-14 - v0_rec_loss: 1.2677e-14 - H_loss: 1.2566e-09 - P_loss: 3.9294e-14 - L_loss: 2.0899e-08\n",
      "*** Training loop  47 *** - 2019-08-21 12:31:22\n",
      "194/195 [============================>.] - ETA: 0s - loss: 1.7543e-06 - q_loss: 3.1782e-07 - v_loss: 3.1654e-07 - a_loss: 1.0971e-06 - q0_rec_loss: 1.4524e-14 - v0_rec_loss: 1.2677e-14 - H_loss: 2.6602e-10 - P_loss: 3.9294e-14 - L_loss: 2.2222e-08\n",
      "Epoch 0001; loss 1.77e-06; elapsed 0:00:42\n",
      "195/195 [==============================] - 34s 173ms/step - loss: 1.7662e-06 - q_loss: 3.2306e-07 - v_loss: 3.2225e-07 - a_loss: 1.0982e-06 - q0_rec_loss: 1.4524e-14 - v0_rec_loss: 1.2677e-14 - H_loss: 2.9353e-10 - P_loss: 3.9295e-14 - L_loss: 2.2140e-08\n",
      "*** Training loop  48 *** - 2019-08-21 12:32:05\n",
      "194/195 [============================>.] - ETA: 0s - loss: 2.1290e-06 - q_loss: 4.6189e-07 - v_loss: 4.7311e-07 - a_loss: 1.1705e-06 - q0_rec_loss: 1.4524e-14 - v0_rec_loss: 1.2677e-14 - H_loss: 1.0698e-09 - P_loss: 3.9301e-14 - L_loss: 2.2192e-08\n",
      "Epoch 0001; loss 2.13e-06; elapsed 0:00:42\n",
      "195/195 [==============================] - 34s 172ms/step - loss: 2.1281e-06 - q_loss: 4.6226e-07 - v_loss: 4.7349e-07 - a_loss: 1.1689e-06 - q0_rec_loss: 1.4524e-14 - v0_rec_loss: 1.2677e-14 - H_loss: 1.0689e-09 - P_loss: 3.9302e-14 - L_loss: 2.2088e-08\n",
      "*** Training loop  49 *** - 2019-08-21 12:32:47\n",
      "194/195 [============================>.] - ETA: 0s - loss: 1.8597e-06 - q_loss: 3.6180e-07 - v_loss: 3.6485e-07 - a_loss: 1.1131e-06 - q0_rec_loss: 1.4524e-14 - v0_rec_loss: 1.2677e-14 - H_loss: 5.1268e-10 - P_loss: 3.9291e-14 - L_loss: 1.9212e-08\n",
      "Epoch 0001; loss 1.86e-06; elapsed 0:00:42\n",
      "195/195 [==============================] - 34s 174ms/step - loss: 1.8577e-06 - q_loss: 3.6160e-07 - v_loss: 3.6462e-07 - a_loss: 1.1116e-06 - q0_rec_loss: 1.4524e-14 - v0_rec_loss: 1.2677e-14 - H_loss: 5.1011e-10 - P_loss: 3.9292e-14 - L_loss: 1.9154e-08\n",
      "*** Training loop  50 *** - 2019-08-21 12:33:29\n",
      "194/195 [============================>.] - ETA: 0s - loss: 2.1317e-06 - q_loss: 4.6482e-07 - v_loss: 4.7658e-07 - a_loss: 1.1636e-06 - q0_rec_loss: 1.4524e-14 - v0_rec_loss: 1.2677e-14 - H_loss: 1.2215e-09 - P_loss: 3.9301e-14 - L_loss: 2.5170e-08\n",
      "Epoch 0001; loss 2.13e-06; elapsed 0:00:42\n",
      "195/195 [==============================] - 34s 173ms/step - loss: 2.1301e-06 - q_loss: 4.6478e-07 - v_loss: 4.7650e-07 - a_loss: 1.1623e-06 - q0_rec_loss: 1.4524e-14 - v0_rec_loss: 1.2677e-14 - H_loss: 1.2204e-09 - P_loss: 3.9302e-14 - L_loss: 2.5044e-08\n"
     ]
    }
   ],
   "source": [
    "num_epochs = 50\n",
    "for i in range_inc(1, num_epochs):\n",
    "    ts = datetime.datetime.now()\n",
    "    st = ts.strftime('%Y-%m-%d %H:%M:%S')\n",
    "    print(f'*** Training loop {i:3} *** - {st}')\n",
    "    hist = fit_model(model=model_nn,\n",
    "                     folder=folder,\n",
    "                     ds=ds_trn, \n",
    "                     epochs=epochs,\n",
    "                     save_freq=save_freq,\n",
    "                     prev_history = hist, \n",
    "                     batch_num=i)\n",
    "    vartbl[hist_name] = hist\n",
    "    save_vartbl(vartbl, fname)"
   ]
  },
  {
   "cell_type": "code",
   "execution_count": 86,
   "metadata": {},
   "outputs": [
    {
     "data": {
      "image/png": "[encoded data removed]",
      "text/plain": [
       "<Figure size 1152x648 with 1 Axes>"
      ]
     },
     "metadata": {
      "needs_background": "light"
     },
     "output_type": "display_data"
    }
   ],
   "source": [
    "# Plot the loss\n",
    "fig, ax = plot_loss_hist(hist=hist, model_name=model_nn.name, key='q_loss', baseline=q_loss_baseline)"
   ]
  },
  {
   "cell_type": "code",
   "execution_count": 87,
   "metadata": {},
   "outputs": [
    {
     "data": {
      "image/png": "[encoded data removed]",
      "text/plain": [
       "<Figure size 1152x648 with 1 Axes>"
      ]
     },
     "metadata": {
      "needs_background": "light"
     },
     "output_type": "display_data"
    }
   ],
   "source": [
    "# Plot the total loss\n",
    "fig, ax = plot_loss_hist(hist=hist, model_name=model_nn.name, key='loss')"
   ]
  },
  {
   "cell_type": "code",
   "execution_count": 88,
   "metadata": {},
   "outputs": [
    {
     "name": "stdout",
     "output_type": "stream",
     "text": [
      "195/195 [==============================] - 23s 117ms/step - loss: 1.5167e-06 - q_loss: 2.7550e-07 - v_loss: 2.6936e-07 - a_loss: 9.6982e-07 - q0_rec_loss: 1.4524e-14 - v0_rec_loss: 1.2677e-14 - H_loss: 4.2131e-10 - P_loss: 3.8947e-14 - L_loss: 1.3420e-09\n"
     ]
    },
    {
     "data": {
      "text/plain": [
       "[1.5167167236704232e-06,\n",
       " 2.754957e-07,\n",
       " 2.6936308e-07,\n",
       " 9.698223e-07,\n",
       " 1.4524267e-14,\n",
       " 1.2676716e-14,\n",
       " 4.213098e-10,\n",
       " 3.8947083e-14,\n",
       " 1.3420107e-09]"
      ]
     },
     "execution_count": 88,
     "metadata": {},
     "output_type": "execute_result"
    }
   ],
   "source": [
    "# Evaluate the trained model on the training data\n",
    "model_nn.evaluate(ds_trn)"
   ]
  },
  {
   "cell_type": "code",
   "execution_count": null,
   "metadata": {},
   "outputs": [],
   "source": [
    "# Evaluate the trained model on the test data\n",
    "# model_nn.evaluate(ds_tst)"
   ]
  },
  {
   "cell_type": "code",
   "execution_count": null,
   "metadata": {},
   "outputs": [],
   "source": []
  }
 ],
 "metadata": {
  "kernelspec": {
   "display_name": "Python [conda env:nbody]",
   "language": "python",
   "name": "conda-env-nbody-py"
  },
  "language_info": {
   "codemirror_mode": {
    "name": "ipython",
    "version": 3
   },
   "file_extension": ".py",
   "mimetype": "text/x-python",
   "name": "python",
   "nbconvert_exporter": "python",
   "pygments_lexer": "ipython3",
   "version": "3.7.3"
  }
 },
 "nbformat": 4,
 "nbformat_minor": 2
}
