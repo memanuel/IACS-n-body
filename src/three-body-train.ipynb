{
 "cells": [
  {
   "cell_type": "markdown",
   "metadata": {},
   "source": [
    "# Three Body Problem: Neural Network Training\n",
    "\n",
    "A simple neural network is trained to learn approximate solutions to the three body problem.<br>\n",
    "Data is sampled from three body systems that are perturbed versions of the Sun-Earth-Jupiter system."
   ]
  },
  {
   "cell_type": "code",
   "execution_count": 1,
   "metadata": {},
   "outputs": [],
   "source": [
    "# Library imports\n",
    "import tensorflow as tf\n",
    "import rebound\n",
    "import numpy as np\n",
    "import datetime\n",
    "import matplotlib.pyplot as plt\n",
    "\n",
    "# Aliases\n",
    "keras = tf.keras"
   ]
  },
  {
   "cell_type": "code",
   "execution_count": 2,
   "metadata": {},
   "outputs": [],
   "source": [
    "# Local imports\n",
    "from utils import load_vartbl, save_vartbl, plot_style, range_inc\n",
    "from tf_utils import gpu_grow_memory, TimeHistory\n",
    "from tf_utils import plot_loss_hist, EpochLoss, TimeHistory\n",
    "from tf_utils import Identity\n",
    "\n",
    "from orbital_element import OrbitalElementToConfig, ConfigToOrbitalElement, MeanToTrueAnomaly, G_\n",
    "from orbital_element import make_model_elt_to_cfg, make_model_cfg_to_elt\n",
    "\n",
    "from jacobi import CartesianToJacobi, JacobiToCartesian\n",
    "\n",
    "from g3b_data import make_traj_elts, make_data_g3b, make_datasets_g3b, traj_to_batch\n",
    "from g3b_data import make_datasets_solar, make_datasets_hard\n",
    "from g3b_data import combine_datasets_g3b, combine_datasets_solar\n",
    "from sej_data import load_data_sej, make_datasets_sej, combine_datasets_sej\n",
    "from sej_data import orb_elt_cov\n",
    "\n",
    "from g3b_plot import plot_orbit_q, plot_orbit_v, plot_orbit_a, plot_orbit_energy, plot_orbit_element\n",
    "from g3b import KineticEnergy_G3B, PotentialEnergy_G3B, Momentum_G3B, AngularMomentum_G3B\n",
    "from g3b import VectorError, EnergyError\n",
    "from g3b import Motion_G3B, make_physics_model_g3b\n",
    "from g3b import fit_model\n",
    "from g3b_model_math import make_position_model_g3b_math, make_model_g3b_math\n",
    "from g3b_model_nn import make_position_model_g3b_nn, make_model_g3b_nn\n",
    "from g3b_model_nn import baseline_loss"
   ]
  },
  {
   "cell_type": "code",
   "execution_count": 3,
   "metadata": {},
   "outputs": [],
   "source": [
    "# Set active GPUs\n",
    "gpus = tf.config.experimental.list_physical_devices('GPU')\n",
    "tf.config.experimental.set_visible_devices(gpus[1:2], 'GPU')"
   ]
  },
  {
   "cell_type": "code",
   "execution_count": 4,
   "metadata": {},
   "outputs": [],
   "source": [
    "# Grow GPU memory (must be first operation in TF)\n",
    "# gpu_grow_memory()"
   ]
  },
  {
   "cell_type": "code",
   "execution_count": 5,
   "metadata": {},
   "outputs": [],
   "source": [
    "# Lightweight serialization\n",
    "# fname = '../data/g3b/g3b_train.pickle'\n",
    "fname = '../data/sej/sej_train.pickle'\n",
    "vartbl = load_vartbl(fname)"
   ]
  },
  {
   "cell_type": "code",
   "execution_count": 6,
   "metadata": {},
   "outputs": [],
   "source": [
    "# Set plot style\n",
    "plot_style()"
   ]
  },
  {
   "cell_type": "markdown",
   "metadata": {},
   "source": [
    "### Load Data for General Three Body Problem"
   ]
  },
  {
   "cell_type": "code",
   "execution_count": 7,
   "metadata": {},
   "outputs": [],
   "source": [
    "# Description of datasets to be loaded\n",
    "n_years = 100\n",
    "sample_freq = 10\n",
    "traj_size = n_years * sample_freq + 1"
   ]
  },
  {
   "cell_type": "code",
   "execution_count": 8,
   "metadata": {},
   "outputs": [],
   "source": [
    "# Configuration for loading data sets\n",
    "# num_data_sets = 50\n",
    "num_data_sets = 5\n",
    "batch_size = 256\n",
    "# num_gpus = 1\n",
    "# full_batch_size = num_gpus * batch_size\n",
    "\n",
    "# Set size of tiny data sets\n",
    "n_traj_tiny = batch_size\n",
    "\n",
    "# Set starting random seed\n",
    "seed0 = 42"
   ]
  },
  {
   "cell_type": "code",
   "execution_count": 9,
   "metadata": {},
   "outputs": [
    {
     "name": "stdout",
     "output_type": "stream",
     "text": [
      "Loaded data from ../data/g3b/1789961721.pickle.\n"
     ]
    },
    {
     "name": "stderr",
     "output_type": "stream",
     "text": [
      "WARNING: Logging before flag parsing goes to stderr.\n",
      "W0823 09:16:34.819156 140308875233088 deprecation.py:323] From /home/michael/anaconda3/envs/nbody/lib/python3.7/site-packages/tensorflow/python/data/util/random_seed.py:58: add_dispatch_support.<locals>.wrapper (from tensorflow.python.ops.array_ops) is deprecated and will be removed in a future version.\n",
      "Instructions for updating:\n",
      "Use tf.where in 2.0, which has the same broadcast rule as np.where\n"
     ]
    }
   ],
   "source": [
    "# Create a tiny data set with one batch of solar type orbits\n",
    "ds_tiny_solar, _ , _ = \\\n",
    "    make_datasets_solar(n_traj=n_traj_tiny, vt_split=0.0, \n",
    "                        n_years=n_years, sample_freq=sample_freq,\n",
    "                        batch_size=batch_size, seed=seed0)"
   ]
  },
  {
   "cell_type": "code",
   "execution_count": 10,
   "metadata": {},
   "outputs": [],
   "source": [
    "# Build combined solar data sets\n",
    "# ds_solar_trn, ds_solar_val, ds_solar_tst = \\\n",
    "#     combine_datasets_solar(num_data_sets=num_data_sets, batch_size=batch_size, seed0=seed0)"
   ]
  },
  {
   "cell_type": "markdown",
   "metadata": {},
   "source": [
    "### Load Data for Perturbed Sun-Earth-Jupiter System"
   ]
  },
  {
   "cell_type": "code",
   "execution_count": 11,
   "metadata": {},
   "outputs": [],
   "source": [
    "# Orbital perturbation scales\n",
    "scale_factor = 1.0\n",
    "sd_q = scale_factor * np.array([0.00, 0.01, 0.05])\n",
    "sd_v = sd_q"
   ]
  },
  {
   "cell_type": "code",
   "execution_count": 12,
   "metadata": {},
   "outputs": [
    {
     "name": "stdout",
     "output_type": "stream",
     "text": [
      "Loaded data from ../data/sej/1261268456.pickle.\n"
     ]
    }
   ],
   "source": [
    "# Create a tiny data set with one batch of perturbed SEJ orbits\n",
    "ds_tiny_sej, _ , _ = \\\n",
    "    make_datasets_sej(n_traj=n_traj_tiny, vt_split=0.0, n_years=n_years, sample_freq=sample_freq,\n",
    "                      sd_q=sd_q, sd_v=sd_v,\n",
    "                      batch_size=batch_size, seed=seed0,\n",
    "                      assemble_datasets=True)"
   ]
  },
  {
   "cell_type": "code",
   "execution_count": 13,
   "metadata": {},
   "outputs": [
    {
     "name": "stdout",
     "output_type": "stream",
     "text": [
      "Loaded data from ../data/sej/1521397475.pickle.\n"
     ]
    }
   ],
   "source": [
    "# Create a tiny data set with the unperturbed SEJ system\n",
    "ds_sej0, _, _ = \\\n",
    "    make_datasets_sej(n_traj=n_traj_tiny, vt_split=0.0, n_years=n_years, sample_freq=sample_freq,\n",
    "                      sd_q=0.0, sd_v=0.0,\n",
    "                      batch_size=batch_size, seed=0,\n",
    "                      assemble_datasets=True)"
   ]
  },
  {
   "cell_type": "code",
   "execution_count": 14,
   "metadata": {},
   "outputs": [],
   "source": [
    "# Table of data sets keyed by scale factor\n",
    "data_by_factor = dict()"
   ]
  },
  {
   "cell_type": "code",
   "execution_count": 15,
   "metadata": {},
   "outputs": [
    {
     "name": "stdout",
     "output_type": "stream",
     "text": [
      "Loaded data from ../data/sej/1683869768.pickle.\n"
     ]
    },
    {
     "data": {
      "application/vnd.jupyter.widget-view+json": {
       "model_id": "9b367502ba164e19804dbf8e6135d0c7",
       "version_major": 2,
       "version_minor": 0
      },
      "text/plain": [
       "HBox(children=(IntProgress(value=0, max=4), HTML(value='')))"
      ]
     },
     "metadata": {},
     "output_type": "display_data"
    },
    {
     "name": "stdout",
     "output_type": "stream",
     "text": [
      "Loaded data from ../data/sej/723273359.pickle.\n",
      "Loaded data from ../data/sej/2662480066.pickle.\n",
      "Loaded data from ../data/sej/1320348092.pickle.\n",
      "Loaded data from ../data/sej/868556281.pickle.\n",
      "\n"
     ]
    }
   ],
   "source": [
    "# Build combined SEJ data sets with base scale factor\n",
    "scale_factor = 1.0\n",
    "ds_trn, ds_val, ds_tst = \\\n",
    "    combine_datasets_sej(num_data_sets=num_data_sets, batch_size=batch_size, \n",
    "                         seed0=seed0, scale_factor=scale_factor)"
   ]
  },
  {
   "cell_type": "code",
   "execution_count": 16,
   "metadata": {},
   "outputs": [],
   "source": [
    "# Update data by scale factor\n",
    "data_by_factor[scale_factor] = (ds_trn, ds_val, ds_tst)"
   ]
  },
  {
   "cell_type": "markdown",
   "metadata": {},
   "source": [
    "***Choose Data Set for Analysis: Solar vs. SEJ***"
   ]
  },
  {
   "cell_type": "code",
   "execution_count": 17,
   "metadata": {},
   "outputs": [],
   "source": [
    "# Alias ds_trn, ds_val, ds_tst to selected source\n",
    "\n",
    "# The selected data type for this analysis\n",
    "data_type = 'SEJ'\n",
    "\n",
    "# # Tables mapping data type to tuple of data sets\n",
    "# data_by_type = {\n",
    "#     # 'solar': (ds_tiny_solar, ds_solar_trn, ds_solar_val, ds_solar_tst),\n",
    "#     'SEJ': (ds_tiny_sej, ds_sej_trn, ds_sej_val, ds_sej_tst)\n",
    "# }\n",
    "\n",
    "# # Perform the aliasing\n",
    "# ds_tiny, ds_trn, ds_val, ds_tst = data_by_type[data_type]\n",
    "\n",
    "ds_tiny = ds_tiny_sej"
   ]
  },
  {
   "cell_type": "markdown",
   "metadata": {},
   "source": [
    "### Create the Kepler-Jacobi Model as a Benchmark"
   ]
  },
  {
   "cell_type": "code",
   "execution_count": 18,
   "metadata": {},
   "outputs": [],
   "source": [
    "model_kj = make_model_g3b_math(traj_size=traj_size, batch_size=batch_size)"
   ]
  },
  {
   "cell_type": "code",
   "execution_count": 19,
   "metadata": {},
   "outputs": [],
   "source": [
    "optimizer = keras.optimizers.Adam(learning_rate=0.0)\n",
    "\n",
    "loss = {'q': VectorError(name='q_loss'),\n",
    "        'v': VectorError(name='v_loss'),\n",
    "        'a': VectorError(regularizer=1.0, name='a_loss'),\n",
    "        'q0_rec': VectorError(name='q0_loss'),\n",
    "        'v0_rec': VectorError(name='v0_loss'),\n",
    "        'H': EnergyError(name='H_loss'),\n",
    "        'P': VectorError(name='P_loss', regularizer=1.0E-6),\n",
    "        'L': VectorError(name='L_loss'),\n",
    "       }\n",
    "\n",
    "metrics = None\n",
    "\n",
    "loss_weights = {'q': 1.0,\n",
    "                'v': 1.0,\n",
    "                'a': 1.0,\n",
    "                'q0_rec': 1.0E4,\n",
    "                'v0_rec': 1.0E4,\n",
    "                'H': 1.0,\n",
    "                'P': 1.0,\n",
    "                'L': 1.0}"
   ]
  },
  {
   "cell_type": "code",
   "execution_count": 20,
   "metadata": {},
   "outputs": [],
   "source": [
    "# Compile the full mathematical model\n",
    "model_kj.compile(optimizer=optimizer, loss=loss, metrics=metrics, loss_weights=loss_weights)"
   ]
  },
  {
   "cell_type": "code",
   "execution_count": 21,
   "metadata": {},
   "outputs": [
    {
     "name": "stdout",
     "output_type": "stream",
     "text": [
      "\r",
      "1/1 [==============================] - 2s 2s/step - loss: 6.7071e-05 - q_loss: 1.9321e-05 - v_loss: 1.9308e-05 - a_loss: 2.8442e-05 - q0_rec_loss: 9.7934e-15 - v0_rec_loss: 2.0469e-14 - H_loss: 6.6203e-14 - P_loss: 3.6133e-14 - L_loss: 1.1413e-14\n"
     ]
    },
    {
     "data": {
      "text/plain": [
       "[6.707102875225246e-05,\n",
       " 1.9320656e-05,\n",
       " 1.9308249e-05,\n",
       " 2.844182e-05,\n",
       " 9.793443e-15,\n",
       " 2.0469324e-14,\n",
       " 6.620291e-14,\n",
       " 3.6132582e-14,\n",
       " 1.1412751e-14]"
      ]
     },
     "execution_count": 21,
     "metadata": {},
     "output_type": "execute_result"
    }
   ],
   "source": [
    "# Evaluate KJ model on unperturbed SEJ data set\n",
    "model_kj.evaluate(ds_sej0)"
   ]
  },
  {
   "cell_type": "code",
   "execution_count": 22,
   "metadata": {},
   "outputs": [
    {
     "name": "stdout",
     "output_type": "stream",
     "text": [
      "\r",
      "1/1 [==============================] - 0s 104ms/step - loss: 6.8487e-05 - q_loss: 1.9837e-05 - v_loss: 1.9812e-05 - a_loss: 2.8838e-05 - q0_rec_loss: 2.0671e-14 - v0_rec_loss: 1.9992e-14 - H_loss: 9.5866e-14 - P_loss: 3.8770e-14 - L_loss: 2.0161e-14\n"
     ]
    },
    {
     "data": {
      "text/plain": [
       "[6.848739576525986e-05,\n",
       " 1.9836736e-05,\n",
       " 1.9811845e-05,\n",
       " 2.883841e-05,\n",
       " 2.0670675e-14,\n",
       " 1.9992044e-14,\n",
       " 9.5865854e-14,\n",
       " 3.8770395e-14,\n",
       " 2.0161029e-14]"
      ]
     },
     "execution_count": 22,
     "metadata": {},
     "output_type": "execute_result"
    }
   ],
   "source": [
    "# Evaluate KJ model on tiny data set\n",
    "model_kj.evaluate(ds_tiny)"
   ]
  },
  {
   "cell_type": "code",
   "execution_count": 23,
   "metadata": {},
   "outputs": [
    {
     "name": "stdout",
     "output_type": "stream",
     "text": [
      "35/35 [==============================] - 4s 123ms/step - loss: 6.7764e-05 - q_loss: 1.9676e-05 - v_loss: 1.9652e-05 - a_loss: 2.8436e-05 - q0_rec_loss: 1.5596e-14 - v0_rec_loss: 1.4356e-14 - H_loss: 9.2961e-14 - P_loss: 3.8784e-14 - L_loss: 2.0182e-14\n"
     ]
    },
    {
     "data": {
      "text/plain": [
       "[6.776364025427029e-05,\n",
       " 1.9675517e-05,\n",
       " 1.9652058e-05,\n",
       " 2.8435767e-05,\n",
       " 1.559638e-14,\n",
       " 1.4356488e-14,\n",
       " 9.2961446e-14,\n",
       " 3.8784294e-14,\n",
       " 2.0181556e-14]"
      ]
     },
     "execution_count": 23,
     "metadata": {},
     "output_type": "execute_result"
    }
   ],
   "source": [
    "# Evaluate KJ model on full validation data\n",
    "model_kj.evaluate(ds_val)"
   ]
  },
  {
   "cell_type": "markdown",
   "metadata": {},
   "source": [
    "### Train the Neural Network Model"
   ]
  },
  {
   "cell_type": "code",
   "execution_count": 24,
   "metadata": {},
   "outputs": [],
   "source": [
    "# Configuration for neural network model architecture\n",
    "# hidden_sizes = []\n",
    "hidden_sizes = [64, 16]\n",
    "skip_layers = True\n",
    "\n",
    "# Training configuration\n",
    "learning_rate = 1.0E-7\n",
    "kernel_reg = 1.0E-6\n",
    "activity_reg = 0.0"
   ]
  },
  {
   "cell_type": "code",
   "execution_count": 25,
   "metadata": {},
   "outputs": [],
   "source": [
    "# Build neural network model\n",
    "model_nn = make_model_g3b_nn(hidden_sizes=hidden_sizes, skip_layers=skip_layers, \n",
    "                             kernel_reg=kernel_reg, activity_reg=activity_reg,\n",
    "                             traj_size=traj_size, batch_size=batch_size)"
   ]
  },
  {
   "cell_type": "code",
   "execution_count": 26,
   "metadata": {},
   "outputs": [],
   "source": [
    "# model_nn.summary()"
   ]
  },
  {
   "cell_type": "code",
   "execution_count": 27,
   "metadata": {},
   "outputs": [],
   "source": [
    "optimizer = keras.optimizers.Adam(learning_rate=learning_rate)\n",
    "# optimizer = keras.optimizers.Adadelta()"
   ]
  },
  {
   "cell_type": "code",
   "execution_count": 28,
   "metadata": {},
   "outputs": [],
   "source": [
    "# Compile the NN model\n",
    "model_nn.compile(optimizer=optimizer, loss=loss, metrics=metrics, loss_weights=loss_weights)"
   ]
  },
  {
   "cell_type": "code",
   "execution_count": 29,
   "metadata": {},
   "outputs": [
    {
     "name": "stdout",
     "output_type": "stream",
     "text": [
      "\r",
      "1/1 [==============================] - 2s 2s/step - loss: 6.7071e-05 - q_loss: 1.9321e-05 - v_loss: 1.9308e-05 - a_loss: 2.8442e-05 - q0_rec_loss: 9.7934e-15 - v0_rec_loss: 2.0469e-14 - H_loss: 6.6203e-14 - P_loss: 3.6133e-14 - L_loss: 1.1413e-14\n"
     ]
    },
    {
     "data": {
      "text/plain": [
       "[6.707102875225246e-05,\n",
       " 1.9320656e-05,\n",
       " 1.9308249e-05,\n",
       " 2.844182e-05,\n",
       " 9.793443e-15,\n",
       " 2.0469324e-14,\n",
       " 6.620291e-14,\n",
       " 3.6132582e-14,\n",
       " 1.1412751e-14]"
      ]
     },
     "execution_count": 29,
     "metadata": {},
     "output_type": "execute_result"
    }
   ],
   "source": [
    "# Evaluate the NN model on the unperturbed orbit\n",
    "model_nn.evaluate(ds_sej0)"
   ]
  },
  {
   "cell_type": "code",
   "execution_count": 30,
   "metadata": {},
   "outputs": [],
   "source": [
    "# Evaluate the NN model on the tiny data set\n",
    "# model_nn.evaluate(ds_tiny)"
   ]
  },
  {
   "cell_type": "code",
   "execution_count": 31,
   "metadata": {},
   "outputs": [],
   "source": [
    "# Table with baseline losses by scale factor\n",
    "baseline_tbl = dict()"
   ]
  },
  {
   "cell_type": "code",
   "execution_count": 32,
   "metadata": {},
   "outputs": [
    {
     "name": "stdout",
     "output_type": "stream",
     "text": [
      "35/35 [==============================] - 4s 112ms/step - loss: 6.7764e-05 - q_loss: 1.9676e-05 - v_loss: 1.9652e-05 - a_loss: 2.8436e-05 - q0_rec_loss: 1.5596e-14 - v0_rec_loss: 1.4356e-14 - H_loss: 9.2961e-14 - P_loss: 3.8784e-14 - L_loss: 2.0182e-14\n"
     ]
    }
   ],
   "source": [
    "# Evaluate the KJ model on the full validation data; save as baseline\n",
    "hist0, q_loss_baseline = baseline_loss(model_kj, ds_val)\n",
    "baseline_tbl[scale_factor] = q_loss_baseline"
   ]
  },
  {
   "cell_type": "code",
   "execution_count": 33,
   "metadata": {},
   "outputs": [],
   "source": [
    "# Set up training - shared variables\n",
    "\n",
    "# Suffix to the model name reflects layer sizes\n",
    "suffix = '_'.join(str(sz) for sz in hidden_sizes)\n",
    "\n",
    "# The model code is g3b or sej based on type of data\n",
    "if data_type == 'solar':   \n",
    "    model_code = 'g3b'\n",
    "elif data_type == 'SEJ':\n",
    "    model_code = 'sej'\n",
    "\n",
    "# The folder is the same as the model code\n",
    "folder = model_code\n",
    "\n",
    "# How often to save weights to disk\n",
    "save_freq = 'epoch'"
   ]
  },
  {
   "cell_type": "markdown",
   "metadata": {},
   "source": [
    "### Train on Unperturbed Model (ds_sej0)"
   ]
  },
  {
   "cell_type": "code",
   "execution_count": 34,
   "metadata": {},
   "outputs": [
    {
     "name": "stdout",
     "output_type": "stream",
     "text": [
      "model_nn.name = model_g3b_nn_64_16\n",
      "model_h5 = ../models/sej/model_sej_nn_64_16_sej0.h5\n",
      "hist_name = hist_sej_nn_64_16_sej0\n"
     ]
    }
   ],
   "source": [
    "# Set up training - unperturbed SEJ system (ds_sej0)\n",
    "model_name = f'model_{model_code}_nn_{suffix}_sej0'\n",
    "\n",
    "# Number of training epochs\n",
    "num_batches=1\n",
    "epochs_per_batch = 5\n",
    "\n",
    "# H5 file with model weights\n",
    "model_h5 = f'../models/{folder}/{model_name}.h5'\n",
    "# Name of the loss history in vartbl\n",
    "hist_name = model_name.replace('model_', 'hist_')\n",
    "\n",
    "# Status\n",
    "print(f'model_nn.name = {model_nn.name}')\n",
    "print(f'model_h5 = {model_h5}')\n",
    "print(f'hist_name = {hist_name}')"
   ]
  },
  {
   "cell_type": "code",
   "execution_count": 35,
   "metadata": {},
   "outputs": [
    {
     "name": "stdout",
     "output_type": "stream",
     "text": [
      "Unable to load model_sej_nn_64_16_sej0 from ../models/sej/model_sej_nn_64_16_sej0.h5. Fitting...\n",
      "*** Training batch   1 *** 2019-08-23 09:17:58\n",
      "Epoch 1/5\n",
      "\n",
      "Epoch 0001; loss 6.71e-05; elapsed 0:00:07\n",
      "1/1 [==============================] - 7s 7s/step - loss: 6.7071e-05 - q_loss: 1.9321e-05 - v_loss: 1.9308e-05 - a_loss: 2.8442e-05 - q0_rec_loss: 9.7934e-15 - v0_rec_loss: 2.0469e-14 - H_loss: 6.6203e-14 - P_loss: 3.6133e-14 - L_loss: 1.1413e-14\n",
      "Epoch 2/5\n",
      "\n",
      "Epoch 0002; loss 3.37e-05; elapsed 0:00:07\n",
      "1/1 [==============================] - 0s 221ms/step - loss: 3.3664e-05 - q_loss: 8.5428e-06 - v_loss: 8.7618e-06 - a_loss: 1.6254e-05 - q0_rec_loss: 9.7934e-15 - v0_rec_loss: 2.0469e-14 - H_loss: 2.1734e-08 - P_loss: 3.7065e-14 - L_loss: 8.3172e-08\n",
      "Epoch 3/5\n",
      "\n",
      "Epoch 0003; loss 1.47e-05; elapsed 0:00:07\n",
      "1/1 [==============================] - 0s 212ms/step - loss: 1.4682e-05 - q_loss: 4.2423e-06 - v_loss: 4.2056e-06 - a_loss: 6.0385e-06 - q0_rec_loss: 9.7934e-15 - v0_rec_loss: 2.0469e-14 - H_loss: 4.9966e-10 - P_loss: 3.8403e-14 - L_loss: 1.9422e-07\n",
      "Epoch 4/5\n",
      "\n",
      "Epoch 0004; loss 3.91e-06; elapsed 0:00:07\n",
      "1/1 [==============================] - 0s 207ms/step - loss: 3.9077e-06 - q_loss: 8.1656e-07 - v_loss: 8.4966e-07 - a_loss: 2.1825e-06 - q0_rec_loss: 9.7934e-15 - v0_rec_loss: 2.0469e-14 - H_loss: 7.7964e-09 - P_loss: 3.9652e-14 - L_loss: 5.0666e-08\n",
      "Epoch 5/5\n",
      "\n",
      "Epoch 0005; loss 1.29e-05; elapsed 0:00:08\n",
      "1/1 [==============================] - 0s 179ms/step - loss: 1.2885e-05 - q_loss: 4.4936e-06 - v_loss: 4.4890e-06 - a_loss: 3.8605e-06 - q0_rec_loss: 9.7934e-15 - v0_rec_loss: 2.0469e-14 - H_loss: 1.2824e-08 - P_loss: 3.7907e-14 - L_loss: 2.8458e-08\n"
     ]
    }
   ],
   "source": [
    "try:\n",
    "    model_nn.load_weights(model_h5)\n",
    "    model_nn.compile(loss=loss, optimizer=optimizer, metrics=metrics, loss_weights=loss_weights)\n",
    "    hist = vartbl[hist_name]\n",
    "    print(f'Loaded {model_name} from {model_h5}.')\n",
    "except:\n",
    "    print(f'Unable to load {model_name} from {model_h5}. Fitting...')\n",
    "    hist = hist0\n",
    "    for i in range_inc(num_batches):\n",
    "        ts = datetime.datetime.now()\n",
    "        st = ts.strftime('%Y-%m-%d %H:%M:%S')\n",
    "        print(f'*** Training batch {i:3} *** {st}')\n",
    "        hist = fit_model(model=model_nn,\n",
    "                         model_name=model_name,\n",
    "                         folder=folder,\n",
    "                         ds=ds_sej0, \n",
    "                         epochs=epochs_per_batch,\n",
    "                         save_freq=save_freq,\n",
    "                         prev_history = hist, \n",
    "                         batch_num=i)\n",
    "    vartbl[hist_name] = hist\n",
    "    save_vartbl(vartbl, fname)"
   ]
  },
  {
   "cell_type": "code",
   "execution_count": 36,
   "metadata": {},
   "outputs": [
    {
     "name": "stdout",
     "output_type": "stream",
     "text": [
      "\r",
      "1/1 [==============================] - 0s 103ms/step - loss: 1.2885e-05 - q_loss: 4.4936e-06 - v_loss: 4.4890e-06 - a_loss: 3.8605e-06 - q0_rec_loss: 9.7934e-15 - v0_rec_loss: 2.0469e-14 - H_loss: 1.2824e-08 - P_loss: 3.7907e-14 - L_loss: 2.8458e-08\n"
     ]
    },
    {
     "data": {
      "text/plain": [
       "[1.2884849638794549e-05,\n",
       " 4.493584e-06,\n",
       " 4.488994e-06,\n",
       " 3.8605167e-06,\n",
       " 9.793443e-15,\n",
       " 2.0469324e-14,\n",
       " 1.2824296e-08,\n",
       " 3.7907293e-14,\n",
       " 2.8457942e-08]"
      ]
     },
     "execution_count": 36,
     "metadata": {},
     "output_type": "execute_result"
    }
   ],
   "source": [
    "# Evaluate trained model on unperturbed data set\n",
    "model_nn.evaluate(ds_sej0)"
   ]
  },
  {
   "cell_type": "code",
   "execution_count": 37,
   "metadata": {},
   "outputs": [
    {
     "data": {
      "image/png": "[encoded data removed]",
      "text/plain": [
       "<Figure size 1152x648 with 1 Axes>"
      ]
     },
     "metadata": {
      "needs_background": "light"
     },
     "output_type": "display_data"
    }
   ],
   "source": [
    "# Plot the loss\n",
    "fig, ax = plot_loss_hist(hist=hist, model_name=model_name, key='q_loss', baseline=q_loss_baseline)"
   ]
  },
  {
   "cell_type": "markdown",
   "metadata": {},
   "source": [
    "### Train on Tiny Data Set"
   ]
  },
  {
   "cell_type": "code",
   "execution_count": 38,
   "metadata": {},
   "outputs": [
    {
     "name": "stdout",
     "output_type": "stream",
     "text": [
      "model_nn.name = model_g3b_nn_64_16\n",
      "model_h5 = ../models/sej/model_sej_nn_64_16_tiny.h5\n",
      "hist_name = hist_sej_nn_64_16_tiny\n"
     ]
    }
   ],
   "source": [
    "# Set up training - tiny data set\n",
    "model_name = f'model_{model_code}_nn_{suffix}_tiny'\n",
    "\n",
    "# Number of training epochs\n",
    "num_batches = 1\n",
    "epochs_per_batch = 10\n",
    "\n",
    "# H5 file with model weights\n",
    "model_h5 = f'../models/{folder}/{model_name}.h5'\n",
    "# Name of the loss history in vartbl\n",
    "hist_name = model_name.replace('model_', 'hist_')\n",
    "\n",
    "# Status\n",
    "print(f'model_nn.name = {model_nn.name}')\n",
    "print(f'model_h5 = {model_h5}')\n",
    "print(f'hist_name = {hist_name}')"
   ]
  },
  {
   "cell_type": "code",
   "execution_count": 39,
   "metadata": {},
   "outputs": [
    {
     "name": "stdout",
     "output_type": "stream",
     "text": [
      "Unable to load model_sej_nn_64_16_tiny from ../models/sej/model_sej_nn_64_16_tiny.h5. Fitting...\n",
      "*** Training batch   1 *** 2019-08-23 09:18:07\n",
      "Epoch 1/10\n",
      "\n",
      "Epoch 0001; loss 1.25e-05; elapsed 0:00:00\n",
      "1/1 [==============================] - 0s 223ms/step - loss: 1.2546e-05 - q_loss: 4.1850e-06 - v_loss: 4.2767e-06 - a_loss: 4.0424e-06 - q0_rec_loss: 2.0671e-14 - v0_rec_loss: 1.9992e-14 - H_loss: 1.1973e-08 - P_loss: 3.9447e-14 - L_loss: 2.9548e-08\n",
      "Epoch 2/10\n",
      "\n",
      "Epoch 0002; loss 1.30e-05; elapsed 0:00:00\n",
      "1/1 [==============================] - 0s 176ms/step - loss: 1.3035e-05 - q_loss: 4.6509e-06 - v_loss: 4.6756e-06 - a_loss: 3.6766e-06 - q0_rec_loss: 2.0671e-14 - v0_rec_loss: 1.9992e-14 - H_loss: 2.1661e-09 - P_loss: 3.9395e-14 - L_loss: 2.8885e-08\n",
      "Epoch 3/10\n",
      "\n",
      "Epoch 0003; loss 1.27e-05; elapsed 0:00:01\n",
      "1/1 [==============================] - 0s 153ms/step - loss: 1.2750e-05 - q_loss: 4.6772e-06 - v_loss: 4.6638e-06 - a_loss: 3.4051e-06 - q0_rec_loss: 2.0671e-14 - v0_rec_loss: 1.9992e-14 - H_loss: 4.8637e-10 - P_loss: 3.9268e-14 - L_loss: 2.5889e-09\n",
      "Epoch 4/10\n",
      "\n",
      "Epoch 0004; loss 1.31e-05; elapsed 0:00:01\n",
      "1/1 [==============================] - 0s 154ms/step - loss: 1.3114e-05 - q_loss: 4.7955e-06 - v_loss: 4.7984e-06 - a_loss: 3.5037e-06 - q0_rec_loss: 2.0671e-14 - v0_rec_loss: 1.9992e-14 - H_loss: 5.2420e-09 - P_loss: 3.9223e-14 - L_loss: 1.0496e-08\n",
      "Epoch 5/10\n",
      "\n",
      "Epoch 0005; loss 1.21e-05; elapsed 0:00:01\n",
      "1/1 [==============================] - 0s 217ms/step - loss: 1.2088e-05 - q_loss: 4.2854e-06 - v_loss: 4.3211e-06 - a_loss: 3.4491e-06 - q0_rec_loss: 2.0671e-14 - v0_rec_loss: 1.9992e-14 - H_loss: 8.1820e-09 - P_loss: 3.9491e-14 - L_loss: 2.4115e-08\n",
      "Epoch 6/10\n",
      "\n",
      "Epoch 0006; loss 8.67e-06; elapsed 0:00:01\n",
      "1/1 [==============================] - 0s 220ms/step - loss: 8.6651e-06 - q_loss: 2.8591e-06 - v_loss: 2.8991e-06 - a_loss: 2.8903e-06 - q0_rec_loss: 2.0671e-14 - v0_rec_loss: 1.9992e-14 - H_loss: 6.1500e-09 - P_loss: 3.9277e-14 - L_loss: 9.8211e-09\n",
      "Epoch 7/10\n",
      "\n",
      "Epoch 0007; loss 5.01e-06; elapsed 0:00:02\n",
      "1/1 [==============================] - 0s 186ms/step - loss: 5.0094e-06 - q_loss: 1.3715e-06 - v_loss: 1.3862e-06 - a_loss: 2.2482e-06 - q0_rec_loss: 2.0671e-14 - v0_rec_loss: 1.9992e-14 - H_loss: 2.1665e-09 - P_loss: 3.9318e-14 - L_loss: 8.2530e-10\n",
      "Epoch 8/10\n",
      "\n",
      "Epoch 0008; loss 3.49e-06; elapsed 0:00:02\n",
      "1/1 [==============================] - 0s 208ms/step - loss: 3.4861e-06 - q_loss: 6.7886e-07 - v_loss: 6.6587e-07 - a_loss: 2.1286e-06 - q0_rec_loss: 2.0671e-14 - v0_rec_loss: 1.9992e-14 - H_loss: 4.5117e-11 - P_loss: 3.9291e-14 - L_loss: 1.2168e-08\n",
      "Epoch 9/10\n",
      "\n",
      "Epoch 0009; loss 4.24e-06; elapsed 0:00:02\n",
      "1/1 [==============================] - 0s 180ms/step - loss: 4.2373e-06 - q_loss: 7.7231e-07 - v_loss: 7.5267e-07 - a_loss: 2.6972e-06 - q0_rec_loss: 2.0671e-14 - v0_rec_loss: 1.9992e-14 - H_loss: 8.7658e-10 - P_loss: 3.9373e-14 - L_loss: 1.3723e-08\n",
      "Epoch 10/10\n",
      "\n",
      "Epoch 0010; loss 5.71e-06; elapsed 0:00:02\n",
      "1/1 [==============================] - 0s 158ms/step - loss: 5.7095e-06 - q_loss: 1.0525e-06 - v_loss: 1.0477e-06 - a_loss: 3.6035e-06 - q0_rec_loss: 2.0671e-14 - v0_rec_loss: 1.9992e-14 - H_loss: 2.7537e-09 - P_loss: 3.9360e-14 - L_loss: 2.4553e-09\n"
     ]
    }
   ],
   "source": [
    "try:\n",
    "    model_nn.load_weights(model_h5)\n",
    "    model_nn.compile(loss=loss, optimizer=optimizer, metrics=metrics, loss_weights=loss_weights)\n",
    "    hist = vartbl[hist_name]\n",
    "    print(f'Loaded {model_name} from {model_h5}.')\n",
    "except:\n",
    "    print(f'Unable to load {model_name} from {model_h5}. Fitting...')\n",
    "    hist = hist0\n",
    "    for i in range_inc(num_batches):\n",
    "        ts = datetime.datetime.now()\n",
    "        st = ts.strftime('%Y-%m-%d %H:%M:%S')\n",
    "        print(f'*** Training batch {i:3} *** {st}')\n",
    "        hist = fit_model(model=model_nn,\n",
    "                         model_name=model_name,\n",
    "                         folder=folder,\n",
    "                         ds=ds_tiny, \n",
    "                         epochs=epochs_per_batch,\n",
    "                         save_freq=save_freq,\n",
    "                         prev_history = hist, \n",
    "                         batch_num=i)\n",
    "    vartbl[hist_name] = hist\n",
    "    save_vartbl(vartbl, fname)"
   ]
  },
  {
   "cell_type": "code",
   "execution_count": 40,
   "metadata": {},
   "outputs": [
    {
     "name": "stdout",
     "output_type": "stream",
     "text": [
      "\r",
      "1/1 [==============================] - 0s 96ms/step - loss: 4.2373e-06 - q_loss: 7.7231e-07 - v_loss: 7.5267e-07 - a_loss: 2.6972e-06 - q0_rec_loss: 2.0671e-14 - v0_rec_loss: 1.9992e-14 - H_loss: 8.7658e-10 - P_loss: 3.9373e-14 - L_loss: 1.3723e-08\n"
     ]
    },
    {
     "data": {
      "text/plain": [
       "[4.237305802234914e-06,\n",
       " 7.72309e-07,\n",
       " 7.526695e-07,\n",
       " 2.6971964e-06,\n",
       " 2.0670675e-14,\n",
       " 1.9992044e-14,\n",
       " 8.765811e-10,\n",
       " 3.9372765e-14,\n",
       " 1.3722782e-08]"
      ]
     },
     "execution_count": 40,
     "metadata": {},
     "output_type": "execute_result"
    }
   ],
   "source": [
    "model_nn.evaluate(ds_tiny)"
   ]
  },
  {
   "cell_type": "code",
   "execution_count": 41,
   "metadata": {},
   "outputs": [
    {
     "data": {
      "image/png": "[encoded data removed]",
      "text/plain": [
       "<Figure size 1152x648 with 1 Axes>"
      ]
     },
     "metadata": {
      "needs_background": "light"
     },
     "output_type": "display_data"
    }
   ],
   "source": [
    "# Plot the loss\n",
    "fig, ax = plot_loss_hist(hist=hist, model_name=model_nn.name, key='q_loss', baseline=q_loss_baseline)"
   ]
  },
  {
   "cell_type": "markdown",
   "metadata": {},
   "source": [
    "### Train on Full Data Set with Perturbation Scale Factor = 1.0"
   ]
  },
  {
   "cell_type": "code",
   "execution_count": 42,
   "metadata": {},
   "outputs": [],
   "source": [
    "# Scale factor\n",
    "scale_factor = 1.0\n",
    "\n",
    "# Data for this scale factor\n",
    "ds_trn, ds_val, ds_tst = data_by_factor[scale_factor]"
   ]
  },
  {
   "cell_type": "code",
   "execution_count": 43,
   "metadata": {},
   "outputs": [
    {
     "name": "stdout",
     "output_type": "stream",
     "text": [
      "35/35 [==============================] - 4s 119ms/step - loss: 6.7764e-05 - q_loss: 1.9676e-05 - v_loss: 1.9652e-05 - a_loss: 2.8436e-05 - q0_rec_loss: 1.5596e-14 - v0_rec_loss: 1.4356e-14 - H_loss: 9.2961e-14 - P_loss: 3.8784e-14 - L_loss: 2.0182e-14\n"
     ]
    }
   ],
   "source": [
    "# Evaluate the KJ model on the validation data; save as baseline\n",
    "hist0, q_loss_baseline = baseline_loss(model_kj, ds_val)\n",
    "baseline_tbl[scale_factor] = q_loss_baseline"
   ]
  },
  {
   "cell_type": "code",
   "execution_count": 44,
   "metadata": {},
   "outputs": [
    {
     "name": "stdout",
     "output_type": "stream",
     "text": [
      "Training for 1 batches of 5 epochs each.\n",
      "model_name = model_sej_nn_64_16_sf_1\n",
      "model_h5 = ../models/sej/model_sej_nn_64_16_sf_1.h5\n",
      "hist_name = hist_sej_nn_64_16_sf_1\n"
     ]
    }
   ],
   "source": [
    "# Set up training - full data, scale factor = 1\n",
    "\n",
    "# Number of training epochs\n",
    "num_batches=1\n",
    "epochs_per_batch = 5\n",
    "\n",
    "# Integer scale factor\n",
    "sfi = int(scale_factor)\n",
    "\n",
    "# Name of this model including scale factor\n",
    "model_name = f'model_{model_code}_nn_{suffix}_sf_{sfi}'\n",
    "\n",
    "# H5 file with model weights\n",
    "model_h5 = f'../models/{folder}/{model_name}.h5'\n",
    "# Name of the loss history in vartbl\n",
    "hist_name = model_name.replace('model_', 'hist_')\n",
    "\n",
    "# Status\n",
    "print(f'Training for {num_batches} batches of {epochs_per_batch} epochs each.')\n",
    "print(f'model_name = {model_name}')\n",
    "print(f'model_h5 = {model_h5}')\n",
    "print(f'hist_name = {hist_name}')"
   ]
  },
  {
   "cell_type": "code",
   "execution_count": 45,
   "metadata": {},
   "outputs": [
    {
     "name": "stdout",
     "output_type": "stream",
     "text": [
      "Unable to load model_sej_nn_64_16_sf_1 from ../models/sej/model_sej_nn_64_16_sf_1.h5. Fitting...\n",
      "*** Training batch   1 *** 2019-08-23 09:18:16\n",
      "Epoch 1/5\n",
      "194/195 [============================>.] - ETA: 0s - loss: 1.5553e-06 - q_loss: 2.2232e-07 - v_loss: 2.0404e-07 - a_loss: 1.1274e-06 - q0_rec_loss: 1.5368e-14 - v0_rec_loss: 1.4172e-14 - H_loss: 1.6562e-11 - P_loss: 3.9266e-14 - L_loss: 1.0457e-09\n",
      "Epoch 0001; loss 1.55e-06; elapsed 0:00:51\n",
      "195/195 [==============================] - 42s 213ms/step - loss: 1.5545e-06 - q_loss: 2.2228e-07 - v_loss: 2.0400e-07 - a_loss: 1.1267e-06 - q0_rec_loss: 1.5370e-14 - v0_rec_loss: 1.4169e-14 - H_loss: 1.6477e-11 - P_loss: 3.9266e-14 - L_loss: 1.0404e-09\n",
      "Epoch 2/5\n",
      "194/195 [============================>.] - ETA: 0s - loss: 1.3400e-06 - q_loss: 1.8058e-07 - v_loss: 1.6287e-07 - a_loss: 9.9607e-07 - q0_rec_loss: 1.5368e-14 - v0_rec_loss: 1.4172e-14 - H_loss: 1.0038e-13 - P_loss: 3.9260e-14 - L_loss: 8.9980e-13\n",
      "Epoch 0002; loss 1.34e-06; elapsed 0:01:41\n",
      "195/195 [==============================] - 40s 206ms/step - loss: 1.3401e-06 - q_loss: 1.8073e-07 - v_loss: 1.6302e-07 - a_loss: 9.9590e-07 - q0_rec_loss: 1.5370e-14 - v0_rec_loss: 1.4169e-14 - H_loss: 1.0038e-13 - P_loss: 3.9261e-14 - L_loss: 8.9765e-13\n",
      "Epoch 3/5\n",
      "194/195 [============================>.] - ETA: 0s - loss: 1.3097e-06 - q_loss: 1.7638e-07 - v_loss: 1.5988e-07 - a_loss: 9.7292e-07 - q0_rec_loss: 1.5368e-14 - v0_rec_loss: 1.4172e-14 - H_loss: 1.0097e-13 - P_loss: 3.9288e-14 - L_loss: 2.8513e-13\n",
      "Epoch 0003; loss 1.31e-06; elapsed 0:02:30\n",
      "195/195 [==============================] - 40s 204ms/step - loss: 1.3099e-06 - q_loss: 1.7657e-07 - v_loss: 1.6008e-07 - a_loss: 9.7270e-07 - q0_rec_loss: 1.5370e-14 - v0_rec_loss: 1.4169e-14 - H_loss: 1.0101e-13 - P_loss: 3.9288e-14 - L_loss: 2.8450e-13\n",
      "Epoch 4/5\n",
      "194/195 [============================>.] - ETA: 0s - loss: 1.2852e-06 - q_loss: 1.7347e-07 - v_loss: 1.5837e-07 - a_loss: 9.5229e-07 - q0_rec_loss: 1.5368e-14 - v0_rec_loss: 1.4172e-14 - H_loss: 1.0129e-13 - P_loss: 3.9303e-14 - L_loss: 5.2107e-10\n",
      "Epoch 0004; loss 1.29e-06; elapsed 0:03:19\n",
      "195/195 [==============================] - 40s 205ms/step - loss: 1.2853e-06 - q_loss: 1.7356e-07 - v_loss: 1.5846e-07 - a_loss: 9.5223e-07 - q0_rec_loss: 1.5370e-14 - v0_rec_loss: 1.4169e-14 - H_loss: 1.0129e-13 - P_loss: 3.9304e-14 - L_loss: 5.2859e-10\n",
      "Epoch 5/5\n",
      "194/195 [============================>.] - ETA: 0s - loss: 1.2648e-06 - q_loss: 1.7090e-07 - v_loss: 1.5726e-07 - a_loss: 9.3542e-07 - q0_rec_loss: 1.5368e-14 - v0_rec_loss: 1.4172e-14 - H_loss: 1.0442e-13 - P_loss: 3.9321e-14 - L_loss: 5.9513e-10\n",
      "Epoch 0005; loss 1.26e-06; elapsed 0:04:10\n",
      "195/195 [==============================] - 41s 209ms/step - loss: 1.2649e-06 - q_loss: 1.7094e-07 - v_loss: 1.5730e-07 - a_loss: 9.3544e-07 - q0_rec_loss: 1.5370e-14 - v0_rec_loss: 1.4169e-14 - H_loss: 1.0441e-13 - P_loss: 3.9321e-14 - L_loss: 5.9217e-10\n"
     ]
    }
   ],
   "source": [
    "# Attempt to load model or train on selected number of epochs\n",
    "try:\n",
    "    model_nn.load_weights(model_h5)\n",
    "    model_nn.compile(loss=loss, optimizer=optimizer, metrics=metrics, loss_weights=loss_weights)\n",
    "    hist = vartbl[hist_name]\n",
    "    print(f'Loaded {model_name} from {model_h5}.')\n",
    "except:\n",
    "    print(f'Unable to load {model_name} from {model_h5}. Fitting...')\n",
    "    hist = hist0\n",
    "    for i in range_inc(num_batches):\n",
    "        ts = datetime.datetime.now()\n",
    "        st = ts.strftime('%Y-%m-%d %H:%M:%S')\n",
    "        print(f'*** Training batch {i:3} *** {st}')\n",
    "        hist = fit_model(model=model_nn,\n",
    "                         model_name=model_name,\n",
    "                         folder=folder,\n",
    "                         ds=ds_trn, \n",
    "                         epochs=epochs_per_batch,\n",
    "                         save_freq=save_freq,\n",
    "                         prev_history = hist, \n",
    "                         batch_num=i)    \n",
    "    vartbl[hist_name] = hist\n",
    "    save_vartbl(vartbl, fname)"
   ]
  },
  {
   "cell_type": "code",
   "execution_count": 46,
   "metadata": {},
   "outputs": [
    {
     "data": {
      "image/png": "[encoded data removed]",
      "text/plain": [
       "<Figure size 1152x648 with 1 Axes>"
      ]
     },
     "metadata": {
      "needs_background": "light"
     },
     "output_type": "display_data"
    }
   ],
   "source": [
    "# Plot the loss\n",
    "fig, ax = plot_loss_hist(hist=hist, model_name=model_name, key='q_loss', baseline=q_loss_baseline)"
   ]
  },
  {
   "cell_type": "code",
   "execution_count": 47,
   "metadata": {},
   "outputs": [],
   "source": [
    "# Plot the total loss\n",
    "# fig, ax = plot_loss_hist(hist=hist, model_name=model_nn.name, key='loss')"
   ]
  },
  {
   "cell_type": "code",
   "execution_count": 48,
   "metadata": {},
   "outputs": [],
   "source": [
    "# Evaluate the trained model on the training data\n",
    "# model_nn.evaluate(ds_trn)"
   ]
  },
  {
   "cell_type": "code",
   "execution_count": 49,
   "metadata": {},
   "outputs": [
    {
     "name": "stdout",
     "output_type": "stream",
     "text": [
      "35/35 [==============================] - 4s 128ms/step - loss: 1.2449e-06 - q_loss: 1.5281e-07 - v_loss: 1.3971e-07 - a_loss: 9.5163e-07 - q0_rec_loss: 1.5596e-14 - v0_rec_loss: 1.4356e-14 - H_loss: 1.0152e-13 - P_loss: 3.9335e-14 - L_loss: 1.0712e-10\n"
     ]
    },
    {
     "data": {
      "text/plain": [
       "[1.2448757940676712e-06,\n",
       " 1.528081e-07,\n",
       " 1.3970813e-07,\n",
       " 9.5163404e-07,\n",
       " 1.559638e-14,\n",
       " 1.4356488e-14,\n",
       " 1.01519975e-13,\n",
       " 3.9334682e-14,\n",
       " 1.0711654e-10]"
      ]
     },
     "execution_count": 49,
     "metadata": {},
     "output_type": "execute_result"
    }
   ],
   "source": [
    "# Evaluate the trained model on the validation data\n",
    "model_nn.evaluate(ds_val)"
   ]
  },
  {
   "cell_type": "code",
   "execution_count": 50,
   "metadata": {},
   "outputs": [],
   "source": [
    "# Evaluate the trained model on the test data\n",
    "# model_nn.evaluate(ds_tst)"
   ]
  },
  {
   "cell_type": "markdown",
   "metadata": {},
   "source": [
    "### Describe Covariance of Dataset Orbital Elements"
   ]
  },
  {
   "cell_type": "code",
   "execution_count": 51,
   "metadata": {},
   "outputs": [],
   "source": [
    "# Compute covariance matrix of orbital elements\n",
    "cov = orb_elt_cov(ds_val)"
   ]
  },
  {
   "cell_type": "code",
   "execution_count": 52,
   "metadata": {},
   "outputs": [],
   "source": [
    "# List of orbital elements in the cov matrix\n",
    "elt_names = ['a1', 'a2', 'e1', 'e2', 'inc1', 'inc2', 'Omega1', 'Omega2', 'omega1', 'omega2', 'f1', 'f2']\n",
    "# limit to the interesting ones\n",
    "elt_names = elt_names[0:6]"
   ]
  },
  {
   "cell_type": "code",
   "execution_count": 53,
   "metadata": {},
   "outputs": [
    {
     "name": "stdout",
     "output_type": "stream",
     "text": [
      "SD of a1     = 0.020791\n",
      "SD of a2     = 0.110142\n",
      "SD of e1     = 0.009033\n",
      "SD of e2     = 0.010346\n",
      "SD of inc1   = 0.006084\n",
      "SD of inc2   = 0.008534\n"
     ]
    }
   ],
   "source": [
    "# Display standard deviations of orbital elements\n",
    "sds = np.sqrt(np.diag(cov))\n",
    "for i, elt_name in enumerate(elt_names):\n",
    "    sd = sds[i]\n",
    "    print(f'SD of {elt_name:6} = {sd:8.6f}')"
   ]
  },
  {
   "cell_type": "markdown",
   "metadata": {},
   "source": [
    "### Train on Full Data Set with Perturbation Scale Factor = 2.0"
   ]
  },
  {
   "cell_type": "code",
   "execution_count": 54,
   "metadata": {},
   "outputs": [
    {
     "name": "stdout",
     "output_type": "stream",
     "text": [
      "Loaded data from ../data/sej/2569572219.pickle.\n"
     ]
    },
    {
     "data": {
      "application/vnd.jupyter.widget-view+json": {
       "model_id": "3c6d50c0438e4a868718945984073184",
       "version_major": 2,
       "version_minor": 0
      },
      "text/plain": [
       "HBox(children=(IntProgress(value=0, max=4), HTML(value='')))"
      ]
     },
     "metadata": {},
     "output_type": "display_data"
    },
    {
     "name": "stdout",
     "output_type": "stream",
     "text": [
      "Loaded data from ../data/sej/3597212092.pickle.\n",
      "Loaded data from ../data/sej/1674012657.pickle.\n",
      "Loaded data from ../data/sej/3016210063.pickle.\n",
      "Loaded data from ../data/sej/3467657930.pickle.\n",
      "\n"
     ]
    }
   ],
   "source": [
    "# Build combined SEJ data sets with scale factor = 2\n",
    "scale_factor = 2.0\n",
    "\n",
    "# Data for this scale factor\n",
    "ds_trn, ds_val, ds_tst = \\\n",
    "    combine_datasets_sej(num_data_sets=num_data_sets, batch_size=batch_size, \n",
    "                         seed0=seed0, scale_factor=scale_factor)"
   ]
  },
  {
   "cell_type": "code",
   "execution_count": 55,
   "metadata": {},
   "outputs": [],
   "source": [
    "# Update data by scale factor\n",
    "data_by_factor[scale_factor] = (ds_trn, ds_val, ds_tst)"
   ]
  },
  {
   "cell_type": "code",
   "execution_count": 56,
   "metadata": {},
   "outputs": [],
   "source": [
    "# Compute covariance matrix of orbital elements\n",
    "cov = orb_elt_cov(ds_val)"
   ]
  },
  {
   "cell_type": "code",
   "execution_count": 57,
   "metadata": {},
   "outputs": [
    {
     "name": "stdout",
     "output_type": "stream",
     "text": [
      "SD of a1     = 0.041659\n",
      "SD of a2     = 0.220513\n",
      "SD of e1     = 0.015236\n",
      "SD of e2     = 0.019587\n",
      "SD of inc1   = 0.012167\n",
      "SD of inc2   = 0.014576\n"
     ]
    }
   ],
   "source": [
    "# Display standard deviations of orbital elements\n",
    "sds = np.sqrt(np.diag(cov))\n",
    "for i, elt_name in enumerate(elt_names):\n",
    "    sd = sds[i]\n",
    "    print(f'SD of {elt_name:6} = {sd:8.6f}')"
   ]
  },
  {
   "cell_type": "code",
   "execution_count": 58,
   "metadata": {},
   "outputs": [
    {
     "name": "stdout",
     "output_type": "stream",
     "text": [
      "35/35 [==============================] - 4s 124ms/step - loss: 6.7938e-05 - q_loss: 2.0025e-05 - v_loss: 1.9968e-05 - a_loss: 2.7945e-05 - q0_rec_loss: 1.7878e-14 - v0_rec_loss: 1.6894e-14 - H_loss: 9.5447e-14 - P_loss: 3.8691e-14 - L_loss: 2.0115e-14\n"
     ]
    }
   ],
   "source": [
    "# Evaluate the NN model on the full validation data; save as baseline\n",
    "hist0, q_loss_baseline = baseline_loss(model_kj, ds_val)\n",
    "baseline_tbl[scale_factor] = q_loss_baseline"
   ]
  },
  {
   "cell_type": "code",
   "execution_count": 59,
   "metadata": {},
   "outputs": [
    {
     "name": "stdout",
     "output_type": "stream",
     "text": [
      "Training for 1 batches of 5 epochs each.\n",
      "model_name = model_sej_nn_64_16_sf_2\n",
      "model_h5 = ../models/sej/model_sej_nn_64_16_sf_2.h5\n",
      "hist_name = hist_sej_nn_64_16_sf_2\n"
     ]
    }
   ],
   "source": [
    "# Set up training - full data, scale factor = 2\n",
    "\n",
    "# Number of training epochs\n",
    "num_batches=1\n",
    "epochs_per_batch = 5\n",
    "\n",
    "# Integer scale factor\n",
    "sfi = int(scale_factor)\n",
    "\n",
    "# Name of this model including scale factor\n",
    "model_name = f'model_{model_code}_nn_{suffix}_sf_{sfi}'\n",
    "\n",
    "# H5 file with model weights\n",
    "model_h5 = f'../models/{folder}/{model_name}.h5'\n",
    "# Name of the loss history in vartbl\n",
    "hist_name = model_name.replace('model_', 'hist_')\n",
    "\n",
    "# Status\n",
    "print(f'Training for {num_batches} batches of {epochs_per_batch} epochs each.')\n",
    "print(f'model_name = {model_name}')\n",
    "print(f'model_h5 = {model_h5}')\n",
    "print(f'hist_name = {hist_name}')"
   ]
  },
  {
   "cell_type": "code",
   "execution_count": null,
   "metadata": {},
   "outputs": [
    {
     "name": "stdout",
     "output_type": "stream",
     "text": [
      "Unable to load model_sej_nn_64_16_sf_2 from ../models/sej/model_sej_nn_64_16_sf_2.h5. Fitting...\n",
      "*** Training batch   1 *** 2019-08-23 09:23:43\n",
      "Epoch 1/5\n",
      " 78/195 [===========>..................] - ETA: 26s - loss: 1.5148e-06 - q_loss: 3.0190e-07 - v_loss: 2.7069e-07 - a_loss: 9.4147e-07 - q0_rec_loss: 1.7794e-14 - v0_rec_loss: 1.6510e-14 - H_loss: 1.0722e-13 - P_loss: 3.9292e-14 - L_loss: 1.2481e-11"
     ]
    }
   ],
   "source": [
    "# Attempt to load model or train on selected number of epochs\n",
    "try:\n",
    "    model_nn.load_weights(model_h5)\n",
    "    model_nn.compile(loss=loss, optimizer=optimizer, metrics=metrics, loss_weights=loss_weights)\n",
    "    hist = vartbl[hist_name]\n",
    "    print(f'Loaded {model_name} from {model_h5}.')\n",
    "except:\n",
    "    print(f'Unable to load {model_name} from {model_h5}. Fitting...')\n",
    "    hist = hist0\n",
    "    for i in range_inc(num_batches):\n",
    "        ts = datetime.datetime.now()\n",
    "        st = ts.strftime('%Y-%m-%d %H:%M:%S')\n",
    "        print(f'*** Training batch {i:3} *** {st}')\n",
    "        hist = fit_model(model=model_nn,\n",
    "                         model_name=model_name,\n",
    "                         folder=folder,\n",
    "                         ds=ds_trn, \n",
    "                         epochs=epochs_per_batch,\n",
    "                         save_freq=save_freq,\n",
    "                         prev_history = hist, \n",
    "                         batch_num=i)\n",
    "    \n",
    "    vartbl[hist_name] = hist\n",
    "    save_vartbl(vartbl, fname)"
   ]
  },
  {
   "cell_type": "code",
   "execution_count": null,
   "metadata": {},
   "outputs": [],
   "source": [
    "# Evaluate the trained model on the validation data\n",
    "model_nn.evaluate(ds_val)"
   ]
  },
  {
   "cell_type": "code",
   "execution_count": null,
   "metadata": {},
   "outputs": [],
   "source": [
    "# Plot the loss\n",
    "fig, ax = plot_loss_hist(hist=hist, model_name=model_name, key='q_loss', baseline=q_loss_baseline)"
   ]
  },
  {
   "cell_type": "markdown",
   "metadata": {},
   "source": [
    "### Train on Full Data Set with Perturbation Scale Factor = 4.0"
   ]
  },
  {
   "cell_type": "code",
   "execution_count": null,
   "metadata": {},
   "outputs": [],
   "source": [
    "# Build combined SEJ data sets with scale factor = 4\n",
    "scale_factor = 4.0\n",
    "\n",
    "# Data for this scale factor\n",
    "ds_trn, ds_val, ds_tst = \\\n",
    "    combine_datasets_sej(num_data_sets=num_data_sets, batch_size=batch_size, \n",
    "                         seed0=seed0, scale_factor=scale_factor)"
   ]
  },
  {
   "cell_type": "code",
   "execution_count": null,
   "metadata": {},
   "outputs": [],
   "source": [
    "# Update data by scale factor\n",
    "data_by_factor[scale_factor] = (ds_trn, ds_val, ds_tst)"
   ]
  },
  {
   "cell_type": "code",
   "execution_count": null,
   "metadata": {},
   "outputs": [],
   "source": [
    "# Compute covariance matrix of orbital elements\n",
    "cov = orb_elt_cov(ds_val)"
   ]
  },
  {
   "cell_type": "code",
   "execution_count": null,
   "metadata": {},
   "outputs": [],
   "source": [
    "# Display standard deviations of orbital elements\n",
    "sds = np.sqrt(np.diag(cov))\n",
    "for i, elt_name in enumerate(elt_names):\n",
    "    sd = sds[i]\n",
    "    print(f'SD of {elt_name:6} = {sd:8.6f}')"
   ]
  },
  {
   "cell_type": "code",
   "execution_count": null,
   "metadata": {},
   "outputs": [],
   "source": [
    "# Evaluate the NN model on the full validation data; save as baseline\n",
    "hist0, q_loss_baseline = baseline_loss(model_kj, ds_val)"
   ]
  },
  {
   "cell_type": "code",
   "execution_count": null,
   "metadata": {},
   "outputs": [],
   "source": [
    "# Set up training - full data, scale factor = 4\n",
    "\n",
    "# Number of training epochs\n",
    "num_batches=1\n",
    "epochs_per_batch = 5\n",
    "\n",
    "# Integer scale factor\n",
    "sfi = int(scale_factor)\n",
    "\n",
    "# Name of this model including scale factor\n",
    "model_name = f'model_{model_code}_nn_{suffix}_sf_{sfi}'\n",
    "\n",
    "# H5 file with model weights\n",
    "model_h5 = f'../models/{folder}/{model_name}.h5'\n",
    "# Name of the loss history in vartbl\n",
    "hist_name = model_name.replace('model_', 'hist_')\n",
    "\n",
    "# Status\n",
    "print(f'Training for {num_batches} batches of {epochs_per_batch} epochs each.')\n",
    "print(f'model_name = {model_name}')\n",
    "print(f'model_h5 = {model_h5}')\n",
    "print(f'hist_name = {hist_name}')"
   ]
  },
  {
   "cell_type": "code",
   "execution_count": null,
   "metadata": {},
   "outputs": [],
   "source": [
    "# Attempt to load model or train on selected number of epochs\n",
    "try:\n",
    "    model_nn.load_weights(model_h5)\n",
    "    model_nn.compile(loss=loss, optimizer=optimizer, metrics=metrics, loss_weights=loss_weights)\n",
    "    hist = vartbl[hist_name]\n",
    "    print(f'Loaded {model_name} from {model_h5}.')\n",
    "except:\n",
    "    print(f'Unable to load {model_name} from {model_h5}. Fitting...')\n",
    "    hist = hist0\n",
    "    for i in range_inc(num_batches):\n",
    "        ts = datetime.datetime.now()\n",
    "        st = ts.strftime('%Y-%m-%d %H:%M:%S')\n",
    "        print(f'*** Training batch {i:3} *** {st}')\n",
    "        hist = fit_model(model=model_nn,\n",
    "                         model_name=model_name,\n",
    "                         folder=folder,\n",
    "                         ds=ds_trn, \n",
    "                         epochs=epochs_per_batch,\n",
    "                         save_freq=save_freq,\n",
    "                         prev_history = hist, \n",
    "                         batch_num=i)\n",
    "    \n",
    "    vartbl[hist_name] = hist\n",
    "    save_vartbl(vartbl, fname)"
   ]
  },
  {
   "cell_type": "code",
   "execution_count": null,
   "metadata": {},
   "outputs": [],
   "source": [
    "# Evaluate the trained model on the validation data\n",
    "model_nn.evaluate(ds_val)"
   ]
  },
  {
   "cell_type": "code",
   "execution_count": null,
   "metadata": {},
   "outputs": [],
   "source": [
    "# Plot the loss\n",
    "fig, ax = plot_loss_hist(hist=hist, model_name=model_name, key='q_loss', baseline=q_loss_baseline)"
   ]
  },
  {
   "cell_type": "markdown",
   "metadata": {},
   "source": [
    "### Train on Full Data Set with Perturbation Scale Factor = 8.0"
   ]
  },
  {
   "cell_type": "code",
   "execution_count": null,
   "metadata": {},
   "outputs": [],
   "source": [
    "# Build combined SEJ data sets with scale factor = 8\n",
    "scale_factor = 8.0\n",
    "\n",
    "# Data for this scale factor\n",
    "ds_trn, ds_val, ds_tst = \\\n",
    "    combine_datasets_sej(num_data_sets=num_data_sets, batch_size=batch_size, \n",
    "                         seed0=seed0, scale_factor=scale_factor)"
   ]
  },
  {
   "cell_type": "code",
   "execution_count": null,
   "metadata": {},
   "outputs": [],
   "source": [
    "# Update data by scale factor\n",
    "data_by_factor[scale_factor] = (ds_trn, ds_val, ds_tst)"
   ]
  },
  {
   "cell_type": "code",
   "execution_count": null,
   "metadata": {},
   "outputs": [],
   "source": [
    "# Compute covariance matrix of orbital elements\n",
    "cov = orb_elt_cov(ds_val)"
   ]
  },
  {
   "cell_type": "code",
   "execution_count": null,
   "metadata": {},
   "outputs": [],
   "source": [
    "# Display standard deviations of orbital elements\n",
    "sds = np.sqrt(np.diag(cov))\n",
    "for i, elt_name in enumerate(elt_names):\n",
    "    sd = sds[i]\n",
    "    print(f'SD of {elt_name:6} = {sd:8.6f}')"
   ]
  },
  {
   "cell_type": "code",
   "execution_count": null,
   "metadata": {},
   "outputs": [],
   "source": [
    "# Evaluate the NN model on the full validation data; save as baseline\n",
    "hist0, q_loss_baseline = baseline_loss(model_kj, ds_val)\n",
    "baseline_tbl[scale_factor] = q_loss_baseline"
   ]
  },
  {
   "cell_type": "code",
   "execution_count": null,
   "metadata": {},
   "outputs": [],
   "source": [
    "model_nn.evaluate(ds_val)"
   ]
  },
  {
   "cell_type": "code",
   "execution_count": null,
   "metadata": {},
   "outputs": [],
   "source": [
    "# Set up training - full data, scale factor = 8\n",
    "\n",
    "# Number of training epochs\n",
    "num_batches=1\n",
    "epochs_per_batch = 5\n",
    "\n",
    "# Integer scale factor\n",
    "sfi = int(scale_factor)\n",
    "\n",
    "# Name of this model including scale factor\n",
    "model_name = f'model_{model_code}_nn_{suffix}_sf_{sfi}'\n",
    "\n",
    "# H5 file with model weights\n",
    "model_h5 = f'../models/{folder}/{model_name}.h5'\n",
    "# Name of the loss history in vartbl\n",
    "hist_name = model_name.replace('model_', 'hist_')\n",
    "\n",
    "# Status\n",
    "print(f'Training for {num_batches} batches of {epochs_per_batch} epochs each.')\n",
    "print(f'model_name = {model_name}')\n",
    "print(f'model_h5 = {model_h5}')\n",
    "print(f'hist_name = {hist_name}')"
   ]
  },
  {
   "cell_type": "code",
   "execution_count": null,
   "metadata": {},
   "outputs": [],
   "source": [
    "# Attempt to load model or train on selected number of epochs\n",
    "try:\n",
    "    model_nn.load_weights(model_h5)\n",
    "    model_nn.compile(loss=loss, optimizer=optimizer, metrics=metrics, loss_weights=loss_weights)\n",
    "    hist = vartbl[hist_name]\n",
    "    print(f'Loaded {model_name} from {model_h5}.')\n",
    "except:\n",
    "    print(f'Unable to load {model_name} from {model_h5}. Fitting...')\n",
    "    hist = hist0\n",
    "    for i in range_inc(num_batches):\n",
    "        ts = datetime.datetime.now()\n",
    "        st = ts.strftime('%Y-%m-%d %H:%M:%S')\n",
    "        print(f'*** Training batch {i:3} *** {st}')\n",
    "        hist = fit_model(model=model_nn,\n",
    "                         model_name=model_name,\n",
    "                         folder=folder,\n",
    "                         ds=ds_trn, \n",
    "                         epochs=epochs_per_batch,\n",
    "                         save_freq=save_freq,\n",
    "                         prev_history = hist, \n",
    "                         batch_num=i)\n",
    "    \n",
    "    vartbl[hist_name] = hist\n",
    "    save_vartbl(vartbl, fname)"
   ]
  },
  {
   "cell_type": "code",
   "execution_count": null,
   "metadata": {},
   "outputs": [],
   "source": [
    "# Evaluate the trained model on the validation data\n",
    "model_nn.evaluate(ds_val)"
   ]
  },
  {
   "cell_type": "code",
   "execution_count": null,
   "metadata": {},
   "outputs": [],
   "source": [
    "# Plot the loss\n",
    "fig, ax = plot_loss_hist(hist=hist, model_name=model_name, key='q_loss', baseline=q_loss_baseline)"
   ]
  },
  {
   "cell_type": "markdown",
   "metadata": {},
   "source": [
    "### Train on Full Data Set with Perturbation Scale Factor = 16.0"
   ]
  },
  {
   "cell_type": "code",
   "execution_count": null,
   "metadata": {},
   "outputs": [],
   "source": [
    "# Build combined SEJ data sets with scale factor = 16\n",
    "scale_factor = 16.0\n",
    "\n",
    "# Data for this scale factor\n",
    "ds_trn, ds_val, ds_tst = \\\n",
    "    combine_datasets_sej(num_data_sets=num_data_sets, batch_size=batch_size, \n",
    "                         seed0=seed0, scale_factor=scale_factor)"
   ]
  },
  {
   "cell_type": "code",
   "execution_count": null,
   "metadata": {},
   "outputs": [],
   "source": [
    "# Update data by scale factor\n",
    "data_by_factor[scale_factor] = (ds_trn, ds_val, ds_tst)"
   ]
  },
  {
   "cell_type": "code",
   "execution_count": null,
   "metadata": {},
   "outputs": [],
   "source": [
    "# Compute covariance matrix of orbital elements\n",
    "cov = orb_elt_cov(ds_val)"
   ]
  },
  {
   "cell_type": "code",
   "execution_count": null,
   "metadata": {},
   "outputs": [],
   "source": [
    "# Display standard deviations of orbital elements\n",
    "sds = np.sqrt(np.diag(cov))\n",
    "for i, elt_name in enumerate(elt_names):\n",
    "    sd = sds[i]\n",
    "    print(f'SD of {elt_name:6} = {sd:8.6f}')"
   ]
  },
  {
   "cell_type": "code",
   "execution_count": null,
   "metadata": {},
   "outputs": [],
   "source": [
    "# Evaluate the NN model on the full validation data; save as baseline\n",
    "hist0, q_loss_baseline = baseline_loss(model_kj, ds_val)\n",
    "baseline_tbl[scale_factor] = q_loss_baseline"
   ]
  },
  {
   "cell_type": "code",
   "execution_count": null,
   "metadata": {},
   "outputs": [],
   "source": [
    "# Set up training - full data, scale factor = 16\n",
    "\n",
    "# Number of training epochs\n",
    "num_batches=1\n",
    "epochs_per_batch = 5\n",
    "\n",
    "# Integer scale factor\n",
    "sfi = int(scale_factor)\n",
    "\n",
    "# Name of this model including scale factor\n",
    "model_name = f'model_{model_code}_nn_{suffix}_sf_{sfi}'\n",
    "\n",
    "# H5 file with model weights\n",
    "model_h5 = f'../models/{folder}/{model_name}.h5'\n",
    "# Name of the loss history in vartbl\n",
    "hist_name = model_name.replace('model_', 'hist_')\n",
    "\n",
    "# Status\n",
    "print(f'Training for {num_batches} batches of {epochs_per_batch} epochs each.')\n",
    "print(f'model_name = {model_name}')\n",
    "print(f'model_h5 = {model_h5}')\n",
    "print(f'hist_name = {hist_name}')"
   ]
  },
  {
   "cell_type": "code",
   "execution_count": null,
   "metadata": {},
   "outputs": [],
   "source": [
    "# Attempt to load model or train on selected number of epochs\n",
    "try:\n",
    "    model_nn.load_weights(model_h5)\n",
    "    model_nn.compile(loss=loss, optimizer=optimizer, metrics=metrics, loss_weights=loss_weights)\n",
    "    hist = vartbl[hist_name]\n",
    "    print(f'Loaded {model_name} from {model_h5}.')\n",
    "except:\n",
    "    print(f'Unable to load {model_name} from {model_h5}. Fitting...')\n",
    "    hist = hist0\n",
    "    for i in range_inc(num_batches):\n",
    "        ts = datetime.datetime.now()\n",
    "        st = ts.strftime('%Y-%m-%d %H:%M:%S')\n",
    "        print(f'*** Training batch {i:3} *** {st}')\n",
    "        hist = fit_model(model=model_nn,\n",
    "                         model_name=model_name,\n",
    "                         folder=folder,\n",
    "                         ds=ds_trn, \n",
    "                         epochs=epochs_per_batch,\n",
    "                         save_freq=save_freq,\n",
    "                         prev_history = hist, \n",
    "                         batch_num=i)\n",
    "    \n",
    "    vartbl[hist_name] = hist\n",
    "    save_vartbl(vartbl, fname)"
   ]
  },
  {
   "cell_type": "code",
   "execution_count": null,
   "metadata": {},
   "outputs": [],
   "source": [
    "# Evaluate the trained model on the validation data\n",
    "model_nn.evaluate(ds_val)"
   ]
  },
  {
   "cell_type": "code",
   "execution_count": null,
   "metadata": {},
   "outputs": [],
   "source": [
    "# Plot the loss\n",
    "fig, ax = plot_loss_hist(hist=hist, model_name=model_name, key='q_loss', baseline=q_loss_baseline)"
   ]
  },
  {
   "cell_type": "markdown",
   "metadata": {},
   "source": [
    "### Train on Full Data Set with Perturbation Scale Factor = 32.0"
   ]
  },
  {
   "cell_type": "code",
   "execution_count": null,
   "metadata": {},
   "outputs": [],
   "source": [
    "# Build combined SEJ data sets with scale factor = 32\n",
    "scale_factor = 32.0\n",
    "\n",
    "# Data for this scale factor\n",
    "ds_trn, ds_val, ds_tst = \\\n",
    "    combine_datasets_sej(num_data_sets=num_data_sets, batch_size=batch_size, \n",
    "                         seed0=seed0, scale_factor=scale_factor)"
   ]
  },
  {
   "cell_type": "code",
   "execution_count": null,
   "metadata": {},
   "outputs": [],
   "source": [
    "# Update data by scale factor\n",
    "data_by_factor[scale_factor] = (ds_trn, ds_val, ds_tst)"
   ]
  },
  {
   "cell_type": "code",
   "execution_count": null,
   "metadata": {},
   "outputs": [],
   "source": [
    "# Compute covariance matrix of orbital elements\n",
    "cov = orb_elt_cov(ds_val)"
   ]
  },
  {
   "cell_type": "code",
   "execution_count": null,
   "metadata": {},
   "outputs": [],
   "source": [
    "# Display standard deviations of orbital elements\n",
    "sds = np.sqrt(np.diag(cov))\n",
    "for i, elt_name in enumerate(elt_names):\n",
    "    sd = sds[i]\n",
    "    print(f'SD of {elt_name:6} = {sd:8.6f}')"
   ]
  },
  {
   "cell_type": "code",
   "execution_count": null,
   "metadata": {},
   "outputs": [],
   "source": [
    "# Evaluate the NN model on the full validation data; save as baseline\n",
    "hist0, q_loss_baseline = baseline_loss(model_kj, ds_val)\n",
    "baseline_tbl[scale_factor] = q_loss_baseline"
   ]
  },
  {
   "cell_type": "code",
   "execution_count": null,
   "metadata": {},
   "outputs": [],
   "source": [
    "# Set up training - full data, scale factor = 2\n",
    "\n",
    "# Number of training epochs\n",
    "num_batches=1\n",
    "epochs_per_batch = 5\n",
    "\n",
    "# Integer scale factor\n",
    "sfi = int(scale_factor)\n",
    "\n",
    "# Name of this model including scale factor\n",
    "model_name = f'model_{model_code}_nn_{suffix}_sf_{sfi}'\n",
    "\n",
    "# H5 file with model weights\n",
    "model_h5 = f'../models/{folder}/{model_name}.h5'\n",
    "# Name of the loss history in vartbl\n",
    "hist_name = model_name.replace('model_', 'hist_')\n",
    "\n",
    "# Status\n",
    "print(f'Training for {num_batches} batches of {epochs_per_batch} epochs each.')\n",
    "print(f'model_name = {model_name}')\n",
    "print(f'model_h5 = {model_h5}')\n",
    "print(f'hist_name = {hist_name}')"
   ]
  },
  {
   "cell_type": "code",
   "execution_count": null,
   "metadata": {},
   "outputs": [],
   "source": [
    "# Attempt to load model or train on selected number of epochs\n",
    "try:\n",
    "    model_nn.load_weights(model_h5)\n",
    "    model_nn.compile(loss=loss, optimizer=optimizer, metrics=metrics, loss_weights=loss_weights)\n",
    "    hist = vartbl[hist_name]\n",
    "    print(f'Loaded {model_name} from {model_h5}.')\n",
    "except:\n",
    "    print(f'Unable to load {model_name} from {model_h5}. Fitting...')\n",
    "    hist = hist0\n",
    "    for i in range_inc(num_batches):\n",
    "        ts = datetime.datetime.now()\n",
    "        st = ts.strftime('%Y-%m-%d %H:%M:%S')\n",
    "        print(f'*** Training batch {i:3} *** {st}')\n",
    "        hist = fit_model(model=model_nn,\n",
    "                         model_name=model_name,\n",
    "                         folder=folder,\n",
    "                         ds=ds_trn, \n",
    "                         epochs=epochs_per_batch,\n",
    "                         save_freq=save_freq,\n",
    "                         prev_history = hist, \n",
    "                         batch_num=i)\n",
    "    \n",
    "    vartbl[hist_name] = hist\n",
    "    save_vartbl(vartbl, fname)"
   ]
  },
  {
   "cell_type": "code",
   "execution_count": null,
   "metadata": {},
   "outputs": [],
   "source": [
    "# Evaluate the trained model on the validation data\n",
    "model_nn.evaluate(ds_val)"
   ]
  },
  {
   "cell_type": "code",
   "execution_count": null,
   "metadata": {},
   "outputs": [],
   "source": [
    "# Plot the loss\n",
    "fig, ax = plot_loss_hist(hist=hist, model_name=model_name, key='q_loss', baseline=q_loss_baseline)"
   ]
  },
  {
   "cell_type": "markdown",
   "metadata": {},
   "source": [
    "### Train on Full Data Set with Perturbation Scale Factor = 64.0"
   ]
  },
  {
   "cell_type": "code",
   "execution_count": null,
   "metadata": {},
   "outputs": [],
   "source": []
  },
  {
   "cell_type": "code",
   "execution_count": null,
   "metadata": {},
   "outputs": [],
   "source": []
  },
  {
   "cell_type": "code",
   "execution_count": null,
   "metadata": {},
   "outputs": [],
   "source": []
  },
  {
   "cell_type": "code",
   "execution_count": null,
   "metadata": {},
   "outputs": [],
   "source": []
  },
  {
   "cell_type": "code",
   "execution_count": null,
   "metadata": {},
   "outputs": [],
   "source": []
  },
  {
   "cell_type": "code",
   "execution_count": null,
   "metadata": {},
   "outputs": [],
   "source": []
  },
  {
   "cell_type": "code",
   "execution_count": null,
   "metadata": {},
   "outputs": [],
   "source": []
  },
  {
   "cell_type": "code",
   "execution_count": null,
   "metadata": {},
   "outputs": [],
   "source": []
  },
  {
   "cell_type": "code",
   "execution_count": null,
   "metadata": {},
   "outputs": [],
   "source": []
  },
  {
   "cell_type": "code",
   "execution_count": null,
   "metadata": {},
   "outputs": [],
   "source": []
  },
  {
   "cell_type": "markdown",
   "metadata": {},
   "source": [
    "### Train on Full Data Set with Perturbation Scale Factor = 128.0"
   ]
  },
  {
   "cell_type": "code",
   "execution_count": null,
   "metadata": {},
   "outputs": [],
   "source": []
  },
  {
   "cell_type": "code",
   "execution_count": null,
   "metadata": {},
   "outputs": [],
   "source": []
  },
  {
   "cell_type": "code",
   "execution_count": null,
   "metadata": {},
   "outputs": [],
   "source": []
  },
  {
   "cell_type": "code",
   "execution_count": null,
   "metadata": {},
   "outputs": [],
   "source": []
  },
  {
   "cell_type": "code",
   "execution_count": null,
   "metadata": {},
   "outputs": [],
   "source": []
  },
  {
   "cell_type": "code",
   "execution_count": null,
   "metadata": {},
   "outputs": [],
   "source": []
  },
  {
   "cell_type": "code",
   "execution_count": null,
   "metadata": {},
   "outputs": [],
   "source": []
  },
  {
   "cell_type": "code",
   "execution_count": null,
   "metadata": {},
   "outputs": [],
   "source": []
  },
  {
   "cell_type": "code",
   "execution_count": null,
   "metadata": {},
   "outputs": [],
   "source": []
  },
  {
   "cell_type": "code",
   "execution_count": null,
   "metadata": {},
   "outputs": [],
   "source": []
  },
  {
   "cell_type": "markdown",
   "metadata": {},
   "source": [
    "### Train on Full Data Set with Perturbation Scale Factor = 256.0"
   ]
  },
  {
   "cell_type": "code",
   "execution_count": null,
   "metadata": {},
   "outputs": [],
   "source": []
  },
  {
   "cell_type": "code",
   "execution_count": null,
   "metadata": {},
   "outputs": [],
   "source": []
  },
  {
   "cell_type": "code",
   "execution_count": null,
   "metadata": {},
   "outputs": [],
   "source": []
  },
  {
   "cell_type": "code",
   "execution_count": null,
   "metadata": {},
   "outputs": [],
   "source": []
  },
  {
   "cell_type": "code",
   "execution_count": null,
   "metadata": {},
   "outputs": [],
   "source": []
  },
  {
   "cell_type": "code",
   "execution_count": null,
   "metadata": {},
   "outputs": [],
   "source": []
  },
  {
   "cell_type": "code",
   "execution_count": null,
   "metadata": {},
   "outputs": [],
   "source": []
  },
  {
   "cell_type": "code",
   "execution_count": null,
   "metadata": {},
   "outputs": [],
   "source": []
  },
  {
   "cell_type": "code",
   "execution_count": null,
   "metadata": {},
   "outputs": [],
   "source": []
  },
  {
   "cell_type": "code",
   "execution_count": null,
   "metadata": {},
   "outputs": [],
   "source": []
  },
  {
   "cell_type": "code",
   "execution_count": null,
   "metadata": {},
   "outputs": [],
   "source": []
  }
 ],
 "metadata": {
  "kernelspec": {
   "display_name": "Python [conda env:nbody]",
   "language": "python",
   "name": "conda-env-nbody-py"
  },
  "language_info": {
   "codemirror_mode": {
    "name": "ipython",
    "version": 3
   },
   "file_extension": ".py",
   "mimetype": "text/x-python",
   "name": "python",
   "nbconvert_exporter": "python",
   "pygments_lexer": "ipython3",
   "version": "3.7.3"
  }
 },
 "nbformat": 4,
 "nbformat_minor": 2
}
