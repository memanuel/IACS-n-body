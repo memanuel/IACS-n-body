{
 "cells": [
  {
   "cell_type": "markdown",
   "metadata": {},
   "source": [
    "# Three Body Problem: Neural Network Training\n",
    "\n",
    "A simple neural network is trained to learn approximate solutions to the three body problem.<br>\n",
    "Data is sampled from three body systems that are perturbed versions of the Sun-Earth-Jupiter system."
   ]
  },
  {
   "cell_type": "code",
   "execution_count": 1,
   "metadata": {},
   "outputs": [],
   "source": [
    "# Library imports\n",
    "import tensorflow as tf\n",
    "import rebound\n",
    "import numpy as np\n",
    "import datetime\n",
    "import matplotlib.pyplot as plt\n",
    "\n",
    "# Aliases\n",
    "keras = tf.keras"
   ]
  },
  {
   "cell_type": "code",
   "execution_count": 2,
   "metadata": {},
   "outputs": [],
   "source": [
    "# Local imports\n",
    "from utils import load_vartbl, save_vartbl, plot_style, range_inc\n",
    "from tf_utils import gpu_grow_memory, TimeHistory\n",
    "from tf_utils import plot_loss_hist, EpochLoss, TimeHistory\n",
    "from tf_utils import Identity\n",
    "\n",
    "from orbital_element import OrbitalElementToConfig, ConfigToOrbitalElement, MeanToTrueAnomaly, G_\n",
    "from orbital_element import make_model_elt_to_cfg, make_model_cfg_to_elt\n",
    "\n",
    "from jacobi import CartesianToJacobi, JacobiToCartesian\n",
    "\n",
    "from g3b_data import make_traj_elts, make_data_g3b, make_datasets_g3b, traj_to_batch\n",
    "from g3b_data import make_datasets_solar, make_datasets_hard\n",
    "from g3b_data import combine_datasets_g3b, combine_datasets_solar\n",
    "from sej_data import load_data_sej, make_datasets_sej, combine_datasets_sej\n",
    "from sej_data import orb_elt_cov\n",
    "\n",
    "from g3b_plot import plot_orbit_q, plot_orbit_v, plot_orbit_a, plot_orbit_energy, plot_orbit_element\n",
    "from g3b import KineticEnergy_G3B, PotentialEnergy_G3B, Momentum_G3B, AngularMomentum_G3B\n",
    "from g3b import VectorError, EnergyError\n",
    "from g3b import Motion_G3B, make_physics_model_g3b\n",
    "from g3b import fit_model\n",
    "from g3b_model_math import make_position_model_g3b_math, make_model_g3b_math\n",
    "from g3b_model_nn import make_position_model_g3b_nn, make_model_g3b_nn\n",
    "from g3b_model_nn import baseline_loss"
   ]
  },
  {
   "cell_type": "code",
   "execution_count": 3,
   "metadata": {},
   "outputs": [],
   "source": [
    "# Set active GPUs\n",
    "gpus = tf.config.experimental.list_physical_devices('GPU')\n",
    "tf.config.experimental.set_visible_devices(gpus[1:2], 'GPU')"
   ]
  },
  {
   "cell_type": "code",
   "execution_count": 4,
   "metadata": {},
   "outputs": [],
   "source": [
    "# Grow GPU memory (must be first operation in TF)\n",
    "# gpu_grow_memory()"
   ]
  },
  {
   "cell_type": "code",
   "execution_count": 5,
   "metadata": {},
   "outputs": [],
   "source": [
    "# Lightweight serialization\n",
    "# fname = '../data/g3b/g3b_train.pickle'\n",
    "fname = '../data/sej/sej_train.pickle'\n",
    "vartbl = load_vartbl(fname)"
   ]
  },
  {
   "cell_type": "code",
   "execution_count": 6,
   "metadata": {},
   "outputs": [],
   "source": [
    "# Set plot style\n",
    "plot_style()"
   ]
  },
  {
   "cell_type": "markdown",
   "metadata": {},
   "source": [
    "### Load Data for General Three Body Problem"
   ]
  },
  {
   "cell_type": "code",
   "execution_count": 7,
   "metadata": {},
   "outputs": [],
   "source": [
    "# Description of datasets to be loaded\n",
    "n_years = 100\n",
    "sample_freq = 10\n",
    "traj_size = n_years * sample_freq + 1"
   ]
  },
  {
   "cell_type": "code",
   "execution_count": 8,
   "metadata": {},
   "outputs": [],
   "source": [
    "# Configuration for loading data sets\n",
    "# num_data_sets = 50\n",
    "num_data_sets = 5\n",
    "batch_size = 256\n",
    "# num_gpus = 1\n",
    "# full_batch_size = num_gpus * batch_size\n",
    "\n",
    "# Set size of tiny data sets\n",
    "n_traj_tiny = batch_size\n",
    "\n",
    "# Set starting random seed\n",
    "seed0 = 42"
   ]
  },
  {
   "cell_type": "code",
   "execution_count": 9,
   "metadata": {},
   "outputs": [
    {
     "name": "stdout",
     "output_type": "stream",
     "text": [
      "Loaded data from ../data/g3b/1789961721.pickle.\n"
     ]
    },
    {
     "name": "stderr",
     "output_type": "stream",
     "text": [
      "WARNING: Logging before flag parsing goes to stderr.\n",
      "W0822 21:11:42.268001 140501135808320 deprecation.py:323] From /home/michael/anaconda3/envs/nbody/lib/python3.7/site-packages/tensorflow/python/data/util/random_seed.py:58: add_dispatch_support.<locals>.wrapper (from tensorflow.python.ops.array_ops) is deprecated and will be removed in a future version.\n",
      "Instructions for updating:\n",
      "Use tf.where in 2.0, which has the same broadcast rule as np.where\n"
     ]
    }
   ],
   "source": [
    "# Create a tiny data set with one batch of solar type orbits\n",
    "ds_tiny_solar, _ , _ = \\\n",
    "    make_datasets_solar(n_traj=n_traj_tiny, vt_split=0.0, \n",
    "                        n_years=n_years, sample_freq=sample_freq,\n",
    "                        batch_size=batch_size, seed=seed0)"
   ]
  },
  {
   "cell_type": "code",
   "execution_count": 10,
   "metadata": {},
   "outputs": [],
   "source": [
    "# Build combined solar data sets\n",
    "# ds_solar_trn, ds_solar_val, ds_solar_tst = \\\n",
    "#     combine_datasets_solar(num_data_sets=num_data_sets, batch_size=batch_size, seed0=seed0)"
   ]
  },
  {
   "cell_type": "markdown",
   "metadata": {},
   "source": [
    "### Load Data for Perturbed Sun-Earth-Jupiter System"
   ]
  },
  {
   "cell_type": "code",
   "execution_count": 11,
   "metadata": {},
   "outputs": [],
   "source": [
    "# Orbital perturbation scales\n",
    "scale_factor = 1.0\n",
    "sd_q = scale_factor * np.array([0.00, 0.01, 0.05])\n",
    "sd_v = sd_q"
   ]
  },
  {
   "cell_type": "code",
   "execution_count": 12,
   "metadata": {},
   "outputs": [
    {
     "name": "stdout",
     "output_type": "stream",
     "text": [
      "Loaded data from ../data/sej/1261268456.pickle.\n"
     ]
    }
   ],
   "source": [
    "# Create a tiny data set with one batch of perturbed SEJ orbits\n",
    "ds_tiny_sej, _ , _ = \\\n",
    "    make_datasets_sej(n_traj=n_traj_tiny, vt_split=0.0, n_years=n_years, sample_freq=sample_freq,\n",
    "                      sd_q=sd_q, sd_v=sd_v,\n",
    "                      batch_size=batch_size, seed=seed0,\n",
    "                      assemble_datasets=True)"
   ]
  },
  {
   "cell_type": "code",
   "execution_count": 13,
   "metadata": {},
   "outputs": [
    {
     "name": "stdout",
     "output_type": "stream",
     "text": [
      "Loaded data from ../data/sej/1521397475.pickle.\n"
     ]
    }
   ],
   "source": [
    "# Create a tiny data set with the unperturbed SEJ system\n",
    "ds_sej0, _, _ = \\\n",
    "    make_datasets_sej(n_traj=n_traj_tiny, vt_split=0.0, n_years=n_years, sample_freq=sample_freq,\n",
    "                      sd_q=0.0, sd_v=0.0,\n",
    "                      batch_size=batch_size, seed=0,\n",
    "                      assemble_datasets=True)"
   ]
  },
  {
   "cell_type": "code",
   "execution_count": 14,
   "metadata": {},
   "outputs": [],
   "source": [
    "# Table of data sets keyed by scale factor\n",
    "data_by_factor = dict()"
   ]
  },
  {
   "cell_type": "code",
   "execution_count": 15,
   "metadata": {},
   "outputs": [
    {
     "name": "stdout",
     "output_type": "stream",
     "text": [
      "Loaded data from ../data/sej/3977083274.pickle.\n"
     ]
    },
    {
     "data": {
      "application/vnd.jupyter.widget-view+json": {
       "model_id": "8f7d8513d4264af0934088c4848d2e0a",
       "version_major": 2,
       "version_minor": 0
      },
      "text/plain": [
       "HBox(children=(IntProgress(value=0, max=4), HTML(value='')))"
      ]
     },
     "metadata": {},
     "output_type": "display_data"
    },
    {
     "name": "stdout",
     "output_type": "stream",
     "text": [
      "Loaded data from ../data/sej/2722950989.pickle.\n",
      "Loaded data from ../data/sej/400724224.pickle.\n",
      "Loaded data from ../data/sej/3353493630.pickle.\n",
      "Loaded data from ../data/sej/3130373179.pickle.\n",
      "\n"
     ]
    }
   ],
   "source": [
    "# Build combined SEJ data sets with base scale factor\n",
    "scale_factor = 1.0\n",
    "ds_trn, ds_val, ds_tst = \\\n",
    "    combine_datasets_sej(num_data_sets=num_data_sets, batch_size=batch_size, \n",
    "                         seed0=seed0, scale_factor=scale_factor)"
   ]
  },
  {
   "cell_type": "code",
   "execution_count": 16,
   "metadata": {},
   "outputs": [],
   "source": [
    "# Update data by scale factor\n",
    "data_by_factor[scale_factor] = (ds_trn, ds_val, ds_tst)"
   ]
  },
  {
   "cell_type": "markdown",
   "metadata": {},
   "source": [
    "***Choose Data Set for Analysis: Solar vs. SEJ***"
   ]
  },
  {
   "cell_type": "code",
   "execution_count": 17,
   "metadata": {},
   "outputs": [],
   "source": [
    "# Alias ds_trn, ds_val, ds_tst to selected source\n",
    "\n",
    "# The selected data type for this analysis\n",
    "data_type = 'SEJ'\n",
    "\n",
    "# # Tables mapping data type to tuple of data sets\n",
    "# data_by_type = {\n",
    "#     # 'solar': (ds_tiny_solar, ds_solar_trn, ds_solar_val, ds_solar_tst),\n",
    "#     'SEJ': (ds_tiny_sej, ds_sej_trn, ds_sej_val, ds_sej_tst)\n",
    "# }\n",
    "\n",
    "# # Perform the aliasing\n",
    "# ds_tiny, ds_trn, ds_val, ds_tst = data_by_type[data_type]\n",
    "\n",
    "ds_tiny = ds_tiny_sej"
   ]
  },
  {
   "cell_type": "markdown",
   "metadata": {},
   "source": [
    "### Create the Kepler-Jacobi Model as a Benchmark"
   ]
  },
  {
   "cell_type": "code",
   "execution_count": 18,
   "metadata": {},
   "outputs": [],
   "source": [
    "model_kj = make_model_g3b_math(traj_size=traj_size, batch_size=batch_size)"
   ]
  },
  {
   "cell_type": "code",
   "execution_count": 19,
   "metadata": {},
   "outputs": [],
   "source": [
    "optimizer = keras.optimizers.Adam(learning_rate=0.0)\n",
    "\n",
    "loss = {'q': VectorError(name='q_loss'),\n",
    "        'v': VectorError(name='v_loss'),\n",
    "        'a': VectorError(regularizer=1.0, name='a_loss'),\n",
    "        'q0_rec': VectorError(name='q0_loss'),\n",
    "        'v0_rec': VectorError(name='v0_loss'),\n",
    "        'H': EnergyError(name='H_loss'),\n",
    "        'P': VectorError(name='P_loss', regularizer=1.0E-6),\n",
    "        'L': VectorError(name='L_loss'),\n",
    "       }\n",
    "\n",
    "metrics = None\n",
    "\n",
    "loss_weights = {'q': 1.0,\n",
    "                'v': 1.0,\n",
    "                'a': 1.0,\n",
    "                'q0_rec': 1.0E4,\n",
    "                'v0_rec': 1.0E4,\n",
    "                'H': 1.0,\n",
    "                'P': 1.0,\n",
    "                'L': 1.0}"
   ]
  },
  {
   "cell_type": "code",
   "execution_count": 20,
   "metadata": {},
   "outputs": [],
   "source": [
    "# Compile the full mathematical model\n",
    "model_kj.compile(optimizer=optimizer, loss=loss, metrics=metrics, loss_weights=loss_weights)"
   ]
  },
  {
   "cell_type": "code",
   "execution_count": 21,
   "metadata": {},
   "outputs": [
    {
     "name": "stdout",
     "output_type": "stream",
     "text": [
      "\r",
      "1/1 [==============================] - 2s 2s/step - loss: 6.7071e-05 - q_loss: 1.9321e-05 - v_loss: 1.9308e-05 - a_loss: 2.8442e-05 - q0_rec_loss: 9.7934e-15 - v0_rec_loss: 2.0469e-14 - H_loss: 6.6203e-14 - P_loss: 3.6133e-14 - L_loss: 1.1413e-14\n"
     ]
    },
    {
     "data": {
      "text/plain": [
       "[6.707102875225246e-05,\n",
       " 1.9320656e-05,\n",
       " 1.9308249e-05,\n",
       " 2.844182e-05,\n",
       " 9.793443e-15,\n",
       " 2.0469324e-14,\n",
       " 6.620291e-14,\n",
       " 3.6132582e-14,\n",
       " 1.1412751e-14]"
      ]
     },
     "execution_count": 21,
     "metadata": {},
     "output_type": "execute_result"
    }
   ],
   "source": [
    "# Evaluate KJ model on unperturbed SEJ data set\n",
    "model_kj.evaluate(ds_sej0)"
   ]
  },
  {
   "cell_type": "code",
   "execution_count": 22,
   "metadata": {},
   "outputs": [
    {
     "name": "stdout",
     "output_type": "stream",
     "text": [
      "\r",
      "1/1 [==============================] - 0s 101ms/step - loss: 6.8487e-05 - q_loss: 1.9837e-05 - v_loss: 1.9812e-05 - a_loss: 2.8838e-05 - q0_rec_loss: 2.0671e-14 - v0_rec_loss: 1.9992e-14 - H_loss: 9.5866e-14 - P_loss: 3.8770e-14 - L_loss: 2.0161e-14\n"
     ]
    },
    {
     "data": {
      "text/plain": [
       "[6.848739576525986e-05,\n",
       " 1.9836736e-05,\n",
       " 1.9811845e-05,\n",
       " 2.883841e-05,\n",
       " 2.0670675e-14,\n",
       " 1.9992044e-14,\n",
       " 9.5865854e-14,\n",
       " 3.8770395e-14,\n",
       " 2.0161029e-14]"
      ]
     },
     "execution_count": 22,
     "metadata": {},
     "output_type": "execute_result"
    }
   ],
   "source": [
    "# Evaluate KJ model on tiny data set\n",
    "model_kj.evaluate(ds_tiny)"
   ]
  },
  {
   "cell_type": "code",
   "execution_count": 23,
   "metadata": {},
   "outputs": [
    {
     "name": "stdout",
     "output_type": "stream",
     "text": [
      "35/35 [==============================] - 4s 119ms/step - loss: 6.7929e-05 - q_loss: 1.9743e-05 - v_loss: 1.9718e-05 - a_loss: 2.8467e-05 - q0_rec_loss: 1.9459e-14 - v0_rec_loss: 1.8404e-14 - H_loss: 9.5034e-14 - P_loss: 3.8634e-14 - L_loss: 2.0124e-14\n"
     ]
    },
    {
     "data": {
      "text/plain": [
       "[6.79291194371347e-05,\n",
       " 1.9742967e-05,\n",
       " 1.9718367e-05,\n",
       " 2.8467404e-05,\n",
       " 1.9458574e-14,\n",
       " 1.8404181e-14,\n",
       " 9.5034074e-14,\n",
       " 3.8634403e-14,\n",
       " 2.0123895e-14]"
      ]
     },
     "execution_count": 23,
     "metadata": {},
     "output_type": "execute_result"
    }
   ],
   "source": [
    "# Evaluate KJ model on full validation data\n",
    "model_kj.evaluate(ds_val)"
   ]
  },
  {
   "cell_type": "markdown",
   "metadata": {},
   "source": [
    "### Train the Neural Network Model"
   ]
  },
  {
   "cell_type": "code",
   "execution_count": 24,
   "metadata": {},
   "outputs": [],
   "source": [
    "# Configuration for neural network model architecture\n",
    "# hidden_sizes = []\n",
    "hidden_sizes = [64, 16]\n",
    "skip_layers = True\n",
    "\n",
    "# Training configuration\n",
    "learning_rate = 1.0E-7\n",
    "kernel_reg = 1.0E-6\n",
    "activity_reg = 0.0"
   ]
  },
  {
   "cell_type": "code",
   "execution_count": 25,
   "metadata": {},
   "outputs": [],
   "source": [
    "# Build neural network model\n",
    "model_nn = make_model_g3b_nn(hidden_sizes=hidden_sizes, skip_layers=skip_layers, \n",
    "                             kernel_reg=kernel_reg, activity_reg=activity_reg,\n",
    "                             traj_size=traj_size, batch_size=batch_size)"
   ]
  },
  {
   "cell_type": "code",
   "execution_count": 26,
   "metadata": {},
   "outputs": [],
   "source": [
    "# model_nn.summary()"
   ]
  },
  {
   "cell_type": "code",
   "execution_count": 27,
   "metadata": {},
   "outputs": [],
   "source": [
    "optimizer = keras.optimizers.Adam(learning_rate=learning_rate)\n",
    "# optimizer = keras.optimizers.Adadelta()"
   ]
  },
  {
   "cell_type": "code",
   "execution_count": 28,
   "metadata": {},
   "outputs": [],
   "source": [
    "# Compile the NN model\n",
    "model_nn.compile(optimizer=optimizer, loss=loss, metrics=metrics, loss_weights=loss_weights)"
   ]
  },
  {
   "cell_type": "code",
   "execution_count": 29,
   "metadata": {},
   "outputs": [
    {
     "name": "stdout",
     "output_type": "stream",
     "text": [
      "\r",
      "1/1 [==============================] - 2s 2s/step - loss: 6.7071e-05 - q_loss: 1.9321e-05 - v_loss: 1.9308e-05 - a_loss: 2.8442e-05 - q0_rec_loss: 9.7934e-15 - v0_rec_loss: 2.0469e-14 - H_loss: 6.6203e-14 - P_loss: 3.6133e-14 - L_loss: 1.1413e-14\n"
     ]
    },
    {
     "data": {
      "text/plain": [
       "[6.707102875225246e-05,\n",
       " 1.9320656e-05,\n",
       " 1.9308249e-05,\n",
       " 2.844182e-05,\n",
       " 9.793443e-15,\n",
       " 2.0469324e-14,\n",
       " 6.620291e-14,\n",
       " 3.6132582e-14,\n",
       " 1.1412751e-14]"
      ]
     },
     "execution_count": 29,
     "metadata": {},
     "output_type": "execute_result"
    }
   ],
   "source": [
    "# Evaluate the NN model on the unperturbed orbit\n",
    "model_nn.evaluate(ds_sej0)"
   ]
  },
  {
   "cell_type": "code",
   "execution_count": 30,
   "metadata": {},
   "outputs": [],
   "source": [
    "# Evaluate the NN model on the tiny data set\n",
    "# model_nn.evaluate(ds_tiny)"
   ]
  },
  {
   "cell_type": "code",
   "execution_count": null,
   "metadata": {},
   "outputs": [],
   "source": [
    "# Table with baseline losses by scale factor\n",
    "baseline_tbl = dict()"
   ]
  },
  {
   "cell_type": "code",
   "execution_count": 31,
   "metadata": {},
   "outputs": [
    {
     "name": "stdout",
     "output_type": "stream",
     "text": [
      "35/35 [==============================] - 4s 116ms/step - loss: 6.7929e-05 - q_loss: 1.9743e-05 - v_loss: 1.9718e-05 - a_loss: 2.8467e-05 - q0_rec_loss: 1.9459e-14 - v0_rec_loss: 1.8404e-14 - H_loss: 9.5034e-14 - P_loss: 3.8634e-14 - L_loss: 2.0124e-14\n"
     ]
    }
   ],
   "source": [
    "# Evaluate the KJ model on the full validation data; save as baseline\n",
    "hist0, q_loss_baseline = baseline_loss(model_kj, ds_val)\n",
    "baseline_tbl[scale_factor] = q_loss_baseline"
   ]
  },
  {
   "cell_type": "code",
   "execution_count": null,
   "metadata": {},
   "outputs": [],
   "source": [
    "# Set up training - shared variables\n",
    "\n",
    "# Suffix to the model name reflects layer sizes\n",
    "suffix = '_'.join(str(sz) for sz in hidden_sizes)\n",
    "\n",
    "# The model code is g3b or sej based on type of data\n",
    "if data_type == 'solar':   \n",
    "    model_code = 'g3b'\n",
    "elif data_type == 'SEJ':\n",
    "    model_code = 'sej'\n",
    "\n",
    "# The folder is the same as the model code\n",
    "folder = model_code\n",
    "\n",
    "# How often to save weights to disk\n",
    "save_freq = 'epoch'"
   ]
  },
  {
   "cell_type": "code",
   "execution_count": 40,
   "metadata": {},
   "outputs": [
    {
     "name": "stdout",
     "output_type": "stream",
     "text": [
      "model_nn.name = model_g3b_nn_64_16\n",
      "model_h5 = ../models/sej/model_sej_nn_64_16_sej0.h5\n",
      "hist_name = hist_sej_nn_64_16_sej0\n"
     ]
    }
   ],
   "source": [
    "# Set up training - unperturbed SEJ system (ds_sej0)\n",
    "model_name = f'model_{model_code}_nn_{suffix}_sej0'\n",
    "\n",
    "# Number of training epochs\n",
    "epochs = 20\n",
    "\n",
    "# H5 file with model weights\n",
    "model_h5 = f'../models/{folder}/{model_name}.h5'\n",
    "# Name of the loss history in vartbl\n",
    "hist_name = model_name.replace('model_', 'hist_')\n",
    "\n",
    "# Status\n",
    "print(f'model_nn.name = {model_nn.name}')\n",
    "print(f'model_h5 = {model_h5}')\n",
    "print(f'hist_name = {hist_name}')"
   ]
  },
  {
   "cell_type": "markdown",
   "metadata": {},
   "source": [
    "### Train on Unperturbed Model (ds_sej0)"
   ]
  },
  {
   "cell_type": "code",
   "execution_count": 44,
   "metadata": {},
   "outputs": [
    {
     "name": "stdout",
     "output_type": "stream",
     "text": [
      "Loaded model_sej_nn_64_16_sej0 from ../models/sej/model_sej_nn_64_16_sej0.h5.\n"
     ]
    }
   ],
   "source": [
    "try:\n",
    "    model_nn.load_weights(model_h5)\n",
    "    model_nn.compile(loss=loss, optimizer=optimizer, metrics=metrics, loss_weights=loss_weights)\n",
    "    hist = vartbl[hist_name]\n",
    "    print(f'Loaded {model_name} from {model_h5}.')\n",
    "except:\n",
    "    hist = fit_model(model=model_nn,\n",
    "                     model_name=model_name,\n",
    "                     folder=folder,\n",
    "                     ds=ds_sej0, \n",
    "                     epochs=20,\n",
    "                     save_freq=save_freq,\n",
    "                     prev_history = hist0, \n",
    "                     batch_num=1)\n",
    "    vartbl[hist_name] = hist\n",
    "    save_vartbl(vartbl, fname)"
   ]
  },
  {
   "cell_type": "code",
   "execution_count": 45,
   "metadata": {},
   "outputs": [
    {
     "name": "stdout",
     "output_type": "stream",
     "text": [
      "\r",
      "1/1 [==============================] - 2s 2s/step - loss: 1.7083e-06 - q_loss: 2.8683e-07 - v_loss: 2.7676e-07 - a_loss: 1.1392e-06 - q0_rec_loss: 9.7934e-15 - v0_rec_loss: 2.0469e-14 - H_loss: 4.6671e-12 - P_loss: 4.0580e-14 - L_loss: 5.0551e-09\n"
     ]
    },
    {
     "data": {
      "text/plain": [
       "[1.7083234524761792e-06,\n",
       " 2.8683183e-07,\n",
       " 2.7676313e-07,\n",
       " 1.1391754e-06,\n",
       " 9.793443e-15,\n",
       " 2.0469324e-14,\n",
       " 4.6670996e-12,\n",
       " 4.057985e-14,\n",
       " 5.055112e-09]"
      ]
     },
     "execution_count": 45,
     "metadata": {},
     "output_type": "execute_result"
    }
   ],
   "source": [
    "model_nn.evaluate(ds_sej0)"
   ]
  },
  {
   "cell_type": "code",
   "execution_count": 46,
   "metadata": {},
   "outputs": [
    {
     "data": {
      "image/png": "[encoded data removed]",
      "text/plain": [
       "<Figure size 1152x648 with 1 Axes>"
      ]
     },
     "metadata": {
      "needs_background": "light"
     },
     "output_type": "display_data"
    }
   ],
   "source": [
    "# Plot the loss\n",
    "fig, ax = plot_loss_hist(hist=hist, model_name=model_name, key='q_loss', baseline=q_loss_baseline)"
   ]
  },
  {
   "cell_type": "markdown",
   "metadata": {},
   "source": [
    "### Train on Tiny Data Set"
   ]
  },
  {
   "cell_type": "code",
   "execution_count": 48,
   "metadata": {},
   "outputs": [
    {
     "name": "stdout",
     "output_type": "stream",
     "text": [
      "model_nn.name = model_g3b_nn_64_16\n",
      "model_h5 = ../models/sej/model_sej_nn_64_16_tiny.h5\n",
      "hist_name = hist_sej_nn_64_16_tiny\n"
     ]
    }
   ],
   "source": [
    "# Set up training - tiny data set\n",
    "model_name = f'model_{model_code}_nn_{suffix}_tiny'\n",
    "\n",
    "# Number of training epochs\n",
    "epochs = 20\n",
    "\n",
    "# H5 file with model weights\n",
    "model_h5 = f'../models/{folder}/{model_name}.h5'\n",
    "# Name of the loss history in vartbl\n",
    "hist_name = model_name.replace('model_', 'hist_')\n",
    "\n",
    "# Status\n",
    "print(f'model_nn.name = {model_nn.name}')\n",
    "print(f'model_h5 = {model_h5}')\n",
    "print(f'hist_name = {hist_name}')"
   ]
  },
  {
   "cell_type": "code",
   "execution_count": 50,
   "metadata": {},
   "outputs": [
    {
     "name": "stdout",
     "output_type": "stream",
     "text": [
      "Loaded model_sej_nn_64_16_tiny from ../models/sej/model_sej_nn_64_16_tiny.h5.\n"
     ]
    }
   ],
   "source": [
    "try:\n",
    "    model_nn.load_weights(model_h5)\n",
    "    model_nn.compile(loss=loss, optimizer=optimizer, metrics=metrics, loss_weights=loss_weights)\n",
    "    hist = vartbl[hist_name]\n",
    "    print(f'Loaded {model_name} from {model_h5}.')\n",
    "except:\n",
    "    hist = fit_model(model=model_nn,\n",
    "                     model_name=model_name,\n",
    "                     folder=folder,\n",
    "                     ds=ds_sej0, \n",
    "                     epochs=20,\n",
    "                     save_freq=save_freq,\n",
    "                     prev_history = hist0, \n",
    "                     batch_num=1)\n",
    "    vartbl[hist_name] = hist\n",
    "    save_vartbl(vartbl, fname)"
   ]
  },
  {
   "cell_type": "code",
   "execution_count": 51,
   "metadata": {},
   "outputs": [
    {
     "name": "stdout",
     "output_type": "stream",
     "text": [
      "\r",
      "1/1 [==============================] - 2s 2s/step - loss: 8.3420e-06 - q_loss: 2.3300e-06 - v_loss: 2.3110e-06 - a_loss: 3.6995e-06 - q0_rec_loss: 2.0671e-14 - v0_rec_loss: 1.9992e-14 - H_loss: 1.4544e-11 - P_loss: 3.9307e-14 - L_loss: 8.6505e-10\n"
     ]
    },
    {
     "data": {
      "text/plain": [
       "[8.341977263626177e-06,\n",
       " 2.330004e-06,\n",
       " 2.3110224e-06,\n",
       " 3.6994538e-06,\n",
       " 2.0670675e-14,\n",
       " 1.9992044e-14,\n",
       " 1.4544376e-11,\n",
       " 3.9307455e-14,\n",
       " 8.6504964e-10]"
      ]
     },
     "execution_count": 51,
     "metadata": {},
     "output_type": "execute_result"
    }
   ],
   "source": [
    "model_nn.evaluate(ds_tiny)"
   ]
  },
  {
   "cell_type": "code",
   "execution_count": 52,
   "metadata": {},
   "outputs": [
    {
     "data": {
      "image/png": "[encoded data removed]",
      "text/plain": [
       "<Figure size 1152x648 with 1 Axes>"
      ]
     },
     "metadata": {
      "needs_background": "light"
     },
     "output_type": "display_data"
    }
   ],
   "source": [
    "# Plot the loss\n",
    "fig, ax = plot_loss_hist(hist=hist, model_name=model_nn.name, key='q_loss', baseline=q_loss_baseline)"
   ]
  },
  {
   "cell_type": "markdown",
   "metadata": {},
   "source": [
    "### Train on Full Data Set with Perturbation Scale Factor = 1.0"
   ]
  },
  {
   "cell_type": "code",
   "execution_count": 53,
   "metadata": {},
   "outputs": [],
   "source": [
    "# Scale factor\n",
    "scale_factor = 1.0\n",
    "\n",
    "# Data for this scale factor\n",
    "ds_trn, ds_val, ds_tst = data_by_factor[scale_factor]"
   ]
  },
  {
   "cell_type": "code",
   "execution_count": null,
   "metadata": {},
   "outputs": [],
   "source": [
    "# Evaluate the KJ model on the validation data; save as baseline\n",
    "hist0, q_loss_baseline = baseline_loss(model_kj, ds_val)\n",
    "baseline_tbl[scale_factor] = q_loss_baseline"
   ]
  },
  {
   "cell_type": "code",
   "execution_count": 58,
   "metadata": {},
   "outputs": [
    {
     "name": "stdout",
     "output_type": "stream",
     "text": [
      "Training for 1 batches of 5 epochs each.\n",
      "model_name = model_sej_nn_64_16_sf_1\n",
      "model_h5 = ../models/sej/model_sej_nn_64_16_sf_1.h5\n",
      "hist_name = hist_sej_nn_64_16_sf_1\n"
     ]
    }
   ],
   "source": [
    "# Set up training - full data, scale factor = 1\n",
    "\n",
    "# Number of training epochs\n",
    "num_batches=1\n",
    "epochs_per_batch = 5\n",
    "\n",
    "# Integer scale factor\n",
    "sfi = int(scale_factor)\n",
    "\n",
    "# Name of this model including scale factor\n",
    "model_name = f'model_{model_code}_nn_{suffix}_sf_{sfi}'\n",
    "\n",
    "# H5 file with model weights\n",
    "model_h5 = f'../models/{folder}/{model_name}.h5'\n",
    "# Name of the loss history in vartbl\n",
    "hist_name = model_name.replace('model_', 'hist_')\n",
    "\n",
    "# Status\n",
    "print(f'Training for {num_batches} batches of {epochs_per_batch} epochs each.')\n",
    "print(f'model_name = {model_name}')\n",
    "print(f'model_h5 = {model_h5}')\n",
    "print(f'hist_name = {hist_name}')"
   ]
  },
  {
   "cell_type": "code",
   "execution_count": 59,
   "metadata": {},
   "outputs": [
    {
     "name": "stdout",
     "output_type": "stream",
     "text": [
      "Unable to load model_sej_nn_64_16_sf_1 from ../models/sej/model_sej_nn_64_16_sf_1.h5. Fitting...\n",
      "*** Training batch   1 *** 2019-08-22 21:28:21\n",
      "Epoch 1/5\n",
      "194/195 [============================>.] - ETA: 0s - loss: 1.6530e-06 - q_loss: 2.6687e-07 - v_loss: 2.4733e-07 - a_loss: 1.1382e-06 - q0_rec_loss: 1.9386e-14 - v0_rec_loss: 1.8410e-14 - H_loss: 3.0977e-12 - P_loss: 3.9213e-14 - L_loss: 6.8820e-11\n",
      "Epoch 0001; loss 1.65e-06; elapsed 0:00:56\n",
      "195/195 [==============================] - 47s 241ms/step - loss: 1.6523e-06 - q_loss: 2.6664e-07 - v_loss: 2.4709e-07 - a_loss: 1.1379e-06 - q0_rec_loss: 1.9384e-14 - v0_rec_loss: 1.8411e-14 - H_loss: 3.0824e-12 - P_loss: 3.9213e-14 - L_loss: 6.8472e-11\n",
      "Epoch 2/5\n",
      "194/195 [============================>.] - ETA: 0s - loss: 1.3510e-06 - q_loss: 1.8260e-07 - v_loss: 1.6399e-07 - a_loss: 1.0038e-06 - q0_rec_loss: 1.9386e-14 - v0_rec_loss: 1.8410e-14 - H_loss: 1.0166e-13 - P_loss: 3.9184e-14 - L_loss: 6.2119e-13\n",
      "Epoch 0002; loss 1.35e-06; elapsed 0:01:43\n",
      "195/195 [==============================] - 39s 201ms/step - loss: 1.3516e-06 - q_loss: 1.8273e-07 - v_loss: 1.6412e-07 - a_loss: 1.0041e-06 - q0_rec_loss: 1.9384e-14 - v0_rec_loss: 1.8411e-14 - H_loss: 1.0167e-13 - P_loss: 3.9184e-14 - L_loss: 6.1991e-13\n",
      "Epoch 3/5\n",
      "194/195 [============================>.] - ETA: 0s - loss: 1.3124e-06 - q_loss: 1.7654e-07 - v_loss: 1.5911e-07 - a_loss: 9.7611e-07 - q0_rec_loss: 1.9386e-14 - v0_rec_loss: 1.8410e-14 - H_loss: 1.0313e-13 - P_loss: 3.9181e-14 - L_loss: 2.3911e-13\n",
      "Epoch 0003; loss 1.31e-06; elapsed 0:02:29\n",
      "195/195 [==============================] - 37s 192ms/step - loss: 1.3131e-06 - q_loss: 1.7669e-07 - v_loss: 1.5926e-07 - a_loss: 9.7646e-07 - q0_rec_loss: 1.9384e-14 - v0_rec_loss: 1.8411e-14 - H_loss: 1.0313e-13 - P_loss: 3.9180e-14 - L_loss: 2.3859e-13\n",
      "Epoch 4/5\n",
      "194/195 [============================>.] - ETA: 0s - loss: 1.2862e-06 - q_loss: 1.7317e-07 - v_loss: 1.5707e-07 - a_loss: 9.5530e-07 - q0_rec_loss: 1.9386e-14 - v0_rec_loss: 1.8410e-14 - H_loss: 1.0442e-13 - P_loss: 3.9185e-14 - L_loss: 8.7631e-14\n",
      "Epoch 0004; loss 1.29e-06; elapsed 0:03:16\n",
      "195/195 [==============================] - 38s 195ms/step - loss: 1.2869e-06 - q_loss: 1.7332e-07 - v_loss: 1.5722e-07 - a_loss: 9.5566e-07 - q0_rec_loss: 1.9384e-14 - v0_rec_loss: 1.8411e-14 - H_loss: 1.0443e-13 - P_loss: 3.9185e-14 - L_loss: 8.7435e-14\n",
      "Epoch 5/5\n",
      "194/195 [============================>.] - ETA: 0s - loss: 1.2678e-06 - q_loss: 1.7056e-07 - v_loss: 1.5586e-07 - a_loss: 9.4008e-07 - q0_rec_loss: 1.9386e-14 - v0_rec_loss: 1.8410e-14 - H_loss: 1.0812e-13 - P_loss: 3.9185e-14 - L_loss: 5.6869e-10\n",
      "Epoch 0005; loss 1.27e-06; elapsed 0:04:03\n",
      "195/195 [==============================] - 39s 200ms/step - loss: 1.2684e-06 - q_loss: 1.7064e-07 - v_loss: 1.5594e-07 - a_loss: 9.4057e-07 - q0_rec_loss: 1.9384e-14 - v0_rec_loss: 1.8411e-14 - H_loss: 1.0817e-13 - P_loss: 3.9185e-14 - L_loss: 5.6772e-10\n"
     ]
    }
   ],
   "source": [
    "# Attempt to load model or train on selected number of epochs\n",
    "try:\n",
    "    model_nn.load_weights(model_h5)\n",
    "    model_nn.compile(loss=loss, optimizer=optimizer, metrics=metrics, loss_weights=loss_weights)\n",
    "    hist = vartbl[hist_name]\n",
    "    print(f'Loaded {model_name} from {model_h5}.')\n",
    "except:\n",
    "    print(f'Unable to load {model_name} from {model_h5}. Fitting...')\n",
    "    hist = hist0\n",
    "    for i in range_inc(num_batches):\n",
    "        ts = datetime.datetime.now()\n",
    "        st = ts.strftime('%Y-%m-%d %H:%M:%S')\n",
    "        print(f'*** Training batch {i:3} *** {st}')\n",
    "        hist = fit_model(model=model_nn,\n",
    "                         model_name=model_name,\n",
    "                         folder=folder,\n",
    "                         ds=ds_trn, \n",
    "                         epochs=epochs_per_batch,\n",
    "                         save_freq=save_freq,\n",
    "                         prev_history = hist, \n",
    "                         batch_num=i)\n",
    "    \n",
    "    vartbl[hist_name] = hist\n",
    "    save_vartbl(vartbl, fname)"
   ]
  },
  {
   "cell_type": "code",
   "execution_count": 60,
   "metadata": {},
   "outputs": [
    {
     "data": {
      "image/png": "[encoded data removed]",
      "text/plain": [
       "<Figure size 1152x648 with 1 Axes>"
      ]
     },
     "metadata": {
      "needs_background": "light"
     },
     "output_type": "display_data"
    }
   ],
   "source": [
    "# Plot the loss\n",
    "fig, ax = plot_loss_hist(hist=hist, model_name=model_name, key='q_loss', baseline=q_loss_baseline)"
   ]
  },
  {
   "cell_type": "code",
   "execution_count": null,
   "metadata": {},
   "outputs": [],
   "source": [
    "# Plot the total loss\n",
    "# fig, ax = plot_loss_hist(hist=hist, model_name=model_nn.name, key='loss')"
   ]
  },
  {
   "cell_type": "code",
   "execution_count": null,
   "metadata": {},
   "outputs": [],
   "source": [
    "# Evaluate the trained model on the training data\n",
    "# model_nn.evaluate(ds_trn)"
   ]
  },
  {
   "cell_type": "code",
   "execution_count": 61,
   "metadata": {},
   "outputs": [
    {
     "name": "stdout",
     "output_type": "stream",
     "text": [
      "35/35 [==============================] - 4s 123ms/step - loss: 1.2410e-06 - q_loss: 1.5417e-07 - v_loss: 1.4002e-07 - a_loss: 9.4575e-07 - q0_rec_loss: 1.9459e-14 - v0_rec_loss: 1.8404e-14 - H_loss: 1.0394e-13 - P_loss: 3.9199e-14 - L_loss: 3.6042e-10\n"
     ]
    },
    {
     "data": {
      "text/plain": [
       "[1.2410399676809902e-06,\n",
       " 1.541737e-07,\n",
       " 1.4002185e-07,\n",
       " 9.457511e-07,\n",
       " 1.9458574e-14,\n",
       " 1.8404181e-14,\n",
       " 1.039366e-13,\n",
       " 3.919922e-14,\n",
       " 3.6042241e-10]"
      ]
     },
     "execution_count": 61,
     "metadata": {},
     "output_type": "execute_result"
    }
   ],
   "source": [
    "# Evaluate the trained model on the validation data\n",
    "model_nn.evaluate(ds_val)"
   ]
  },
  {
   "cell_type": "code",
   "execution_count": null,
   "metadata": {},
   "outputs": [],
   "source": [
    "# Evaluate the trained model on the test data\n",
    "# model_nn.evaluate(ds_tst)"
   ]
  },
  {
   "cell_type": "markdown",
   "metadata": {},
   "source": [
    "### Describe Covariance of Dataset Orbital Elements"
   ]
  },
  {
   "cell_type": "code",
   "execution_count": 62,
   "metadata": {},
   "outputs": [],
   "source": [
    "# Compute covariance matrix of orbital elements\n",
    "cov = orb_elt_cov(ds_val)"
   ]
  },
  {
   "cell_type": "code",
   "execution_count": 63,
   "metadata": {},
   "outputs": [],
   "source": [
    "# List of orbital elements in the cov matrix\n",
    "elt_names = ['a1', 'a2', 'e1', 'e2', 'inc1', 'inc2', 'Omega1', 'Omega2', 'omega1', 'omega2', 'f1', 'f2']\n",
    "# limit to the interesting ones\n",
    "elt_names = elt_names[0:6]"
   ]
  },
  {
   "cell_type": "code",
   "execution_count": 64,
   "metadata": {},
   "outputs": [
    {
     "name": "stdout",
     "output_type": "stream",
     "text": [
      "SD of a1     = 0.021019\n",
      "SD of a2     = 0.228333\n",
      "SD of e1     = 0.009339\n",
      "SD of e2     = 0.030154\n",
      "SD of inc1   = 0.005925\n",
      "SD of inc2   = 0.011256\n"
     ]
    }
   ],
   "source": [
    "# Display standard deviations of orbital elements\n",
    "sds = np.sqrt(np.diag(cov))\n",
    "for i, elt_name in enumerate(elt_names):\n",
    "    sd = sds[i]\n",
    "    print(f'SD of {elt_name:6} = {sd:8.6f}')"
   ]
  },
  {
   "cell_type": "markdown",
   "metadata": {},
   "source": [
    "### Train on Full Data Set with Perturbation Scale Factor = 2.0"
   ]
  },
  {
   "cell_type": "code",
   "execution_count": 65,
   "metadata": {},
   "outputs": [
    {
     "name": "stdout",
     "output_type": "stream",
     "text": [
      "Loaded data from ../data/sej/3461170694.pickle.\n"
     ]
    },
    {
     "data": {
      "application/vnd.jupyter.widget-view+json": {
       "model_id": "a658b11033ee4d5390c7243a97ae429a",
       "version_major": 2,
       "version_minor": 0
      },
      "text/plain": [
       "HBox(children=(IntProgress(value=0, max=4), HTML(value='')))"
      ]
     },
     "metadata": {},
     "output_type": "display_data"
    },
    {
     "name": "stdout",
     "output_type": "stream",
     "text": [
      "Loaded data from ../data/sej/2165100737.pickle.\n",
      "Loaded data from ../data/sej/883076748.pickle.\n",
      "Loaded data from ../data/sej/3835854834.pickle.\n",
      "Loaded data from ../data/sej/2580908983.pickle.\n",
      "\n"
     ]
    }
   ],
   "source": [
    "# Build combined SEJ data sets with scale factor = 2\n",
    "scale_factor = 2.0\n",
    "\n",
    "# Data for this scale factor\n",
    "ds_trn, ds_val, ds_tst = \\\n",
    "    combine_datasets_sej(num_data_sets=num_data_sets, batch_size=batch_size, \n",
    "                         seed0=seed0, scale_factor=scale_factor)"
   ]
  },
  {
   "cell_type": "code",
   "execution_count": 66,
   "metadata": {},
   "outputs": [],
   "source": [
    "# Update data by scale factor\n",
    "data_by_factor[scale_factor] = (ds_trn, ds_val, ds_tst)"
   ]
  },
  {
   "cell_type": "code",
   "execution_count": 67,
   "metadata": {},
   "outputs": [],
   "source": [
    "# Compute covariance matrix of orbital elements\n",
    "cov = orb_elt_cov(ds_val)"
   ]
  },
  {
   "cell_type": "code",
   "execution_count": 68,
   "metadata": {},
   "outputs": [
    {
     "name": "stdout",
     "output_type": "stream",
     "text": [
      "SD of a1     = 0.042134\n",
      "SD of a2     = 0.472072\n",
      "SD of e1     = 0.015736\n",
      "SD of e2     = 0.050770\n",
      "SD of inc1   = 0.011849\n",
      "SD of inc2   = 0.020815\n"
     ]
    }
   ],
   "source": [
    "# Display standard deviations of orbital elements\n",
    "sds = np.sqrt(np.diag(cov))\n",
    "for i, elt_name in enumerate(elt_names):\n",
    "    sd = sds[i]\n",
    "    print(f'SD of {elt_name:6} = {sd:8.6f}')"
   ]
  },
  {
   "cell_type": "code",
   "execution_count": 70,
   "metadata": {},
   "outputs": [
    {
     "name": "stdout",
     "output_type": "stream",
     "text": [
      "35/35 [==============================] - 4s 116ms/step - loss: 6.8835e-05 - q_loss: 2.0331e-05 - v_loss: 2.0267e-05 - a_loss: 2.8237e-05 - q0_rec_loss: 2.2697e-14 - v0_rec_loss: 2.2183e-14 - H_loss: 1.0033e-13 - P_loss: 3.8083e-14 - L_loss: 2.0160e-14\n"
     ]
    }
   ],
   "source": [
    "# Evaluate the NN model on the full validation data; save as baseline\n",
    "hist0, q_loss_baseline = baseline_loss(model_kj, ds_val)\n",
    "baseline_tbl[scale_factor] = q_loss_baseline"
   ]
  },
  {
   "cell_type": "code",
   "execution_count": 71,
   "metadata": {},
   "outputs": [
    {
     "name": "stdout",
     "output_type": "stream",
     "text": [
      "Training for 1 batches of 5 epochs each.\n",
      "model_name = model_sej_nn_64_16_sf_2\n",
      "model_h5 = ../models/sej/model_sej_nn_64_16_sf_2.h5\n",
      "hist_name = hist_sej_nn_64_16_sf_2\n"
     ]
    }
   ],
   "source": [
    "# Set up training - full data, scale factor = 2\n",
    "\n",
    "# Number of training epochs\n",
    "num_batches=1\n",
    "epochs_per_batch = 5\n",
    "\n",
    "# Integer scale factor\n",
    "sfi = int(scale_factor)\n",
    "\n",
    "# Name of this model including scale factor\n",
    "model_name = f'model_{model_code}_nn_{suffix}_sf_{sfi}'\n",
    "\n",
    "# H5 file with model weights\n",
    "model_h5 = f'../models/{folder}/{model_name}.h5'\n",
    "# Name of the loss history in vartbl\n",
    "hist_name = model_name.replace('model_', 'hist_')\n",
    "\n",
    "# Status\n",
    "print(f'Training for {num_batches} batches of {epochs_per_batch} epochs each.')\n",
    "print(f'model_name = {model_name}')\n",
    "print(f'model_h5 = {model_h5}')\n",
    "print(f'hist_name = {hist_name}')"
   ]
  },
  {
   "cell_type": "code",
   "execution_count": 72,
   "metadata": {},
   "outputs": [
    {
     "name": "stdout",
     "output_type": "stream",
     "text": [
      "Unable to load model_sej_nn_64_16_sf_2 from ../models/sej/model_sej_nn_64_16_sf_2.h5. Fitting...\n",
      "*** Training batch   1 *** 2019-08-22 21:40:06\n",
      "Epoch 1/5\n",
      "194/195 [============================>.] - ETA: 0s - loss: 1.5204e-06 - q_loss: 3.0688e-07 - v_loss: 2.7280e-07 - a_loss: 9.3901e-07 - q0_rec_loss: 2.2892e-14 - v0_rec_loss: 2.2396e-14 - H_loss: 1.4890e-13 - P_loss: 3.8644e-14 - L_loss: 8.1554e-10\n",
      "Epoch 0001; loss 1.52e-06; elapsed 0:00:48\n",
      "195/195 [==============================] - 39s 202ms/step - loss: 1.5201e-06 - q_loss: 3.0687e-07 - v_loss: 2.7280e-07 - a_loss: 9.3880e-07 - q0_rec_loss: 2.2880e-14 - v0_rec_loss: 2.2382e-14 - H_loss: 1.4988e-13 - P_loss: 3.8644e-14 - L_loss: 8.1193e-10\n",
      "Epoch 2/5\n",
      "194/195 [============================>.] - ETA: 0s - loss: 1.4777e-06 - q_loss: 2.9384e-07 - v_loss: 2.6573e-07 - a_loss: 9.1681e-07 - q0_rec_loss: 2.2892e-14 - v0_rec_loss: 2.2396e-14 - H_loss: 2.0046e-11 - P_loss: 3.8648e-14 - L_loss: 3.8283e-10\n",
      "Epoch 0002; loss 1.48e-06; elapsed 0:01:34\n",
      "195/195 [==============================] - 38s 195ms/step - loss: 1.4777e-06 - q_loss: 2.9413e-07 - v_loss: 2.6601e-07 - a_loss: 9.1629e-07 - q0_rec_loss: 2.2880e-14 - v0_rec_loss: 2.2382e-14 - H_loss: 2.0809e-11 - P_loss: 3.8649e-14 - L_loss: 3.9971e-10\n",
      "Epoch 3/5\n",
      "194/195 [============================>.] - ETA: 0s - loss: 1.4539e-06 - q_loss: 2.8659e-07 - v_loss: 2.6223e-07 - a_loss: 9.0342e-07 - q0_rec_loss: 2.2892e-14 - v0_rec_loss: 2.2396e-14 - H_loss: 2.6043e-11 - P_loss: 3.8658e-14 - L_loss: 6.8153e-10\n",
      "Epoch 0003; loss 1.45e-06; elapsed 0:02:22\n",
      "195/195 [==============================] - 39s 202ms/step - loss: 1.4542e-06 - q_loss: 2.8710e-07 - v_loss: 2.6274e-07 - a_loss: 9.0270e-07 - q0_rec_loss: 2.2880e-14 - v0_rec_loss: 2.2382e-14 - H_loss: 2.6765e-11 - P_loss: 3.8659e-14 - L_loss: 6.7834e-10\n",
      "Epoch 4/5\n",
      "194/195 [============================>.] - ETA: 0s - loss: 1.4382e-06 - q_loss: 2.8207e-07 - v_loss: 2.5988e-07 - a_loss: 8.9468e-07 - q0_rec_loss: 2.2892e-14 - v0_rec_loss: 2.2396e-14 - H_loss: 3.8030e-11 - P_loss: 3.8674e-14 - L_loss: 5.8945e-10\n",
      "Epoch 0004; loss 1.44e-06; elapsed 0:03:10\n",
      "195/195 [==============================] - 39s 199ms/step - loss: 1.4382e-06 - q_loss: 2.8244e-07 - v_loss: 2.6025e-07 - a_loss: 8.9397e-07 - q0_rec_loss: 2.2880e-14 - v0_rec_loss: 2.2382e-14 - H_loss: 3.7849e-11 - P_loss: 3.8674e-14 - L_loss: 5.8644e-10\n",
      "Epoch 5/5\n",
      "194/195 [============================>.] - ETA: 0s - loss: 1.4157e-06 - q_loss: 2.7474e-07 - v_loss: 2.5381e-07 - a_loss: 8.8551e-07 - q0_rec_loss: 2.2892e-14 - v0_rec_loss: 2.2396e-14 - H_loss: 4.7026e-11 - P_loss: 3.8676e-14 - L_loss: 6.1975e-10\n",
      "Epoch 0005; loss 1.42e-06; elapsed 0:03:57\n",
      "195/195 [==============================] - 39s 198ms/step - loss: 1.4156e-06 - q_loss: 2.7495e-07 - v_loss: 2.5402e-07 - a_loss: 8.8498e-07 - q0_rec_loss: 2.2880e-14 - v0_rec_loss: 2.2382e-14 - H_loss: 4.6786e-11 - P_loss: 3.8677e-14 - L_loss: 6.1658e-10\n"
     ]
    }
   ],
   "source": [
    "# Attempt to load model or train on selected number of epochs\n",
    "try:\n",
    "    model_nn.load_weights(model_h5)\n",
    "    model_nn.compile(loss=loss, optimizer=optimizer, metrics=metrics, loss_weights=loss_weights)\n",
    "    hist = vartbl[hist_name]\n",
    "    print(f'Loaded {model_name} from {model_h5}.')\n",
    "except:\n",
    "    print(f'Unable to load {model_name} from {model_h5}. Fitting...')\n",
    "    hist = hist0\n",
    "    for i in range_inc(num_batches):\n",
    "        ts = datetime.datetime.now()\n",
    "        st = ts.strftime('%Y-%m-%d %H:%M:%S')\n",
    "        print(f'*** Training batch {i:3} *** {st}')\n",
    "        hist = fit_model(model=model_nn,\n",
    "                         model_name=model_name,\n",
    "                         folder=folder,\n",
    "                         ds=ds_trn, \n",
    "                         epochs=epochs_per_batch,\n",
    "                         save_freq=save_freq,\n",
    "                         prev_history = hist, \n",
    "                         batch_num=i)\n",
    "    \n",
    "    vartbl[hist_name] = hist\n",
    "    save_vartbl(vartbl, fname)"
   ]
  },
  {
   "cell_type": "code",
   "execution_count": 73,
   "metadata": {},
   "outputs": [
    {
     "name": "stdout",
     "output_type": "stream",
     "text": [
      "35/35 [==============================] - 4s 125ms/step - loss: 1.3923e-06 - q_loss: 2.3033e-07 - v_loss: 2.0835e-07 - a_loss: 9.5262e-07 - q0_rec_loss: 2.2697e-14 - v0_rec_loss: 2.2183e-14 - H_loss: 4.7692e-13 - P_loss: 3.8678e-14 - L_loss: 4.0333e-13\n"
     ]
    },
    {
     "data": {
      "text/plain": [
       "[1.3922762556311293e-06,\n",
       " 2.3032514e-07,\n",
       " 2.083513e-07,\n",
       " 9.526169e-07,\n",
       " 2.269701e-14,\n",
       " 2.2183288e-14,\n",
       " 4.7692145e-13,\n",
       " 3.8677703e-14,\n",
       " 4.03329e-13]"
      ]
     },
     "execution_count": 73,
     "metadata": {},
     "output_type": "execute_result"
    }
   ],
   "source": [
    "# Evaluate the trained model on the validation data\n",
    "model_nn.evaluate(ds_val)"
   ]
  },
  {
   "cell_type": "code",
   "execution_count": 74,
   "metadata": {},
   "outputs": [
    {
     "data": {
      "image/png": "[encoded data removed]",
      "text/plain": [
       "<Figure size 1152x648 with 1 Axes>"
      ]
     },
     "metadata": {
      "needs_background": "light"
     },
     "output_type": "display_data"
    }
   ],
   "source": [
    "# Plot the loss\n",
    "fig, ax = plot_loss_hist(hist=hist, model_name=model_name, key='q_loss', baseline=q_loss_baseline)"
   ]
  },
  {
   "cell_type": "markdown",
   "metadata": {},
   "source": [
    "### Train on Full Data Set with Perturbation Scale Factor = 4.0"
   ]
  },
  {
   "cell_type": "code",
   "execution_count": 75,
   "metadata": {},
   "outputs": [
    {
     "name": "stdout",
     "output_type": "stream",
     "text": [
      "Loaded data from ../data/sej/109948493.pickle.\n"
     ]
    },
    {
     "data": {
      "application/vnd.jupyter.widget-view+json": {
       "model_id": "20bb3102ff9849bf94afb2300f042601",
       "version_major": 2,
       "version_minor": 0
      },
      "text/plain": [
       "HBox(children=(IntProgress(value=0, max=4), HTML(value='')))"
      ]
     },
     "metadata": {},
     "output_type": "display_data"
    },
    {
     "name": "stdout",
     "output_type": "stream",
     "text": [
      "Loaded data from ../data/sej/1238120586.pickle.\n",
      "Loaded data from ../data/sej/4234299079.pickle.\n",
      "Loaded data from ../data/sej/744658873.pickle.\n",
      "Loaded data from ../data/sej/1360356348.pickle.\n",
      "\n"
     ]
    }
   ],
   "source": [
    "# Build combined SEJ data sets with scale factor = 4\n",
    "scale_factor = 4.0\n",
    "\n",
    "# Data for this scale factor\n",
    "ds_trn, ds_val, ds_tst = \\\n",
    "    combine_datasets_sej(num_data_sets=num_data_sets, batch_size=batch_size, \n",
    "                         seed0=seed0, scale_factor=scale_factor)"
   ]
  },
  {
   "cell_type": "code",
   "execution_count": 78,
   "metadata": {},
   "outputs": [],
   "source": [
    "# Update data by scale factor\n",
    "data_by_factor[scale_factor] = (ds_trn, ds_val, ds_tst)"
   ]
  },
  {
   "cell_type": "code",
   "execution_count": 79,
   "metadata": {},
   "outputs": [],
   "source": [
    "# Compute covariance matrix of orbital elements\n",
    "cov = orb_elt_cov(ds_val)"
   ]
  },
  {
   "cell_type": "code",
   "execution_count": 80,
   "metadata": {},
   "outputs": [
    {
     "name": "stdout",
     "output_type": "stream",
     "text": [
      "SD of a1     = 0.085013\n",
      "SD of a2     = 1.119090\n",
      "SD of e1     = 0.028830\n",
      "SD of e2     = 0.093952\n",
      "SD of inc1   = 0.023712\n",
      "SD of inc2   = 0.039768\n"
     ]
    }
   ],
   "source": [
    "# Display standard deviations of orbital elements\n",
    "sds = np.sqrt(np.diag(cov))\n",
    "for i, elt_name in enumerate(elt_names):\n",
    "    sd = sds[i]\n",
    "    print(f'SD of {elt_name:6} = {sd:8.6f}')"
   ]
  },
  {
   "cell_type": "code",
   "execution_count": 81,
   "metadata": {},
   "outputs": [
    {
     "name": "stdout",
     "output_type": "stream",
     "text": [
      "35/35 [==============================] - 4s 117ms/step - loss: 1.2033e-04 - q_loss: 3.7668e-05 - v_loss: 3.7125e-05 - a_loss: 4.5541e-05 - q0_rec_loss: 2.4782e-14 - v0_rec_loss: 2.5038e-14 - H_loss: 1.1407e-13 - P_loss: 3.6273e-14 - L_loss: 2.0457e-14\n"
     ]
    }
   ],
   "source": [
    "# Evaluate the NN model on the full validation data; save as baseline\n",
    "hist0, q_loss_baseline = baseline_loss(model_kj, ds_val)"
   ]
  },
  {
   "cell_type": "code",
   "execution_count": 82,
   "metadata": {},
   "outputs": [
    {
     "name": "stdout",
     "output_type": "stream",
     "text": [
      "Training for 1 batches of 5 epochs each.\n",
      "model_name = model_sej_nn_64_16_sf_4\n",
      "model_h5 = ../models/sej/model_sej_nn_64_16_sf_4.h5\n",
      "hist_name = hist_sej_nn_64_16_sf_4\n"
     ]
    }
   ],
   "source": [
    "# Set up training - full data, scale factor = 4\n",
    "\n",
    "# Number of training epochs\n",
    "num_batches=1\n",
    "epochs_per_batch = 5\n",
    "\n",
    "# Integer scale factor\n",
    "sfi = int(scale_factor)\n",
    "\n",
    "# Name of this model including scale factor\n",
    "model_name = f'model_{model_code}_nn_{suffix}_sf_{sfi}'\n",
    "\n",
    "# H5 file with model weights\n",
    "model_h5 = f'../models/{folder}/{model_name}.h5'\n",
    "# Name of the loss history in vartbl\n",
    "hist_name = model_name.replace('model_', 'hist_')\n",
    "\n",
    "# Status\n",
    "print(f'Training for {num_batches} batches of {epochs_per_batch} epochs each.')\n",
    "print(f'model_name = {model_name}')\n",
    "print(f'model_h5 = {model_h5}')\n",
    "print(f'hist_name = {hist_name}')"
   ]
  },
  {
   "cell_type": "code",
   "execution_count": 83,
   "metadata": {},
   "outputs": [
    {
     "name": "stdout",
     "output_type": "stream",
     "text": [
      "Unable to load model_sej_nn_64_16_sf_4 from ../models/sej/model_sej_nn_64_16_sf_4.h5. Fitting...\n",
      "*** Training batch   1 *** 2019-08-22 21:46:39\n",
      "Epoch 1/5\n",
      "194/195 [============================>.] - ETA: 0s - loss: 1.5772e-04 - q_loss: 5.2247e-05 - v_loss: 5.1960e-05 - a_loss: 5.3514e-05 - q0_rec_loss: 2.5150e-14 - v0_rec_loss: 2.5211e-14 - H_loss: 1.9874e-10 - P_loss: 3.6803e-14 - L_loss: 8.3911e-10\n",
      "Epoch 0001; loss 1.57e-04; elapsed 0:00:48\n",
      "195/195 [==============================] - 40s 205ms/step - loss: 1.5697e-04 - q_loss: 5.1998e-05 - v_loss: 5.1711e-05 - a_loss: 5.3259e-05 - q0_rec_loss: 2.5167e-14 - v0_rec_loss: 2.5229e-14 - H_loss: 1.9780e-10 - P_loss: 3.6804e-14 - L_loss: 8.3485e-10\n",
      "Epoch 2/5\n",
      "194/195 [============================>.] - ETA: 0s - loss: 1.5715e-04 - q_loss: 5.2103e-05 - v_loss: 5.1814e-05 - a_loss: 5.3231e-05 - q0_rec_loss: 2.5150e-14 - v0_rec_loss: 2.5211e-14 - H_loss: 1.0927e-11 - P_loss: 3.6798e-14 - L_loss: 7.7935e-10\n",
      "Epoch 0002; loss 1.56e-04; elapsed 0:01:36\n",
      "195/195 [==============================] - 39s 203ms/step - loss: 1.5641e-04 - q_loss: 5.1859e-05 - v_loss: 5.1571e-05 - a_loss: 5.2978e-05 - q0_rec_loss: 2.5167e-14 - v0_rec_loss: 2.5229e-14 - H_loss: 1.0894e-11 - P_loss: 3.6799e-14 - L_loss: 7.7546e-10\n",
      "Epoch 3/5\n",
      "194/195 [============================>.] - ETA: 0s - loss: 1.5702e-04 - q_loss: 5.2069e-05 - v_loss: 5.1775e-05 - a_loss: 5.3173e-05 - q0_rec_loss: 2.5150e-14 - v0_rec_loss: 2.5211e-14 - H_loss: 1.0427e-11 - P_loss: 3.6801e-14 - L_loss: 5.8703e-10\n",
      "Epoch 0003; loss 1.56e-04; elapsed 0:02:24\n",
      "195/195 [==============================] - 39s 201ms/step - loss: 1.5627e-04 - q_loss: 5.1822e-05 - v_loss: 5.1528e-05 - a_loss: 5.2919e-05 - q0_rec_loss: 2.5167e-14 - v0_rec_loss: 2.5229e-14 - H_loss: 1.0392e-11 - P_loss: 3.6801e-14 - L_loss: 5.8402e-10\n",
      "Epoch 4/5\n",
      "194/195 [============================>.] - ETA: 0s - loss: 1.5692e-04 - q_loss: 5.2045e-05 - v_loss: 5.1744e-05 - a_loss: 5.3128e-05 - q0_rec_loss: 2.5150e-14 - v0_rec_loss: 2.5211e-14 - H_loss: 2.4670e-11 - P_loss: 3.6807e-14 - L_loss: 5.9321e-10\n",
      "Epoch 0004; loss 1.56e-04; elapsed 0:03:12\n",
      "195/195 [==============================] - 39s 200ms/step - loss: 1.5617e-04 - q_loss: 5.1797e-05 - v_loss: 5.1497e-05 - a_loss: 5.2874e-05 - q0_rec_loss: 2.5167e-14 - v0_rec_loss: 2.5229e-14 - H_loss: 2.4719e-11 - P_loss: 3.6807e-14 - L_loss: 5.9280e-10\n",
      "Epoch 5/5\n",
      "194/195 [============================>.] - ETA: 0s - loss: 1.5686e-04 - q_loss: 5.2030e-05 - v_loss: 5.1723e-05 - a_loss: 5.3100e-05 - q0_rec_loss: 2.5150e-14 - v0_rec_loss: 2.5211e-14 - H_loss: 2.3167e-11 - P_loss: 3.6809e-14 - L_loss: 1.0370e-09\n",
      "Epoch 0005; loss 1.56e-04; elapsed 0:04:00\n",
      "195/195 [==============================] - 40s 204ms/step - loss: 1.5611e-04 - q_loss: 5.1783e-05 - v_loss: 5.1476e-05 - a_loss: 5.2846e-05 - q0_rec_loss: 2.5167e-14 - v0_rec_loss: 2.5229e-14 - H_loss: 2.3317e-11 - P_loss: 3.6809e-14 - L_loss: 1.0331e-09\n"
     ]
    }
   ],
   "source": [
    "# Attempt to load model or train on selected number of epochs\n",
    "try:\n",
    "    model_nn.load_weights(model_h5)\n",
    "    model_nn.compile(loss=loss, optimizer=optimizer, metrics=metrics, loss_weights=loss_weights)\n",
    "    hist = vartbl[hist_name]\n",
    "    print(f'Loaded {model_name} from {model_h5}.')\n",
    "except:\n",
    "    print(f'Unable to load {model_name} from {model_h5}. Fitting...')\n",
    "    hist = hist0\n",
    "    for i in range_inc(num_batches):\n",
    "        ts = datetime.datetime.now()\n",
    "        st = ts.strftime('%Y-%m-%d %H:%M:%S')\n",
    "        print(f'*** Training batch {i:3} *** {st}')\n",
    "        hist = fit_model(model=model_nn,\n",
    "                         model_name=model_name,\n",
    "                         folder=folder,\n",
    "                         ds=ds_trn, \n",
    "                         epochs=epochs_per_batch,\n",
    "                         save_freq=save_freq,\n",
    "                         prev_history = hist, \n",
    "                         batch_num=i)\n",
    "    \n",
    "    vartbl[hist_name] = hist\n",
    "    save_vartbl(vartbl, fname)"
   ]
  },
  {
   "cell_type": "code",
   "execution_count": 84,
   "metadata": {},
   "outputs": [
    {
     "name": "stdout",
     "output_type": "stream",
     "text": [
      "35/35 [==============================] - 4s 123ms/step - loss: 4.7046e-05 - q_loss: 1.5708e-05 - v_loss: 1.5314e-05 - a_loss: 1.6022e-05 - q0_rec_loss: 2.4782e-14 - v0_rec_loss: 2.5038e-14 - H_loss: 1.3387e-10 - P_loss: 3.6809e-14 - L_loss: 2.7337e-10\n"
     ]
    },
    {
     "data": {
      "text/plain": [
       "[4.704592701533069e-05,\n",
       " 1.5708436e-05,\n",
       " 1.531431e-05,\n",
       " 1.6021548e-05,\n",
       " 2.4781589e-14,\n",
       " 2.5038285e-14,\n",
       " 1.3387116e-10,\n",
       " 3.6809382e-14,\n",
       " 2.7337135e-10]"
      ]
     },
     "execution_count": 84,
     "metadata": {},
     "output_type": "execute_result"
    }
   ],
   "source": [
    "# Evaluate the trained model on the validation data\n",
    "model_nn.evaluate(ds_val)"
   ]
  },
  {
   "cell_type": "code",
   "execution_count": 85,
   "metadata": {},
   "outputs": [
    {
     "data": {
      "image/png": "[encoded data removed]",
      "text/plain": [
       "<Figure size 1152x648 with 1 Axes>"
      ]
     },
     "metadata": {
      "needs_background": "light"
     },
     "output_type": "display_data"
    }
   ],
   "source": [
    "# Plot the loss\n",
    "fig, ax = plot_loss_hist(hist=hist, model_name=model_name, key='q_loss', baseline=q_loss_baseline)"
   ]
  },
  {
   "cell_type": "markdown",
   "metadata": {},
   "source": [
    "### Train on Full Data Set with Perturbation Scale Factor = 8.0"
   ]
  },
  {
   "cell_type": "code",
   "execution_count": 98,
   "metadata": {},
   "outputs": [
    {
     "name": "stdout",
     "output_type": "stream",
     "text": [
      "Loaded data from ../data/sej/1283291290.pickle.\n"
     ]
    },
    {
     "data": {
      "application/vnd.jupyter.widget-view+json": {
       "model_id": "43e2be254539494eb48d64460994fa0f",
       "version_major": 2,
       "version_minor": 0
      },
      "text/plain": [
       "HBox(children=(IntProgress(value=0, max=4), HTML(value='')))"
      ]
     },
     "metadata": {},
     "output_type": "display_data"
    },
    {
     "name": "stdout",
     "output_type": "stream",
     "text": [
      "Loaded data from ../data/sej/54324829.pickle.\n",
      "Loaded data from ../data/sej/3063058448.pickle.\n",
      "Loaded data from ../data/sej/1720861038.pickle.\n",
      "Loaded data from ../data/sej/468038955.pickle.\n"
     ]
    }
   ],
   "source": [
    "# Build combined SEJ data sets with scale factor = 8\n",
    "scale_factor = 8.0\n",
    "\n",
    "# Data for this scale factor\n",
    "ds_trn, ds_val, ds_tst = \\\n",
    "    combine_datasets_sej(num_data_sets=num_data_sets, batch_size=batch_size, \n",
    "                         seed0=seed0, scale_factor=scale_factor)"
   ]
  },
  {
   "cell_type": "code",
   "execution_count": 99,
   "metadata": {},
   "outputs": [],
   "source": [
    "# Update data by scale factor\n",
    "data_by_factor[scale_factor] = (ds_trn, ds_val, ds_tst)"
   ]
  },
  {
   "cell_type": "code",
   "execution_count": 100,
   "metadata": {},
   "outputs": [],
   "source": [
    "# Compute covariance matrix of orbital elements\n",
    "cov = orb_elt_cov(ds_val)"
   ]
  },
  {
   "cell_type": "code",
   "execution_count": 101,
   "metadata": {},
   "outputs": [
    {
     "name": "stdout",
     "output_type": "stream",
     "text": [
      "SD of a1     = 0.176228\n",
      "SD of a2     = 48.840700\n",
      "SD of e1     = 0.055955\n",
      "SD of e2     = 0.191019\n",
      "SD of inc1   = 0.047594\n",
      "SD of inc2   = 0.079361\n"
     ]
    }
   ],
   "source": [
    "# Display standard deviations of orbital elements\n",
    "sds = np.sqrt(np.diag(cov))\n",
    "for i, elt_name in enumerate(elt_names):\n",
    "    sd = sds[i]\n",
    "    print(f'SD of {elt_name:6} = {sd:8.6f}')"
   ]
  },
  {
   "cell_type": "code",
   "execution_count": 97,
   "metadata": {},
   "outputs": [
    {
     "name": "stdout",
     "output_type": "stream",
     "text": [
      "35/35 [==============================] - 4s 122ms/step - loss: 1.2033e-04 - q_loss: 3.7668e-05 - v_loss: 3.7125e-05 - a_loss: 4.5541e-05 - q0_rec_loss: 2.4782e-14 - v0_rec_loss: 2.5038e-14 - H_loss: 1.1407e-13 - P_loss: 3.6273e-14 - L_loss: 2.0457e-14\n"
     ]
    }
   ],
   "source": [
    "# Evaluate the NN model on the full validation data; save as baseline\n",
    "hist0, q_loss_baseline = baseline_loss(model_kj, ds_val)\n",
    "baseline_tbl[scale_factor] = q_loss_baseline"
   ]
  },
  {
   "cell_type": "code",
   "execution_count": 95,
   "metadata": {},
   "outputs": [
    {
     "name": "stdout",
     "output_type": "stream",
     "text": [
      "35/35 [==============================] - 4s 119ms/step - loss: nan - q_loss: nan - v_loss: nan - a_loss: nan - q0_rec_loss: nan - v0_rec_loss: nan - H_loss: nan - P_loss: nan - L_loss: nan\n"
     ]
    },
    {
     "data": {
      "text/plain": [
       "[nan, nan, nan, nan, nan, nan, nan, nan, nan]"
      ]
     },
     "execution_count": 95,
     "metadata": {},
     "output_type": "execute_result"
    }
   ],
   "source": [
    "model_nn.evaluate(ds_val)"
   ]
  },
  {
   "cell_type": "code",
   "execution_count": null,
   "metadata": {},
   "outputs": [],
   "source": [
    "# Set up training - full data, scale factor = 8\n",
    "\n",
    "# Number of training epochs\n",
    "num_batches=1\n",
    "epochs_per_batch = 5\n",
    "\n",
    "# Integer scale factor\n",
    "sfi = int(scale_factor)\n",
    "\n",
    "# Name of this model including scale factor\n",
    "model_name = f'model_{model_code}_nn_{suffix}_sf_{sfi}'\n",
    "\n",
    "# H5 file with model weights\n",
    "model_h5 = f'../models/{folder}/{model_name}.h5'\n",
    "# Name of the loss history in vartbl\n",
    "hist_name = model_name.replace('model_', 'hist_')\n",
    "\n",
    "# Status\n",
    "print(f'Training for {num_batches} batches of {epochs_per_batch} epochs each.')\n",
    "print(f'model_name = {model_name}')\n",
    "print(f'model_h5 = {model_h5}')\n",
    "print(f'hist_name = {hist_name}')"
   ]
  },
  {
   "cell_type": "code",
   "execution_count": null,
   "metadata": {},
   "outputs": [],
   "source": [
    "# Attempt to load model or train on selected number of epochs\n",
    "try:\n",
    "    model_nn.load_weights(model_h5)\n",
    "    model_nn.compile(loss=loss, optimizer=optimizer, metrics=metrics, loss_weights=loss_weights)\n",
    "    hist = vartbl[hist_name]\n",
    "    print(f'Loaded {model_name} from {model_h5}.')\n",
    "except:\n",
    "    print(f'Unable to load {model_name} from {model_h5}. Fitting...')\n",
    "    hist = hist0\n",
    "    for i in range_inc(num_batches):\n",
    "        ts = datetime.datetime.now()\n",
    "        st = ts.strftime('%Y-%m-%d %H:%M:%S')\n",
    "        print(f'*** Training batch {i:3} *** {st}')\n",
    "        hist = fit_model(model=model_nn,\n",
    "                         model_name=model_name,\n",
    "                         folder=folder,\n",
    "                         ds=ds_trn, \n",
    "                         epochs=epochs_per_batch,\n",
    "                         save_freq=save_freq,\n",
    "                         prev_history = hist, \n",
    "                         batch_num=i)\n",
    "    \n",
    "    vartbl[hist_name] = hist\n",
    "    save_vartbl(vartbl, fname)"
   ]
  },
  {
   "cell_type": "code",
   "execution_count": null,
   "metadata": {},
   "outputs": [],
   "source": [
    "# Evaluate the trained model on the validation data\n",
    "model_nn.evaluate(ds_val)"
   ]
  },
  {
   "cell_type": "code",
   "execution_count": null,
   "metadata": {},
   "outputs": [],
   "source": [
    "# Plot the loss\n",
    "fig, ax = plot_loss_hist(hist=hist, model_name=model_name, key='q_loss', baseline=q_loss_baseline)"
   ]
  },
  {
   "cell_type": "markdown",
   "metadata": {},
   "source": [
    "### Train on Full Data Set with Perturbation Scale Factor = 16.0"
   ]
  },
  {
   "cell_type": "code",
   "execution_count": null,
   "metadata": {},
   "outputs": [],
   "source": [
    "# Build combined SEJ data sets with scale factor = 16\n",
    "scale_factor = 16.0\n",
    "\n",
    "# Data for this scale factor\n",
    "ds_trn, ds_val, ds_tst = \\\n",
    "    combine_datasets_sej(num_data_sets=num_data_sets, batch_size=batch_size, \n",
    "                         seed0=seed0, scale_factor=scale_factor)"
   ]
  },
  {
   "cell_type": "code",
   "execution_count": null,
   "metadata": {},
   "outputs": [],
   "source": [
    "# Update data by scale factor\n",
    "data_by_factor[scale_factor] = (ds_trn, ds_val, ds_tst)"
   ]
  },
  {
   "cell_type": "code",
   "execution_count": null,
   "metadata": {},
   "outputs": [],
   "source": [
    "# Compute covariance matrix of orbital elements\n",
    "cov = orb_elt_cov(ds_val)"
   ]
  },
  {
   "cell_type": "code",
   "execution_count": null,
   "metadata": {},
   "outputs": [],
   "source": [
    "# Display standard deviations of orbital elements\n",
    "sds = np.sqrt(np.diag(cov))\n",
    "for i, elt_name in enumerate(elt_names):\n",
    "    sd = sds[i]\n",
    "    print(f'SD of {elt_name:6} = {sd:8.6f}')"
   ]
  },
  {
   "cell_type": "code",
   "execution_count": null,
   "metadata": {},
   "outputs": [],
   "source": [
    "# Evaluate the NN model on the full validation data; save as baseline\n",
    "hist0, q_loss_baseline = baseline_loss(model_kj, ds_val)\n",
    "baseline_tbl[scale_factor] = q_loss_baseline"
   ]
  },
  {
   "cell_type": "code",
   "execution_count": null,
   "metadata": {},
   "outputs": [],
   "source": [
    "# Set up training - full data, scale factor = 16\n",
    "\n",
    "# Number of training epochs\n",
    "num_batches=1\n",
    "epochs_per_batch = 5\n",
    "\n",
    "# Integer scale factor\n",
    "sfi = int(scale_factor)\n",
    "\n",
    "# Name of this model including scale factor\n",
    "model_name = f'model_{model_code}_nn_{suffix}_sf_{sfi}'\n",
    "\n",
    "# H5 file with model weights\n",
    "model_h5 = f'../models/{folder}/{model_name}.h5'\n",
    "# Name of the loss history in vartbl\n",
    "hist_name = model_name.replace('model_', 'hist_')\n",
    "\n",
    "# Status\n",
    "print(f'Training for {num_batches} batches of {epochs_per_batch} epochs each.')\n",
    "print(f'model_name = {model_name}')\n",
    "print(f'model_h5 = {model_h5}')\n",
    "print(f'hist_name = {hist_name}')"
   ]
  },
  {
   "cell_type": "code",
   "execution_count": null,
   "metadata": {},
   "outputs": [],
   "source": [
    "# Attempt to load model or train on selected number of epochs\n",
    "try:\n",
    "    model_nn.load_weights(model_h5)\n",
    "    model_nn.compile(loss=loss, optimizer=optimizer, metrics=metrics, loss_weights=loss_weights)\n",
    "    hist = vartbl[hist_name]\n",
    "    print(f'Loaded {model_name} from {model_h5}.')\n",
    "except:\n",
    "    print(f'Unable to load {model_name} from {model_h5}. Fitting...')\n",
    "    hist = hist0\n",
    "    for i in range_inc(num_batches):\n",
    "        ts = datetime.datetime.now()\n",
    "        st = ts.strftime('%Y-%m-%d %H:%M:%S')\n",
    "        print(f'*** Training batch {i:3} *** {st}')\n",
    "        hist = fit_model(model=model_nn,\n",
    "                         model_name=model_name,\n",
    "                         folder=folder,\n",
    "                         ds=ds_trn, \n",
    "                         epochs=epochs_per_batch,\n",
    "                         save_freq=save_freq,\n",
    "                         prev_history = hist, \n",
    "                         batch_num=i)\n",
    "    \n",
    "    vartbl[hist_name] = hist\n",
    "    save_vartbl(vartbl, fname)"
   ]
  },
  {
   "cell_type": "code",
   "execution_count": null,
   "metadata": {},
   "outputs": [],
   "source": [
    "# Evaluate the trained model on the validation data\n",
    "model_nn.evaluate(ds_val)"
   ]
  },
  {
   "cell_type": "code",
   "execution_count": null,
   "metadata": {},
   "outputs": [],
   "source": [
    "# Plot the loss\n",
    "fig, ax = plot_loss_hist(hist=hist, model_name=model_name, key='q_loss', baseline=q_loss_baseline)"
   ]
  },
  {
   "cell_type": "markdown",
   "metadata": {},
   "source": [
    "### Train on Full Data Set with Perturbation Scale Factor = 32.0"
   ]
  },
  {
   "cell_type": "code",
   "execution_count": null,
   "metadata": {},
   "outputs": [],
   "source": [
    "# Build combined SEJ data sets with scale factor = 32\n",
    "scale_factor = 32.0\n",
    "\n",
    "# Data for this scale factor\n",
    "ds_trn, ds_val, ds_tst = \\\n",
    "    combine_datasets_sej(num_data_sets=num_data_sets, batch_size=batch_size, \n",
    "                         seed0=seed0, scale_factor=scale_factor)"
   ]
  },
  {
   "cell_type": "code",
   "execution_count": null,
   "metadata": {},
   "outputs": [],
   "source": [
    "# Update data by scale factor\n",
    "data_by_factor[scale_factor] = (ds_trn, ds_val, ds_tst)"
   ]
  },
  {
   "cell_type": "code",
   "execution_count": null,
   "metadata": {},
   "outputs": [],
   "source": [
    "# Compute covariance matrix of orbital elements\n",
    "cov = orb_elt_cov(ds_val)"
   ]
  },
  {
   "cell_type": "code",
   "execution_count": null,
   "metadata": {},
   "outputs": [],
   "source": [
    "# Display standard deviations of orbital elements\n",
    "sds = np.sqrt(np.diag(cov))\n",
    "for i, elt_name in enumerate(elt_names):\n",
    "    sd = sds[i]\n",
    "    print(f'SD of {elt_name:6} = {sd:8.6f}')"
   ]
  },
  {
   "cell_type": "code",
   "execution_count": null,
   "metadata": {},
   "outputs": [],
   "source": [
    "# Evaluate the NN model on the full validation data; save as baseline\n",
    "hist0, q_loss_baseline = baseline_loss(model_kj, ds_val)\n",
    "baseline_tbl[scale_factor] = q_loss_baseline"
   ]
  },
  {
   "cell_type": "code",
   "execution_count": null,
   "metadata": {},
   "outputs": [],
   "source": [
    "# Set up training - full data, scale factor = 2\n",
    "\n",
    "# Number of training epochs\n",
    "num_batches=1\n",
    "epochs_per_batch = 5\n",
    "\n",
    "# Integer scale factor\n",
    "sfi = int(scale_factor)\n",
    "\n",
    "# Name of this model including scale factor\n",
    "model_name = f'model_{model_code}_nn_{suffix}_sf_{sfi}'\n",
    "\n",
    "# H5 file with model weights\n",
    "model_h5 = f'../models/{folder}/{model_name}.h5'\n",
    "# Name of the loss history in vartbl\n",
    "hist_name = model_name.replace('model_', 'hist_')\n",
    "\n",
    "# Status\n",
    "print(f'Training for {num_batches} batches of {epochs_per_batch} epochs each.')\n",
    "print(f'model_name = {model_name}')\n",
    "print(f'model_h5 = {model_h5}')\n",
    "print(f'hist_name = {hist_name}')"
   ]
  },
  {
   "cell_type": "code",
   "execution_count": null,
   "metadata": {},
   "outputs": [],
   "source": [
    "# Attempt to load model or train on selected number of epochs\n",
    "try:\n",
    "    model_nn.load_weights(model_h5)\n",
    "    model_nn.compile(loss=loss, optimizer=optimizer, metrics=metrics, loss_weights=loss_weights)\n",
    "    hist = vartbl[hist_name]\n",
    "    print(f'Loaded {model_name} from {model_h5}.')\n",
    "except:\n",
    "    print(f'Unable to load {model_name} from {model_h5}. Fitting...')\n",
    "    hist = hist0\n",
    "    for i in range_inc(num_batches):\n",
    "        ts = datetime.datetime.now()\n",
    "        st = ts.strftime('%Y-%m-%d %H:%M:%S')\n",
    "        print(f'*** Training batch {i:3} *** {st}')\n",
    "        hist = fit_model(model=model_nn,\n",
    "                         model_name=model_name,\n",
    "                         folder=folder,\n",
    "                         ds=ds_trn, \n",
    "                         epochs=epochs_per_batch,\n",
    "                         save_freq=save_freq,\n",
    "                         prev_history = hist, \n",
    "                         batch_num=i)\n",
    "    \n",
    "    vartbl[hist_name] = hist\n",
    "    save_vartbl(vartbl, fname)"
   ]
  },
  {
   "cell_type": "code",
   "execution_count": null,
   "metadata": {},
   "outputs": [],
   "source": [
    "# Evaluate the trained model on the validation data\n",
    "model_nn.evaluate(ds_val)"
   ]
  },
  {
   "cell_type": "code",
   "execution_count": null,
   "metadata": {},
   "outputs": [],
   "source": [
    "# Plot the loss\n",
    "fig, ax = plot_loss_hist(hist=hist, model_name=model_name, key='q_loss', baseline=q_loss_baseline)"
   ]
  },
  {
   "cell_type": "markdown",
   "metadata": {},
   "source": [
    "### Train on Full Data Set with Perturbation Scale Factor = 64.0"
   ]
  },
  {
   "cell_type": "code",
   "execution_count": null,
   "metadata": {},
   "outputs": [],
   "source": []
  },
  {
   "cell_type": "code",
   "execution_count": null,
   "metadata": {},
   "outputs": [],
   "source": []
  },
  {
   "cell_type": "code",
   "execution_count": null,
   "metadata": {},
   "outputs": [],
   "source": []
  },
  {
   "cell_type": "code",
   "execution_count": null,
   "metadata": {},
   "outputs": [],
   "source": []
  },
  {
   "cell_type": "code",
   "execution_count": null,
   "metadata": {},
   "outputs": [],
   "source": []
  },
  {
   "cell_type": "code",
   "execution_count": null,
   "metadata": {},
   "outputs": [],
   "source": []
  },
  {
   "cell_type": "code",
   "execution_count": null,
   "metadata": {},
   "outputs": [],
   "source": []
  },
  {
   "cell_type": "code",
   "execution_count": null,
   "metadata": {},
   "outputs": [],
   "source": []
  },
  {
   "cell_type": "code",
   "execution_count": null,
   "metadata": {},
   "outputs": [],
   "source": []
  },
  {
   "cell_type": "code",
   "execution_count": null,
   "metadata": {},
   "outputs": [],
   "source": []
  },
  {
   "cell_type": "markdown",
   "metadata": {},
   "source": [
    "### Train on Full Data Set with Perturbation Scale Factor = 128.0"
   ]
  },
  {
   "cell_type": "code",
   "execution_count": null,
   "metadata": {},
   "outputs": [],
   "source": []
  },
  {
   "cell_type": "code",
   "execution_count": null,
   "metadata": {},
   "outputs": [],
   "source": []
  },
  {
   "cell_type": "code",
   "execution_count": null,
   "metadata": {},
   "outputs": [],
   "source": []
  },
  {
   "cell_type": "code",
   "execution_count": null,
   "metadata": {},
   "outputs": [],
   "source": []
  },
  {
   "cell_type": "code",
   "execution_count": null,
   "metadata": {},
   "outputs": [],
   "source": []
  },
  {
   "cell_type": "code",
   "execution_count": null,
   "metadata": {},
   "outputs": [],
   "source": []
  },
  {
   "cell_type": "code",
   "execution_count": null,
   "metadata": {},
   "outputs": [],
   "source": []
  },
  {
   "cell_type": "code",
   "execution_count": null,
   "metadata": {},
   "outputs": [],
   "source": []
  },
  {
   "cell_type": "code",
   "execution_count": null,
   "metadata": {},
   "outputs": [],
   "source": []
  },
  {
   "cell_type": "code",
   "execution_count": null,
   "metadata": {},
   "outputs": [],
   "source": []
  },
  {
   "cell_type": "markdown",
   "metadata": {},
   "source": [
    "### Train on Full Data Set with Perturbation Scale Factor = 256.0"
   ]
  },
  {
   "cell_type": "code",
   "execution_count": null,
   "metadata": {},
   "outputs": [],
   "source": []
  },
  {
   "cell_type": "code",
   "execution_count": null,
   "metadata": {},
   "outputs": [],
   "source": []
  },
  {
   "cell_type": "code",
   "execution_count": null,
   "metadata": {},
   "outputs": [],
   "source": []
  },
  {
   "cell_type": "code",
   "execution_count": null,
   "metadata": {},
   "outputs": [],
   "source": []
  },
  {
   "cell_type": "code",
   "execution_count": null,
   "metadata": {},
   "outputs": [],
   "source": []
  },
  {
   "cell_type": "code",
   "execution_count": null,
   "metadata": {},
   "outputs": [],
   "source": []
  },
  {
   "cell_type": "code",
   "execution_count": null,
   "metadata": {},
   "outputs": [],
   "source": []
  },
  {
   "cell_type": "code",
   "execution_count": null,
   "metadata": {},
   "outputs": [],
   "source": []
  },
  {
   "cell_type": "code",
   "execution_count": null,
   "metadata": {},
   "outputs": [],
   "source": []
  },
  {
   "cell_type": "code",
   "execution_count": null,
   "metadata": {},
   "outputs": [],
   "source": []
  },
  {
   "cell_type": "code",
   "execution_count": null,
   "metadata": {},
   "outputs": [],
   "source": []
  }
 ],
 "metadata": {
  "kernelspec": {
   "display_name": "Python [conda env:nbody]",
   "language": "python",
   "name": "conda-env-nbody-py"
  },
  "language_info": {
   "codemirror_mode": {
    "name": "ipython",
    "version": 3
   },
   "file_extension": ".py",
   "mimetype": "text/x-python",
   "name": "python",
   "nbconvert_exporter": "python",
   "pygments_lexer": "ipython3",
   "version": "3.7.3"
  }
 },
 "nbformat": 4,
 "nbformat_minor": 2
}
