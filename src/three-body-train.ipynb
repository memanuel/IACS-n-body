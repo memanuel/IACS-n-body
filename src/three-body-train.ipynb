{
 "cells": [
  {
   "cell_type": "markdown",
   "metadata": {},
   "source": [
    "# Three Body Problem: Neural Network Training\n",
    "\n",
    "A simple neural network is trained to learn approximate solutions to the three body problem.<br>\n",
    "Data is sampled from three body systems that are perturbed versions of the Sun-Earth-Jupiter system."
   ]
  },
  {
   "cell_type": "code",
   "execution_count": null,
   "metadata": {},
   "outputs": [],
   "source": [
    "# Library imports\n",
    "import tensorflow as tf\n",
    "import rebound\n",
    "import numpy as np\n",
    "import datetime\n",
    "import matplotlib.pyplot as plt\n",
    "\n",
    "# Aliases\n",
    "keras = tf.keras"
   ]
  },
  {
   "cell_type": "code",
   "execution_count": null,
   "metadata": {},
   "outputs": [],
   "source": [
    "# Local imports\n",
    "from utils import load_vartbl, save_vartbl, plot_style, range_inc\n",
    "from tf_utils import gpu_grow_memory, TimeHistory\n",
    "from tf_utils import plot_loss_hist, EpochLoss, TimeHistory\n",
    "from tf_utils import Identity\n",
    "\n",
    "from orbital_element import OrbitalElementToConfig, ConfigToOrbitalElement, MeanToTrueAnomaly, G_\n",
    "from orbital_element import make_model_elt_to_cfg, make_model_cfg_to_elt\n",
    "\n",
    "from jacobi import CartesianToJacobi, JacobiToCartesian\n",
    "\n",
    "from g3b_data import make_traj_elts, make_data_g3b, make_datasets_g3b, traj_to_batch\n",
    "from g3b_data import make_datasets_solar, make_datasets_hard\n",
    "from g3b_data import combine_datasets_g3b, combine_datasets_solar\n",
    "from sej_data import load_data_sej, make_datasets_sej, combine_datasets_sej\n",
    "from sej_data import orb_elt_cov\n",
    "\n",
    "from g3b_plot import plot_orbit_q, plot_orbit_v, plot_orbit_a, plot_orbit_energy, plot_orbit_element\n",
    "from g3b import KineticEnergy_G3B, PotentialEnergy_G3B, Momentum_G3B, AngularMomentum_G3B\n",
    "from g3b import VectorError, EnergyError\n",
    "from g3b import Motion_G3B, make_physics_model_g3b\n",
    "from g3b import fit_model\n",
    "from g3b_model_math import make_position_model_g3b_math, make_model_g3b_math\n",
    "from g3b_model_nn import make_position_model_g3b_nn, make_model_g3b_nn"
   ]
  },
  {
   "cell_type": "code",
   "execution_count": 3,
   "metadata": {},
   "outputs": [],
   "source": [
    "# Set active GPUs\n",
    "gpus = tf.config.experimental.list_physical_devices('GPU')\n",
    "tf.config.experimental.set_visible_devices(gpus[1:2], 'GPU')"
   ]
  },
  {
   "cell_type": "code",
   "execution_count": 4,
   "metadata": {},
   "outputs": [],
   "source": [
    "# Grow GPU memory (must be first operation in TF)\n",
    "# gpu_grow_memory()"
   ]
  },
  {
   "cell_type": "code",
   "execution_count": 5,
   "metadata": {},
   "outputs": [],
   "source": [
    "# Lightweight serialization\n",
    "# fname = '../data/g3b/g3b_train.pickle'\n",
    "fname = '../data/sej/sej_train.pickle'\n",
    "vartbl = load_vartbl(fname)"
   ]
  },
  {
   "cell_type": "code",
   "execution_count": 6,
   "metadata": {},
   "outputs": [],
   "source": [
    "# Set plot style\n",
    "plot_style()"
   ]
  },
  {
   "cell_type": "markdown",
   "metadata": {},
   "source": [
    "### Load Data for General Three Body Problem"
   ]
  },
  {
   "cell_type": "code",
   "execution_count": 7,
   "metadata": {},
   "outputs": [],
   "source": [
    "# Description of datasets to be loaded\n",
    "n_years = 100\n",
    "sample_freq = 10\n",
    "traj_size = n_years * sample_freq + 1"
   ]
  },
  {
   "cell_type": "code",
   "execution_count": 8,
   "metadata": {},
   "outputs": [],
   "source": [
    "# Configuration for loading data sets\n",
    "# num_data_sets = 50\n",
    "num_data_sets = 5\n",
    "batch_size = 256\n",
    "# num_gpus = 1\n",
    "# full_batch_size = num_gpus * batch_size\n",
    "\n",
    "# Set size of tiny data sets\n",
    "n_traj_tiny = batch_size\n",
    "\n",
    "# Set starting random seed\n",
    "seed0 = 42"
   ]
  },
  {
   "cell_type": "code",
   "execution_count": 9,
   "metadata": {},
   "outputs": [
    {
     "name": "stdout",
     "output_type": "stream",
     "text": [
      "Loaded data from ../data/g3b/1789961721.pickle.\n"
     ]
    },
    {
     "name": "stderr",
     "output_type": "stream",
     "text": [
      "WARNING: Logging before flag parsing goes to stderr.\n",
      "W0822 14:37:42.390573 140287593961280 deprecation.py:323] From /home/michael/anaconda3/envs/nbody/lib/python3.7/site-packages/tensorflow/python/data/util/random_seed.py:58: add_dispatch_support.<locals>.wrapper (from tensorflow.python.ops.array_ops) is deprecated and will be removed in a future version.\n",
      "Instructions for updating:\n",
      "Use tf.where in 2.0, which has the same broadcast rule as np.where\n"
     ]
    }
   ],
   "source": [
    "# Create a tiny data set with one batch of solar type orbits\n",
    "ds_tiny_solar, _ , _ = \\\n",
    "    make_datasets_solar(n_traj=n_traj_tiny, vt_split=0.0, \n",
    "                        n_years=n_years, sample_freq=sample_freq,\n",
    "                        batch_size=batch_size, seed=seed0)"
   ]
  },
  {
   "cell_type": "code",
   "execution_count": 10,
   "metadata": {},
   "outputs": [],
   "source": [
    "# Build combined solar data sets\n",
    "# ds_solar_trn, ds_solar_val, ds_solar_tst = \\\n",
    "#     combine_datasets_solar(num_data_sets=num_data_sets, batch_size=batch_size, seed0=seed0)"
   ]
  },
  {
   "cell_type": "markdown",
   "metadata": {},
   "source": [
    "### Load Data for Perturbed Sun-Earth-Jupiter System"
   ]
  },
  {
   "cell_type": "code",
   "execution_count": 11,
   "metadata": {},
   "outputs": [],
   "source": [
    "# Orbital perturbation scales\n",
    "scale_factor = 1.0\n",
    "sd_q = scale_factor * np.array([0.00, 0.01, 0.05])\n",
    "sd_v = sd_q"
   ]
  },
  {
   "cell_type": "code",
   "execution_count": 12,
   "metadata": {},
   "outputs": [
    {
     "name": "stdout",
     "output_type": "stream",
     "text": [
      "Loaded data from ../data/sej/1261268456.pickle.\n"
     ]
    }
   ],
   "source": [
    "# Create a tiny data set with one batch of perturbed SEJ orbits\n",
    "ds_tiny_sej, _ , _ = \\\n",
    "    make_datasets_sej(n_traj=n_traj_tiny, vt_split=0.0, n_years=n_years, sample_freq=sample_freq,\n",
    "                      sd_q=sd_q, sd_v=sd_v,\n",
    "                      batch_size=batch_size, seed=seed0,\n",
    "                      assemble_datasets=True)"
   ]
  },
  {
   "cell_type": "code",
   "execution_count": 13,
   "metadata": {},
   "outputs": [
    {
     "name": "stdout",
     "output_type": "stream",
     "text": [
      "Loaded data from ../data/sej/1521397475.pickle.\n"
     ]
    }
   ],
   "source": [
    "# Create a tiny data set with the unperturbed SEJ system\n",
    "ds_sej0, _, _ = \\\n",
    "    make_datasets_sej(n_traj=n_traj_tiny, vt_split=0.0, n_years=n_years, sample_freq=sample_freq,\n",
    "                      sd_q=0.0, sd_v=0.0,\n",
    "                      batch_size=batch_size, seed=0,\n",
    "                      assemble_datasets=True)"
   ]
  },
  {
   "cell_type": "code",
   "execution_count": 14,
   "metadata": {},
   "outputs": [],
   "source": [
    "# Table of data sets keyed by scale factor\n",
    "data_by_factor = dict()"
   ]
  },
  {
   "cell_type": "code",
   "execution_count": 60,
   "metadata": {},
   "outputs": [
    {
     "name": "stdout",
     "output_type": "stream",
     "text": [
      "Loaded data from ../data/sej/3977083274.pickle.\n"
     ]
    },
    {
     "data": {
      "application/vnd.jupyter.widget-view+json": {
       "model_id": "cbff4011dfca46638373591eed293389",
       "version_major": 2,
       "version_minor": 0
      },
      "text/plain": [
       "HBox(children=(IntProgress(value=0, max=4), HTML(value='')))"
      ]
     },
     "metadata": {},
     "output_type": "display_data"
    },
    {
     "name": "stdout",
     "output_type": "stream",
     "text": [
      "Loaded data from ../data/sej/2722950989.pickle.\n",
      "Loaded data from ../data/sej/400724224.pickle.\n",
      "Loaded data from ../data/sej/3353493630.pickle.\n",
      "Loaded data from ../data/sej/3130373179.pickle.\n",
      "\n"
     ]
    }
   ],
   "source": [
    "# Build combined SEJ data sets with base scale factor\n",
    "scale_factor = 1.0\n",
    "ds_trn, ds_val, ds_tst = \\\n",
    "    combine_datasets_sej(num_data_sets=num_data_sets, batch_size=batch_size, \n",
    "                         seed0=seed0, scale_factor=scale_factor)"
   ]
  },
  {
   "cell_type": "code",
   "execution_count": 61,
   "metadata": {},
   "outputs": [],
   "source": [
    "# Update data by scale factor\n",
    "data_by_factor[scale_factor] = (ds_trn, ds_val, ds_tst)"
   ]
  },
  {
   "cell_type": "markdown",
   "metadata": {},
   "source": [
    "***Choose Data Set for Analysis: Solar vs. SEJ***"
   ]
  },
  {
   "cell_type": "code",
   "execution_count": 62,
   "metadata": {},
   "outputs": [],
   "source": [
    "# Alias ds_trn, ds_val, ds_tst to selected source\n",
    "\n",
    "# The selected data type for this analysis\n",
    "data_type = 'SEJ'\n",
    "\n",
    "# # Tables mapping data type to tuple of data sets\n",
    "# data_by_type = {\n",
    "#     # 'solar': (ds_tiny_solar, ds_solar_trn, ds_solar_val, ds_solar_tst),\n",
    "#     'SEJ': (ds_tiny_sej, ds_sej_trn, ds_sej_val, ds_sej_tst)\n",
    "# }\n",
    "\n",
    "# # Perform the aliasing\n",
    "# ds_tiny, ds_trn, ds_val, ds_tst = data_by_type[data_type]\n",
    "\n",
    "ds_tiny = ds_tiny_sej"
   ]
  },
  {
   "cell_type": "markdown",
   "metadata": {},
   "source": [
    "### Create the Kepler-Jacobi Model as a Benchmark"
   ]
  },
  {
   "cell_type": "code",
   "execution_count": 18,
   "metadata": {},
   "outputs": [],
   "source": [
    "model_kj = make_model_g3b_math(traj_size=traj_size, batch_size=batch_size)"
   ]
  },
  {
   "cell_type": "code",
   "execution_count": 19,
   "metadata": {},
   "outputs": [],
   "source": [
    "optimizer = keras.optimizers.Adam(learning_rate=0.0)\n",
    "\n",
    "loss = {'q': VectorError(name='q_loss'),\n",
    "        'v': VectorError(name='v_loss'),\n",
    "        'a': VectorError(regularizer=1.0, name='a_loss'),\n",
    "        'q0_rec': VectorError(name='q0_loss'),\n",
    "        'v0_rec': VectorError(name='v0_loss'),\n",
    "        'H': EnergyError(name='H_loss'),\n",
    "        'P': VectorError(name='P_loss', regularizer=1.0E-6),\n",
    "        'L': VectorError(name='L_loss'),\n",
    "       }\n",
    "\n",
    "metrics = None\n",
    "\n",
    "loss_weights = {'q': 1.0,\n",
    "                'v': 1.0,\n",
    "                'a': 1.0,\n",
    "                'q0_rec': 1.0E4,\n",
    "                'v0_rec': 1.0E4,\n",
    "                'H': 1.0,\n",
    "                'P': 1.0,\n",
    "                'L': 1.0}"
   ]
  },
  {
   "cell_type": "code",
   "execution_count": 20,
   "metadata": {},
   "outputs": [],
   "source": [
    "# Compile the full mathematical model\n",
    "model_kj.compile(optimizer=optimizer, loss=loss, metrics=metrics, loss_weights=loss_weights)"
   ]
  },
  {
   "cell_type": "code",
   "execution_count": 21,
   "metadata": {},
   "outputs": [
    {
     "name": "stdout",
     "output_type": "stream",
     "text": [
      "\r",
      "1/1 [==============================] - 2s 2s/step - loss: 6.7071e-05 - q_loss: 1.9321e-05 - v_loss: 1.9308e-05 - a_loss: 2.8442e-05 - q0_rec_loss: 9.7934e-15 - v0_rec_loss: 2.0469e-14 - H_loss: 6.6203e-14 - P_loss: 3.6133e-14 - L_loss: 1.1413e-14\n"
     ]
    },
    {
     "data": {
      "text/plain": [
       "[6.707102875225246e-05,\n",
       " 1.9320656e-05,\n",
       " 1.9308249e-05,\n",
       " 2.844182e-05,\n",
       " 9.793443e-15,\n",
       " 2.0469324e-14,\n",
       " 6.620291e-14,\n",
       " 3.6132582e-14,\n",
       " 1.1412751e-14]"
      ]
     },
     "execution_count": 21,
     "metadata": {},
     "output_type": "execute_result"
    }
   ],
   "source": [
    "# Evaluate KJ model on unperturbed SEJ data set\n",
    "model_kj.evaluate(ds_sej0)"
   ]
  },
  {
   "cell_type": "code",
   "execution_count": 22,
   "metadata": {},
   "outputs": [
    {
     "name": "stdout",
     "output_type": "stream",
     "text": [
      "\r",
      "1/1 [==============================] - 0s 115ms/step - loss: 6.8487e-05 - q_loss: 1.9837e-05 - v_loss: 1.9812e-05 - a_loss: 2.8838e-05 - q0_rec_loss: 2.0671e-14 - v0_rec_loss: 1.9992e-14 - H_loss: 9.5866e-14 - P_loss: 3.8770e-14 - L_loss: 2.0161e-14\n"
     ]
    },
    {
     "data": {
      "text/plain": [
       "[6.848739576525986e-05,\n",
       " 1.9836736e-05,\n",
       " 1.9811845e-05,\n",
       " 2.883841e-05,\n",
       " 2.0670675e-14,\n",
       " 1.9992044e-14,\n",
       " 9.5865854e-14,\n",
       " 3.8770395e-14,\n",
       " 2.0161029e-14]"
      ]
     },
     "execution_count": 22,
     "metadata": {},
     "output_type": "execute_result"
    }
   ],
   "source": [
    "# Evaluate KJ model on tiny data set\n",
    "model_kj.evaluate(ds_tiny)"
   ]
  },
  {
   "cell_type": "code",
   "execution_count": 23,
   "metadata": {},
   "outputs": [
    {
     "name": "stdout",
     "output_type": "stream",
     "text": [
      "35/35 [==============================] - 5s 143ms/step - loss: 6.7929e-05 - q_loss: 1.9743e-05 - v_loss: 1.9718e-05 - a_loss: 2.8467e-05 - q0_rec_loss: 1.9459e-14 - v0_rec_loss: 1.8404e-14 - H_loss: 9.5034e-14 - P_loss: 3.8634e-14 - L_loss: 2.0124e-14\n"
     ]
    },
    {
     "data": {
      "text/plain": [
       "[6.79291194371347e-05,\n",
       " 1.9742967e-05,\n",
       " 1.9718367e-05,\n",
       " 2.8467404e-05,\n",
       " 1.9458574e-14,\n",
       " 1.8404181e-14,\n",
       " 9.5034074e-14,\n",
       " 3.8634403e-14,\n",
       " 2.0123895e-14]"
      ]
     },
     "execution_count": 23,
     "metadata": {},
     "output_type": "execute_result"
    }
   ],
   "source": [
    "# Evaluate KJ model on full validation data\n",
    "model_kj.evaluate(ds_val)"
   ]
  },
  {
   "cell_type": "markdown",
   "metadata": {},
   "source": [
    "### Train the Neural Network Model"
   ]
  },
  {
   "cell_type": "code",
   "execution_count": 63,
   "metadata": {},
   "outputs": [],
   "source": [
    "# Configuration for neural network model architecture\n",
    "# hidden_sizes = []\n",
    "hidden_sizes = [64, 16]\n",
    "skip_layers = True\n",
    "\n",
    "# Training configuration\n",
    "learning_rate = 1.0E-7\n",
    "kernel_reg = 1.0E-6\n",
    "activity_reg = 0.0"
   ]
  },
  {
   "cell_type": "code",
   "execution_count": 64,
   "metadata": {},
   "outputs": [],
   "source": [
    "# Build neural network model\n",
    "model_nn = make_model_g3b_nn(hidden_sizes=hidden_sizes, skip_layers=skip_layers, \n",
    "                             kernel_reg=kernel_reg, activity_reg=activity_reg,\n",
    "                             traj_size=traj_size, batch_size=batch_size)"
   ]
  },
  {
   "cell_type": "code",
   "execution_count": 65,
   "metadata": {},
   "outputs": [],
   "source": [
    "# model_nn.summary()"
   ]
  },
  {
   "cell_type": "code",
   "execution_count": 66,
   "metadata": {},
   "outputs": [],
   "source": [
    "optimizer = keras.optimizers.Adam(learning_rate=learning_rate)\n",
    "# optimizer = keras.optimizers.Adagrad(learning_rate=learning_rate)\n",
    "# optimizer = keras.optimizers.Adadelta()"
   ]
  },
  {
   "cell_type": "code",
   "execution_count": 67,
   "metadata": {},
   "outputs": [],
   "source": [
    "# Compile the NN model\n",
    "model_nn.compile(optimizer=optimizer, loss=loss, metrics=metrics, loss_weights=loss_weights)"
   ]
  },
  {
   "cell_type": "code",
   "execution_count": 68,
   "metadata": {},
   "outputs": [
    {
     "name": "stdout",
     "output_type": "stream",
     "text": [
      "\r",
      "1/1 [==============================] - 2s 2s/step - loss: 6.7071e-05 - q_loss: 1.9321e-05 - v_loss: 1.9308e-05 - a_loss: 2.8442e-05 - q0_rec_loss: 9.7934e-15 - v0_rec_loss: 2.0469e-14 - H_loss: 6.6203e-14 - P_loss: 3.6133e-14 - L_loss: 1.1413e-14\n"
     ]
    },
    {
     "data": {
      "text/plain": [
       "[6.707102875225246e-05,\n",
       " 1.9320656e-05,\n",
       " 1.9308249e-05,\n",
       " 2.844182e-05,\n",
       " 9.793443e-15,\n",
       " 2.0469324e-14,\n",
       " 6.620291e-14,\n",
       " 3.6132582e-14,\n",
       " 1.1412751e-14]"
      ]
     },
     "execution_count": 68,
     "metadata": {},
     "output_type": "execute_result"
    }
   ],
   "source": [
    "# Evaluate the NN model on the unperturbed orbit\n",
    "model_nn.evaluate(ds_sej0)"
   ]
  },
  {
   "cell_type": "code",
   "execution_count": 29,
   "metadata": {},
   "outputs": [],
   "source": [
    "# Evaluate the NN model on the tiny data set\n",
    "# model_nn.evaluate(ds_tiny)"
   ]
  },
  {
   "cell_type": "code",
   "execution_count": 30,
   "metadata": {},
   "outputs": [
    {
     "name": "stdout",
     "output_type": "stream",
     "text": [
      "35/35 [==============================] - 5s 136ms/step - loss: 6.7929e-05 - q_loss: 1.9743e-05 - v_loss: 1.9718e-05 - a_loss: 2.8467e-05 - q0_rec_loss: 1.9459e-14 - v0_rec_loss: 1.8404e-14 - H_loss: 9.5034e-14 - P_loss: 3.8634e-14 - L_loss: 2.0124e-14\n"
     ]
    },
    {
     "data": {
      "text/plain": [
       "[6.79291194371347e-05,\n",
       " 1.9742967e-05,\n",
       " 1.9718367e-05,\n",
       " 2.8467404e-05,\n",
       " 1.9458574e-14,\n",
       " 1.8404181e-14,\n",
       " 9.5034074e-14,\n",
       " 3.8634403e-14,\n",
       " 2.0123895e-14]"
      ]
     },
     "execution_count": 30,
     "metadata": {},
     "output_type": "execute_result"
    }
   ],
   "source": [
    "# Evaluate the NN model on the full validation data\n",
    "model_nn.evaluate(ds_val)"
   ]
  },
  {
   "cell_type": "code",
   "execution_count": 69,
   "metadata": {},
   "outputs": [],
   "source": [
    "# Compare this to math model - should be the same before training\n",
    "# model_math.evaluate(ds_val)\n",
    "\n",
    "# Hard coded baseline losses\n",
    "loss_baseline_list = \\\n",
    "[6.79291194371347e-05,\n",
    " 1.9742967e-05,\n",
    " 1.9718367e-05,\n",
    " 2.8467404e-05,\n",
    " 1.9458574e-14,\n",
    " 1.8404181e-14,\n",
    " 9.5034074e-14,\n",
    " 3.8634403e-14,\n",
    " 2.0123895e-14]\n",
    "\n",
    "# Baseline position loss\n",
    "q_loss_baseline = loss_baseline_list[1]\n",
    "\n",
    "# Table of baseline losses\n",
    "keys = ['loss', 'q_loss', 'v_loss', 'a_loss', 'q0_rec_loss', 'v0_rec_loss', 'H_loss', 'P_loss', 'L_loss']\n",
    "loss_baseline = {key: loss_baseline_list[i] for i, key in enumerate(keys)}\n",
    "# Set dummy batch_num and time\n",
    "loss_baseline['batch_num'] = 0\n",
    "loss_baseline['time'] = 0.0\n",
    "\n",
    "# Initialize history before training\n",
    "hist0 = {key: np.array([val], dtype=np.float32) for key, val in loss_baseline.items()}\n",
    "\n",
    "# Review baseline loss table\n",
    "# loss_baseline"
   ]
  },
  {
   "cell_type": "code",
   "execution_count": 70,
   "metadata": {},
   "outputs": [
    {
     "name": "stdout",
     "output_type": "stream",
     "text": [
      "model_nn.name = model_sej_nn_64_16\n",
      "model_h5 = ../models/sej/model_sej_nn_64_16.h5\n",
      "hist_name = hist_sej_nn_64_16\n"
     ]
    }
   ],
   "source": [
    "# Set up training\n",
    "\n",
    "# Suffix to the model name reflects layer sizes\n",
    "suffix = '_'.join(str(sz) for sz in hidden_sizes)\n",
    "\n",
    "# The model code is g3b or sej based on type of data\n",
    "if data_type == 'solar':   \n",
    "    model_code = 'g3b'\n",
    "elif data_type == 'SEJ':\n",
    "    model_code = 'sej'\n",
    "# The folder is the same as the model code\n",
    "folder = model_code\n",
    "model_name = f'model_{model_code}_nn_{suffix}'\n",
    "\n",
    "# Apply new model name to model_nn instance\n",
    "model_nn._name = model_name\n",
    "# H5 file with model weights\n",
    "model_h5 = f'../models/{folder}/{model_name}.h5'\n",
    "hist_name = model_name.replace('model_', 'hist_')\n",
    "epochs = 1\n",
    "save_freq = 'epoch'\n",
    "\n",
    "# Status\n",
    "print(f'model_nn.name = {model_nn.name}')\n",
    "print(f'model_h5 = {model_h5}')\n",
    "print(f'hist_name = {hist_name}')"
   ]
  },
  {
   "cell_type": "markdown",
   "metadata": {},
   "source": [
    "### Train on Unperturbed Model (ds_sej0)"
   ]
  },
  {
   "cell_type": "code",
   "execution_count": null,
   "metadata": {},
   "outputs": [],
   "source": [
    "model_nn.evaluate(ds_sej0)"
   ]
  },
  {
   "cell_type": "code",
   "execution_count": 72,
   "metadata": {},
   "outputs": [
    {
     "name": "stdout",
     "output_type": "stream",
     "text": [
      "Loaded model_sej_nn_64_16 from ../models/sej/model_sej_nn_64_16.h5.\n"
     ]
    }
   ],
   "source": [
    "try:\n",
    "    model_nn.load_weights(model_h5)\n",
    "    model_nn.compile(loss=loss, optimizer=optimizer, metrics=metrics, loss_weights=loss_weights)\n",
    "    hist = vartbl[hist_name]\n",
    "    print(f'Loaded {model_name} from {model_h5}.')\n",
    "except:\n",
    "    for i in range(5):\n",
    "        ts = datetime.datetime.now()\n",
    "        st = ts.strftime('%Y-%m-%d %H:%M:%S')\n",
    "        print(f'*** Training loop {i:3} *** - {st}')\n",
    "        hist = fit_model(model=model_nn,\n",
    "                         folder=folder,\n",
    "                         ds=ds_sej0, \n",
    "                         epochs=10,\n",
    "                         save_freq=save_freq,\n",
    "                         prev_history = hist0, \n",
    "                         batch_num=i)\n",
    "    vartbl[hist_name] = hist\n",
    "    save_vartbl(vartbl, fname)"
   ]
  },
  {
   "cell_type": "code",
   "execution_count": 73,
   "metadata": {},
   "outputs": [
    {
     "name": "stdout",
     "output_type": "stream",
     "text": [
      "\r",
      "1/1 [==============================] - 2s 2s/step - loss: 1.0659e-06 - q_loss: 1.0573e-07 - v_loss: 1.0272e-07 - a_loss: 8.5428e-07 - q0_rec_loss: 9.7934e-15 - v0_rec_loss: 2.0469e-14 - H_loss: 7.7287e-12 - P_loss: 3.8356e-14 - L_loss: 2.0965e-09\n"
     ]
    },
    {
     "data": {
      "text/plain": [
       "[1.0658612836778047e-06,\n",
       " 1.0572905e-07,\n",
       " 1.02718765e-07,\n",
       " 8.542795e-07,\n",
       " 9.793443e-15,\n",
       " 2.0469324e-14,\n",
       " 7.7287335e-12,\n",
       " 3.8356383e-14,\n",
       " 2.0964548e-09]"
      ]
     },
     "execution_count": 73,
     "metadata": {},
     "output_type": "execute_result"
    }
   ],
   "source": [
    "model_nn.evaluate(ds_sej0)"
   ]
  },
  {
   "cell_type": "code",
   "execution_count": 75,
   "metadata": {},
   "outputs": [],
   "source": [
    "# Plot the loss\n",
    "# fig, ax = plot_loss_hist(hist=hist, model_name=model_nn.name, key='q_loss', baseline=q_loss_baseline)"
   ]
  },
  {
   "cell_type": "markdown",
   "metadata": {},
   "source": [
    "### Train on Tiny Data Set"
   ]
  },
  {
   "cell_type": "code",
   "execution_count": 76,
   "metadata": {},
   "outputs": [
    {
     "name": "stdout",
     "output_type": "stream",
     "text": [
      "Loaded model_sej_nn_64_16 from ../models/sej/model_sej_nn_64_16.h5.\n"
     ]
    }
   ],
   "source": [
    "try:\n",
    "    model_nn.load_weights(model_h5)\n",
    "    model_nn.compile(loss=loss, optimizer=optimizer, metrics=metrics, loss_weights=loss_weights)\n",
    "    hist = vartbl[hist_name]\n",
    "    print(f'Loaded {model_name} from {model_h5}.')\n",
    "except:\n",
    "    for i in range(5):\n",
    "        ts = datetime.datetime.now()\n",
    "        st = ts.strftime('%Y-%m-%d %H:%M:%S')\n",
    "        print(f'*** Training loop {i:3} *** - {st}')\n",
    "        hist = fit_model(model=model_nn,\n",
    "                         folder=folder,\n",
    "                         ds=ds_tiny, \n",
    "                         epochs=10,\n",
    "                         save_freq=save_freq,\n",
    "                         prev_history = hist, \n",
    "                         batch_num=i)\n",
    "    vartbl[hist_name] = hist\n",
    "    save_vartbl(vartbl, fname)"
   ]
  },
  {
   "cell_type": "code",
   "execution_count": 77,
   "metadata": {},
   "outputs": [
    {
     "name": "stdout",
     "output_type": "stream",
     "text": [
      "\r",
      "1/1 [==============================] - 2s 2s/step - loss: 1.3124e-06 - q_loss: 1.2219e-07 - v_loss: 1.1519e-07 - a_loss: 1.0720e-06 - q0_rec_loss: 2.0671e-14 - v0_rec_loss: 1.9992e-14 - H_loss: 4.3381e-12 - P_loss: 3.9435e-14 - L_loss: 1.8543e-09\n"
     ]
    },
    {
     "data": {
      "text/plain": [
       "[1.3123958524374757e-06,\n",
       " 1.2219174e-07,\n",
       " 1.15188186e-07,\n",
       " 1.0720236e-06,\n",
       " 2.0670675e-14,\n",
       " 1.9992044e-14,\n",
       " 4.3380638e-12,\n",
       " 3.9434608e-14,\n",
       " 1.8543136e-09]"
      ]
     },
     "execution_count": 77,
     "metadata": {},
     "output_type": "execute_result"
    }
   ],
   "source": [
    "model_nn.evaluate(ds_tiny)"
   ]
  },
  {
   "cell_type": "code",
   "execution_count": 78,
   "metadata": {},
   "outputs": [],
   "source": [
    "# Plot the loss\n",
    "# fig, ax = plot_loss_hist(hist=hist, model_name=model_nn.name, key='q_loss', baseline=q_loss_baseline)"
   ]
  },
  {
   "cell_type": "markdown",
   "metadata": {},
   "source": [
    "### Train on Full Data Set with Perturbation Scale Factor = 1.0"
   ]
  },
  {
   "cell_type": "code",
   "execution_count": 85,
   "metadata": {},
   "outputs": [
    {
     "name": "stdout",
     "output_type": "stream",
     "text": [
      "model_name = model_sej_nn_64_16\n",
      "model_h5 = ../models/sej/model_sej_nn_64_16_sf_1.h5\n",
      "hist_name = hist_sej_nn_64_16_sf_1\n"
     ]
    }
   ],
   "source": [
    "# Scale factor\n",
    "scale_factor = 1.0\n",
    "\n",
    "# Data for this scale factor\n",
    "ds_trn, ds_val, ds_tst = data_by_factor[scale_factor]\n",
    "\n",
    "# Number of epochs to train\n",
    "num_batches = 2\n",
    "epochs=1\n",
    "\n",
    "# Integer scale factor\n",
    "sfi = int(scale_factor)\n",
    "\n",
    "# H5 file with model weights for this scale factor\n",
    "model_h5 = f'../models/{folder}/{model_name}_sf_{sfi}.h5'\n",
    "\n",
    "# Name of the history\n",
    "hist_name = f'hist_{model_code}_nn_{suffix}_sf_{sfi}'\n",
    "\n",
    "save_freq = 'epoch'\n",
    "\n",
    "# Status\n",
    "# print(f'model_nn.name = {model_nn.name}')\n",
    "print(f'model_name = {model_name}')\n",
    "print(f'model_h5 = {model_h5}')\n",
    "print(f'hist_name = {hist_name}')"
   ]
  },
  {
   "cell_type": "code",
   "execution_count": 86,
   "metadata": {},
   "outputs": [
    {
     "name": "stdout",
     "output_type": "stream",
     "text": [
      "Unable to load model_sej_nn_64_16 from ../models/sej/model_sej_nn_64_16_sf_1.h5. Fitting...\n",
      "*** Training loop   1 *** - 2019-08-22 15:14:25\n",
      "194/195 [============================>.] - ETA: 0s - loss: 1.1721e-06 - q_loss: 1.5132e-07 - v_loss: 1.4465e-07 - a_loss: 8.7501e-07 - q0_rec_loss: 1.9386e-14 - v0_rec_loss: 1.8410e-14 - H_loss: 2.0322e-13 - P_loss: 3.9272e-14 - L_loss: 6.4812e-11\n",
      "Epoch 0001; loss 1.17e-06; elapsed 0:00:55\n",
      "195/195 [==============================] - 47s 240ms/step - loss: 1.1728e-06 - q_loss: 1.5141e-07 - v_loss: 1.4474e-07 - a_loss: 8.7548e-07 - q0_rec_loss: 1.9384e-14 - v0_rec_loss: 1.8411e-14 - H_loss: 2.0271e-13 - P_loss: 3.9271e-14 - L_loss: 6.4479e-11\n",
      "*** Training loop   2 *** - 2019-08-22 15:15:21\n",
      "194/195 [============================>.] - ETA: 0s - loss: 1.1721e-06 - q_loss: 1.5131e-07 - v_loss: 1.4463e-07 - a_loss: 8.7507e-07 - q0_rec_loss: 1.9386e-14 - v0_rec_loss: 1.8410e-14 - H_loss: 1.0510e-13 - P_loss: 3.9271e-14 - L_loss: 3.3485e-14\n",
      "Epoch 0001; loss 1.17e-06; elapsed 0:00:48\n",
      "195/195 [==============================] - 40s 203ms/step - loss: 1.1727e-06 - q_loss: 1.5132e-07 - v_loss: 1.4464e-07 - a_loss: 8.7568e-07 - q0_rec_loss: 1.9384e-14 - v0_rec_loss: 1.8411e-14 - H_loss: 1.0509e-13 - P_loss: 3.9271e-14 - L_loss: 3.3479e-14\n"
     ]
    }
   ],
   "source": [
    "# Attempt to load model or train on selected number of epochs\n",
    "try:\n",
    "    model_nn.load_weights(model_h5)\n",
    "    model_nn.compile(loss=loss, optimizer=optimizer, metrics=metrics, loss_weights=loss_weights)\n",
    "    hist = vartbl[hist_name]\n",
    "    print(f'Loaded {model_name} from {model_h5}.')\n",
    "except:\n",
    "    print(f'Unable to load {model_name} from {model_h5}. Fitting...')\n",
    "    hist = hist0\n",
    "    for i in range_inc(num_batches):\n",
    "        ts = datetime.datetime.now()\n",
    "        st = ts.strftime('%Y-%m-%d %H:%M:%S')\n",
    "        print(f'*** Training loop {i:3} *** - {st}')\n",
    "        hist = fit_model(model=model_nn,\n",
    "                         folder=folder,\n",
    "                         ds=ds_trn, \n",
    "                         epochs=epochs,\n",
    "                         save_freq=save_freq,\n",
    "                         prev_history = hist, \n",
    "                         batch_num=i)\n",
    "    \n",
    "    vartbl[hist_name] = hist\n",
    "    save_vartbl(vartbl, fname)"
   ]
  },
  {
   "cell_type": "code",
   "execution_count": 87,
   "metadata": {},
   "outputs": [
    {
     "data": {
      "image/png": "[encoded data removed]",
      "text/plain": [
       "<Figure size 1152x648 with 1 Axes>"
      ]
     },
     "metadata": {
      "needs_background": "light"
     },
     "output_type": "display_data"
    }
   ],
   "source": [
    "# Plot the loss\n",
    "fig, ax = plot_loss_hist(hist=hist, model_name=model_name, key='q_loss', baseline=q_loss_baseline)"
   ]
  },
  {
   "cell_type": "code",
   "execution_count": 37,
   "metadata": {},
   "outputs": [],
   "source": [
    "# Plot the total loss\n",
    "# fig, ax = plot_loss_hist(hist=hist, model_name=model_nn.name, key='loss')"
   ]
  },
  {
   "cell_type": "code",
   "execution_count": 38,
   "metadata": {},
   "outputs": [],
   "source": [
    "# Evaluate the trained model on the training data\n",
    "# model_nn.evaluate(ds_trn)"
   ]
  },
  {
   "cell_type": "code",
   "execution_count": 88,
   "metadata": {},
   "outputs": [
    {
     "name": "stdout",
     "output_type": "stream",
     "text": [
      "35/35 [==============================] - 7s 203ms/step - loss: 1.1553e-06 - q_loss: 1.4201e-07 - v_loss: 1.3520e-07 - a_loss: 8.7699e-07 - q0_rec_loss: 1.9459e-14 - v0_rec_loss: 1.8404e-14 - H_loss: 1.0454e-13 - P_loss: 3.9267e-14 - L_loss: 3.2125e-14\n"
     ]
    },
    {
     "data": {
      "text/plain": [
       "[1.1553001221337971e-06,\n",
       " 1.4201174e-07,\n",
       " 1.3519517e-07,\n",
       " 8.7698623e-07,\n",
       " 1.9458574e-14,\n",
       " 1.8404181e-14,\n",
       " 1.0454285e-13,\n",
       " 3.926709e-14,\n",
       " 3.2125256e-14]"
      ]
     },
     "execution_count": 88,
     "metadata": {},
     "output_type": "execute_result"
    }
   ],
   "source": [
    "# Evaluate the trained model on the validation data\n",
    "model_nn.evaluate(ds_val)"
   ]
  },
  {
   "cell_type": "code",
   "execution_count": 40,
   "metadata": {},
   "outputs": [],
   "source": [
    "# Evaluate the trained model on the test data\n",
    "# model_nn.evaluate(ds_tst)"
   ]
  },
  {
   "cell_type": "code",
   "execution_count": 41,
   "metadata": {},
   "outputs": [],
   "source": [
    "# hist['q_loss']"
   ]
  },
  {
   "cell_type": "markdown",
   "metadata": {},
   "source": [
    "### Describe Covariance of Dataset Orbital Elements"
   ]
  },
  {
   "cell_type": "code",
   "execution_count": 42,
   "metadata": {},
   "outputs": [],
   "source": [
    "# Compute covariance matrix of orbital elements\n",
    "cov = orb_elt_cov(ds_val)"
   ]
  },
  {
   "cell_type": "code",
   "execution_count": 43,
   "metadata": {},
   "outputs": [],
   "source": [
    "# List of orbital elements in the cov matrix\n",
    "elt_names = ['a1', 'a2', 'e1', 'e2', 'inc1', 'inc2', 'Omega1', 'Omega2', 'omega1', 'omega2', 'f1', 'f2']\n",
    "# limit to the interesting ones\n",
    "elt_names = elt_names[0:6]"
   ]
  },
  {
   "cell_type": "code",
   "execution_count": 44,
   "metadata": {},
   "outputs": [
    {
     "name": "stdout",
     "output_type": "stream",
     "text": [
      "SD of a1     = 0.021019\n",
      "SD of a2     = 0.228333\n",
      "SD of e1     = 0.009339\n",
      "SD of e2     = 0.030154\n",
      "SD of inc1   = 0.005925\n",
      "SD of inc2   = 0.011256\n"
     ]
    }
   ],
   "source": [
    "# Display standard deviations of orbital elements\n",
    "sds = np.sqrt(np.diag(cov))\n",
    "for i, elt_name in enumerate(elt_names):\n",
    "    sd = sds[i]\n",
    "    print(f'SD of {elt_name:6} = {sd:8.6f}')"
   ]
  },
  {
   "cell_type": "markdown",
   "metadata": {},
   "source": [
    "### Train on Full Data Set with Perturbation Scale Factor = 2.0"
   ]
  },
  {
   "cell_type": "code",
   "execution_count": 89,
   "metadata": {},
   "outputs": [
    {
     "name": "stdout",
     "output_type": "stream",
     "text": [
      "Loaded data from ../data/sej/3461170694.pickle.\n"
     ]
    },
    {
     "data": {
      "application/vnd.jupyter.widget-view+json": {
       "model_id": "7052201a90d04c978b02d85c5da91320",
       "version_major": 2,
       "version_minor": 0
      },
      "text/plain": [
       "HBox(children=(IntProgress(value=0, max=4), HTML(value='')))"
      ]
     },
     "metadata": {},
     "output_type": "display_data"
    },
    {
     "name": "stdout",
     "output_type": "stream",
     "text": [
      "Loaded data from ../data/sej/2165100737.pickle.\n",
      "Loaded data from ../data/sej/883076748.pickle.\n",
      "Loaded data from ../data/sej/3835854834.pickle.\n",
      "Loaded data from ../data/sej/2580908983.pickle.\n",
      "\n"
     ]
    }
   ],
   "source": [
    "# Build combined SEJ data sets with scale factor = 2\n",
    "scale_factor = 2.0\n",
    "ds_trn, ds_val, ds_tst = \\\n",
    "    combine_datasets_sej(num_data_sets=num_data_sets, batch_size=batch_size, \n",
    "                         seed0=seed0, scale_factor=scale_factor)"
   ]
  },
  {
   "cell_type": "code",
   "execution_count": 90,
   "metadata": {},
   "outputs": [],
   "source": [
    "# Update data by scale factor\n",
    "data_by_factor[scale_factor] = (ds_trn, ds_val, ds_tst)"
   ]
  },
  {
   "cell_type": "code",
   "execution_count": 91,
   "metadata": {},
   "outputs": [],
   "source": [
    "# Compute covariance matrix of orbital elements\n",
    "cov = orb_elt_cov(ds_val)"
   ]
  },
  {
   "cell_type": "code",
   "execution_count": 92,
   "metadata": {},
   "outputs": [
    {
     "name": "stdout",
     "output_type": "stream",
     "text": [
      "SD of a1     = 0.042134\n",
      "SD of a2     = 0.472072\n",
      "SD of e1     = 0.015736\n",
      "SD of e2     = 0.050770\n",
      "SD of inc1   = 0.011849\n",
      "SD of inc2   = 0.020815\n"
     ]
    }
   ],
   "source": [
    "# Display standard deviations of orbital elements\n",
    "sds = np.sqrt(np.diag(cov))\n",
    "for i, elt_name in enumerate(elt_names):\n",
    "    sd = sds[i]\n",
    "    print(f'SD of {elt_name:6} = {sd:8.6f}')"
   ]
  },
  {
   "cell_type": "code",
   "execution_count": 93,
   "metadata": {},
   "outputs": [
    {
     "name": "stdout",
     "output_type": "stream",
     "text": [
      "model_name = model_sej_nn_64_16\n",
      "model_h5 = ../models/sej/model_sej_nn_64_16_sf_2.h5\n",
      "hist_name = hist_sej_nn_64_16_sf_2\n"
     ]
    }
   ],
   "source": [
    "# Data for this scale factor\n",
    "ds_trn, ds_val, ds_tst = data_by_factor[scale_factor]\n",
    "\n",
    "# Number of epochs to train\n",
    "num_batches = 5\n",
    "epochs=1\n",
    "\n",
    "# Integer scale factor\n",
    "sfi = int(scale_factor)\n",
    "\n",
    "# H5 file with model weights for this scale factor\n",
    "model_h5 = f'../models/{folder}/{model_name}_sf_{sfi}.h5'\n",
    "\n",
    "# Name of the history\n",
    "hist_name = f'hist_{model_code}_nn_{suffix}_sf_{sfi}'\n",
    "\n",
    "save_freq = 'epoch'\n",
    "\n",
    "# Status\n",
    "# print(f'model_nn.name = {model_nn.name}')\n",
    "print(f'model_name = {model_name}')\n",
    "print(f'model_h5 = {model_h5}')\n",
    "print(f'hist_name = {hist_name}')"
   ]
  },
  {
   "cell_type": "code",
   "execution_count": 94,
   "metadata": {},
   "outputs": [
    {
     "name": "stdout",
     "output_type": "stream",
     "text": [
      "Unable to load model_sej_nn_64_16 from ../models/sej/model_sej_nn_64_16_sf_2.h5. Fitting...\n",
      "*** Training loop   1 *** - 2019-08-22 15:21:58\n",
      "194/195 [============================>.] - ETA: 0s - loss: 1.2957e-06 - q_loss: 2.4318e-07 - v_loss: 2.2324e-07 - a_loss: 8.2812e-07 - q0_rec_loss: 2.2892e-14 - v0_rec_loss: 2.2396e-14 - H_loss: 1.1491e-13 - P_loss: 3.8723e-14 - L_loss: 5.1462e-14\n",
      "Epoch 0001; loss 1.30e-06; elapsed 0:00:51\n",
      "195/195 [==============================] - 41s 212ms/step - loss: 1.2957e-06 - q_loss: 2.4346e-07 - v_loss: 2.2351e-07 - a_loss: 8.2755e-07 - q0_rec_loss: 2.2880e-14 - v0_rec_loss: 2.2382e-14 - H_loss: 1.1496e-13 - P_loss: 3.8724e-14 - L_loss: 5.1503e-14\n",
      "*** Training loop   2 *** - 2019-08-22 15:22:49\n",
      "194/195 [============================>.] - ETA: 0s - loss: 1.2874e-06 - q_loss: 2.3962e-07 - v_loss: 2.2010e-07 - a_loss: 8.2644e-07 - q0_rec_loss: 2.2892e-14 - v0_rec_loss: 2.2396e-14 - H_loss: 1.1981e-13 - P_loss: 3.8729e-14 - L_loss: 4.7274e-14\n",
      "Epoch 0001; loss 1.29e-06; elapsed 0:00:49\n",
      "195/195 [==============================] - 40s 203ms/step - loss: 1.2874e-06 - q_loss: 2.3997e-07 - v_loss: 2.2044e-07 - a_loss: 8.2581e-07 - q0_rec_loss: 2.2880e-14 - v0_rec_loss: 2.2382e-14 - H_loss: 1.1979e-13 - P_loss: 3.8729e-14 - L_loss: 4.7319e-14\n",
      "*** Training loop   3 *** - 2019-08-22 15:23:38\n",
      "194/195 [============================>.] - ETA: 0s - loss: 1.2853e-06 - q_loss: 2.3822e-07 - v_loss: 2.1875e-07 - a_loss: 8.2714e-07 - q0_rec_loss: 2.2892e-14 - v0_rec_loss: 2.2396e-14 - H_loss: 6.3268e-13 - P_loss: 3.8728e-14 - L_loss: 7.8035e-14\n",
      "Epoch 0001; loss 1.29e-06; elapsed 0:00:49\n",
      "195/195 [==============================] - 39s 202ms/step - loss: 1.2853e-06 - q_loss: 2.3839e-07 - v_loss: 2.1892e-07 - a_loss: 8.2671e-07 - q0_rec_loss: 2.2880e-14 - v0_rec_loss: 2.2382e-14 - H_loss: 6.3064e-13 - P_loss: 3.8729e-14 - L_loss: 7.8011e-14\n",
      "*** Training loop   4 *** - 2019-08-22 15:24:27\n",
      "194/195 [============================>.] - ETA: 0s - loss: 1.2820e-06 - q_loss: 2.3683e-07 - v_loss: 2.1753e-07 - a_loss: 8.2642e-07 - q0_rec_loss: 2.2892e-14 - v0_rec_loss: 2.2396e-14 - H_loss: 9.9364e-13 - P_loss: 3.8729e-14 - L_loss: 1.5925e-13\n",
      "Epoch 0001; loss 1.28e-06; elapsed 0:00:50\n",
      "195/195 [==============================] - 40s 207ms/step - loss: 1.2820e-06 - q_loss: 2.3702e-07 - v_loss: 2.1772e-07 - a_loss: 8.2597e-07 - q0_rec_loss: 2.2880e-14 - v0_rec_loss: 2.2382e-14 - H_loss: 9.8921e-13 - P_loss: 3.8730e-14 - L_loss: 1.5867e-13\n",
      "*** Training loop   5 *** - 2019-08-22 15:25:17\n",
      "194/195 [============================>.] - ETA: 0s - loss: 1.2823e-06 - q_loss: 2.3650e-07 - v_loss: 2.1746e-07 - a_loss: 8.2656e-07 - q0_rec_loss: 2.2892e-14 - v0_rec_loss: 2.2396e-14 - H_loss: 2.6801e-11 - P_loss: 3.8721e-14 - L_loss: 5.1190e-10\n",
      "Epoch 0001; loss 1.28e-06; elapsed 0:00:49\n",
      "195/195 [==============================] - 39s 202ms/step - loss: 1.2822e-06 - q_loss: 2.3653e-07 - v_loss: 2.1747e-07 - a_loss: 8.2641e-07 - q0_rec_loss: 2.2880e-14 - v0_rec_loss: 2.2382e-14 - H_loss: 2.6704e-11 - P_loss: 3.8722e-14 - L_loss: 5.0937e-10\n"
     ]
    }
   ],
   "source": [
    "# Attempt to load model or train on selected number of epochs\n",
    "try:\n",
    "    model_nn.load_weights(model_h5)\n",
    "    model_nn.compile(loss=loss, optimizer=optimizer, metrics=metrics, loss_weights=loss_weights)\n",
    "    hist = vartbl[hist_name]\n",
    "    print(f'Loaded {model_name} from {model_h5}.')\n",
    "except:\n",
    "    print(f'Unable to load {model_name} from {model_h5}. Fitting...')\n",
    "    for i in range_inc(num_batches):\n",
    "        ts = datetime.datetime.now()\n",
    "        st = ts.strftime('%Y-%m-%d %H:%M:%S')\n",
    "        print(f'*** Training loop {i:3} *** - {st}')\n",
    "        hist = hist0\n",
    "        hist = fit_model(model=model_nn,\n",
    "                         folder=folder,\n",
    "                         ds=ds_trn, \n",
    "                         epochs=epochs,\n",
    "                         save_freq=save_freq,\n",
    "                         prev_history = hist, \n",
    "                         batch_num=i)    \n",
    "    vartbl[hist_name] = hist\n",
    "    save_vartbl(vartbl, fname)"
   ]
  },
  {
   "cell_type": "code",
   "execution_count": 95,
   "metadata": {},
   "outputs": [
    {
     "name": "stdout",
     "output_type": "stream",
     "text": [
      "35/35 [==============================] - 4s 128ms/step - loss: 1.3257e-06 - q_loss: 1.8601e-07 - v_loss: 1.6480e-07 - a_loss: 9.7363e-07 - q0_rec_loss: 2.2697e-14 - v0_rec_loss: 2.2183e-14 - H_loss: 9.8126e-12 - P_loss: 3.8719e-14 - L_loss: 3.5624e-11\n"
     ]
    },
    {
     "data": {
      "text/plain": [
       "[1.325742781383659e-06,\n",
       " 1.8601482e-07,\n",
       " 1.64801e-07,\n",
       " 9.736275e-07,\n",
       " 2.269701e-14,\n",
       " 2.2183288e-14,\n",
       " 9.812567e-12,\n",
       " 3.8718872e-14,\n",
       " 3.5624486e-11]"
      ]
     },
     "execution_count": 95,
     "metadata": {},
     "output_type": "execute_result"
    }
   ],
   "source": [
    "# Evaluate the trained model on the validation data\n",
    "model_nn.evaluate(ds_val)"
   ]
  },
  {
   "cell_type": "code",
   "execution_count": 96,
   "metadata": {},
   "outputs": [
    {
     "data": {
      "image/png": "[encoded data removed]",
      "text/plain": [
       "<Figure size 1152x648 with 1 Axes>"
      ]
     },
     "metadata": {
      "needs_background": "light"
     },
     "output_type": "display_data"
    }
   ],
   "source": [
    "# Plot the loss\n",
    "fig, ax = plot_loss_hist(hist=hist, model_name=model_name, key='q_loss', baseline=q_loss_baseline)"
   ]
  },
  {
   "cell_type": "markdown",
   "metadata": {},
   "source": [
    "### Train on Full Data Set with Perturbation Scale Factor = 4.0"
   ]
  },
  {
   "cell_type": "code",
   "execution_count": 98,
   "metadata": {},
   "outputs": [
    {
     "name": "stdout",
     "output_type": "stream",
     "text": [
      "Loaded data from ../data/sej/109948493.pickle.\n"
     ]
    },
    {
     "data": {
      "application/vnd.jupyter.widget-view+json": {
       "model_id": "c5d8b71ad9b341dab7dfba39b7718b02",
       "version_major": 2,
       "version_minor": 0
      },
      "text/plain": [
       "HBox(children=(IntProgress(value=0, max=4), HTML(value='')))"
      ]
     },
     "metadata": {},
     "output_type": "display_data"
    },
    {
     "name": "stdout",
     "output_type": "stream",
     "text": [
      "Loaded data from ../data/sej/1238120586.pickle.\n",
      "Loaded data from ../data/sej/4234299079.pickle.\n",
      "Loaded data from ../data/sej/744658873.pickle.\n",
      "Loaded data from ../data/sej/1360356348.pickle.\n",
      "\n"
     ]
    }
   ],
   "source": [
    "# Build combined SEJ data sets with scale factor = 4\n",
    "scale_factor = 4.0\n",
    "ds_trn, ds_val, ds_tst = \\\n",
    "    combine_datasets_sej(num_data_sets=num_data_sets, batch_size=batch_size, \n",
    "                         seed0=seed0, scale_factor=scale_factor)"
   ]
  },
  {
   "cell_type": "code",
   "execution_count": 99,
   "metadata": {},
   "outputs": [],
   "source": [
    "# Update data by scale factor\n",
    "data_by_factor[scale_factor] = (ds_trn, ds_val, ds_tst)"
   ]
  },
  {
   "cell_type": "code",
   "execution_count": 100,
   "metadata": {},
   "outputs": [],
   "source": [
    "# Compute covariance matrix of orbital elements\n",
    "cov = orb_elt_cov(ds_val)"
   ]
  },
  {
   "cell_type": "code",
   "execution_count": 101,
   "metadata": {},
   "outputs": [
    {
     "name": "stdout",
     "output_type": "stream",
     "text": [
      "SD of a1     = 0.085013\n",
      "SD of a2     = 1.119090\n",
      "SD of e1     = 0.028830\n",
      "SD of e2     = 0.093952\n",
      "SD of inc1   = 0.023712\n",
      "SD of inc2   = 0.039768\n"
     ]
    }
   ],
   "source": [
    "# Display standard deviations of orbital elements\n",
    "sds = np.sqrt(np.diag(cov))\n",
    "for i, elt_name in enumerate(elt_names):\n",
    "    sd = sds[i]\n",
    "    print(f'SD of {elt_name:6} = {sd:8.6f}')"
   ]
  },
  {
   "cell_type": "code",
   "execution_count": 108,
   "metadata": {},
   "outputs": [
    {
     "name": "stdout",
     "output_type": "stream",
     "text": [
      "model_name = model_sej_nn_64_16\n",
      "model_nn.name = model_sej_nn_64_16_sf_4\n",
      "model_h5 = ../models/sej/model_sej_nn_64_16_sf_4.h5\n",
      "hist_name = hist_sej_nn_64_16_sf_4\n"
     ]
    }
   ],
   "source": [
    "# Data for this scale factor\n",
    "ds_trn, ds_val, ds_tst = data_by_factor[scale_factor]\n",
    "\n",
    "# Number of epochs to train\n",
    "num_batches = 10\n",
    "epochs=1\n",
    "\n",
    "# Integer scale factor\n",
    "sfi = int(scale_factor)\n",
    "\n",
    "# H5 file with model weights for this scale factor\n",
    "model_h5 = f'../models/{folder}/{model_name}_sf_{sfi}.h5'\n",
    "\n",
    "# Name model instance to include scale factor\n",
    "model_nn._name = f'{model_name}_sf_{sfi}'\n",
    "\n",
    "# Name of the history\n",
    "hist_name = f'hist_{model_code}_nn_{suffix}_sf_{sfi}'\n",
    "\n",
    "save_freq = 'epoch'\n",
    "\n",
    "# Status\n",
    "print(f'model_name = {model_name}')\n",
    "print(f'model_nn.name = {model_nn.name}')\n",
    "print(f'model_h5 = {model_h5}')\n",
    "print(f'hist_name = {hist_name}')"
   ]
  },
  {
   "cell_type": "code",
   "execution_count": null,
   "metadata": {},
   "outputs": [
    {
     "name": "stdout",
     "output_type": "stream",
     "text": [
      "Unable to load model_sej_nn_64_16 from ../models/sej/model_sej_nn_64_16_sf_4.h5. Fitting...\n",
      "*** Training loop   1 *** - 2019-08-22 15:45:16\n",
      "194/195 [============================>.] - ETA: 0s - loss: 1.5664e-04 - q_loss: 5.1974e-05 - v_loss: 5.1659e-05 - a_loss: 5.3007e-05 - q0_rec_loss: 2.5150e-14 - v0_rec_loss: 2.5211e-14 - H_loss: 3.3178e-11 - P_loss: 3.6827e-14 - L_loss: 8.4663e-10  ETA: 10s - loss: 5.8572e-05 - q_loss: 1.9400e-05 - v_loss: 1.9077e-05 - a_loss: 2.0093e-05 - q0_rec_loss: 2.5095e-14 - v0_rec_loss: 2.5215e-14 - H_loss: 2\n",
      "Epoch 0001; loss 1.56e-04; elapsed 0:00:53\n",
      "195/195 [==============================] - 44s 224ms/step - loss: 1.5590e-04 - q_loss: 5.1727e-05 - v_loss: 5.1413e-05 - a_loss: 5.2753e-05 - q0_rec_loss: 2.5167e-14 - v0_rec_loss: 2.5229e-14 - H_loss: 3.3138e-11 - P_loss: 3.6827e-14 - L_loss: 8.4594e-10\n",
      "*** Training loop   2 *** - 2019-08-22 15:46:09\n",
      "194/195 [============================>.] - ETA: 0s - loss: 1.5664e-04 - q_loss: 5.1976e-05 - v_loss: 5.1657e-05 - a_loss: 5.3004e-05 - q0_rec_loss: 2.5150e-14 - v0_rec_loss: 2.5211e-14 - H_loss: 3.4206e-11 - P_loss: 3.6815e-14 - L_loss: 6.3050e-10\n",
      "Epoch 0001; loss 1.56e-04; elapsed 0:00:53\n",
      "195/195 [==============================] - 44s 224ms/step - loss: 1.5589e-04 - q_loss: 5.1730e-05 - v_loss: 5.1412e-05 - a_loss: 5.2750e-05 - q0_rec_loss: 2.5167e-14 - v0_rec_loss: 2.5229e-14 - H_loss: 3.4054e-11 - P_loss: 3.6815e-14 - L_loss: 6.2730e-10\n",
      "*** Training loop   3 *** - 2019-08-22 15:47:03\n",
      " 13/195 [=>............................] - ETA: 53s - loss: 1.1924e-05 - q_loss: 3.8497e-06 - v_loss: 3.6939e-06 - a_loss: 4.3784e-06 - q0_rec_loss: 2.5133e-14 - v0_rec_loss: 2.4710e-14 - H_loss: 7.7335e-12 - P_loss: 3.6658e-14 - L_loss: 1.3073e-11"
     ]
    }
   ],
   "source": [
    "# Attempt to load model or train on selected number of epochs\n",
    "try:\n",
    "    model_nn.load_weights(model_h5)\n",
    "    model_nn.compile(loss=loss, optimizer=optimizer, metrics=metrics, loss_weights=loss_weights)\n",
    "    hist = vartbl[hist_name]\n",
    "    print(f'Loaded {model_name} from {model_h5}.')\n",
    "except:\n",
    "    print(f'Unable to load {model_name} from {model_h5}. Fitting...')\n",
    "    for i in range_inc(num_batches):\n",
    "        ts = datetime.datetime.now()\n",
    "        st = ts.strftime('%Y-%m-%d %H:%M:%S')\n",
    "        print(f'*** Training loop {i:3} *** - {st}')\n",
    "        hist = hist0\n",
    "        hist = fit_model(model=model_nn,\n",
    "                         folder=folder,\n",
    "                         ds=ds_trn, \n",
    "                         epochs=epochs,\n",
    "                         save_freq=save_freq,\n",
    "                         prev_history = hist, \n",
    "                         batch_num=i)    \n",
    "    vartbl[hist_name] = hist\n",
    "    save_vartbl(vartbl, fname)"
   ]
  },
  {
   "cell_type": "code",
   "execution_count": null,
   "metadata": {},
   "outputs": [],
   "source": [
    "# Evaluate the trained model on the validation data\n",
    "model_nn.evaluate(ds_val)"
   ]
  },
  {
   "cell_type": "code",
   "execution_count": null,
   "metadata": {},
   "outputs": [],
   "source": [
    "# Plot the loss\n",
    "fig, ax = plot_loss_hist(hist=hist, model_name=model_name, key='q_loss', baseline=q_loss_baseline)"
   ]
  },
  {
   "cell_type": "markdown",
   "metadata": {},
   "source": [
    "### Train on Full Data Set with Perturbation Scale Factor = 8.0"
   ]
  },
  {
   "cell_type": "code",
   "execution_count": null,
   "metadata": {},
   "outputs": [],
   "source": [
    "# Build combined SEJ data sets with scale factor = 8\n",
    "scale_factor = 8.0\n",
    "ds_trn, ds_val, ds_tst = \\\n",
    "    combine_datasets_sej(num_data_sets=num_data_sets, batch_size=batch_size, \n",
    "                         seed0=seed0, scale_factor=scale_factor)"
   ]
  },
  {
   "cell_type": "code",
   "execution_count": null,
   "metadata": {},
   "outputs": [],
   "source": [
    "# Update data by scale factor\n",
    "data_by_factor[scale_factor] = (ds_trn, ds_val, ds_tst)"
   ]
  },
  {
   "cell_type": "code",
   "execution_count": null,
   "metadata": {},
   "outputs": [],
   "source": [
    "# Compute covariance matrix of orbital elements\n",
    "cov = orb_elt_cov(ds_val)"
   ]
  },
  {
   "cell_type": "code",
   "execution_count": null,
   "metadata": {},
   "outputs": [],
   "source": [
    "# Display standard deviations of orbital elements\n",
    "sds = np.sqrt(np.diag(cov))\n",
    "for i, elt_name in enumerate(elt_names):\n",
    "    sd = sds[i]\n",
    "    print(f'SD of {elt_name:6} = {sd:8.6f}')"
   ]
  },
  {
   "cell_type": "code",
   "execution_count": null,
   "metadata": {},
   "outputs": [],
   "source": [
    "# Data for this scale factor\n",
    "ds_trn, ds_val, ds_tst = data_by_factor[scale_factor]\n",
    "\n",
    "# Number of epochs to train\n",
    "num_batches = 10\n",
    "epochs=1\n",
    "\n",
    "# Integer scale factor\n",
    "sfi = int(scale_factor)\n",
    "\n",
    "# H5 file with model weights for this scale factor\n",
    "model_h5 = f'../models/{folder}/{model_name}_sf_{sfi}.h5'\n",
    "\n",
    "# Name model instance to include scale factor\n",
    "model_nn._name = f'{model_name}_sf_{sfi}'\n",
    "\n",
    "# Name of the history\n",
    "hist_name = f'hist_{model_code}_nn_{suffix}_sf_{sfi}'\n",
    "\n",
    "save_freq = 'epoch'\n",
    "\n",
    "# Status\n",
    "# print(f'model_nn.name = {model_nn.name}')\n",
    "print(f'model_name = {model_name}')\n",
    "print(f'model_h5 = {model_h5}')\n",
    "print(f'hist_name = {hist_name}')"
   ]
  },
  {
   "cell_type": "code",
   "execution_count": null,
   "metadata": {},
   "outputs": [],
   "source": [
    "# Attempt to load model or train on selected number of epochs\n",
    "try:\n",
    "    model_nn.load_weights(model_h5)\n",
    "    model_nn.compile(loss=loss, optimizer=optimizer, metrics=metrics, loss_weights=loss_weights)\n",
    "    hist = vartbl[hist_name]\n",
    "    print(f'Loaded {model_name} from {model_h5}.')\n",
    "except:\n",
    "    print(f'Unable to load {model_name} from {model_h5}. Fitting...')\n",
    "    for i in range_inc(num_batches):\n",
    "        ts = datetime.datetime.now()\n",
    "        st = ts.strftime('%Y-%m-%d %H:%M:%S')\n",
    "        print(f'*** Training loop {i:3} *** - {st}')\n",
    "        hist = hist0\n",
    "        hist = fit_model(model=model_nn,\n",
    "                         folder=folder,\n",
    "                         ds=ds_trn, \n",
    "                         epochs=epochs,\n",
    "                         save_freq=save_freq,\n",
    "                         prev_history = hist, \n",
    "                         batch_num=i)    \n",
    "    vartbl[hist_name] = hist\n",
    "    save_vartbl(vartbl, fname)"
   ]
  },
  {
   "cell_type": "code",
   "execution_count": null,
   "metadata": {},
   "outputs": [],
   "source": [
    "# Evaluate the trained model on the validation data\n",
    "model_nn.evaluate(ds_val)"
   ]
  },
  {
   "cell_type": "code",
   "execution_count": null,
   "metadata": {},
   "outputs": [],
   "source": [
    "# Plot the loss\n",
    "fig, ax = plot_loss_hist(hist=hist, model_name=model_name, key='q_loss', baseline=q_loss_baseline)"
   ]
  },
  {
   "cell_type": "markdown",
   "metadata": {},
   "source": [
    "### Train on Full Data Set with Perturbation Scale Factor = 16.0"
   ]
  },
  {
   "cell_type": "code",
   "execution_count": null,
   "metadata": {},
   "outputs": [],
   "source": [
    "# Build combined SEJ data sets with scale factor = 4\n",
    "scale_factor = 16.0\n",
    "ds_trn, ds_val, ds_tst = \\\n",
    "    combine_datasets_sej(num_data_sets=num_data_sets, batch_size=batch_size, \n",
    "                         seed0=seed0, scale_factor=scale_factor)"
   ]
  },
  {
   "cell_type": "code",
   "execution_count": null,
   "metadata": {},
   "outputs": [],
   "source": [
    "# Update data by scale factor\n",
    "data_by_factor[scale_factor] = (ds_trn, ds_val, ds_tst)"
   ]
  },
  {
   "cell_type": "code",
   "execution_count": null,
   "metadata": {},
   "outputs": [],
   "source": [
    "# Compute covariance matrix of orbital elements\n",
    "cov = orb_elt_cov(ds_val)"
   ]
  },
  {
   "cell_type": "code",
   "execution_count": null,
   "metadata": {},
   "outputs": [],
   "source": [
    "# Display standard deviations of orbital elements\n",
    "sds = np.sqrt(np.diag(cov))\n",
    "for i, elt_name in enumerate(elt_names):\n",
    "    sd = sds[i]\n",
    "    print(f'SD of {elt_name:6} = {sd:8.6f}')"
   ]
  },
  {
   "cell_type": "code",
   "execution_count": null,
   "metadata": {},
   "outputs": [],
   "source": [
    "# Data for this scale factor\n",
    "ds_trn, ds_val, ds_tst = data_by_factor[scale_factor]\n",
    "\n",
    "# Number of epochs to train\n",
    "num_batches = 10\n",
    "epochs=1\n",
    "\n",
    "# Integer scale factor\n",
    "sfi = int(scale_factor)\n",
    "\n",
    "# H5 file with model weights for this scale factor\n",
    "model_h5 = f'../models/{folder}/{model_name}_sf_{sfi}.h5'\n",
    "\n",
    "# Name model instance to include scale factor\n",
    "model_nn._name = f'{model_name}_sf_{sfi}'\n",
    "\n",
    "# Name of the history\n",
    "hist_name = f'hist_{model_code}_nn_{suffix}_sf_{sfi}'\n",
    "\n",
    "save_freq = 'epoch'\n",
    "\n",
    "# Status\n",
    "# print(f'model_nn.name = {model_nn.name}')\n",
    "print(f'model_name = {model_name}')\n",
    "print(f'model_h5 = {model_h5}')\n",
    "print(f'hist_name = {hist_name}')"
   ]
  },
  {
   "cell_type": "code",
   "execution_count": null,
   "metadata": {},
   "outputs": [],
   "source": [
    "# Attempt to load model or train on selected number of epochs\n",
    "try:\n",
    "    model_nn.load_weights(model_h5)\n",
    "    model_nn.compile(loss=loss, optimizer=optimizer, metrics=metrics, loss_weights=loss_weights)\n",
    "    hist = vartbl[hist_name]\n",
    "    print(f'Loaded {model_name} from {model_h5}.')\n",
    "except:\n",
    "    print(f'Unable to load {model_name} from {model_h5}. Fitting...')\n",
    "    for i in range_inc(num_batches):\n",
    "        ts = datetime.datetime.now()\n",
    "        st = ts.strftime('%Y-%m-%d %H:%M:%S')\n",
    "        print(f'*** Training loop {i:3} *** - {st}')\n",
    "        hist = hist0\n",
    "        hist = fit_model(model=model_nn,\n",
    "                         folder=folder,\n",
    "                         ds=ds_trn, \n",
    "                         epochs=epochs,\n",
    "                         save_freq=save_freq,\n",
    "                         prev_history = hist, \n",
    "                         batch_num=i)    \n",
    "    vartbl[hist_name] = hist\n",
    "    save_vartbl(vartbl, fname)"
   ]
  },
  {
   "cell_type": "code",
   "execution_count": null,
   "metadata": {},
   "outputs": [],
   "source": [
    "# Evaluate the trained model on the validation data\n",
    "model_nn.evaluate(ds_val)"
   ]
  },
  {
   "cell_type": "code",
   "execution_count": null,
   "metadata": {},
   "outputs": [],
   "source": [
    "# Plot the loss\n",
    "fig, ax = plot_loss_hist(hist=hist, model_name=model_name, key='q_loss', baseline=q_loss_baseline)"
   ]
  },
  {
   "cell_type": "markdown",
   "metadata": {},
   "source": [
    "### Train on Full Data Set with Perturbation Scale Factor = 32.0"
   ]
  },
  {
   "cell_type": "code",
   "execution_count": null,
   "metadata": {},
   "outputs": [],
   "source": [
    "# Build combined SEJ data sets with scale factor = 32\n",
    "scale_factor = 32.0\n",
    "ds_trn, ds_val, ds_tst = \\\n",
    "    combine_datasets_sej(num_data_sets=num_data_sets, batch_size=batch_size, \n",
    "                         seed0=seed0, scale_factor=scale_factor)"
   ]
  },
  {
   "cell_type": "code",
   "execution_count": null,
   "metadata": {},
   "outputs": [],
   "source": [
    "# Update data by scale factor\n",
    "data_by_factor[scale_factor] = (ds_trn, ds_val, ds_tst)"
   ]
  },
  {
   "cell_type": "code",
   "execution_count": null,
   "metadata": {},
   "outputs": [],
   "source": [
    "# Compute covariance matrix of orbital elements\n",
    "cov = orb_elt_cov(ds_val)"
   ]
  },
  {
   "cell_type": "code",
   "execution_count": null,
   "metadata": {},
   "outputs": [],
   "source": [
    "# Display standard deviations of orbital elements\n",
    "sds = np.sqrt(np.diag(cov))\n",
    "for i, elt_name in enumerate(elt_names):\n",
    "    sd = sds[i]\n",
    "    print(f'SD of {elt_name:6} = {sd:8.6f}')"
   ]
  },
  {
   "cell_type": "code",
   "execution_count": null,
   "metadata": {},
   "outputs": [],
   "source": [
    "# Data for this scale factor\n",
    "ds_trn, ds_val, ds_tst = data_by_factor[scale_factor]\n",
    "\n",
    "# Number of epochs to train\n",
    "num_batches = 10\n",
    "epochs=1\n",
    "\n",
    "# Integer scale factor\n",
    "sfi = int(scale_factor)\n",
    "\n",
    "# H5 file with model weights for this scale factor\n",
    "model_h5 = f'../models/{folder}/{model_name}_sf_{sfi}.h5'\n",
    "\n",
    "# Name model instance to include scale factor\n",
    "model_nn._name = f'{model_name}_sf_{sfi}'\n",
    "\n",
    "# Name of the history\n",
    "hist_name = f'hist_{model_code}_nn_{suffix}_sf_{sfi}'\n",
    "\n",
    "save_freq = 'epoch'\n",
    "\n",
    "# Status\n",
    "# print(f'model_nn.name = {model_nn.name}')\n",
    "print(f'model_name = {model_name}')\n",
    "print(f'model_h5 = {model_h5}')\n",
    "print(f'hist_name = {hist_name}')"
   ]
  },
  {
   "cell_type": "code",
   "execution_count": null,
   "metadata": {},
   "outputs": [],
   "source": [
    "# Attempt to load model or train on selected number of epochs\n",
    "try:\n",
    "    model_nn.load_weights(model_h5)\n",
    "    model_nn.compile(loss=loss, optimizer=optimizer, metrics=metrics, loss_weights=loss_weights)\n",
    "    hist = vartbl[hist_name]\n",
    "    print(f'Loaded {model_name} from {model_h5}.')\n",
    "except:\n",
    "    print(f'Unable to load {model_name} from {model_h5}. Fitting...')\n",
    "    for i in range_inc(num_batches):\n",
    "        ts = datetime.datetime.now()\n",
    "        st = ts.strftime('%Y-%m-%d %H:%M:%S')\n",
    "        print(f'*** Training loop {i:3} *** - {st}')\n",
    "        hist = hist0\n",
    "        hist = fit_model(model=model_nn,\n",
    "                         folder=folder,\n",
    "                         ds=ds_trn, \n",
    "                         epochs=epochs,\n",
    "                         save_freq=save_freq,\n",
    "                         prev_history = hist, \n",
    "                         batch_num=i)    \n",
    "    vartbl[hist_name] = hist\n",
    "    save_vartbl(vartbl, fname)"
   ]
  },
  {
   "cell_type": "code",
   "execution_count": null,
   "metadata": {},
   "outputs": [],
   "source": [
    "# Evaluate the trained model on the validation data\n",
    "model_nn.evaluate(ds_val)"
   ]
  },
  {
   "cell_type": "code",
   "execution_count": null,
   "metadata": {},
   "outputs": [],
   "source": [
    "# Plot the loss\n",
    "fig, ax = plot_loss_hist(hist=hist, model_name=model_name, key='q_loss', baseline=q_loss_baseline)"
   ]
  },
  {
   "cell_type": "code",
   "execution_count": null,
   "metadata": {},
   "outputs": [],
   "source": []
  }
 ],
 "metadata": {
  "kernelspec": {
   "display_name": "Python [conda env:nbody]",
   "language": "python",
   "name": "conda-env-nbody-py"
  },
  "language_info": {
   "codemirror_mode": {
    "name": "ipython",
    "version": 3
   },
   "file_extension": ".py",
   "mimetype": "text/x-python",
   "name": "python",
   "nbconvert_exporter": "python",
   "pygments_lexer": "ipython3",
   "version": "3.7.3"
  }
 },
 "nbformat": 4,
 "nbformat_minor": 2
}
