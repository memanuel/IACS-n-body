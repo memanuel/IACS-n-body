{
 "cells": [
  {
   "cell_type": "markdown",
   "metadata": {},
   "source": [
    "# Three Body Problem: Neural Network Training\n",
    "\n",
    "A simple neural network is trained to learn approximate solutions to the three body problem.<br>\n",
    "Data is sampled from three body systems that are perturbed versions of the Sun-Earth-Jupiter system."
   ]
  },
  {
   "cell_type": "code",
   "execution_count": 1,
   "metadata": {},
   "outputs": [],
   "source": [
    "# Library imports\n",
    "import tensorflow as tf\n",
    "import rebound\n",
    "import numpy as np\n",
    "import datetime\n",
    "import matplotlib.pyplot as plt\n",
    "\n",
    "# Aliases\n",
    "keras = tf.keras"
   ]
  },
  {
   "cell_type": "code",
   "execution_count": 2,
   "metadata": {},
   "outputs": [],
   "source": [
    "# Local imports\n",
    "from utils import load_vartbl, save_vartbl, plot_style, range_inc\n",
    "from tf_utils import gpu_grow_memory, TimeHistory\n",
    "from tf_utils import plot_loss_hist, EpochLoss, TimeHistory\n",
    "from tf_utils import Identity\n",
    "\n",
    "from orbital_element import OrbitalElementToConfig, ConfigToOrbitalElement, MeanToTrueAnomaly, G_\n",
    "from orbital_element import make_model_elt_to_cfg, make_model_cfg_to_elt\n",
    "\n",
    "from jacobi import CartesianToJacobi, JacobiToCartesian\n",
    "\n",
    "from g3b_data import make_traj_elts, make_data_g3b, make_datasets_g3b, traj_to_batch\n",
    "from g3b_data import make_datasets_solar, make_datasets_hard\n",
    "from g3b_data import combine_datasets_g3b, combine_datasets_solar\n",
    "from sej_data import load_data_sej, make_datasets_sej, combine_datasets_sej\n",
    "from sej_data import orb_elts0, orb_elt_summary\n",
    "\n",
    "from g3b_plot import plot_orbit_q, plot_orbit_v, plot_orbit_a, plot_orbit_energy, plot_orbit_element\n",
    "from g3b import KineticEnergy_G3B, PotentialEnergy_G3B, Momentum_G3B, AngularMomentum_G3B\n",
    "from g3b import VectorError, EnergyError\n",
    "from g3b import Motion_G3B, make_physics_model_g3b\n",
    "from g3b import fit_model\n",
    "from g3b_model_math import make_position_model_g3b_math, make_model_g3b_math\n",
    "from g3b_model_nn import make_position_model_g3b_nn, make_model_g3b_nn\n",
    "from g3b_model_nn import baseline_loss"
   ]
  },
  {
   "cell_type": "code",
   "execution_count": 3,
   "metadata": {},
   "outputs": [],
   "source": [
    "# Set active GPUs\n",
    "gpus = tf.config.experimental.list_physical_devices('GPU')\n",
    "tf.config.experimental.set_visible_devices(gpus[1:2], 'GPU')"
   ]
  },
  {
   "cell_type": "code",
   "execution_count": 4,
   "metadata": {},
   "outputs": [],
   "source": [
    "# Grow GPU memory (must be first operation in TF)\n",
    "# gpu_grow_memory()"
   ]
  },
  {
   "cell_type": "code",
   "execution_count": 5,
   "metadata": {},
   "outputs": [],
   "source": [
    "# Lightweight serialization\n",
    "# fname = '../data/g3b/g3b_train.pickle'\n",
    "fname = '../data/sej/sej_train.pickle'\n",
    "vartbl = load_vartbl(fname)"
   ]
  },
  {
   "cell_type": "code",
   "execution_count": 6,
   "metadata": {},
   "outputs": [],
   "source": [
    "# Set plot style\n",
    "plot_style()"
   ]
  },
  {
   "cell_type": "markdown",
   "metadata": {},
   "source": [
    "### Load Data for General Three Body Problem"
   ]
  },
  {
   "cell_type": "code",
   "execution_count": 7,
   "metadata": {},
   "outputs": [],
   "source": [
    "# Description of datasets to be loaded\n",
    "n_years = 100\n",
    "sample_freq = 10\n",
    "traj_size = n_years * sample_freq + 1"
   ]
  },
  {
   "cell_type": "code",
   "execution_count": 8,
   "metadata": {},
   "outputs": [],
   "source": [
    "# Configuration for loading data sets\n",
    "# num_data_sets = 50\n",
    "num_data_sets = 5\n",
    "batch_size = 256\n",
    "# num_gpus = 1\n",
    "# full_batch_size = num_gpus * batch_size\n",
    "\n",
    "# Set size of tiny data sets\n",
    "n_traj_tiny = batch_size\n",
    "\n",
    "# Set starting random seed\n",
    "seed0 = 42"
   ]
  },
  {
   "cell_type": "code",
   "execution_count": 9,
   "metadata": {},
   "outputs": [
    {
     "name": "stdout",
     "output_type": "stream",
     "text": [
      "Loaded data from ../data/g3b/1789961721.pickle.\n"
     ]
    },
    {
     "name": "stderr",
     "output_type": "stream",
     "text": [
      "WARNING: Logging before flag parsing goes to stderr.\n",
      "W0823 13:59:36.827702 140281135286080 deprecation.py:323] From /home/michael/anaconda3/envs/nbody/lib/python3.7/site-packages/tensorflow/python/data/util/random_seed.py:58: add_dispatch_support.<locals>.wrapper (from tensorflow.python.ops.array_ops) is deprecated and will be removed in a future version.\n",
      "Instructions for updating:\n",
      "Use tf.where in 2.0, which has the same broadcast rule as np.where\n"
     ]
    }
   ],
   "source": [
    "# Create a tiny data set with one batch of solar type orbits\n",
    "ds_tiny_solar, _ , _ = \\\n",
    "    make_datasets_solar(n_traj=n_traj_tiny, vt_split=0.0, \n",
    "                        n_years=n_years, sample_freq=sample_freq,\n",
    "                        batch_size=batch_size, seed=seed0)"
   ]
  },
  {
   "cell_type": "code",
   "execution_count": 10,
   "metadata": {},
   "outputs": [],
   "source": [
    "# Build combined solar data sets\n",
    "# ds_solar_trn, ds_solar_val, ds_solar_tst = \\\n",
    "#     combine_datasets_solar(num_data_sets=num_data_sets, batch_size=batch_size, seed0=seed0)"
   ]
  },
  {
   "cell_type": "markdown",
   "metadata": {},
   "source": [
    "### Load Data for Perturbed Sun-Earth-Jupiter System"
   ]
  },
  {
   "cell_type": "code",
   "execution_count": 11,
   "metadata": {},
   "outputs": [],
   "source": [
    "# Orbital perturbation scales\n",
    "scale_factor = 1.0\n",
    "sd_q = scale_factor * np.array([0.00, 0.01, 0.05])\n",
    "sd_v = sd_q"
   ]
  },
  {
   "cell_type": "code",
   "execution_count": 12,
   "metadata": {},
   "outputs": [
    {
     "name": "stdout",
     "output_type": "stream",
     "text": [
      "Loaded data from ../data/sej/1261268456.pickle.\n"
     ]
    }
   ],
   "source": [
    "# Create a tiny data set with one batch of perturbed SEJ orbits\n",
    "ds_tiny_sej, _ , _ = \\\n",
    "    make_datasets_sej(n_traj=n_traj_tiny, vt_split=0.0, n_years=n_years, sample_freq=sample_freq,\n",
    "                      sd_q=sd_q, sd_v=sd_v,\n",
    "                      batch_size=batch_size, seed=seed0,\n",
    "                      assemble_datasets=True)"
   ]
  },
  {
   "cell_type": "code",
   "execution_count": 13,
   "metadata": {},
   "outputs": [
    {
     "name": "stdout",
     "output_type": "stream",
     "text": [
      "Loaded data from ../data/sej/1521397475.pickle.\n"
     ]
    }
   ],
   "source": [
    "# Create a tiny data set with the unperturbed SEJ system\n",
    "ds_sej0, _, _ = \\\n",
    "    make_datasets_sej(n_traj=n_traj_tiny, vt_split=0.0, n_years=n_years, sample_freq=sample_freq,\n",
    "                      sd_q=0.0, sd_v=0.0,\n",
    "                      batch_size=batch_size, seed=0,\n",
    "                      assemble_datasets=True)"
   ]
  },
  {
   "cell_type": "code",
   "execution_count": 14,
   "metadata": {},
   "outputs": [],
   "source": [
    "# Table of data sets keyed by scale factor\n",
    "data_by_factor = dict()"
   ]
  },
  {
   "cell_type": "code",
   "execution_count": 15,
   "metadata": {},
   "outputs": [
    {
     "name": "stdout",
     "output_type": "stream",
     "text": [
      "Loaded data from ../data/sej/1683869768.pickle.\n"
     ]
    },
    {
     "data": {
      "application/vnd.jupyter.widget-view+json": {
       "model_id": "55198111f8b94ed696b8fe97d7a2393a",
       "version_major": 2,
       "version_minor": 0
      },
      "text/plain": [
       "HBox(children=(IntProgress(value=0, max=4), HTML(value='')))"
      ]
     },
     "metadata": {},
     "output_type": "display_data"
    },
    {
     "name": "stdout",
     "output_type": "stream",
     "text": [
      "Loaded data from ../data/sej/723273359.pickle.\n",
      "Loaded data from ../data/sej/2662480066.pickle.\n",
      "Loaded data from ../data/sej/1320348092.pickle.\n",
      "Loaded data from ../data/sej/868556281.pickle.\n",
      "\n"
     ]
    }
   ],
   "source": [
    "# Build combined SEJ data sets with base scale factor\n",
    "scale_factor = 1.0\n",
    "ds_trn, ds_val, ds_tst = \\\n",
    "    combine_datasets_sej(num_data_sets=num_data_sets, batch_size=batch_size, \n",
    "                         seed0=seed0, scale_factor=scale_factor)"
   ]
  },
  {
   "cell_type": "code",
   "execution_count": 16,
   "metadata": {},
   "outputs": [],
   "source": [
    "# Update data by scale factor\n",
    "data_by_factor[scale_factor] = (ds_trn, ds_val, ds_tst)"
   ]
  },
  {
   "cell_type": "markdown",
   "metadata": {},
   "source": [
    "***Choose Data Set for Analysis: Solar vs. SEJ***"
   ]
  },
  {
   "cell_type": "code",
   "execution_count": 17,
   "metadata": {},
   "outputs": [],
   "source": [
    "# Alias ds_trn, ds_val, ds_tst to selected source\n",
    "\n",
    "# The selected data type for this analysis\n",
    "data_type = 'SEJ'\n",
    "\n",
    "# # Tables mapping data type to tuple of data sets\n",
    "# data_by_type = {\n",
    "#     # 'solar': (ds_tiny_solar, ds_solar_trn, ds_solar_val, ds_solar_tst),\n",
    "#     'SEJ': (ds_tiny_sej, ds_sej_trn, ds_sej_val, ds_sej_tst)\n",
    "# }\n",
    "\n",
    "# # Perform the aliasing\n",
    "# ds_tiny, ds_trn, ds_val, ds_tst = data_by_type[data_type]\n",
    "\n",
    "ds_tiny = ds_tiny_sej"
   ]
  },
  {
   "cell_type": "markdown",
   "metadata": {},
   "source": [
    "### Create the Kepler-Jacobi Model as a Benchmark"
   ]
  },
  {
   "cell_type": "code",
   "execution_count": 18,
   "metadata": {},
   "outputs": [],
   "source": [
    "model_kj = make_model_g3b_math(traj_size=traj_size, batch_size=batch_size)"
   ]
  },
  {
   "cell_type": "code",
   "execution_count": 19,
   "metadata": {},
   "outputs": [],
   "source": [
    "optimizer = keras.optimizers.Adam(learning_rate=0.0)\n",
    "\n",
    "loss = {'q': VectorError(name='q_loss'),\n",
    "        'v': VectorError(name='v_loss'),\n",
    "        'a': VectorError(regularizer=1.0, name='a_loss'),\n",
    "        'q0_rec': VectorError(name='q0_loss'),\n",
    "        'v0_rec': VectorError(name='v0_loss'),\n",
    "        'H': EnergyError(name='H_loss'),\n",
    "        'P': VectorError(name='P_loss', regularizer=1.0E-6),\n",
    "        'L': VectorError(name='L_loss'),\n",
    "       }\n",
    "\n",
    "metrics = None\n",
    "\n",
    "loss_weights = {'q': 1.0,\n",
    "                'v': 1.0,\n",
    "                'a': 1.0,\n",
    "                'q0_rec': 1.0E4,\n",
    "                'v0_rec': 1.0E4,\n",
    "                'H': 1.0,\n",
    "                'P': 1.0,\n",
    "                'L': 1.0}"
   ]
  },
  {
   "cell_type": "code",
   "execution_count": 20,
   "metadata": {},
   "outputs": [],
   "source": [
    "# Compile the full mathematical model\n",
    "model_kj.compile(optimizer=optimizer, loss=loss, metrics=metrics, loss_weights=loss_weights)"
   ]
  },
  {
   "cell_type": "code",
   "execution_count": 21,
   "metadata": {},
   "outputs": [
    {
     "name": "stdout",
     "output_type": "stream",
     "text": [
      "\r",
      "1/1 [==============================] - 3s 3s/step - loss: 6.7071e-05 - q_loss: 1.9321e-05 - v_loss: 1.9308e-05 - a_loss: 2.8442e-05 - q0_rec_loss: 9.7934e-15 - v0_rec_loss: 2.0469e-14 - H_loss: 6.6203e-14 - P_loss: 3.6133e-14 - L_loss: 1.1413e-14\n"
     ]
    },
    {
     "data": {
      "text/plain": [
       "[6.707102875225246e-05,\n",
       " 1.9320656e-05,\n",
       " 1.9308249e-05,\n",
       " 2.844182e-05,\n",
       " 9.793443e-15,\n",
       " 2.0469324e-14,\n",
       " 6.620291e-14,\n",
       " 3.6132582e-14,\n",
       " 1.1412751e-14]"
      ]
     },
     "execution_count": 21,
     "metadata": {},
     "output_type": "execute_result"
    }
   ],
   "source": [
    "# Evaluate KJ model on unperturbed SEJ data set\n",
    "model_kj.evaluate(ds_sej0)"
   ]
  },
  {
   "cell_type": "code",
   "execution_count": 22,
   "metadata": {},
   "outputs": [
    {
     "name": "stdout",
     "output_type": "stream",
     "text": [
      "\r",
      "1/1 [==============================] - 0s 137ms/step - loss: 6.8487e-05 - q_loss: 1.9837e-05 - v_loss: 1.9812e-05 - a_loss: 2.8838e-05 - q0_rec_loss: 2.0671e-14 - v0_rec_loss: 1.9992e-14 - H_loss: 9.5866e-14 - P_loss: 3.8770e-14 - L_loss: 2.0161e-14\n"
     ]
    },
    {
     "data": {
      "text/plain": [
       "[6.848739576525986e-05,\n",
       " 1.9836736e-05,\n",
       " 1.9811845e-05,\n",
       " 2.883841e-05,\n",
       " 2.0670675e-14,\n",
       " 1.9992044e-14,\n",
       " 9.5865854e-14,\n",
       " 3.8770395e-14,\n",
       " 2.0161029e-14]"
      ]
     },
     "execution_count": 22,
     "metadata": {},
     "output_type": "execute_result"
    }
   ],
   "source": [
    "# Evaluate KJ model on tiny data set\n",
    "model_kj.evaluate(ds_tiny)"
   ]
  },
  {
   "cell_type": "code",
   "execution_count": 23,
   "metadata": {},
   "outputs": [
    {
     "name": "stdout",
     "output_type": "stream",
     "text": [
      "35/35 [==============================] - 5s 131ms/step - loss: 6.7764e-05 - q_loss: 1.9676e-05 - v_loss: 1.9652e-05 - a_loss: 2.8436e-05 - q0_rec_loss: 1.5596e-14 - v0_rec_loss: 1.4356e-14 - H_loss: 9.2961e-14 - P_loss: 3.8784e-14 - L_loss: 2.0182e-14\n"
     ]
    },
    {
     "data": {
      "text/plain": [
       "[6.776364025427029e-05,\n",
       " 1.9675517e-05,\n",
       " 1.9652058e-05,\n",
       " 2.8435767e-05,\n",
       " 1.559638e-14,\n",
       " 1.4356488e-14,\n",
       " 9.2961446e-14,\n",
       " 3.8784294e-14,\n",
       " 2.0181556e-14]"
      ]
     },
     "execution_count": 23,
     "metadata": {},
     "output_type": "execute_result"
    }
   ],
   "source": [
    "# Evaluate KJ model on full validation data\n",
    "model_kj.evaluate(ds_val)"
   ]
  },
  {
   "cell_type": "markdown",
   "metadata": {},
   "source": [
    "### Train the Neural Network Model"
   ]
  },
  {
   "cell_type": "code",
   "execution_count": 32,
   "metadata": {},
   "outputs": [],
   "source": [
    "# Configuration for neural network model architecture\n",
    "hidden_sizes = [64, 16]\n",
    "skip_layers = True\n",
    "\n",
    "# Training configuration\n",
    "learning_rate = 5.0E-8 # this is about 0.001 x the validation loss on the KJ model\n",
    "kernel_reg = 1.0E-8\n",
    "activity_reg = 0.0"
   ]
  },
  {
   "cell_type": "code",
   "execution_count": 33,
   "metadata": {},
   "outputs": [],
   "source": [
    "# Build neural network model\n",
    "model_nn = make_model_g3b_nn(hidden_sizes=hidden_sizes, skip_layers=skip_layers, \n",
    "                             kernel_reg=kernel_reg, activity_reg=activity_reg,\n",
    "                             traj_size=traj_size, batch_size=batch_size)"
   ]
  },
  {
   "cell_type": "code",
   "execution_count": 34,
   "metadata": {},
   "outputs": [],
   "source": [
    "# model_nn.summary()"
   ]
  },
  {
   "cell_type": "code",
   "execution_count": 35,
   "metadata": {},
   "outputs": [],
   "source": [
    "optimizer = keras.optimizers.Adam(learning_rate=learning_rate)\n",
    "# optimizer = keras.optimizers.Adadelta()"
   ]
  },
  {
   "cell_type": "code",
   "execution_count": 36,
   "metadata": {},
   "outputs": [],
   "source": [
    "# Compile the NN model\n",
    "model_nn.compile(optimizer=optimizer, loss=loss, metrics=metrics, loss_weights=loss_weights)"
   ]
  },
  {
   "cell_type": "code",
   "execution_count": 37,
   "metadata": {},
   "outputs": [
    {
     "name": "stdout",
     "output_type": "stream",
     "text": [
      "\r",
      "1/1 [==============================] - 2s 2s/step - loss: 6.7071e-05 - q_loss: 1.9321e-05 - v_loss: 1.9308e-05 - a_loss: 2.8442e-05 - q0_rec_loss: 9.7934e-15 - v0_rec_loss: 2.0469e-14 - H_loss: 6.6203e-14 - P_loss: 3.6133e-14 - L_loss: 1.1413e-14\n"
     ]
    },
    {
     "data": {
      "text/plain": [
       "[6.707102875225246e-05,\n",
       " 1.9320656e-05,\n",
       " 1.9308249e-05,\n",
       " 2.844182e-05,\n",
       " 9.793443e-15,\n",
       " 2.0469324e-14,\n",
       " 6.620291e-14,\n",
       " 3.6132582e-14,\n",
       " 1.1412751e-14]"
      ]
     },
     "execution_count": 37,
     "metadata": {},
     "output_type": "execute_result"
    }
   ],
   "source": [
    "# Evaluate the NN model on the unperturbed orbit\n",
    "model_nn.evaluate(ds_sej0)"
   ]
  },
  {
   "cell_type": "code",
   "execution_count": 38,
   "metadata": {},
   "outputs": [],
   "source": [
    "# Evaluate the NN model on the tiny data set\n",
    "# model_nn.evaluate(ds_tiny)"
   ]
  },
  {
   "cell_type": "code",
   "execution_count": 39,
   "metadata": {},
   "outputs": [],
   "source": [
    "# Table with baseline losses by scale factor\n",
    "baseline_tbl = dict()"
   ]
  },
  {
   "cell_type": "code",
   "execution_count": 40,
   "metadata": {},
   "outputs": [
    {
     "name": "stdout",
     "output_type": "stream",
     "text": [
      "35/35 [==============================] - 5s 134ms/step - loss: 6.7764e-05 - q_loss: 1.9676e-05 - v_loss: 1.9652e-05 - a_loss: 2.8436e-05 - q0_rec_loss: 1.5596e-14 - v0_rec_loss: 1.4356e-14 - H_loss: 9.2961e-14 - P_loss: 3.8784e-14 - L_loss: 2.0182e-14\n"
     ]
    }
   ],
   "source": [
    "# Evaluate the KJ model on the full validation data; save as baseline\n",
    "hist0, q_loss_baseline = baseline_loss(model_kj, ds_val)\n",
    "baseline_tbl[scale_factor] = q_loss_baseline"
   ]
  },
  {
   "cell_type": "code",
   "execution_count": 41,
   "metadata": {},
   "outputs": [],
   "source": [
    "# Set up training - shared variables\n",
    "\n",
    "# Suffix to the model name reflects layer sizes\n",
    "suffix = '_'.join(str(sz) for sz in hidden_sizes)\n",
    "\n",
    "# The model code is g3b or sej based on type of data\n",
    "if data_type == 'solar':   \n",
    "    model_code = 'g3b'\n",
    "elif data_type == 'SEJ':\n",
    "    model_code = 'sej'\n",
    "\n",
    "# The folder is the same as the model code\n",
    "folder = model_code\n",
    "\n",
    "# How often to save weights to disk\n",
    "save_freq = 'epoch'"
   ]
  },
  {
   "cell_type": "markdown",
   "metadata": {},
   "source": [
    "### Train on Unperturbed Model (ds_sej0)"
   ]
  },
  {
   "cell_type": "code",
   "execution_count": 42,
   "metadata": {},
   "outputs": [
    {
     "name": "stdout",
     "output_type": "stream",
     "text": [
      "model_nn.name = model_g3b_nn_64_16\n",
      "model_h5 = ../models/sej/model_sej_nn_64_16_sej0.h5\n",
      "hist_name = hist_sej_nn_64_16_sej0\n"
     ]
    }
   ],
   "source": [
    "# Set up training - unperturbed SEJ system (ds_sej0)\n",
    "model_name = f'model_{model_code}_nn_{suffix}_sej0'\n",
    "\n",
    "# Number of training epochs\n",
    "num_batches=1\n",
    "epochs_per_batch = 5\n",
    "\n",
    "# H5 file with model weights\n",
    "model_h5 = f'../models/{folder}/{model_name}.h5'\n",
    "# Name of the loss history in vartbl\n",
    "hist_name = model_name.replace('model_', 'hist_')\n",
    "\n",
    "# Status\n",
    "print(f'model_nn.name = {model_nn.name}')\n",
    "print(f'model_h5 = {model_h5}')\n",
    "print(f'hist_name = {hist_name}')"
   ]
  },
  {
   "cell_type": "code",
   "execution_count": 43,
   "metadata": {},
   "outputs": [
    {
     "name": "stdout",
     "output_type": "stream",
     "text": [
      "Loaded model_sej_nn_64_16_sej0 from ../models/sej/model_sej_nn_64_16_sej0.h5.\n"
     ]
    }
   ],
   "source": [
    "try:\n",
    "    model_nn.load_weights(model_h5)\n",
    "    model_nn.compile(loss=loss, optimizer=optimizer, metrics=metrics, loss_weights=loss_weights)\n",
    "    hist = vartbl[hist_name]\n",
    "    print(f'Loaded {model_name} from {model_h5}.')\n",
    "except:\n",
    "    print(f'Unable to load {model_name} from {model_h5}. Fitting...')\n",
    "    hist = hist0\n",
    "    for i in range_inc(num_batches):\n",
    "        ts = datetime.datetime.now()\n",
    "        st = ts.strftime('%Y-%m-%d %H:%M:%S')\n",
    "        print(f'*** Training batch {i:3} *** {st}')\n",
    "        hist = fit_model(model=model_nn,\n",
    "                         model_name=model_name,\n",
    "                         folder=folder,\n",
    "                         ds=ds_sej0, \n",
    "                         epochs=epochs_per_batch,\n",
    "                         save_freq=save_freq,\n",
    "                         prev_history = hist, \n",
    "                         batch_num=i)\n",
    "    vartbl[hist_name] = hist\n",
    "    save_vartbl(vartbl, fname)"
   ]
  },
  {
   "cell_type": "code",
   "execution_count": 44,
   "metadata": {},
   "outputs": [
    {
     "name": "stdout",
     "output_type": "stream",
     "text": [
      "\r",
      "1/1 [==============================] - 3s 3s/step - loss: 1.2885e-05 - q_loss: 4.4936e-06 - v_loss: 4.4890e-06 - a_loss: 3.8605e-06 - q0_rec_loss: 9.7934e-15 - v0_rec_loss: 2.0469e-14 - H_loss: 1.2824e-08 - P_loss: 3.7907e-14 - L_loss: 2.8458e-08\n"
     ]
    },
    {
     "data": {
      "text/plain": [
       "[1.288468138227472e-05,\n",
       " 4.493584e-06,\n",
       " 4.488994e-06,\n",
       " 3.8605167e-06,\n",
       " 9.793443e-15,\n",
       " 2.0469324e-14,\n",
       " 1.2824296e-08,\n",
       " 3.7907293e-14,\n",
       " 2.8457942e-08]"
      ]
     },
     "execution_count": 44,
     "metadata": {},
     "output_type": "execute_result"
    }
   ],
   "source": [
    "# Evaluate trained model on unperturbed data set\n",
    "model_nn.evaluate(ds_sej0)"
   ]
  },
  {
   "cell_type": "code",
   "execution_count": 45,
   "metadata": {},
   "outputs": [
    {
     "data": {
      "image/png": "[encoded data removed]",
      "text/plain": [
       "<Figure size 1152x648 with 1 Axes>"
      ]
     },
     "metadata": {
      "needs_background": "light"
     },
     "output_type": "display_data"
    }
   ],
   "source": [
    "# Plot the loss\n",
    "fig, ax = plot_loss_hist(hist=hist, model_name=model_name, key='q_loss', baseline=q_loss_baseline)"
   ]
  },
  {
   "cell_type": "markdown",
   "metadata": {},
   "source": [
    "### Train on Tiny Data Set"
   ]
  },
  {
   "cell_type": "code",
   "execution_count": 46,
   "metadata": {},
   "outputs": [
    {
     "name": "stdout",
     "output_type": "stream",
     "text": [
      "model_nn.name = model_g3b_nn_64_16\n",
      "model_h5 = ../models/sej/model_sej_nn_64_16_tiny.h5\n",
      "hist_name = hist_sej_nn_64_16_tiny\n"
     ]
    }
   ],
   "source": [
    "# Set up training - tiny data set\n",
    "model_name = f'model_{model_code}_nn_{suffix}_tiny'\n",
    "\n",
    "# Number of training epochs\n",
    "num_batches = 1\n",
    "epochs_per_batch = 10\n",
    "\n",
    "# H5 file with model weights\n",
    "model_h5 = f'../models/{folder}/{model_name}.h5'\n",
    "# Name of the loss history in vartbl\n",
    "hist_name = model_name.replace('model_', 'hist_')\n",
    "\n",
    "# Status\n",
    "print(f'model_nn.name = {model_nn.name}')\n",
    "print(f'model_h5 = {model_h5}')\n",
    "print(f'hist_name = {hist_name}')"
   ]
  },
  {
   "cell_type": "code",
   "execution_count": 47,
   "metadata": {},
   "outputs": [
    {
     "name": "stdout",
     "output_type": "stream",
     "text": [
      "Unable to load model_sej_nn_64_16_tiny from ../models/sej/model_sej_nn_64_16_tiny.h5. Fitting...\n",
      "*** Training batch   1 *** 2019-08-23 14:03:51\n",
      "Epoch 1/10\n",
      "\n",
      "Epoch 0001; loss 1.25e-05; elapsed 0:00:07\n",
      "1/1 [==============================] - 7s 7s/step - loss: 1.2546e-05 - q_loss: 4.1850e-06 - v_loss: 4.2767e-06 - a_loss: 4.0424e-06 - q0_rec_loss: 2.0671e-14 - v0_rec_loss: 1.9992e-14 - H_loss: 1.1973e-08 - P_loss: 3.9447e-14 - L_loss: 2.9548e-08\n",
      "Epoch 2/10\n",
      "\n",
      "Epoch 0002; loss 4.09e-06; elapsed 0:00:08\n",
      "1/1 [==============================] - 0s 245ms/step - loss: 4.0885e-06 - q_loss: 9.6573e-07 - v_loss: 9.5727e-07 - a_loss: 2.0698e-06 - q0_rec_loss: 2.0671e-14 - v0_rec_loss: 1.9992e-14 - H_loss: 7.6884e-10 - P_loss: 3.9311e-14 - L_loss: 9.4509e-08\n",
      "Epoch 3/10\n",
      "\n",
      "Epoch 0003; loss 5.32e-06; elapsed 0:00:08\n",
      "1/1 [==============================] - 0s 191ms/step - loss: 5.3239e-06 - q_loss: 1.2004e-06 - v_loss: 1.1890e-06 - a_loss: 2.9096e-06 - q0_rec_loss: 2.0671e-14 - v0_rec_loss: 1.9992e-14 - H_loss: 1.5951e-09 - P_loss: 3.9343e-14 - L_loss: 2.2884e-08\n",
      "Epoch 4/10\n",
      "\n",
      "Epoch 0004; loss 7.09e-06; elapsed 0:00:08\n",
      "1/1 [==============================] - 0s 217ms/step - loss: 7.0856e-06 - q_loss: 1.5364e-06 - v_loss: 1.5536e-06 - a_loss: 3.9822e-06 - q0_rec_loss: 2.0671e-14 - v0_rec_loss: 1.9992e-14 - H_loss: 4.9399e-09 - P_loss: 3.9262e-14 - L_loss: 7.9853e-09\n",
      "Epoch 5/10\n",
      "\n",
      "Epoch 0005; loss 6.30e-06; elapsed 0:00:08\n",
      "1/1 [==============================] - 0s 193ms/step - loss: 6.2987e-06 - q_loss: 1.1456e-06 - v_loss: 1.1658e-06 - a_loss: 3.9379e-06 - q0_rec_loss: 2.0671e-14 - v0_rec_loss: 1.9992e-14 - H_loss: 4.5110e-09 - P_loss: 3.9315e-14 - L_loss: 4.4383e-08\n",
      "Epoch 6/10\n",
      "\n",
      "Epoch 0006; loss 4.62e-06; elapsed 0:00:09\n",
      "1/1 [==============================] - 0s 206ms/step - loss: 4.6207e-06 - q_loss: 6.8043e-07 - v_loss: 6.8337e-07 - a_loss: 3.2213e-06 - q0_rec_loss: 2.0671e-14 - v0_rec_loss: 1.9992e-14 - H_loss: 2.0717e-09 - P_loss: 3.9266e-14 - L_loss: 3.3058e-08\n",
      "Epoch 7/10\n",
      "\n",
      "Epoch 0007; loss 3.72e-06; elapsed 0:00:09\n",
      "1/1 [==============================] - 0s 233ms/step - loss: 3.7159e-06 - q_loss: 6.1788e-07 - v_loss: 6.0349e-07 - a_loss: 2.4893e-06 - q0_rec_loss: 2.0671e-14 - v0_rec_loss: 1.9992e-14 - H_loss: 2.5679e-10 - P_loss: 3.9295e-14 - L_loss: 4.5632e-09\n",
      "Epoch 8/10\n",
      "\n",
      "Epoch 0008; loss 3.73e-06; elapsed 0:00:09\n",
      "1/1 [==============================] - 0s 217ms/step - loss: 3.7289e-06 - q_loss: 8.5015e-07 - v_loss: 8.3101e-07 - a_loss: 2.0420e-06 - q0_rec_loss: 2.0671e-14 - v0_rec_loss: 1.9992e-14 - H_loss: 1.7568e-10 - P_loss: 3.9476e-14 - L_loss: 5.1054e-09\n",
      "Epoch 9/10\n",
      "\n",
      "Epoch 0009; loss 4.01e-06; elapsed 0:00:10\n",
      "1/1 [==============================] - 0s 196ms/step - loss: 4.0104e-06 - q_loss: 1.0604e-06 - v_loss: 1.0495e-06 - a_loss: 1.8757e-06 - q0_rec_loss: 2.0671e-14 - v0_rec_loss: 1.9992e-14 - H_loss: 1.2021e-09 - P_loss: 3.9169e-14 - L_loss: 2.3164e-08\n",
      "Epoch 10/10\n",
      "\n",
      "Epoch 0010; loss 4.07e-06; elapsed 0:00:10\n",
      "1/1 [==============================] - 0s 195ms/step - loss: 4.0726e-06 - q_loss: 1.1012e-06 - v_loss: 1.1017e-06 - a_loss: 1.8439e-06 - q0_rec_loss: 2.0671e-14 - v0_rec_loss: 1.9992e-14 - H_loss: 1.9758e-09 - P_loss: 3.9299e-14 - L_loss: 2.3465e-08\n"
     ]
    }
   ],
   "source": [
    "try:\n",
    "    model_nn.load_weights(model_h5)\n",
    "    model_nn.compile(loss=loss, optimizer=optimizer, metrics=metrics, loss_weights=loss_weights)\n",
    "    hist = vartbl[hist_name]\n",
    "    print(f'Loaded {model_name} from {model_h5}.')\n",
    "except:\n",
    "    print(f'Unable to load {model_name} from {model_h5}. Fitting...')\n",
    "    hist = hist0\n",
    "    for i in range_inc(num_batches):\n",
    "        ts = datetime.datetime.now()\n",
    "        st = ts.strftime('%Y-%m-%d %H:%M:%S')\n",
    "        print(f'*** Training batch {i:3} *** {st}')\n",
    "        hist = fit_model(model=model_nn,\n",
    "                         model_name=model_name,\n",
    "                         folder=folder,\n",
    "                         ds=ds_tiny, \n",
    "                         epochs=epochs_per_batch,\n",
    "                         save_freq=save_freq,\n",
    "                         prev_history = hist, \n",
    "                         batch_num=i)\n",
    "    vartbl[hist_name] = hist\n",
    "    save_vartbl(vartbl, fname)"
   ]
  },
  {
   "cell_type": "code",
   "execution_count": 48,
   "metadata": {},
   "outputs": [
    {
     "name": "stdout",
     "output_type": "stream",
     "text": [
      "\r",
      "1/1 [==============================] - 0s 115ms/step - loss: 3.7289e-06 - q_loss: 8.5015e-07 - v_loss: 8.3101e-07 - a_loss: 2.0420e-06 - q0_rec_loss: 2.0671e-14 - v0_rec_loss: 1.9992e-14 - H_loss: 1.7568e-10 - P_loss: 3.9476e-14 - L_loss: 5.1054e-09\n"
     ]
    },
    {
     "data": {
      "text/plain": [
       "[3.7288900784915313e-06,\n",
       " 8.5014705e-07,\n",
       " 8.31012e-07,\n",
       " 2.0420423e-06,\n",
       " 2.0670675e-14,\n",
       " 1.9992044e-14,\n",
       " 1.7568363e-10,\n",
       " 3.9476292e-14,\n",
       " 5.105355e-09]"
      ]
     },
     "execution_count": 48,
     "metadata": {},
     "output_type": "execute_result"
    }
   ],
   "source": [
    "model_nn.evaluate(ds_tiny)"
   ]
  },
  {
   "cell_type": "code",
   "execution_count": 49,
   "metadata": {},
   "outputs": [
    {
     "data": {
      "image/png": "[encoded data removed]",
      "text/plain": [
       "<Figure size 1152x648 with 1 Axes>"
      ]
     },
     "metadata": {
      "needs_background": "light"
     },
     "output_type": "display_data"
    }
   ],
   "source": [
    "# Plot the loss\n",
    "fig, ax = plot_loss_hist(hist=hist, model_name=model_nn.name, key='q_loss', baseline=q_loss_baseline)"
   ]
  },
  {
   "cell_type": "markdown",
   "metadata": {},
   "source": [
    "### Train on Full Data Set with Perturbation Scale Factor = 1.0"
   ]
  },
  {
   "cell_type": "code",
   "execution_count": 50,
   "metadata": {},
   "outputs": [],
   "source": [
    "# Scale factor\n",
    "scale_factor = 1.0\n",
    "\n",
    "# Data for this scale factor\n",
    "ds_trn, ds_val, ds_tst = data_by_factor[scale_factor]"
   ]
  },
  {
   "cell_type": "code",
   "execution_count": 51,
   "metadata": {},
   "outputs": [
    {
     "name": "stdout",
     "output_type": "stream",
     "text": [
      "35/35 [==============================] - 4s 128ms/step - loss: 6.7764e-05 - q_loss: 1.9676e-05 - v_loss: 1.9652e-05 - a_loss: 2.8436e-05 - q0_rec_loss: 1.5596e-14 - v0_rec_loss: 1.4356e-14 - H_loss: 9.2961e-14 - P_loss: 3.8784e-14 - L_loss: 2.0182e-14\n"
     ]
    }
   ],
   "source": [
    "# Evaluate the KJ model on the validation data; save as baseline\n",
    "hist0, q_loss_baseline = baseline_loss(model_kj, ds_val)\n",
    "baseline_tbl[scale_factor] = q_loss_baseline"
   ]
  },
  {
   "cell_type": "markdown",
   "metadata": {},
   "source": [
    "### Describe Covariance of Dataset Orbital Elements"
   ]
  },
  {
   "cell_type": "code",
   "execution_count": 57,
   "metadata": {},
   "outputs": [],
   "source": [
    "# List of orbital elements in the cov matrix\n",
    "elt_names = ['a1', 'a2', 'e1', 'e2', 'inc1', 'inc2', 'Omega1', 'Omega2', 'omega1', 'omega2', 'f1', 'f2']\n",
    "# limit to the interesting ones\n",
    "elt_names = elt_names[0:6]"
   ]
  },
  {
   "cell_type": "code",
   "execution_count": 91,
   "metadata": {},
   "outputs": [],
   "source": [
    "def orb_elt_summary(orb_elt):\n",
    "    \"\"\"Print a summary of the initial orbital elements in a data set\"\"\"\n",
    "    # List of orbital elements in the cov matrix\n",
    "    elt_names = ['a1', 'a2', 'e1', 'e2', 'inc1', 'inc2', \n",
    "                 'Omega1', 'Omega2', 'omega1', 'omega2', 'f1', 'f2']\n",
    "    # Compute mean, std, min and max of orbital elemetns\n",
    "    elt_mean = np.mean(orb_elt, axis=0)\n",
    "    elt_std = np.std(orb_elt, axis=0)\n",
    "    elt_min = np.min(orb_elt, axis=0)\n",
    "    elt_max = np.max(orb_elt, axis=0)    \n",
    "    \n",
    "    # limit to the interesting ones\n",
    "    elt_names = elt_names[0:6]\n",
    "\n",
    "    # Display summary statistics of orbital elements\n",
    "    print(f'element:  mean     :  std dev  :  min      :  max')\n",
    "    for i, elt_name in enumerate(elt_names):\n",
    "        print(f'{elt_name:6} : {elt_mean[i]:9.6f} : {elt_std[i]:9.6f} : '\n",
    "              f'{elt_min[i]:9.6f} : {elt_max[i]:9.6f}')\n"
   ]
  },
  {
   "cell_type": "code",
   "execution_count": null,
   "metadata": {},
   "outputs": [],
   "source": [
    "# Get initial orbital elements of this dataset\n",
    "orb_elt = orb_elts0(ds_val)"
   ]
  },
  {
   "cell_type": "code",
   "execution_count": 92,
   "metadata": {},
   "outputs": [
    {
     "name": "stdout",
     "output_type": "stream",
     "text": [
      "element:  mean     :  std dev  :  min      :  max\n",
      "a1     :  1.000418 :  0.020790 :  0.925173 :  1.084733\n",
      "a2     :  5.205126 :  0.110135 :  4.820860 :  5.694392\n",
      "e1     :  0.020275 :  0.009033 :  0.000552 :  0.057580\n",
      "e2     :  0.049871 :  0.010345 :  0.009383 :  0.095552\n",
      "inc1   :  0.008057 :  0.006083 :  0.000012 :  0.037704\n",
      "inc2   :  0.023512 :  0.008534 :  0.009248 :  0.056155\n"
     ]
    }
   ],
   "source": [
    "# Summarize initial orbital elements of this dataset\n",
    "orb_elt_summary(orb_elt)"
   ]
  },
  {
   "cell_type": "code",
   "execution_count": 80,
   "metadata": {},
   "outputs": [
    {
     "name": "stdout",
     "output_type": "stream",
     "text": [
      "Training for 1 batches of 5 epochs each.\n",
      "model_name = model_sej_nn_64_16_sf_1\n",
      "model_h5 = ../models/sej/model_sej_nn_64_16_sf_1.h5\n",
      "hist_name = hist_sej_nn_64_16_sf_1\n"
     ]
    }
   ],
   "source": [
    "# Set up training - full data, scale factor = 1\n",
    "\n",
    "# Number of training epochs\n",
    "num_batches=1\n",
    "epochs_per_batch = 5\n",
    "\n",
    "# Integer scale factor\n",
    "sfi = int(scale_factor)\n",
    "\n",
    "# Name of this model including scale factor\n",
    "model_name = f'model_{model_code}_nn_{suffix}_sf_{sfi}'\n",
    "\n",
    "# H5 file with model weights\n",
    "model_h5 = f'../models/{folder}/{model_name}.h5'\n",
    "# Name of the loss history in vartbl\n",
    "hist_name = model_name.replace('model_', 'hist_')\n",
    "\n",
    "# Status\n",
    "print(f'Training for {num_batches} batches of {epochs_per_batch} epochs each.')\n",
    "print(f'model_name = {model_name}')\n",
    "print(f'model_h5 = {model_h5}')\n",
    "print(f'hist_name = {hist_name}')"
   ]
  },
  {
   "cell_type": "markdown",
   "metadata": {},
   "source": [
    "### Run the Training"
   ]
  },
  {
   "cell_type": "code",
   "execution_count": 93,
   "metadata": {},
   "outputs": [
    {
     "name": "stdout",
     "output_type": "stream",
     "text": [
      "Loaded model_sej_nn_64_16_sf_1 from ../models/sej/model_sej_nn_64_16_sf_1.h5.\n"
     ]
    }
   ],
   "source": [
    "# Attempt to load model or train on selected number of epochs\n",
    "try:\n",
    "    model_nn.load_weights(model_h5)\n",
    "    model_nn.compile(loss=loss, optimizer=optimizer, metrics=metrics, loss_weights=loss_weights)\n",
    "    hist = vartbl[hist_name]\n",
    "    print(f'Loaded {model_name} from {model_h5}.')\n",
    "except:\n",
    "    print(f'Unable to load {model_name} from {model_h5}. Fitting...')\n",
    "    hist = hist0\n",
    "    for i in range_inc(num_batches):\n",
    "        ts = datetime.datetime.now()\n",
    "        st = ts.strftime('%Y-%m-%d %H:%M:%S')\n",
    "        print(f'*** Training batch {i:3} *** {st}')\n",
    "        hist = fit_model(model=model_nn,\n",
    "                         model_name=model_name,\n",
    "                         folder=folder,\n",
    "                         ds=ds_trn, \n",
    "                         epochs=epochs_per_batch,\n",
    "                         save_freq=save_freq,\n",
    "                         prev_history = hist, \n",
    "                         batch_num=i)    \n",
    "        vartbl[hist_name] = hist\n",
    "        save_vartbl(vartbl, fname)"
   ]
  },
  {
   "cell_type": "code",
   "execution_count": 94,
   "metadata": {},
   "outputs": [
    {
     "data": {
      "image/png": "[encoded data removed]",
      "text/plain": [
       "<Figure size 1152x648 with 1 Axes>"
      ]
     },
     "metadata": {
      "needs_background": "light"
     },
     "output_type": "display_data"
    }
   ],
   "source": [
    "# Plot the loss\n",
    "fig, ax = plot_loss_hist(hist=hist, model_name=model_name, key='q_loss', baseline=q_loss_baseline)"
   ]
  },
  {
   "cell_type": "code",
   "execution_count": 95,
   "metadata": {},
   "outputs": [],
   "source": [
    "# Plot the total loss\n",
    "# fig, ax = plot_loss_hist(hist=hist, model_name=model_nn.name, key='loss')"
   ]
  },
  {
   "cell_type": "code",
   "execution_count": 96,
   "metadata": {},
   "outputs": [
    {
     "name": "stdout",
     "output_type": "stream",
     "text": [
      "35/35 [==============================] - 7s 188ms/step - loss: 1.2446e-06 - q_loss: 1.5281e-07 - v_loss: 1.3971e-07 - a_loss: 9.5163e-07 - q0_rec_loss: 1.5596e-14 - v0_rec_loss: 1.4356e-14 - H_loss: 1.0152e-13 - P_loss: 3.9335e-14 - L_loss: 1.0712e-10\n"
     ]
    },
    {
     "data": {
      "text/plain": [
       "[1.2445603130929937e-06,\n",
       " 1.528081e-07,\n",
       " 1.3970813e-07,\n",
       " 9.5163404e-07,\n",
       " 1.559638e-14,\n",
       " 1.4356488e-14,\n",
       " 1.01519975e-13,\n",
       " 3.9334682e-14,\n",
       " 1.0711654e-10]"
      ]
     },
     "execution_count": 96,
     "metadata": {},
     "output_type": "execute_result"
    }
   ],
   "source": [
    "# Evaluate the trained model on the validation data\n",
    "model_nn.evaluate(ds_val)"
   ]
  },
  {
   "cell_type": "code",
   "execution_count": null,
   "metadata": {},
   "outputs": [],
   "source": [
    "# Evaluate the trained model on the test data\n",
    "# model_nn.evaluate(ds_tst)"
   ]
  },
  {
   "cell_type": "markdown",
   "metadata": {},
   "source": [
    "### Train on Full Data Set with Perturbation Scale Factor = 2.0"
   ]
  },
  {
   "cell_type": "code",
   "execution_count": 97,
   "metadata": {},
   "outputs": [
    {
     "name": "stdout",
     "output_type": "stream",
     "text": [
      "Loaded data from ../data/sej/2569572219.pickle.\n"
     ]
    },
    {
     "data": {
      "application/vnd.jupyter.widget-view+json": {
       "model_id": "04514272bc9b497890957a1fbc1e30c3",
       "version_major": 2,
       "version_minor": 0
      },
      "text/plain": [
       "HBox(children=(IntProgress(value=0, max=4), HTML(value='')))"
      ]
     },
     "metadata": {},
     "output_type": "display_data"
    },
    {
     "name": "stdout",
     "output_type": "stream",
     "text": [
      "Loaded data from ../data/sej/3597212092.pickle.\n",
      "Loaded data from ../data/sej/1674012657.pickle.\n",
      "Loaded data from ../data/sej/3016210063.pickle.\n",
      "Loaded data from ../data/sej/3467657930.pickle.\n",
      "\n"
     ]
    }
   ],
   "source": [
    "# Build combined SEJ data sets with scale factor = 2\n",
    "scale_factor = 2.0\n",
    "\n",
    "# Data for this scale factor\n",
    "ds_trn, ds_val, ds_tst = \\\n",
    "    combine_datasets_sej(num_data_sets=num_data_sets, batch_size=batch_size, \n",
    "                         seed0=seed0, scale_factor=scale_factor)"
   ]
  },
  {
   "cell_type": "code",
   "execution_count": 98,
   "metadata": {},
   "outputs": [],
   "source": [
    "# Update data by scale factor\n",
    "data_by_factor[scale_factor] = (ds_trn, ds_val, ds_tst)"
   ]
  },
  {
   "cell_type": "code",
   "execution_count": 100,
   "metadata": {},
   "outputs": [],
   "source": [
    "# Get initial orbital elements of this dataset\n",
    "orb_elt = orb_elts0(ds_val)"
   ]
  },
  {
   "cell_type": "code",
   "execution_count": 101,
   "metadata": {},
   "outputs": [
    {
     "name": "stdout",
     "output_type": "stream",
     "text": [
      "element:  mean     :  std dev  :  min      :  max\n",
      "a1     :  1.001697 :  0.041657 :  0.856044 :  1.177283\n",
      "a2     :  5.210714 :  0.220500 :  4.471109 :  6.237769\n",
      "e1     :  0.030032 :  0.015236 :  0.000077 :  0.098521\n",
      "e2     :  0.053590 :  0.019586 :  0.001280 :  0.142165\n",
      "inc1   :  0.016115 :  0.012166 :  0.000024 :  0.074634\n",
      "inc2   :  0.026905 :  0.014575 :  0.008545 :  0.090833\n"
     ]
    }
   ],
   "source": [
    "# Summarize initial orbital elements of this dataset\n",
    "orb_elt_summary(orb_elt)"
   ]
  },
  {
   "cell_type": "code",
   "execution_count": 102,
   "metadata": {},
   "outputs": [
    {
     "name": "stdout",
     "output_type": "stream",
     "text": [
      "35/35 [==============================] - 4s 114ms/step - loss: 6.7938e-05 - q_loss: 2.0025e-05 - v_loss: 1.9968e-05 - a_loss: 2.7945e-05 - q0_rec_loss: 1.7878e-14 - v0_rec_loss: 1.6894e-14 - H_loss: 9.5447e-14 - P_loss: 3.8691e-14 - L_loss: 2.0115e-14\n"
     ]
    }
   ],
   "source": [
    "# Evaluate the NN model on the full validation data; save as baseline\n",
    "hist0, q_loss_baseline = baseline_loss(model_kj, ds_val)\n",
    "baseline_tbl[scale_factor] = q_loss_baseline"
   ]
  },
  {
   "cell_type": "code",
   "execution_count": 103,
   "metadata": {},
   "outputs": [
    {
     "name": "stdout",
     "output_type": "stream",
     "text": [
      "Training for 1 batches of 5 epochs each.\n",
      "model_name = model_sej_nn_64_16_sf_2\n",
      "model_h5 = ../models/sej/model_sej_nn_64_16_sf_2.h5\n",
      "hist_name = hist_sej_nn_64_16_sf_2\n"
     ]
    }
   ],
   "source": [
    "# Set up training - full data, scale factor = 2\n",
    "\n",
    "# Number of training epochs\n",
    "num_batches=1\n",
    "epochs_per_batch = 5\n",
    "\n",
    "# Integer scale factor\n",
    "sfi = int(scale_factor)\n",
    "\n",
    "# Name of this model including scale factor\n",
    "model_name = f'model_{model_code}_nn_{suffix}_sf_{sfi}'\n",
    "\n",
    "# H5 file with model weights\n",
    "model_h5 = f'../models/{folder}/{model_name}.h5'\n",
    "# Name of the loss history in vartbl\n",
    "hist_name = model_name.replace('model_', 'hist_')\n",
    "\n",
    "# Status\n",
    "print(f'Training for {num_batches} batches of {epochs_per_batch} epochs each.')\n",
    "print(f'model_name = {model_name}')\n",
    "print(f'model_h5 = {model_h5}')\n",
    "print(f'hist_name = {hist_name}')"
   ]
  },
  {
   "cell_type": "code",
   "execution_count": 104,
   "metadata": {},
   "outputs": [
    {
     "name": "stdout",
     "output_type": "stream",
     "text": [
      "Loaded model_sej_nn_64_16_sf_2 from ../models/sej/model_sej_nn_64_16_sf_2.h5.\n"
     ]
    }
   ],
   "source": [
    "# Attempt to load model or train on selected number of epochs\n",
    "try:\n",
    "    model_nn.load_weights(model_h5)\n",
    "    model_nn.compile(loss=loss, optimizer=optimizer, metrics=metrics, loss_weights=loss_weights)\n",
    "    hist = vartbl[hist_name]\n",
    "    print(f'Loaded {model_name} from {model_h5}.')\n",
    "except:\n",
    "    print(f'Unable to load {model_name} from {model_h5}. Fitting...')\n",
    "    hist = hist0\n",
    "    for i in range_inc(num_batches):\n",
    "        ts = datetime.datetime.now()\n",
    "        st = ts.strftime('%Y-%m-%d %H:%M:%S')\n",
    "        print(f'*** Training batch {i:3} *** {st}')\n",
    "        hist = fit_model(model=model_nn,\n",
    "                         model_name=model_name,\n",
    "                         folder=folder,\n",
    "                         ds=ds_trn, \n",
    "                         epochs=epochs_per_batch,\n",
    "                         save_freq=save_freq,\n",
    "                         prev_history = hist, \n",
    "                         batch_num=i)\n",
    "    \n",
    "        vartbl[hist_name] = hist\n",
    "        save_vartbl(vartbl, fname)"
   ]
  },
  {
   "cell_type": "code",
   "execution_count": 105,
   "metadata": {},
   "outputs": [
    {
     "name": "stdout",
     "output_type": "stream",
     "text": [
      "35/35 [==============================] - 6s 172ms/step - loss: 1.1457e-06 - q_loss: 1.8752e-07 - v_loss: 1.7111e-07 - a_loss: 7.8640e-07 - q0_rec_loss: 1.7878e-14 - v0_rec_loss: 1.6894e-14 - H_loss: 1.4454e-10 - P_loss: 3.9338e-14 - L_loss: 1.9097e-10\n"
     ]
    },
    {
     "data": {
      "text/plain": [
       "[1.1457172506977387e-06,\n",
       " 1.8752088e-07,\n",
       " 1.711052e-07,\n",
       " 7.8639977e-07,\n",
       " 1.7877672e-14,\n",
       " 1.6894065e-14,\n",
       " 1.4453835e-10,\n",
       " 3.933827e-14,\n",
       " 1.909694e-10]"
      ]
     },
     "execution_count": 105,
     "metadata": {},
     "output_type": "execute_result"
    }
   ],
   "source": [
    "# Evaluate the trained model on the validation data\n",
    "model_nn.evaluate(ds_val)"
   ]
  },
  {
   "cell_type": "code",
   "execution_count": 106,
   "metadata": {},
   "outputs": [
    {
     "data": {
      "image/png": "[encoded data removed]",
      "text/plain": [
       "<Figure size 1152x648 with 1 Axes>"
      ]
     },
     "metadata": {
      "needs_background": "light"
     },
     "output_type": "display_data"
    }
   ],
   "source": [
    "# Plot the loss\n",
    "fig, ax = plot_loss_hist(hist=hist, model_name=model_name, key='q_loss', baseline=q_loss_baseline)"
   ]
  },
  {
   "cell_type": "markdown",
   "metadata": {},
   "source": [
    "### Train on Full Data Set with Perturbation Scale Factor = 4.0"
   ]
  },
  {
   "cell_type": "code",
   "execution_count": 107,
   "metadata": {},
   "outputs": [
    {
     "name": "stdout",
     "output_type": "stream",
     "text": [
      "Loaded data from ../data/sej/3897864482.pickle.\n"
     ]
    },
    {
     "data": {
      "application/vnd.jupyter.widget-view+json": {
       "model_id": "8e064e07f6e7410586e98d7b3f7a1011",
       "version_major": 2,
       "version_minor": 0
      },
      "text/plain": [
       "HBox(children=(IntProgress(value=0, max=4), HTML(value='')))"
      ]
     },
     "metadata": {},
     "output_type": "display_data"
    },
    {
     "name": "stdout",
     "output_type": "stream",
     "text": [
      "Loaded data from ../data/sej/2803181541.pickle.\n",
      "Loaded data from ../data/sej/314268072.pickle.\n",
      "Loaded data from ../data/sej/3267070166.pickle.\n",
      "Loaded data from ../data/sej/3217849491.pickle.\n",
      "\n"
     ]
    }
   ],
   "source": [
    "# Build combined SEJ data sets with scale factor = 4\n",
    "scale_factor = 4.0\n",
    "\n",
    "# Data for this scale factor\n",
    "ds_trn, ds_val, ds_tst = \\\n",
    "    combine_datasets_sej(num_data_sets=num_data_sets, batch_size=batch_size, \n",
    "                         seed0=seed0, scale_factor=scale_factor)"
   ]
  },
  {
   "cell_type": "code",
   "execution_count": 108,
   "metadata": {},
   "outputs": [],
   "source": [
    "# Update data by scale factor\n",
    "data_by_factor[scale_factor] = (ds_trn, ds_val, ds_tst)"
   ]
  },
  {
   "cell_type": "code",
   "execution_count": 110,
   "metadata": {},
   "outputs": [],
   "source": [
    "# Get initial orbital elements of this dataset\n",
    "orb_elt = orb_elts0(ds_val)"
   ]
  },
  {
   "cell_type": "code",
   "execution_count": 111,
   "metadata": {},
   "outputs": [
    {
     "name": "stdout",
     "output_type": "stream",
     "text": [
      "element:  mean     :  std dev  :  min      :  max\n",
      "a1     :  1.006847 :  0.083922 :  0.732513 :  1.390527\n",
      "a2     :  5.235960 :  0.443665 :  3.858552 :  7.521660\n",
      "e1     :  0.054043 :  0.027857 :  0.000743 :  0.180544\n",
      "e2     :  0.069416 :  0.033047 :  0.001912 :  0.234943\n",
      "inc1   :  0.032240 :  0.024345 :  0.000050 :  0.149305\n",
      "inc2   :  0.038946 :  0.025572 :  0.007735 :  0.161283\n"
     ]
    }
   ],
   "source": [
    "# Summarize initial orbital elements of this dataset\n",
    "orb_elt_summary(orb_elt)"
   ]
  },
  {
   "cell_type": "code",
   "execution_count": 112,
   "metadata": {},
   "outputs": [
    {
     "name": "stdout",
     "output_type": "stream",
     "text": [
      "35/35 [==============================] - 4s 120ms/step - loss: 7.1569e-05 - q_loss: 2.1468e-05 - v_loss: 2.1257e-05 - a_loss: 2.8844e-05 - q0_rec_loss: 2.1866e-14 - v0_rec_loss: 2.0552e-14 - H_loss: 1.0287e-13 - P_loss: 3.8396e-14 - L_loss: 2.0293e-14\n"
     ]
    }
   ],
   "source": [
    "# Evaluate the NN model on the full validation data; save as baseline\n",
    "hist0, q_loss_baseline = baseline_loss(model_kj, ds_val)"
   ]
  },
  {
   "cell_type": "code",
   "execution_count": 113,
   "metadata": {},
   "outputs": [
    {
     "name": "stdout",
     "output_type": "stream",
     "text": [
      "Training for 1 batches of 5 epochs each.\n",
      "model_name = model_sej_nn_64_16_sf_4\n",
      "model_h5 = ../models/sej/model_sej_nn_64_16_sf_4.h5\n",
      "hist_name = hist_sej_nn_64_16_sf_4\n"
     ]
    }
   ],
   "source": [
    "# Set up training - full data, scale factor = 4\n",
    "\n",
    "# Number of training epochs\n",
    "num_batches = 1\n",
    "epochs_per_batch = 5\n",
    "\n",
    "# Integer scale factor\n",
    "sfi = int(scale_factor)\n",
    "\n",
    "# Name of this model including scale factor\n",
    "model_name = f'model_{model_code}_nn_{suffix}_sf_{sfi}'\n",
    "\n",
    "# H5 file with model weights\n",
    "model_h5 = f'../models/{folder}/{model_name}.h5'\n",
    "# Name of the loss history in vartbl\n",
    "hist_name = model_name.replace('model_', 'hist_')\n",
    "\n",
    "# Status\n",
    "print(f'Training for {num_batches} batches of {epochs_per_batch} epochs each.')\n",
    "print(f'model_name = {model_name}')\n",
    "print(f'model_h5 = {model_h5}')\n",
    "print(f'hist_name = {hist_name}')"
   ]
  },
  {
   "cell_type": "code",
   "execution_count": 114,
   "metadata": {},
   "outputs": [
    {
     "name": "stdout",
     "output_type": "stream",
     "text": [
      "Loaded model_sej_nn_64_16_sf_4 from ../models/sej/model_sej_nn_64_16_sf_4.h5.\n"
     ]
    }
   ],
   "source": [
    "# Attempt to load model or train on selected number of epochs\n",
    "try:\n",
    "    model_nn.load_weights(model_h5)\n",
    "    model_nn.compile(loss=loss, optimizer=optimizer, metrics=metrics, loss_weights=loss_weights)\n",
    "    hist = vartbl[hist_name]\n",
    "    print(f'Loaded {model_name} from {model_h5}.')\n",
    "except:\n",
    "    print(f'Unable to load {model_name} from {model_h5}. Fitting...')\n",
    "    hist = hist0\n",
    "    for i in range_inc(num_batches):\n",
    "        ts = datetime.datetime.now()\n",
    "        st = ts.strftime('%Y-%m-%d %H:%M:%S')\n",
    "        print(f'*** Training batch {i:3} *** {st}')\n",
    "        hist = fit_model(model=model_nn,\n",
    "                         model_name=model_name,\n",
    "                         folder=folder,\n",
    "                         ds=ds_trn, \n",
    "                         epochs=epochs_per_batch,\n",
    "                         save_freq=save_freq,\n",
    "                         prev_history = hist, \n",
    "                         batch_num=i)    \n",
    "        vartbl[hist_name] = hist\n",
    "        save_vartbl(vartbl, fname)"
   ]
  },
  {
   "cell_type": "code",
   "execution_count": 115,
   "metadata": {},
   "outputs": [
    {
     "name": "stdout",
     "output_type": "stream",
     "text": [
      "35/35 [==============================] - 7s 199ms/step - loss: 1.7530e-06 - q_loss: 4.3012e-07 - v_loss: 3.6151e-07 - a_loss: 9.6029e-07 - q0_rec_loss: 2.1866e-14 - v0_rec_loss: 2.0552e-14 - H_loss: 3.7173e-12 - P_loss: 3.9111e-14 - L_loss: 6.7190e-10\n"
     ]
    },
    {
     "data": {
      "text/plain": [
       "[1.7530306357522411e-06,\n",
       " 4.3012267e-07,\n",
       " 3.6151303e-07,\n",
       " 9.602859e-07,\n",
       " 2.1866459e-14,\n",
       " 2.0551647e-14,\n",
       " 3.717316e-12,\n",
       " 3.9111336e-14,\n",
       " 6.719033e-10]"
      ]
     },
     "execution_count": 115,
     "metadata": {},
     "output_type": "execute_result"
    }
   ],
   "source": [
    "# Evaluate the trained model on the validation data\n",
    "model_nn.evaluate(ds_val)"
   ]
  },
  {
   "cell_type": "code",
   "execution_count": 116,
   "metadata": {},
   "outputs": [
    {
     "data": {
      "image/png": "[encoded data removed]",
      "text/plain": [
       "<Figure size 1152x648 with 1 Axes>"
      ]
     },
     "metadata": {
      "needs_background": "light"
     },
     "output_type": "display_data"
    }
   ],
   "source": [
    "# Plot the loss\n",
    "fig, ax = plot_loss_hist(hist=hist, model_name=model_name, key='q_loss', baseline=q_loss_baseline)"
   ]
  },
  {
   "cell_type": "markdown",
   "metadata": {},
   "source": [
    "### Train on Full Data Set with Perturbation Scale Factor = 8.0"
   ]
  },
  {
   "cell_type": "code",
   "execution_count": 117,
   "metadata": {},
   "outputs": [
    {
     "name": "stdout",
     "output_type": "stream",
     "text": [
      "Loaded data from ../data/sej/179096976.pickle.\n"
     ]
    },
    {
     "data": {
      "application/vnd.jupyter.widget-view+json": {
       "model_id": "8dd687d184a44c99a8b23e57379d0d67",
       "version_major": 2,
       "version_minor": 0
      },
      "text/plain": [
       "HBox(children=(IntProgress(value=0, max=4), HTML(value='')))"
      ]
     },
     "metadata": {},
     "output_type": "display_data"
    },
    {
     "name": "stdout",
     "output_type": "stream",
     "text": [
      "Loaded data from ../data/sej/1173183319.pickle.\n",
      "Loaded data from ../data/sej/4030932250.pickle.\n",
      "Loaded data from ../data/sej/541324388.pickle.\n",
      "Loaded data from ../data/sej/1563688993.pickle.\n",
      "\n"
     ]
    }
   ],
   "source": [
    "# Build combined SEJ data sets with scale factor = 8\n",
    "scale_factor = 8.0\n",
    "\n",
    "# Data for this scale factor\n",
    "ds_trn, ds_val, ds_tst = \\\n",
    "    combine_datasets_sej(num_data_sets=num_data_sets, batch_size=batch_size, \n",
    "                         seed0=seed0, scale_factor=scale_factor)"
   ]
  },
  {
   "cell_type": "code",
   "execution_count": 118,
   "metadata": {},
   "outputs": [],
   "source": [
    "# Update data by scale factor\n",
    "data_by_factor[scale_factor] = (ds_trn, ds_val, ds_tst)"
   ]
  },
  {
   "cell_type": "code",
   "execution_count": 146,
   "metadata": {},
   "outputs": [],
   "source": [
    "# Get initial orbital elements of this dataset\n",
    "orb_elt = orb_elts0(ds_val)"
   ]
  },
  {
   "cell_type": "code",
   "execution_count": 147,
   "metadata": {},
   "outputs": [
    {
     "name": "stdout",
     "output_type": "stream",
     "text": [
      "element:  mean     :  std dev  :  min      :  max\n",
      "a1     :  1.027906 :  0.172929 :  0.532019 :  1.979255\n",
      "a2     :  5.344793 :  0.913103 :  2.880873 : 11.306460\n",
      "e1     :  0.104769 :  0.053988 :  0.000819 :  0.345069\n",
      "e2     :  0.114690 :  0.057800 :  0.000218 :  0.419079\n",
      "inc1   :  0.064578 :  0.048851 :  0.000101 :  0.296592\n",
      "inc2   :  0.068672 :  0.049087 :  0.006435 :  0.322143\n"
     ]
    }
   ],
   "source": [
    "# Summarize initial orbital elements of this dataset\n",
    "orb_elt_summary(orb_elt)"
   ]
  },
  {
   "cell_type": "code",
   "execution_count": 148,
   "metadata": {},
   "outputs": [
    {
     "name": "stdout",
     "output_type": "stream",
     "text": [
      "35/35 [==============================] - 5s 129ms/step - loss: 7.1650e-04 - q_loss: 2.2443e-04 - v_loss: 2.2542e-04 - a_loss: 2.6665e-04 - q0_rec_loss: 2.4671e-14 - v0_rec_loss: 2.4154e-14 - H_loss: 1.2591e-13 - P_loss: 3.7284e-14 - L_loss: 2.0646e-14\n"
     ]
    }
   ],
   "source": [
    "# Evaluate the NN model on the full validation data; save as baseline\n",
    "hist0, q_loss_baseline = baseline_loss(model_kj, ds_val)\n",
    "baseline_tbl[scale_factor] = q_loss_baseline"
   ]
  },
  {
   "cell_type": "code",
   "execution_count": 149,
   "metadata": {},
   "outputs": [
    {
     "name": "stdout",
     "output_type": "stream",
     "text": [
      "35/35 [==============================] - 5s 130ms/step - loss: 0.0022 - q_loss: 4.9761e-04 - v_loss: 5.5041e-04 - a_loss: 0.0011 - q0_rec_loss: 2.4671e-14 - v0_rec_loss: 2.4154e-14 - H_loss: 2.4864e-08 - P_loss: 3.7994e-14 - L_loss: 1.5458e-09\n"
     ]
    },
    {
     "data": {
      "text/plain": [
       "[0.0021935018976884228,\n",
       " 0.00049760944,\n",
       " 0.00055041205,\n",
       " 0.0011454534,\n",
       " 2.4670629e-14,\n",
       " 2.4153966e-14,\n",
       " 2.4863782e-08,\n",
       " 3.7993968e-14,\n",
       " 1.5457805e-09]"
      ]
     },
     "execution_count": 149,
     "metadata": {},
     "output_type": "execute_result"
    }
   ],
   "source": [
    "model_nn.evaluate(ds_val)"
   ]
  },
  {
   "cell_type": "code",
   "execution_count": 154,
   "metadata": {},
   "outputs": [
    {
     "name": "stdout",
     "output_type": "stream",
     "text": [
      "Training for 1 batches of 5 epochs each.\n",
      "model_name = model_sej_nn_64_16_sf_8\n",
      "model_h5 = ../models/sej/model_sej_nn_64_16_sf_8.h5\n",
      "hist_name = hist_sej_nn_64_16_sf_8\n"
     ]
    }
   ],
   "source": [
    "# Set up training - full data, scale factor = 8\n",
    "\n",
    "# Number of training epochs\n",
    "num_batches=1\n",
    "epochs_per_batch = 5\n",
    "\n",
    "# Integer scale factor\n",
    "sfi = int(scale_factor)\n",
    "\n",
    "# Name of this model including scale factor\n",
    "model_name = f'model_{model_code}_nn_{suffix}_sf_{sfi}'\n",
    "\n",
    "# H5 file with model weights\n",
    "model_h5 = f'../models/{folder}/{model_name}.h5'\n",
    "# Name of the loss history in vartbl\n",
    "hist_name = model_name.replace('model_', 'hist_')\n",
    "\n",
    "# Status\n",
    "print(f'Training for {num_batches} batches of {epochs_per_batch} epochs each.')\n",
    "print(f'model_name = {model_name}')\n",
    "print(f'model_h5 = {model_h5}')\n",
    "print(f'hist_name = {hist_name}')"
   ]
  },
  {
   "cell_type": "code",
   "execution_count": 155,
   "metadata": {},
   "outputs": [],
   "source": [
    "# Use slow learning rate\n",
    "optimizer_slow = keras.optimizers.Adam(learning_rate=1.0E-8)\n",
    "model_nn.compile(loss=loss, optimizer=optimizer_slow, metrics=metrics, loss_weights=loss_weights)"
   ]
  },
  {
   "cell_type": "code",
   "execution_count": 156,
   "metadata": {},
   "outputs": [
    {
     "name": "stdout",
     "output_type": "stream",
     "text": [
      "Unable to load model_sej_nn_64_16_sf_8 from ../models/sej/model_sej_nn_64_16_sf_8.h5. Fitting...\n",
      "*** Training batch   1 *** 2019-08-23 15:39:54\n",
      "Epoch 1/5\n",
      "194/195 [============================>.] - ETA: 0s - loss: 0.0014 - q_loss: 2.9339e-04 - v_loss: 3.4111e-04 - a_loss: 7.2621e-04 - q0_rec_loss: 2.5069e-14 - v0_rec_loss: 2.4218e-14 - H_loss: 2.2148e-08 - P_loss: 3.7933e-14 - L_loss: 7.1933e-10\n",
      "Epoch 0001; loss 1.36e-03; elapsed 0:01:06\n",
      "195/195 [==============================] - 55s 282ms/step - loss: 0.0014 - q_loss: 2.9455e-04 - v_loss: 3.4194e-04 - a_loss: 7.2664e-04 - q0_rec_loss: 2.5061e-14 - v0_rec_loss: 2.4211e-14 - H_loss: 2.2144e-08 - P_loss: 3.7930e-14 - L_loss: 7.1803e-10\n",
      "Epoch 2/5\n",
      "194/195 [============================>.] - ETA: 0s - loss: 9.5051e-04 - q_loss: 2.1605e-04 - v_loss: 2.3380e-04 - a_loss: 5.0063e-04 - q0_rec_loss: 2.5069e-14 - v0_rec_loss: 2.4218e-14 - H_loss: 2.0917e-08 - P_loss: 3.7939e-14 - L_loss: 5.0362e-10\n",
      "Epoch 0002; loss 9.54e-04; elapsed 0:02:00\n",
      "195/195 [==============================] - 44s 225ms/step - loss: 9.5432e-04 - q_loss: 2.1746e-04 - v_loss: 2.3497e-04 - a_loss: 5.0188e-04 - q0_rec_loss: 2.5061e-14 - v0_rec_loss: 2.4211e-14 - H_loss: 2.0908e-08 - P_loss: 3.7936e-14 - L_loss: 5.0346e-10\n",
      "Epoch 3/5\n",
      "194/195 [============================>.] - ETA: 0s - loss: 8.8258e-04 - q_loss: 2.0280e-04 - v_loss: 2.1341e-04 - a_loss: 4.6634e-04 - q0_rec_loss: 2.5069e-14 - v0_rec_loss: 2.4218e-14 - H_loss: 1.8773e-08 - P_loss: 3.7931e-14 - L_loss: 4.8870e-10\n",
      "Epoch 0003; loss 8.87e-04; elapsed 0:02:54\n",
      "195/195 [==============================] - 44s 227ms/step - loss: 8.8661e-04 - q_loss: 2.0424e-04 - v_loss: 2.1465e-04 - a_loss: 4.6770e-04 - q0_rec_loss: 2.5061e-14 - v0_rec_loss: 2.4211e-14 - H_loss: 1.8767e-08 - P_loss: 3.7928e-14 - L_loss: 4.8839e-10\n",
      "Epoch 4/5\n",
      "194/195 [============================>.] - ETA: 0s - loss: 8.6127e-04 - q_loss: 1.9849e-04 - v_loss: 2.0874e-04 - a_loss: 4.5402e-04 - q0_rec_loss: 2.5069e-14 - v0_rec_loss: 2.4218e-14 - H_loss: 1.7603e-08 - P_loss: 3.7945e-14 - L_loss: 4.3980e-10\n",
      "Epoch 0004; loss 8.65e-04; elapsed 0:03:48\n",
      "195/195 [==============================] - 43s 220ms/step - loss: 8.6531e-04 - q_loss: 1.9993e-04 - v_loss: 2.0998e-04 - a_loss: 4.5538e-04 - q0_rec_loss: 2.5061e-14 - v0_rec_loss: 2.4211e-14 - H_loss: 1.7597e-08 - P_loss: 3.7943e-14 - L_loss: 4.3953e-10\n",
      "Epoch 5/5\n",
      "194/195 [============================>.] - ETA: 0s - loss: 8.4322e-04 - q_loss: 1.9518e-04 - v_loss: 2.0561e-04 - a_loss: 4.4241e-04 - q0_rec_loss: 2.5069e-14 - v0_rec_loss: 2.4218e-14 - H_loss: 1.6708e-08 - P_loss: 3.7942e-14 - L_loss: 3.9444e-10\n",
      "Epoch 0005; loss 8.47e-04; elapsed 0:04:42\n",
      "195/195 [==============================] - 44s 224ms/step - loss: 8.4725e-04 - q_loss: 1.9662e-04 - v_loss: 2.0685e-04 - a_loss: 4.4376e-04 - q0_rec_loss: 2.5061e-14 - v0_rec_loss: 2.4211e-14 - H_loss: 1.6702e-08 - P_loss: 3.7939e-14 - L_loss: 3.9420e-10\n"
     ]
    }
   ],
   "source": [
    "# Attempt to load model or train on selected number of epochs\n",
    "try:\n",
    "    model_nn.load_weights(model_h5)\n",
    "    model_nn.compile(loss=loss, optimizer=optimizer, metrics=metrics, loss_weights=loss_weights)\n",
    "    hist = vartbl[hist_name]\n",
    "    print(f'Loaded {model_name} from {model_h5}.')\n",
    "except:\n",
    "    print(f'Unable to load {model_name} from {model_h5}. Fitting...')\n",
    "    hist = hist0\n",
    "    for i in range_inc(num_batches):\n",
    "        ts = datetime.datetime.now()\n",
    "        st = ts.strftime('%Y-%m-%d %H:%M:%S')\n",
    "        print(f'*** Training batch {i:3} *** {st}')\n",
    "        hist = fit_model(model=model_nn,\n",
    "                         model_name=model_name,\n",
    "                         folder=folder,\n",
    "                         ds=ds_trn, \n",
    "                         epochs=epochs_per_batch,\n",
    "                         save_freq=save_freq,\n",
    "                         prev_history = hist, \n",
    "                         batch_num=i)   \n",
    "        vartbl[hist_name] = hist\n",
    "        save_vartbl(vartbl, fname)"
   ]
  },
  {
   "cell_type": "code",
   "execution_count": 125,
   "metadata": {},
   "outputs": [
    {
     "name": "stdout",
     "output_type": "stream",
     "text": [
      "35/35 [==============================] - 6s 182ms/step - loss: 6.3306e-04 - q_loss: 1.9872e-04 - v_loss: 1.9979e-04 - a_loss: 2.3456e-04 - q0_rec_loss: 2.4671e-14 - v0_rec_loss: 2.4154e-14 - H_loss: 3.3488e-11 - P_loss: 3.7957e-14 - L_loss: 7.5080e-11\n"
     ]
    },
    {
     "data": {
      "text/plain": [
       "[0.0006330637446548541,\n",
       " 0.0001987196,\n",
       " 0.00019978744,\n",
       " 0.00023455615,\n",
       " 2.4670629e-14,\n",
       " 2.4153966e-14,\n",
       " 3.348845e-11,\n",
       " 3.795687e-14,\n",
       " 7.508005e-11]"
      ]
     },
     "execution_count": 125,
     "metadata": {},
     "output_type": "execute_result"
    }
   ],
   "source": [
    "# Evaluate the trained model on the validation data\n",
    "model_nn.evaluate(ds_val)"
   ]
  },
  {
   "cell_type": "code",
   "execution_count": 126,
   "metadata": {},
   "outputs": [
    {
     "data": {
      "image/png": "[encoded data removed]",
      "text/plain": [
       "<Figure size 1152x648 with 1 Axes>"
      ]
     },
     "metadata": {
      "needs_background": "light"
     },
     "output_type": "display_data"
    }
   ],
   "source": [
    "# Plot the loss\n",
    "fig, ax = plot_loss_hist(hist=hist, model_name=model_name, key='q_loss', baseline=q_loss_baseline)"
   ]
  },
  {
   "cell_type": "markdown",
   "metadata": {},
   "source": [
    "### Train on Full Data Set with Perturbation Scale Factor = 16.0"
   ]
  },
  {
   "cell_type": "code",
   "execution_count": 127,
   "metadata": {},
   "outputs": [
    {
     "name": "stdout",
     "output_type": "stream",
     "text": [
      "Loaded data from ../data/sej/3424916289.pickle.\n"
     ]
    },
    {
     "data": {
      "application/vnd.jupyter.widget-view+json": {
       "model_id": "8ae1a744f3504e62a90a86d8b0b47adf",
       "version_major": 2,
       "version_minor": 0
      },
      "text/plain": [
       "HBox(children=(IntProgress(value=0, max=4), HTML(value='')))"
      ]
     },
     "metadata": {},
     "output_type": "display_data"
    },
    {
     "name": "stdout",
     "output_type": "stream",
     "text": [
      "Loaded data from ../data/sej/2204468614.pickle.\n",
      "Loaded data from ../data/sej/919337931.pickle.\n",
      "Loaded data from ../data/sej/3872074421.pickle.\n",
      "Loaded data from ../data/sej/2612846320.pickle.\n",
      "\n"
     ]
    }
   ],
   "source": [
    "# Build combined SEJ data sets with scale factor = 16\n",
    "scale_factor = 16.0\n",
    "\n",
    "# Data for this scale factor\n",
    "ds_trn, ds_val, ds_tst = \\\n",
    "    combine_datasets_sej(num_data_sets=num_data_sets, batch_size=batch_size, \n",
    "                         seed0=seed0, scale_factor=scale_factor)"
   ]
  },
  {
   "cell_type": "code",
   "execution_count": 128,
   "metadata": {},
   "outputs": [],
   "source": [
    "# Update data by scale factor\n",
    "data_by_factor[scale_factor] = (ds_trn, ds_val, ds_tst)"
   ]
  },
  {
   "cell_type": "code",
   "execution_count": 129,
   "metadata": {},
   "outputs": [],
   "source": [
    "# Get initial orbital elements of this dataset\n",
    "orb_elt = orb_elts0(ds_val)"
   ]
  },
  {
   "cell_type": "code",
   "execution_count": 130,
   "metadata": {},
   "outputs": [
    {
     "name": "stdout",
     "output_type": "stream",
     "text": [
      "element:  mean     :  std dev  :  min      :  max\n",
      "a1     :  1.120197 :  0.397048 :  0.258224 :  4.967225\n",
      "a2     :  5.836369 :  2.113485 :  1.501714 : 37.963409\n",
      "e1     :  0.206312 :  0.105575 :  0.001906 :  0.689176\n",
      "e2     :  0.214678 :  0.108590 :  0.002498 :  0.783685\n",
      "inc1   :  0.130050 :  0.099360 :  0.000207 :  0.751228\n",
      "inc2   :  0.132906 :  0.099254 :  0.002371 :  0.716278\n"
     ]
    }
   ],
   "source": [
    "# Summarize initial orbital elements of this dataset\n",
    "orb_elt_summary(orb_elt)"
   ]
  },
  {
   "cell_type": "code",
   "execution_count": 131,
   "metadata": {},
   "outputs": [
    {
     "name": "stdout",
     "output_type": "stream",
     "text": [
      "35/35 [==============================] - 4s 118ms/step - loss: 0.0652 - q_loss: 0.0170 - v_loss: 0.0180 - a_loss: 0.0302 - q0_rec_loss: 2.7136e-14 - v0_rec_loss: 2.7719e-14 - H_loss: 8.9815e-13 - P_loss: 3.5947e-14 - L_loss: 2.1739e-14\n"
     ]
    }
   ],
   "source": [
    "# Evaluate the NN model on the full validation data; save as baseline\n",
    "hist0, q_loss_baseline = baseline_loss(model_kj, ds_val)\n",
    "baseline_tbl[scale_factor] = q_loss_baseline"
   ]
  },
  {
   "cell_type": "code",
   "execution_count": 136,
   "metadata": {},
   "outputs": [
    {
     "name": "stdout",
     "output_type": "stream",
     "text": [
      "Training for 1 batches of 5 epochs each.\n",
      "model_name = model_sej_nn_64_16_sf_16\n",
      "model_h5 = ../models/sej/model_sej_nn_64_16_sf_16.h5\n",
      "hist_name = hist_sej_nn_64_16_sf_16\n"
     ]
    }
   ],
   "source": [
    "# Set up training - full data, scale factor = 16\n",
    "\n",
    "# Number of training epochs\n",
    "num_batches=1\n",
    "epochs_per_batch = 5\n",
    "\n",
    "# Integer scale factor\n",
    "sfi = int(scale_factor)\n",
    "\n",
    "# Name of this model including scale factor\n",
    "model_name = f'model_{model_code}_nn_{suffix}_sf_{sfi}'\n",
    "\n",
    "# H5 file with model weights\n",
    "model_h5 = f'../models/{folder}/{model_name}.h5'\n",
    "# Name of the loss history in vartbl\n",
    "hist_name = model_name.replace('model_', 'hist_')\n",
    "\n",
    "# Status\n",
    "print(f'Training for {num_batches} batches of {epochs_per_batch} epochs each.')\n",
    "print(f'model_name = {model_name}')\n",
    "print(f'model_h5 = {model_h5}')\n",
    "print(f'hist_name = {hist_name}')"
   ]
  },
  {
   "cell_type": "code",
   "execution_count": 137,
   "metadata": {},
   "outputs": [
    {
     "name": "stdout",
     "output_type": "stream",
     "text": [
      "Unable to load model_sej_nn_64_16_sf_16 from ../models/sej/model_sej_nn_64_16_sf_16.h5. Fitting...\n",
      "*** Training batch   1 *** 2019-08-23 14:54:18\n",
      "Epoch 1/5\n",
      "194/195 [============================>.] - ETA: 0s - loss: 0.0587 - q_loss: 0.0181 - v_loss: 0.0175 - a_loss: 0.0231 - q0_rec_loss: 2.7172e-14 - v0_rec_loss: 2.7676e-14 - H_loss: 9.7941e-08 - P_loss: 3.6452e-14 - L_loss: 1.2724e-08\n",
      "Epoch 0001; loss 5.87e-02; elapsed 0:01:01\n",
      "195/195 [==============================] - 51s 263ms/step - loss: 0.0587 - q_loss: 0.0181 - v_loss: 0.0175 - a_loss: 0.0231 - q0_rec_loss: 2.7176e-14 - v0_rec_loss: 2.7690e-14 - H_loss: 9.7944e-08 - P_loss: 3.6447e-14 - L_loss: 1.2697e-08\n",
      "Epoch 2/5\n",
      "194/195 [============================>.] - ETA: 0s - loss: 0.0587 - q_loss: 0.0181 - v_loss: 0.0174 - a_loss: 0.0231 - q0_rec_loss: 2.7172e-14 - v0_rec_loss: 2.7676e-14 - H_loss: 9.6670e-08 - P_loss: 3.6472e-14 - L_loss: 1.1859e-08\n",
      "Epoch 0002; loss 5.87e-02; elapsed 0:01:54\n",
      "195/195 [==============================] - 43s 219ms/step - loss: 0.0587 - q_loss: 0.0182 - v_loss: 0.0175 - a_loss: 0.0231 - q0_rec_loss: 2.7176e-14 - v0_rec_loss: 2.7690e-14 - H_loss: 9.6675e-08 - P_loss: 3.6466e-14 - L_loss: 1.1838e-08\n",
      "Epoch 3/5\n",
      "194/195 [============================>.] - ETA: 0s - loss: 0.0586 - q_loss: 0.0182 - v_loss: 0.0174 - a_loss: 0.0230 - q0_rec_loss: 2.7172e-14 - v0_rec_loss: 2.7676e-14 - H_loss: 9.7063e-08 - P_loss: 3.6462e-14 - L_loss: 1.2169e-08\n",
      "Epoch 0003; loss 5.86e-02; elapsed 0:02:45\n",
      "195/195 [==============================] - 42s 215ms/step - loss: 0.0586 - q_loss: 0.0182 - v_loss: 0.0174 - a_loss: 0.0230 - q0_rec_loss: 2.7176e-14 - v0_rec_loss: 2.7690e-14 - H_loss: 9.7061e-08 - P_loss: 3.6456e-14 - L_loss: 1.2148e-08\n",
      "Epoch 4/5\n",
      "194/195 [============================>.] - ETA: 0s - loss: 0.0585 - q_loss: 0.0182 - v_loss: 0.0174 - a_loss: 0.0229 - q0_rec_loss: 2.7172e-14 - v0_rec_loss: 2.7676e-14 - H_loss: 9.7110e-08 - P_loss: 3.6448e-14 - L_loss: 1.2421e-08\n",
      "Epoch 0004; loss 5.86e-02; elapsed 0:03:37\n",
      "195/195 [==============================] - 42s 214ms/step - loss: 0.0586 - q_loss: 0.0182 - v_loss: 0.0174 - a_loss: 0.0229 - q0_rec_loss: 2.7176e-14 - v0_rec_loss: 2.7690e-14 - H_loss: 9.7101e-08 - P_loss: 3.6443e-14 - L_loss: 1.2400e-08\n",
      "Epoch 5/5\n",
      "194/195 [============================>.] - ETA: 0s - loss: 0.0585 - q_loss: 0.0182 - v_loss: 0.0174 - a_loss: 0.0229 - q0_rec_loss: 2.7172e-14 - v0_rec_loss: 2.7676e-14 - H_loss: 9.6914e-08 - P_loss: 3.6467e-14 - L_loss: 1.2658e-08\n",
      "Epoch 0005; loss 5.85e-02; elapsed 0:04:28\n",
      "195/195 [==============================] - 42s 214ms/step - loss: 0.0585 - q_loss: 0.0182 - v_loss: 0.0174 - a_loss: 0.0229 - q0_rec_loss: 2.7176e-14 - v0_rec_loss: 2.7690e-14 - H_loss: 9.6899e-08 - P_loss: 3.6461e-14 - L_loss: 1.2637e-08\n"
     ]
    }
   ],
   "source": [
    "# Attempt to load model or train on selected number of epochs\n",
    "try:\n",
    "    model_nn.load_weights(model_h5)\n",
    "    model_nn.compile(loss=loss, optimizer=optimizer, metrics=metrics, loss_weights=loss_weights)\n",
    "    hist = vartbl[hist_name]\n",
    "    print(f'Loaded {model_name} from {model_h5}.')\n",
    "except:\n",
    "    print(f'Unable to load {model_name} from {model_h5}. Fitting...')\n",
    "    hist = hist0\n",
    "    for i in range_inc(num_batches):\n",
    "        ts = datetime.datetime.now()\n",
    "        st = ts.strftime('%Y-%m-%d %H:%M:%S')\n",
    "        print(f'*** Training batch {i:3} *** {st}')\n",
    "        hist = fit_model(model=model_nn,\n",
    "                         model_name=model_name,\n",
    "                         folder=folder,\n",
    "                         ds=ds_trn, \n",
    "                         epochs=epochs_per_batch,\n",
    "                         save_freq=save_freq,\n",
    "                         prev_history = hist, \n",
    "                         batch_num=i)    \n",
    "        vartbl[hist_name] = hist\n",
    "        save_vartbl(vartbl, fname)"
   ]
  },
  {
   "cell_type": "code",
   "execution_count": 142,
   "metadata": {},
   "outputs": [
    {
     "name": "stdout",
     "output_type": "stream",
     "text": [
      "*** Training batch   1 *** 2019-08-23 15:03:18\n",
      "Epoch 1/5\n",
      "194/195 [============================>.] - ETA: 0s - loss: 0.0584 - q_loss: 0.0182 - v_loss: 0.0174 - a_loss: 0.0228 - q0_rec_loss: 2.7172e-14 - v0_rec_loss: 2.7676e-14 - H_loss: 9.4458e-08 - P_loss: 3.6458e-14 - L_loss: 7.4681e-09\n",
      "Epoch 0001; loss 5.85e-02; elapsed 0:01:01\n",
      "195/195 [==============================] - 52s 268ms/step - loss: 0.0585 - q_loss: 0.0182 - v_loss: 0.0174 - a_loss: 0.0228 - q0_rec_loss: 2.7176e-14 - v0_rec_loss: 2.7690e-14 - H_loss: 9.4452e-08 - P_loss: 3.6453e-14 - L_loss: 7.4630e-09\n",
      "Epoch 2/5\n",
      "194/195 [============================>.] - ETA: 0s - loss: 0.0584 - q_loss: 0.0182 - v_loss: 0.0174 - a_loss: 0.0228 - q0_rec_loss: 2.7172e-14 - v0_rec_loss: 2.7676e-14 - H_loss: 9.4032e-08 - P_loss: 3.6466e-14 - L_loss: 6.6369e-09\n",
      "Epoch 0002; loss 5.84e-02; elapsed 0:01:53\n",
      "195/195 [==============================] - 42s 217ms/step - loss: 0.0584 - q_loss: 0.0182 - v_loss: 0.0174 - a_loss: 0.0228 - q0_rec_loss: 2.7176e-14 - v0_rec_loss: 2.7690e-14 - H_loss: 9.4023e-08 - P_loss: 3.6461e-14 - L_loss: 6.6389e-09\n",
      "Epoch 3/5\n",
      "194/195 [============================>.] - ETA: 0s - loss: 0.0584 - q_loss: 0.0182 - v_loss: 0.0174 - a_loss: 0.0228 - q0_rec_loss: 2.7172e-14 - v0_rec_loss: 2.7676e-14 - H_loss: 9.3704e-08 - P_loss: 3.6461e-14 - L_loss: 6.8078e-09\n",
      "Epoch 0003; loss 5.84e-02; elapsed 0:02:45\n",
      "195/195 [==============================] - 43s 218ms/step - loss: 0.0584 - q_loss: 0.0182 - v_loss: 0.0174 - a_loss: 0.0228 - q0_rec_loss: 2.7176e-14 - v0_rec_loss: 2.7690e-14 - H_loss: 9.3694e-08 - P_loss: 3.6456e-14 - L_loss: 6.8102e-09\n",
      "Epoch 4/5\n",
      "194/195 [============================>.] - ETA: 0s - loss: 0.0584 - q_loss: 0.0182 - v_loss: 0.0174 - a_loss: 0.0228 - q0_rec_loss: 2.7172e-14 - v0_rec_loss: 2.7676e-14 - H_loss: 9.3555e-08 - P_loss: 3.6456e-14 - L_loss: 6.9273e-09\n",
      "Epoch 0004; loss 5.84e-02; elapsed 0:03:35\n",
      "195/195 [==============================] - 42s 215ms/step - loss: 0.0584 - q_loss: 0.0182 - v_loss: 0.0174 - a_loss: 0.0228 - q0_rec_loss: 2.7176e-14 - v0_rec_loss: 2.7690e-14 - H_loss: 9.3544e-08 - P_loss: 3.6450e-14 - L_loss: 6.9300e-09\n",
      "Epoch 5/5\n",
      "194/195 [============================>.] - ETA: 0s - loss: 0.0584 - q_loss: 0.0182 - v_loss: 0.0174 - a_loss: 0.0228 - q0_rec_loss: 2.7172e-14 - v0_rec_loss: 2.7676e-14 - H_loss: 9.3450e-08 - P_loss: 3.6465e-14 - L_loss: 7.0213e-09\n",
      "Epoch 0005; loss 5.84e-02; elapsed 0:04:25\n",
      "195/195 [==============================] - 41s 210ms/step - loss: 0.0584 - q_loss: 0.0182 - v_loss: 0.0174 - a_loss: 0.0228 - q0_rec_loss: 2.7176e-14 - v0_rec_loss: 2.7690e-14 - H_loss: 9.3437e-08 - P_loss: 3.6459e-14 - L_loss: 7.0241e-09\n"
     ]
    }
   ],
   "source": [
    "# Additional round of training with slow learning rate\n",
    "num_batches=5\n",
    "optimizer_slow = keras.optimizers.Adam(learning_rate=1.0E-8)\n",
    "model_nn.compile(loss=loss, optimizer=optimizer_slow, metrics=metrics, loss_weights=loss_weights)\n",
    "\n",
    "for i in range_inc(num_batches):\n",
    "    ts = datetime.datetime.now()\n",
    "    st = ts.strftime('%Y-%m-%d %H:%M:%S')\n",
    "    print(f'*** Training batch {i:3} *** {st}')\n",
    "    hist = fit_model(model=model_nn,\n",
    "                     model_name=model_name,\n",
    "                     folder=folder,\n",
    "                     ds=ds_trn, \n",
    "                     epochs=epochs_per_batch,\n",
    "                     save_freq=save_freq,\n",
    "                     prev_history = hist, \n",
    "                     batch_num=i)    \n",
    "    vartbl[hist_name] = hist\n",
    "    save_vartbl(vartbl, fname)"
   ]
  },
  {
   "cell_type": "code",
   "execution_count": 143,
   "metadata": {},
   "outputs": [
    {
     "name": "stdout",
     "output_type": "stream",
     "text": [
      "35/35 [==============================] - 10s 298ms/step - loss: 0.0589 - q_loss: 0.0179 - v_loss: 0.0173 - a_loss: 0.0236 - q0_rec_loss: 2.7136e-14 - v0_rec_loss: 2.7719e-14 - H_loss: 1.0376e-07 - P_loss: 3.6646e-14 - L_loss: 6.9247e-09\n"
     ]
    },
    {
     "data": {
      "text/plain": [
       "[0.05888491134558405,\n",
       " 0.017937697,\n",
       " 0.017348893,\n",
       " 0.023598202,\n",
       " 2.7136208e-14,\n",
       " 2.7718559e-14,\n",
       " 1.0376255e-07,\n",
       " 3.6646243e-14,\n",
       " 6.924671e-09]"
      ]
     },
     "execution_count": 143,
     "metadata": {},
     "output_type": "execute_result"
    }
   ],
   "source": [
    "# Evaluate the trained model on the validation data\n",
    "model_nn.evaluate(ds_val)"
   ]
  },
  {
   "cell_type": "code",
   "execution_count": 144,
   "metadata": {},
   "outputs": [
    {
     "data": {
      "image/png": "[encoded data removed]",
      "text/plain": [
       "<Figure size 1152x648 with 1 Axes>"
      ]
     },
     "metadata": {
      "needs_background": "light"
     },
     "output_type": "display_data"
    }
   ],
   "source": [
    "# Plot the loss\n",
    "fig, ax = plot_loss_hist(hist=hist, model_name=model_name, key='q_loss', baseline=q_loss_baseline)"
   ]
  },
  {
   "cell_type": "markdown",
   "metadata": {},
   "source": [
    "### Train on Full Data Set with Perturbation Scale Factor = 32.0"
   ]
  },
  {
   "cell_type": "code",
   "execution_count": null,
   "metadata": {},
   "outputs": [],
   "source": [
    "# Build combined SEJ data sets with scale factor = 32\n",
    "scale_factor = 32.0\n",
    "\n",
    "# Data for this scale factor\n",
    "ds_trn, ds_val, ds_tst = \\\n",
    "    combine_datasets_sej(num_data_sets=num_data_sets, batch_size=batch_size, \n",
    "                         seed0=seed0, scale_factor=scale_factor)"
   ]
  },
  {
   "cell_type": "code",
   "execution_count": null,
   "metadata": {},
   "outputs": [],
   "source": [
    "# Update data by scale factor\n",
    "data_by_factor[scale_factor] = (ds_trn, ds_val, ds_tst)"
   ]
  },
  {
   "cell_type": "code",
   "execution_count": null,
   "metadata": {},
   "outputs": [],
   "source": [
    "# Get initial orbital elements of this dataset\n",
    "orb_elt = orb_elts0(ds_val)"
   ]
  },
  {
   "cell_type": "code",
   "execution_count": null,
   "metadata": {},
   "outputs": [],
   "source": [
    "# Summarize initial orbital elements of this dataset\n",
    "orb_elt_summary(orb_elt)"
   ]
  },
  {
   "cell_type": "code",
   "execution_count": null,
   "metadata": {},
   "outputs": [],
   "source": [
    "# Evaluate the NN model on the full validation data; save as baseline\n",
    "hist0, q_loss_baseline = baseline_loss(model_kj, ds_val)\n",
    "baseline_tbl[scale_factor] = q_loss_baseline"
   ]
  },
  {
   "cell_type": "code",
   "execution_count": null,
   "metadata": {},
   "outputs": [],
   "source": [
    "# Set up training - full data, scale factor = 2\n",
    "\n",
    "# Number of training epochs\n",
    "num_batches=1\n",
    "epochs_per_batch = 5\n",
    "\n",
    "# Integer scale factor\n",
    "sfi = int(scale_factor)\n",
    "\n",
    "# Name of this model including scale factor\n",
    "model_name = f'model_{model_code}_nn_{suffix}_sf_{sfi}'\n",
    "\n",
    "# H5 file with model weights\n",
    "model_h5 = f'../models/{folder}/{model_name}.h5'\n",
    "# Name of the loss history in vartbl\n",
    "hist_name = model_name.replace('model_', 'hist_')\n",
    "\n",
    "# Status\n",
    "print(f'Training for {num_batches} batches of {epochs_per_batch} epochs each.')\n",
    "print(f'model_name = {model_name}')\n",
    "print(f'model_h5 = {model_h5}')\n",
    "print(f'hist_name = {hist_name}')"
   ]
  },
  {
   "cell_type": "code",
   "execution_count": null,
   "metadata": {},
   "outputs": [],
   "source": [
    "# Attempt to load model or train on selected number of epochs\n",
    "try:\n",
    "    model_nn.load_weights(model_h5)\n",
    "    model_nn.compile(loss=loss, optimizer=optimizer, metrics=metrics, loss_weights=loss_weights)\n",
    "    hist = vartbl[hist_name]\n",
    "    print(f'Loaded {model_name} from {model_h5}.')\n",
    "except:\n",
    "    print(f'Unable to load {model_name} from {model_h5}. Fitting...')\n",
    "    hist = hist0\n",
    "    for i in range_inc(num_batches):\n",
    "        ts = datetime.datetime.now()\n",
    "        st = ts.strftime('%Y-%m-%d %H:%M:%S')\n",
    "        print(f'*** Training batch {i:3} *** {st}')\n",
    "        hist = fit_model(model=model_nn,\n",
    "                         model_name=model_name,\n",
    "                         folder=folder,\n",
    "                         ds=ds_trn, \n",
    "                         epochs=epochs_per_batch,\n",
    "                         save_freq=save_freq,\n",
    "                         prev_history = hist, \n",
    "                         batch_num=i)\n",
    "        vartbl[hist_name] = hist\n",
    "        save_vartbl(vartbl, fname)"
   ]
  },
  {
   "cell_type": "code",
   "execution_count": null,
   "metadata": {},
   "outputs": [],
   "source": [
    "# Evaluate the trained model on the validation data\n",
    "model_nn.evaluate(ds_val)"
   ]
  },
  {
   "cell_type": "code",
   "execution_count": null,
   "metadata": {},
   "outputs": [],
   "source": [
    "# Plot the loss\n",
    "fig, ax = plot_loss_hist(hist=hist, model_name=model_name, key='q_loss', baseline=q_loss_baseline)"
   ]
  },
  {
   "cell_type": "markdown",
   "metadata": {},
   "source": [
    "### Train on Full Data Set with Perturbation Scale Factor = 64.0"
   ]
  },
  {
   "cell_type": "code",
   "execution_count": null,
   "metadata": {},
   "outputs": [],
   "source": []
  },
  {
   "cell_type": "code",
   "execution_count": null,
   "metadata": {},
   "outputs": [],
   "source": []
  },
  {
   "cell_type": "code",
   "execution_count": null,
   "metadata": {},
   "outputs": [],
   "source": []
  },
  {
   "cell_type": "code",
   "execution_count": null,
   "metadata": {},
   "outputs": [],
   "source": []
  },
  {
   "cell_type": "code",
   "execution_count": null,
   "metadata": {},
   "outputs": [],
   "source": []
  },
  {
   "cell_type": "code",
   "execution_count": null,
   "metadata": {},
   "outputs": [],
   "source": []
  },
  {
   "cell_type": "code",
   "execution_count": null,
   "metadata": {},
   "outputs": [],
   "source": []
  },
  {
   "cell_type": "code",
   "execution_count": null,
   "metadata": {},
   "outputs": [],
   "source": []
  },
  {
   "cell_type": "code",
   "execution_count": null,
   "metadata": {},
   "outputs": [],
   "source": []
  },
  {
   "cell_type": "code",
   "execution_count": null,
   "metadata": {},
   "outputs": [],
   "source": []
  },
  {
   "cell_type": "markdown",
   "metadata": {},
   "source": [
    "### Train on Full Data Set with Perturbation Scale Factor = 128.0"
   ]
  },
  {
   "cell_type": "code",
   "execution_count": null,
   "metadata": {},
   "outputs": [],
   "source": []
  },
  {
   "cell_type": "code",
   "execution_count": null,
   "metadata": {},
   "outputs": [],
   "source": []
  },
  {
   "cell_type": "code",
   "execution_count": null,
   "metadata": {},
   "outputs": [],
   "source": []
  },
  {
   "cell_type": "code",
   "execution_count": null,
   "metadata": {},
   "outputs": [],
   "source": []
  },
  {
   "cell_type": "code",
   "execution_count": null,
   "metadata": {},
   "outputs": [],
   "source": []
  },
  {
   "cell_type": "code",
   "execution_count": null,
   "metadata": {},
   "outputs": [],
   "source": []
  },
  {
   "cell_type": "code",
   "execution_count": null,
   "metadata": {},
   "outputs": [],
   "source": []
  },
  {
   "cell_type": "code",
   "execution_count": null,
   "metadata": {},
   "outputs": [],
   "source": []
  },
  {
   "cell_type": "code",
   "execution_count": null,
   "metadata": {},
   "outputs": [],
   "source": []
  },
  {
   "cell_type": "code",
   "execution_count": null,
   "metadata": {},
   "outputs": [],
   "source": []
  },
  {
   "cell_type": "markdown",
   "metadata": {},
   "source": [
    "### Train on Full Data Set with Perturbation Scale Factor = 256.0"
   ]
  },
  {
   "cell_type": "code",
   "execution_count": null,
   "metadata": {},
   "outputs": [],
   "source": []
  },
  {
   "cell_type": "code",
   "execution_count": null,
   "metadata": {},
   "outputs": [],
   "source": []
  },
  {
   "cell_type": "code",
   "execution_count": null,
   "metadata": {},
   "outputs": [],
   "source": []
  },
  {
   "cell_type": "code",
   "execution_count": null,
   "metadata": {},
   "outputs": [],
   "source": []
  },
  {
   "cell_type": "code",
   "execution_count": null,
   "metadata": {},
   "outputs": [],
   "source": []
  },
  {
   "cell_type": "code",
   "execution_count": null,
   "metadata": {},
   "outputs": [],
   "source": []
  },
  {
   "cell_type": "code",
   "execution_count": null,
   "metadata": {},
   "outputs": [],
   "source": []
  },
  {
   "cell_type": "code",
   "execution_count": null,
   "metadata": {},
   "outputs": [],
   "source": []
  },
  {
   "cell_type": "code",
   "execution_count": null,
   "metadata": {},
   "outputs": [],
   "source": []
  },
  {
   "cell_type": "code",
   "execution_count": null,
   "metadata": {},
   "outputs": [],
   "source": []
  },
  {
   "cell_type": "code",
   "execution_count": null,
   "metadata": {},
   "outputs": [],
   "source": []
  }
 ],
 "metadata": {
  "kernelspec": {
   "display_name": "Python [conda env:nbody]",
   "language": "python",
   "name": "conda-env-nbody-py"
  },
  "language_info": {
   "codemirror_mode": {
    "name": "ipython",
    "version": 3
   },
   "file_extension": ".py",
   "mimetype": "text/x-python",
   "name": "python",
   "nbconvert_exporter": "python",
   "pygments_lexer": "ipython3",
   "version": "3.7.3"
  }
 },
 "nbformat": 4,
 "nbformat_minor": 2
}
