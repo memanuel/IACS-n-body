{
 "cells": [
  {
   "cell_type": "markdown",
   "metadata": {},
   "source": [
    "# Jacobi to Cartesian Coordinates"
   ]
  },
  {
   "cell_type": "code",
   "execution_count": null,
   "metadata": {},
   "outputs": [],
   "source": [
    "# Library imports\n",
    "import tensorflow as tf\n",
    "import numpy as np\n",
    "import matplotlib.pyplot as plt\n",
    "\n",
    "# Aliases\n",
    "keras = tf.keras"
   ]
  },
  {
   "cell_type": "code",
   "execution_count": 22,
   "metadata": {},
   "outputs": [],
   "source": [
    "# Local imports\n",
    "from utils import load_vartbl, save_vartbl, plot_style\n",
    "from tf_utils import gpu_grow_memory\n",
    "from jacobi import make_data_jacobi, make_dataset_cart_to_jac, make_dataset_jac_to_cart\n",
    "from jacobi import CartesianToJacobi, JacobiToCartesian\n",
    "from jacobi import make_model_cart_to_jac, make_model_jac_to_cart"
   ]
  },
  {
   "cell_type": "code",
   "execution_count": 3,
   "metadata": {},
   "outputs": [],
   "source": [
    "# Grow GPU memory (must be first operation in TF)\n",
    "gpu_grow_memory()"
   ]
  },
  {
   "cell_type": "code",
   "execution_count": 4,
   "metadata": {},
   "outputs": [],
   "source": [
    "# Plot style \n",
    "plot_style()"
   ]
  },
  {
   "cell_type": "code",
   "execution_count": 68,
   "metadata": {},
   "outputs": [],
   "source": [
    "N = 100\n",
    "num_body = 2\n",
    "data = make_data_jacobi(N=N, num_body=num_body)\n",
    "m = data['m']\n",
    "q = data['q']\n",
    "r = data['r']"
   ]
  },
  {
   "cell_type": "code",
   "execution_count": 69,
   "metadata": {},
   "outputs": [
    {
     "data": {
      "text/plain": [
       "array([[1.0000000e+00, 7.9694558e-03],\n",
       "       [1.0000000e+00, 1.5751318e-03],\n",
       "       [1.0000000e+00, 2.0511114e-04],\n",
       "       [1.0000000e+00, 5.3994847e-03],\n",
       "       [1.0000000e+00, 2.6070243e-03]], dtype=float32)"
      ]
     },
     "execution_count": 69,
     "metadata": {},
     "output_type": "execute_result"
    }
   ],
   "source": [
    "m[0:5]"
   ]
  },
  {
   "cell_type": "code",
   "execution_count": 70,
   "metadata": {},
   "outputs": [
    {
     "data": {
      "text/plain": [
       "array([[1.       , 1.0079695],\n",
       "       [1.       , 1.0015751],\n",
       "       [1.       , 1.0002052],\n",
       "       [1.       , 1.0053995],\n",
       "       [1.       , 1.002607 ]], dtype=float32)"
      ]
     },
     "execution_count": 70,
     "metadata": {},
     "output_type": "execute_result"
    }
   ],
   "source": [
    "M = np.cumsum(m, axis=-1)\n",
    "M[0:5]"
   ]
  },
  {
   "cell_type": "code",
   "execution_count": 71,
   "metadata": {},
   "outputs": [],
   "source": [
    "A_shape = (N, num_body, num_body)\n",
    "\n",
    "# Assemble num_body x num_body square matrix converting from q to r\n",
    "A = np.zeros(A_shape)\n",
    "for n in range(N):\n",
    "    A[n, 0, :] = m[n] / M[n, num_body-1]\n",
    "    for i in range(1, num_body):\n",
    "        for j in range(i):\n",
    "            A[n, i, j] = -m[n, j] / M[n, i-1]\n",
    "        A[n, i, i] = 1.0"
   ]
  },
  {
   "cell_type": "code",
   "execution_count": 72,
   "metadata": {},
   "outputs": [
    {
     "data": {
      "text/plain": [
       "array([[ 0.9920935 ,  0.00790645],\n",
       "       [-1.        ,  1.        ]])"
      ]
     },
     "execution_count": 72,
     "metadata": {},
     "output_type": "execute_result"
    }
   ],
   "source": [
    "A[0]"
   ]
  },
  {
   "cell_type": "code",
   "execution_count": 73,
   "metadata": {},
   "outputs": [],
   "source": [
    "# Create a tensorflow Dataset instance in both directions\n",
    "N = 1024\n",
    "num_body = 2\n",
    "batch_size = 64\n",
    "\n",
    "ds_c2j = make_dataset_cart_to_jac(N=N, num_body=num_body, batch_size=batch_size)\n",
    "ds_j2c = make_dataset_jac_to_cart(N=N, num_body=num_body, batch_size=batch_size)"
   ]
  },
  {
   "cell_type": "code",
   "execution_count": 74,
   "metadata": {},
   "outputs": [],
   "source": [
    "# Example batch - cartesian to jacobi\n",
    "cart, jac = list(ds_c2j.take(1))[0]"
   ]
  },
  {
   "cell_type": "code",
   "execution_count": 75,
   "metadata": {},
   "outputs": [
    {
     "name": "stdout",
     "output_type": "stream",
     "text": [
      "Example batch sizes:\n",
      "m  = (64, 2)\n",
      "q  = (64, 2, 3)\n",
      "r  = (64, 2, 3)\n"
     ]
    }
   ],
   "source": [
    "# Unpack tensors\n",
    "m = cart['m']\n",
    "q = cart['q']\n",
    "r = jac['r']\n",
    "\n",
    "# Review shapes\n",
    "print(f'Example batch sizes:')\n",
    "print(f'm  = {m.shape}')\n",
    "print(f'q  = {q.shape}')\n",
    "print(f'r  = {r.shape}')"
   ]
  },
  {
   "cell_type": "code",
   "execution_count": 76,
   "metadata": {},
   "outputs": [
    {
     "data": {
      "text/plain": [
       "<tf.Tensor: id=780, shape=(2,), dtype=float32, numpy=array([1.        , 0.00208914], dtype=float32)>"
      ]
     },
     "execution_count": 76,
     "metadata": {},
     "output_type": "execute_result"
    }
   ],
   "source": [
    "m[0]"
   ]
  },
  {
   "cell_type": "code",
   "execution_count": 149,
   "metadata": {},
   "outputs": [],
   "source": [
    "class CartesianToJacobi(keras.layers.Layer):\n",
    "    def call(self, inputs):\n",
    "        \"\"\"Compute Cartesian coordinate q from masses and Jacobi coordinates m, r\"\"\"\n",
    "        # Unpack inputs\n",
    "        # m: masses; shape (num_body)\n",
    "        # q: Cartesian coordinate; shape (num_body, 3)\n",
    "        m, q = inputs\n",
    "\n",
    "        # Array shapes\n",
    "        batch_size, num_body, space_dims = q.shape\n",
    "        batch_size=64\n",
    "        A_shape = (batch_size, num_body, num_body)\n",
    "        \n",
    "        # Cumulative sum of mass\n",
    "        M = tf.math.cumsum(m, axis=-1)\n",
    "        M_tot = keras.layers.Reshape(target_shape=(1,))(M[:, num_body-1])\n",
    "        \n",
    "        # Assemble num_body x num_body square matrix converting from q to r\n",
    "        # Do the assembly as a numpy matrix\n",
    "        A_ = np.zeros(A_shape, dtype=np.float32)\n",
    "        A_[:, 0, :] = m / M_tot\n",
    "        for i in range(1, num_body):\n",
    "            # for j in range(i-1):\n",
    "            #     A_[:, i, j] = -m[:, j] / M[:, i-1]\n",
    "            A_[:, i, 0:i] = -m[:, 0:i-1] / M[:, i-1:i]\n",
    "            A_[:, i, i] = 1.0\n",
    "\n",
    "        # Now convert A to a tensor\n",
    "        A = tf.Variable(A_)\n",
    "        # Do the matrix multiplication in Tensorflow\n",
    "        r = tf.linalg.matmul(A, q)\n",
    "        \n",
    "        return r\n",
    "\n",
    "    def get_config(self):\n",
    "        return dict()"
   ]
  },
  {
   "cell_type": "code",
   "execution_count": 150,
   "metadata": {},
   "outputs": [
    {
     "data": {
      "text/plain": [
       "TensorShape([64, 2, 3])"
      ]
     },
     "execution_count": 150,
     "metadata": {},
     "output_type": "execute_result"
    }
   ],
   "source": [
    "r_ = CartesianToJacobi()([m, q])\n",
    "r_.shape"
   ]
  },
  {
   "cell_type": "code",
   "execution_count": 131,
   "metadata": {},
   "outputs": [
    {
     "data": {
      "text/plain": [
       "<tf.Tensor: id=7392, shape=(2, 3), dtype=float32, numpy=\n",
       "array([[-21.56563   , -11.083712  ,   0.48688745],\n",
       "       [ -9.805599  ,  27.58541   ,  -1.2347783 ]], dtype=float32)>"
      ]
     },
     "execution_count": 131,
     "metadata": {},
     "output_type": "execute_result"
    }
   ],
   "source": [
    "q[0]"
   ]
  },
  {
   "cell_type": "code",
   "execution_count": 133,
   "metadata": {},
   "outputs": [
    {
     "data": {
      "text/plain": [
       "<tf.Tensor: id=7407, shape=(2,), dtype=float32, numpy=array([0.9979152 , 0.00208479], dtype=float32)>"
      ]
     },
     "execution_count": 133,
     "metadata": {},
     "output_type": "execute_result"
    }
   ],
   "source": [
    "m[0] / M_tot[0]"
   ]
  },
  {
   "cell_type": "code",
   "execution_count": 130,
   "metadata": {},
   "outputs": [
    {
     "data": {
      "text/plain": [
       "<tf.Tensor: id=7387, shape=(2, 3), dtype=float32, numpy=\n",
       "array([[-21.541113  , -11.003095  ,   0.48329812],\n",
       "       [ 11.760031  ,  38.66912   ,  -1.7216657 ]], dtype=float32)>"
      ]
     },
     "execution_count": 130,
     "metadata": {},
     "output_type": "execute_result"
    }
   ],
   "source": [
    "r[0]"
   ]
  },
  {
   "cell_type": "code",
   "execution_count": 116,
   "metadata": {},
   "outputs": [],
   "source": [
    "def make_model_cart_to_jac(num_body):\n",
    "    \"\"\"Model that transforms from cartesian to Jacobi coordinates\"\"\"\n",
    "    # The shape shared by all the inputs\n",
    "    space_dims = 3\n",
    "    shape_m = (num_body,)\n",
    "    shape_q = (num_body, space_dims,)\n",
    "\n",
    "    # Create input layers    \n",
    "    m = keras.Input(shape=shape_m, name='m')\n",
    "    q = keras.Input(shape=shape_q, name='q')\n",
    "    \n",
    "    # Wrap these up into one tuple of inputs\n",
    "    inputs = (m, q)\n",
    "\n",
    "    # Calculations are in one layer that does all the work...\n",
    "    r = CartesianToJacobi(name='r')(inputs)\n",
    "    \n",
    "    # Wrap up the outputs\n",
    "    outputs = r\n",
    "\n",
    "    # Create a model from inputs to outputs\n",
    "    model = keras.Model(inputs=inputs, outputs=outputs, name='cartesian_to_jacobi')\n",
    "    return model"
   ]
  },
  {
   "cell_type": "code",
   "execution_count": 117,
   "metadata": {},
   "outputs": [
    {
     "ename": "ValueError",
     "evalue": "in converted code:\n\n    <ipython-input-114-b41714afab11>:21 call  *\n        A_[:, 0, :] = m / M_tot\n\n    ValueError: setting an array element with a sequence.\n",
     "output_type": "error",
     "traceback": [
      "\u001b[0;31m---------------------------------------------------------------------------\u001b[0m",
      "\u001b[0;31mValueError\u001b[0m                                Traceback (most recent call last)",
      "\u001b[0;32m<ipython-input-117-aa760859c412>\u001b[0m in \u001b[0;36m<module>\u001b[0;34m\u001b[0m\n\u001b[1;32m      1\u001b[0m \u001b[0;31m# Create a model mapping cartesian to jacobi coordinates\u001b[0m\u001b[0;34m\u001b[0m\u001b[0;34m\u001b[0m\u001b[0;34m\u001b[0m\u001b[0m\n\u001b[0;32m----> 2\u001b[0;31m \u001b[0mmodel_c2j\u001b[0m \u001b[0;34m=\u001b[0m \u001b[0mmake_model_cart_to_jac\u001b[0m\u001b[0;34m(\u001b[0m\u001b[0mnum_body\u001b[0m\u001b[0;34m=\u001b[0m\u001b[0mnum_body\u001b[0m\u001b[0;34m)\u001b[0m\u001b[0;34m\u001b[0m\u001b[0;34m\u001b[0m\u001b[0m\n\u001b[0m",
      "\u001b[0;32m<ipython-input-116-84d392fed438>\u001b[0m in \u001b[0;36mmake_model_cart_to_jac\u001b[0;34m(num_body)\u001b[0m\n\u001b[1;32m     14\u001b[0m \u001b[0;34m\u001b[0m\u001b[0m\n\u001b[1;32m     15\u001b[0m     \u001b[0;31m# Calculations are in one layer that does all the work...\u001b[0m\u001b[0;34m\u001b[0m\u001b[0;34m\u001b[0m\u001b[0;34m\u001b[0m\u001b[0m\n\u001b[0;32m---> 16\u001b[0;31m     \u001b[0mr\u001b[0m \u001b[0;34m=\u001b[0m \u001b[0mCartesianToJacobi\u001b[0m\u001b[0;34m(\u001b[0m\u001b[0mname\u001b[0m\u001b[0;34m=\u001b[0m\u001b[0;34m'r'\u001b[0m\u001b[0;34m)\u001b[0m\u001b[0;34m(\u001b[0m\u001b[0minputs\u001b[0m\u001b[0;34m)\u001b[0m\u001b[0;34m\u001b[0m\u001b[0;34m\u001b[0m\u001b[0m\n\u001b[0m\u001b[1;32m     17\u001b[0m \u001b[0;34m\u001b[0m\u001b[0m\n\u001b[1;32m     18\u001b[0m     \u001b[0;31m# Wrap up the outputs\u001b[0m\u001b[0;34m\u001b[0m\u001b[0;34m\u001b[0m\u001b[0;34m\u001b[0m\u001b[0m\n",
      "\u001b[0;32m~/anaconda3/envs/nbody/lib/python3.7/site-packages/tensorflow/python/keras/engine/base_layer.py\u001b[0m in \u001b[0;36m__call__\u001b[0;34m(self, inputs, *args, **kwargs)\u001b[0m\n\u001b[1;32m    660\u001b[0m                     not base_layer_utils.is_in_eager_or_tf_function()):\n\u001b[1;32m    661\u001b[0m                   \u001b[0;32mwith\u001b[0m \u001b[0mauto_control_deps\u001b[0m\u001b[0;34m.\u001b[0m\u001b[0mAutomaticControlDependencies\u001b[0m\u001b[0;34m(\u001b[0m\u001b[0;34m)\u001b[0m \u001b[0;32mas\u001b[0m \u001b[0macd\u001b[0m\u001b[0;34m:\u001b[0m\u001b[0;34m\u001b[0m\u001b[0;34m\u001b[0m\u001b[0m\n\u001b[0;32m--> 662\u001b[0;31m                     \u001b[0moutputs\u001b[0m \u001b[0;34m=\u001b[0m \u001b[0mcall_fn\u001b[0m\u001b[0;34m(\u001b[0m\u001b[0minputs\u001b[0m\u001b[0;34m,\u001b[0m \u001b[0;34m*\u001b[0m\u001b[0margs\u001b[0m\u001b[0;34m,\u001b[0m \u001b[0;34m**\u001b[0m\u001b[0mkwargs\u001b[0m\u001b[0;34m)\u001b[0m\u001b[0;34m\u001b[0m\u001b[0;34m\u001b[0m\u001b[0m\n\u001b[0m\u001b[1;32m    663\u001b[0m                     \u001b[0;31m# Wrap Tensors in `outputs` in `tf.identity` to avoid\u001b[0m\u001b[0;34m\u001b[0m\u001b[0;34m\u001b[0m\u001b[0;34m\u001b[0m\u001b[0m\n\u001b[1;32m    664\u001b[0m                     \u001b[0;31m# circular dependencies.\u001b[0m\u001b[0;34m\u001b[0m\u001b[0;34m\u001b[0m\u001b[0;34m\u001b[0m\u001b[0m\n",
      "\u001b[0;32m~/anaconda3/envs/nbody/lib/python3.7/site-packages/tensorflow/python/autograph/impl/api.py\u001b[0m in \u001b[0;36mwrapper\u001b[0;34m(*args, **kwargs)\u001b[0m\n\u001b[1;32m    167\u001b[0m       \u001b[0;32mexcept\u001b[0m \u001b[0mException\u001b[0m \u001b[0;32mas\u001b[0m \u001b[0me\u001b[0m\u001b[0;34m:\u001b[0m  \u001b[0;31m# pylint:disable=broad-except\u001b[0m\u001b[0;34m\u001b[0m\u001b[0;34m\u001b[0m\u001b[0m\n\u001b[1;32m    168\u001b[0m         \u001b[0;32mif\u001b[0m \u001b[0mhasattr\u001b[0m\u001b[0;34m(\u001b[0m\u001b[0me\u001b[0m\u001b[0;34m,\u001b[0m \u001b[0;34m'ag_error_metadata'\u001b[0m\u001b[0;34m)\u001b[0m\u001b[0;34m:\u001b[0m\u001b[0;34m\u001b[0m\u001b[0;34m\u001b[0m\u001b[0m\n\u001b[0;32m--> 169\u001b[0;31m           \u001b[0;32mraise\u001b[0m \u001b[0me\u001b[0m\u001b[0;34m.\u001b[0m\u001b[0mag_error_metadata\u001b[0m\u001b[0;34m.\u001b[0m\u001b[0mto_exception\u001b[0m\u001b[0;34m(\u001b[0m\u001b[0mtype\u001b[0m\u001b[0;34m(\u001b[0m\u001b[0me\u001b[0m\u001b[0;34m)\u001b[0m\u001b[0;34m)\u001b[0m\u001b[0;34m\u001b[0m\u001b[0;34m\u001b[0m\u001b[0m\n\u001b[0m\u001b[1;32m    170\u001b[0m         \u001b[0;32melse\u001b[0m\u001b[0;34m:\u001b[0m\u001b[0;34m\u001b[0m\u001b[0;34m\u001b[0m\u001b[0m\n\u001b[1;32m    171\u001b[0m           \u001b[0;32mraise\u001b[0m\u001b[0;34m\u001b[0m\u001b[0;34m\u001b[0m\u001b[0m\n",
      "\u001b[0;31mValueError\u001b[0m: in converted code:\n\n    <ipython-input-114-b41714afab11>:21 call  *\n        A_[:, 0, :] = m / M_tot\n\n    ValueError: setting an array element with a sequence.\n"
     ]
    }
   ],
   "source": [
    "# Create a model mapping cartesian to jacobi coordinates\n",
    "model_c2j = make_model_cart_to_jac(num_body=num_body)"
   ]
  },
  {
   "cell_type": "code",
   "execution_count": 123,
   "metadata": {},
   "outputs": [],
   "source": [
    "# Array shapes\n",
    "batch_size, num_body, space_dims = q.shape\n",
    "batch_size=64\n",
    "A_shape = (batch_size, num_body, num_body)\n",
    "\n",
    "# Cumulative sum of mass\n",
    "M = tf.math.cumsum(m, axis=-1)\n",
    "M_tot = keras.layers.Reshape(target_shape=(1,))(M[:, num_body-1])\n",
    "\n",
    "# Assemble num_body x num_body square matrix converting from q to r\n",
    "# Do the assembly as a numpy matrix\n",
    "A_ = np.zeros(A_shape, dtype=np.float32)\n",
    "A_[:, 0, :] = m / M_tot\n",
    "for i in range(1, num_body):\n",
    "    for j in range(i):\n",
    "        A_[:, i, j] = -m[:, j] / M[:, i-1]\n",
    "    A_[:, i, i] = 1.0\n",
    "\n",
    "# Now convert A to a tensor\n",
    "A = tf.Variable(A_)\n",
    "r = tf.linalg.matmul(A, q)\n"
   ]
  },
  {
   "cell_type": "code",
   "execution_count": 126,
   "metadata": {},
   "outputs": [
    {
     "data": {
      "text/plain": [
       "(64, 2)"
      ]
     },
     "execution_count": 126,
     "metadata": {},
     "output_type": "execute_result"
    }
   ],
   "source": [
    "A_[:,0,:].shape"
   ]
  },
  {
   "cell_type": "code",
   "execution_count": 127,
   "metadata": {},
   "outputs": [
    {
     "data": {
      "text/plain": [
       "<tf.Tensor: id=7358, shape=(64, 2), dtype=float32, numpy=\n",
       "array([[9.97915208e-01, 2.08478747e-03],\n",
       "       [9.99026299e-01, 9.73682909e-04],\n",
       "       [9.99894738e-01, 1.05200292e-04],\n",
       "       [9.93102789e-01, 6.89727999e-03],\n",
       "       [9.93729353e-01, 6.27067499e-03],\n",
       "       [9.99486208e-01, 5.13762992e-04],\n",
       "       [9.99331653e-01, 6.68271969e-04],\n",
       "       [9.99089122e-01, 9.10923642e-04],\n",
       "       [9.99863148e-01, 1.36862669e-04],\n",
       "       [9.96676683e-01, 3.32334545e-03],\n",
       "       [9.98878419e-01, 1.12160377e-03],\n",
       "       [9.99588430e-01, 4.11529589e-04],\n",
       "       [9.99851823e-01, 1.48125764e-04],\n",
       "       [9.99022961e-01, 9.77078103e-04],\n",
       "       [9.95531261e-01, 4.46879165e-03],\n",
       "       [9.98799086e-01, 1.20088656e-03],\n",
       "       [9.93996024e-01, 6.00398006e-03],\n",
       "       [9.93545055e-01, 6.45500142e-03],\n",
       "       [9.95970905e-01, 4.02910495e-03],\n",
       "       [9.97399807e-01, 2.60024541e-03],\n",
       "       [9.96342480e-01, 3.65745998e-03],\n",
       "       [9.98712182e-01, 1.28778070e-03],\n",
       "       [9.98822033e-01, 1.17799523e-03],\n",
       "       [9.99719203e-01, 2.80812732e-04],\n",
       "       [9.93734777e-01, 6.26523094e-03],\n",
       "       [9.97186244e-01, 2.81379023e-03],\n",
       "       [9.94003236e-01, 5.99674182e-03],\n",
       "       [9.90538120e-01, 9.46191326e-03],\n",
       "       [9.99645591e-01, 3.54370946e-04],\n",
       "       [9.98372018e-01, 1.62795198e-03],\n",
       "       [9.99683499e-01, 3.16481543e-04],\n",
       "       [9.94601965e-01, 5.39806066e-03],\n",
       "       [9.97602642e-01, 2.39743688e-03],\n",
       "       [9.92881298e-01, 7.11871870e-03],\n",
       "       [9.99862671e-01, 1.37358715e-04],\n",
       "       [9.99843240e-01, 1.56774739e-04],\n",
       "       [9.99733388e-01, 2.66570860e-04],\n",
       "       [9.99498725e-01, 5.01225120e-04],\n",
       "       [9.99718726e-01, 2.81260727e-04],\n",
       "       [9.97483313e-01, 2.51677190e-03],\n",
       "       [9.96708751e-01, 3.29128047e-03],\n",
       "       [9.97094750e-01, 2.90526776e-03],\n",
       "       [9.99006093e-01, 9.93903843e-04],\n",
       "       [9.98914361e-01, 1.08563981e-03],\n",
       "       [9.95301247e-01, 4.69873799e-03],\n",
       "       [9.98248577e-01, 1.75150787e-03],\n",
       "       [9.98015881e-01, 1.98407518e-03],\n",
       "       [9.99503016e-01, 4.96929861e-04],\n",
       "       [9.99891400e-01, 1.08567714e-04],\n",
       "       [9.99858618e-01, 1.41323457e-04],\n",
       "       [9.99898553e-01, 1.01482838e-04],\n",
       "       [9.98203874e-01, 1.79612008e-03],\n",
       "       [9.98472273e-01, 1.52769510e-03],\n",
       "       [9.99055326e-01, 9.44708183e-04],\n",
       "       [9.99851704e-01, 1.48235675e-04],\n",
       "       [9.95908380e-01, 4.09155944e-03],\n",
       "       [9.95030761e-01, 4.96916473e-03],\n",
       "       [9.99699235e-01, 3.00766580e-04],\n",
       "       [9.98066604e-01, 1.93337013e-03],\n",
       "       [9.99285638e-01, 7.14340422e-04],\n",
       "       [9.99135196e-01, 8.64859554e-04],\n",
       "       [9.99606907e-01, 3.93121882e-04],\n",
       "       [9.95721042e-01, 4.27894387e-03],\n",
       "       [9.99121487e-01, 8.78521067e-04]], dtype=float32)>"
      ]
     },
     "execution_count": 127,
     "metadata": {},
     "output_type": "execute_result"
    }
   ],
   "source": [
    "m / M_tot"
   ]
  },
  {
   "cell_type": "code",
   "execution_count": null,
   "metadata": {},
   "outputs": [],
   "source": []
  }
 ],
 "metadata": {
  "kernelspec": {
   "display_name": "Python [conda env:nbody]",
   "language": "python",
   "name": "conda-env-nbody-py"
  },
  "language_info": {
   "codemirror_mode": {
    "name": "ipython",
    "version": 3
   },
   "file_extension": ".py",
   "mimetype": "text/x-python",
   "name": "python",
   "nbconvert_exporter": "python",
   "pygments_lexer": "ipython3",
   "version": "3.7.3"
  }
 },
 "nbformat": 4,
 "nbformat_minor": 2
}
