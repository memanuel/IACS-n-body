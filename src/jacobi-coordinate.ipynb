{
 "cells": [
  {
   "cell_type": "markdown",
   "metadata": {},
   "source": [
    "# Jacobi to Cartesian Coordinates"
   ]
  },
  {
   "cell_type": "code",
   "execution_count": 1,
   "metadata": {},
   "outputs": [],
   "source": [
    "# Library imports\n",
    "import tensorflow as tf\n",
    "import numpy as np\n",
    "import matplotlib.pyplot as plt\n",
    "\n",
    "# Aliases\n",
    "keras = tf.keras"
   ]
  },
  {
   "cell_type": "code",
   "execution_count": 2,
   "metadata": {},
   "outputs": [],
   "source": [
    "# Local imports\n",
    "from utils import load_vartbl, save_vartbl, plot_style\n",
    "from tf_utils import gpu_grow_memory\n",
    "from jacobi import make_data_jacobi, make_dataset_cart_to_jac, make_dataset_jac_to_cart\n",
    "from jacobi import CartesianToJacobi, JacobiToCartesian\n",
    "from jacobi import make_model_cart_to_jac, make_model_jac_to_cart"
   ]
  },
  {
   "cell_type": "code",
   "execution_count": 3,
   "metadata": {},
   "outputs": [],
   "source": [
    "# Grow GPU memory (must be first operation in TF)\n",
    "gpu_grow_memory()"
   ]
  },
  {
   "cell_type": "code",
   "execution_count": 4,
   "metadata": {},
   "outputs": [],
   "source": [
    "# Plot style \n",
    "plot_style()"
   ]
  },
  {
   "cell_type": "code",
   "execution_count": 5,
   "metadata": {},
   "outputs": [],
   "source": [
    "N = 100\n",
    "num_body = 3\n",
    "data = make_data_jacobi(N=N, num_body=num_body)\n",
    "m = data['m']\n",
    "q = data['q']\n",
    "qj = data['qj']\n",
    "vj = data['vj']"
   ]
  },
  {
   "cell_type": "markdown",
   "metadata": {},
   "source": [
    "**Review one example A Matrix as a Sanity Check**"
   ]
  },
  {
   "cell_type": "code",
   "execution_count": 6,
   "metadata": {},
   "outputs": [],
   "source": [
    "# Cumulative mass\n",
    "M = np.cumsum(m, axis=-1)\n",
    "M_tot = keras.layers.Reshape(target_shape=(1,))(M[:, num_body-1])\n",
    "\n",
    "# Assemble num_body x num_body square matrix converting from q to r\n",
    "A_shape = (N, num_body, num_body)\n",
    "A_ = np.zeros(A_shape)\n",
    "A_[:, 0, :] = m / M_tot\n",
    "for i in range(1, num_body):\n",
    "    A_[:, i, 0:i] = -m[:, 0:i] / M[:, i-1:i]\n",
    "    A_[:, i, i] = 1.0"
   ]
  },
  {
   "cell_type": "code",
   "execution_count": 7,
   "metadata": {},
   "outputs": [
    {
     "data": {
      "text/plain": [
       "array([[ 0.98923701,  0.00788368,  0.00287931],\n",
       "       [-1.        ,  1.        ,  0.        ],\n",
       "       [-0.9920935 , -0.00790645,  1.        ]])"
      ]
     },
     "execution_count": 7,
     "metadata": {},
     "output_type": "execute_result"
    }
   ],
   "source": [
    "A_[0]"
   ]
  },
  {
   "cell_type": "markdown",
   "metadata": {},
   "source": [
    "**Create a Dataset**"
   ]
  },
  {
   "cell_type": "code",
   "execution_count": 8,
   "metadata": {},
   "outputs": [],
   "source": [
    "# Create a tensorflow Dataset instance in both directions\n",
    "N = 1024\n",
    "num_body = 3\n",
    "batch_size = 64\n",
    "\n",
    "ds_c2j = make_dataset_cart_to_jac(N=N, num_body=num_body, batch_size=batch_size)\n",
    "ds_j2c = make_dataset_jac_to_cart(N=N, num_body=num_body, batch_size=batch_size)"
   ]
  },
  {
   "cell_type": "code",
   "execution_count": 9,
   "metadata": {},
   "outputs": [],
   "source": [
    "# Example batch - cartesian to jacobi\n",
    "cart, jac = list(ds_c2j.take(1))[0]"
   ]
  },
  {
   "cell_type": "code",
   "execution_count": 10,
   "metadata": {},
   "outputs": [
    {
     "name": "stdout",
     "output_type": "stream",
     "text": [
      "Example batch sizes:\n",
      "m  = (64, 3)\n",
      "q  = (64, 3, 3)\n",
      "v  = (64, 3, 3)\n",
      "qj = (64, 3, 3)\n",
      "vj = (64, 3, 3)\n",
      "mu = (64, 3)\n"
     ]
    }
   ],
   "source": [
    "# Unpack tensors\n",
    "m = cart['m']\n",
    "q = cart['q']\n",
    "v = cart['v']\n",
    "qj = jac['qj']\n",
    "vj = jac['vj']\n",
    "mu = jac['mu']\n",
    "\n",
    "# Review shapes\n",
    "print(f'Example batch sizes:')\n",
    "print(f'm  = {m.shape}')\n",
    "print(f'q  = {q.shape}')\n",
    "print(f'v  = {v.shape}')\n",
    "print(f'qj = {qj.shape}')\n",
    "print(f'vj = {vj.shape}')\n",
    "print(f'mu = {mu.shape}')"
   ]
  },
  {
   "cell_type": "markdown",
   "metadata": {},
   "source": [
    "### Check the Conversion Against the Dataset Using Layers"
   ]
  },
  {
   "cell_type": "code",
   "execution_count": 11,
   "metadata": {},
   "outputs": [],
   "source": [
    "def rms(x):\n",
    "    return np.sqrt(np.mean(np.square(x)))"
   ]
  },
  {
   "cell_type": "code",
   "execution_count": 12,
   "metadata": {},
   "outputs": [
    {
     "name": "stdout",
     "output_type": "stream",
     "text": [
      "RMS Error qj: 0.000e+00\n",
      "RMS Error vj: 3.104e-10\n"
     ]
    }
   ],
   "source": [
    "# Compute Jacobi coordinates from Cartesian\n",
    "qj_calc, vj_calc, mu_calc = CartesianToJacobi()([m, q, v])\n",
    "\n",
    "# Error vector\n",
    "err_qj = qj_calc - qj\n",
    "err_vj = vj_calc - vj\n",
    "\n",
    "# RMS Errors\n",
    "rms_qj = rms(err_qj)\n",
    "rms_vj = rms(err_vj)\n",
    "\n",
    "# Display RMS errors\n",
    "print(f'RMS Error qj: {rms_qj:5.3e}')\n",
    "print(f'RMS Error vj: {rms_vj:5.3e}')"
   ]
  },
  {
   "cell_type": "code",
   "execution_count": 13,
   "metadata": {},
   "outputs": [
    {
     "name": "stdout",
     "output_type": "stream",
     "text": [
      "RMS Error q: 8.850e-07\n",
      "RMS Error v: 1.224e-07\n"
     ]
    }
   ],
   "source": [
    "# Compute Cartesian coordinates from Jacobi\n",
    "q_calc, v_calc = JacobiToCartesian()([m, qj, vj])\n",
    "\n",
    "# Error vector\n",
    "err_q = q_calc - q\n",
    "err_v = v_calc - v\n",
    "\n",
    "# RMS Errors\n",
    "rms_q = rms(err_q)\n",
    "rms_v = rms(err_v)\n",
    "\n",
    "# Display RMS errors\n",
    "print(f'RMS Error q: {rms_q:5.3e}')\n",
    "print(f'RMS Error v: {rms_v:5.3e}')"
   ]
  },
  {
   "cell_type": "markdown",
   "metadata": {},
   "source": [
    "***Conversion in Both Directions is Very Accurate***"
   ]
  },
  {
   "cell_type": "markdown",
   "metadata": {},
   "source": [
    "### Check the Conversion Against the Dataset Using Models"
   ]
  },
  {
   "cell_type": "code",
   "execution_count": 14,
   "metadata": {},
   "outputs": [],
   "source": [
    "model_c2j = make_model_cart_to_jac(num_body=3)"
   ]
  },
  {
   "cell_type": "code",
   "execution_count": 15,
   "metadata": {},
   "outputs": [
    {
     "name": "stdout",
     "output_type": "stream",
     "text": [
      "Model: \"cartesian_to_jacobi\"\n",
      "__________________________________________________________________________________________________\n",
      "Layer (type)                    Output Shape         Param #     Connected to                     \n",
      "==================================================================================================\n",
      "m (InputLayer)                  [(64, 3)]            0                                            \n",
      "__________________________________________________________________________________________________\n",
      "q (InputLayer)                  [(64, 3, 3)]         0                                            \n",
      "__________________________________________________________________________________________________\n",
      "v (InputLayer)                  [(64, 3, 3)]         0                                            \n",
      "__________________________________________________________________________________________________\n",
      "c2j (CartesianToJacobi)         ((64, 3, 3), (64, 3, 0           m[0][0]                          \n",
      "                                                                 q[0][0]                          \n",
      "                                                                 v[0][0]                          \n",
      "__________________________________________________________________________________________________\n",
      "qj (Identity)                   (64, 3, 3)           0           c2j[0][0]                        \n",
      "__________________________________________________________________________________________________\n",
      "vj (Identity)                   (64, 3, 3)           0           c2j[0][1]                        \n",
      "__________________________________________________________________________________________________\n",
      "mu (Identity)                   (64, 3)              0           c2j[0][2]                        \n",
      "==================================================================================================\n",
      "Total params: 0\n",
      "Trainable params: 0\n",
      "Non-trainable params: 0\n",
      "__________________________________________________________________________________________________\n"
     ]
    }
   ],
   "source": [
    "model_c2j.summary()"
   ]
  },
  {
   "cell_type": "code",
   "execution_count": 16,
   "metadata": {},
   "outputs": [],
   "source": [
    "# Inputs to compile the c2e model\n",
    "optimizer = keras.optimizers.Adam(learning_rate=1.0E-3)\n",
    "\n",
    "loss = {'qj': keras.losses.MeanSquaredError(),\n",
    "        'vj': keras.losses.MeanSquaredError(),\n",
    "        'mu': keras.losses.MeanSquaredError(),\n",
    "       }\n",
    "\n",
    "metrics = None\n",
    "\n",
    "loss_weights = {'qj': 1.0,\n",
    "                'vj': 1.0,\n",
    "                'mu': 1.0}"
   ]
  },
  {
   "cell_type": "code",
   "execution_count": 17,
   "metadata": {},
   "outputs": [],
   "source": [
    "# Compile the c2e model\n",
    "model_c2j.compile(optimizer=optimizer, loss=loss, metrics=metrics, loss_weights=loss_weights)"
   ]
  },
  {
   "cell_type": "code",
   "execution_count": 18,
   "metadata": {},
   "outputs": [
    {
     "name": "stdout",
     "output_type": "stream",
     "text": [
      "RMS Error qj: 0.000e+00\n",
      "RMS Error vj: 3.104e-10\n"
     ]
    }
   ],
   "source": [
    "# Invoke model manually with numpy arrays\n",
    "qj_calc, vj_calc, mu = model_c2j([m, q, v])\n",
    "\n",
    "# Error vector\n",
    "err_qj = qj_calc - qj\n",
    "err_vj = vj_calc - vj\n",
    "\n",
    "# RMS Errors\n",
    "rms_qj = rms(err_qj)\n",
    "rms_vj = rms(err_vj)\n",
    "\n",
    "# Display RMS errors\n",
    "print(f'RMS Error qj: {rms_qj:5.3e}')\n",
    "print(f'RMS Error vj: {rms_vj:5.3e}')"
   ]
  },
  {
   "cell_type": "code",
   "execution_count": 19,
   "metadata": {},
   "outputs": [
    {
     "name": "stdout",
     "output_type": "stream",
     "text": [
      "Output shapes:\n",
      "qj: (64, 3, 3)\n",
      "vj: (64, 3, 3)\n",
      "mu: (64, 3)\n"
     ]
    }
   ],
   "source": [
    "print(f'Output shapes:')\n",
    "print(f'qj: {qj.shape}')\n",
    "print(f'vj: {vj.shape}')\n",
    "print(f'mu: {mu.shape}')"
   ]
  },
  {
   "cell_type": "code",
   "execution_count": 20,
   "metadata": {},
   "outputs": [
    {
     "name": "stdout",
     "output_type": "stream",
     "text": [
      "16/16 [==============================] - 0s 18ms/step - loss: 7.0860e-16 - qj_loss: 7.0539e-16 - vj_loss: 3.2019e-18 - mu_loss: 0.0000e+00\n"
     ]
    },
    {
     "data": {
      "text/plain": [
       "[7.085968648030107e-16, 7.0539485e-16, 3.2019154e-18, 0.0]"
      ]
     },
     "execution_count": 20,
     "metadata": {},
     "output_type": "execute_result"
    }
   ],
   "source": [
    "model_c2j.evaluate(ds_c2j)"
   ]
  },
  {
   "cell_type": "code",
   "execution_count": null,
   "metadata": {},
   "outputs": [],
   "source": []
  }
 ],
 "metadata": {
  "kernelspec": {
   "display_name": "Python [conda env:nbody]",
   "language": "python",
   "name": "conda-env-nbody-py"
  },
  "language_info": {
   "codemirror_mode": {
    "name": "ipython",
    "version": 3
   },
   "file_extension": ".py",
   "mimetype": "text/x-python",
   "name": "python",
   "nbconvert_exporter": "python",
   "pygments_lexer": "ipython3",
   "version": "3.7.3"
  }
 },
 "nbformat": 4,
 "nbformat_minor": 2
}
