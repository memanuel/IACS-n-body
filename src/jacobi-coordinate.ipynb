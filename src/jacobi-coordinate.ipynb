{
 "cells": [
  {
   "cell_type": "markdown",
   "metadata": {},
   "source": [
    "# Jacobi to Cartesian Coordinates"
   ]
  },
  {
   "cell_type": "code",
   "execution_count": 1,
   "metadata": {},
   "outputs": [],
   "source": [
    "# Library imports\n",
    "import tensorflow as tf\n",
    "import numpy as np\n",
    "import matplotlib.pyplot as plt\n",
    "\n",
    "# Aliases\n",
    "keras = tf.keras"
   ]
  },
  {
   "cell_type": "code",
   "execution_count": 2,
   "metadata": {},
   "outputs": [],
   "source": [
    "# Local imports\n",
    "from utils import load_vartbl, save_vartbl, plot_style\n",
    "from tf_utils import gpu_grow_memory\n",
    "from jacobi import make_data_jacobi, make_dataset_cart_to_jac, make_dataset_jac_to_cart\n",
    "from jacobi import CartesianToJacobi, JacobiToCartesian\n",
    "from jacobi import make_model_cart_to_jac, make_model_jac_to_cart"
   ]
  },
  {
   "cell_type": "code",
   "execution_count": 3,
   "metadata": {},
   "outputs": [],
   "source": [
    "# Grow GPU memory (must be first operation in TF)\n",
    "gpu_grow_memory()"
   ]
  },
  {
   "cell_type": "code",
   "execution_count": 4,
   "metadata": {},
   "outputs": [],
   "source": [
    "# Plot style \n",
    "plot_style()"
   ]
  },
  {
   "cell_type": "code",
   "execution_count": 5,
   "metadata": {},
   "outputs": [],
   "source": [
    "N = 100\n",
    "num_body = 3\n",
    "data = make_data_jacobi(N=N, num_body=num_body)\n",
    "m = data['m']\n",
    "q = data['q']\n",
    "qj = data['qj']\n",
    "vj = data['vj']"
   ]
  },
  {
   "cell_type": "markdown",
   "metadata": {},
   "source": [
    "**Review one example A Matrix as a Sanity Check**"
   ]
  },
  {
   "cell_type": "code",
   "execution_count": 6,
   "metadata": {},
   "outputs": [],
   "source": [
    "# Cumulative mass\n",
    "M = np.cumsum(m, axis=-1)\n",
    "M_tot = keras.layers.Reshape(target_shape=(1,))(M[:, num_body-1])\n",
    "\n",
    "# Assemble num_body x num_body square matrix converting from q to r\n",
    "A_shape = (N, num_body, num_body)\n",
    "A_ = np.zeros(A_shape)\n",
    "A_[:, 0, :] = m / M_tot\n",
    "for i in range(1, num_body):\n",
    "    A_[:, i, 0:i] = -m[:, 0:i] / M[:, i-1:i]\n",
    "    A_[:, i, i] = 1.0"
   ]
  },
  {
   "cell_type": "code",
   "execution_count": 7,
   "metadata": {},
   "outputs": [
    {
     "data": {
      "text/plain": [
       "array([[ 0.98923701,  0.00788368,  0.00287931],\n",
       "       [-1.        ,  1.        ,  0.        ],\n",
       "       [-0.9920935 , -0.00790645,  1.        ]])"
      ]
     },
     "execution_count": 7,
     "metadata": {},
     "output_type": "execute_result"
    }
   ],
   "source": [
    "A_[0]"
   ]
  },
  {
   "cell_type": "markdown",
   "metadata": {},
   "source": [
    "**Create a Dataset**"
   ]
  },
  {
   "cell_type": "code",
   "execution_count": 8,
   "metadata": {},
   "outputs": [],
   "source": [
    "# Create a tensorflow Dataset instance in both directions\n",
    "N = 1024\n",
    "num_body = 3\n",
    "batch_size = 64\n",
    "\n",
    "ds_c2j = make_dataset_cart_to_jac(N=N, num_body=num_body, batch_size=batch_size)\n",
    "ds_j2c = make_dataset_jac_to_cart(N=N, num_body=num_body, batch_size=batch_size)"
   ]
  },
  {
   "cell_type": "code",
   "execution_count": 9,
   "metadata": {},
   "outputs": [],
   "source": [
    "# Example batch - cartesian to jacobi\n",
    "cart, jac = list(ds_c2j.take(1))[0]"
   ]
  },
  {
   "cell_type": "code",
   "execution_count": 10,
   "metadata": {},
   "outputs": [
    {
     "name": "stdout",
     "output_type": "stream",
     "text": [
      "Example batch sizes:\n",
      "m  = (64, 3)\n",
      "q  = (64, 3, 3)\n",
      "v  = (64, 3, 3)\n",
      "qj = (64, 3, 3)\n",
      "vj = (64, 3, 3)\n",
      "mu = (64, 3)\n"
     ]
    }
   ],
   "source": [
    "# Unpack tensors\n",
    "m = cart['m']\n",
    "q = cart['q']\n",
    "v = cart['v']\n",
    "qj = jac['qj']\n",
    "vj = jac['vj']\n",
    "mu = jac['mu']\n",
    "\n",
    "# Review shapes\n",
    "print(f'Example batch sizes:')\n",
    "print(f'm  = {m.shape}')\n",
    "print(f'q  = {q.shape}')\n",
    "print(f'v  = {v.shape}')\n",
    "print(f'qj = {qj.shape}')\n",
    "print(f'vj = {vj.shape}')\n",
    "print(f'mu = {mu.shape}')"
   ]
  },
  {
   "cell_type": "markdown",
   "metadata": {},
   "source": [
    "### Check the Conversion Against the Dataset Using Layers"
   ]
  },
  {
   "cell_type": "code",
   "execution_count": 11,
   "metadata": {},
   "outputs": [],
   "source": [
    "def rms(x):\n",
    "    return np.sqrt(np.mean(np.square(x)))"
   ]
  },
  {
   "cell_type": "code",
   "execution_count": 12,
   "metadata": {},
   "outputs": [
    {
     "name": "stdout",
     "output_type": "stream",
     "text": [
      "RMS Error qj: 5.893e+00\n",
      "RMS Error vj: 7.980e-01\n"
     ]
    }
   ],
   "source": [
    "# Compute Jacobi coordinates from Cartesian\n",
    "qj_calc, vj_calc, mu_calc = CartesianToJacobi()([m, q, v])\n",
    "\n",
    "# Error vector\n",
    "err_qj = qj_calc - qj\n",
    "err_vj = vj_calc - vj\n",
    "\n",
    "# RMS Errors\n",
    "rms_qj = rms(err_qj)\n",
    "rms_vj = rms(err_vj)\n",
    "\n",
    "# Display RMS errors\n",
    "print(f'RMS Error qj: {rms_qj:5.3e}')\n",
    "print(f'RMS Error vj: {rms_vj:5.3e}')"
   ]
  },
  {
   "cell_type": "code",
   "execution_count": 15,
   "metadata": {},
   "outputs": [
    {
     "data": {
      "text/plain": [
       "<tf.Tensor: id=193, shape=(3, 3), dtype=float32, numpy=\n",
       "array([[-1.5743623e-10,  6.1048377e-10, -1.1633413e-11],\n",
       "       [-7.4294132e-01, -1.1764593e+01, -1.0197804e+00],\n",
       "       [ 1.8762201e+01, -9.6576881e+00, -1.1894956e+00]], dtype=float32)>"
      ]
     },
     "execution_count": 15,
     "metadata": {},
     "output_type": "execute_result"
    }
   ],
   "source": [
    "qj_calc[0]"
   ]
  },
  {
   "cell_type": "code",
   "execution_count": 16,
   "metadata": {},
   "outputs": [
    {
     "data": {
      "text/plain": [
       "<tf.Tensor: id=198, shape=(3, 3), dtype=float32, numpy=\n",
       "array([[  0.        ,   0.        ,   0.        ],\n",
       "       [ -0.7429413 , -11.764593  ,  -1.0197804 ],\n",
       "       [ 19.50494   ,   2.10368   ,  -0.16999479]], dtype=float32)>"
      ]
     },
     "execution_count": 16,
     "metadata": {},
     "output_type": "execute_result"
    }
   ],
   "source": [
    "qj[0]"
   ]
  },
  {
   "cell_type": "code",
   "execution_count": 17,
   "metadata": {},
   "outputs": [
    {
     "data": {
      "text/plain": [
       "<tf.Tensor: id=203, shape=(3, 3), dtype=float32, numpy=\n",
       "array([[-1.5743623e-10,  6.1048377e-10, -1.1633413e-11],\n",
       "       [ 0.0000000e+00,  0.0000000e+00,  0.0000000e+00],\n",
       "       [-7.4273872e-01, -1.1761368e+01, -1.0195007e+00]], dtype=float32)>"
      ]
     },
     "execution_count": 17,
     "metadata": {},
     "output_type": "execute_result"
    }
   ],
   "source": [
    "err_qj[0]"
   ]
  },
  {
   "cell_type": "code",
   "execution_count": 13,
   "metadata": {},
   "outputs": [
    {
     "name": "stdout",
     "output_type": "stream",
     "text": [
      "RMS Error q: 5.881e+00\n",
      "RMS Error v: 7.954e-01\n"
     ]
    }
   ],
   "source": [
    "# Compute Cartesian coordinates from Jacobi\n",
    "q_calc, v_calc = JacobiToCartesian()([m, qj, vj])\n",
    "\n",
    "# Error vector\n",
    "err_q = q_calc - q\n",
    "err_v = v_calc - v\n",
    "\n",
    "# RMS Errors\n",
    "rms_q = rms(err_q)\n",
    "rms_v = rms(err_v)\n",
    "\n",
    "# Display RMS errors\n",
    "print(f'RMS Error q: {rms_q:5.3e}')\n",
    "print(f'RMS Error v: {rms_v:5.3e}')"
   ]
  },
  {
   "cell_type": "markdown",
   "metadata": {},
   "source": [
    "***Conversion in Both Directions is Very Accurate***"
   ]
  },
  {
   "cell_type": "markdown",
   "metadata": {},
   "source": [
    "### Check the Conversion Against the Dataset Using Models"
   ]
  },
  {
   "cell_type": "code",
   "execution_count": null,
   "metadata": {},
   "outputs": [],
   "source": [
    "model_c2j = make_model_cart_to_jac(num_body=3)"
   ]
  },
  {
   "cell_type": "code",
   "execution_count": null,
   "metadata": {},
   "outputs": [],
   "source": [
    "model_c2j.summary()"
   ]
  },
  {
   "cell_type": "code",
   "execution_count": null,
   "metadata": {},
   "outputs": [],
   "source": [
    "# Inputs to compile the c2e model\n",
    "optimizer = keras.optimizers.Adam(learning_rate=1.0E-3)\n",
    "\n",
    "loss = {'qj': keras.losses.MeanSquaredError(),\n",
    "        'vj': keras.losses.MeanSquaredError(),\n",
    "        'mu': keras.losses.MeanSquaredError(),\n",
    "       }\n",
    "\n",
    "metrics = None\n",
    "\n",
    "loss_weights = {'qj': 1.0,\n",
    "                'vj': 1.0,\n",
    "                'mu': 1.0}"
   ]
  },
  {
   "cell_type": "code",
   "execution_count": null,
   "metadata": {},
   "outputs": [],
   "source": [
    "# Compile the c2e model\n",
    "model_c2j.compile(optimizer=optimizer, loss=loss, metrics=metrics, loss_weights=loss_weights)"
   ]
  },
  {
   "cell_type": "code",
   "execution_count": null,
   "metadata": {},
   "outputs": [],
   "source": [
    "# Invoke model manually with numpy arrays\n",
    "qj_calc, vj_calc, mu = model_c2j([m, q, v])\n",
    "\n",
    "# Error vector\n",
    "err_qj = qj_calc - qj\n",
    "err_vj = vj_calc - vj\n",
    "\n",
    "# RMS Errors\n",
    "rms_qj = rms(err_qj)\n",
    "rms_vj = rms(err_vj)\n",
    "\n",
    "# Display RMS errors\n",
    "print(f'RMS Error qj: {rms_qj:5.3e}')\n",
    "print(f'RMS Error vj: {rms_vj:5.3e}')"
   ]
  },
  {
   "cell_type": "code",
   "execution_count": null,
   "metadata": {},
   "outputs": [],
   "source": [
    "print(f'Output shapes:')\n",
    "print(f'qj: {qj.shape}')\n",
    "print(f'vj: {vj.shape}')\n",
    "print(f'mu: {mu.shape}')"
   ]
  },
  {
   "cell_type": "code",
   "execution_count": null,
   "metadata": {},
   "outputs": [],
   "source": [
    "model_c2j.evaluate(ds_c2j)"
   ]
  },
  {
   "cell_type": "code",
   "execution_count": null,
   "metadata": {},
   "outputs": [],
   "source": [
    "import rebound"
   ]
  },
  {
   "cell_type": "code",
   "execution_count": null,
   "metadata": {},
   "outputs": [],
   "source": [
    "m = np.array([1.0, 1.0E-6, 1.0E-3])\n",
    "a = np.array([1.00000, 5.2029])\n",
    "e = np.array([0.0167, 0.0484])\n",
    "inc = np.radians([0.00, 1.3044])\n",
    "Omega = np.radians([0.00, 100.47])\n",
    "omega = np.radians([102.94, 14.73]) - Omega\n",
    "f = np.radians([100.46, 34.40]) - Omega\n",
    "n_years = 100\n",
    "sample_freq = 10"
   ]
  },
  {
   "cell_type": "code",
   "execution_count": null,
   "metadata": {},
   "outputs": [],
   "source": [
    "num_body = 3\n",
    "\n",
    "# Array shapes\n",
    "space_dims = 3\n",
    "mass_shape = (num_body)\n",
    "pos_shape = (num_body, space_dims)\n",
    "\n",
    "# Initialize Cartesian position and velocity to zero\n",
    "q = np.zeros(pos_shape, dtype=np.float32)\n",
    "v = np.zeros(pos_shape, dtype=np.float32)\n",
    "# Initialize Jacobi position and velocity to zero\n",
    "qj = np.zeros(pos_shape, dtype=np.float32)\n",
    "vj = np.zeros(pos_shape, dtype=np.float32)\n",
    "# Initialize gravitational field strength \n",
    "mu = np.zeros(mass_shape)\n",
    "\n",
    "# Create a simulation\n",
    "sim = rebound.Simulation()\n",
    "\n",
    "# Set units\n",
    "sim.units = ('yr', 'AU', 'Msun')\n",
    "\n",
    "# Add primary with 1 solar mass at origin with 0 velocity\n",
    "sim.add(m=m[0])\n",
    "p0 = sim.particles[0]\n",
    "\n",
    "# Body with the current center of mass\n",
    "com = p0\n",
    "mu[0] = sim.G * com.m\n",
    "\n",
    "# Add bodies 2 through num_body\n",
    "for i in range(num_body-1):\n",
    "    # Add body i+1 with Jacobi coordinates indexed by i and mass i+1\n",
    "    sim.add(m=m[i+1], a=a[i], e=e[i], inc=inc[i], Omega=Omega[i], omega=omega[i], f=f[i])\n",
    "    # The body that was just added\n",
    "    p = sim.particles[i+1]\n",
    "    # Jacobi coordinates of this body are its coordinates less the cumulative center of mass\n",
    "    qj[i+1, :] = [p.x -  com.x,  p.y - com.y,   p.z  - com.z]    \n",
    "    vj[i+1, :] = [p.vx - com.vx, p.vy - com.vy, p.vz - com.vz]    \n",
    "    # Update the center of mass\n",
    "    com = com + p\n",
    "    # Gravitational field strength\n",
    "    mu[i+1] = sim.G * com.m\n",
    "\n",
    "# Move to center of mass\n",
    "sim.move_to_com()\n",
    "\n",
    "# The first Jacobi coordinate in row 0 is the position and velocity of the COM\n",
    "# This has been set to zero above, so don't need to change it from initialization.\n",
    "\n",
    "# Save the Cartesian coordinates in the COM frame\n",
    "for i in range(num_body):\n",
    "    pi = sim.particles[i]\n",
    "    q[i, :] = [pi.x, pi.y, pi.z]\n",
    "    v[i, :] = [pi.vx, pi.vy, pi.vz]\n"
   ]
  },
  {
   "cell_type": "code",
   "execution_count": null,
   "metadata": {},
   "outputs": [],
   "source": [
    "qj"
   ]
  },
  {
   "cell_type": "code",
   "execution_count": null,
   "metadata": {},
   "outputs": [],
   "source": [
    "vj"
   ]
  },
  {
   "cell_type": "code",
   "execution_count": null,
   "metadata": {},
   "outputs": [],
   "source": [
    "q"
   ]
  },
  {
   "cell_type": "code",
   "execution_count": null,
   "metadata": {},
   "outputs": [],
   "source": [
    "v"
   ]
  },
  {
   "cell_type": "code",
   "execution_count": null,
   "metadata": {},
   "outputs": [],
   "source": [
    "mu"
   ]
  },
  {
   "cell_type": "code",
   "execution_count": null,
   "metadata": {},
   "outputs": [],
   "source": []
  }
 ],
 "metadata": {
  "kernelspec": {
   "display_name": "Python [conda env:nbody]",
   "language": "python",
   "name": "conda-env-nbody-py"
  },
  "language_info": {
   "codemirror_mode": {
    "name": "ipython",
    "version": 3
   },
   "file_extension": ".py",
   "mimetype": "text/x-python",
   "name": "python",
   "nbconvert_exporter": "python",
   "pygments_lexer": "ipython3",
   "version": "3.7.3"
  }
 },
 "nbformat": 4,
 "nbformat_minor": 2
}
