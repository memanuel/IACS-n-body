{
 "cells": [
  {
   "cell_type": "markdown",
   "metadata": {},
   "source": [
    "# Jacobi to Cartesian Coordinates"
   ]
  },
  {
   "cell_type": "code",
   "execution_count": 1,
   "metadata": {},
   "outputs": [],
   "source": [
    "# Library imports\n",
    "import tensorflow as tf\n",
    "import numpy as np\n",
    "import matplotlib.pyplot as plt\n",
    "import rebound\n",
    "\n",
    "# Aliases\n",
    "keras = tf.keras"
   ]
  },
  {
   "cell_type": "code",
   "execution_count": 2,
   "metadata": {},
   "outputs": [],
   "source": [
    "# Local imports\n",
    "from utils import load_vartbl, save_vartbl, plot_style\n",
    "from tf_utils import gpu_grow_memory\n",
    "from jacobi import make_data_jacobi, make_dataset_cart_to_jac, make_dataset_jac_to_cart, make_dataset_cart_to_cart\n",
    "from jacobi import CartesianToJacobi, JacobiToCartesian\n",
    "from jacobi import make_model_cart_to_jac, make_model_jac_to_cart, make_model_cart_to_cart"
   ]
  },
  {
   "cell_type": "code",
   "execution_count": 3,
   "metadata": {},
   "outputs": [],
   "source": [
    "# Grow GPU memory (must be first operation in TF)\n",
    "gpu_grow_memory()"
   ]
  },
  {
   "cell_type": "code",
   "execution_count": 4,
   "metadata": {},
   "outputs": [],
   "source": [
    "# Plot style \n",
    "plot_style()"
   ]
  },
  {
   "cell_type": "code",
   "execution_count": 5,
   "metadata": {},
   "outputs": [],
   "source": [
    "N = 100\n",
    "num_body = 3\n",
    "data = make_data_jacobi(N=N, num_body=num_body)\n",
    "m = data['m']\n",
    "q = data['q']\n",
    "v = data['v']\n",
    "qj = data['qj']\n",
    "vj = data['vj']\n",
    "mu = data['mu']"
   ]
  },
  {
   "cell_type": "markdown",
   "metadata": {},
   "source": [
    "**Review one example A Matrix as a Sanity Check**"
   ]
  },
  {
   "cell_type": "code",
   "execution_count": 6,
   "metadata": {},
   "outputs": [],
   "source": [
    "# Cumulative mass\n",
    "M = np.cumsum(m, axis=-1)\n",
    "M_tot = keras.layers.Reshape(target_shape=(1,))(M[:, num_body-1])\n",
    "\n",
    "# Assemble num_body x num_body square matrix converting from q to r\n",
    "A_shape = (N, num_body, num_body)\n",
    "A_ = np.zeros(A_shape)\n",
    "A_[:, 0, :] = m / M_tot\n",
    "for i in range(1, num_body):\n",
    "    A_[:, i, 0:i] = -m[:, 0:i] / M[:, i-1:i]\n",
    "    A_[:, i, i] = 1.0"
   ]
  },
  {
   "cell_type": "code",
   "execution_count": 7,
   "metadata": {},
   "outputs": [
    {
     "data": {
      "text/plain": [
       "array([[ 0.98923701,  0.00788368,  0.00287931],\n",
       "       [-1.        ,  1.        ,  0.        ],\n",
       "       [-0.9920935 , -0.00790645,  1.        ]])"
      ]
     },
     "execution_count": 7,
     "metadata": {},
     "output_type": "execute_result"
    }
   ],
   "source": [
    "A_[0]"
   ]
  },
  {
   "cell_type": "code",
   "execution_count": 8,
   "metadata": {},
   "outputs": [
    {
     "data": {
      "text/plain": [
       "array([1.00000000e+00, 0.00000000e+00, 5.12227416e-08])"
      ]
     },
     "execution_count": 8,
     "metadata": {},
     "output_type": "execute_result"
    }
   ],
   "source": [
    "np.sum(A_[0], axis=1)"
   ]
  },
  {
   "cell_type": "markdown",
   "metadata": {},
   "source": [
    "**Create a Dataset**"
   ]
  },
  {
   "cell_type": "code",
   "execution_count": 9,
   "metadata": {},
   "outputs": [],
   "source": [
    "# Create a tensorflow Dataset instance in both directions\n",
    "N = 1024\n",
    "num_body = 3\n",
    "batch_size = 64\n",
    "\n",
    "ds_c2j = make_dataset_cart_to_jac(N=N, num_body=num_body, batch_size=batch_size)\n",
    "ds_j2c = make_dataset_jac_to_cart(N=N, num_body=num_body, batch_size=batch_size)"
   ]
  },
  {
   "cell_type": "code",
   "execution_count": 10,
   "metadata": {},
   "outputs": [],
   "source": [
    "# Create dataset for autoencoder Cartesian to Cartesian\n",
    "ds_c2c = make_dataset_cart_to_cart(N=N, num_body=num_body, batch_size=batch_size)"
   ]
  },
  {
   "cell_type": "code",
   "execution_count": 11,
   "metadata": {},
   "outputs": [],
   "source": [
    "# Example batch - cartesian to jacobi\n",
    "cart, jac = list(ds_c2j.take(1))[0]"
   ]
  },
  {
   "cell_type": "code",
   "execution_count": 12,
   "metadata": {},
   "outputs": [
    {
     "name": "stdout",
     "output_type": "stream",
     "text": [
      "Example batch sizes:\n",
      "m  = (64, 3)\n",
      "q  = (64, 3, 3)\n",
      "v  = (64, 3, 3)\n",
      "qj = (64, 3, 3)\n",
      "vj = (64, 3, 3)\n",
      "mu = (64, 3)\n"
     ]
    }
   ],
   "source": [
    "# Unpack tensors\n",
    "m_ = cart['m']\n",
    "q_ = cart['q']\n",
    "v_ = cart['v']\n",
    "qj_ = jac['qj']\n",
    "vj_ = jac['vj']\n",
    "mu_ = jac['mu']\n",
    "\n",
    "# Review shapes\n",
    "print(f'Example batch sizes:')\n",
    "print(f'm  = {m_.shape}')\n",
    "print(f'q  = {q_.shape}')\n",
    "print(f'v  = {v_.shape}')\n",
    "print(f'qj = {qj_.shape}')\n",
    "print(f'vj = {vj_.shape}')\n",
    "print(f'mu = {mu_.shape}')"
   ]
  },
  {
   "cell_type": "markdown",
   "metadata": {},
   "source": [
    "### Check the Conversion Against the Dataset Using Layers"
   ]
  },
  {
   "cell_type": "code",
   "execution_count": 13,
   "metadata": {},
   "outputs": [],
   "source": [
    "def rms(x):\n",
    "    return np.sqrt(np.mean(np.square(x)))"
   ]
  },
  {
   "cell_type": "code",
   "execution_count": 14,
   "metadata": {},
   "outputs": [
    {
     "name": "stdout",
     "output_type": "stream",
     "text": [
      "RMS Error qj: 3.741e-07\n",
      "RMS Error vj: 5.850e-08\n"
     ]
    }
   ],
   "source": [
    "# Compute Jacobi coordinates from Cartesian\n",
    "qj_calc, vj_calc, mu_calc = CartesianToJacobi()([m, q, v])\n",
    "qj_calc = qj_calc.numpy()\n",
    "vj_calc = vj_calc.numpy()\n",
    "\n",
    "# Error vector\n",
    "err_qj = qj_calc - qj\n",
    "err_vj = vj_calc - vj\n",
    "\n",
    "# RMS Errors\n",
    "rms_qj = rms(err_qj)\n",
    "rms_vj = rms(err_vj)\n",
    "\n",
    "# Display RMS errors\n",
    "print(f'RMS Error qj: {rms_qj:5.3e}')\n",
    "print(f'RMS Error vj: {rms_vj:5.3e}')"
   ]
  },
  {
   "cell_type": "code",
   "execution_count": 15,
   "metadata": {},
   "outputs": [
    {
     "name": "stdout",
     "output_type": "stream",
     "text": [
      "RMS Error q: 5.416e-07\n",
      "RMS Error v: 6.395e-08\n"
     ]
    }
   ],
   "source": [
    "# Compute Cartesian coordinates from Jacobi\n",
    "q_calc, v_calc = JacobiToCartesian()([m, qj, vj])\n",
    "q_calc = q_calc.numpy()\n",
    "v_calc = v_calc.numpy()\n",
    "\n",
    "# Error vector\n",
    "err_q = q_calc - q\n",
    "err_v = v_calc - v\n",
    "\n",
    "# RMS Errors\n",
    "rms_q = rms(err_q)\n",
    "rms_v = rms(err_v)\n",
    "\n",
    "# Display RMS errors\n",
    "print(f'RMS Error q: {rms_q:5.3e}')\n",
    "print(f'RMS Error v: {rms_v:5.3e}')"
   ]
  },
  {
   "cell_type": "code",
   "execution_count": 16,
   "metadata": {},
   "outputs": [
    {
     "name": "stdout",
     "output_type": "stream",
     "text": [
      "RMS Error q: 4.691e-07\n",
      "RMS Error v: 6.442e-08\n"
     ]
    }
   ],
   "source": [
    "# Compute Cartesian coordinates from autoencoder\n",
    "q_ae, v_ae = JacobiToCartesian()([m, qj_calc, vj_calc])\n",
    "q_ae = q_ae.numpy()\n",
    "v_ae = v_ae.numpy()\n",
    "\n",
    "# Error vector\n",
    "err_q_ae = q_ae - q\n",
    "err_v_ae = v_ae - v\n",
    "\n",
    "# RMS Errors\n",
    "rms_q_ae = rms(err_q_ae)\n",
    "rms_v_ae = rms(err_v_ae)\n",
    "\n",
    "# Display RMS errors\n",
    "print(f'RMS Error q: {rms_q_ae:5.3e}')\n",
    "print(f'RMS Error v: {rms_v_ae:5.3e}')"
   ]
  },
  {
   "cell_type": "markdown",
   "metadata": {},
   "source": [
    "***Conversion in Both Directions is Very Accurate; so is autoencoder***"
   ]
  },
  {
   "cell_type": "markdown",
   "metadata": {},
   "source": [
    "### Check the Conversion Against the Dataset Using Models"
   ]
  },
  {
   "cell_type": "markdown",
   "metadata": {},
   "source": [
    "***Cartesian to Jacobi***"
   ]
  },
  {
   "cell_type": "code",
   "execution_count": 17,
   "metadata": {},
   "outputs": [],
   "source": [
    "# Build the model\n",
    "model_c2j = make_model_cart_to_jac(num_body=3)"
   ]
  },
  {
   "cell_type": "code",
   "execution_count": 18,
   "metadata": {},
   "outputs": [],
   "source": [
    "# model_c2j.summary()"
   ]
  },
  {
   "cell_type": "code",
   "execution_count": 19,
   "metadata": {},
   "outputs": [],
   "source": [
    "# Inputs to compile the c2j model\n",
    "optimizer = keras.optimizers.Adam(learning_rate=1.0E-3)\n",
    "\n",
    "loss = {'qj': keras.losses.MeanSquaredError(),\n",
    "        'vj': keras.losses.MeanSquaredError(),\n",
    "        'mu': keras.losses.MeanSquaredError(),\n",
    "       }\n",
    "\n",
    "metrics = None\n",
    "\n",
    "loss_weights = {'qj': 1.0,\n",
    "                'vj': 1.0,\n",
    "                'mu': 1.0}"
   ]
  },
  {
   "cell_type": "code",
   "execution_count": 20,
   "metadata": {},
   "outputs": [],
   "source": [
    "# Compile the c2j model\n",
    "model_c2j.compile(optimizer=optimizer, loss=loss, metrics=metrics, loss_weights=loss_weights)"
   ]
  },
  {
   "cell_type": "code",
   "execution_count": 21,
   "metadata": {},
   "outputs": [
    {
     "name": "stdout",
     "output_type": "stream",
     "text": [
      "16/16 [==============================] - 0s 18ms/step - loss: 5.0109e-12 - qj_loss: 1.2987e-13 - vj_loss: 1.9483e-15 - mu_loss: 4.8791e-12\n"
     ]
    },
    {
     "data": {
      "text/plain": [
       "[5.010881629335245e-12, 1.2987303e-13, 1.9482954e-15, 4.8790603e-12]"
      ]
     },
     "execution_count": 21,
     "metadata": {},
     "output_type": "execute_result"
    }
   ],
   "source": [
    "model_c2j.evaluate(ds_c2j)"
   ]
  },
  {
   "cell_type": "code",
   "execution_count": 22,
   "metadata": {},
   "outputs": [
    {
     "name": "stdout",
     "output_type": "stream",
     "text": [
      "RMS Error qj: 3.741e-07\n",
      "RMS Error vj: 5.850e-08\n"
     ]
    }
   ],
   "source": [
    "# Invoke model manually with numpy arrays\n",
    "qj_calc, vj_calc, mu = model_c2j([m, q, v])\n",
    "\n",
    "# Error vector\n",
    "err_qj = qj_calc - qj\n",
    "err_vj = vj_calc - vj\n",
    "\n",
    "# RMS Errors\n",
    "rms_qj = rms(err_qj)\n",
    "rms_vj = rms(err_vj)\n",
    "\n",
    "# Display RMS errors\n",
    "print(f'RMS Error qj: {rms_qj:5.3e}')\n",
    "print(f'RMS Error vj: {rms_vj:5.3e}')"
   ]
  },
  {
   "cell_type": "code",
   "execution_count": 23,
   "metadata": {},
   "outputs": [
    {
     "name": "stdout",
     "output_type": "stream",
     "text": [
      "Output shapes:\n",
      "qj: (100, 3, 3)\n",
      "vj: (100, 3, 3)\n",
      "mu: (100, 3)\n"
     ]
    }
   ],
   "source": [
    "print(f'Output shapes:')\n",
    "print(f'qj: {qj.shape}')\n",
    "print(f'vj: {vj.shape}')\n",
    "print(f'mu: {mu.shape}')"
   ]
  },
  {
   "cell_type": "markdown",
   "metadata": {},
   "source": [
    "***Jacobi to Cartesian***"
   ]
  },
  {
   "cell_type": "code",
   "execution_count": 24,
   "metadata": {},
   "outputs": [],
   "source": [
    "# Build the model\n",
    "model_j2c = make_model_jac_to_cart(num_body=3)"
   ]
  },
  {
   "cell_type": "code",
   "execution_count": 25,
   "metadata": {},
   "outputs": [],
   "source": [
    "# Inputs to compile the c2e model\n",
    "loss_j2c = {'q': keras.losses.MeanSquaredError(),\n",
    "            'v': keras.losses.MeanSquaredError()}\n",
    "\n",
    "loss_weights_j2c = {'q': 1.0,\n",
    "                    'v': 1.0}"
   ]
  },
  {
   "cell_type": "code",
   "execution_count": 26,
   "metadata": {},
   "outputs": [],
   "source": [
    "model_j2c.compile(optimizer=optimizer, loss=loss_j2c, metrics=metrics, loss_weights=loss_weights_j2c)"
   ]
  },
  {
   "cell_type": "code",
   "execution_count": 27,
   "metadata": {},
   "outputs": [
    {
     "name": "stdout",
     "output_type": "stream",
     "text": [
      "16/16 [==============================] - 0s 11ms/step - loss: 2.5768e-13 - q_loss: 2.5328e-13 - v_loss: 4.4073e-15\n"
     ]
    },
    {
     "data": {
      "text/plain": [
       "[2.57683740644487e-13, 2.5327643e-13, 4.4073267e-15]"
      ]
     },
     "execution_count": 27,
     "metadata": {},
     "output_type": "execute_result"
    }
   ],
   "source": [
    "model_j2c.evaluate(ds_j2c)"
   ]
  },
  {
   "cell_type": "markdown",
   "metadata": {},
   "source": [
    "### Test the Autoencoder on Cartesian Coordinates"
   ]
  },
  {
   "cell_type": "code",
   "execution_count": 28,
   "metadata": {},
   "outputs": [],
   "source": [
    "model_c2c = make_model_cart_to_cart(num_body=3)"
   ]
  },
  {
   "cell_type": "code",
   "execution_count": 29,
   "metadata": {},
   "outputs": [],
   "source": [
    "# Inputs to compile the c2e model\n",
    "loss_c2c = {'q_calc': keras.losses.MeanSquaredError(),\n",
    "            'v_calc': keras.losses.MeanSquaredError(),}\n",
    "\n",
    "loss_weights_c2c = {'q_calc': 1.0,\n",
    "                    'v_calc': 1.0}"
   ]
  },
  {
   "cell_type": "code",
   "execution_count": 30,
   "metadata": {},
   "outputs": [],
   "source": [
    "model_c2c.compile(optimizer=optimizer, loss=loss_c2c, metrics=metrics, loss_weights=loss_weights_c2c)"
   ]
  },
  {
   "cell_type": "code",
   "execution_count": 31,
   "metadata": {},
   "outputs": [
    {
     "name": "stdout",
     "output_type": "stream",
     "text": [
      "16/16 [==============================] - 0s 13ms/step - loss: 2.1825e-13 - q_calc_loss: 2.1423e-13 - v_calc_loss: 4.0172e-15\n"
     ]
    },
    {
     "data": {
      "text/plain": [
       "[2.182496813279305e-13, 2.1423248e-13, 4.0171876e-15]"
      ]
     },
     "execution_count": 31,
     "metadata": {},
     "output_type": "execute_result"
    }
   ],
   "source": [
    "model_c2c.evaluate(ds_c2c)"
   ]
  },
  {
   "cell_type": "code",
   "execution_count": null,
   "metadata": {},
   "outputs": [],
   "source": []
  }
 ],
 "metadata": {
  "kernelspec": {
   "display_name": "Python [conda env:nbody]",
   "language": "python",
   "name": "conda-env-nbody-py"
  },
  "language_info": {
   "codemirror_mode": {
    "name": "ipython",
    "version": 3
   },
   "file_extension": ".py",
   "mimetype": "text/x-python",
   "name": "python",
   "nbconvert_exporter": "python",
   "pygments_lexer": "ipython3",
   "version": "3.7.3"
  }
 },
 "nbformat": 4,
 "nbformat_minor": 2
}
