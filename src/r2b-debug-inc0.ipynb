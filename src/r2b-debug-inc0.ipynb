{
 "cells": [
  {
   "cell_type": "markdown",
   "metadata": {},
   "source": [
    "# Restricted Two Body Problem: Elliptical Orbits Around a Central Mass\n",
    "\n",
    "This is the general case of a Keperian orbit.<br>\n",
    "A light body (e.g. a planet) orbits a heavy central body (e.g. the sun).  The orbit is an ellipse with the primary at one focus.<br>\n",
    "See https://en.wikipedia.org/wiki/Kepler_orbit for a detailed discussion on the theory and history of this problem."
   ]
  },
  {
   "cell_type": "code",
   "execution_count": 1,
   "metadata": {},
   "outputs": [],
   "source": [
    "# Library imports\n",
    "import tensorflow as tf\n",
    "import rebound\n",
    "import numpy as np\n",
    "\n",
    "# Aliases\n",
    "keras = tf.keras"
   ]
  },
  {
   "cell_type": "code",
   "execution_count": 2,
   "metadata": {},
   "outputs": [
    {
     "ename": "ImportError",
     "evalue": "cannot import name 'make_train_r2b' from 'r2b_data' (/home/michael/IACS/Thesis/src/r2b_data.py)",
     "output_type": "error",
     "traceback": [
      "\u001b[0;31m---------------------------------------------------------------------------\u001b[0m",
      "\u001b[0;31mImportError\u001b[0m                               Traceback (most recent call last)",
      "\u001b[0;32m<ipython-input-2-1dc96b4a1744>\u001b[0m in \u001b[0;36m<module>\u001b[0;34m\u001b[0m\n\u001b[1;32m      8\u001b[0m \u001b[0;32mfrom\u001b[0m \u001b[0morbital_element\u001b[0m \u001b[0;32mimport\u001b[0m \u001b[0mmake_model_elt_to_cfg\u001b[0m\u001b[0;34m,\u001b[0m \u001b[0mmake_model_cfg_to_elt\u001b[0m\u001b[0;34m\u001b[0m\u001b[0;34m\u001b[0m\u001b[0m\n\u001b[1;32m      9\u001b[0m \u001b[0;34m\u001b[0m\u001b[0m\n\u001b[0;32m---> 10\u001b[0;31m \u001b[0;32mfrom\u001b[0m \u001b[0mr2b_data\u001b[0m \u001b[0;32mimport\u001b[0m \u001b[0mmake_traj_r2b\u001b[0m\u001b[0;34m,\u001b[0m \u001b[0mmake_train_r2b\u001b[0m\u001b[0;34m,\u001b[0m \u001b[0mmake_datasets_r2b\u001b[0m\u001b[0;34m\u001b[0m\u001b[0;34m\u001b[0m\u001b[0m\n\u001b[0m\u001b[1;32m     11\u001b[0m \u001b[0;32mfrom\u001b[0m \u001b[0mr2b_data\u001b[0m \u001b[0;32mimport\u001b[0m \u001b[0mmake_datasets_earth\u001b[0m\u001b[0;34m,\u001b[0m \u001b[0mmake_datasets_solar\u001b[0m\u001b[0;34m\u001b[0m\u001b[0;34m\u001b[0m\u001b[0m\n\u001b[1;32m     12\u001b[0m \u001b[0;32mfrom\u001b[0m \u001b[0mr2b_plot\u001b[0m \u001b[0;32mimport\u001b[0m \u001b[0mplot_orbit_q\u001b[0m\u001b[0;34m,\u001b[0m \u001b[0mplot_orbit_v\u001b[0m\u001b[0;34m,\u001b[0m \u001b[0mplot_orbit_a\u001b[0m\u001b[0;34m,\u001b[0m \u001b[0mplot_orbit_energy\u001b[0m\u001b[0;34m\u001b[0m\u001b[0;34m\u001b[0m\u001b[0m\n",
      "\u001b[0;31mImportError\u001b[0m: cannot import name 'make_train_r2b' from 'r2b_data' (/home/michael/IACS/Thesis/src/r2b_data.py)"
     ]
    }
   ],
   "source": [
    "# Local imports\n",
    "from utils import load_vartbl, save_vartbl, plot_style\n",
    "from tf_utils import gpu_grow_memory, TimeHistory\n",
    "from tf_utils import plot_loss_hist, EpochLoss, TimeHistory\n",
    "from tf_utils import Identity\n",
    "\n",
    "from orbital_element import OrbitalElementToConfig, ConfigToOrbitalElement, MeanToTrueAnomaly\n",
    "from orbital_element import make_model_elt_to_cfg, make_model_cfg_to_elt\n",
    "\n",
    "from r2b_data import make_traj_r2b, make_train_r2b, make_datasets_r2b\n",
    "from r2b_data import make_datasets_earth, make_datasets_solar\n",
    "from r2b_plot import plot_orbit_q, plot_orbit_v, plot_orbit_a, plot_orbit_energy\n",
    "\n",
    "from r2b import KineticEnergy_R2B, PotentialEnergy_R2B, AngularMomentum_R2B\n",
    "from r2b import VectorError, EnergyError\n",
    "from r2b import Motion_R2B, make_physics_model_r2b\n",
    "from r2b_model_math import make_position_model_r2b_math, make_model_r2b_math"
   ]
  },
  {
   "cell_type": "code",
   "execution_count": null,
   "metadata": {},
   "outputs": [],
   "source": [
    "# Grow GPU memory (must be first operation in TF)\n",
    "gpu_grow_memory()"
   ]
  },
  {
   "cell_type": "code",
   "execution_count": null,
   "metadata": {},
   "outputs": [],
   "source": [
    "# Lightweight serialization\n",
    "fname = '../data/r2b/r2b.pickle'\n",
    "vartbl = load_vartbl(fname)"
   ]
  },
  {
   "cell_type": "markdown",
   "metadata": {},
   "source": [
    "### Orbital Elements Refresher"
   ]
  },
  {
   "cell_type": "markdown",
   "metadata": {},
   "source": [
    "![title](../figs/web/orbital-elements.png)"
   ]
  },
  {
   "cell_type": "markdown",
   "metadata": {},
   "source": [
    "**Variable Names of Six Keplerian Orbital Elements**\n",
    "* `a` - semi-major axis; size of the ellipse; mean of periapsis and apoapsis distances\n",
    "* `e` - eccentricity; shape of the ellipse.  e=0 is a circle, e=1 is a line.  $e^2 = 1 - b^2 / a^2$\n",
    "* `inc` - inclination; angle between orbital and ecliptic planes\n",
    "* `Omega` - longitude of the asending node; undefined when inc=0\n",
    "* `omega` - argument of pericenter; true anomaly where body is closest to the primary.\n",
    "* `f` - true anomaly; angle of the orbiting body in its orbital plane\n",
    "\n",
    "**Two Additional Elements**\n",
    "* `M` - mean anomaly; area swept out by the orbiting body, normalized so a full orbit is $2 \\pi$.  Because of the rule of equal area in equal time, a.k.a. conservation of angular momentum, the mean anomly is linear in time\n",
    "* `N` - mean motion; rate at which mean anomly changes, i.e. $2 \\pi / T$ where $T$ is the orbital period"
   ]
  },
  {
   "cell_type": "markdown",
   "metadata": {},
   "source": [
    "### Generate and Visualize One Example Orbital Path"
   ]
  },
  {
   "cell_type": "markdown",
   "metadata": {},
   "source": [
    "The module `r2b_data.py` includes functions used to generate training data for the restricted two body problem.<br>\n",
    "The function `make_traj_r2b` generates a single trajectory for the R2B problem.  It takes as inputs the six traditional orbital elements (`a`, `e`, `inc`, `Omega`, `omega`, `f`).  It creates a new Rebound simulation with two particles: the sun and the orbiting body.  The sun has mass 1.0 in solar mass units, and initial position and velocity 0.  The orbiting body is defined as a \"test particle\" with a mass of 0, and its initial position and velocity are assigned by Rebound based on the orbital elements.  The orbit is evaluated at intervals of one \"day\" (1/365 of a year) for a period of `n_years`.  Here I used 2 years, leading to 731 data points counting both the start and end point.  The results are returned in two Dict objects named inputs and outputs.<br>\n",
    "**Inputs**\n",
    "* t - vector of times at which the orbit was sampled\n",
    "* q0 - initial position; 3 vector\n",
    "* v0 - initial velocity; 3 vector\n",
    "* mu - the gravitational field strength, $\\mu = G \\cdot m_0$; constant $\\approx 4 \\pi^2$ \n",
    "when central object has 1.0 solar mass\n",
    "\n",
    "**Outputs**\n",
    "* q - orbital positions over time; Nx3 matrix\n",
    "* v - orbital velocitiy over time; Nx3 matrix\n",
    "* a - orbital accelaration over time; Nx3 matrix\n",
    "* q0_rec - recovered initial position; duplicate of q0\n",
    "* v0_rec - recovered initial velocity; duplicate ov v0\n",
    "* T - the kinetic energy per unit mass of the test particle; $\\frac{1}{2} |v|^2$\n",
    "* U - the potential energy per unit mass of the test particle; $\\frac{-G m_0}{r}$ where $r = |q|$ is the distance\n",
    "* H - the total energy in the system $H = T + U$\n",
    "* L - the specific angular momentum, $L = q \\times v$\n"
   ]
  },
  {
   "cell_type": "code",
   "execution_count": null,
   "metadata": {},
   "outputs": [],
   "source": [
    "# Generate one example trajectory with an earth-like orbit\n",
    "a = 1.0\n",
    "e = 0.2\n",
    "inc = 0.02\n",
    "Omega = 0.0\n",
    "omega = 0.0\n",
    "f = 0.0\n",
    "n_years = 2\n",
    "\n",
    "inputs_traj, outputs_traj = make_traj_r2b(a=a, e=e, inc=inc, Omega=Omega, omega=omega, f=f, n_years=n_years)\n",
    "\n",
    "# Combined dict\n",
    "data_traj = {**inputs_traj, **outputs_traj}\n",
    "\n",
    "# Review the fields\n",
    "print('Input fields:', list(inputs_traj.keys()))\n",
    "print('Output fields:', list(outputs_traj.keys()))"
   ]
  },
  {
   "cell_type": "code",
   "execution_count": null,
   "metadata": {},
   "outputs": [],
   "source": [
    "# Plot style \n",
    "plot_style()"
   ]
  },
  {
   "cell_type": "code",
   "execution_count": null,
   "metadata": {},
   "outputs": [],
   "source": [
    "fig, ax = plot_orbit_q(data_traj)"
   ]
  },
  {
   "cell_type": "code",
   "execution_count": null,
   "metadata": {},
   "outputs": [],
   "source": [
    "fig, ax = plot_orbit_v(data_traj)"
   ]
  },
  {
   "cell_type": "code",
   "execution_count": null,
   "metadata": {},
   "outputs": [],
   "source": [
    "fig, ax = plot_orbit_a(data_traj)"
   ]
  },
  {
   "cell_type": "code",
   "execution_count": null,
   "metadata": {},
   "outputs": [],
   "source": [
    "fig, ax = plot_orbit_energy(data_traj)"
   ]
  },
  {
   "cell_type": "markdown",
   "metadata": {},
   "source": [
    "### Generate Training Data with a Range of Orbital Parameters"
   ]
  },
  {
   "cell_type": "markdown",
   "metadata": {},
   "source": [
    "The function `make_train_r2b` creates training data for the restricted 2 body problem in the form of dictionaries of numpy arrays.  These are analogous to the outputs of `make_traj_r2b`, but there is an outer index of `n_traj` different trajectories.  The inputs `a_min`, `a_max`, `e_max`, and `inc_max` determine the sampling ranges for the parameters `a`, `e` and `inc` of the orbital elements of the starting configuration.  The other orbital elements (`Omega`, `omega`, `f`) are sampled over the full range of admissible values.<br>\n",
    "The function `make_datasets_r2b` generates three tensorflow Dataset objects for train, validation and test, respectively.  Data is generated in the form of Numpy arrays using `make_train_r2b` because it is easier to serialize in that format.  The function checks on disk to see if the data is already available, and if so, loads it.  Otherwise it generates and then saves it.  Effective serialization is critical because the data set is expensive to generate."
   ]
  },
  {
   "cell_type": "code",
   "execution_count": null,
   "metadata": {},
   "outputs": [],
   "source": [
    "# Inputs for make_train_r2b\n",
    "n_traj = 10\n",
    "n_years = 2\n",
    "a_min = 0.50\n",
    "a_max = 32.0\n",
    "e_max = 0.20\n",
    "inc_max = np.pi/4.0\n",
    "seed = 42"
   ]
  },
  {
   "cell_type": "code",
   "execution_count": null,
   "metadata": {},
   "outputs": [],
   "source": [
    "# Test make_train_r2b\n",
    "inputs, outputs= make_train_r2b(n_traj=n_traj, n_years=n_years, a_min=a_min, a_max=a_max, \n",
    "                                e_max=e_max, inc_max=inc_max, seed=seed)"
   ]
  },
  {
   "cell_type": "code",
   "execution_count": null,
   "metadata": {},
   "outputs": [],
   "source": [
    "# Inputs for make_datasets_r2b\n",
    "n_traj = 100\n",
    "vt_split = 0.20\n",
    "n_years = 2\n",
    "\n",
    "# The batch size (encapsulated in make_datasets_earth and make_datasets_solar)\n",
    "batch_size = 64"
   ]
  },
  {
   "cell_type": "code",
   "execution_count": null,
   "metadata": {},
   "outputs": [],
   "source": [
    "# Create DataSet objects for toy size problem - earth orbits only (a=1, e=0)\n",
    "ds_earth_trn, ds_earth_val, ds_earth_tst = make_datasets_earth(n_traj=n_traj, vt_split=vt_split, n_years=n_years)"
   ]
  },
  {
   "cell_type": "code",
   "execution_count": null,
   "metadata": {},
   "outputs": [],
   "source": [
    "# Create DataSet objects for toy size problem - solar system type orbits\n",
    "ds_small_trn, ds_small_val, ds_small_tst = make_datasets_solar(n_traj=n_traj, vt_split=vt_split, n_years=n_years)"
   ]
  },
  {
   "cell_type": "code",
   "execution_count": null,
   "metadata": {},
   "outputs": [],
   "source": [
    "# Create a medium data set with 10,000 solar system type orbits\n",
    "n_traj = 10000\n",
    "\n",
    "ds_trn, ds_val, ds_tst = make_datasets_solar(n_traj=n_traj, vt_split=vt_split, n_years=n_years)"
   ]
  },
  {
   "cell_type": "code",
   "execution_count": null,
   "metadata": {},
   "outputs": [],
   "source": [
    "# Create a large data set with 100,000 solar system type orbits\n",
    "# n_traj = 100000\n",
    "\n",
    "# ds_trn, ds_val, ds_tst = make_datasets_solar(n_traj=n_traj, vt_split=vt_split, n_years=n_years)"
   ]
  },
  {
   "cell_type": "code",
   "execution_count": null,
   "metadata": {},
   "outputs": [],
   "source": [
    "make_filename_r2b(n_traj=100000, vt_split=0.20, n_years=2, \n",
    "                  a_min=0.50, a_max=32.0, e_max=0.20, inc_max=np.pi/4.0, seed=42)"
   ]
  },
  {
   "cell_type": "markdown",
   "metadata": {},
   "source": [
    "**Generating 140,000 trajectories takes about 110 minutes on my server and uses about 4.6 GB of disk space.**"
   ]
  },
  {
   "cell_type": "markdown",
   "metadata": {},
   "source": [
    "### Review One Example Batch of Training Data"
   ]
  },
  {
   "cell_type": "code",
   "execution_count": null,
   "metadata": {},
   "outputs": [],
   "source": [
    "# Example batch\n",
    "batch_in, batch_out = list(ds_earth_trn.take(1))[0]\n",
    "print('Input field names: ', list(batch_in.keys()))\n",
    "print('Output field names:', list(batch_out.keys()))\n",
    "\n",
    "t = batch_in['t']\n",
    "q0 = batch_in['q0']\n",
    "v0 = batch_in['v0']\n",
    "mu = batch_in['mu']\n",
    "\n",
    "q = batch_out['q']\n",
    "v = batch_out['v']\n",
    "a = batch_out['a']\n",
    "q0_rec = batch_out['q0_rec']\n",
    "v0_rec = batch_out['v0_rec']\n",
    "H = batch_out['H']\n",
    "L = batch_out['L']\n",
    "\n",
    "print(f'\\nExample batch sizes:')\n",
    "print(f't  = {t.shape}')\n",
    "print(f'q0 = {q0.shape}')\n",
    "print(f'v0 = {v0.shape}')\n",
    "print(f'mu = {mu.shape}')\n",
    "\n",
    "print(f'q  = {q.shape}')\n",
    "print(f'v  = {v.shape}')\n",
    "print(f'a  = {a.shape}')\n",
    "# print(f'q0_rec = {q0_rec.shape}')\n",
    "# print(f'v0_rec = {v0_rec.shape}')\n",
    "print(f'H  = {H.shape}')\n",
    "print(f'L  = {L.shape}')"
   ]
  },
  {
   "cell_type": "code",
   "execution_count": null,
   "metadata": {},
   "outputs": [],
   "source": [
    "traj_size = 731\n",
    "\n",
    "tf.debugging.assert_shapes(\n",
    "    shapes = {\n",
    "    # Inputs\n",
    "    t: (batch_size, traj_size),\n",
    "    q0: (batch_size, 3),\n",
    "    v0: (batch_size, 3),\n",
    "    mu: (batch_size,),\n",
    "    # Outputs\n",
    "    q: (batch_size, traj_size, 3),\n",
    "    v: (batch_size, traj_size, 3),\n",
    "    a: (batch_size, traj_size, 3),\n",
    "    q0_rec: (batch_size, 3),\n",
    "    v0_rec: (batch_size, 3),\n",
    "    H: (batch_size, traj_size),\n",
    "    L: (batch_size, traj_size, 3),\n",
    "    })"
   ]
  },
  {
   "cell_type": "markdown",
   "metadata": {},
   "source": [
    "### Custom Keras Layers with Physics Computations of Energy and Angular Momentum\n",
    "\n",
    "The module `r2b.py` contains shared elements used in the restricted 2 body problem.<br>\n",
    "The layer `KineticEnergy_R2B` computes the kinetic energy (per unit of mass) of the orbiting body given its velocity `v` as a 3-vector.<br>\n",
    "The kinetetic energy is $T = \\frac{1}{2} |v|^2$ <br>\n",
    "The layer `PotentialEnergy_R2B` computes the potential energy (per unit of mass) of the orbiting body given its position `q` as a 3-vector.  The gravitational field strength `mu` is a constant equating to 1 solar mass.  This could be adjusted to be an input variable, but I've left it constant for simplicity.<br>\n",
    "The potential energy $U = -\\mu / r$ where $r = |q|$.<br>\n",
    "The layer `AngularMomentum_R2B` computes the specific angular momentum of the orbiting body given its position `q` and velocity `v`.<br>\n",
    "The angular momentum $L = q \\times v$, the 3D vector cross product.  The angular momentum is returned as a 3-vector, NOT as a scalar magnitude.  While technically the restricted two body problem can be solved by a coordinate change in a 2D plane, I wanted an approach that would generalize well to the three body problem.\n",
    "\n",
    "In addition to the custom layers computing the physical quantities, there are also custom loss functions intended to be used with them.<br>\n",
    "The custom loss function `VectorError` returns the relative error \n",
    "$$E = \\frac{|y_{true} - y_{pred}|}{|y_{true}| + R}$$\n",
    "where $R$ is an optional regularization term that defaults to 0.<br>\n",
    "The custom loss function `EnergyError` returns a log scaled squared error\n",
    "$$E = \\log{\\left[1 + \\left(\\frac{y_{pred} - y_{true}}{y_{true}}\\right)^2\\right]}$$\n",
    "The log scaling is introduced so that the error doesn't blow up catastrophically when distance gets too small.  This was causing problems in training when an un-scaled energy error was used."
   ]
  },
  {
   "cell_type": "markdown",
   "metadata": {},
   "source": [
    "**Call layers with physics computations**"
   ]
  },
  {
   "cell_type": "code",
   "execution_count": null,
   "metadata": {},
   "outputs": [],
   "source": [
    "T = KineticEnergy_R2B()(v)\n",
    "T.shape"
   ]
  },
  {
   "cell_type": "code",
   "execution_count": null,
   "metadata": {},
   "outputs": [],
   "source": [
    "U = PotentialEnergy_R2B()((q, mu))\n",
    "U.shape"
   ]
  },
  {
   "cell_type": "code",
   "execution_count": null,
   "metadata": {},
   "outputs": [],
   "source": [
    "L = AngularMomentum_R2B()([q, v])\n",
    "L.shape"
   ]
  },
  {
   "cell_type": "markdown",
   "metadata": {},
   "source": [
    "## Conversion of initial configuration to orbital elements"
   ]
  },
  {
   "cell_type": "code",
   "execution_count": null,
   "metadata": {},
   "outputs": [],
   "source": [
    "qx = q0[:,0]\n",
    "qy = q0[:,1]\n",
    "qz = q0[:,2]\n",
    "vx = v0[:,0]\n",
    "vy = v0[:,1]\n",
    "vz = v0[:,2]\n",
    "inputs_cart = (qx, qy, qz, vx, vy, vz, mu)"
   ]
  },
  {
   "cell_type": "code",
   "execution_count": null,
   "metadata": {},
   "outputs": [],
   "source": [
    "elts = ConfigToOrbitalElement()(inputs_cart)\n",
    "a0, e0, inc0, Omega0, omega0, f0, M0, N0 = elts"
   ]
  },
  {
   "cell_type": "code",
   "execution_count": null,
   "metadata": {},
   "outputs": [],
   "source": [
    "# Review shapes\n",
    "print(f'Example batch sizes:')\n",
    "print(f'qx   = {qx.shape}')\n",
    "print(f'vx   = {vx.shape}')\n",
    "print(f'mu   = {mu.shape}')\n",
    "print(f'a0   = {a0.shape}')"
   ]
  },
  {
   "cell_type": "code",
   "execution_count": null,
   "metadata": {},
   "outputs": [],
   "source": [
    "# Display the numerical value of the graviational field strength mu in the (years, AU, solar masses) unit system\n",
    "mu_reb = inputs['mu'][0]\n",
    "print(f'mu = {mu_reb:20.12f}')\n",
    "print(f'4 pi^2 =  {4*np.pi**2:10.12f}')"
   ]
  },
  {
   "cell_type": "markdown",
   "metadata": {},
   "source": [
    "### Mathematical Model - Predict Orbits Analytically Using Orbital Elements"
   ]
  },
  {
   "cell_type": "markdown",
   "metadata": {},
   "source": [
    "A **position model** predicts the Cartesian position (qx, qy, qz) of the system as a function of a time.  It takes as inputs (t, q0, v0).  It also outputs velocities (vx, vy, vz) that are consistent with the orbital elements.  These will be exactly correct if the model is correct, i.e. if the 5 orbital elements other than `f` are constant, and if `f` is evolving consistently with the mean motion and Kepler's equation.<br>\n",
    "A position model can be used to build a **motion model** which also outputs the (exact) velocity and acceleration based on the position as a function of time.  This is done using automatic differentiation.<br>\n",
    "A motion model can in turn be used to create a **physics model**.  In addition to the position, velocity, and acceleration, this model also computes the physical quantities energy $H$ and angular momentum $L$.<br>\n",
    "The idea of this design is to abstract the common steps of passing from a position model to a physics model so they do not need to be duplicated over different position models.  The module `r2b.py` includes a class `Motion_R2B` that implements this design.  The constructor accepts a position model as described above.  The `call` method of this model creates two GradientTape objects.  The inner-most scope computes the position coordinates (qx, qy, qz) from the inputs using the position model.  The next outer scope computes the velocity as the derivative of position w.r.t. time, e.g. `vx = gt1.gradient(qx, t)`.  The outermost scope similarly computes the acceleration as the derivative of velocity w.r.t. time."
   ]
  },
  {
   "cell_type": "markdown",
   "metadata": {},
   "source": [
    "The module `r2b_model_math` includes a function `make_position_model_r2b_math` that creates an analytical position model for solving the restricted 2 body problem.  The calculations proceed along the following outline:\n",
    "* The initial conditions (q0, v0, mu) are converted to orbital elements (a0, e0, inc0, Omega0, omega0, f0).\n",
    "* The initial mean anomaly M0 and mean motion N0 are also extracted in this step\n",
    "* The orbital elements are repeated to match the trajectory size, e.g. 731.  So if a0 has a shape of (64,), a has a shape of (64,731)\n",
    "* The mean anomaly M as a function of time is computed as M = M0 + N0 * t\n",
    "* The mean anomaly M is converted to the true anomaly f using the layer MeanToTrueAnomaly([M, e])\n",
    "* The complete set of orbital elements (a, e, inc, Omega, omega, f), each with shape (64, 731) is converted back to Cartesian coordinates"
   ]
  },
  {
   "cell_type": "code",
   "execution_count": null,
   "metadata": {},
   "outputs": [],
   "source": [
    "position_model_math = make_position_model_r2b_math(traj_size=traj_size)"
   ]
  },
  {
   "cell_type": "code",
   "execution_count": null,
   "metadata": {},
   "outputs": [],
   "source": [
    "qx, qy, qz, vx_, vy_, vz_ = position_model_math([t, q0, v0, mu])\n",
    "print(f'qx = {qx.shape}')\n",
    "print(f'qy = {qy.shape}')\n",
    "print(f'qz = {qz.shape}')"
   ]
  },
  {
   "cell_type": "code",
   "execution_count": null,
   "metadata": {},
   "outputs": [],
   "source": [
    "# keras.utils.plot_model(position_model_math, '../figs/model_plots/r2b/position_model_math.png')"
   ]
  },
  {
   "cell_type": "code",
   "execution_count": null,
   "metadata": {},
   "outputs": [],
   "source": [
    "# position_model_math.summary()"
   ]
  },
  {
   "cell_type": "markdown",
   "metadata": {},
   "source": [
    "**Motion Model: Compute v and a from q using automatic differentiation**<br>\n",
    "In the next section, we instantiate a motion model using mathematical position model."
   ]
  },
  {
   "cell_type": "code",
   "execution_count": null,
   "metadata": {},
   "outputs": [],
   "source": [
    "motion_model_math = Motion_R2B(position_model=position_model_math, name='motion_model')"
   ]
  },
  {
   "cell_type": "code",
   "execution_count": null,
   "metadata": {},
   "outputs": [],
   "source": [
    "q, v, a = motion_model_math([t, q0, v0, mu])\n",
    "print('shape of motion_model outputs:')\n",
    "print(f'q: {q.shape}')\n",
    "print(f'v: {v.shape}')\n",
    "print(f'a: {a.shape}')"
   ]
  },
  {
   "cell_type": "code",
   "execution_count": null,
   "metadata": {},
   "outputs": [],
   "source": [
    "# Assemble vx_, vy_, vz_ into v_\n",
    "v_ = keras.layers.concatenate([vx_, vy_, vz_])\n",
    "\n",
    "# Compare v with v_\n",
    "vel_err = v - v_\n",
    "\n",
    "# Compute RMS error\n",
    "rms_err = np.sqrt(np.mean(vel_err**2))\n",
    "print(f'RMS error of recovered velocity from automatic differentiation vs. orbital elements:')\n",
    "print(f'{rms_err:5.2E}')"
   ]
  },
  {
   "cell_type": "markdown",
   "metadata": {},
   "source": [
    "**The results are close, with an RMS around 1E-7.**<br>\n",
    "There may be some noise in the interaction of the numerical, iterative solution of Kepler's equation and the automatic differentiation."
   ]
  },
  {
   "cell_type": "code",
   "execution_count": null,
   "metadata": {},
   "outputs": [],
   "source": [
    "# motion_model_math.summary()"
   ]
  },
  {
   "cell_type": "markdown",
   "metadata": {},
   "source": [
    "**Full physics model: computes energy and angular momentum from q, v**<br>\n",
    "In the next section, we instantiate a full physics model from the same mathematical position model.<br>\n",
    "This model is evloving the R2B system using Kepler's Equation and computing the physical quantities."
   ]
  },
  {
   "cell_type": "code",
   "execution_count": null,
   "metadata": {},
   "outputs": [],
   "source": [
    "model_math = make_model_r2b_math()"
   ]
  },
  {
   "cell_type": "code",
   "execution_count": null,
   "metadata": {},
   "outputs": [],
   "source": [
    "model_math.summary()"
   ]
  },
  {
   "cell_type": "markdown",
   "metadata": {},
   "source": [
    "## Review outputs of math model"
   ]
  },
  {
   "cell_type": "code",
   "execution_count": null,
   "metadata": {},
   "outputs": [],
   "source": [
    "q, v, a, q0_rec, v0_rec, H, L  = model_math([t, q0, v0, mu])\n",
    "print(f'model output shapes:')\n",
    "print(f'q = {q.shape}')\n",
    "print(f'v = {v.shape}')\n",
    "print(f'a = {a.shape}')\n",
    "print(f'q0_rec = {q0_rec.shape}')\n",
    "print(f'v0_rec = {v0_rec.shape}')\n",
    "print(f'H = {H.shape}')\n",
    "print(f'L = {L.shape}')"
   ]
  },
  {
   "cell_type": "code",
   "execution_count": null,
   "metadata": {},
   "outputs": [],
   "source": [
    "optimizer = keras.optimizers.Adam(learning_rate=1.0E-3)\n",
    "\n",
    "loss = {'q': VectorError(name='q_loss'),\n",
    "        'v': VectorError(name='v_loss'),\n",
    "        'a': VectorError(regularizer=1.0, name='a_loss'),\n",
    "        'q0_rec': VectorError(name='q0_loss'),\n",
    "        'v0_rec': VectorError(name='v0_loss'),\n",
    "        'H': EnergyError(name='H'),\n",
    "        'L': VectorError(name='L'),\n",
    "       }\n",
    "\n",
    "metrics = None\n",
    "\n",
    "loss_weights = {'q': 1.0,\n",
    "                'v': 1.0,\n",
    "                'a': 1.0,\n",
    "                'q0_rec': 1.0,\n",
    "                'v0_rec': 1.0,\n",
    "                'H': 1.0,\n",
    "                'L': 1.0}"
   ]
  },
  {
   "cell_type": "code",
   "execution_count": null,
   "metadata": {},
   "outputs": [],
   "source": [
    "# Compile the mathematical model\n",
    "model_math.compile(optimizer=optimizer, loss=loss, metrics=metrics, loss_weights=loss_weights)"
   ]
  },
  {
   "cell_type": "code",
   "execution_count": null,
   "metadata": {},
   "outputs": [],
   "source": [
    "# Evaluate the math model on the earth-like data set\n",
    "model_math.evaluate(ds_earth_trn)"
   ]
  },
  {
   "cell_type": "code",
   "execution_count": null,
   "metadata": {},
   "outputs": [],
   "source": [
    "# Evaluate the math model on the solar system -like data set\n",
    "model_math.evaluate(ds_val)"
   ]
  },
  {
   "cell_type": "code",
   "execution_count": null,
   "metadata": {},
   "outputs": [],
   "source": [
    "from r2b_data import make_filename_r2b\n",
    "import pickle\n",
    "\n",
    "def make_data_r2b(n_traj: int, vt_split: float, n_years: int, a_min: float, a_max: float, \n",
    "                      e_max: float, inc_max: float, seed: int, batch_size: int):\n",
    "    \"\"\"Make datasets for the restricted 2 body problem for train, val and test\"\"\"\n",
    "    # Get the filename for these arguments\n",
    "    filename = make_filename_r2b(n_traj=n_traj, vt_split=vt_split, n_years=n_years,\n",
    "                                 a_min=a_min, a_max=a_max, e_max=e_max, inc_max=inc_max, seed=seed)\n",
    "    # Attempt to load the file\n",
    "    try:\n",
    "        with open(filename, 'rb') as fh:\n",
    "            vartbl = pickle.load(fh)\n",
    "            inputs_trn = vartbl['inputs_trn']\n",
    "            outputs_trn = vartbl['outputs_trn']\n",
    "            inputs_val = vartbl['inputs_val']\n",
    "            outputs_val = vartbl['outputs_val']\n",
    "            inputs_tst = vartbl['inputs_tst']\n",
    "            outputs_tst = vartbl['outputs_tst']\n",
    "        print(f'Loaded data from {filename}.')\n",
    "        ans = inputs_trn, outputs_trn, inputs_val, outputs_val, inputs_tst, outputs_tst\n",
    "    # Generate the data and save it to the file\n",
    "    except:\n",
    "        # Status \n",
    "        print(f'Unable to load data from {filename}.')\n",
    "        ans = None\n",
    "\n",
    "    return ans"
   ]
  },
  {
   "cell_type": "code",
   "execution_count": null,
   "metadata": {},
   "outputs": [],
   "source": [
    "# inputs_trn, outputs_trn, inputs_val, outputs_val, inputs_tst, outputs_tst = \\\n",
    "#     make_data_r2b(n_traj=100, vt_split=0.20, n_years=2, a_min=0.50, a_max=32.0,\n",
    "#                  e_max=0.20, inc_max=np.pi/4.0, seed=42, batch_size=64)"
   ]
  },
  {
   "cell_type": "code",
   "execution_count": null,
   "metadata": {},
   "outputs": [],
   "source": [
    "inputs_trn, outputs_trn, inputs_val, outputs_val, inputs_tst, outputs_tst = \\\n",
    "    make_data_r2b(n_traj=100000, vt_split=0.20, n_years=2, a_min=0.50, a_max=32.0,\n",
    "                 e_max=0.20, inc_max=np.pi/4.0, seed=42, batch_size=64)"
   ]
  },
  {
   "cell_type": "code",
   "execution_count": null,
   "metadata": {},
   "outputs": [],
   "source": [
    "t = inputs_trn['t']\n",
    "q0 = inputs_trn['q0']\n",
    "v0 = inputs_trn['v0']\n",
    "mu = inputs_trn['mu']"
   ]
  },
  {
   "cell_type": "code",
   "execution_count": null,
   "metadata": {},
   "outputs": [],
   "source": [
    "# out = model_math.predict(inputs_trn)\n",
    "out = model_math.predict([t, q0, v0, mu])"
   ]
  },
  {
   "cell_type": "code",
   "execution_count": null,
   "metadata": {},
   "outputs": [],
   "source": [
    "q, v, a, q0_rec, v0_rec, H, L = out"
   ]
  },
  {
   "cell_type": "code",
   "execution_count": null,
   "metadata": {},
   "outputs": [],
   "source": [
    "q.shape"
   ]
  },
  {
   "cell_type": "code",
   "execution_count": null,
   "metadata": {},
   "outputs": [],
   "source": [
    "idx = np.where(np.isnan(q))\n",
    "idx"
   ]
  },
  {
   "cell_type": "code",
   "execution_count": null,
   "metadata": {},
   "outputs": [],
   "source": [
    "row_num = idx[0][0]"
   ]
  },
  {
   "cell_type": "code",
   "execution_count": null,
   "metadata": {},
   "outputs": [],
   "source": [
    "r0 = 21204\n",
    "r1 = 21208"
   ]
  },
  {
   "cell_type": "code",
   "execution_count": null,
   "metadata": {},
   "outputs": [],
   "source": [
    "q[row_num]"
   ]
  },
  {
   "cell_type": "code",
   "execution_count": null,
   "metadata": {},
   "outputs": [],
   "source": [
    "q[row_num].shape"
   ]
  },
  {
   "cell_type": "code",
   "execution_count": null,
   "metadata": {},
   "outputs": [],
   "source": [
    "t_ = t[r0:r1]\n",
    "q0_ = q0[r0:r1]\n",
    "v0_ = v0[r0:r1]\n",
    "mu_ = mu[r0:r1]"
   ]
  },
  {
   "cell_type": "code",
   "execution_count": null,
   "metadata": {},
   "outputs": [],
   "source": [
    "q0_"
   ]
  },
  {
   "cell_type": "code",
   "execution_count": null,
   "metadata": {},
   "outputs": [],
   "source": [
    "v0_"
   ]
  },
  {
   "cell_type": "code",
   "execution_count": null,
   "metadata": {},
   "outputs": [],
   "source": [
    "out2 = model_math.predict([t_, q0_, v0_, mu_])"
   ]
  },
  {
   "cell_type": "code",
   "execution_count": null,
   "metadata": {},
   "outputs": [],
   "source": [
    "q2 = out2[0]"
   ]
  },
  {
   "cell_type": "code",
   "execution_count": null,
   "metadata": {},
   "outputs": [],
   "source": [
    "q2[-1]"
   ]
  },
  {
   "cell_type": "code",
   "execution_count": null,
   "metadata": {},
   "outputs": [],
   "source": [
    "np.where(np.isnan(q2))"
   ]
  },
  {
   "cell_type": "code",
   "execution_count": null,
   "metadata": {},
   "outputs": [],
   "source": [
    "mu0 = keras.layers.Reshape((1,))(mu_)\n",
    "inputs_c2e = (q0_, v0_, mu0)\n",
    "\n",
    "model_c2e = make_model_cfg_to_elt()\n",
    "    \n",
    "a0, e0, inc0, Omega0, omega0, f0, M0, N0 = model_c2e(inputs_c2e)"
   ]
  },
  {
   "cell_type": "code",
   "execution_count": null,
   "metadata": {},
   "outputs": [],
   "source": [
    "a0"
   ]
  },
  {
   "cell_type": "code",
   "execution_count": null,
   "metadata": {},
   "outputs": [],
   "source": [
    "e0"
   ]
  },
  {
   "cell_type": "code",
   "execution_count": null,
   "metadata": {},
   "outputs": [],
   "source": [
    "inc0"
   ]
  },
  {
   "cell_type": "code",
   "execution_count": null,
   "metadata": {},
   "outputs": [],
   "source": [
    "Omega0"
   ]
  },
  {
   "cell_type": "code",
   "execution_count": null,
   "metadata": {},
   "outputs": [],
   "source": [
    "omega0"
   ]
  },
  {
   "cell_type": "code",
   "execution_count": null,
   "metadata": {},
   "outputs": [],
   "source": [
    "f0"
   ]
  },
  {
   "cell_type": "code",
   "execution_count": null,
   "metadata": {},
   "outputs": [],
   "source": [
    "M0"
   ]
  },
  {
   "cell_type": "code",
   "execution_count": null,
   "metadata": {},
   "outputs": [],
   "source": [
    "N0"
   ]
  },
  {
   "cell_type": "code",
   "execution_count": null,
   "metadata": {},
   "outputs": [],
   "source": [
    "f_rec = MeanToTrueAnomaly(name='mean_to_true_anomaly')([M0, e0])\n",
    "f_rec"
   ]
  },
  {
   "cell_type": "code",
   "execution_count": null,
   "metadata": {},
   "outputs": [],
   "source": [
    "# inputs_e2c = (a0, e0, inc0, Omega0, omega0, f0, mu0,)\n",
    "inputs_e2c = (a0, e0, inc0, Omega0, omega0, f_rec, mu0,)\n",
    "\n",
    "# Convert from orbital elements to cartesian\n",
    "qx, qy, qz, vx, vy, vz = OrbitalElementToConfig(name='orbital_element_to_config')(inputs_e2c)\n"
   ]
  },
  {
   "cell_type": "code",
   "execution_count": null,
   "metadata": {},
   "outputs": [],
   "source": [
    "qx"
   ]
  },
  {
   "cell_type": "code",
   "execution_count": null,
   "metadata": {},
   "outputs": [],
   "source": [
    "traj_size=731\n",
    "\n",
    "# Wrap these up into one tuple of inputs for the model\n",
    "inputs = (t_, q0_, v0_, mu_)\n",
    "\n",
    "# Reshape the gravitational field strength from (batch_size,) to (batch_size, 1,)\n",
    "mu0 = keras.layers.Reshape((1,))(mu_)\n",
    "\n",
    "# Tuple of inputs for the model converting from configuration to orbital elements\n",
    "inputs_c2e = (q0_, v0_, mu0)\n",
    "\n",
    "# Model mapping cartesian coordinates to orbital elements\n",
    "model_c2e = make_model_cfg_to_elt()\n",
    "\n",
    "# Extract the orbital elements of the initial conditions\n",
    "a0, e0, inc0, Omega0, omega0, f0, M0, N0 = model_c2e(inputs_c2e)\n",
    "\n",
    "# Reshape t to (batch_size, traj_size, 1)\n",
    "t_vec = keras.layers.Reshape(target_shape=(traj_size, 1), name='t_vec')(t_)\n",
    "\n",
    "# Repeat the constant orbital elements to be vectors of shape (batch_size, traj_size)\n",
    "a = keras.layers.RepeatVector(n=traj_size, name='a')(a0)\n",
    "e = keras.layers.RepeatVector(n=traj_size, name='e')(e0)\n",
    "inc = keras.layers.RepeatVector(n=traj_size, name='inc')(inc0)\n",
    "Omega = keras.layers.RepeatVector(n=traj_size, name='Omega')(Omega0)\n",
    "omega = keras.layers.RepeatVector(n=traj_size, name='omega')(omega0)\n",
    "mu = keras.layers.RepeatVector(n=traj_size, name='mu_vec')(mu0)\n",
    "\n",
    "# Repeat initial mean anomaly M0 and mean motion N0 to match shape of outputs\n",
    "M0_vec = keras.layers.RepeatVector(n=traj_size, name='M0_vec')(M0)\n",
    "N0_vec = keras.layers.RepeatVector(n=traj_size, name='N0_vec')(N0)\n",
    "# Compute the mean anomaly M(t) as a function of time\n",
    "N_t = keras.layers.multiply(inputs=[N0_vec, t_vec])\n",
    "M = keras.layers.add(inputs=[M0_vec, N_t])\n",
    "\n",
    "# Compute the true anomaly from the mean anomly and eccentricity\n",
    "f = MeanToTrueAnomaly(name='mean_to_true_anomaly')([M, e])\n",
    "\n",
    "# Wrap orbital elements into one tuple of inputs for layer converting to cartesian coordinates\n",
    "inputs_e2c = (a, e, inc, Omega, omega, f, mu,)\n",
    "\n",
    "# Convert from orbital elements to cartesian\n",
    "qx, qy, qz, vx, vy, vz = OrbitalElementToConfig(name='orbital_element_to_config')(inputs_e2c)\n",
    "\n",
    "# Wrap up the outputs\n",
    "outputs = (qx, qy, qz, vx, vy, vz)"
   ]
  },
  {
   "cell_type": "code",
   "execution_count": null,
   "metadata": {},
   "outputs": [],
   "source": [
    "qx"
   ]
  },
  {
   "cell_type": "code",
   "execution_count": null,
   "metadata": {},
   "outputs": [],
   "source": [
    "def make_position_model_r2b_nn(hidden_sizes, skip_layers=True, traj_size = 731):\n",
    "    \"\"\"\n",
    "    Compute orbit positions for the restricted two body problem from \n",
    "    the initial orbital elements with a deterministic mathematical model.\n",
    "    Factory function that returns a functional model.\n",
    "    \"\"\"\n",
    "    # Create input layers \n",
    "    t = keras.Input(shape=(traj_size,), name='t')\n",
    "    q0 = keras.Input(shape=(3,), name='q0')\n",
    "    v0 = keras.Input(shape=(3,), name='v0')\n",
    "    mu = keras.Input(shape=(1,), name='mu')\n",
    "    \n",
    "    # Wrap these up into one tuple of inputs for the model\n",
    "    inputs = (t, q0, v0, mu)\n",
    "    \n",
    "    # Reshape the gravitational field strength from (batch_size,) to (batch_size, 1,)\n",
    "    mu0 = keras.layers.Reshape((1,))(mu)\n",
    "\n",
    "    # Tuple of inputs for the model converting from configuration to orbital elements\n",
    "    inputs_c2e = (q0, v0, mu0)\n",
    "\n",
    "    # Model mapping cartesian coordinates to orbital elements\n",
    "    model_c2e = make_model_cfg_to_elt()\n",
    "    \n",
    "    # Extract the orbital elements of the initial conditions\n",
    "    a0, e0, inc0, Omega0, omega0, f0, M0, N0 = model_c2e(inputs_c2e)\n",
    "\n",
    "    # Reshape t to (batch_size, traj_size, 1)\n",
    "    t_vec = keras.layers.Reshape(target_shape=(traj_size, 1), name='t_vec')(t)\n",
    "    \n",
    "    # Repeat the constant orbital elements to be vectors of shape (batch_size, traj_size)\n",
    "    # a = keras.layers.RepeatVector(n=traj_size, name='a')(a0)\n",
    "    e_ = keras.layers.RepeatVector(n=traj_size, name='e_')(e0)\n",
    "    # inc = keras.layers.RepeatVector(n=traj_size, name='inc')(inc0)\n",
    "    # Omega = keras.layers.RepeatVector(n=traj_size, name='Omega')(Omega0)\n",
    "    # omega = keras.layers.RepeatVector(n=traj_size, name='omega')(omega0)\n",
    "    mu = keras.layers.RepeatVector(n=traj_size, name='mu_vec')(mu0)\n",
    "\n",
    "    # Repeat initial mean anomaly M0 and mean motion N0 to match shape of outputs\n",
    "    M0_vec = keras.layers.RepeatVector(n=traj_size, name='M0_vec')(M0)\n",
    "    N0_vec = keras.layers.RepeatVector(n=traj_size, name='N0_vec')(N0)\n",
    "    # Compute the mean anomaly M(t) as a function of time\n",
    "    N_t = keras.layers.multiply(inputs=[N0_vec, t_vec])\n",
    "    M_ = keras.layers.add(inputs=[M0_vec, N_t])\n",
    "\n",
    "    # Compute the true anomaly from the mean anomly and eccentricity\n",
    "    f_ = MeanToTrueAnomaly(name='mean_to_true_anomaly')([M_, e_])\n",
    "    \n",
    "    # Combine the trajectory-wide scalars into one feature of shape (batch_size, 14)\n",
    "    # One row has 3+3+6 = 12 elements\n",
    "    phi_traj = keras.layers.concatenate(\n",
    "        inputs=[q0, v0, a0, e0, inc0, Omega0, omega0, N0], \n",
    "        name='phi_traj')\n",
    "    \n",
    "    # Repeat phi_traj traj_size times so it has a shape of (batch_size, traj_size, 14)\n",
    "    phi_traj_vec = keras.layers.RepeatVector(n=traj_size, name='phi_traj_vec')(phi_traj)\n",
    "\n",
    "    # Combine the following into an initial feature vector, phi_0\n",
    "    # 1) The time t\n",
    "    # 2) The repeated orbital elements (which remain constant); not including f0\n",
    "    # 3) The computed mean anomaly M and true anomaly f\n",
    "    phi_0 = keras.layers.concatenate(\n",
    "        inputs=[t_vec, phi_traj_vec, M_, f_], \n",
    "        name='phi_0')\n",
    "    \n",
    "    # Hidden layers as specified in hidden_sizes\n",
    "    # Number of hidden layers\n",
    "    num_layers = len(hidden_sizes)\n",
    "\n",
    "    # phi_n will update to the last available feature layer for the output portion\n",
    "    phi_n = phi_0\n",
    "\n",
    "    # First hidden layer if applicable\n",
    "    if num_layers > 0:\n",
    "        phi_1 = keras.layers.Dense(units=hidden_sizes[0], activation='tanh', name='phi_1')(phi_0)\n",
    "        if skip_layers:\n",
    "            phi_1 = keras.layers.concatenate(inputs=[phi_0, phi_1], name='phi_1_aug')\n",
    "        phi_n = phi_1\n",
    "\n",
    "    # Second hidden layer if applicable\n",
    "    if num_layers > 1:\n",
    "        phi_2 = keras.layers.Dense(units=hidden_sizes[1], activation='tanh', name='phi_2')(phi_1)\n",
    "        if skip_layers:\n",
    "            phi_2 = keras.layers.concatenate(inputs=[phi_1, phi_2], name='phi_2_aug')\n",
    "        phi_n = phi_2\n",
    "\n",
    "    # Compute the orbital elements from the final features\n",
    "    \n",
    "    # Semimajor axis\n",
    "    a = keras.layers.Dense(\n",
    "        units=1, kernel_initializer='zeros', bias_initializer='ones', name='a')(phi_n)\n",
    "\n",
    "    # Eccentricity\n",
    "    e = keras.layers.Dense(\n",
    "        units=1, kernel_initializer='zeros', bias_initializer='zeros', name='e')(phi_n)\n",
    "\n",
    "    # Inclination\n",
    "    inc = keras.layers.Dense(\n",
    "        units=1, kernel_initializer='zeros', bias_initializer='zeros', name='inc')(phi_n)\n",
    "    \n",
    "    # Longitude of ascending node\n",
    "    Omega = keras.layers.Dense(\n",
    "        units=1, kernel_initializer='zeros', bias_initializer='zeros', name='Omega')(phi_n)\n",
    "    \n",
    "    # Argument of periapsis\n",
    "    omega = keras.layers.Dense(\n",
    "        units=1, kernel_initializer='zeros', bias_initializer='zeros', name='omega')(phi_n)\n",
    "    \n",
    "    # True anomaly\n",
    "    f = keras.layers.Dense(\n",
    "        units=1, kernel_initializer='zeros', bias_initializer='zeros', name='f')(phi_n)    \n",
    "\n",
    "    # Wrap orbital elements into one tuple of inputs for layer converting to cartesian coordinates\n",
    "    inputs_e2c = (a, e, inc, Omega, omega, f, mu,)\n",
    "    \n",
    "    # Convert from orbital elements to cartesian\n",
    "    qx, qy, qz, vx, vy, vz = OrbitalElementToConfig(name='orbital_element_to_config')(inputs_e2c)\n",
    "    \n",
    "    # Wrap up the outputs\n",
    "    outputs = (qx, qy, qz, vx, vy, vz)\n",
    "    \n",
    "    # Wrap this into a model\n",
    "    suffix = '_'.join(str(sz) for sz in hidden_sizes)\n",
    "    model_name = f'model_r2b_nn_{suffix}'\n",
    "    model = keras.Model(inputs=inputs, outputs=outputs, name=model_name)\n",
    "    return model"
   ]
  },
  {
   "cell_type": "code",
   "execution_count": null,
   "metadata": {},
   "outputs": [],
   "source": [
    "def make_model_r2b_nn(hidden_sizes, skip_layers=True, traj_size = 731):\n",
    "    \"\"\"Create a math model for the restricted two body circular problem; wrapper for entire work flow\"\"\"\n",
    "    # Build the position model\n",
    "    position_model = make_position_model_r2b_nn(hidden_sizes=hidden_sizes, skip_layers=skip_layers, traj_size=traj_size)\n",
    "    \n",
    "    # Build the model with this position layer and the input trajectory size\n",
    "    return make_physics_model_r2b(position_model=position_model, traj_size=traj_size)"
   ]
  },
  {
   "cell_type": "code",
   "execution_count": null,
   "metadata": {},
   "outputs": [],
   "source": [
    "def compile_and_fit(model, ds, epochs, loss, optimizer, metrics, save_freq, prev_history=None):\n",
    "    # Compile the model\n",
    "    model.compile(loss=loss, optimizer=optimizer, metrics=metrics)\n",
    "    model_name = model.name\n",
    "    filepath=f'../models/r2b/{model_name}.h5'\n",
    "\n",
    "    # Parameters for callbacks\n",
    "    interval = 1\n",
    "    patience = max(epochs // 10, 1)\n",
    "    \n",
    "    # Create callbacks\n",
    "    cb_log = EpochLoss(interval=interval, newline=True)\n",
    "    \n",
    "    cb_time = TimeHistory()\n",
    "\n",
    "    cb_ckp = keras.callbacks.ModelCheckpoint(\n",
    "            filepath=filepath, \n",
    "            save_freq=save_freq,\n",
    "            save_best_only=True,\n",
    "            save_weights_only=True,\n",
    "            monitor='loss',\n",
    "            verbose=0)    \n",
    "\n",
    "    cb_early_stop = keras.callbacks.EarlyStopping(\n",
    "            monitor='loss',\n",
    "            min_delta=0.0,\n",
    "            patience=patience,\n",
    "            verbose=2,\n",
    "            restore_best_weights=True)    \n",
    "\n",
    "    # All selected callbacks\n",
    "    # callbacks = [cb_log, cb_time, cb_ckp, cb_early_stop]\n",
    "    callbacks = [cb_log, cb_time, cb_ckp]\n",
    "    \n",
    "    # Fit the model\n",
    "    hist = model.fit(ds, epochs=epochs, callbacks=callbacks, verbose=1)\n",
    "\n",
    "    # Add the times to the history\n",
    "    history = hist.history\n",
    "    \n",
    "    # Convert from lists to numpy arrays \n",
    "    for key in history.keys():\n",
    "        history[key] = np.array(history[key])\n",
    "\n",
    "    # Merge the previous history if provided\n",
    "    if prev_history is not None:\n",
    "        for key in history.keys():\n",
    "            history[key] = np.concatenate([prev_history[key], history[key]])\n",
    "        # Merge wall times; new times need to add offset from previous wall time\n",
    "        prev_times = prev_history['time']\n",
    "        time_offset = prev_times[-1]\n",
    "        new_times = np.array(cb_time.times) + time_offset\n",
    "        history['time'] = np.concatenate([prev_times, new_times])\n",
    "    else:\n",
    "        history['time'] = np.array(cb_time.times)\n",
    "    \n",
    "    # Restore the model to the best weights\n",
    "    model.load_weights(filepath)\n",
    "\n",
    "    return history"
   ]
  },
  {
   "cell_type": "code",
   "execution_count": null,
   "metadata": {},
   "outputs": [],
   "source": [
    "hidden_sizes = [64, 16]\n",
    "skip_layers = True\n",
    "traj_size = 731\n",
    "model_nn = make_model_r2b_nn(hidden_sizes, skip_layers=skip_layers, traj_size=traj_size)"
   ]
  },
  {
   "cell_type": "code",
   "execution_count": null,
   "metadata": {},
   "outputs": [],
   "source": [
    "# Compile the NN model on a single GPU\n",
    "model_nn.compile(optimizer=optimizer, loss=loss, metrics=metrics, loss_weights=loss_weights)"
   ]
  },
  {
   "cell_type": "code",
   "execution_count": null,
   "metadata": {},
   "outputs": [],
   "source": [
    "# Evaluate the NN model on the earth-like data set\n",
    "model_nn.evaluate(ds_earth_trn)"
   ]
  },
  {
   "cell_type": "code",
   "execution_count": null,
   "metadata": {},
   "outputs": [],
   "source": [
    "# Evaluate the NN model on the small solar system-like data set\n",
    "model_nn.evaluate(ds_small_trn)"
   ]
  },
  {
   "cell_type": "code",
   "execution_count": null,
   "metadata": {},
   "outputs": [],
   "source": [
    "# Evaluate the NN model on the large solar system-like data set\n",
    "model_nn.evaluate(ds_trn)\n",
    "\n",
    "# One evaluation takes ~90 seconds.  Hits a NAN about 25% of the way through."
   ]
  },
  {
   "cell_type": "code",
   "execution_count": null,
   "metadata": {},
   "outputs": [],
   "source": [
    "# Set up training\n",
    "model_name = 'model_r2b_nn_64_16'\n",
    "model_h5 = f'../models/r2b/{model_name}.h5'\n",
    "hist_name = model_name.replace('model_', 'hist_')\n",
    "epochs = 10\n",
    "save_freq = 'epoch'"
   ]
  },
  {
   "cell_type": "code",
   "execution_count": null,
   "metadata": {},
   "outputs": [],
   "source": [
    "try:\n",
    "    model_nn.load_weights(model_h5)\n",
    "    model_nn.compile(loss=loss, optimizer=optimizer, metrics=metrics)\n",
    "    hist = vartbl[hist_name]\n",
    "    print(f'Loaded {model_name} from {model_h5}.')\n",
    "except:\n",
    "    hist = compile_and_fit(model=model_nn, \n",
    "                           ds=ds_small_trn, \n",
    "                           epochs=epochs,\n",
    "                           loss=loss, \n",
    "                           optimizer=optimizer,\n",
    "                           metrics=metrics,\n",
    "                           save_freq=save_freq,\n",
    "                           prev_history = None)\n",
    "    vartbl[hist_name] = hist\n",
    "    save_vartbl(vartbl, fname)"
   ]
  },
  {
   "cell_type": "code",
   "execution_count": null,
   "metadata": {},
   "outputs": [],
   "source": [
    "hist = compile_and_fit(model=model_nn, \n",
    "                       ds=ds_small_trn, \n",
    "                       epochs=1,\n",
    "                       loss=loss, \n",
    "                       optimizer=optimizer,\n",
    "                       metrics=metrics,\n",
    "                       save_freq=save_freq,\n",
    "                       prev_history = hist)\n",
    "vartbl[hist_name] = hist\n",
    "save_vartbl(vartbl, fname)"
   ]
  },
  {
   "cell_type": "code",
   "execution_count": null,
   "metadata": {},
   "outputs": [],
   "source": [
    "hist = compile_and_fit(model=model_nn, \n",
    "                       ds=ds_small_trn, \n",
    "                       epochs=40,\n",
    "                       loss=loss, \n",
    "                       optimizer=optimizer,\n",
    "                       metrics=metrics,\n",
    "                       save_freq=save_freq,\n",
    "                       prev_history = hist)\n",
    "vartbl[hist_name] = hist\n",
    "save_vartbl(vartbl, fname)"
   ]
  },
  {
   "cell_type": "code",
   "execution_count": null,
   "metadata": {},
   "outputs": [],
   "source": []
  }
 ],
 "metadata": {
  "kernelspec": {
   "display_name": "Python [conda env:nbody]",
   "language": "python",
   "name": "conda-env-nbody-py"
  },
  "language_info": {
   "codemirror_mode": {
    "name": "ipython",
    "version": 3
   },
   "file_extension": ".py",
   "mimetype": "text/x-python",
   "name": "python",
   "nbconvert_exporter": "python",
   "pygments_lexer": "ipython3",
   "version": "3.7.3"
  }
 },
 "nbformat": 4,
 "nbformat_minor": 2
}
