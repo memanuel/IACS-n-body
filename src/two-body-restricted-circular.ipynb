{
 "cells": [
  {
   "cell_type": "markdown",
   "metadata": {},
   "source": [
    "# Base Case: Circular Orbit of Radius 1 AU, Period 1 Year\n",
    "\n",
    "Create synthetic data for the simplest base case: a circular orbit of radius 1.\n",
    "\n",
    "Can think of this as approximating the earth: radius = 1 AU, period = 1 year, mass of sun $m_0$ = 1 solar mass\n",
    "\n",
    "\\begin{align}\n",
    "x(t) &= \\cos(\\omega t) \\\\\n",
    "y(t) &= \\sin(\\omega t) \\\\\n",
    "\\omega &= 2 \\pi\n",
    "\\end{align}\n",
    "\n",
    "Taking two derivatives\n",
    "\\begin{align}\n",
    "\\ddot{x}(t) = -\\omega^2 x(t)\\\\\n",
    "\\ddot{y}(t) = -\\omega^2 y(t)\n",
    "\\end{align}\n",
    "\n",
    "Equating the acceleration $\\omega^2 r$ to $G \\cdot m_0 / r^2$ for $r=1$ in the case of earth, we can see that in these units the gravitational constant $G$ is\n",
    "$$G = 4 \\pi^2$$\n",
    "\n",
    "Further we can see that for a planet in a circular orbit with radius $r$, the angular frequency will satisfy\n",
    "$$ \\omega^2 = G m_0 / r^3$$\n",
    "This is a special case of Kepler's third law."
   ]
  },
  {
   "cell_type": "code",
   "execution_count": 14,
   "metadata": {},
   "outputs": [],
   "source": [
    "# Library imports\n",
    "import tensorflow as tf\n",
    "import numpy as np\n",
    "import matplotlib.pyplot as plt\n",
    "import time\n",
    "\n",
    "# Aliases\n",
    "keras = tf.keras"
   ]
  },
  {
   "cell_type": "code",
   "execution_count": 3,
   "metadata": {},
   "outputs": [],
   "source": [
    "# Local imports\n",
    "from utils import load_vartbl, save_vartbl, plot_style\n",
    "from tf_utils import gpu_grow_memory, TimeHistory\n",
    "from tf_utils import plot_loss_hist, EpochLoss, TimeHistory\n",
    "from tf_utils import Identity\n",
    "\n",
    "from r2bc_data import make_traj_r2bc , make_train_r2bc\n",
    "from r2bc_data import make_datasets_earth, make_datasets_solar, make_datasets_r2bc\n",
    "from r2b_plot import plot_orbit_q, plot_orbit_v, plot_orbit_a, plot_orbit_energy\n",
    "\n",
    "from r2b import KineticEnergy_R2B, PotentialEnergy_R2B\n",
    "from r2b import AngularMomentum0_R2B, AngularMomentum_R2B\n",
    "from r2b import ConfigToPolar2D\n",
    "from r2b import VectorError, EnergyError, AngularMomentumError\n",
    "from r2b import Motion_R2B\n",
    "\n",
    "from r2bc_model_math import make_position_model_r2bc_math, make_model_r2bc_math\n",
    "from r2bc_model_nn import make_position_model_r2bc_nn# , make_physics_model_r2bc_nn\n",
    "from r2bc_model_nn import make_model_r2bc_nn, compile_and_fit\n",
    "from r2bc_model_nn import plot_orbit_nn_q"
   ]
  },
  {
   "cell_type": "code",
   "execution_count": 4,
   "metadata": {},
   "outputs": [],
   "source": [
    "# Grow GPU memory (must be first operation in TF)\n",
    "gpu_grow_memory()"
   ]
  },
  {
   "cell_type": "code",
   "execution_count": 5,
   "metadata": {},
   "outputs": [
    {
     "name": "stdout",
     "output_type": "stream",
     "text": [
      "The tensorboard extension is already loaded. To reload it, use:\n",
      "  %reload_ext tensorboard\n"
     ]
    }
   ],
   "source": [
    "# Load the tensorboard extension to monitor training\n",
    "%load_ext tensorboard"
   ]
  },
  {
   "cell_type": "code",
   "execution_count": 6,
   "metadata": {},
   "outputs": [],
   "source": [
    "# Create distribution strategy\n",
    "# This isn't working properly for training in Michael-PC (Windows 10)\n",
    "# but does work for evaluating (with no real benefit though)\n",
    "# strat = tf.distribute.MirroredStrategy(['/GPU:0', '/GPU:1'])\n",
    "\n",
    "# Plot style \n",
    "plot_style()"
   ]
  },
  {
   "cell_type": "code",
   "execution_count": 7,
   "metadata": {},
   "outputs": [],
   "source": [
    "# Lightweight serialization\n",
    "fname = '../pickle/r2bc.pickle'\n",
    "vartbl = load_vartbl(fname)"
   ]
  },
  {
   "cell_type": "code",
   "execution_count": 8,
   "metadata": {},
   "outputs": [],
   "source": [
    "# One trajectory of earth for plotting\n",
    "inputs_earth, outputs_earth = make_traj_r2bc(r0=1.0, theta0=0.0, n_years=2)\n",
    "\n",
    "# Combined dict\n",
    "data_earth = {**inputs_earth, **outputs_earth}"
   ]
  },
  {
   "cell_type": "code",
   "execution_count": 9,
   "metadata": {},
   "outputs": [],
   "source": [
    "# fig, ax = plot_orbit_q(data_earth)"
   ]
  },
  {
   "cell_type": "code",
   "execution_count": 10,
   "metadata": {},
   "outputs": [],
   "source": [
    "# fig, ax = plot_orbit_v(data_earth)"
   ]
  },
  {
   "cell_type": "code",
   "execution_count": 11,
   "metadata": {},
   "outputs": [],
   "source": [
    "# fig, ax = plot_orbit_a(data_earth)"
   ]
  },
  {
   "cell_type": "code",
   "execution_count": 12,
   "metadata": {},
   "outputs": [],
   "source": [
    "# fig, ax = plot_orbit_energy(data_earth)"
   ]
  },
  {
   "cell_type": "markdown",
   "metadata": {},
   "source": [
    "### Generate data sets and an example batch"
   ]
  },
  {
   "cell_type": "code",
   "execution_count": 13,
   "metadata": {},
   "outputs": [],
   "source": [
    "# Create DataSet objects for toy size problem - earth orbits only (a=1, e=0)\n",
    "ds_earth_trn, ds_earth_val, ds_earth_tst = make_datasets_earth(n_traj=1000, vt_split=0.20, n_years=2)\n",
    "\n",
    "# Create DataSet objects for solar system type orbits (a between 0.25 and 32.0)\n",
    "ds_solar_trn, ds_solar_val, ds_solar_tst = make_datasets_solar(n_traj=100000, vt_split=0.01, n_years=2)\n",
    "\n",
    "# Create DataSet objects for jupiter orbits only (a=5.2, e=0)\n",
    "ds_jup_trn, ds_jup_val, ds_jup_tst = make_datasets_r2bc(n_traj=1000, vt_split=0.20, \n",
    "                                                        n_years=2, r_min=5.2, r_max=5.2, seed=42, batch_size=64)"
   ]
  },
  {
   "cell_type": "code",
   "execution_count": null,
   "metadata": {},
   "outputs": [],
   "source": [
    "# Example batch\n",
    "batch_in, batch_out = list(ds_earth_val.take(1))[0]\n",
    "# batch_in.keys()\n",
    "# batch_out.keys()\n",
    "\n",
    "t = batch_in['t']\n",
    "q0 = batch_in['q0']\n",
    "v0 = batch_in['v0']\n",
    "mu = batch_in['mu']\n",
    "\n",
    "q = batch_out['q']\n",
    "v = batch_out['v']\n",
    "a = batch_out['a']\n",
    "q0_rec = batch_out['q0_rec']\n",
    "v0_rec = batch_out['v0_rec']\n",
    "H = batch_out['H']\n",
    "L = batch_out['L']\n",
    "\n",
    "print(f'Example batch sizes:')\n",
    "print(f't  = {t.shape}')\n",
    "print(f'q0 = {q0.shape}')\n",
    "print(f'v0 = {v0.shape}')\n",
    "print(f'mu = {mu.shape}')\n",
    "\n",
    "print(f'q  = {q.shape}')\n",
    "print(f'v  = {v.shape}')\n",
    "print(f'a  = {a.shape}')\n",
    "# print(f'q0_rec = {q0_rec.shape}')\n",
    "# print(f'v0_rec = {v0_rec.shape}')\n",
    "print(f'H  = {H.shape}')\n",
    "print(f'L  = {L.shape}')"
   ]
  },
  {
   "cell_type": "code",
   "execution_count": null,
   "metadata": {},
   "outputs": [],
   "source": [
    "batch_size = 64\n",
    "traj_size = 731\n",
    "\n",
    "tf.debugging.assert_shapes(\n",
    "    shapes = {\n",
    "    # Inputs\n",
    "    t: (batch_size, traj_size),\n",
    "    q0: (batch_size, 2),\n",
    "    v0: (batch_size, 2),\n",
    "    mu: (batch_size, 1),\n",
    "    # Outputs\n",
    "    q: (batch_size, traj_size, 2),\n",
    "    v: (batch_size, traj_size, 2),\n",
    "    a: (batch_size, traj_size, 2),\n",
    "    q0_rec: (batch_size, 2),\n",
    "    v0_rec: (batch_size, 2),\n",
    "    H: (batch_size, traj_size),\n",
    "    L: (batch_size, traj_size),\n",
    "    })"
   ]
  },
  {
   "cell_type": "markdown",
   "metadata": {},
   "source": [
    "**Call layers with physics computations**"
   ]
  },
  {
   "cell_type": "code",
   "execution_count": null,
   "metadata": {},
   "outputs": [],
   "source": [
    "T = KineticEnergy_R2B()(v)\n",
    "T.shape"
   ]
  },
  {
   "cell_type": "code",
   "execution_count": null,
   "metadata": {},
   "outputs": [],
   "source": [
    "U = PotentialEnergy_R2B()([q, mu])\n",
    "U.shape"
   ]
  },
  {
   "cell_type": "code",
   "execution_count": null,
   "metadata": {},
   "outputs": [],
   "source": [
    "L = AngularMomentum_R2B()([q, v])\n",
    "L.shape"
   ]
  },
  {
   "cell_type": "code",
   "execution_count": null,
   "metadata": {},
   "outputs": [],
   "source": [
    "L0 = AngularMomentum0_R2B()([q0, v0])\n",
    "L0.shape"
   ]
  },
  {
   "cell_type": "markdown",
   "metadata": {},
   "source": [
    "**Conversion of initial configuration to polar coordinates**"
   ]
  },
  {
   "cell_type": "code",
   "execution_count": null,
   "metadata": {},
   "outputs": [],
   "source": [
    "r0, theta0, omega0 = ConfigToPolar2D()([q0, v0])\n",
    "print(f'shape of polar batches')\n",
    "print(f'r0 : {r0.shape}')\n",
    "print(f'theta0 : {theta0.shape}')\n",
    "print(f'omega0 : {omega0.shape}')"
   ]
  },
  {
   "cell_type": "markdown",
   "metadata": {},
   "source": [
    "### Mathematical Model\n",
    "**Compute position as a function of time from initial polar coordinates**"
   ]
  },
  {
   "cell_type": "code",
   "execution_count": null,
   "metadata": {},
   "outputs": [],
   "source": [
    "position_model_math = make_position_model_r2bc_math(traj_size)"
   ]
  },
  {
   "cell_type": "code",
   "execution_count": null,
   "metadata": {},
   "outputs": [],
   "source": [
    "qx, qy = position_model_math([t, r0, theta0, omega0])\n",
    "print(f'qx = {qx.shape}')\n",
    "print(f'qy = {qy.shape}')"
   ]
  },
  {
   "cell_type": "code",
   "execution_count": null,
   "metadata": {},
   "outputs": [],
   "source": [
    "keras.utils.plot_model(position_model_math, './model_plots/position_model_math.png')"
   ]
  },
  {
   "cell_type": "code",
   "execution_count": null,
   "metadata": {},
   "outputs": [],
   "source": [
    "position_model_math.summary()"
   ]
  },
  {
   "cell_type": "markdown",
   "metadata": {},
   "source": [
    "**Motion Model: Compute v and a from q using automatic differentiation**<br>\n",
    "Factory function that accepts any position model<br>\n",
    "Instantiated here from mathematical position model"
   ]
  },
  {
   "cell_type": "code",
   "execution_count": null,
   "metadata": {},
   "outputs": [],
   "source": [
    "motion_model_math = Motion_R2B(position_model=position_model_math, name='motion_model')"
   ]
  },
  {
   "cell_type": "code",
   "execution_count": null,
   "metadata": {},
   "outputs": [],
   "source": [
    "q, v, a = motion_model_math([t, r0, theta0, omega0])\n",
    "print('shape of motion_model outputs:')\n",
    "print(f'q: {q.shape}')\n",
    "print(f'v: {v.shape}')\n",
    "print(f'a: {a.shape}')"
   ]
  },
  {
   "cell_type": "markdown",
   "metadata": {},
   "source": [
    "**Full physics model: computes energy and angular momentum from q, v**<br>\n",
    "Factory function that accepts any position model.<br>\n",
    "Instantiated here from mathematical position model."
   ]
  },
  {
   "cell_type": "code",
   "execution_count": null,
   "metadata": {},
   "outputs": [],
   "source": [
    "model_math = make_model_r2bc_math()"
   ]
  },
  {
   "cell_type": "code",
   "execution_count": null,
   "metadata": {},
   "outputs": [],
   "source": [
    "keras.utils.plot_model(model_math, './model_plots/model_math.png')"
   ]
  },
  {
   "cell_type": "code",
   "execution_count": null,
   "metadata": {},
   "outputs": [],
   "source": [
    "model_math.summary()"
   ]
  },
  {
   "cell_type": "markdown",
   "metadata": {},
   "source": [
    "## Review outputs of math model"
   ]
  },
  {
   "cell_type": "code",
   "execution_count": null,
   "metadata": {},
   "outputs": [],
   "source": [
    "q, v, a, q0_rec, v0_rec, H, L  = model_math([t, q0, v0, mu])\n",
    "print(f'model output shapes:')\n",
    "print(f'q = {q.shape}')\n",
    "print(f'v = {v.shape}')\n",
    "print(f'a = {a.shape}')\n",
    "print(f'q0_rec = {q0_rec.shape}')\n",
    "print(f'v0_rec = {v0_rec.shape}')\n",
    "print(f'H = {H.shape}')\n",
    "print(f'L = {L.shape}')"
   ]
  },
  {
   "cell_type": "code",
   "execution_count": null,
   "metadata": {},
   "outputs": [],
   "source": [
    "optimizer = keras.optimizers.Adam(learning_rate=1.0E-3)\n",
    "\n",
    "loss = {'q': VectorError(name='q_loss'),\n",
    "        'v': VectorError(name='v_loss'),\n",
    "        'a': VectorError(regularizer=1.0, name='a_loss'),\n",
    "        'q0_rec': VectorError(name='q0_loss'),\n",
    "        'v0_rec': VectorError(name='v0_loss'),\n",
    "        'H': EnergyError(name='H'),\n",
    "        'L': AngularMomentumError(name='L'),\n",
    "       }\n",
    "\n",
    "metrics = None\n",
    "\n",
    "loss_weights = {'q': 1.0,\n",
    "                'v': 1.0,\n",
    "                'a': 1.0,\n",
    "                'q0_rec': 1.0,\n",
    "                'v0_rec': 1.0,\n",
    "                'H': 1.0,\n",
    "                'L': 1.0}"
   ]
  },
  {
   "cell_type": "code",
   "execution_count": null,
   "metadata": {},
   "outputs": [],
   "source": [
    "# Compile the mathematical model on a single GPU\n",
    "model_math.compile(optimizer=optimizer, loss=loss, metrics=metrics, loss_weights=loss_weights)"
   ]
  },
  {
   "cell_type": "code",
   "execution_count": null,
   "metadata": {},
   "outputs": [],
   "source": [
    "# Compile the mathematical model for parallel GPUs\n",
    "# with strat.scope():\n",
    "#     model_math_par = make_model_r2bc_analytic()\n",
    "#     model_math_par.compile(optimizer=optimizer, loss=loss, metrics=metrics, loss_weights=loss_weights)"
   ]
  },
  {
   "cell_type": "code",
   "execution_count": null,
   "metadata": {},
   "outputs": [],
   "source": [
    "# Evaluate the math model on the earth-like data set\n",
    "model_math.evaluate(ds_solar_val)"
   ]
  },
  {
   "cell_type": "markdown",
   "metadata": {},
   "source": [
    "**Timing of math model on single vs. multiple GPU**"
   ]
  },
  {
   "cell_type": "code",
   "execution_count": null,
   "metadata": {},
   "outputs": [],
   "source": [
    "def time_model_eval(model, ds, batches=None, time_mean=None):\n",
    "    \"\"\"Time a model to evaluate a dataset\"\"\"\n",
    "    t0 = time.time()\n",
    "    if batches is None:\n",
    "        model.evaluate(ds)\n",
    "    else:\n",
    "        model.evaluate(ds.take(batches))\n",
    "    t1 = time.time()\n",
    "    elapsed = t1 - t0\n",
    "    print(f'Elapsed Time: {elapsed:5.3f} sec')\n",
    "    if time_mean is not None:\n",
    "        delta = (elapsed - time_mean)\n",
    "        print(f'Time Delta:   {delta:+5.3f} sec')"
   ]
  },
  {
   "cell_type": "code",
   "execution_count": null,
   "metadata": {},
   "outputs": [],
   "source": [
    "# Time the single GPU math model\n",
    "# time_model_eval(model_math, ds_solar_trn)"
   ]
  },
  {
   "cell_type": "code",
   "execution_count": null,
   "metadata": {},
   "outputs": [],
   "source": [
    "# Time the double GPU math model\n",
    "# time_model_eval(model_math_par, ds_solar_trn)"
   ]
  },
  {
   "cell_type": "markdown",
   "metadata": {},
   "source": [
    "## Neural Net Model"
   ]
  },
  {
   "cell_type": "code",
   "execution_count": null,
   "metadata": {},
   "outputs": [],
   "source": [
    "position_model_nn = make_position_model_r2bc_nn([64, 16])"
   ]
  },
  {
   "cell_type": "code",
   "execution_count": null,
   "metadata": {},
   "outputs": [],
   "source": [
    "keras.utils.plot_model(position_model_nn, './model_plots/position_model_nn.png')"
   ]
  },
  {
   "cell_type": "code",
   "execution_count": null,
   "metadata": {},
   "outputs": [],
   "source": [
    "position_model_nn.summary()"
   ]
  },
  {
   "cell_type": "code",
   "execution_count": null,
   "metadata": {},
   "outputs": [],
   "source": [
    "qx, qy = position_model_nn([t, q0, v0, mu])\n",
    "print(f'qx = {qx.shape}')\n",
    "print(f'qy = {qy.shape}')"
   ]
  },
  {
   "cell_type": "code",
   "execution_count": null,
   "metadata": {},
   "outputs": [],
   "source": [
    "motion_model_nn = Motion_R2B(position_model=position_model_nn, name='motion_model_nn')"
   ]
  },
  {
   "cell_type": "code",
   "execution_count": null,
   "metadata": {},
   "outputs": [],
   "source": [
    "q, v, a = motion_model_nn([t, q0, v0, mu])\n",
    "print('shape of motion_model outputs:')\n",
    "print(f'q: {q.shape}')\n",
    "print(f'v: {v.shape}')\n",
    "print(f'a: {a.shape}')"
   ]
  },
  {
   "cell_type": "markdown",
   "metadata": {},
   "source": [
    "### Train the neural net model"
   ]
  },
  {
   "cell_type": "code",
   "execution_count": null,
   "metadata": {},
   "outputs": [],
   "source": [
    "# Make the NN r2bc model\n",
    "model_nn = make_model_r2bc_nn(hidden_sizes=[64, 16], skip_layers=True, traj_size=traj_size)"
   ]
  },
  {
   "cell_type": "code",
   "execution_count": null,
   "metadata": {},
   "outputs": [],
   "source": [
    "keras.utils.plot_model(model_nn, './model_plots/model_nn.png')"
   ]
  },
  {
   "cell_type": "code",
   "execution_count": null,
   "metadata": {},
   "outputs": [],
   "source": [
    "# model_nn.summary()"
   ]
  },
  {
   "cell_type": "code",
   "execution_count": null,
   "metadata": {},
   "outputs": [],
   "source": [
    "q, v, a, q0_rec, v0_rec, H, L = model_nn([t, q0, v0, mu])\n",
    "print('shape of model_nn outputs:')\n",
    "print(f'q: {q.shape}')\n",
    "print(f'v: {v.shape}')\n",
    "print(f'a: {a.shape}')\n",
    "print(f'q0_rec: {q0_rec.shape}')\n",
    "print(f'v0_rec: {v0_rec.shape}')\n",
    "print(f'H: {H.shape}')\n",
    "print(f'L: {L.shape}')"
   ]
  },
  {
   "cell_type": "code",
   "execution_count": null,
   "metadata": {},
   "outputs": [],
   "source": [
    "# Experiment with learning rate\n",
    "optimizer = keras.optimizers.Adam(learning_rate=5.0E-4)\n",
    "\n",
    "loss = {'q': VectorError(name='q_loss'),\n",
    "        'v': VectorError(name='v_loss'),\n",
    "        'a': VectorError(regularizer=0.010, name='a_loss'),\n",
    "        'q0_rec': VectorError(name='q0_loss'),\n",
    "        'v0_rec': VectorError(name='v0_loss'),\n",
    "        'H': EnergyError(name='H_loss'),\n",
    "        'L': AngularMomentumError(name='L_loss'),\n",
    "       }\n",
    "\n",
    "metrics = None\n",
    "\n",
    "loss_weights = {'q': 1.0,\n",
    "                'v': 1.0,\n",
    "                'a': 1.0,\n",
    "                'q0_rec': 1.0,\n",
    "                'v0_rec': 1.0,\n",
    "                'H': 1.0,\n",
    "                'L': 1.0,}"
   ]
  },
  {
   "cell_type": "code",
   "execution_count": null,
   "metadata": {},
   "outputs": [],
   "source": [
    "# Compile the NN model\n",
    "model_nn.compile(optimizer=optimizer, loss=loss, metrics=metrics, loss_weights=loss_weights)"
   ]
  },
  {
   "cell_type": "code",
   "execution_count": null,
   "metadata": {},
   "outputs": [],
   "source": [
    "# Evaluate the NN model on the solar system data set\n",
    "model_nn.evaluate(ds_solar_val)"
   ]
  },
  {
   "cell_type": "code",
   "execution_count": null,
   "metadata": {},
   "outputs": [],
   "source": [
    "# Set up training\n",
    "epochs = 40\n",
    "save_freq = 'epoch'"
   ]
  },
  {
   "cell_type": "code",
   "execution_count": null,
   "metadata": {},
   "outputs": [],
   "source": [
    "hist = compile_and_fit(model=model_nn, \n",
    "                       ds=ds_solar_trn, \n",
    "                       epochs=epochs,\n",
    "                       loss=loss, \n",
    "                       optimizer=optimizer,\n",
    "                       metrics=metrics,\n",
    "                       save_freq=save_freq,\n",
    "                       prev_history = None)"
   ]
  },
  {
   "cell_type": "code",
   "execution_count": null,
   "metadata": {},
   "outputs": [],
   "source": [
    "fig, ax = plot_loss_hist(hist, '[64, 16]')"
   ]
  },
  {
   "cell_type": "code",
   "execution_count": null,
   "metadata": {},
   "outputs": [],
   "source": [
    "vartbl['hist_model_nn'] = hist\n",
    "save_vartbl(vartbl, fname)"
   ]
  },
  {
   "cell_type": "code",
   "execution_count": null,
   "metadata": {},
   "outputs": [],
   "source": []
  }
 ],
 "metadata": {
  "kernelspec": {
   "display_name": "Python [conda env:nbody]",
   "language": "python",
   "name": "conda-env-nbody-py"
  },
  "language_info": {
   "codemirror_mode": {
    "name": "ipython",
    "version": 3
   },
   "file_extension": ".py",
   "mimetype": "text/x-python",
   "name": "python",
   "nbconvert_exporter": "python",
   "pygments_lexer": "ipython3",
   "version": "3.7.3"
  }
 },
 "nbformat": 4,
 "nbformat_minor": 2
}
