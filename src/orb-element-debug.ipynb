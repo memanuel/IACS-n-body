{
 "cells": [
  {
   "cell_type": "code",
   "execution_count": 1,
   "metadata": {},
   "outputs": [],
   "source": [
    "# Library imports\n",
    "import tensorflow as tf\n",
    "import rebound\n",
    "import numpy as np\n",
    "import datetime\n",
    "import matplotlib.pyplot as plt\n",
    "\n",
    "# Aliases\n",
    "keras = tf.keras"
   ]
  },
  {
   "cell_type": "code",
   "execution_count": 2,
   "metadata": {},
   "outputs": [],
   "source": [
    "# Local imports\n",
    "from utils import load_vartbl, save_vartbl, plot_style\n",
    "from tf_utils import gpu_grow_memory, TimeHistory\n",
    "from tf_utils import plot_loss_hist, EpochLoss, TimeHistory\n",
    "from tf_utils import Identity\n",
    "\n",
    "from orbital_element import OrbitalElementToConfig, ConfigToOrbitalElement, MeanToTrueAnomaly, G_\n",
    "from orbital_element import make_model_elt_to_cfg, make_model_cfg_to_elt\n",
    "\n",
    "from jacobi import CartesianToJacobi, JacobiToCartesian\n",
    "\n",
    "from g3b_data import make_traj_g3b, make_data_g3b, make_datasets_g3b, traj_to_batch\n",
    "from g3b_data import make_datasets_solar, make_datasets_hard\n",
    "from g3b_plot import plot_orbit_q, plot_orbit_v, plot_orbit_a, plot_orbit_energy, plot_orbit_element\n",
    "from g3b import KineticEnergy_G3B, PotentialEnergy_G3B, Momentum_G3B, AngularMomentum_G3B\n",
    "from g3b import VectorError, EnergyError\n",
    "from g3b import Motion_G3B, make_physics_model_g3b\n",
    "from g3b import compile_and_fit\n",
    "from g3b_model_math import make_position_model_g3b_math, make_model_g3b_math\n",
    "# from g3b_model_nn import make_position_model_g3b_nn, make_model_g3b_nn"
   ]
  },
  {
   "cell_type": "code",
   "execution_count": 3,
   "metadata": {},
   "outputs": [],
   "source": [
    "# Grow GPU memory (must be first operation in TF)\n",
    "gpu_grow_memory()"
   ]
  },
  {
   "cell_type": "code",
   "execution_count": 170,
   "metadata": {},
   "outputs": [],
   "source": [
    "# Problem orbital elements\n",
    "a = 1.000\n",
    "e = 0.0167\n",
    "# inc = 0.0000\n",
    "# inc = 0.0001\n",
    "inc = 1.0E-37\n",
    "Omega = 0.0000\n",
    "omega = 1.796642\n",
    "f = 1.753358\n",
    "mu = 39.476963"
   ]
  },
  {
   "cell_type": "code",
   "execution_count": 171,
   "metadata": {},
   "outputs": [
    {
     "name": "stdout",
     "output_type": "stream",
     "text": [
      "3.550000\n"
     ]
    }
   ],
   "source": [
    "print(f'{omega + f:8.6f}')"
   ]
  },
  {
   "cell_type": "code",
   "execution_count": 172,
   "metadata": {},
   "outputs": [
    {
     "name": "stdout",
     "output_type": "stream",
     "text": [
      "q0 = [-0.9203, -0.3982, -0.0000]\n",
      "v0 = [ 2.3934, -5.7906, -0.0000]\n"
     ]
    }
   ],
   "source": [
    "# Configuration from these elements\n",
    "qx, qy, qz, vx, vy, vz = OrbitalElementToConfig()([a, e, inc, Omega, omega, f, mu])\n",
    "print(f'q0 = [{qx:7.4f}, {qy:7.4f}, {qz:7.4f}]')\n",
    "print(f'v0 = [{vx:7.4f}, {vy:7.4f}, {vz:7.4f}]')"
   ]
  },
  {
   "cell_type": "code",
   "execution_count": 173,
   "metadata": {},
   "outputs": [
    {
     "name": "stdout",
     "output_type": "stream",
     "text": [
      "Recovered orbital elements:\n",
      "a    = 1.000000\n",
      "e    = 0.016700\n",
      "inc  = 0.000000\n",
      "Omega= 0.014221\n",
      "omega= 1.782421\n",
      "f    = 1.753358\n"
     ]
    }
   ],
   "source": [
    "# Try to recover these elements\n",
    "a_, e_, inc_, Omega_, omega_, f_, M_, N_ = ConfigToOrbitalElement()([qx, qy, qz, vx, vy, vz, mu])\n",
    "print(f'Recovered orbital elements:')\n",
    "print(f'a    ={a_:9.6f}')\n",
    "print(f'e    ={e_:9.6f}')\n",
    "print(f'inc  ={inc_:9.6f}')\n",
    "print(f'Omega={Omega_:9.6f}')\n",
    "print(f'omega={omega_:9.6f}')\n",
    "print(f'f    ={f_:9.6f}')"
   ]
  },
  {
   "cell_type": "code",
   "execution_count": 174,
   "metadata": {},
   "outputs": [
    {
     "name": "stdout",
     "output_type": "stream",
     "text": [
      "Errors in orbital elements:\n",
      "a:     0.00e+00\n",
      "e:     9.31e-09\n",
      "inc:   1.00e-37\n",
      "Omega: 1.42e-02\n",
      "omega: 1.42e-02\n",
      "f:     0.00e+00\n"
     ]
    }
   ],
   "source": [
    "# Calculate errors\n",
    "err_a = np.abs(a_ - a)\n",
    "err_e = np.abs(e_ - e)\n",
    "err_inc = np.abs(inc_ - inc)\n",
    "err_Omega = np.abs(Omega_ - Omega)\n",
    "err_omega = np.abs(omega_ - omega)\n",
    "err_f = np.abs(f_ - f)\n",
    "\n",
    "# Print errors\n",
    "print(f'Errors in orbital elements:')\n",
    "print(f'a:     {err_a:6.2e}')\n",
    "print(f'e:     {err_e:6.2e}')\n",
    "print(f'inc:   {err_inc:6.2e}')\n",
    "print(f'Omega: {err_Omega:6.2e}')\n",
    "print(f'omega: {err_omega:6.2e}')\n",
    "print(f'f:     {err_f:6.2e}')"
   ]
  },
  {
   "cell_type": "code",
   "execution_count": 159,
   "metadata": {},
   "outputs": [],
   "source": [
    "class ArcCos2(keras.layers.Layer):\n",
    "    \"\"\"\n",
    "    Variant of arc cosine taking three inputs: x, r, and y\n",
    "    Returns an angle theta such that r * cos(theta) = x and r * sin(theta) matches the sign of y\n",
    "    Follows function acos2 in rebound tools.c\n",
    "    \"\"\"\n",
    "    def call(self, inputs):\n",
    "        # Unpack inputs\n",
    "        x, r, y = inputs\n",
    "        # Return the arc cosine with the appropriate sign\n",
    "        # return tf.acos(x / r) * tf.math.sign(y)\n",
    "        cosine = tf.clip_by_value(x / r, -1.0, 1.0)\n",
    "        return tf.acos(cosine) * tf.math.sign(y)\n",
    "\n",
    "    def get_config(self):\n",
    "        return dict()"
   ]
  },
  {
   "cell_type": "code",
   "execution_count": 97,
   "metadata": {},
   "outputs": [],
   "source": [
    "# Promote inputs to double precision to minimize roundoff problems\n",
    "qx = tf.dtypes.cast(qx, dtype=tf.float64, name='qx')\n",
    "qy = tf.dtypes.cast(qy, dtype=tf.float64, name='qy')\n",
    "qz = tf.dtypes.cast(qz, dtype=tf.float64, name='qz')\n",
    "vx = tf.dtypes.cast(vx, dtype=tf.float64, name='vx')\n",
    "vy = tf.dtypes.cast(vy, dtype=tf.float64, name='vx')\n",
    "vz = tf.dtypes.cast(vz, dtype=tf.float64, name='vx')\n",
    "mu = tf.dtypes.cast(mu, dtype=tf.float64, name='mu')\n",
    "\n",
    "# See rebound library tools.c, reb_tools_particle_to_orbit_err\n",
    "\n",
    "# The distance from the primary\n",
    "# r = tf.sqrt(tf.square(qx) + tf.square(qy) + tf.square(qz))\n",
    "r = tf.sqrt(tf.math.add_n(\n",
    "        [tf.square(qx) + tf.square(qy) + tf.square(qz)]), \n",
    "        name='r')\n",
    "\n",
    "# The speed and its square\n",
    "# v2 = tf.square(vx) + tf.square(vy) + tf.square(vz)\n",
    "v2 = tf.math.add_n(\n",
    "        [tf.square(vx) + tf.square(vy) + tf.square(vz)], \n",
    "        name='v2')\n",
    "# v = tf.sqrt(v2)\n",
    "\n",
    "# The speed squared of a circular orbit\n",
    "v2_circ = mu / r\n",
    "\n",
    "# The semi-major axis\n",
    "two = tf.constant(2.0, dtype=tf.float64)\n",
    "a = -mu / (v2 - two * v2_circ)\n",
    "\n",
    "# The specific angular momentum vector and its magnitude\n",
    "# hx = qy*vz - qz*vy\n",
    "# hy = qz*vx - qx*vz\n",
    "# hz = qx*vy - qy*vx\n",
    "# h = tf.sqrt(tf.square(hx) + tf.square(hy) + tf.square(hz))\n",
    "hx = tf.subtract(qy*vz, qz*vy, name='hx')\n",
    "hy = tf.subtract(qz*vx, qx*vz, name='hy')\n",
    "hz = tf.subtract(qx*vy, qy*vx, name='hz')\n",
    "h = tf.sqrt(tf.math.add_n(\n",
    "        [tf.square(hx) + tf.square(hy) + tf.square(hz)]), \n",
    "        name='h')\n",
    "\n",
    "# The excess squared speed vs. a circular orbit\n",
    "# v2_diff = v2 - v2_circ\n",
    "v2_diff = tf.subtract(v2, v2_circ, name='v2_diff')\n",
    "\n",
    "# The dot product of v and r; same as r times the radial speed vr\n",
    "# rvr = (qx * vx + qy*vy + qz*vz)\n",
    "rvr = tf.add_n([qx*vx, qy*vy, qz*vz], name='rvr')\n",
    "# The radial speed\n",
    "# vr = rvr / r\n",
    "vr = tf.divide(rvr, r, name='vr')\n",
    "# Inverse of mu\n",
    "one = tf.constant(1.0, dtype=tf.float64)\n",
    "mu_inv = one / mu\n",
    "\n",
    "# Eccentricity vector\n",
    "ex = mu_inv * (v2_diff * qx - rvr * vx)\n",
    "ey = mu_inv * (v2_diff * qy - rvr * vy)\n",
    "ez = mu_inv * (v2_diff * qz - rvr * vz)\n",
    "# The eccentricity is the magnitude of this vector\n",
    "# e = tf.sqrt(tf.square(ex) + tf.square(ey) + tf.square(ez))\n",
    "e = tf.sqrt(tf.math.add_n(\n",
    "        [tf.square(ex) + tf.square(ey) + tf.square(ez)]),\n",
    "        name='e')\n",
    "\n",
    "# The mean motion\n",
    "N = tf.sqrt(tf.abs(mu / (a*a*a)), name='N')\n",
    "\n",
    "# The inclination; zero when h points along z axis, i.e. hz = h\n",
    "# inc = tf.acos(hz / h, name='inc')\n",
    "inc = ArcCos2(name='inc_fp64')((hz, h, one))\n",
    "\n",
    "# Vector pointing along the ascending node = zhat cross h\n",
    "nx = -hy\n",
    "ny = hx\n",
    "n = tf.sqrt(tf.square(nx) + tf.square(ny), name='n')\n",
    "\n",
    "# Longitude of ascending node\n",
    "# Omega = tf.acos(nx / n) * tf.math.sign(ny)\n",
    "Omega = ArcCos2(name='Omega_fp64')((nx, n, ny))\n",
    "\n",
    "# Compute the eccentric anomaly for elliptical orbits (e < 1)\n",
    "ea = ArcCos2(name='eccentric_anomaly')((one - r / a, e, vr))\n",
    "\n",
    "# Compute the mean anomaly from the eccentric anomaly using Kepler's equation\n",
    "M = ea - e * tf.sin(ea)\n",
    "\n",
    "# Sum of omega + f is always defined in the orbital plane when i != 0\n",
    "omega_f = ArcCos2(name='omega_plus_f')((nx*qx + ny*qy, n*r, qz))\n",
    "\n",
    "# The argument of pericenter\n",
    "omega = ArcCos2(name='omega_fp64')((nx*ex + ny*ey, n*e, ez))\n",
    "\n",
    "# The true anomaly; may be larger than pi\n",
    "f = omega_f - omega\n",
    "\n",
    "# Shift f to the interval [-pi, +pi]\n",
    "pi = tf.constant(np.pi, dtype=tf.float64)\n",
    "two_pi = tf.constant(2.0 * np.pi, dtype=tf.float64)\n",
    "f = tf.math.floormod(f+pi, two_pi) - pi\n",
    "\n",
    "# Convert the outputs to single precision\n",
    "a = tf.dtypes.cast(a, dtype=tf.float32, name='a')\n",
    "e = tf.dtypes.cast(e, dtype=tf.float32, name='e')\n",
    "inc = tf.dtypes.cast(inc, dtype=tf.float32, name='inc')\n",
    "Omega = tf.dtypes.cast(Omega, dtype=tf.float32, name='Omega')\n",
    "omega = tf.dtypes.cast(omega, dtype=tf.float32, name='omega')\n",
    "f = tf.dtypes.cast(f, dtype=tf.float32, name='f')\n",
    "M = tf.dtypes.cast(M, dtype=tf.float32, name='M')\n",
    "N = tf.dtypes.cast(N, dtype=tf.float32, name='N')"
   ]
  },
  {
   "cell_type": "code",
   "execution_count": 23,
   "metadata": {},
   "outputs": [
    {
     "data": {
      "text/plain": [
       "<tf.Tensor: id=1421, shape=(), dtype=float64, numpy=1.0027613858151179>"
      ]
     },
     "execution_count": 23,
     "metadata": {},
     "output_type": "execute_result"
    }
   ],
   "source": [
    "r"
   ]
  },
  {
   "cell_type": "code",
   "execution_count": 22,
   "metadata": {},
   "outputs": [
    {
     "data": {
      "text/plain": [
       "<tf.Tensor: id=1427, shape=(), dtype=float64, numpy=39.25954248263389>"
      ]
     },
     "execution_count": 22,
     "metadata": {},
     "output_type": "execute_result"
    }
   ],
   "source": [
    "v2"
   ]
  },
  {
   "cell_type": "code",
   "execution_count": 24,
   "metadata": {},
   "outputs": [
    {
     "data": {
      "text/plain": [
       "<tf.Tensor: id=1428, shape=(), dtype=float64, numpy=39.36825211026961>"
      ]
     },
     "execution_count": 24,
     "metadata": {},
     "output_type": "execute_result"
    }
   ],
   "source": [
    "v2_circ"
   ]
  },
  {
   "cell_type": "code",
   "execution_count": 25,
   "metadata": {},
   "outputs": [
    {
     "data": {
      "text/plain": [
       "<tf.Tensor: id=1544, shape=(), dtype=float32, numpy=1.0>"
      ]
     },
     "execution_count": 25,
     "metadata": {},
     "output_type": "execute_result"
    }
   ],
   "source": [
    "a"
   ]
  },
  {
   "cell_type": "code",
   "execution_count": 29,
   "metadata": {},
   "outputs": [
    {
     "data": {
      "text/plain": [
       "<tf.Tensor: id=1448, shape=(), dtype=float64, numpy=6.282193457015907>"
      ]
     },
     "execution_count": 29,
     "metadata": {},
     "output_type": "execute_result"
    }
   ],
   "source": [
    "h"
   ]
  },
  {
   "cell_type": "code",
   "execution_count": 30,
   "metadata": {},
   "outputs": [
    {
     "data": {
      "text/plain": [
       "<tf.Tensor: id=1436, shape=(), dtype=float64, numpy=-0.0>"
      ]
     },
     "execution_count": 30,
     "metadata": {},
     "output_type": "execute_result"
    }
   ],
   "source": [
    "hx"
   ]
  },
  {
   "cell_type": "code",
   "execution_count": 31,
   "metadata": {},
   "outputs": [
    {
     "data": {
      "text/plain": [
       "<tf.Tensor: id=1439, shape=(), dtype=float64, numpy=0.0>"
      ]
     },
     "execution_count": 31,
     "metadata": {},
     "output_type": "execute_result"
    }
   ],
   "source": [
    "hy"
   ]
  },
  {
   "cell_type": "code",
   "execution_count": 32,
   "metadata": {},
   "outputs": [
    {
     "data": {
      "text/plain": [
       "<tf.Tensor: id=1442, shape=(), dtype=float64, numpy=6.282193457015907>"
      ]
     },
     "execution_count": 32,
     "metadata": {},
     "output_type": "execute_result"
    }
   ],
   "source": [
    "hz"
   ]
  },
  {
   "cell_type": "code",
   "execution_count": 33,
   "metadata": {},
   "outputs": [
    {
     "data": {
      "text/plain": [
       "<tf.Tensor: id=1449, shape=(), dtype=float64, numpy=-0.10870962763571868>"
      ]
     },
     "execution_count": 33,
     "metadata": {},
     "output_type": "execute_result"
    }
   ],
   "source": [
    "v2_diff"
   ]
  },
  {
   "cell_type": "code",
   "execution_count": 34,
   "metadata": {},
   "outputs": [
    {
     "data": {
      "text/plain": [
       "<tf.Tensor: id=1454, shape=(), dtype=float64, numpy=0.10319789213647321>"
      ]
     },
     "execution_count": 34,
     "metadata": {},
     "output_type": "execute_result"
    }
   ],
   "source": [
    "vr"
   ]
  },
  {
   "cell_type": "code",
   "execution_count": 35,
   "metadata": {},
   "outputs": [
    {
     "data": {
      "text/plain": [
       "<tf.Tensor: id=1460, shape=(), dtype=float64, numpy=-0.003739639225928694>"
      ]
     },
     "execution_count": 35,
     "metadata": {},
     "output_type": "execute_result"
    }
   ],
   "source": [
    "ex"
   ]
  },
  {
   "cell_type": "code",
   "execution_count": 36,
   "metadata": {},
   "outputs": [
    {
     "data": {
      "text/plain": [
       "<tf.Tensor: id=1464, shape=(), dtype=float64, numpy=0.016275894998576776>"
      ]
     },
     "execution_count": 36,
     "metadata": {},
     "output_type": "execute_result"
    }
   ],
   "source": [
    "ey"
   ]
  },
  {
   "cell_type": "code",
   "execution_count": 37,
   "metadata": {},
   "outputs": [
    {
     "data": {
      "text/plain": [
       "<tf.Tensor: id=1468, shape=(), dtype=float64, numpy=0.0>"
      ]
     },
     "execution_count": 37,
     "metadata": {},
     "output_type": "execute_result"
    }
   ],
   "source": [
    "ez"
   ]
  },
  {
   "cell_type": "code",
   "execution_count": 26,
   "metadata": {},
   "outputs": [
    {
     "data": {
      "text/plain": [
       "<tf.Tensor: id=1545, shape=(), dtype=float32, numpy=0.01669999>"
      ]
     },
     "execution_count": 26,
     "metadata": {},
     "output_type": "execute_result"
    }
   ],
   "source": [
    "e"
   ]
  },
  {
   "cell_type": "code",
   "execution_count": 27,
   "metadata": {},
   "outputs": [
    {
     "data": {
      "text/plain": [
       "<tf.Tensor: id=1551, shape=(), dtype=float32, numpy=6.283069>"
      ]
     },
     "execution_count": 27,
     "metadata": {},
     "output_type": "execute_result"
    }
   ],
   "source": [
    "N"
   ]
  },
  {
   "cell_type": "code",
   "execution_count": 28,
   "metadata": {},
   "outputs": [
    {
     "data": {
      "text/plain": [
       "<tf.Tensor: id=1546, shape=(), dtype=float32, numpy=0.0>"
      ]
     },
     "execution_count": 28,
     "metadata": {},
     "output_type": "execute_result"
    }
   ],
   "source": [
    "inc"
   ]
  },
  {
   "cell_type": "code",
   "execution_count": 38,
   "metadata": {},
   "outputs": [
    {
     "data": {
      "text/plain": [
       "<tf.Tensor: id=1488, shape=(), dtype=float64, numpy=-0.0>"
      ]
     },
     "execution_count": 38,
     "metadata": {},
     "output_type": "execute_result"
    }
   ],
   "source": [
    "nx"
   ]
  },
  {
   "cell_type": "code",
   "execution_count": 39,
   "metadata": {},
   "outputs": [
    {
     "data": {
      "text/plain": [
       "<tf.Tensor: id=1436, shape=(), dtype=float64, numpy=-0.0>"
      ]
     },
     "execution_count": 39,
     "metadata": {},
     "output_type": "execute_result"
    }
   ],
   "source": [
    "ny"
   ]
  },
  {
   "cell_type": "code",
   "execution_count": 40,
   "metadata": {},
   "outputs": [
    {
     "data": {
      "text/plain": [
       "<tf.Tensor: id=1492, shape=(), dtype=float64, numpy=0.0>"
      ]
     },
     "execution_count": 40,
     "metadata": {},
     "output_type": "execute_result"
    }
   ],
   "source": [
    "n"
   ]
  },
  {
   "cell_type": "code",
   "execution_count": 41,
   "metadata": {},
   "outputs": [
    {
     "data": {
      "text/plain": [
       "<tf.Tensor: id=1547, shape=(), dtype=float32, numpy=0.0>"
      ]
     },
     "execution_count": 41,
     "metadata": {},
     "output_type": "execute_result"
    }
   ],
   "source": [
    "Omega"
   ]
  },
  {
   "cell_type": "code",
   "execution_count": 42,
   "metadata": {},
   "outputs": [
    {
     "data": {
      "text/plain": [
       "<tf.Tensor: id=1510, shape=(), dtype=float64, numpy=1.7369097799088533>"
      ]
     },
     "execution_count": 42,
     "metadata": {},
     "output_type": "execute_result"
    }
   ],
   "source": [
    "ea"
   ]
  },
  {
   "cell_type": "code",
   "execution_count": 43,
   "metadata": {},
   "outputs": [
    {
     "data": {
      "text/plain": [
       "<tf.Tensor: id=1525, shape=(), dtype=float64, numpy=0.0>"
      ]
     },
     "execution_count": 43,
     "metadata": {},
     "output_type": "execute_result"
    }
   ],
   "source": [
    "omega_f"
   ]
  },
  {
   "cell_type": "code",
   "execution_count": null,
   "metadata": {},
   "outputs": [],
   "source": []
  }
 ],
 "metadata": {
  "kernelspec": {
   "display_name": "Python [conda env:nbody]",
   "language": "python",
   "name": "conda-env-nbody-py"
  },
  "language_info": {
   "codemirror_mode": {
    "name": "ipython",
    "version": 3
   },
   "file_extension": ".py",
   "mimetype": "text/x-python",
   "name": "python",
   "nbconvert_exporter": "python",
   "pygments_lexer": "ipython3",
   "version": "3.7.3"
  }
 },
 "nbformat": 4,
 "nbformat_minor": 2
}
