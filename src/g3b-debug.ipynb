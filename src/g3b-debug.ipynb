{
 "cells": [
  {
   "cell_type": "code",
   "execution_count": 1,
   "metadata": {},
   "outputs": [],
   "source": [
    "# Library imports\n",
    "import tensorflow as tf\n",
    "import rebound\n",
    "import numpy as np\n",
    "import datetime\n",
    "import matplotlib.pyplot as plt\n",
    "\n",
    "# Aliases\n",
    "keras = tf.keras"
   ]
  },
  {
   "cell_type": "code",
   "execution_count": 2,
   "metadata": {},
   "outputs": [],
   "source": [
    "# Local imports\n",
    "from utils import load_vartbl, save_vartbl, plot_style\n",
    "from tf_utils import gpu_grow_memory, TimeHistory\n",
    "from tf_utils import plot_loss_hist, EpochLoss, TimeHistory\n",
    "from tf_utils import Identity\n",
    "\n",
    "from orbital_element import OrbitalElementToConfig, ConfigToOrbitalElement, MeanToTrueAnomaly, G_\n",
    "from orbital_element import make_model_elt_to_cfg, make_model_cfg_to_elt\n",
    "\n",
    "from jacobi import CartesianToJacobi, JacobiToCartesian\n",
    "\n",
    "from g3b_data import make_traj_g3b, make_data_g3b, make_datasets_g3b\n",
    "from g3b_data import make_filename_g3b, load_data_g3b\n",
    "from g3b_data import make_datasets_solar, make_datasets_hard\n",
    "from g3b_plot import plot_orbit_q, plot_orbit_v, plot_orbit_a, plot_orbit_energy, plot_orbit_element\n",
    "from g3b import KineticEnergy_G3B, PotentialEnergy_G3B, Momentum_G3B, AngularMomentum_G3B\n",
    "from g3b import VectorError, EnergyError\n",
    "from g3b import Motion_G3B, make_physics_model_g3b\n",
    "from g3b import compile_and_fit\n",
    "from g3b_model_math import make_position_model_g3b_math, make_model_g3b_math\n",
    "# from g3b_model_nn import make_position_model_g3b_nn, make_model_g3b_nn"
   ]
  },
  {
   "cell_type": "code",
   "execution_count": 3,
   "metadata": {},
   "outputs": [],
   "source": [
    "# Grow GPU memory (must be first operation in TF)\n",
    "gpu_grow_memory()"
   ]
  },
  {
   "cell_type": "markdown",
   "metadata": {},
   "source": [
    "### Load Data and Build Position Model"
   ]
  },
  {
   "cell_type": "code",
   "execution_count": 4,
   "metadata": {},
   "outputs": [],
   "source": [
    "# Inputs for make_datasets_g3b\n",
    "vt_split = 0.20\n",
    "n_years = 100\n",
    "sample_freq = 10\n",
    "traj_size = n_years * sample_freq + 1\n",
    "\n",
    "# The batch size\n",
    "batch_size = 64"
   ]
  },
  {
   "cell_type": "code",
   "execution_count": 5,
   "metadata": {},
   "outputs": [],
   "source": [
    "m = np.array([1.0, 1.0E-6, 1.0E-3])\n",
    "a = np.array([1.00000, 5.2029])\n",
    "e = np.array([0.0167, 0.0484])\n",
    "inc = np.radians([0.00, 1.3044])\n",
    "Omega = np.radians([0.00, 100.47])\n",
    "omega = np.radians([102.94, 14.73]) - Omega\n",
    "f = np.radians([100.46, 34.40]) - Omega\n",
    "n_years = 100\n",
    "sample_freq = 10\n",
    "\n",
    "inputs_traj, outputs_traj = make_traj_g3b(m=m, a=a, e=e, inc=inc, Omega=Omega, omega=omega, f=f, \n",
    "                                          n_years=n_years, sample_freq=sample_freq)"
   ]
  },
  {
   "cell_type": "code",
   "execution_count": 6,
   "metadata": {},
   "outputs": [
    {
     "data": {
      "text/plain": [
       "array([[-3.1754794e-03,  3.9717490e-03,  5.4689841e-05],\n",
       "       [-9.2346436e-01, -3.9427280e-01,  5.4689841e-05],\n",
       "       [ 3.1764028e+00, -3.9713547e+00, -5.4689895e-02]], dtype=float32)"
      ]
     },
     "execution_count": 6,
     "metadata": {},
     "output_type": "execute_result"
    }
   ],
   "source": [
    "inputs_traj['q0']"
   ]
  },
  {
   "cell_type": "code",
   "execution_count": 7,
   "metadata": {},
   "outputs": [
    {
     "data": {
      "text/plain": [
       "array([[-3.1754794e-03,  3.9717490e-03,  5.4689841e-05],\n",
       "       [-9.2346436e-01, -3.9427280e-01,  5.4689841e-05],\n",
       "       [ 3.1764028e+00, -3.9713547e+00, -5.4689895e-02]], dtype=float32)"
      ]
     },
     "execution_count": 7,
     "metadata": {},
     "output_type": "execute_result"
    }
   ],
   "source": [
    "outputs_traj['q'][0]"
   ]
  },
  {
   "cell_type": "code",
   "execution_count": 8,
   "metadata": {},
   "outputs": [
    {
     "data": {
      "text/plain": [
       "array([[1.       , 5.2029   ],\n",
       "       [0.999998 , 5.2029   ],\n",
       "       [1.0000111, 5.2029   ]], dtype=float32)"
      ]
     },
     "execution_count": 8,
     "metadata": {},
     "output_type": "execute_result"
    }
   ],
   "source": [
    "outputs_traj['orb_a'][0:3]"
   ]
  },
  {
   "cell_type": "code",
   "execution_count": 9,
   "metadata": {},
   "outputs": [],
   "source": [
    "# outputs_traj['orb_e'][0:3]"
   ]
  },
  {
   "cell_type": "code",
   "execution_count": 10,
   "metadata": {},
   "outputs": [
    {
     "data": {
      "text/plain": [
       "array([[-4.5298276, -1.153139 ],\n",
       "       [ 2.37244  , -1.0977441],\n",
       "       [-3.3007643, -1.0420896]], dtype=float32)"
      ]
     },
     "execution_count": 10,
     "metadata": {},
     "output_type": "execute_result"
    }
   ],
   "source": [
    "outputs_traj['orb_f'][0:3]"
   ]
  },
  {
   "cell_type": "code",
   "execution_count": 14,
   "metadata": {},
   "outputs": [
    {
     "name": "stdout",
     "output_type": "stream",
     "text": [
      "Loaded data from ../data/g3b/2509250945.pickle.\n"
     ]
    }
   ],
   "source": [
    "# Create a tiny data set with 10,000 solar type orbits\n",
    "n_traj = 100\n",
    "\n",
    "ds_tiny_trn, ds_tiny_val, ds_tiny_tst = make_datasets_solar(n_traj=n_traj, vt_split=vt_split, \n",
    "                                                               n_years=n_years, sample_freq=sample_freq)"
   ]
  },
  {
   "cell_type": "code",
   "execution_count": 15,
   "metadata": {},
   "outputs": [
    {
     "name": "stdout",
     "output_type": "stream",
     "text": [
      "Loaded data from ../data/g3b/398004947.pickle.\n"
     ]
    }
   ],
   "source": [
    "# Create a medium data set with 10,000 solar type orbits\n",
    "n_traj = 10000\n",
    "\n",
    "ds_small_trn, ds_small_val, ds_small_tst = make_datasets_solar(n_traj=n_traj, vt_split=vt_split, \n",
    "                                                               n_years=n_years, sample_freq=sample_freq)"
   ]
  },
  {
   "cell_type": "code",
   "execution_count": 16,
   "metadata": {},
   "outputs": [
    {
     "name": "stdout",
     "output_type": "stream",
     "text": [
      "Input field names:  ['t', 'q0', 'v0', 'm']\n",
      "Output field names: ['q', 'v', 'a', 'orb_a', 'orb_e', 'orb_inc', 'orb_Omega', 'orb_omega', 'orb_f', 'q0_rec', 'v0_rec', 'T', 'U', 'H', 'P', 'L']\n",
      "\n",
      "Example batch sizes:\n",
      "t  = (64, 1001)\n",
      "q0 = (64, 3, 3)\n",
      "v0 = (64, 3, 3)\n",
      "m  = (64, 3)\n",
      "q  = (64, 1001, 3, 3)\n",
      "v  = (64, 1001, 3, 3)\n",
      "a  = (64, 1001, 3, 3)\n",
      "H  = (64, 1001)\n",
      "P  = (64, 1001, 3)\n",
      "L  = (64, 1001, 3)\n"
     ]
    }
   ],
   "source": [
    "# Example batch\n",
    "batch_in, batch_out = list(ds_small_trn.take(1))[0]\n",
    "print('Input field names: ', list(batch_in.keys()))\n",
    "print('Output field names:', list(batch_out.keys()))\n",
    "\n",
    "t = batch_in['t']\n",
    "q0 = batch_in['q0']\n",
    "v0 = batch_in['v0']\n",
    "m = batch_in['m']\n",
    "\n",
    "q = batch_out['q']\n",
    "v = batch_out['v']\n",
    "a = batch_out['a']\n",
    "q0_rec = batch_out['q0_rec']\n",
    "v0_rec = batch_out['v0_rec']\n",
    "H = batch_out['H']\n",
    "P = batch_out['P']\n",
    "L = batch_out['L']\n",
    "\n",
    "print(f'\\nExample batch sizes:')\n",
    "print(f't  = {t.shape}')\n",
    "print(f'q0 = {q0.shape}')\n",
    "print(f'v0 = {v0.shape}')\n",
    "print(f'm  = {m.shape}')\n",
    "\n",
    "print(f'q  = {q.shape}')\n",
    "print(f'v  = {v.shape}')\n",
    "print(f'a  = {a.shape}')\n",
    "# print(f'q0_rec = {q0_rec.shape}')\n",
    "# print(f'v0_rec = {v0_rec.shape}')\n",
    "print(f'H  = {H.shape}')\n",
    "print(f'P  = {P.shape}')\n",
    "print(f'L  = {L.shape}')"
   ]
  },
  {
   "cell_type": "code",
   "execution_count": 17,
   "metadata": {},
   "outputs": [],
   "source": [
    "model = make_position_model_g3b_math(traj_size=traj_size, batch_size=batch_size)"
   ]
  },
  {
   "cell_type": "code",
   "execution_count": 18,
   "metadata": {},
   "outputs": [],
   "source": [
    "optimizer = keras.optimizers.Adam(learning_rate=1.0E-3)\n",
    "\n",
    "loss = {'q': VectorError(name='q_loss'),\n",
    "        'v': VectorError(name='v_loss'),\n",
    "       }\n",
    "\n",
    "metrics = None\n",
    "\n",
    "loss_weights = {'q': 1.0,\n",
    "                'v': 1.0}"
   ]
  },
  {
   "cell_type": "code",
   "execution_count": 19,
   "metadata": {},
   "outputs": [],
   "source": [
    "# Compile the  model\n",
    "model.compile(optimizer=optimizer, loss=loss, metrics=metrics, loss_weights=loss_weights)"
   ]
  },
  {
   "cell_type": "markdown",
   "metadata": {},
   "source": [
    "### Find batch and row with NAN Output"
   ]
  },
  {
   "cell_type": "code",
   "execution_count": 20,
   "metadata": {},
   "outputs": [
    {
     "name": "stdout",
     "output_type": "stream",
     "text": [
      "Loss on batch 0 = 1.95e+00\n",
      "Loss on batch 1 = 2.85e+00\n",
      "Loss on batch 2 = 6.23e+00\n",
      "Loss on batch 3 = 1.09e+00\n",
      "Loss on batch 4 = 1.35e+00\n",
      "Loss on batch 5 = 2.79e+00\n",
      "Loss on batch 6 = 1.38e+00\n",
      "Loss on batch 7 = 7.20e-01\n",
      "Loss on batch 8 = 5.37e+00\n",
      "Loss on batch 9 = 9.76e-01\n",
      "Loss on batch 10 = 8.88e-01\n",
      "Loss on batch 11 = 3.09e+00\n",
      "Loss on batch 12 = 7.98e+00\n",
      "Loss on batch 13 = 2.46e+01\n",
      "Loss on batch 14 = 2.68e+00\n",
      "Loss on batch 15 = 2.06e+00\n",
      "Loss on batch 16 = 2.31e+00\n",
      "Loss on batch 17 = 1.27e+00\n",
      "Loss on batch 18 = 8.47e-01\n",
      "Loss on batch 19 = 2.79e+00\n",
      "Loss on batch 20 = 1.29e+00\n",
      "Loss on batch 21 = 2.21e+00\n",
      "Loss on batch 22 = 1.93e+00\n",
      "Loss on batch 23 = 4.02e+00\n",
      "Loss on batch 24 = 4.25e+00\n",
      "Loss on batch 25 = 1.58e+00\n",
      "Loss on batch 26 = 1.19e+00\n",
      "Loss on batch 27 = 6.54e+00\n",
      "Loss on batch 28 = 1.87e+00\n",
      "Loss on batch 29 = 1.44e+00\n",
      "Loss on batch 30 = 5.12e+00\n",
      "Loss on batch 31 = 5.00e+00\n",
      "Loss on batch 32 = 1.86e+00\n",
      "Loss on batch 33 = 1.96e+00\n",
      "Loss on batch 34 = 1.84e+01\n",
      "Loss on batch 35 = 2.76e+00\n",
      "Loss on batch 36 = 9.54e-01\n",
      "Loss on batch 37 = 1.68e+00\n",
      "Loss on batch 38 = 4.82e+00\n",
      "Loss on batch 39 = 1.28e+00\n",
      "Loss on batch 40 = 2.45e+00\n",
      "Loss on batch 41 = 1.35e+00\n",
      "Loss on batch 42 = 3.40e+00\n",
      "Loss on batch 43 = 1.75e+00\n",
      "Loss on batch 44 = 1.52e+00\n",
      "Loss on batch 45 = 2.73e+00\n",
      "Loss on batch 46 = 9.16e+00\n",
      "Loss on batch 47 = 4.06e+00\n",
      "Loss on batch 48 = 1.39e+00\n",
      "Loss on batch 49 = 5.33e+00\n",
      "Loss on batch 50 = 1.61e+00\n",
      "Loss on batch 51 = 3.20e+01\n",
      "Loss on batch 52 = 9.95e+00\n",
      "Loss on batch 53 = 1.12e+00\n",
      "Loss on batch 54 = 1.75e+00\n",
      "Loss on batch 55 = 1.05e+00\n",
      "Loss on batch 56 = 1.86e+00\n",
      "Loss on batch 57 = 7.72e-01\n",
      "Loss on batch 58 = 7.48e+00\n",
      "Loss on batch 59 = 6.06e+00\n",
      "Loss on batch 60 = 3.32e+00\n",
      "Loss on batch 61 = 1.40e+00\n",
      "Loss on batch 62 = 8.13e-01\n",
      "Loss on batch 63 = 2.20e+00\n",
      "Loss on batch 64 = 9.14e-01\n",
      "Loss on batch 65 = 2.05e+00\n",
      "Loss on batch 66 = 6.17e+00\n",
      "Loss on batch 67 = 1.58e+00\n",
      "Loss on batch 68 = 4.28e+00\n",
      "Loss on batch 69 = 6.88e-01\n",
      "Loss on batch 70 = 1.78e+00\n",
      "Loss on batch 71 = 1.36e+00\n",
      "Loss on batch 72 = 4.56e+01\n",
      "Loss on batch 73 = 5.91e+00\n",
      "Loss on batch 74 = 2.53e+00\n",
      "Loss on batch 75 = 2.03e+00\n",
      "Loss on batch 76 = 1.80e+00\n",
      "Loss on batch 77 = 1.21e+00\n",
      "Loss on batch 78 = 2.56e+00\n",
      "Loss on batch 79 = 3.35e+00\n",
      "Loss on batch 80 = 1.29e+00\n",
      "Loss on batch 81 = 1.81e+00\n",
      "Loss on batch 82 = 2.04e+00\n",
      "Loss on batch 83 = 4.46e+00\n",
      "Loss on batch 84 = 1.11e+01\n",
      "Loss on batch 85 = 3.38e+00\n",
      "Loss on batch 86 = 1.64e+00\n",
      "Loss on batch 87 = 3.71e+00\n",
      "Loss on batch 88 = 1.42e+00\n",
      "Loss on batch 89 = 6.08e-01\n",
      "Loss on batch 90 = 5.99e+00\n",
      "Loss on batch 91 = 1.50e+00\n",
      "Loss on batch 92 = 1.56e+00\n",
      "Loss on batch 93 = 3.52e+00\n",
      "Loss on batch 94 = 2.11e+00\n",
      "Loss on batch 95 = 1.29e+00\n",
      "Loss on batch 96 = 3.93e+00\n",
      "Loss on batch 97 = 5.06e+00\n",
      "Loss on batch 98 = 3.98e+00\n",
      "Loss on batch 99 = 3.67e+00\n",
      "Loss on batch 100 = 4.95e+00\n",
      "Loss on batch 101 = 1.00e+00\n",
      "Loss on batch 102 = 1.75e+00\n",
      "Loss on batch 103 = 6.27e+00\n",
      "Loss on batch 104 = 1.61e+01\n",
      "Loss on batch 105 = 7.92e-01\n",
      "Loss on batch 106 = 1.01e+00\n",
      "Loss on batch 107 = 2.13e+00\n",
      "Loss on batch 108 = 2.63e+00\n",
      "Loss on batch 109 = 3.89e+00\n",
      "Loss on batch 110 = 1.33e+00\n",
      "Loss on batch 111 = 5.69e+00\n",
      "Loss on batch 112 = 1.34e+00\n",
      "Loss on batch 113 = 3.85e+00\n",
      "Loss on batch 114 = 1.58e+00\n",
      "Loss on batch 115 = 6.30e+00\n",
      "Loss on batch 116 = 2.08e+00\n",
      "Loss on batch 117 = 1.43e+00\n",
      "Loss on batch 118 = 2.83e+00\n",
      "Loss on batch 119 = 1.78e+00\n",
      "Loss on batch 120 = 1.10e+00\n",
      "Loss on batch 121 = 2.14e+00\n",
      "Loss on batch 122 = 4.41e+00\n",
      "Loss on batch 123 = 2.23e+00\n",
      "Loss on batch 124 = 1.57e+00\n",
      "Loss on batch 125 = 4.63e+00\n",
      "Loss on batch 126 = 2.77e+00\n",
      "Loss on batch 127 = 1.25e+00\n",
      "Loss on batch 128 = 1.60e+01\n",
      "Loss on batch 129 = 1.41e+00\n",
      "Loss on batch 130 = 1.55e+00\n",
      "Loss on batch 131 = 3.75e+00\n",
      "Loss on batch 132 = 9.35e+00\n",
      "Loss on batch 133 = 3.30e+00\n",
      "Loss on batch 134 = 2.95e+00\n",
      "Loss on batch 135 = 3.07e+00\n",
      "Loss on batch 136 = 7.52e+00\n",
      "Loss on batch 137 = 1.04e+00\n",
      "Loss on batch 138 = 3.17e+00\n",
      "Loss on batch 139 = 1.42e+00\n",
      "Loss on batch 140 = 6.42e+00\n",
      "Loss on batch 141 = 6.44e+00\n",
      "Loss on batch 142 = 7.92e-01\n",
      "Loss on batch 143 = 1.12e+00\n",
      "Loss on batch 144 = 2.55e+00\n",
      "Loss on batch 145 = 4.75e+00\n",
      "Loss on batch 146 = 1.35e+01\n",
      "Loss on batch 147 = 1.69e+00\n",
      "Loss on batch 148 = 5.12e+00\n",
      "Loss on batch 149 = 1.61e+00\n",
      "Loss on batch 150 = 2.48e+00\n",
      "Loss on batch 151 = 2.92e+01\n",
      "Loss on batch 152 = 1.13e+01\n",
      "Loss on batch 153 = 1.09e+00\n",
      "Loss on batch 154 = 4.34e+00\n",
      "Loss on batch 155 = 1.63e+00\n"
     ]
    }
   ],
   "source": [
    "loss_hist = []\n",
    "for i, ds_i in enumerate(ds_small_trn):\n",
    "    batch_in, batch_out = ds_i\n",
    "    loss_i = model.test_on_batch(batch_in, batch_out)\n",
    "    loss_hist.append(loss_i)\n",
    "    print(f'Loss on batch {i} = {loss_i[0]:5.2e}')\n",
    "    if np.isnan(loss_i[0]):\n",
    "        print(f'Loss at i={i} is NAN.  Saving inputs for debugging.')\n",
    "        # Inputs (from batch)\n",
    "        t, q0, v0, m = batch_in\n",
    "        t = batch_in['t']\n",
    "        q0 = batch_in['q0']\n",
    "        v0 = batch_in['v0']\n",
    "        m = batch_in['m']\n",
    "\n",
    "        # Outputs (from batch)\n",
    "        q = batch_out['q']\n",
    "        v = batch_out['v']\n",
    "\n",
    "        # Outputs (from model)\n",
    "        model_out = model.predict_on_batch([t, q0, v0, m])\n",
    "        q_out, v_out = model_out\n",
    "       \n",
    "        break\n",
    "\n",
    "# Convert to loss_hist to numpy array\n",
    "loss_hist = np.array(loss_hist)"
   ]
  },
  {
   "cell_type": "code",
   "execution_count": null,
   "metadata": {},
   "outputs": [],
   "source": [
    "# Verify error\n",
    "model.test_on_batch([t, q0, v0, m], [q, v])"
   ]
  },
  {
   "cell_type": "code",
   "execution_count": null,
   "metadata": {},
   "outputs": [],
   "source": [
    "# Run model in numpy mode\n",
    "q_np, v_np = model([t, q0, v0, m])"
   ]
  },
  {
   "cell_type": "code",
   "execution_count": null,
   "metadata": {},
   "outputs": [],
   "source": [
    "idx = np.where(np.isnan(np.mean(q_out, axis=(1,2,3))))[0][0]\n",
    "idx"
   ]
  },
  {
   "cell_type": "code",
   "execution_count": null,
   "metadata": {},
   "outputs": [],
   "source": [
    "q_out[idx][0]"
   ]
  },
  {
   "cell_type": "code",
   "execution_count": null,
   "metadata": {},
   "outputs": [],
   "source": [
    "q_out[idx+1][0]"
   ]
  },
  {
   "cell_type": "code",
   "execution_count": null,
   "metadata": {},
   "outputs": [],
   "source": [
    "q_np[idx][0]"
   ]
  },
  {
   "cell_type": "code",
   "execution_count": null,
   "metadata": {},
   "outputs": [],
   "source": [
    "# Difference between numpy and regular mode usually very small\n",
    "diff = q_out[idx+1] - q_np[idx+1]\n",
    "np.mean(np.abs(diff_1))"
   ]
  },
  {
   "cell_type": "code",
   "execution_count": null,
   "metadata": {},
   "outputs": [],
   "source": [
    "q0[idx]"
   ]
  },
  {
   "cell_type": "code",
   "execution_count": null,
   "metadata": {},
   "outputs": [],
   "source": [
    "v0[idx]"
   ]
  },
  {
   "cell_type": "code",
   "execution_count": null,
   "metadata": {},
   "outputs": [],
   "source": [
    "qj0, vj0, mu0 = CartesianToJacobi()([m, q0, v0])"
   ]
  },
  {
   "cell_type": "code",
   "execution_count": null,
   "metadata": {},
   "outputs": [],
   "source": [
    "qj0[idx]"
   ]
  },
  {
   "cell_type": "code",
   "execution_count": null,
   "metadata": {},
   "outputs": [],
   "source": [
    "vj0[idx]"
   ]
  },
  {
   "cell_type": "code",
   "execution_count": null,
   "metadata": {},
   "outputs": [],
   "source": [
    "num_particles = 3\n",
    "space_dims = 3\n",
    "\n",
    "# Extract Jacobi coordinates of p1 and p2\n",
    "qj0_1 = qj0[:, 1, :]\n",
    "vj0_1 = vj0[:, 1, :]\n",
    "qj0_2 = qj0[:, 2, :]\n",
    "vj0_2 = vj0[:, 2, :]\n",
    "\n",
    "# Extract gravitational field strength for orbital element conversion of p1 and p2\n",
    "mu0_1 = mu0[:, 1:2]\n",
    "mu0_2 = mu0[:, 2:3]\n",
    "\n",
    "# Manually set the shapes to work around documented bug on slices losing shape info\n",
    "jacobi_shape = (batch_size, space_dims)\n",
    "qj0_1.set_shape(jacobi_shape)\n",
    "qj0_2.set_shape(jacobi_shape)\n",
    "vj0_1.set_shape(jacobi_shape)\n",
    "vj0_1.set_shape(jacobi_shape)\n",
    "mu_shape = (batch_size, 1)\n",
    "mu0_1.set_shape(mu_shape)\n",
    "mu0_2.set_shape(mu_shape)"
   ]
  },
  {
   "cell_type": "code",
   "execution_count": null,
   "metadata": {},
   "outputs": [],
   "source": [
    "# Tuple of inputs for the model converting from configuration to orbital elements\n",
    "cfg_1 = (qj0_1, vj0_1, mu0_1)\n",
    "cfg_2 = (qj0_2, vj0_2, mu0_2)\n",
    "\n",
    "# Model mapping cartesian coordinates to orbital elements\n",
    "model_c2e = make_model_cfg_to_elt()\n",
    "\n",
    "# Extract the orbital elements of the initial conditions\n",
    "a1_0, e1_0, inc1_0, Omega1_0, omega1_0, f1_0, M1_0, N1_0 = model_c2e(cfg_1)\n",
    "a2_0, e2_0, inc2_0, Omega2_0, omega2_0, f2_0, M2_0, N2_0 = model_c2e(cfg_2)"
   ]
  },
  {
   "cell_type": "code",
   "execution_count": null,
   "metadata": {},
   "outputs": [],
   "source": [
    "print(f'Initial Orbital Elements - Body 1:')\n",
    "print(f'a    ={a1_0[idx][0]:10f}, e    ={e1_0[idx][0]:10f}, inc  ={inc1_0[idx][0]:10f}')\n",
    "print(f'Omega={Omega1_0[idx][0]:10f}, omega={omega1_0[idx][0]:10f}, f    ={f1_0[idx][0]:10f}')"
   ]
  },
  {
   "cell_type": "code",
   "execution_count": null,
   "metadata": {},
   "outputs": [],
   "source": [
    "print(f'Initial Orbital Elements - Body 2:')\n",
    "print(f'a    ={a2_0[idx][0]:10f}, e    ={e2_0[idx][0]:10f}, inc  ={inc2_0[idx][0]:10f}')\n",
    "print(f'Omega={Omega2_0[idx][0]:10f}, omega={omega2_0[idx][0]:10f}, f    ={f2_0[idx][0]:10f}')"
   ]
  },
  {
   "cell_type": "markdown",
   "metadata": {},
   "source": [
    "### Review Original Input Data as Orbital Elements"
   ]
  },
  {
   "cell_type": "code",
   "execution_count": null,
   "metadata": {},
   "outputs": [],
   "source": [
    "vt_split = 0.20\n",
    "m_min = 1.0E-7 \n",
    "m_max = 2.0E-3 \n",
    "a_min = 0.50\n",
    "a_max = 32.0\n",
    "e_max = 0.08\n",
    "inc_max = 0.04 \n",
    "seed=42\n",
    "\n",
    "data = load_data_g3b(n_traj=n_traj, vt_split=vt_split, n_years=n_years, sample_freq=sample_freq, \n",
    "                     m_min=m_min, m_max=m_max, a_min=a_min, a_max=a_max, e_max=e_max, inc_max=inc_max,\n",
    "                     seed=seed)"
   ]
  },
  {
   "cell_type": "code",
   "execution_count": null,
   "metadata": {},
   "outputs": [],
   "source": [
    "inputs_trn, outputs_trn, _3, _4, _5, _6 = data"
   ]
  },
  {
   "cell_type": "code",
   "execution_count": null,
   "metadata": {},
   "outputs": [],
   "source": [
    "inputs_trn.keys()"
   ]
  },
  {
   "cell_type": "code",
   "execution_count": null,
   "metadata": {},
   "outputs": [],
   "source": [
    "outputs_trn.keys()"
   ]
  },
  {
   "cell_type": "code",
   "execution_count": null,
   "metadata": {},
   "outputs": [],
   "source": [
    "i=23"
   ]
  },
  {
   "cell_type": "code",
   "execution_count": null,
   "metadata": {},
   "outputs": [],
   "source": [
    "inputs_trn['q0'][i]"
   ]
  },
  {
   "cell_type": "code",
   "execution_count": null,
   "metadata": {},
   "outputs": [],
   "source": [
    "outputs_trn['orb_a'].shape"
   ]
  },
  {
   "cell_type": "code",
   "execution_count": null,
   "metadata": {},
   "outputs": [],
   "source": [
    "outputs_trn['orb_a'][0:10, 0, :]"
   ]
  },
  {
   "cell_type": "code",
   "execution_count": null,
   "metadata": {},
   "outputs": [],
   "source": [
    "inputs_trn['q0'][0:10][0]"
   ]
  },
  {
   "cell_type": "code",
   "execution_count": null,
   "metadata": {},
   "outputs": [],
   "source": []
  }
 ],
 "metadata": {
  "kernelspec": {
   "display_name": "Python [conda env:nbody]",
   "language": "python",
   "name": "conda-env-nbody-py"
  },
  "language_info": {
   "codemirror_mode": {
    "name": "ipython",
    "version": 3
   },
   "file_extension": ".py",
   "mimetype": "text/x-python",
   "name": "python",
   "nbconvert_exporter": "python",
   "pygments_lexer": "ipython3",
   "version": "3.7.3"
  }
 },
 "nbformat": 4,
 "nbformat_minor": 2
}
