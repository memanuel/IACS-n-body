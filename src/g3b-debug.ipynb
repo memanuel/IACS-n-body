{
 "cells": [
  {
   "cell_type": "code",
   "execution_count": 1,
   "metadata": {},
   "outputs": [],
   "source": [
    "# Library imports\n",
    "import tensorflow as tf\n",
    "import rebound\n",
    "import numpy as np\n",
    "import datetime\n",
    "import matplotlib.pyplot as plt\n",
    "\n",
    "# Aliases\n",
    "keras = tf.keras"
   ]
  },
  {
   "cell_type": "code",
   "execution_count": 2,
   "metadata": {},
   "outputs": [],
   "source": [
    "# Local imports\n",
    "from utils import load_vartbl, save_vartbl, plot_style\n",
    "from tf_utils import gpu_grow_memory, TimeHistory\n",
    "from tf_utils import plot_loss_hist, EpochLoss, TimeHistory\n",
    "from tf_utils import Identity\n",
    "\n",
    "from orbital_element import OrbitalElementToConfig, ConfigToOrbitalElement, MeanToTrueAnomaly, G_\n",
    "from orbital_element import make_model_elt_to_cfg, make_model_cfg_to_elt\n",
    "\n",
    "from jacobi import CartesianToJacobi, JacobiToCartesian\n",
    "\n",
    "from g3b_data import make_traj_g3b, make_data_g3b, make_datasets_g3b\n",
    "from g3b_data import make_filename_g3b, load_data_g3b\n",
    "from g3b_data import make_datasets_solar, make_datasets_hard\n",
    "from g3b_plot import plot_orbit_q, plot_orbit_v, plot_orbit_a, plot_orbit_energy, plot_orbit_element\n",
    "from g3b import KineticEnergy_G3B, PotentialEnergy_G3B, Momentum_G3B, AngularMomentum_G3B\n",
    "from g3b import VectorError, EnergyError\n",
    "from g3b import Motion_G3B, make_physics_model_g3b\n",
    "from g3b import compile_and_fit\n",
    "from g3b_model_math import make_position_model_g3b_math, make_model_g3b_math\n",
    "# from g3b_model_nn import make_position_model_g3b_nn, make_model_g3b_nn"
   ]
  },
  {
   "cell_type": "code",
   "execution_count": 3,
   "metadata": {},
   "outputs": [],
   "source": [
    "# Grow GPU memory (must be first operation in TF)\n",
    "gpu_grow_memory()"
   ]
  },
  {
   "cell_type": "markdown",
   "metadata": {},
   "source": [
    "### Load Data and Build Position Model"
   ]
  },
  {
   "cell_type": "code",
   "execution_count": 4,
   "metadata": {},
   "outputs": [],
   "source": [
    "# Inputs for make_datasets_g3b\n",
    "vt_split = 0.20\n",
    "n_years = 100\n",
    "sample_freq = 10\n",
    "traj_size = n_years * sample_freq + 1\n",
    "\n",
    "# The batch size\n",
    "batch_size = 64"
   ]
  },
  {
   "cell_type": "code",
   "execution_count": 5,
   "metadata": {},
   "outputs": [],
   "source": [
    "m = np.array([1.0, 1.0E-6, 1.0E-3])\n",
    "a = np.array([1.00000, 5.2029])\n",
    "e = np.array([0.0167, 0.0484])\n",
    "inc = np.radians([0.00, 1.3044])\n",
    "Omega = np.radians([0.00, 100.47])\n",
    "omega = np.radians([102.94, 14.73]) - Omega\n",
    "f = np.radians([100.46, 34.40]) - Omega\n",
    "n_years = 100\n",
    "sample_freq = 10\n",
    "\n",
    "inputs_traj, outputs_traj = make_traj_g3b(m=m, a=a, e=e, inc=inc, Omega=Omega, omega=omega, f=f, \n",
    "                                          n_years=n_years, sample_freq=sample_freq)"
   ]
  },
  {
   "cell_type": "code",
   "execution_count": 6,
   "metadata": {},
   "outputs": [
    {
     "data": {
      "text/plain": [
       "array([[-3.1754794e-03,  3.9717490e-03,  5.4689841e-05],\n",
       "       [-9.2346436e-01, -3.9427280e-01,  5.4689841e-05],\n",
       "       [ 3.1764028e+00, -3.9713547e+00, -5.4689895e-02]], dtype=float32)"
      ]
     },
     "execution_count": 6,
     "metadata": {},
     "output_type": "execute_result"
    }
   ],
   "source": [
    "inputs_traj['q0']"
   ]
  },
  {
   "cell_type": "code",
   "execution_count": 7,
   "metadata": {},
   "outputs": [
    {
     "data": {
      "text/plain": [
       "array([[-3.1754794e-03,  3.9717490e-03,  5.4689841e-05],\n",
       "       [-9.2346436e-01, -3.9427280e-01,  5.4689841e-05],\n",
       "       [ 3.1764028e+00, -3.9713547e+00, -5.4689895e-02]], dtype=float32)"
      ]
     },
     "execution_count": 7,
     "metadata": {},
     "output_type": "execute_result"
    }
   ],
   "source": [
    "outputs_traj['q'][0]"
   ]
  },
  {
   "cell_type": "code",
   "execution_count": 8,
   "metadata": {},
   "outputs": [
    {
     "data": {
      "text/plain": [
       "array([[1.       , 5.2029   ],\n",
       "       [0.999998 , 5.2029   ],\n",
       "       [1.0000111, 5.2029   ]], dtype=float32)"
      ]
     },
     "execution_count": 8,
     "metadata": {},
     "output_type": "execute_result"
    }
   ],
   "source": [
    "outputs_traj['orb_a'][0:3]"
   ]
  },
  {
   "cell_type": "code",
   "execution_count": 11,
   "metadata": {},
   "outputs": [],
   "source": [
    "# outputs_traj['orb_e'][0:3]"
   ]
  },
  {
   "cell_type": "code",
   "execution_count": 12,
   "metadata": {},
   "outputs": [
    {
     "data": {
      "text/plain": [
       "array([[-4.5298276, -1.153139 ],\n",
       "       [ 2.37244  , -1.0977441],\n",
       "       [-3.3007643, -1.0420896]], dtype=float32)"
      ]
     },
     "execution_count": 12,
     "metadata": {},
     "output_type": "execute_result"
    }
   ],
   "source": [
    "outputs_traj['orb_f'][0:3]"
   ]
  },
  {
   "cell_type": "code",
   "execution_count": 13,
   "metadata": {},
   "outputs": [
    {
     "name": "stdout",
     "output_type": "stream",
     "text": [
      "Loaded data from ../data/g3b/2509250945.pickle.\n"
     ]
    }
   ],
   "source": [
    "# Create a tiny data set with 10,000 solar type orbits\n",
    "n_traj = 100\n",
    "\n",
    "ds_small_trn, ds_small_val, ds_small_tst = make_datasets_solar(n_traj=n_traj, vt_split=vt_split, \n",
    "                                                               n_years=n_years, sample_freq=sample_freq)"
   ]
  },
  {
   "cell_type": "code",
   "execution_count": 14,
   "metadata": {},
   "outputs": [],
   "source": [
    "# # Create a medium data set with 10,000 solar type orbits\n",
    "# n_traj = 10000\n",
    "\n",
    "# ds_small_trn, ds_small_val, ds_small_tst = make_datasets_solar(n_traj=n_traj, vt_split=vt_split, \n",
    "#                                                                n_years=n_years, sample_freq=sample_freq)"
   ]
  },
  {
   "cell_type": "code",
   "execution_count": 15,
   "metadata": {},
   "outputs": [
    {
     "name": "stdout",
     "output_type": "stream",
     "text": [
      "Input field names:  ['t', 'q0', 'v0', 'm']\n",
      "Output field names: ['q', 'v', 'a', 'orb_a', 'orb_e', 'orb_inc', 'orb_Omega', 'orb_omega', 'orb_f', 'q0_rec', 'v0_rec', 'T', 'U', 'H', 'P', 'L']\n",
      "\n",
      "Example batch sizes:\n",
      "t  = (64, 1001)\n",
      "q0 = (64, 3, 3)\n",
      "v0 = (64, 3, 3)\n",
      "m  = (64, 3)\n",
      "q  = (64, 1001, 3, 3)\n",
      "v  = (64, 1001, 3, 3)\n",
      "a  = (64, 1001, 3, 3)\n",
      "H  = (64, 1001)\n",
      "P  = (64, 1001, 3)\n",
      "L  = (64, 1001, 3)\n"
     ]
    }
   ],
   "source": [
    "# Example batch\n",
    "batch_in, batch_out = list(ds_small_trn.take(1))[0]\n",
    "print('Input field names: ', list(batch_in.keys()))\n",
    "print('Output field names:', list(batch_out.keys()))\n",
    "\n",
    "t = batch_in['t']\n",
    "q0 = batch_in['q0']\n",
    "v0 = batch_in['v0']\n",
    "m = batch_in['m']\n",
    "\n",
    "q = batch_out['q']\n",
    "v = batch_out['v']\n",
    "a = batch_out['a']\n",
    "q0_rec = batch_out['q0_rec']\n",
    "v0_rec = batch_out['v0_rec']\n",
    "H = batch_out['H']\n",
    "P = batch_out['P']\n",
    "L = batch_out['L']\n",
    "\n",
    "print(f'\\nExample batch sizes:')\n",
    "print(f't  = {t.shape}')\n",
    "print(f'q0 = {q0.shape}')\n",
    "print(f'v0 = {v0.shape}')\n",
    "print(f'm  = {m.shape}')\n",
    "\n",
    "print(f'q  = {q.shape}')\n",
    "print(f'v  = {v.shape}')\n",
    "print(f'a  = {a.shape}')\n",
    "# print(f'q0_rec = {q0_rec.shape}')\n",
    "# print(f'v0_rec = {v0_rec.shape}')\n",
    "print(f'H  = {H.shape}')\n",
    "print(f'P  = {P.shape}')\n",
    "print(f'L  = {L.shape}')"
   ]
  },
  {
   "cell_type": "code",
   "execution_count": 16,
   "metadata": {},
   "outputs": [],
   "source": [
    "model = make_position_model_g3b_math(traj_size=traj_size, batch_size=batch_size)"
   ]
  },
  {
   "cell_type": "code",
   "execution_count": 17,
   "metadata": {},
   "outputs": [],
   "source": [
    "optimizer = keras.optimizers.Adam(learning_rate=1.0E-3)\n",
    "\n",
    "loss = {'q': VectorError(name='q_loss'),\n",
    "        'v': VectorError(name='v_loss'),\n",
    "       }\n",
    "\n",
    "metrics = None\n",
    "\n",
    "loss_weights = {'q': 1.0,\n",
    "                'v': 1.0}"
   ]
  },
  {
   "cell_type": "code",
   "execution_count": 18,
   "metadata": {},
   "outputs": [],
   "source": [
    "# Compile the  model\n",
    "model.compile(optimizer=optimizer, loss=loss, metrics=metrics, loss_weights=loss_weights)"
   ]
  },
  {
   "cell_type": "markdown",
   "metadata": {},
   "source": [
    "### Find batch and row with NAN Output"
   ]
  },
  {
   "cell_type": "code",
   "execution_count": null,
   "metadata": {},
   "outputs": [],
   "source": [
    "loss_hist = []\n",
    "for i, ds_i in enumerate(ds_small_trn):\n",
    "    batch_in, batch_out = ds_i\n",
    "    loss_i = model.test_on_batch(batch_in, batch_out)\n",
    "    loss_hist.append(loss_i)\n",
    "    print(f'Loss on batch {i} = {loss_i[0]:5.2e}')\n",
    "    if np.isnan(loss_i[0]):\n",
    "        print(f'Loss at i={i} is NAN.  Saving inputs for debugging.')\n",
    "        # Inputs (from batch)\n",
    "        t, q0, v0, m = batch_in\n",
    "        t = batch_in['t']\n",
    "        q0 = batch_in['q0']\n",
    "        v0 = batch_in['v0']\n",
    "        m = batch_in['m']\n",
    "\n",
    "        # Outputs (from batch)\n",
    "        q = batch_out['q']\n",
    "        v = batch_out['v']\n",
    "\n",
    "        # Outputs (from model)\n",
    "        model_out = model.predict_on_batch([t, q0, v0, m])\n",
    "        q_out, v_out = model_out\n",
    "       \n",
    "        break\n",
    "\n",
    "# Convert to loss_hist to numpy array\n",
    "loss_hist = np.array(loss_hist)"
   ]
  },
  {
   "cell_type": "code",
   "execution_count": null,
   "metadata": {},
   "outputs": [],
   "source": [
    "# Verify error\n",
    "model.test_on_batch([t, q0, v0, m], [q, v])"
   ]
  },
  {
   "cell_type": "code",
   "execution_count": null,
   "metadata": {},
   "outputs": [],
   "source": [
    "# Run model in numpy mode\n",
    "q_np, v_np = model([t, q0, v0, m])"
   ]
  },
  {
   "cell_type": "code",
   "execution_count": null,
   "metadata": {},
   "outputs": [],
   "source": [
    "idx = np.where(np.isnan(np.mean(q_out, axis=(1,2,3))))[0][0]\n",
    "idx"
   ]
  },
  {
   "cell_type": "code",
   "execution_count": null,
   "metadata": {},
   "outputs": [],
   "source": [
    "q_out[idx][0]"
   ]
  },
  {
   "cell_type": "code",
   "execution_count": null,
   "metadata": {},
   "outputs": [],
   "source": [
    "q_out[idx+1][0]"
   ]
  },
  {
   "cell_type": "code",
   "execution_count": null,
   "metadata": {},
   "outputs": [],
   "source": [
    "q_np[idx][0]"
   ]
  },
  {
   "cell_type": "code",
   "execution_count": null,
   "metadata": {},
   "outputs": [],
   "source": [
    "# Difference between numpy and regular mode usually very small\n",
    "diff = q_out[idx+1] - q_np[idx+1]\n",
    "np.mean(np.abs(diff_1))"
   ]
  },
  {
   "cell_type": "code",
   "execution_count": null,
   "metadata": {},
   "outputs": [],
   "source": [
    "q0[idx]"
   ]
  },
  {
   "cell_type": "code",
   "execution_count": null,
   "metadata": {},
   "outputs": [],
   "source": [
    "v0[idx]"
   ]
  },
  {
   "cell_type": "code",
   "execution_count": null,
   "metadata": {},
   "outputs": [],
   "source": [
    "qj0, vj0, mu0 = CartesianToJacobi()([m, q0, v0])"
   ]
  },
  {
   "cell_type": "code",
   "execution_count": null,
   "metadata": {},
   "outputs": [],
   "source": [
    "qj0[idx]"
   ]
  },
  {
   "cell_type": "code",
   "execution_count": null,
   "metadata": {},
   "outputs": [],
   "source": [
    "vj0[idx]"
   ]
  },
  {
   "cell_type": "code",
   "execution_count": null,
   "metadata": {},
   "outputs": [],
   "source": [
    "num_particles = 3\n",
    "space_dims = 3\n",
    "\n",
    "# Extract Jacobi coordinates of p1 and p2\n",
    "qj0_1 = qj0[:, 1, :]\n",
    "vj0_1 = vj0[:, 1, :]\n",
    "qj0_2 = qj0[:, 2, :]\n",
    "vj0_2 = vj0[:, 2, :]\n",
    "\n",
    "# Extract gravitational field strength for orbital element conversion of p1 and p2\n",
    "mu0_1 = mu0[:, 1:2]\n",
    "mu0_2 = mu0[:, 2:3]\n",
    "\n",
    "# Manually set the shapes to work around documented bug on slices losing shape info\n",
    "jacobi_shape = (batch_size, space_dims)\n",
    "qj0_1.set_shape(jacobi_shape)\n",
    "qj0_2.set_shape(jacobi_shape)\n",
    "vj0_1.set_shape(jacobi_shape)\n",
    "vj0_1.set_shape(jacobi_shape)\n",
    "mu_shape = (batch_size, 1)\n",
    "mu0_1.set_shape(mu_shape)\n",
    "mu0_2.set_shape(mu_shape)"
   ]
  },
  {
   "cell_type": "code",
   "execution_count": null,
   "metadata": {},
   "outputs": [],
   "source": [
    "# Tuple of inputs for the model converting from configuration to orbital elements\n",
    "cfg_1 = (qj0_1, vj0_1, mu0_1)\n",
    "cfg_2 = (qj0_2, vj0_2, mu0_2)\n",
    "\n",
    "# Model mapping cartesian coordinates to orbital elements\n",
    "model_c2e = make_model_cfg_to_elt()\n",
    "\n",
    "# Extract the orbital elements of the initial conditions\n",
    "a1_0, e1_0, inc1_0, Omega1_0, omega1_0, f1_0, M1_0, N1_0 = model_c2e(cfg_1)\n",
    "a2_0, e2_0, inc2_0, Omega2_0, omega2_0, f2_0, M2_0, N2_0 = model_c2e(cfg_2)"
   ]
  },
  {
   "cell_type": "code",
   "execution_count": null,
   "metadata": {},
   "outputs": [],
   "source": [
    "print(f'Initial Orbital Elements - Body 1:')\n",
    "print(f'a    ={a1_0[idx][0]:10f}, e    ={e1_0[idx][0]:10f}, inc  ={inc1_0[idx][0]:10f}')\n",
    "print(f'Omega={Omega1_0[idx][0]:10f}, omega={omega1_0[idx][0]:10f}, f    ={f1_0[idx][0]:10f}')"
   ]
  },
  {
   "cell_type": "code",
   "execution_count": null,
   "metadata": {},
   "outputs": [],
   "source": [
    "print(f'Initial Orbital Elements - Body 2:')\n",
    "print(f'a    ={a2_0[idx][0]:10f}, e    ={e2_0[idx][0]:10f}, inc  ={inc2_0[idx][0]:10f}')\n",
    "print(f'Omega={Omega2_0[idx][0]:10f}, omega={omega2_0[idx][0]:10f}, f    ={f2_0[idx][0]:10f}')"
   ]
  },
  {
   "cell_type": "markdown",
   "metadata": {},
   "source": [
    "### Review Original Input Data as Orbital Elements"
   ]
  },
  {
   "cell_type": "code",
   "execution_count": 19,
   "metadata": {},
   "outputs": [
    {
     "name": "stdout",
     "output_type": "stream",
     "text": [
      "Loaded data from ../data/g3b/2509250945.pickle.\n"
     ]
    }
   ],
   "source": [
    "vt_split = 0.20\n",
    "m_min = 1.0E-7 \n",
    "m_max = 2.0E-3 \n",
    "a_min = 0.50\n",
    "a_max = 32.0\n",
    "e_max = 0.08\n",
    "inc_max = 0.04 \n",
    "seed=42\n",
    "\n",
    "data = load_data_g3b(n_traj=n_traj, vt_split=vt_split, n_years=n_years, sample_freq=sample_freq, \n",
    "                     m_min=m_min, m_max=m_max, a_min=a_min, a_max=a_max, e_max=e_max, inc_max=inc_max,\n",
    "                     seed=seed)"
   ]
  },
  {
   "cell_type": "code",
   "execution_count": 20,
   "metadata": {},
   "outputs": [],
   "source": [
    "inputs_trn, outputs_trn, _3, _4, _5, _6 = data"
   ]
  },
  {
   "cell_type": "code",
   "execution_count": 21,
   "metadata": {},
   "outputs": [
    {
     "data": {
      "text/plain": [
       "dict_keys(['t', 'q0', 'v0', 'm'])"
      ]
     },
     "execution_count": 21,
     "metadata": {},
     "output_type": "execute_result"
    }
   ],
   "source": [
    "inputs_trn.keys()"
   ]
  },
  {
   "cell_type": "code",
   "execution_count": 22,
   "metadata": {},
   "outputs": [
    {
     "data": {
      "text/plain": [
       "dict_keys(['q', 'v', 'a', 'orb_a', 'orb_e', 'orb_inc', 'orb_Omega', 'orb_omega', 'orb_f', 'q0_rec', 'v0_rec', 'T', 'U', 'H', 'P', 'L'])"
      ]
     },
     "execution_count": 22,
     "metadata": {},
     "output_type": "execute_result"
    }
   ],
   "source": [
    "outputs_trn.keys()"
   ]
  },
  {
   "cell_type": "code",
   "execution_count": 24,
   "metadata": {},
   "outputs": [],
   "source": [
    "i=23"
   ]
  },
  {
   "cell_type": "code",
   "execution_count": 25,
   "metadata": {},
   "outputs": [
    {
     "data": {
      "text/plain": [
       "array([[-4.3338328e-05,  2.0454632e-05, -1.0817035e-06],\n",
       "       [ 1.3953951e+01, -4.5750203e+00,  2.6270902e-01],\n",
       "       [-3.0916464e+01, -1.0864068e+01,  3.1162494e-01]], dtype=float32)"
      ]
     },
     "execution_count": 25,
     "metadata": {},
     "output_type": "execute_result"
    }
   ],
   "source": [
    "inputs_trn['q0'][i]"
   ]
  },
  {
   "cell_type": "code",
   "execution_count": 26,
   "metadata": {},
   "outputs": [
    {
     "data": {
      "text/plain": [
       "(100, 1001, 2)"
      ]
     },
     "execution_count": 26,
     "metadata": {},
     "output_type": "execute_result"
    }
   ],
   "source": [
    "outputs_trn['orb_a'].shape"
   ]
  },
  {
   "cell_type": "code",
   "execution_count": 29,
   "metadata": {},
   "outputs": [
    {
     "data": {
      "text/plain": [
       "array([[ 3.150409  , 20.723997  ],\n",
       "       [ 5.5913043 , 28.804457  ],\n",
       "       [ 0.7897071 , 19.602516  ],\n",
       "       [ 3.6963537 , 21.400305  ],\n",
       "       [ 0.65943986,  5.5654535 ],\n",
       "       [17.785114  , 22.294699  ],\n",
       "       [ 7.564483  , 21.03678   ],\n",
       "       [ 7.973346  , 22.933645  ],\n",
       "       [10.750091  , 24.014479  ],\n",
       "       [20.963436  , 27.250538  ]], dtype=float32)"
      ]
     },
     "execution_count": 29,
     "metadata": {},
     "output_type": "execute_result"
    }
   ],
   "source": [
    "outputs_trn['orb_a'][0:10, 0, :]"
   ]
  },
  {
   "cell_type": "code",
   "execution_count": null,
   "metadata": {},
   "outputs": [],
   "source": [
    "inputs_trn['q0'][0:10][0]"
   ]
  },
  {
   "cell_type": "code",
   "execution_count": null,
   "metadata": {},
   "outputs": [],
   "source": []
  }
 ],
 "metadata": {
  "kernelspec": {
   "display_name": "Python [conda env:nbody]",
   "language": "python",
   "name": "conda-env-nbody-py"
  },
  "language_info": {
   "codemirror_mode": {
    "name": "ipython",
    "version": 3
   },
   "file_extension": ".py",
   "mimetype": "text/x-python",
   "name": "python",
   "nbconvert_exporter": "python",
   "pygments_lexer": "ipython3",
   "version": "3.7.3"
  }
 },
 "nbformat": 4,
 "nbformat_minor": 2
}
