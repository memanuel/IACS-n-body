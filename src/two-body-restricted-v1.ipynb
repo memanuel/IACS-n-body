{
 "cells": [
  {
   "cell_type": "markdown",
   "metadata": {},
   "source": [
    "# Base Case: Circular Orbit of Radius 1 AU, Period 1 Year\n",
    "\n",
    "Create synthetic data for the simplest base case: a circular orbit of radius 1.\n",
    "\n",
    "Can think of this as approximating the earth: radius = 1 AU, period = 1 year, mass of sun $m_0$ = 1 solar mass\n",
    "\n",
    "\\begin{align}\n",
    "x(t) &= \\cos(\\omega t) \\\\\n",
    "y(t) &= \\sin(\\omega t) \\\\\n",
    "\\omega &= 2 \\pi\n",
    "\\end{align}\n",
    "\n",
    "Taking two derivatives\n",
    "\\begin{align}\n",
    "\\ddot{x}(t) = -\\omega^2 x(t)\\\\\n",
    "\\ddot{y}(t) = -\\omega^2 y(t)\n",
    "\\end{align}\n",
    "\n",
    "Equating the acceleration $\\omega^2 r$ to $G \\cdot m_0 / r^2$ for $r=1$ in the case of earth, we can see that in these units the gravitational constant $G$ is\n",
    "$$G = 4 \\pi^2$$\n",
    "\n",
    "Further we can see that for a planet in a circular orbit with radius $r$, the angular frequency will satisfy\n",
    "$$ \\omega^2 = G m_0 / r^3$$\n",
    "This is a special case of Kepler's third law."
   ]
  },
  {
   "cell_type": "code",
   "execution_count": 1,
   "metadata": {},
   "outputs": [],
   "source": [
    "# Library imports\n",
    "import tensorflow as tf\n",
    "import numpy as np\n",
    "import matplotlib.pyplot as plt\n",
    "import time\n",
    "\n",
    "# Aliases\n",
    "keras = tf.keras"
   ]
  },
  {
   "cell_type": "code",
   "execution_count": 2,
   "metadata": {},
   "outputs": [],
   "source": [
    "# Local imports\n",
    "from utils import load_vartbl, save_vartbl, plot_style\n",
    "from tf_utils import gpu_grow_memory, TimeHistory\n",
    "from tf_utils import Identity\n",
    "\n",
    "from r2b_data import make_traj_r2bc , make_train_r2bc\n",
    "from r2b_data import plot_orbit_q, plot_orbit_v, plot_orbit_a, plot_orbit_energy\n",
    "from r2b_data import make_datasets_earth, make_datasets_solar, make_datasets_r2bc\n",
    "\n",
    "from r2b import KineticEnergy_R2B, PotentialEnergy_R2B\n",
    "from r2b import AngularMomentum0_R2B, AngularMomentum_R2B\n",
    "from r2b import ConfigToPolar2D\n",
    "from r2b import Motion_R2B, Position_R2BC_Math\n",
    "\n",
    "from r2bc_model import make_model_r2bc_math, make_model_r2b"
   ]
  },
  {
   "cell_type": "code",
   "execution_count": 3,
   "metadata": {},
   "outputs": [],
   "source": [
    "# Grow GPU memory (must be first operation in TF)\n",
    "gpu_grow_memory()"
   ]
  },
  {
   "cell_type": "code",
   "execution_count": 4,
   "metadata": {},
   "outputs": [],
   "source": [
    "# Create distribution strategy\n",
    "# This isn't working properly for training in Michael-PC (Windows 10)\n",
    "# but does work for evaluating (with no real benefit though)\n",
    "# strat = tf.distribute.MirroredStrategy(['/GPU:0', '/GPU:1'])\n",
    "\n",
    "# Plot style \n",
    "plot_style()"
   ]
  },
  {
   "cell_type": "code",
   "execution_count": 5,
   "metadata": {},
   "outputs": [],
   "source": [
    "# Lightweight serialization\n",
    "fname = '../pickle/r2bc.pickle'\n",
    "vartbl = load_vartbl(fname)"
   ]
  },
  {
   "cell_type": "code",
   "execution_count": 6,
   "metadata": {},
   "outputs": [],
   "source": [
    "# One trajectory of earth for plotting\n",
    "inputs_earth, outputs_earth = make_traj_r2bc(r0=1.0, theta0=0.0, n_years=2)\n",
    "\n",
    "# Combined dict\n",
    "data_earth = {**inputs_earth, **outputs_earth}"
   ]
  },
  {
   "cell_type": "code",
   "execution_count": 7,
   "metadata": {},
   "outputs": [],
   "source": [
    "# fig, ax = plot_orbit_q(data_earth)"
   ]
  },
  {
   "cell_type": "code",
   "execution_count": 8,
   "metadata": {},
   "outputs": [],
   "source": [
    "# fig, ax = plot_orbit_v(data_earth)"
   ]
  },
  {
   "cell_type": "code",
   "execution_count": 9,
   "metadata": {},
   "outputs": [],
   "source": [
    "# fig, ax = plot_orbit_a(data_earth)"
   ]
  },
  {
   "cell_type": "code",
   "execution_count": 10,
   "metadata": {},
   "outputs": [],
   "source": [
    "# fig, ax = plot_orbit_energy(data_earth)"
   ]
  },
  {
   "cell_type": "code",
   "execution_count": 11,
   "metadata": {},
   "outputs": [],
   "source": [
    "# Create DataSet objects for toy size problem - earth orbits only (a=1, e=0)\n",
    "ds_earth_trn, ds_earth_val, ds_earth_tst = make_datasets_earth(n_traj=1000, vt_split=0.20)\n",
    "\n",
    "# Create DataSet objects for solar system type orbits (a between 0.25 and 32.0)\n",
    "ds_solar_trn, ds_solar_val, ds_solar_tst = make_datasets_solar(n_traj=10000, vt_split=0.20)\n",
    "\n",
    "# Create DataSet objects for jupiter orbits only (a=5.2, e=0)\n",
    "ds_jup_trn, ds_jup_val, ds_jup_tst = make_datasets_r2bc(n_traj=1000, vt_split=0.20, \n",
    "                                                        n_years=2, r_min=5.2, r_max=5.2, seed=42, batch_size=64)"
   ]
  },
  {
   "cell_type": "code",
   "execution_count": 12,
   "metadata": {},
   "outputs": [
    {
     "name": "stdout",
     "output_type": "stream",
     "text": [
      "Example batch sizes:\n",
      "t  = (64, 731)\n",
      "q0 = (64, 2)\n",
      "v0 = (64, 2)\n",
      "mu = (64, 1)\n",
      "q  = (64, 731, 2)\n",
      "v  = (64, 731, 2)\n",
      "a  = (64, 731, 2)\n"
     ]
    }
   ],
   "source": [
    "# Example batch\n",
    "batch_in, batch_out = list(ds_earth_val.take(1))[0]\n",
    "# batch_in.keys()\n",
    "# batch_out.keys()\n",
    "\n",
    "t = batch_in['t']\n",
    "q0 = batch_in['q0']\n",
    "v0 = batch_in['v0']\n",
    "mu = batch_in['mu']\n",
    "\n",
    "q = batch_out['q']\n",
    "v = batch_out['v']\n",
    "a = batch_out['a']\n",
    "\n",
    "print(f'Example batch sizes:')\n",
    "print(f't  = {t.shape}')\n",
    "print(f'q0 = {q0.shape}')\n",
    "print(f'v0 = {v0.shape}')\n",
    "print(f'mu = {mu.shape}')\n",
    "\n",
    "print(f'q  = {q.shape}')\n",
    "print(f'v  = {v.shape}')\n",
    "print(f'a  = {a.shape}')"
   ]
  },
  {
   "cell_type": "code",
   "execution_count": 13,
   "metadata": {},
   "outputs": [],
   "source": [
    "batch_size = 64\n",
    "traj_size = 731\n",
    "\n",
    "tf.debugging.assert_shapes({\n",
    "    t: (batch_size, traj_size),\n",
    "    q0: (batch_size, 2),\n",
    "    v0: (batch_size, 2),\n",
    "    mu: (batch_size, 1),\n",
    "    q: (batch_size, traj_size, 2),\n",
    "    v: (batch_size, traj_size, 2),\n",
    "    a: (batch_size, traj_size, 2)\n",
    "})"
   ]
  },
  {
   "cell_type": "code",
   "execution_count": 14,
   "metadata": {},
   "outputs": [],
   "source": [
    "class PotentialEnergy_R2B(keras.layers.Layer):\n",
    "    \"\"\"Compute the potential energy from position q and gravitational constant mu\"\"\"\n",
    "    def call(self, inputs):\n",
    "        # Unpack inputs\n",
    "        q, mu = inputs\n",
    "\n",
    "        # Shape of q is (batch_size, traj_size, 2,)\n",
    "        # Shape of mu is (batch_size, 1)\n",
    "        # batch_size, traj_size = q.shape[0:2]\n",
    "        # tf.debugging.assert_shapes({\n",
    "        #     q: (batch_size, traj_size, 2),\n",
    "        #     mu: (batch_size, 1)\n",
    "        # })\n",
    "        \n",
    "        # Compute the norm of a 2D vector\n",
    "        norm_func = lambda q : tf.norm(q, axis=-1, keepdims=False)\n",
    "\n",
    "        # The distance r\n",
    "        r = keras.layers.Activation(norm_func, name='r')(q)\n",
    "        \n",
    "        # The gravitational potential is -G m0 m1 / r = - mu / r per unit mass m1 in restricted problem\n",
    "        U = tf.negative(tf.divide(mu, r))\n",
    "        \n",
    "        # Shape of U is (batch_size, traj_size)\n",
    "        # tf.debugging.assert_shapes({U: (batch_size, traj_size)})\n",
    "        \n",
    "        return U"
   ]
  },
  {
   "cell_type": "code",
   "execution_count": 15,
   "metadata": {},
   "outputs": [
    {
     "data": {
      "text/plain": [
       "TensorShape([64, 731])"
      ]
     },
     "execution_count": 15,
     "metadata": {},
     "output_type": "execute_result"
    }
   ],
   "source": [
    "T = KineticEnergy_R2B()(v)\n",
    "T.shape"
   ]
  },
  {
   "cell_type": "code",
   "execution_count": 16,
   "metadata": {},
   "outputs": [
    {
     "data": {
      "text/plain": [
       "TensorShape([64, 731])"
      ]
     },
     "execution_count": 16,
     "metadata": {},
     "output_type": "execute_result"
    }
   ],
   "source": [
    "U = PotentialEnergy_R2B()([q, mu])\n",
    "U.shape"
   ]
  },
  {
   "cell_type": "code",
   "execution_count": 17,
   "metadata": {},
   "outputs": [
    {
     "data": {
      "text/plain": [
       "TensorShape([64, 1])"
      ]
     },
     "execution_count": 17,
     "metadata": {},
     "output_type": "execute_result"
    }
   ],
   "source": [
    "L0 = AngularMomentum0_R2B()([q0, v0])\n",
    "L0.shape"
   ]
  },
  {
   "cell_type": "code",
   "execution_count": 18,
   "metadata": {},
   "outputs": [
    {
     "data": {
      "text/plain": [
       "TensorShape([64, 731])"
      ]
     },
     "execution_count": 18,
     "metadata": {},
     "output_type": "execute_result"
    }
   ],
   "source": [
    "L = AngularMomentum_R2B()([q, v])\n",
    "L.shape"
   ]
  },
  {
   "cell_type": "code",
   "execution_count": 19,
   "metadata": {},
   "outputs": [],
   "source": [
    "class Position_Layer_R2BC_Math(keras.layers.Layer):\n",
    "    \"\"\"\n",
    "    Compute orbit positions for the restricted two body circular problem from \n",
    "    the initial polar coordinates (orbital elements) with a deterministic mathematical model.\n",
    "    \"\"\"\n",
    "\n",
    "    def call(self, inputs):\n",
    "        \"\"\"\n",
    "        INPUTS:\n",
    "            inputs: a list of the tensors requred.  inputs = [t, r0, theta0, omega0], where\n",
    "            t: the times to report the orbit; shape (batch_size, traj_size, 1,)\n",
    "            r0: the initial distance; shape (batch_size, 1,)\n",
    "            theta0: the initial angle; shape (batch_size, 1,)\n",
    "            omega0: the angular velocity; shape (batch_size, 1,)\n",
    "        OUTPUTS:\n",
    "            qx: the x position at time t; shape (batch_size, traj_size, 1)\n",
    "            qy: the y position at time t; shape (batch_size, traj_size, 1)\n",
    "        \"\"\"\n",
    "        # Unpack inputs\n",
    "        t, r0, theta0, omega0 = inputs\n",
    "\n",
    "        # Get the trajectory size\n",
    "        traj_size = t.shape[1]\n",
    "        \n",
    "        # Reshape t\n",
    "        # t = keras.layers.Reshape(target_shape=(-1,1), name='t_3d')(t)\n",
    "        \n",
    "        # Repeat r, theta0 and omega to be vectors of shape matching t\n",
    "        r = keras.layers.RepeatVector(n=traj_size, name='r')(r0)\n",
    "        theta0 = keras.layers.RepeatVector(n=traj_size, name='theta0')(theta0)\n",
    "        omega = keras.layers.RepeatVector(n=traj_size, name='omega')(omega0)\n",
    "\n",
    "        # The angle theta at time t\n",
    "        # theta = omega * t + theta0\n",
    "        omega_t = keras.layers.multiply(inputs=[omega, t], name='omega_t')\n",
    "        theta = keras.layers.add(inputs=[omega_t, theta0], name='theta')\n",
    "\n",
    "        # Cosine and sine of theta\n",
    "        cos_theta = keras.layers.Activation(activation=tf.cos, name='cos_theta')(theta)\n",
    "        sin_theta = keras.layers.Activation(activation=tf.sin, name='sin_theta')(theta)\n",
    "\n",
    "        # Compute qx and qy from r, theta\n",
    "        qx = keras.layers.multiply(inputs=[r, cos_theta], name='qx')\n",
    "        qy = keras.layers.multiply(inputs=[r, sin_theta], name='qy')\n",
    "           \n",
    "        return qx, qy"
   ]
  },
  {
   "cell_type": "code",
   "execution_count": 20,
   "metadata": {},
   "outputs": [],
   "source": [
    "class Position_Model_R2BC_Math(keras.Model):\n",
    "    \"\"\"\n",
    "    Compute orbit positions for the restricted two body circular problem from \n",
    "    the initial polar coordinates (orbital elements) with a deterministic mathematical model.\n",
    "    \"\"\"\n",
    "\n",
    "    def call(self, inputs):\n",
    "        \"\"\"\n",
    "        INPUTS:\n",
    "            inputs: a list of the tensors requred.  inputs = [t, r0, theta0, omega0], where\n",
    "            t: the times to report the orbit; shape (batch_size, traj_size, 1,)\n",
    "            r0: the initial distance; shape (batch_size, 1,)\n",
    "            theta0: the initial angle; shape (batch_size, 1,)\n",
    "            omega0: the angular velocity; shape (batch_size, 1,)\n",
    "        OUTPUTS:\n",
    "            qx: the x position at time t; shape (batch_size, traj_size, 1)\n",
    "            qy: the y position at time t; shape (batch_size, traj_size, 1)\n",
    "        \"\"\"\n",
    "        # Unpack inputs\n",
    "        t, r0, theta0, omega0 = inputs\n",
    "\n",
    "        # Get the trajectory size\n",
    "        traj_size = t.shape[1]\n",
    "        \n",
    "        # Reshape t\n",
    "        # t = keras.layers.Reshape(target_shape=(-1,1), name='t_3d')(t)\n",
    "        \n",
    "        # Repeat r, theta0 and omega to be vectors of shape matching t\n",
    "        r = keras.layers.RepeatVector(n=traj_size, name='r')(r0)\n",
    "        theta0 = keras.layers.RepeatVector(n=traj_size, name='theta0')(theta0)\n",
    "        omega = keras.layers.RepeatVector(n=traj_size, name='omega')(omega0)\n",
    "\n",
    "        # The angle theta at time t\n",
    "        # theta = omega * t + theta0\n",
    "        omega_t = keras.layers.multiply(inputs=[omega, t], name='omega_t')\n",
    "        theta = keras.layers.add(inputs=[omega_t, theta0], name='theta')\n",
    "\n",
    "        # Cosine and sine of theta\n",
    "        cos_theta = keras.layers.Activation(activation=tf.cos, name='cos_theta')(theta)\n",
    "        sin_theta = keras.layers.Activation(activation=tf.sin, name='sin_theta')(theta)\n",
    "\n",
    "        # Compute qx and qy from r, theta\n",
    "        qx = keras.layers.multiply(inputs=[r, cos_theta], name='qx')\n",
    "        qy = keras.layers.multiply(inputs=[r, sin_theta], name='qy')\n",
    "           \n",
    "        return qx, qy"
   ]
  },
  {
   "cell_type": "code",
   "execution_count": 21,
   "metadata": {},
   "outputs": [],
   "source": [
    "def make_position_model_r2bc_math(traj_size = 731):\n",
    "    # Create input layers\n",
    "    t = keras.Input(shape=(traj_size,), name='t')\n",
    "    r0 = keras.Input(shape=(1,), name='r0')\n",
    "    theta0 = keras.Input(shape=(1,), name='theta0')\n",
    "    omega0 = keras.Input(shape=(1,), name='omega0')\n",
    "    # The combined input layers\n",
    "    inputs = [t, r0, theta0, omega0]\n",
    "    \n",
    "    # Reshape t\n",
    "    # t = keras.layers.Reshape(target_shape=(traj_size, 1), name='t_vec')(t)\n",
    "\n",
    "    # Repeat r, theta0 and omega to be vectors of shape matching t\n",
    "    r = keras.layers.RepeatVector(n=traj_size, name='r')(r0)\n",
    "    theta0 = keras.layers.RepeatVector(n=traj_size, name='theta0_vec')(theta0)\n",
    "    omega = keras.layers.RepeatVector(n=traj_size, name='omega_vec')(omega0)\n",
    "\n",
    "    # The angle theta at time t\n",
    "    # theta = omega * t + theta0\n",
    "    omega_t = keras.layers.multiply(inputs=[omega, t], name='omega_t')\n",
    "    theta = keras.layers.add(inputs=[omega_t, theta0], name='theta')\n",
    "\n",
    "    # Cosine and sine of theta\n",
    "    cos_theta = keras.layers.Activation(activation=tf.cos, name='cos_theta')(theta)\n",
    "    sin_theta = keras.layers.Activation(activation=tf.sin, name='sin_theta')(theta)\n",
    "\n",
    "    # Compute qx and qy from r, theta\n",
    "    qx = keras.layers.multiply(inputs=[r, cos_theta], name='qx')\n",
    "    qy = keras.layers.multiply(inputs=[r, sin_theta], name='qy')\n",
    "    \n",
    "    # Wrap this into a model\n",
    "    outputs = [qx, qy]\n",
    "    model = keras.Model(inputs=inputs, outputs=outputs, name='model_r2bc_math')\n",
    "    return model"
   ]
  },
  {
   "cell_type": "code",
   "execution_count": 22,
   "metadata": {},
   "outputs": [
    {
     "name": "stdout",
     "output_type": "stream",
     "text": [
      "shape of polar batches\n",
      "r0 : (64, 1)\n",
      "theta0 : (64, 1)\n",
      "omega0 : (64, 1)\n"
     ]
    }
   ],
   "source": [
    "r0, theta0, omega0 = ConfigToPolar2D()([q0, v0])\n",
    "print(f'shape of polar batches')\n",
    "print(f'r0 : {r0.shape}')\n",
    "print(f'theta0 : {theta0.shape}')\n",
    "print(f'omega0 : {omega0.shape}')"
   ]
  },
  {
   "cell_type": "code",
   "execution_count": 23,
   "metadata": {},
   "outputs": [
    {
     "name": "stdout",
     "output_type": "stream",
     "text": [
      "shape of output batches\n",
      "qx : (64, 731, 731)\n",
      "qy : (64, 731, 731)\n"
     ]
    }
   ],
   "source": [
    "pos_layer = Position_Layer_R2BC_Math()\n",
    "qx, qy = pos_layer([t, r0, theta0, omega0])\n",
    "print(f'shape of output batches')\n",
    "print(f'qx : {qx.shape}')\n",
    "print(f'qy : {qy.shape}')"
   ]
  },
  {
   "cell_type": "code",
   "execution_count": 24,
   "metadata": {},
   "outputs": [
    {
     "name": "stdout",
     "output_type": "stream",
     "text": [
      "shape of output batches\n",
      "qx : (64, 731, 731)\n",
      "qy : (64, 731, 731)\n"
     ]
    }
   ],
   "source": [
    "pos_model_custom = Position_Model_R2BC_Math()\n",
    "qx, qy = pos_model_custom([t, r0, theta0, omega0])\n",
    "print(f'shape of output batches')\n",
    "print(f'qx : {qx.shape}')\n",
    "print(f'qy : {qy.shape}')"
   ]
  },
  {
   "cell_type": "code",
   "execution_count": 25,
   "metadata": {},
   "outputs": [
    {
     "data": {
      "image/png": "[encoded data removed]",
      "text/plain": [
       "<IPython.core.display.Image object>"
      ]
     },
     "execution_count": 25,
     "metadata": {},
     "output_type": "execute_result"
    }
   ],
   "source": [
    "pos_model = make_position_model_r2bc_math(731)\n",
    "keras.utils.plot_model(pos_model)"
   ]
  },
  {
   "cell_type": "code",
   "execution_count": 26,
   "metadata": {},
   "outputs": [
    {
     "name": "stdout",
     "output_type": "stream",
     "text": [
      "Model: \"model_r2bc_math\"\n",
      "__________________________________________________________________________________________________\n",
      "Layer (type)                    Output Shape         Param #     Connected to                     \n",
      "==================================================================================================\n",
      "omega0 (InputLayer)             [(None, 1)]          0                                            \n",
      "__________________________________________________________________________________________________\n",
      "omega_vec (RepeatVector)        (None, 731, 1)       0           omega0[0][0]                     \n",
      "__________________________________________________________________________________________________\n",
      "t (InputLayer)                  [(None, 731)]        0                                            \n",
      "__________________________________________________________________________________________________\n",
      "theta0 (InputLayer)             [(None, 1)]          0                                            \n",
      "__________________________________________________________________________________________________\n",
      "omega_t (Multiply)              (None, 731, 731)     0           omega_vec[0][0]                  \n",
      "                                                                 t[0][0]                          \n",
      "__________________________________________________________________________________________________\n",
      "theta0_vec (RepeatVector)       (None, 731, 1)       0           theta0[0][0]                     \n",
      "__________________________________________________________________________________________________\n",
      "r0 (InputLayer)                 [(None, 1)]          0                                            \n",
      "__________________________________________________________________________________________________\n",
      "theta (Add)                     (None, 731, 731)     0           omega_t[0][0]                    \n",
      "                                                                 theta0_vec[0][0]                 \n",
      "__________________________________________________________________________________________________\n",
      "r (RepeatVector)                (None, 731, 1)       0           r0[0][0]                         \n",
      "__________________________________________________________________________________________________\n",
      "cos_theta (Activation)          (None, 731, 731)     0           theta[0][0]                      \n",
      "__________________________________________________________________________________________________\n",
      "sin_theta (Activation)          (None, 731, 731)     0           theta[0][0]                      \n",
      "__________________________________________________________________________________________________\n",
      "qx (Multiply)                   (None, 731, 731)     0           r[0][0]                          \n",
      "                                                                 cos_theta[0][0]                  \n",
      "__________________________________________________________________________________________________\n",
      "qy (Multiply)                   (None, 731, 731)     0           r[0][0]                          \n",
      "                                                                 sin_theta[0][0]                  \n",
      "==================================================================================================\n",
      "Total params: 0\n",
      "Trainable params: 0\n",
      "Non-trainable params: 0\n",
      "__________________________________________________________________________________________________\n"
     ]
    }
   ],
   "source": [
    "pos_model.summary()"
   ]
  },
  {
   "cell_type": "code",
   "execution_count": 27,
   "metadata": {},
   "outputs": [],
   "source": [
    "class Motion_R2B(keras.Model):\n",
    "    \"\"\"Motion for restricted two body problem generated from a position calculation model.\"\"\"\n",
    "\n",
    "    def __init__(self, position_model, **kwargs):\n",
    "        super(Motion_R2B, self).__init__(**kwargs)\n",
    "        self.position_model = position_model\n",
    "\n",
    "    def call(self, inputs):\n",
    "        \"\"\"\n",
    "        Compute full orbits for the restricted two body problem.\n",
    "        Computes positions using the passed position_layer, \n",
    "        then uses automatic differentiation for velocity v and acceleration a.\n",
    "        INPUTS:\n",
    "            t: the times to report the orbit; shape (batch_size, traj_size)\n",
    "            r0: the initial distance; shape (batch_size, 1)\n",
    "            theta0: the initial angle; shape (batch_size, 1)\n",
    "            omega0: the angular velocity; shape (batch_size, 1)\n",
    "        OUTPUTS:\n",
    "            q: the position at time t; shape (batch_size, traj_size, 2)\n",
    "            v: the velocity at time t; shape (batch_size, traj_size, 2)\n",
    "            a: the acceleration at time t; shape (batch_size, traj_size, 2)\n",
    "        \"\"\"\n",
    "        # Unpack time from first input; the rest are passed as-is to position_layer\n",
    "        t = inputs[0]\n",
    "\n",
    "        # Get the trajectory size and target shape of t\n",
    "        traj_size = t.shape[1]\n",
    "        target_shape = (traj_size, 1)\n",
    "\n",
    "        # Reshape t to have shape (batch_size, traj_size, 1)\n",
    "        t = keras.layers.Reshape(target_shape=target_shape, name='t')(t)\n",
    "\n",
    "        # Evaluation of the position is under the scope of two gradient tapes\n",
    "        # These are for velocity and acceleration\n",
    "        with tf.GradientTape(persistent=True) as gt2:\n",
    "            gt2.watch(t)\n",
    "        \n",
    "            with tf.GradientTape(persistent=True) as gt1:\n",
    "                gt1.watch(t)       \n",
    "        \n",
    "                # Get the position using the input position layer\n",
    "                # qx, qy = self.position_layer([t, r0, theta0, omega0])\n",
    "                position_inputs = [t] + inputs[1:]\n",
    "                qx, qy = self.position_model(position_inputs)\n",
    "                q = keras.layers.concatenate(inputs=[qx, qy], axis=-1, name='q')\n",
    "\n",
    "            # Compute the velocity v = dq/dt with gt1\n",
    "            vx = gt1.gradient(qx, t)\n",
    "            vy = gt1.gradient(qy, t)\n",
    "            v = keras.layers.concatenate(inputs=[vx, vy], name='v')\n",
    "            del gt1\n",
    "            \n",
    "        # Compute the acceleration a = d2q/dt2 = dv/dt with gt2\n",
    "        ax = gt2.gradient(vx, t)\n",
    "        ay = gt2.gradient(vy, t)\n",
    "        a = keras.layers.concatenate(inputs=[ax, ay], name='a')\n",
    "        del gt2\n",
    "            \n",
    "        return q, v, a"
   ]
  },
  {
   "cell_type": "code",
   "execution_count": 28,
   "metadata": {},
   "outputs": [
    {
     "data": {
      "image/png": "[encoded data removed]",
      "text/plain": [
       "<IPython.core.display.Image object>"
      ]
     },
     "execution_count": 28,
     "metadata": {},
     "output_type": "execute_result"
    }
   ],
   "source": [
    "motion_model = Motion_R2B(position_model = pos_model)\n",
    "keras.utils.plot_model(motion_model)"
   ]
  },
  {
   "cell_type": "code",
   "execution_count": 29,
   "metadata": {},
   "outputs": [
    {
     "name": "stdout",
     "output_type": "stream",
     "text": [
      "shape of motion_model outputs:\n",
      "q: (64, 731, 2)\n",
      "v: (64, 731, 2)\n",
      "a: (64, 731, 2)\n"
     ]
    }
   ],
   "source": [
    "q, v, a = motion_model([t, r0, theta0, omega0])\n",
    "print('shape of motion_model outputs:')\n",
    "print(f'q: {q.shape}')\n",
    "print(f'v: {v.shape}')\n",
    "print(f'a: {a.shape}')"
   ]
  },
  {
   "cell_type": "code",
   "execution_count": 30,
   "metadata": {},
   "outputs": [],
   "source": [
    "def make_model_r2b(position_model: keras.Model, traj_size: int):\n",
    "    \"\"\"Create a model for the restricted two body problem\"\"\"\n",
    "    # Create input layers\n",
    "    t = keras.Input(shape=(traj_size,), name='t')\n",
    "    q0 = keras.Input(shape=(2,), name='q0')\n",
    "    v0 = keras.Input(shape=(2,), name='v0')\n",
    "    mu = keras.Input(shape=(1,), name='mu')\n",
    "    # The combined input layers\n",
    "    inputs = [t, q0, v0, mu]\n",
    "\n",
    "    # Return row 0 of a position or velocity for q0_rec and v0_rec\n",
    "    initial_row_func = lambda q : q[:, 0, :]\n",
    "\n",
    "    # The polar coordinates of the initial conditions\n",
    "    # r0, theta0, and omega0 each scalars in each batch\n",
    "    r0, theta0, omega0 = ConfigToPolar2D(name='polar0')([q0, v0])\n",
    "    \n",
    "    # Name the outputs of the initial polar\n",
    "    # These each have shape (batch_size, 1)\n",
    "    r0 = Identity(name='r0')(r0)\n",
    "    theta0 = Identity(name='theta0')(theta0)\n",
    "    omega0 = Identity(name='omega0')(omega0)\n",
    "\n",
    "    # Compute the motion from the specified position layer\n",
    "    q, v, a = Motion_R2B(position_model=position_model, name='motion')([t, r0, theta0, omega0])\n",
    "    \n",
    "    # Name the outputs of the circular motion\n",
    "    # These each have shape (batch_size, traj_size, 2)\n",
    "    q = Identity(name='q')(q)\n",
    "    v = Identity(name='v')(v)\n",
    "    a = Identity(name='a')(a)\n",
    "\n",
    "    # Compute q0_rec and v0_rec\n",
    "    # These each have shape (batch_size, 2)\n",
    "    q0_rec = keras.layers.Lambda(initial_row_func, name='q0_rec')(q)\n",
    "    v0_rec = keras.layers.Lambda(initial_row_func, name='v0_rec')(v)\n",
    "\n",
    "    # Compute kinetic energy T and potential energy U\n",
    "    T = KineticEnergy_R2B(name='T')(v)\n",
    "    U = PotentialEnergy_R2B(name='U')([q, mu])\n",
    "    # Compute the total energy H\n",
    "    H = keras.layers.add(inputs=[T,U], name='H')\n",
    "\n",
    "    # Compute angular momentum L\n",
    "    # This has shape (batch_size, 1)\n",
    "    L = AngularMomentum_R2B(name='L')([q, v])\n",
    "    \n",
    "    # Wrap this up into a model\n",
    "    outputs = [q, v, a, q0_rec, v0_rec, H, L]\n",
    "    model = keras.Model(inputs=inputs, outputs=outputs, name='model_math')\n",
    "    return model"
   ]
  },
  {
   "cell_type": "code",
   "execution_count": 31,
   "metadata": {},
   "outputs": [],
   "source": [
    "def make_model_r2bc_math(traj_size: int = 731):\n",
    "    \"\"\"Create an anlytical model for the restricted two body circular problem\"\"\"\n",
    "    # Build the position model\n",
    "    position_model = make_position_model_r2bc_math(traj_size=traj_size)\n",
    "    \n",
    "    # Build the model with this position layer and the input trajectory size\n",
    "    return make_model_r2b(position_model=position_model, traj_size=traj_size)"
   ]
  },
  {
   "cell_type": "code",
   "execution_count": 32,
   "metadata": {},
   "outputs": [],
   "source": [
    "# model_math = make_model_r2bc_math()\n",
    "model_math = make_model_r2b(position_model=pos_layer, traj_size=traj_size)"
   ]
  },
  {
   "cell_type": "code",
   "execution_count": 33,
   "metadata": {},
   "outputs": [],
   "source": [
    "# keras.utils.plot_model(model_math)"
   ]
  },
  {
   "cell_type": "code",
   "execution_count": 34,
   "metadata": {},
   "outputs": [
    {
     "name": "stdout",
     "output_type": "stream",
     "text": [
      "Model: \"model_math\"\n",
      "__________________________________________________________________________________________________\n",
      "Layer (type)                    Output Shape         Param #     Connected to                     \n",
      "==================================================================================================\n",
      "q0 (InputLayer)                 [(None, 2)]          0                                            \n",
      "__________________________________________________________________________________________________\n",
      "v0 (InputLayer)                 [(None, 2)]          0                                            \n",
      "__________________________________________________________________________________________________\n",
      "polar0 (ConfigToPolar2D)        ((None, 1), (None, 1 0           q0[0][0]                         \n",
      "                                                                 v0[0][0]                         \n",
      "__________________________________________________________________________________________________\n",
      "t (InputLayer)                  [(None, 731)]        0                                            \n",
      "__________________________________________________________________________________________________\n",
      "r0 (Identity)                   (None, 1)            0           polar0[0][0]                     \n",
      "__________________________________________________________________________________________________\n",
      "theta0 (Identity)               (None, 1)            0           polar0[0][1]                     \n",
      "__________________________________________________________________________________________________\n",
      "omega0 (Identity)               (None, 1)            0           polar0[0][2]                     \n",
      "__________________________________________________________________________________________________\n",
      "motion (Motion_R2B)             ((None, 731, 2), (No 0           t[0][0]                          \n",
      "                                                                 r0[0][0]                         \n",
      "                                                                 theta0[0][0]                     \n",
      "                                                                 omega0[0][0]                     \n",
      "__________________________________________________________________________________________________\n",
      "q (Identity)                    (None, 731, 2)       0           motion[0][0]                     \n",
      "__________________________________________________________________________________________________\n",
      "v (Identity)                    (None, 731, 2)       0           motion[0][1]                     \n",
      "__________________________________________________________________________________________________\n",
      "mu (InputLayer)                 [(None, 1)]          0                                            \n",
      "__________________________________________________________________________________________________\n",
      "T (KineticEnergy_R2B)           (None, 731)          0           v[0][0]                          \n",
      "__________________________________________________________________________________________________\n",
      "U (PotentialEnergy_R2B)         (None, 731)          0           q[0][0]                          \n",
      "                                                                 mu[0][0]                         \n",
      "__________________________________________________________________________________________________\n",
      "a (Identity)                    (None, 731, 2)       0           motion[0][2]                     \n",
      "__________________________________________________________________________________________________\n",
      "q0_rec (Lambda)                 (None, 2)            0           q[0][0]                          \n",
      "__________________________________________________________________________________________________\n",
      "v0_rec (Lambda)                 (None, 2)            0           v[0][0]                          \n",
      "__________________________________________________________________________________________________\n",
      "H (Add)                         (None, 731)          0           T[0][0]                          \n",
      "                                                                 U[0][0]                          \n",
      "__________________________________________________________________________________________________\n",
      "L (AngularMomentum_R2B)         (None, 731)          0           q[0][0]                          \n",
      "                                                                 v[0][0]                          \n",
      "==================================================================================================\n",
      "Total params: 0\n",
      "Trainable params: 0\n",
      "Non-trainable params: 0\n",
      "__________________________________________________________________________________________________\n"
     ]
    }
   ],
   "source": [
    "model_math.summary()"
   ]
  },
  {
   "cell_type": "code",
   "execution_count": 35,
   "metadata": {},
   "outputs": [
    {
     "data": {
      "text/plain": [
       "TensorShape([64, 731, 2])"
      ]
     },
     "execution_count": 35,
     "metadata": {},
     "output_type": "execute_result"
    }
   ],
   "source": [
    "q.shape"
   ]
  },
  {
   "cell_type": "code",
   "execution_count": 36,
   "metadata": {},
   "outputs": [
    {
     "data": {
      "text/plain": [
       "TensorShape([64, 1])"
      ]
     },
     "execution_count": 36,
     "metadata": {},
     "output_type": "execute_result"
    }
   ],
   "source": [
    "mu.shape"
   ]
  },
  {
   "cell_type": "code",
   "execution_count": 37,
   "metadata": {},
   "outputs": [],
   "source": [
    "q, v, a, q0_rec, v0_rec, H, L = model_math(batch_in)"
   ]
  },
  {
   "cell_type": "code",
   "execution_count": 38,
   "metadata": {},
   "outputs": [],
   "source": [
    "optimizer = keras.optimizers.Adam()\n",
    "\n",
    "loss = {'q': keras.losses.MeanSquaredError(name='q_mse'),\n",
    "        'v': keras.losses.MeanSquaredError(name='q_mse'),\n",
    "        'a': keras.losses.MeanSquaredError(name='a_mse')}\n",
    "\n",
    "metrics = None\n",
    "\n",
    "loss_weights = {'q': 1.0,\n",
    "                'v': 1.0,\n",
    "                'a': 0.0}"
   ]
  },
  {
   "cell_type": "code",
   "execution_count": 39,
   "metadata": {},
   "outputs": [
    {
     "name": "stderr",
     "output_type": "stream",
     "text": [
      "WARNING: Logging before flag parsing goes to stderr.\n",
      "W0627 14:59:16.174848  7640 training_utils.py:1237] Output q0_rec missing from loss dictionary. We assume this was done on purpose. The fit and evaluate APIs will not be expecting any data to be passed to q0_rec.\n",
      "W0627 14:59:16.174848  7640 training_utils.py:1237] Output v0_rec missing from loss dictionary. We assume this was done on purpose. The fit and evaluate APIs will not be expecting any data to be passed to v0_rec.\n",
      "W0627 14:59:16.174848  7640 training_utils.py:1237] Output H missing from loss dictionary. We assume this was done on purpose. The fit and evaluate APIs will not be expecting any data to be passed to H.\n",
      "W0627 14:59:16.174848  7640 training_utils.py:1237] Output L missing from loss dictionary. We assume this was done on purpose. The fit and evaluate APIs will not be expecting any data to be passed to L.\n"
     ]
    }
   ],
   "source": [
    "model_math = make_model_r2bc_math()\n",
    "model_math.compile(optimizer=optimizer, loss=loss, metrics=metrics, loss_weights=loss_weights)"
   ]
  },
  {
   "cell_type": "code",
   "execution_count": 40,
   "metadata": {},
   "outputs": [
    {
     "name": "stdout",
     "output_type": "stream",
     "text": [
      "32/32 [==============================] - 1s 22ms/step - loss: 1.9813e-12 - q_loss: 1.0436e-12 - v_loss: 9.3764e-13 - a_loss: 1.8915e-10\n"
     ]
    },
    {
     "data": {
      "text/plain": [
       "[1.981277650080736e-12, 1.0436361e-12, 9.376416e-13, 1.8915101e-10]"
      ]
     },
     "execution_count": 40,
     "metadata": {},
     "output_type": "execute_result"
    }
   ],
   "source": [
    "# Evaluate the math model on the earth-like data set\n",
    "model_math.evaluate(ds_solar_val)"
   ]
  },
  {
   "cell_type": "code",
   "execution_count": 41,
   "metadata": {},
   "outputs": [
    {
     "data": {
      "image/png": "[encoded data removed]",
      "text/plain": [
       "<IPython.core.display.Image object>"
      ]
     },
     "execution_count": 41,
     "metadata": {},
     "output_type": "execute_result"
    }
   ],
   "source": [
    "keras.utils.plot_model(model_math, show_shapes=False)"
   ]
  },
  {
   "cell_type": "code",
   "execution_count": 42,
   "metadata": {},
   "outputs": [
    {
     "name": "stdout",
     "output_type": "stream",
     "text": [
      "Model: \"model_math\"\n",
      "__________________________________________________________________________________________________\n",
      "Layer (type)                    Output Shape         Param #     Connected to                     \n",
      "==================================================================================================\n",
      "q0 (InputLayer)                 [(None, 2)]          0                                            \n",
      "__________________________________________________________________________________________________\n",
      "v0 (InputLayer)                 [(None, 2)]          0                                            \n",
      "__________________________________________________________________________________________________\n",
      "polar0 (ConfigToPolar2D)        ((None, 1), (None, 1 0           q0[0][0]                         \n",
      "                                                                 v0[0][0]                         \n",
      "__________________________________________________________________________________________________\n",
      "t (InputLayer)                  [(None, 731)]        0                                            \n",
      "__________________________________________________________________________________________________\n",
      "r0 (Identity)                   (None, 1)            0           polar0[0][0]                     \n",
      "__________________________________________________________________________________________________\n",
      "theta0 (Identity)               (None, 1)            0           polar0[0][1]                     \n",
      "__________________________________________________________________________________________________\n",
      "omega0 (Identity)               (None, 1)            0           polar0[0][2]                     \n",
      "__________________________________________________________________________________________________\n",
      "motion (Motion_R2B)             ((None, 731, 2), (No 0           t[0][0]                          \n",
      "                                                                 r0[0][0]                         \n",
      "                                                                 theta0[0][0]                     \n",
      "                                                                 omega0[0][0]                     \n",
      "__________________________________________________________________________________________________\n",
      "q (Identity)                    (None, 731, 2)       0           motion[0][0]                     \n",
      "__________________________________________________________________________________________________\n",
      "v (Identity)                    (None, 731, 2)       0           motion[0][1]                     \n",
      "__________________________________________________________________________________________________\n",
      "mu (InputLayer)                 [(None, 1)]          0                                            \n",
      "__________________________________________________________________________________________________\n",
      "T (KineticEnergy_R2B)           (None, 731)          0           v[0][0]                          \n",
      "__________________________________________________________________________________________________\n",
      "U (PotentialEnergy_R2B)         (None, 731)          0           q[0][0]                          \n",
      "                                                                 mu[0][0]                         \n",
      "__________________________________________________________________________________________________\n",
      "a (Identity)                    (None, 731, 2)       0           motion[0][2]                     \n",
      "__________________________________________________________________________________________________\n",
      "q0_rec (Lambda)                 (None, 2)            0           q[0][0]                          \n",
      "__________________________________________________________________________________________________\n",
      "v0_rec (Lambda)                 (None, 2)            0           v[0][0]                          \n",
      "__________________________________________________________________________________________________\n",
      "H (Add)                         (None, 731)          0           T[0][0]                          \n",
      "                                                                 U[0][0]                          \n",
      "__________________________________________________________________________________________________\n",
      "L (AngularMomentum_R2B)         (None, 731)          0           q[0][0]                          \n",
      "                                                                 v[0][0]                          \n",
      "==================================================================================================\n",
      "Total params: 0\n",
      "Trainable params: 0\n",
      "Non-trainable params: 0\n",
      "__________________________________________________________________________________________________\n"
     ]
    }
   ],
   "source": [
    "model_math.summary()"
   ]
  },
  {
   "cell_type": "code",
   "execution_count": 43,
   "metadata": {},
   "outputs": [
    {
     "name": "stdout",
     "output_type": "stream",
     "text": [
      "model output shapes:\n",
      "q = (64, 731, 2)\n",
      "v = (64, 731, 2)\n",
      "a = (64, 731, 2)\n",
      "q0_rec = (64, 2)\n",
      "v0_rec = (64, 2)\n",
      "H = (64, 731)\n",
      "L = (64, 731)\n"
     ]
    }
   ],
   "source": [
    "q, v, a, q0_rec, v0_rec, H, L  = model_math([t, q0, v0, mu])\n",
    "print(f'model output shapes:')\n",
    "print(f'q = {q.shape}')\n",
    "print(f'v = {v.shape}')\n",
    "print(f'a = {a.shape}')\n",
    "print(f'q0_rec = {q0_rec.shape}')\n",
    "print(f'v0_rec = {v0_rec.shape}')\n",
    "print(f'H = {H.shape}')\n",
    "print(f'L = {L.shape}')"
   ]
  },
  {
   "cell_type": "code",
   "execution_count": 44,
   "metadata": {},
   "outputs": [],
   "source": [
    "optimizer = keras.optimizers.Adam()\n",
    "\n",
    "loss = {'q': keras.losses.MeanSquaredError(name='q_mse'),\n",
    "        'v': keras.losses.MeanSquaredError(name='q_mse'),\n",
    "        'a': keras.losses.MeanSquaredError(name='a_mse'),\n",
    "        'q0_rec': keras.losses.MeanSquaredError(name='q0_mse'),\n",
    "        'v0_rec': keras.losses.MeanSquaredError(name='v0_mse'),\n",
    "        'H': keras.losses.MeanSquaredError(name='H'),\n",
    "        'L': keras.losses.MeanSquaredError(name='L')}\n",
    "\n",
    "# these metrics produce crazy output names when multiple instances share them; hold off for now\n",
    "# metrics = {'q': keras.metrics.MeanAbsoluteError(name='q_mae'),\n",
    "#            'v': keras.metrics.MeanAbsoluteError(name='v_mae')}\n",
    "metrics = None\n",
    "\n",
    "loss_weights = {'q': 1.0,\n",
    "                'v': 1.0,\n",
    "                'a': 0.0,\n",
    "                'q0_rec': 1.0,\n",
    "                'v0_rec': 1.0,\n",
    "                'H': 1.0,\n",
    "                'L': 1.0}"
   ]
  },
  {
   "cell_type": "code",
   "execution_count": 45,
   "metadata": {},
   "outputs": [],
   "source": [
    "# Compile the mathematical model on a single GPU\n",
    "model_math = make_model_r2bc_math()\n",
    "model_math.compile(optimizer=optimizer, loss=loss, metrics=metrics, loss_weights=loss_weights)"
   ]
  },
  {
   "cell_type": "code",
   "execution_count": 46,
   "metadata": {},
   "outputs": [],
   "source": [
    "# Compile the mathematical model for parallel GPUs\n",
    "# with strat.scope():\n",
    "#     model_math_par = make_model_r2bc_analytic()\n",
    "#     model_math_par.compile(optimizer=optimizer, loss=loss, metrics=metrics, loss_weights=loss_weights)"
   ]
  },
  {
   "cell_type": "code",
   "execution_count": 47,
   "metadata": {},
   "outputs": [
    {
     "name": "stdout",
     "output_type": "stream",
     "text": [
      "32/32 [==============================] - 1s 32ms/step - loss: 1.0412e-11 - q_loss: 1.0436e-12 - v_loss: 9.3764e-13 - a_loss: 1.8915e-10 - q0_rec_loss: 6.6887e-13 - v0_rec_loss: 1.6590e-14 - H_loss: 9.0101e-13 - L_loss: 6.8444e-12\n"
     ]
    },
    {
     "data": {
      "text/plain": [
       "[1.0412165636522301e-11,\n",
       " 1.0436361e-12,\n",
       " 9.376416e-13,\n",
       " 1.8915101e-10,\n",
       " 6.688697e-13,\n",
       " 1.6589733e-14,\n",
       " 9.0101066e-13,\n",
       " 6.8444174e-12]"
      ]
     },
     "execution_count": 47,
     "metadata": {},
     "output_type": "execute_result"
    }
   ],
   "source": [
    "# Evaluate the math model on the earth-like data set\n",
    "model_math.evaluate(ds_solar_val)"
   ]
  },
  {
   "cell_type": "code",
   "execution_count": null,
   "metadata": {},
   "outputs": [],
   "source": [
    "def time_model_eval(model, ds, batches=None, time_mean=None):\n",
    "    \"\"\"Time a model to evaluate a dataset\"\"\"\n",
    "    t0 = time.time()\n",
    "    if batches is None:\n",
    "        model.evaluate(ds)\n",
    "    else:\n",
    "        model.evaluate(ds.take(batches))\n",
    "    t1 = time.time()\n",
    "    elapsed = t1 - t0\n",
    "    print(f'Elapsed Time: {elapsed:5.3f} sec')\n",
    "    if time_mean is not None:\n",
    "        delta = (elapsed - time_mean)\n",
    "        print(f'Time Delta:   {delta:+5.3f} sec')"
   ]
  },
  {
   "cell_type": "code",
   "execution_count": null,
   "metadata": {},
   "outputs": [],
   "source": [
    "# Time the single GPU math model\n",
    "# time_model_eval(model_math, ds_solar_trn)"
   ]
  },
  {
   "cell_type": "code",
   "execution_count": null,
   "metadata": {},
   "outputs": [],
   "source": [
    "# Time the double GPU math model\n",
    "# time_model_eval(model_math_par, ds_solar_trn)"
   ]
  },
  {
   "cell_type": "code",
   "execution_count": null,
   "metadata": {},
   "outputs": [],
   "source": [
    "class Position_R2BC_NN(keras.layers.Layer):\n",
    "    \"\"\"\n",
    "    Compute orbit positions for the restricted two body circular problem from \n",
    "    the initial polar coordinates (orbital elements) with a neural network.\n",
    "    \"\"\"\n",
    "    def __init__(self, hidden_sizes, skip_layers, **kwargs):\n",
    "        super(Position_R2BC_NN, self).__init__(**kwargs)\n",
    "        \n",
    "        # Network design\n",
    "        self.hidden_sizes = hidden_sizes\n",
    "        self.skip_layers = skip_layers\n",
    "\n",
    "        # Number of hidden layers\n",
    "        self.num_layers = len(self.hidden_sizes)\n",
    "\n",
    "    def call(self, inputs):\n",
    "        \"\"\"\n",
    "        INPUTS:\n",
    "            inputs: a list of the tensors requred.  inputs = [t, r0, theta0, omega0], where\n",
    "            t: the times to report the orbit; shape (batch_size, traj_size, 1,)\n",
    "            r0: the initial distance; shape (batch_size, 1,)\n",
    "            theta0: the initial angle; shape (batch_size, 1,)\n",
    "            omega0: the angular velocity; shape (batch_size, 1,)\n",
    "        OUTPUTS:\n",
    "            qx: the x position at time t; shape (batch_size, traj_size, 1)\n",
    "            qy: the y position at time t; shape (batch_size, traj_size, 1)\n",
    "        \"\"\"\n",
    "        # Unpack inputs\n",
    "        t, r0, theta0, omega0 = inputs\n",
    "\n",
    "        # Get the trajectory size\n",
    "        traj_size = t.shape[1]\n",
    "\n",
    "        # Repeat r, theta0 and omega to be vectors of shape matching t\n",
    "        r = keras.layers.RepeatVector(n=traj_size, name='r')(r0)\n",
    "        theta0 = keras.layers.RepeatVector(n=traj_size, name='theta0')(theta0)\n",
    "        omega = keras.layers.RepeatVector(n=traj_size, name='omega')(omega0)\n",
    "\n",
    "        # The angle theta at time t\n",
    "        # theta = omega * t + theta0\n",
    "        omega_t = keras.layers.multiply(inputs=[omega, t], name='omega_t')\n",
    "        theta = keras.layers.add(inputs=[omega_t, theta0], name='theta')\n",
    "\n",
    "        # Cosine and sine of theta\n",
    "        cos_theta = keras.layers.Activation(activation=tf.cos, name='cos_theta')(theta)\n",
    "        sin_theta = keras.layers.Activation(activation=tf.sin, name='sin_theta')(theta)\n",
    "\n",
    "        # Compute qx and qy from r, theta\n",
    "        qx = keras.layers.multiply(inputs=[r, cos_theta], name='qx')\n",
    "        qy = keras.layers.multiply(inputs=[r, sin_theta], name='qy')\n",
    "           \n",
    "        return qx, qy"
   ]
  },
  {
   "cell_type": "code",
   "execution_count": null,
   "metadata": {},
   "outputs": [],
   "source": [
    "def make_model_r2bc_nn(hidden_sizes, skip_layers=True, traj_size: int = 731):\n",
    "    \"\"\"Create a neural net model for the restricted two body circular problem\"\"\"\n",
    "    # Build the position layer\n",
    "    position_layer = Position_R2BC_NN(hidden_sizes=hidden_sizes, skip_layers=skip_layers, name='position_r2bc_nn')\n",
    "    \n",
    "    # Build the model with this position layer and the input trajectory size\n",
    "    return make_model_r2b(position_layer=position_layer, traj_size=traj_size)"
   ]
  },
  {
   "cell_type": "code",
   "execution_count": null,
   "metadata": {},
   "outputs": [],
   "source": [
    "# Make the NN r2bc model\n",
    "model = make_model_r2bc_nn(hidden_sizes=[64])\n",
    "model.compile(optimizer=optimizer, loss=loss, metrics=metrics, loss_weights=loss_weights)"
   ]
  },
  {
   "cell_type": "code",
   "execution_count": null,
   "metadata": {},
   "outputs": [],
   "source": [
    "# Evaluate the NN model on the earth-like data set\n",
    "model_math.evaluate(ds_earth_val)"
   ]
  },
  {
   "cell_type": "code",
   "execution_count": null,
   "metadata": {},
   "outputs": [],
   "source": [
    "# Compile the main r2bc model on a single GPU\n",
    "optimizer = keras.optimizers.Adagrad()\n",
    "model.compile(optimizer=optimizer, loss=loss, metrics=metrics, loss_weights=loss_weights)"
   ]
  },
  {
   "cell_type": "code",
   "execution_count": null,
   "metadata": {},
   "outputs": [],
   "source": [
    "hist = model.fit(ds_earth_trn.repeat(), epochs=10, steps_per_epoch=2000, \n",
    "                 validation_data = ds_earth_val, validation_steps=100,\n",
    "                 callbacks=None)"
   ]
  },
  {
   "cell_type": "code",
   "execution_count": null,
   "metadata": {},
   "outputs": [],
   "source": [
    "# Compile the main model for parallel GPUs\n",
    "# with strat.scope():\n",
    "#    model_par = make_model_r2bc()\n",
    "#    model_par.compile(optimizer=optimizer, loss=loss, metrics=metrics, loss_weights=loss_weights)"
   ]
  },
  {
   "cell_type": "code",
   "execution_count": null,
   "metadata": {},
   "outputs": [],
   "source": [
    "# Time the single GPU main model\n",
    "time_model_eval(model, ds_earth_trn)"
   ]
  },
  {
   "cell_type": "code",
   "execution_count": null,
   "metadata": {},
   "outputs": [],
   "source": [
    "# Time the double GPU main model\n",
    "# time_model_eval(model_par, ds_earth_trn, batches=1024)"
   ]
  },
  {
   "cell_type": "code",
   "execution_count": null,
   "metadata": {},
   "outputs": [],
   "source": [
    "# keras.utils.plot_model(model, show_shapes=False)"
   ]
  },
  {
   "cell_type": "code",
   "execution_count": null,
   "metadata": {},
   "outputs": [],
   "source": [
    "# Example batch\n",
    "batch = list(ds_earth_trn.take(1))[0]\n",
    "batch_in, batch_out = batch\n",
    "batch_in.keys()"
   ]
  },
  {
   "cell_type": "code",
   "execution_count": null,
   "metadata": {},
   "outputs": [],
   "source": [
    "# filepath = '../models/r2bc_earth_{epoch}.h5'\n",
    "filepath = '../models/r2bc/model_earth.h5'\n",
    "callback_ckp = keras.callbacks.ModelCheckpoint(\n",
    "    filepath=filepath,\n",
    "    save_best_only=True,\n",
    "    monitor='val_loss',\n",
    "    verbose=1)\n",
    "\n",
    "log_dir = '../logs/r2bc_earth'\n",
    "callback_tb = keras.callbacks.TensorBoard(\n",
    "    log_dir=log_dir,\n",
    "    histogram_freq=0,\n",
    "    embeddings_freq=0,\n",
    "    update_freq='epoch')\n",
    "\n",
    "# Unable to get TensorBoard to work on Windows 10; fails to create new directory\n",
    "# callbacks = [callback_ckp, callback_tb, TimeHistory()]\n",
    "callbacks = [TimeHistory()]"
   ]
  },
  {
   "cell_type": "code",
   "execution_count": null,
   "metadata": {},
   "outputs": [],
   "source": [
    "history_earth = model.fit(ds_earth_trn, epochs=10, callbacks=None, validation_data = ds_earth_val)"
   ]
  },
  {
   "cell_type": "code",
   "execution_count": null,
   "metadata": {},
   "outputs": [],
   "source": [
    "xxx = b1_in['v0'].numpy()\n",
    "xxx = b1_out['a'].numpy()"
   ]
  },
  {
   "cell_type": "code",
   "execution_count": null,
   "metadata": {},
   "outputs": [],
   "source": [
    "np.std(xxx, axis=0)"
   ]
  },
  {
   "cell_type": "code",
   "execution_count": null,
   "metadata": {},
   "outputs": [],
   "source": [
    "np.min(xxx, axis=0)"
   ]
  },
  {
   "cell_type": "code",
   "execution_count": null,
   "metadata": {},
   "outputs": [],
   "source": [
    "np.max(xxx, axis=0)"
   ]
  },
  {
   "cell_type": "code",
   "execution_count": null,
   "metadata": {},
   "outputs": [],
   "source": [
    "pred = model_math.predict(batch_in)\n",
    "t, q0, v0 = batch_in['t'], batch_in['q0'], batch_in['v0']\n",
    "q, v, a, q0, v0 = pred"
   ]
  },
  {
   "cell_type": "code",
   "execution_count": null,
   "metadata": {},
   "outputs": [],
   "source": [
    "batch_in.keys()"
   ]
  },
  {
   "cell_type": "code",
   "execution_count": null,
   "metadata": {},
   "outputs": [],
   "source": [
    "q.shape"
   ]
  },
  {
   "cell_type": "code",
   "execution_count": null,
   "metadata": {},
   "outputs": [],
   "source": []
  }
 ],
 "metadata": {
  "kernelspec": {
   "display_name": "Python 3",
   "language": "python",
   "name": "python3"
  },
  "language_info": {
   "codemirror_mode": {
    "name": "ipython",
    "version": 3
   },
   "file_extension": ".py",
   "mimetype": "text/x-python",
   "name": "python",
   "nbconvert_exporter": "python",
   "pygments_lexer": "ipython3",
   "version": "3.7.3"
  }
 },
 "nbformat": 4,
 "nbformat_minor": 2
}
