{
 "cells": [
  {
   "cell_type": "code",
   "execution_count": 1,
   "metadata": {},
   "outputs": [
    {
     "data": {
      "text/plain": [
       "'2.0.0-beta0'"
      ]
     },
     "execution_count": 1,
     "metadata": {},
     "output_type": "execute_result"
    }
   ],
   "source": [
    "import tensorflow as tf\n",
    "from tensorflow import keras\n",
    "import os\n",
    "tf.__version__"
   ]
  },
  {
   "cell_type": "code",
   "execution_count": 11,
   "metadata": {},
   "outputs": [],
   "source": [
    "gpus = tf.config.experimental.list_physical_devices('GPU')\n",
    "tf.config.experimental.set_memory_growth(gpus[0], True)\n",
    "tf.config.experimental.set_memory_growth(gpus[1], True)"
   ]
  },
  {
   "cell_type": "code",
   "execution_count": 12,
   "metadata": {},
   "outputs": [
    {
     "data": {
      "text/plain": [
       "[PhysicalDevice(name='/physical_device:GPU:0', device_type='GPU'),\n",
       " PhysicalDevice(name='/physical_device:GPU:1', device_type='GPU')]"
      ]
     },
     "execution_count": 12,
     "metadata": {},
     "output_type": "execute_result"
    }
   ],
   "source": [
    "gpus"
   ]
  },
  {
   "cell_type": "code",
   "execution_count": 13,
   "metadata": {},
   "outputs": [],
   "source": [
    "(img_trn, label_trn), (img_tst, label_tst) = keras.datasets.mnist.load_data()"
   ]
  },
  {
   "cell_type": "code",
   "execution_count": 14,
   "metadata": {},
   "outputs": [
    {
     "data": {
      "text/plain": [
       "(60000,)"
      ]
     },
     "execution_count": 14,
     "metadata": {},
     "output_type": "execute_result"
    }
   ],
   "source": [
    "label_trn.shape"
   ]
  },
  {
   "cell_type": "code",
   "execution_count": 15,
   "metadata": {},
   "outputs": [],
   "source": [
    "num_pixel = 28*28\n",
    "img_trn = img_trn.reshape(-1, num_pixel)/255.0\n",
    "img_tst = img_tst.reshape(-1, num_pixel)/255.0"
   ]
  },
  {
   "cell_type": "code",
   "execution_count": 16,
   "metadata": {},
   "outputs": [],
   "source": [
    "def create_model():\n",
    "    model = keras.models.Sequential([\n",
    "        keras.layers.Dense(512, activation='relu', input_shape=(num_pixel,)),\n",
    "        keras.layers.Dropout(0.20),\n",
    "        keras.layers.Dense(10, activation='softmax')\n",
    "    ])\n",
    "    model.compile(optimizer='adam',\n",
    "                  loss='sparse_categorical_crossentropy',\n",
    "                  metrics=['accuracy'])\n",
    "    return model"
   ]
  },
  {
   "cell_type": "code",
   "execution_count": 17,
   "metadata": {},
   "outputs": [
    {
     "name": "stdout",
     "output_type": "stream",
     "text": [
      "Model: \"sequential_1\"\n",
      "_________________________________________________________________\n",
      "Layer (type)                 Output Shape              Param #   \n",
      "=================================================================\n",
      "dense_2 (Dense)              (None, 512)               401920    \n",
      "_________________________________________________________________\n",
      "dropout_1 (Dropout)          (None, 512)               0         \n",
      "_________________________________________________________________\n",
      "dense_3 (Dense)              (None, 10)                5130      \n",
      "=================================================================\n",
      "Total params: 407,050\n",
      "Trainable params: 407,050\n",
      "Non-trainable params: 0\n",
      "_________________________________________________________________\n"
     ]
    }
   ],
   "source": [
    "model = create_model()\n",
    "model.summary()"
   ]
  },
  {
   "cell_type": "code",
   "execution_count": 18,
   "metadata": {},
   "outputs": [],
   "source": [
    "checkpoint_path = 'training_1/cp.ckpt'\n",
    "checkpoint_dir = os.path.dirname(checkpoint_path)\n",
    "cp_callback = tf.keras.callbacks.ModelCheckpoint(checkpoint_path, save_weights_only=True, verbose=1)"
   ]
  },
  {
   "cell_type": "code",
   "execution_count": 9,
   "metadata": {},
   "outputs": [
    {
     "name": "stdout",
     "output_type": "stream",
     "text": [
      "Train on 60000 samples, validate on 10000 samples\n",
      "Epoch 1/10\n",
      "59712/60000 [============================>.] - ETA: 0s - loss: 0.2187 - accuracy: 0.9365\n",
      "Epoch 00001: saving model to training_1/cp.ckpt\n",
      "60000/60000 [==============================] - 8s 139us/sample - loss: 0.2183 - accuracy: 0.9367 - val_loss: 0.1082 - val_accuracy: 0.9670\n",
      "Epoch 2/10\n",
      "59808/60000 [============================>.] - ETA: 0s - loss: 0.0967 - accuracy: 0.9705\n",
      "Epoch 00002: saving model to training_1/cp.ckpt\n",
      "60000/60000 [==============================] - 8s 130us/sample - loss: 0.0966 - accuracy: 0.9706 - val_loss: 0.0815 - val_accuracy: 0.9748\n",
      "Epoch 3/10\n",
      "59872/60000 [============================>.] - ETA: 0s - loss: 0.0698 - accuracy: 0.9777\n",
      "Epoch 00003: saving model to training_1/cp.ckpt\n",
      "60000/60000 [==============================] - 8s 129us/sample - loss: 0.0697 - accuracy: 0.9777 - val_loss: 0.0804 - val_accuracy: 0.9741\n",
      "Epoch 4/10\n",
      "59584/60000 [============================>.] - ETA: 0s - loss: 0.0520 - accuracy: 0.9830\n",
      "Epoch 00004: saving model to training_1/cp.ckpt\n",
      "60000/60000 [==============================] - 8s 127us/sample - loss: 0.0521 - accuracy: 0.9829 - val_loss: 0.0732 - val_accuracy: 0.9776\n",
      "Epoch 5/10\n",
      "59712/60000 [============================>.] - ETA: 0s - loss: 0.0428 - accuracy: 0.9856\n",
      "Epoch 00005: saving model to training_1/cp.ckpt\n",
      "60000/60000 [==============================] - 8s 128us/sample - loss: 0.0431 - accuracy: 0.9856 - val_loss: 0.0676 - val_accuracy: 0.9804\n",
      "Epoch 6/10\n",
      "59616/60000 [============================>.] - ETA: 0s - loss: 0.0353 - accuracy: 0.9884\n",
      "Epoch 00006: saving model to training_1/cp.ckpt\n",
      "60000/60000 [==============================] - 8s 130us/sample - loss: 0.0352 - accuracy: 0.9884 - val_loss: 0.0803 - val_accuracy: 0.9777\n",
      "Epoch 7/10\n",
      "59680/60000 [============================>.] - ETA: 0s - loss: 0.0318 - accuracy: 0.9896\n",
      "Epoch 00007: saving model to training_1/cp.ckpt\n",
      "60000/60000 [==============================] - 8s 139us/sample - loss: 0.0320 - accuracy: 0.9895 - val_loss: 0.0686 - val_accuracy: 0.9823\n",
      "Epoch 8/10\n",
      "59744/60000 [============================>.] - ETA: 0s - loss: 0.0294 - accuracy: 0.9898\n",
      "Epoch 00008: saving model to training_1/cp.ckpt\n",
      "60000/60000 [==============================] - 8s 131us/sample - loss: 0.0294 - accuracy: 0.9898 - val_loss: 0.0675 - val_accuracy: 0.9812\n",
      "Epoch 9/10\n",
      "59776/60000 [============================>.] - ETA: 0s - loss: 0.0229 - accuracy: 0.9924\n",
      "Epoch 00009: saving model to training_1/cp.ckpt\n",
      "60000/60000 [==============================] - 8s 132us/sample - loss: 0.0229 - accuracy: 0.9924 - val_loss: 0.0842 - val_accuracy: 0.9791\n",
      "Epoch 10/10\n",
      "59616/60000 [============================>.] - ETA: 0s - loss: 0.0230 - accuracy: 0.9919\n",
      "Epoch 00010: saving model to training_1/cp.ckpt\n",
      "60000/60000 [==============================] - 8s 133us/sample - loss: 0.0231 - accuracy: 0.9919 - val_loss: 0.0769 - val_accuracy: 0.9824\n"
     ]
    }
   ],
   "source": [
    "history = model.fit(img_trn, label_trn, epochs=10, validation_data = (img_tst, label_tst), callbacks=[cp_callback])"
   ]
  },
  {
   "cell_type": "code",
   "execution_count": 19,
   "metadata": {},
   "outputs": [
    {
     "name": "stdout",
     "output_type": "stream",
     "text": [
      "checkpoint\n",
      "cp.ckpt.data-00000-of-00001\n",
      "cp.ckpt.index\n"
     ]
    }
   ],
   "source": [
    "!ls {checkpoint_dir}"
   ]
  },
  {
   "cell_type": "code",
   "execution_count": 20,
   "metadata": {},
   "outputs": [
    {
     "name": "stdout",
     "output_type": "stream",
     "text": [
      "10000/10000 [==============================] - 1s 88us/sample - loss: 2.3916 - accuracy: 0.0703\n",
      "Untrained model; accuracy:  7.03%\n"
     ]
    }
   ],
   "source": [
    "model = create_model()\n",
    "loss, acc = model.evaluate(img_tst, label_tst)\n",
    "print(f'Untrained model; accuracy: {acc*100:5.2f}%')"
   ]
  },
  {
   "cell_type": "code",
   "execution_count": 21,
   "metadata": {},
   "outputs": [
    {
     "name": "stdout",
     "output_type": "stream",
     "text": [
      "10000/10000 [==============================] - 0s 46us/sample - loss: 0.0749 - accuracy: 0.9824\n",
      "Restored model; accuracy: 98.24%\n"
     ]
    }
   ],
   "source": [
    "model.load_weights(checkpoint_path)\n",
    "loss, acc = model.evaluate(img_tst, label_tst)\n",
    "print(f'Restored model; accuracy: {acc*100:5.2f}%')"
   ]
  },
  {
   "cell_type": "code",
   "execution_count": 22,
   "metadata": {},
   "outputs": [
    {
     "name": "stderr",
     "output_type": "stream",
     "text": [
      "WARNING: Logging before flag parsing goes to stderr.\n",
      "W0607 14:32:17.551599 26484 callbacks.py:859] `period` argument is deprecated. Please use `save_freq` to specify the frequency in number of samples seen.\n"
     ]
    }
   ],
   "source": [
    "checkpoint_path = 'training_2/cp-{epoch:04d}.ckpt'\n",
    "checkpoint_dir = os.path.dirname(checkpoint_path)\n",
    "cp_callback = tf.keras.callbacks.ModelCheckpoint(\n",
    "    checkpoint_path, verbose=1, save_weights_only=True, period=5)"
   ]
  },
  {
   "cell_type": "code",
   "execution_count": 18,
   "metadata": {},
   "outputs": [
    {
     "name": "stdout",
     "output_type": "stream",
     "text": [
      "\n",
      "Epoch 00005: saving model to training_2/cp-0005.ckpt\n",
      "\n",
      "Epoch 00010: saving model to training_2/cp-0010.ckpt\n",
      "\n",
      "Epoch 00015: saving model to training_2/cp-0015.ckpt\n",
      "\n",
      "Epoch 00020: saving model to training_2/cp-0020.ckpt\n",
      "\n",
      "Epoch 00025: saving model to training_2/cp-0025.ckpt\n",
      "\n",
      "Epoch 00030: saving model to training_2/cp-0030.ckpt\n",
      "\n",
      "Epoch 00035: saving model to training_2/cp-0035.ckpt\n",
      "\n",
      "Epoch 00040: saving model to training_2/cp-0040.ckpt\n",
      "\n",
      "Epoch 00045: saving model to training_2/cp-0045.ckpt\n",
      "\n",
      "Epoch 00050: saving model to training_2/cp-0050.ckpt\n"
     ]
    },
    {
     "data": {
      "text/plain": [
       "<tensorflow.python.keras.callbacks.History at 0x24fa121d278>"
      ]
     },
     "execution_count": 18,
     "metadata": {},
     "output_type": "execute_result"
    }
   ],
   "source": [
    "model = create_model()\n",
    "model.save_weights(checkpoint_path.format(epoch=0))\n",
    "model.fit(img_trn, label_trn, epochs=50, callbacks=[cp_callback], validation_data = (img_tst, label_tst), verbose=0)"
   ]
  },
  {
   "cell_type": "code",
   "execution_count": 23,
   "metadata": {},
   "outputs": [
    {
     "data": {
      "text/plain": [
       "'training_2\\\\cp-0050.ckpt'"
      ]
     },
     "execution_count": 23,
     "metadata": {},
     "output_type": "execute_result"
    }
   ],
   "source": [
    "latest = tf.train.latest_checkpoint(checkpoint_dir)\n",
    "latest"
   ]
  },
  {
   "cell_type": "code",
   "execution_count": 24,
   "metadata": {},
   "outputs": [
    {
     "name": "stdout",
     "output_type": "stream",
     "text": [
      "10000/10000 [==============================] - 0s 42us/sample - loss: 0.0749 - accuracy: 0.9824\n",
      "Restored model; accuracy: 98.24%\n"
     ]
    }
   ],
   "source": [
    "model.save_weights('./checkpoints/my_checkpoint')\n",
    "model.load_weights('./checkpoints/my_checkpoint')\n",
    "loss, acc = model.evaluate(img_tst, label_tst)\n",
    "print(f'Restored model; accuracy: {acc*100:5.2f}%')"
   ]
  },
  {
   "cell_type": "code",
   "execution_count": 25,
   "metadata": {},
   "outputs": [],
   "source": [
    "model = create_model()\n",
    "model.load_weights(latest)\n",
    "model.save('my_model.h5')"
   ]
  },
  {
   "cell_type": "code",
   "execution_count": 26,
   "metadata": {},
   "outputs": [
    {
     "name": "stderr",
     "output_type": "stream",
     "text": [
      "W0607 14:32:29.801257 26484 deprecation.py:323] From C:\\Anaconda3\\lib\\site-packages\\tensorflow\\python\\ops\\math_grad.py:1250: add_dispatch_support.<locals>.wrapper (from tensorflow.python.ops.array_ops) is deprecated and will be removed in a future version.\n",
      "Instructions for updating:\n",
      "Use tf.where in 2.0, which has the same broadcast rule as np.where\n",
      "W0607 14:32:30.048257 26484 util.py:244] Unresolved object in checkpoint: (root).optimizer.iter\n",
      "W0607 14:32:30.049259 26484 util.py:244] Unresolved object in checkpoint: (root).optimizer.learning_rate\n",
      "W0607 14:32:30.049259 26484 util.py:244] Unresolved object in checkpoint: (root).optimizer.decay\n",
      "W0607 14:32:30.050258 26484 util.py:244] Unresolved object in checkpoint: (root).optimizer.beta_1\n",
      "W0607 14:32:30.050258 26484 util.py:244] Unresolved object in checkpoint: (root).optimizer.beta_2\n",
      "W0607 14:32:30.050258 26484 util.py:244] Unresolved object in checkpoint: (root).optimizer.epsilon\n",
      "W0607 14:32:30.051259 26484 util.py:252] A checkpoint was restored (e.g. tf.train.Checkpoint.restore or tf.keras.Model.load_weights) but not all checkpointed values were used. See above for specific issues. Use expect_partial() on the load status object, e.g. tf.train.Checkpoint.restore(...).expect_partial(), to silence these warnings, or use assert_consumed() to make the check explicit. See https://www.tensorflow.org/alpha/guide/checkpoints#loading_mechanics for details.\n",
      "W0607 14:32:30.282255 26484 hdf5_format.py:192] Error in loading the saved optimizer state. As a result, your model is starting with a freshly initialized optimizer.\n"
     ]
    }
   ],
   "source": [
    "model2 = keras.models.load_model('my_model.h5')"
   ]
  },
  {
   "cell_type": "code",
   "execution_count": 27,
   "metadata": {},
   "outputs": [
    {
     "name": "stdout",
     "output_type": "stream",
     "text": [
      "10000/10000 [==============================] - 0s 50us/sample - loss: 0.1250 - accuracy: 0.9832\n",
      "Restored model; accuracy: 98.32%\n"
     ]
    }
   ],
   "source": [
    "loss, acc = model2.evaluate(img_tst, label_tst)\n",
    "print(f'Restored model; accuracy: {acc*100:5.2f}%')"
   ]
  },
  {
   "cell_type": "code",
   "execution_count": null,
   "metadata": {},
   "outputs": [],
   "source": []
  }
 ],
 "metadata": {
  "kernelspec": {
   "display_name": "Python 3",
   "language": "python",
   "name": "python3"
  },
  "language_info": {
   "codemirror_mode": {
    "name": "ipython",
    "version": 3
   },
   "file_extension": ".py",
   "mimetype": "text/x-python",
   "name": "python",
   "nbconvert_exporter": "python",
   "pygments_lexer": "ipython3",
   "version": "3.7.3"
  }
 },
 "nbformat": 4,
 "nbformat_minor": 2
}
