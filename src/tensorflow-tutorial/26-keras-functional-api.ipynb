{
 "cells": [
  {
   "cell_type": "code",
   "execution_count": 1,
   "metadata": {},
   "outputs": [],
   "source": [
    "# Library imports\n",
    "import tensorflow as tf\n",
    "import numpy as np\n",
    "keras = tf.keras\n",
    "import matplotlib.pyplot as plt\n",
    "import os\n",
    "import sys"
   ]
  },
  {
   "cell_type": "code",
   "execution_count": 2,
   "metadata": {},
   "outputs": [],
   "source": [
    "# Add src directory to path for local imports\n",
    "module_path = os.path.abspath(os.path.join('..'))\n",
    "if module_path not in sys.path:\n",
    "    sys.path.append(module_path)\n",
    "\n",
    "# Local imports\n",
    "from utils import gpu_grow_memory"
   ]
  },
  {
   "cell_type": "code",
   "execution_count": 3,
   "metadata": {},
   "outputs": [],
   "source": [
    "gpu_grow_memory()"
   ]
  },
  {
   "cell_type": "code",
   "execution_count": 4,
   "metadata": {},
   "outputs": [],
   "source": [
    "(img_trn, label_trn), (img_tst, label_tst) = tf.keras.datasets.mnist.load_data()"
   ]
  },
  {
   "cell_type": "code",
   "execution_count": 5,
   "metadata": {},
   "outputs": [],
   "source": [
    "img_trn = img_trn.reshape((-1, 28, 28, 1))\n",
    "img_tst = img_tst.reshape((-1, 28, 28, 1))"
   ]
  },
  {
   "cell_type": "code",
   "execution_count": 6,
   "metadata": {},
   "outputs": [],
   "source": [
    "img_trn = img_trn / 255.0\n",
    "img_tst = img_tst / 255.0"
   ]
  },
  {
   "cell_type": "code",
   "execution_count": 17,
   "metadata": {},
   "outputs": [],
   "source": [
    "del inputs, x1, x2, outputs, model"
   ]
  },
  {
   "cell_type": "code",
   "execution_count": 24,
   "metadata": {},
   "outputs": [],
   "source": [
    "inputs = keras.Input(shape=(28, 28, 1,), name='img')\n",
    "x0 = keras.layers.Flatten()(inputs)\n",
    "x1 = keras.layers.Dense(units=64, activation='relu', name='dense_1')(x0)\n",
    "x2 = keras.layers.Dense(units=64, activation='relu', name='dense_2')(x1)\n",
    "outputs = keras.layers.Dense(units=10, activation='softmax', name='outputs')(x2)\n",
    "\n",
    "model = keras.Model(inputs=inputs, outputs=outputs, name='img_classifier')"
   ]
  },
  {
   "cell_type": "code",
   "execution_count": 25,
   "metadata": {},
   "outputs": [
    {
     "name": "stdout",
     "output_type": "stream",
     "text": [
      "Model: \"img_classifier\"\n",
      "_________________________________________________________________\n",
      "Layer (type)                 Output Shape              Param #   \n",
      "=================================================================\n",
      "img (InputLayer)             [(None, 28, 28, 1)]       0         \n",
      "_________________________________________________________________\n",
      "flatten (Flatten)            (None, 784)               0         \n",
      "_________________________________________________________________\n",
      "dense_1 (Dense)              (None, 64)                50240     \n",
      "_________________________________________________________________\n",
      "dense_2 (Dense)              (None, 64)                4160      \n",
      "_________________________________________________________________\n",
      "outputs (Dense)              (None, 10)                650       \n",
      "=================================================================\n",
      "Total params: 55,050\n",
      "Trainable params: 55,050\n",
      "Non-trainable params: 0\n",
      "_________________________________________________________________\n"
     ]
    }
   ],
   "source": [
    "model.summary()"
   ]
  },
  {
   "cell_type": "code",
   "execution_count": 28,
   "metadata": {},
   "outputs": [
    {
     "data": {
      "image/png": "[encoded data removed]",
      "text/plain": [
       "<IPython.core.display.Image object>"
      ]
     },
     "execution_count": 28,
     "metadata": {},
     "output_type": "execute_result"
    }
   ],
   "source": [
    "keras.utils.plot_model(model, 'my_model.png', show_shapes=True)"
   ]
  },
  {
   "cell_type": "code",
   "execution_count": 29,
   "metadata": {},
   "outputs": [
    {
     "data": {
      "text/plain": [
       "(60000, 28, 28, 1)"
      ]
     },
     "execution_count": 29,
     "metadata": {},
     "output_type": "execute_result"
    }
   ],
   "source": [
    "img_trn.shape"
   ]
  },
  {
   "cell_type": "code",
   "execution_count": 30,
   "metadata": {},
   "outputs": [
    {
     "data": {
      "text/plain": [
       "(60000,)"
      ]
     },
     "execution_count": 30,
     "metadata": {},
     "output_type": "execute_result"
    }
   ],
   "source": [
    "label_trn.shape"
   ]
  },
  {
   "cell_type": "code",
   "execution_count": 31,
   "metadata": {},
   "outputs": [
    {
     "name": "stderr",
     "output_type": "stream",
     "text": [
      "WARNING: Logging before flag parsing goes to stderr.\n",
      "W0617 14:37:35.283347 32020 deprecation.py:323] From C:\\Anaconda3\\lib\\site-packages\\tensorflow\\python\\ops\\math_grad.py:1250: add_dispatch_support.<locals>.wrapper (from tensorflow.python.ops.array_ops) is deprecated and will be removed in a future version.\n",
      "Instructions for updating:\n",
      "Use tf.where in 2.0, which has the same broadcast rule as np.where\n"
     ]
    },
    {
     "name": "stdout",
     "output_type": "stream",
     "text": [
      "Train on 48000 samples, validate on 12000 samples\n",
      "Epoch 1/10\n",
      "48000/48000 [==============================] - 3s 63us/sample - loss: 0.3476 - accuracy: 0.9005 - val_loss: 0.1875 - val_accuracy: 0.9443\n",
      "Epoch 2/10\n",
      "48000/48000 [==============================] - 2s 52us/sample - loss: 0.1599 - accuracy: 0.9521 - val_loss: 0.1400 - val_accuracy: 0.9606\n",
      "Epoch 3/10\n",
      "48000/48000 [==============================] - 2s 49us/sample - loss: 0.1166 - accuracy: 0.9655 - val_loss: 0.1213 - val_accuracy: 0.9634\n",
      "Epoch 4/10\n",
      "48000/48000 [==============================] - 2s 50us/sample - loss: 0.0928 - accuracy: 0.9725 - val_loss: 0.1095 - val_accuracy: 0.9674\n",
      "Epoch 5/10\n",
      "48000/48000 [==============================] - 2s 49us/sample - loss: 0.0786 - accuracy: 0.9766 - val_loss: 0.0985 - val_accuracy: 0.9718\n",
      "Epoch 6/10\n",
      "48000/48000 [==============================] - 2s 50us/sample - loss: 0.0658 - accuracy: 0.9802 - val_loss: 0.0990 - val_accuracy: 0.9710\n",
      "Epoch 7/10\n",
      "48000/48000 [==============================] - 2s 51us/sample - loss: 0.0573 - accuracy: 0.9834 - val_loss: 0.1066 - val_accuracy: 0.9714\n",
      "Epoch 8/10\n",
      "48000/48000 [==============================] - 2s 49us/sample - loss: 0.0497 - accuracy: 0.9850 - val_loss: 0.1013 - val_accuracy: 0.9731\n",
      "Epoch 9/10\n",
      "48000/48000 [==============================] - 2s 51us/sample - loss: 0.0437 - accuracy: 0.9864 - val_loss: 0.1124 - val_accuracy: 0.9723\n",
      "Epoch 10/10\n",
      "48000/48000 [==============================] - 2s 49us/sample - loss: 0.0370 - accuracy: 0.9886 - val_loss: 0.1047 - val_accuracy: 0.9738\n"
     ]
    }
   ],
   "source": [
    "model.compile(loss='sparse_categorical_crossentropy', optimizer=keras.optimizers.RMSprop(), metrics=['accuracy'])\n",
    "\n",
    "history = model.fit(img_trn, label_trn, batch_size=64, epochs=10, validation_split=0.20)"
   ]
  },
  {
   "cell_type": "code",
   "execution_count": 32,
   "metadata": {},
   "outputs": [
    {
     "name": "stdout",
     "output_type": "stream",
     "text": [
      "10000/10000 [==============================] - 1s 56us/sample - loss: 0.0935 - accuracy: 0.9753\n"
     ]
    }
   ],
   "source": [
    "scores_test = model.evaluate(img_tst, label_tst)"
   ]
  },
  {
   "cell_type": "code",
   "execution_count": 33,
   "metadata": {},
   "outputs": [
    {
     "name": "stdout",
     "output_type": "stream",
     "text": [
      "Test loss 0.093\n",
      "Test accuracy 0.975\n"
     ]
    }
   ],
   "source": [
    "print(f'Test loss {scores_test[0]:5.3f}')\n",
    "print(f'Test accuracy {scores_test[1]:5.3f}')"
   ]
  },
  {
   "cell_type": "code",
   "execution_count": 50,
   "metadata": {},
   "outputs": [],
   "source": [
    "encoder_input = keras.Input(shape=(28, 28, 1), name='image')\n",
    "x1 = keras.layers.Conv2D(filters=16, kernel_size=(3,3,), activation='relu', name='conv_1')(encoder_input)\n",
    "x2 = keras.layers.Conv2D(filters=32, kernel_size=(3,3,), activation='relu', name='conv_2')(x1)\n",
    "x3 = keras.layers.MaxPooling2D(pool_size=(3,3,), name='pool_3')(x2)\n",
    "x4 = keras.layers.Conv2D(filters=32, kernel_size=(3,3,), activation='relu', name='conv_4')(x3)\n",
    "x5 = keras.layers.Conv2D(filters=16, kernel_size=(3,3,), activation='relu', name='conv_5')(x4)\n",
    "encoder_output = keras.layers.GlobalMaxPooling2D(name='pool_6')(x5)"
   ]
  },
  {
   "cell_type": "code",
   "execution_count": 51,
   "metadata": {},
   "outputs": [
    {
     "name": "stdout",
     "output_type": "stream",
     "text": [
      "Model: \"encoder\"\n",
      "_________________________________________________________________\n",
      "Layer (type)                 Output Shape              Param #   \n",
      "=================================================================\n",
      "image (InputLayer)           [(None, 28, 28, 1)]       0         \n",
      "_________________________________________________________________\n",
      "conv_1 (Conv2D)              (None, 26, 26, 16)        160       \n",
      "_________________________________________________________________\n",
      "conv_2 (Conv2D)              (None, 24, 24, 32)        4640      \n",
      "_________________________________________________________________\n",
      "pool_3 (MaxPooling2D)        (None, 8, 8, 32)          0         \n",
      "_________________________________________________________________\n",
      "conv_4 (Conv2D)              (None, 6, 6, 32)          9248      \n",
      "_________________________________________________________________\n",
      "conv_5 (Conv2D)              (None, 4, 4, 16)          4624      \n",
      "_________________________________________________________________\n",
      "pool_6 (GlobalMaxPooling2D)  (None, 16)                0         \n",
      "=================================================================\n",
      "Total params: 18,672\n",
      "Trainable params: 18,672\n",
      "Non-trainable params: 0\n",
      "_________________________________________________________________\n"
     ]
    }
   ],
   "source": [
    "encoder = keras.Model(encoder_input, encoder_output, name='encoder')\n",
    "encoder.summary()"
   ]
  },
  {
   "cell_type": "code",
   "execution_count": 63,
   "metadata": {},
   "outputs": [],
   "source": [
    "x7 = keras.layers.Reshape((4,4,1,), name='reshape_7')(encoder_output)\n",
    "x8 = keras.layers.Conv2DTranspose(filters=16, kernel_size=(3,3,), activation='relu', name='deconv_8')(x7)\n",
    "x9 = keras.layers.Conv2DTranspose(filters=32, kernel_size=(3,3,), activation='relu', name='deconv_9')(x8)\n",
    "x10 = keras.layers.UpSampling2D(size=(3,3,), name='up_sample_10')(x9)\n",
    "x11 = keras.layers.Conv2DTranspose(filters=16, kernel_size=(3,3,), activation='relu', name='deconv_11')(x10)\n",
    "decoder_output = keras.layers.Conv2DTranspose(filters=1, kernel_size=(3,3,), activation='relu', name='deconv_12')(x11)"
   ]
  },
  {
   "cell_type": "code",
   "execution_count": 65,
   "metadata": {},
   "outputs": [
    {
     "name": "stdout",
     "output_type": "stream",
     "text": [
      "Model: \"autoencoder\"\n",
      "_________________________________________________________________\n",
      "Layer (type)                 Output Shape              Param #   \n",
      "=================================================================\n",
      "image (InputLayer)           [(None, 28, 28, 1)]       0         \n",
      "_________________________________________________________________\n",
      "conv_1 (Conv2D)              (None, 26, 26, 16)        160       \n",
      "_________________________________________________________________\n",
      "conv_2 (Conv2D)              (None, 24, 24, 32)        4640      \n",
      "_________________________________________________________________\n",
      "pool_3 (MaxPooling2D)        (None, 8, 8, 32)          0         \n",
      "_________________________________________________________________\n",
      "conv_4 (Conv2D)              (None, 6, 6, 32)          9248      \n",
      "_________________________________________________________________\n",
      "conv_5 (Conv2D)              (None, 4, 4, 16)          4624      \n",
      "_________________________________________________________________\n",
      "pool_6 (GlobalMaxPooling2D)  (None, 16)                0         \n",
      "_________________________________________________________________\n",
      "reshape_7 (Reshape)          (None, 4, 4, 1)           0         \n",
      "_________________________________________________________________\n",
      "deconv_8 (Conv2DTranspose)   (None, 6, 6, 16)          160       \n",
      "_________________________________________________________________\n",
      "deconv_9 (Conv2DTranspose)   (None, 8, 8, 32)          4640      \n",
      "_________________________________________________________________\n",
      "up_sample_10 (UpSampling2D)  (None, 24, 24, 32)        0         \n",
      "_________________________________________________________________\n",
      "deconv_11 (Conv2DTranspose)  (None, 26, 26, 16)        4624      \n",
      "_________________________________________________________________\n",
      "deconv_12 (Conv2DTranspose)  (None, 28, 28, 1)         145       \n",
      "=================================================================\n",
      "Total params: 28,241\n",
      "Trainable params: 28,241\n",
      "Non-trainable params: 0\n",
      "_________________________________________________________________\n"
     ]
    }
   ],
   "source": [
    "autoencoder = keras.Model(encoder_input, decoder_output, name='autoencoder')\n",
    "autoencoder.summary()"
   ]
  },
  {
   "cell_type": "code",
   "execution_count": 67,
   "metadata": {},
   "outputs": [],
   "source": [
    "decoder_input = keras.Input(shape=(16,), name='encoded_image')\n",
    "x7 = keras.layers.Reshape((4,4,1,), name='reshape_7')(decoder_input)\n",
    "x8 = keras.layers.Conv2DTranspose(filters=16, kernel_size=(3,3,), activation='relu', name='deconv_8')(x7)\n",
    "x9 = keras.layers.Conv2DTranspose(filters=32, kernel_size=(3,3,), activation='relu', name='deconv_9')(x8)\n",
    "x10 = keras.layers.UpSampling2D(size=(3,3,), name='up_sample_10')(x9)\n",
    "x11 = keras.layers.Conv2DTranspose(filters=16, kernel_size=(3,3,), activation='relu', name='deconv_11')(x10)\n",
    "decoder_output = keras.layers.Conv2DTranspose(filters=1, kernel_size=(3,3,), activation='relu', name='deconv_12')(x11)"
   ]
  },
  {
   "cell_type": "code",
   "execution_count": 68,
   "metadata": {},
   "outputs": [
    {
     "name": "stdout",
     "output_type": "stream",
     "text": [
      "Model: \"decoder\"\n",
      "_________________________________________________________________\n",
      "Layer (type)                 Output Shape              Param #   \n",
      "=================================================================\n",
      "encoded_image (InputLayer)   [(None, 16)]              0         \n",
      "_________________________________________________________________\n",
      "reshape_7 (Reshape)          (None, 4, 4, 1)           0         \n",
      "_________________________________________________________________\n",
      "deconv_8 (Conv2DTranspose)   (None, 6, 6, 16)          160       \n",
      "_________________________________________________________________\n",
      "deconv_9 (Conv2DTranspose)   (None, 8, 8, 32)          4640      \n",
      "_________________________________________________________________\n",
      "up_sample_10 (UpSampling2D)  (None, 24, 24, 32)        0         \n",
      "_________________________________________________________________\n",
      "deconv_11 (Conv2DTranspose)  (None, 26, 26, 16)        4624      \n",
      "_________________________________________________________________\n",
      "deconv_12 (Conv2DTranspose)  (None, 28, 28, 1)         145       \n",
      "=================================================================\n",
      "Total params: 9,569\n",
      "Trainable params: 9,569\n",
      "Non-trainable params: 0\n",
      "_________________________________________________________________\n"
     ]
    }
   ],
   "source": [
    "decoder = keras.Model(decoder_input, decoder_output, name='decoder')\n",
    "decoder.summary()"
   ]
  },
  {
   "cell_type": "code",
   "execution_count": 70,
   "metadata": {},
   "outputs": [],
   "source": [
    "autoencoder_input = keras.Input(shape=(28,28,1,), name='image')\n",
    "encoded_img = encoder(autoencoder_input)\n",
    "decoded_img = decoder(encoded_img)\n",
    "autoencoder = keras.Model(autoencoder_input, decoded_img, name='autoencoder')"
   ]
  },
  {
   "cell_type": "code",
   "execution_count": 71,
   "metadata": {},
   "outputs": [
    {
     "name": "stdout",
     "output_type": "stream",
     "text": [
      "Model: \"autoencoder\"\n",
      "_________________________________________________________________\n",
      "Layer (type)                 Output Shape              Param #   \n",
      "=================================================================\n",
      "image (InputLayer)           [(None, 28, 28, 1)]       0         \n",
      "_________________________________________________________________\n",
      "encoder (Model)              (None, 16)                18672     \n",
      "_________________________________________________________________\n",
      "decoder (Model)              (None, 28, 28, 1)         9569      \n",
      "=================================================================\n",
      "Total params: 28,241\n",
      "Trainable params: 28,241\n",
      "Non-trainable params: 0\n",
      "_________________________________________________________________\n"
     ]
    }
   ],
   "source": [
    "autoencoder.summary()"
   ]
  },
  {
   "cell_type": "code",
   "execution_count": 81,
   "metadata": {},
   "outputs": [],
   "source": [
    "num_tags = 12\n",
    "num_words = 10000\n",
    "num_depts = 4\n",
    "\n",
    "input_title = keras.Input(shape=(None,), name='title')\n",
    "input_body = keras.Input(shape=(None,), name='body')\n",
    "input_tags = keras.Input(shape=(num_tags,), name='tags')\n",
    "inputs = [input_title, input_body, input_tags]\n",
    "\n",
    "# feat_title = keras.layers.Embedding(num_words, 64, name='embed_title')(input_title)\n",
    "# feat_body = keras.layers.Embedding(num_words, 64, name='embed_body')(input_body)\n",
    "\n",
    "embed = keras.layers.Embedding(num_words, 64, name='embed_words')\n",
    "feat_title = embed(input_title)\n",
    "feat_body = embed(input_body)\n",
    "\n",
    "# x_title = keras.layers.LSTM(128, name='lstm_title')(feat_title)\n",
    "# x_body = keras.layers.LSTM(128, name='lstm_body')(feat_body)\n",
    "lstm = keras.layers.LSTM(128, name='lstm_words')\n",
    "x_title = lstm(feat_title)\n",
    "x_body = lstm(feat_body)\n",
    "\n",
    "x = keras.layers.concatenate([x_title, x_body, input_tags])\n",
    "\n",
    "pred_priority = keras.layers.Dense(units=1, activation='sigmoid', name='priority')(x)\n",
    "pred_dept = keras.layers.Dense(units=num_depts, activation='softmax', name='dept')(x)\n",
    "outputs= [pred_priority, pred_dept]\n",
    "\n",
    "model = keras.Model(inputs=inputs, outputs=outputs)"
   ]
  },
  {
   "cell_type": "code",
   "execution_count": 82,
   "metadata": {},
   "outputs": [
    {
     "name": "stdout",
     "output_type": "stream",
     "text": [
      "Model: \"model_3\"\n",
      "__________________________________________________________________________________________________\n",
      "Layer (type)                    Output Shape         Param #     Connected to                     \n",
      "==================================================================================================\n",
      "title (InputLayer)              [(None, None)]       0                                            \n",
      "__________________________________________________________________________________________________\n",
      "body (InputLayer)               [(None, None)]       0                                            \n",
      "__________________________________________________________________________________________________\n",
      "embed_words (Embedding)         (None, None, 64)     640000      title[0][0]                      \n",
      "                                                                 body[0][0]                       \n",
      "__________________________________________________________________________________________________\n",
      "lstm_words (LSTM)               (None, 128)          98816       embed_words[0][0]                \n",
      "                                                                 embed_words[1][0]                \n",
      "__________________________________________________________________________________________________\n",
      "tags (InputLayer)               [(None, 12)]         0                                            \n",
      "__________________________________________________________________________________________________\n",
      "concatenate_2 (Concatenate)     (None, 268)          0           lstm_words[0][0]                 \n",
      "                                                                 lstm_words[1][0]                 \n",
      "                                                                 tags[0][0]                       \n",
      "__________________________________________________________________________________________________\n",
      "priority (Dense)                (None, 1)            269         concatenate_2[0][0]              \n",
      "__________________________________________________________________________________________________\n",
      "dept (Dense)                    (None, 4)            1076        concatenate_2[0][0]              \n",
      "==================================================================================================\n",
      "Total params: 740,161\n",
      "Trainable params: 740,161\n",
      "Non-trainable params: 0\n",
      "__________________________________________________________________________________________________\n"
     ]
    }
   ],
   "source": [
    "model.summary()"
   ]
  },
  {
   "cell_type": "code",
   "execution_count": 83,
   "metadata": {},
   "outputs": [
    {
     "data": {
      "image/png": "[encoded data removed]",
      "text/plain": [
       "<IPython.core.display.Image object>"
      ]
     },
     "execution_count": 83,
     "metadata": {},
     "output_type": "execute_result"
    }
   ],
   "source": [
    "keras.utils.plot_model(model, show_shapes=True)"
   ]
  },
  {
   "cell_type": "code",
   "execution_count": 84,
   "metadata": {},
   "outputs": [],
   "source": [
    "model.compile(optimizer=keras.optimizers.RMSprop(0.001), \n",
    "              loss={'priority':'binary_crossentropy', 'dept':'categorical_crossentropy'},\n",
    "              loss_weights=[1.0, 0.2])"
   ]
  },
  {
   "cell_type": "code",
   "execution_count": 86,
   "metadata": {},
   "outputs": [],
   "source": [
    "data_title = np.random.randint(num_words, size=(1280, 10))\n",
    "data_body = np.random.randint(num_words, size=(1280, 100))\n",
    "data_tags = np.random.randint(2, size=(1280, num_tags)).astype('float32')\n",
    "\n",
    "targets_priority = np.random.random(size=(1280,1))\n",
    "targets_dept = np.random.randint(2, size=(1280,num_depts))"
   ]
  },
  {
   "cell_type": "code",
   "execution_count": 87,
   "metadata": {},
   "outputs": [
    {
     "name": "stdout",
     "output_type": "stream",
     "text": [
      "Train on 1280 samples\n",
      "Epoch 1/2\n",
      "1280/1280 [==============================] - 29s 22ms/sample - loss: 1.2522 - priority_loss: 0.6966 - dept_loss: 2.7779\n",
      "Epoch 2/2\n",
      "1280/1280 [==============================] - 28s 22ms/sample - loss: 1.2254 - priority_loss: 0.6744 - dept_loss: 2.7549\n"
     ]
    },
    {
     "data": {
      "text/plain": [
       "<tensorflow.python.keras.callbacks.History at 0x27534c71320>"
      ]
     },
     "execution_count": 87,
     "metadata": {},
     "output_type": "execute_result"
    }
   ],
   "source": [
    "model.fit({'title': data_title, 'body': data_body, 'tags': data_tags},\n",
    "          {'priority': targets_priority, 'dept': targets_dept},\n",
    "          epochs=1,\n",
    "          batch_size=32)"
   ]
  },
  {
   "cell_type": "code",
   "execution_count": null,
   "metadata": {},
   "outputs": [],
   "source": []
  }
 ],
 "metadata": {
  "kernelspec": {
   "display_name": "Python 3",
   "language": "python",
   "name": "python3"
  },
  "language_info": {
   "codemirror_mode": {
    "name": "ipython",
    "version": 3
   },
   "file_extension": ".py",
   "mimetype": "text/x-python",
   "name": "python",
   "nbconvert_exporter": "python",
   "pygments_lexer": "ipython3",
   "version": "3.7.3"
  }
 },
 "nbformat": 4,
 "nbformat_minor": 2
}
