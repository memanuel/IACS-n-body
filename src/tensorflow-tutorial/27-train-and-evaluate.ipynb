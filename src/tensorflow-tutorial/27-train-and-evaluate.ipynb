{
 "cells": [
  {
   "cell_type": "code",
   "execution_count": 1,
   "metadata": {},
   "outputs": [],
   "source": [
    "# Library imports\n",
    "import tensorflow as tf\n",
    "keras = tf.keras\n",
    "import numpy as np\n",
    "import matplotlib.pyplot as plt\n",
    "import os\n",
    "import sys"
   ]
  },
  {
   "cell_type": "code",
   "execution_count": 2,
   "metadata": {},
   "outputs": [],
   "source": [
    "# Add src directory to path for local imports\n",
    "module_path = os.path.abspath(os.path.join('..'))\n",
    "if module_path not in sys.path:\n",
    "    sys.path.append(module_path)\n",
    "\n",
    "# Local imports\n",
    "from utils import gpu_grow_memory"
   ]
  },
  {
   "cell_type": "code",
   "execution_count": 3,
   "metadata": {},
   "outputs": [],
   "source": [
    "gpu_grow_memory()"
   ]
  },
  {
   "cell_type": "code",
   "execution_count": 4,
   "metadata": {},
   "outputs": [],
   "source": [
    "tf.keras.backend.clear_session()"
   ]
  },
  {
   "cell_type": "code",
   "execution_count": 5,
   "metadata": {},
   "outputs": [],
   "source": [
    "inputs = keras.Input(shape=(784,), name='digits')\n",
    "x1 = keras.layers.Dense(units=64, activation='relu', name='dense_1')(inputs)\n",
    "x2 = keras.layers.Dense(units=64, activation='relu', name='dense_2')(x1)\n",
    "outputs = keras.layers.Dense(units=10, activation='softmax', name='predictions')(x2)\n",
    "\n",
    "model = keras.Model(inputs=inputs, outputs=outputs)"
   ]
  },
  {
   "cell_type": "code",
   "execution_count": 6,
   "metadata": {},
   "outputs": [
    {
     "data": {
      "image/png": "[encoded data removed]",
      "text/plain": [
       "<IPython.core.display.Image object>"
      ]
     },
     "execution_count": 6,
     "metadata": {},
     "output_type": "execute_result"
    }
   ],
   "source": [
    "keras.utils.plot_model(model, show_shapes=True)"
   ]
  },
  {
   "cell_type": "code",
   "execution_count": 7,
   "metadata": {},
   "outputs": [
    {
     "name": "stdout",
     "output_type": "stream",
     "text": [
      "Model: \"model\"\n",
      "_________________________________________________________________\n",
      "Layer (type)                 Output Shape              Param #   \n",
      "=================================================================\n",
      "digits (InputLayer)          [(None, 784)]             0         \n",
      "_________________________________________________________________\n",
      "dense_1 (Dense)              (None, 64)                50240     \n",
      "_________________________________________________________________\n",
      "dense_2 (Dense)              (None, 64)                4160      \n",
      "_________________________________________________________________\n",
      "predictions (Dense)          (None, 10)                650       \n",
      "=================================================================\n",
      "Total params: 55,050\n",
      "Trainable params: 55,050\n",
      "Non-trainable params: 0\n",
      "_________________________________________________________________\n"
     ]
    }
   ],
   "source": [
    "model.summary()"
   ]
  },
  {
   "cell_type": "code",
   "execution_count": 8,
   "metadata": {},
   "outputs": [
    {
     "name": "stdout",
     "output_type": "stream",
     "text": [
      "Size of data sets:\n",
      "x_trn: 50000\n",
      "x_val: 10000\n"
     ]
    }
   ],
   "source": [
    "(x_trn, y_trn), (x_tst, y_tst) = keras.datasets.mnist.load_data()\n",
    "\n",
    "x_trn = x_trn.reshape(-1, 784).astype(np.float32) / 255.0\n",
    "x_tst = x_tst.reshape(-1, 784).astype(np.float32) / 255.0\n",
    "\n",
    "x_val = x_trn[-10000:]\n",
    "y_val = y_trn[-10000:]\n",
    "\n",
    "x_trn = x_trn[0:-10000]\n",
    "y_trn = y_trn[0:-10000]\n",
    "\n",
    "print(f'Size of data sets:')\n",
    "print(f'x_trn: {len(x_trn)}')\n",
    "print(f'x_val: {len(x_val)}')"
   ]
  },
  {
   "cell_type": "code",
   "execution_count": 9,
   "metadata": {},
   "outputs": [],
   "source": [
    "model.compile(optimizer=keras.optimizers.RMSprop(),\n",
    "             loss=keras.losses.SparseCategoricalCrossentropy(),\n",
    "             metrics=[keras.metrics.SparseCategoricalAccuracy()])"
   ]
  },
  {
   "cell_type": "code",
   "execution_count": 10,
   "metadata": {},
   "outputs": [
    {
     "name": "stderr",
     "output_type": "stream",
     "text": [
      "WARNING: Logging before flag parsing goes to stderr.\n",
      "W0618 13:09:01.455679 19256 deprecation.py:323] From C:\\Anaconda3\\lib\\site-packages\\tensorflow\\python\\ops\\math_grad.py:1250: add_dispatch_support.<locals>.wrapper (from tensorflow.python.ops.array_ops) is deprecated and will be removed in a future version.\n",
      "Instructions for updating:\n",
      "Use tf.where in 2.0, which has the same broadcast rule as np.where\n"
     ]
    },
    {
     "name": "stdout",
     "output_type": "stream",
     "text": [
      "Train on 50000 samples, validate on 10000 samples\n",
      "Epoch 1/3\n",
      "50000/50000 [==============================] - 3s 56us/sample - loss: 0.3432 - sparse_categorical_accuracy: 0.9009 - val_loss: 0.1697 - val_sparse_categorical_accuracy: 0.9524\n",
      "Epoch 2/3\n",
      "50000/50000 [==============================] - 2s 41us/sample - loss: 0.1603 - sparse_categorical_accuracy: 0.9517 - val_loss: 0.1380 - val_sparse_categorical_accuracy: 0.9591\n",
      "Epoch 3/3\n",
      "50000/50000 [==============================] - 2s 43us/sample - loss: 0.1179 - sparse_categorical_accuracy: 0.9640 - val_loss: 0.1100 - val_sparse_categorical_accuracy: 0.9688\n"
     ]
    }
   ],
   "source": [
    "history = model.fit(x_trn, y_trn, batch_size=64, epochs=3, validation_data=(x_val, y_val))"
   ]
  },
  {
   "cell_type": "code",
   "execution_count": 11,
   "metadata": {},
   "outputs": [
    {
     "data": {
      "text/plain": [
       "{'loss': [0.3431918296146393, 0.16029592137813567, 0.11788016517877578],\n",
       " 'sparse_categorical_accuracy': [0.90094, 0.95166, 0.96396],\n",
       " 'val_loss': [0.1697282565832138, 0.13800958701074123, 0.10998089208602906],\n",
       " 'val_sparse_categorical_accuracy': [0.9524, 0.9591, 0.9688]}"
      ]
     },
     "execution_count": 11,
     "metadata": {},
     "output_type": "execute_result"
    }
   ],
   "source": [
    "history.history"
   ]
  },
  {
   "cell_type": "code",
   "execution_count": 12,
   "metadata": {},
   "outputs": [
    {
     "name": "stdout",
     "output_type": "stream",
     "text": [
      "10000/10000 [==============================] - 0s 14us/sample - loss: 0.1057 - sparse_categorical_accuracy: 0.9679\n"
     ]
    }
   ],
   "source": [
    "results = model.evaluate(x_tst, y_tst, batch_size=128)"
   ]
  },
  {
   "cell_type": "code",
   "execution_count": 13,
   "metadata": {},
   "outputs": [
    {
     "data": {
      "text/plain": [
       "[0.1057437670454383, 0.9679]"
      ]
     },
     "execution_count": 13,
     "metadata": {},
     "output_type": "execute_result"
    }
   ],
   "source": [
    "results"
   ]
  },
  {
   "cell_type": "code",
   "execution_count": 14,
   "metadata": {},
   "outputs": [],
   "source": [
    "pred = model.predict(x_tst)"
   ]
  },
  {
   "cell_type": "code",
   "execution_count": 15,
   "metadata": {},
   "outputs": [
    {
     "data": {
      "text/plain": [
       "array([2.7826511e-08, 1.3845968e-06, 3.4928056e-05, 9.6813026e-05,\n",
       "       2.9448124e-11, 6.4331789e-07, 2.4216204e-11, 9.9986577e-01,\n",
       "       3.5006889e-07, 1.8244140e-07], dtype=float32)"
      ]
     },
     "execution_count": 15,
     "metadata": {},
     "output_type": "execute_result"
    }
   ],
   "source": [
    "pred[0]"
   ]
  },
  {
   "cell_type": "code",
   "execution_count": 16,
   "metadata": {},
   "outputs": [
    {
     "data": {
      "text/plain": [
       "<matplotlib.image.AxesImage at 0x27c4643f8d0>"
      ]
     },
     "execution_count": 16,
     "metadata": {},
     "output_type": "execute_result"
    },
    {
     "data": {
      "image/png": "[encoded data removed]",
      "text/plain": [
       "<Figure size 432x288 with 1 Axes>"
      ]
     },
     "metadata": {
      "needs_background": "light"
     },
     "output_type": "display_data"
    }
   ],
   "source": [
    "plt.imshow(x_tst[0].reshape(28,28))"
   ]
  },
  {
   "cell_type": "code",
   "execution_count": 17,
   "metadata": {},
   "outputs": [],
   "source": [
    "def make_model_uncompiled():\n",
    "    inputs = keras.Input(shape=(784,), name='digits')\n",
    "    x1 = keras.layers.Dense(units=64, activation='relu', name='dense_1')(inputs)\n",
    "    x2 = keras.layers.Dense(units=64, activation='relu', name='dense_2')(x1)\n",
    "    outputs = keras.layers.Dense(units=10, activation='softmax', name='predictions')(x2)\n",
    "\n",
    "    model = keras.Model(inputs=inputs, outputs=outputs)\n",
    "    return model"
   ]
  },
  {
   "cell_type": "code",
   "execution_count": 18,
   "metadata": {},
   "outputs": [],
   "source": [
    "def make_model_compiled():\n",
    "    model = make_model_uncompiled()\n",
    "    model.compile(optimizer=keras.optimizers.RMSprop(learning_rate=1.0E-3),\n",
    "                  loss = keras.losses.SparseCategoricalCrossentropy(),\n",
    "                  metrics=[keras.metrics.SparseCategoricalAccuracy()])\n",
    "    return model"
   ]
  },
  {
   "cell_type": "code",
   "execution_count": 19,
   "metadata": {},
   "outputs": [],
   "source": [
    "class CategoricalTruePositives(keras.metrics.Metric):\n",
    "    def __init__(self, name='categorical_true_positives', **kwargs):\n",
    "        super(CategoricalTruePositives, self).__init__(name=name, **kwargs)\n",
    "        self.true_positives = self.add_weight(name='tp', initializer='zeros')\n",
    "    \n",
    "    def update_state(self, y_true, y_pred, sample_weight=None):\n",
    "        y_pred = tf.argmax(y_pred)\n",
    "        values = tf.equal(tf.cast(y_true, tf.int32), tf.cast(y_pred, tf.int32))\n",
    "        values = tf.cast(values, tf.float32)\n",
    "        if sample_weight is not None:\n",
    "            sample_weight = tf.cast(sample_weight, tf.float32)\n",
    "            values = tf.multiply(values, sample_weight)\n",
    "        self.true_positives.assign_add(tf.reduce_sum(values))\n",
    "        \n",
    "    def result(self):\n",
    "        return self.true_positives\n",
    "    \n",
    "    def reset_states(self):\n",
    "        self.true_positives.assign(0.0)"
   ]
  },
  {
   "cell_type": "code",
   "execution_count": 20,
   "metadata": {},
   "outputs": [],
   "source": [
    "model.compile(optimizer=keras.optimizers.RMSprop(learning_rate=1.0E-3),\n",
    "              loss=keras.losses.SparseCategoricalCrossentropy(),\n",
    "              metrics=[keras.metrics.SparseCategoricalAccuracy(), CategoricalTruePositives()])"
   ]
  },
  {
   "cell_type": "code",
   "execution_count": 21,
   "metadata": {},
   "outputs": [
    {
     "name": "stdout",
     "output_type": "stream",
     "text": [
      "Train on 50000 samples\n",
      "Epoch 1/3\n",
      "50000/50000 [==============================] - 3s 50us/sample - loss: 0.0934 - sparse_categorical_accuracy: 0.9722 - categorical_true_positives: 8083.0000\n",
      "Epoch 2/3\n",
      "50000/50000 [==============================] - 2s 46us/sample - loss: 0.0765 - sparse_categorical_accuracy: 0.9766 - categorical_true_positives: 7860.0000\n",
      "Epoch 3/3\n",
      "50000/50000 [==============================] - 2s 45us/sample - loss: 0.0650 - sparse_categorical_accuracy: 0.9800 - categorical_true_positives: 8492.0000\n"
     ]
    },
    {
     "data": {
      "text/plain": [
       "<tensorflow.python.keras.callbacks.History at 0x27c560305c0>"
      ]
     },
     "execution_count": 21,
     "metadata": {},
     "output_type": "execute_result"
    }
   ],
   "source": [
    "model.fit(x_trn, y_trn, batch_size=64, epochs=3)"
   ]
  },
  {
   "cell_type": "code",
   "execution_count": 22,
   "metadata": {},
   "outputs": [
    {
     "name": "stdout",
     "output_type": "stream",
     "text": [
      "Train on 50000 samples\n",
      "50000/50000 [==============================] - 2s 41us/sample - loss: 0.7287 - sparse_categorical_accuracy: 0.8483\n"
     ]
    },
    {
     "data": {
      "text/plain": [
       "<tensorflow.python.keras.callbacks.History at 0x27c8dbc0940>"
      ]
     },
     "execution_count": 22,
     "metadata": {},
     "output_type": "execute_result"
    }
   ],
   "source": [
    "class ActivityRegularizationLayer(keras.layers.Layer):\n",
    "    def call(self, inputs):\n",
    "        weight = 0.001\n",
    "        self.add_loss(tf.reduce_sum(inputs) * weight)\n",
    "        return inputs\n",
    "\n",
    "    \n",
    "def make_model2():\n",
    "    inputs = keras.Input(shape=(784,), name='digits')\n",
    "    x1 = keras.layers.Dense(units=64, activation='relu', name='dense_1')(inputs)\n",
    "    x2 = ActivityRegularizationLayer(name='reg_2')(x1)\n",
    "    x3 = keras.layers.Dense(units=64, activation='relu', name='dense_3')(x2)\n",
    "    outputs = keras.layers.Dense(units=10, activation='softmax', name='predictions')(x3)\n",
    "    \n",
    "    model = keras.Model(inputs=inputs, outputs=outputs)\n",
    "    model.compile(optimizer=keras.optimizers.RMSprop(learning_rate=0.001),\n",
    "                  loss=keras.losses.SparseCategoricalCrossentropy(),\n",
    "                 metrics=[keras.metrics.SparseCategoricalAccuracy()])\n",
    "    return model\n",
    "\n",
    "model2 = make_model2()\n",
    "model2.fit(x_trn, y_trn, batch_size=64, epochs=1)"
   ]
  },
  {
   "cell_type": "code",
   "execution_count": 23,
   "metadata": {},
   "outputs": [
    {
     "name": "stdout",
     "output_type": "stream",
     "text": [
      "Train on 50000 samples\n",
      "50000/50000 [==============================] - 2s 44us/sample - loss: 0.3459 - sparse_categorical_accuracy: 0.9014 - std_of_activation: 0.9258\n"
     ]
    },
    {
     "data": {
      "text/plain": [
       "<tensorflow.python.keras.callbacks.History at 0x27c83146048>"
      ]
     },
     "execution_count": 23,
     "metadata": {},
     "output_type": "execute_result"
    }
   ],
   "source": [
    "class MetricLoggingLayer(keras.layers.Layer):\n",
    "    def call(self, inputs):\n",
    "        self.add_metric(keras.backend.std(inputs), name='std_of_activation', aggregation='mean')\n",
    "        return inputs\n",
    "    \n",
    "def make_model3():\n",
    "    inputs = keras.Input(shape=(784,), name='digits')\n",
    "    x1 = keras.layers.Dense(units=64, activation='relu', name='dense_1')(inputs)\n",
    "    x2 = MetricLoggingLayer(name='log_2')(x1)\n",
    "    x3 = keras.layers.Dense(units=64, activation='relu', name='dense_3')(x2)\n",
    "    outputs = keras.layers.Dense(units=10, activation='softmax', name='predictions')(x3)\n",
    "    \n",
    "    model = keras.Model(inputs=inputs, outputs=outputs)\n",
    "    model.compile(optimizer=keras.optimizers.RMSprop(learning_rate=0.001),\n",
    "                  loss=keras.losses.SparseCategoricalCrossentropy(),\n",
    "                 metrics=[keras.metrics.SparseCategoricalAccuracy()])\n",
    "    return model\n",
    "\n",
    "model3 = make_model3()\n",
    "model3.fit(x_trn, y_trn, batch_size=64, epochs=1)"
   ]
  },
  {
   "cell_type": "code",
   "execution_count": 24,
   "metadata": {},
   "outputs": [
    {
     "name": "stdout",
     "output_type": "stream",
     "text": [
      "Train on 50000 samples\n",
      "50000/50000 [==============================] - 3s 56us/sample - loss: 0.7048 - sparse_categorical_accuracy: 0.8637 - std_of_activation: 0.2335\n"
     ]
    },
    {
     "data": {
      "text/plain": [
       "<tensorflow.python.keras.callbacks.History at 0x27ca0273400>"
      ]
     },
     "execution_count": 24,
     "metadata": {},
     "output_type": "execute_result"
    }
   ],
   "source": [
    "def make_model4():\n",
    "    inputs = keras.Input(shape=(784,), name='digits')\n",
    "    x1 = keras.layers.Dense(units=64, activation='relu', name='dense_1')(inputs)\n",
    "    x2 = keras.layers.Dense(units=64, activation='relu', name='dense_3')(x1)\n",
    "    outputs = keras.layers.Dense(units=10, activation='softmax', name='predictions')(x2)\n",
    "    \n",
    "    model = keras.Model(inputs=inputs, outputs=outputs)\n",
    "    model.add_loss(tf.reduce_sum(x1) * 0.001)\n",
    "    model.add_metric(keras.backend.std(x1), name='std_of_activation', aggregation='mean')\n",
    "\n",
    "    model.compile(optimizer=keras.optimizers.RMSprop(learning_rate=0.001),\n",
    "                  loss=keras.losses.SparseCategoricalCrossentropy(),\n",
    "                 metrics=[keras.metrics.SparseCategoricalAccuracy()])\n",
    "    return model\n",
    "\n",
    "model4 = make_model4()\n",
    "model4.fit(x_trn, y_trn, batch_size=64, epochs=1)"
   ]
  },
  {
   "cell_type": "code",
   "execution_count": 25,
   "metadata": {},
   "outputs": [
    {
     "name": "stdout",
     "output_type": "stream",
     "text": [
      "Train on 40000 samples, validate on 10000 samples\n",
      "Epoch 1/3\n",
      "40000/40000 [==============================] - 2s 48us/sample - loss: 0.3777 - sparse_categorical_accuracy: 0.8955 - val_loss: 0.2222 - val_sparse_categorical_accuracy: 0.9333\n",
      "Epoch 2/3\n",
      "40000/40000 [==============================] - 2s 45us/sample - loss: 0.1713 - sparse_categorical_accuracy: 0.9485 - val_loss: 0.1711 - val_sparse_categorical_accuracy: 0.9495\n",
      "Epoch 3/3\n",
      "40000/40000 [==============================] - 2s 44us/sample - loss: 0.1259 - sparse_categorical_accuracy: 0.9623 - val_loss: 0.1608 - val_sparse_categorical_accuracy: 0.9522\n"
     ]
    },
    {
     "data": {
      "text/plain": [
       "<tensorflow.python.keras.callbacks.History at 0x27ca0936e48>"
      ]
     },
     "execution_count": 25,
     "metadata": {},
     "output_type": "execute_result"
    }
   ],
   "source": [
    "model5 = make_model_compiled()\n",
    "model5.fit(x_trn, y_trn, batch_size=64, epochs=3, validation_split=0.20)"
   ]
  },
  {
   "cell_type": "code",
   "execution_count": 26,
   "metadata": {},
   "outputs": [],
   "source": [
    "dataset_trn = tf.data.Dataset.from_tensor_slices((x_trn, y_trn))\n",
    "dataset_trn = dataset_trn.shuffle(buffer_size=1024).batch(64)\n",
    "\n",
    "dataset_tst = tf.data.Dataset.from_tensor_slices((x_tst, y_tst)).batch(64)"
   ]
  },
  {
   "cell_type": "code",
   "execution_count": 27,
   "metadata": {},
   "outputs": [
    {
     "name": "stdout",
     "output_type": "stream",
     "text": [
      "Epoch 1/3\n",
      "782/782 [==============================] - 3s 4ms/step - loss: 0.3400 - sparse_categorical_accuracy: 0.9035\n",
      "Epoch 2/3\n",
      "782/782 [==============================] - 3s 3ms/step - loss: 0.1618 - sparse_categorical_accuracy: 0.9530\n",
      "Epoch 3/3\n",
      "782/782 [==============================] - 3s 4ms/step - loss: 0.1186 - sparse_categorical_accuracy: 0.9655\n"
     ]
    }
   ],
   "source": [
    "model = make_model_compiled()\n",
    "history = model.fit(dataset_trn, epochs=3)"
   ]
  },
  {
   "cell_type": "code",
   "execution_count": 28,
   "metadata": {},
   "outputs": [
    {
     "name": "stdout",
     "output_type": "stream",
     "text": [
      "157/157 [==============================] - 0s 3ms/step - loss: 0.1358 - sparse_categorical_accuracy: 0.9598\n"
     ]
    },
    {
     "data": {
      "text/plain": [
       "[0.13577607966022223, 0.9598]"
      ]
     },
     "execution_count": 28,
     "metadata": {},
     "output_type": "execute_result"
    }
   ],
   "source": [
    "model.evaluate(dataset_tst)"
   ]
  },
  {
   "cell_type": "code",
   "execution_count": 29,
   "metadata": {},
   "outputs": [
    {
     "name": "stdout",
     "output_type": "stream",
     "text": [
      "Epoch 1/3\n",
      "100/100 [==============================] - 0s 3ms/step - loss: 0.0913 - sparse_categorical_accuracy: 0.9741\n",
      "Epoch 2/3\n",
      "100/100 [==============================] - 0s 3ms/step - loss: 0.0648 - sparse_categorical_accuracy: 0.9817\n",
      "Epoch 3/3\n",
      "100/100 [==============================] - 0s 3ms/step - loss: 0.0492 - sparse_categorical_accuracy: 0.9877\n"
     ]
    },
    {
     "data": {
      "text/plain": [
       "<tensorflow.python.keras.callbacks.History at 0x27ca1eecda0>"
      ]
     },
     "execution_count": 29,
     "metadata": {},
     "output_type": "execute_result"
    }
   ],
   "source": [
    "model.fit(dataset_trn.take(100), epochs=3)"
   ]
  },
  {
   "cell_type": "code",
   "execution_count": 30,
   "metadata": {},
   "outputs": [
    {
     "name": "stdout",
     "output_type": "stream",
     "text": [
      "Epoch 1/3\n",
      "782/782 [==============================] - 3s 4ms/step - loss: 0.0929 - sparse_categorical_accuracy: 0.9736 - val_loss: 0.1162 - val_sparse_categorical_accuracy: 0.9676\n",
      "Epoch 2/3\n",
      "782/782 [==============================] - 3s 4ms/step - loss: 0.0775 - sparse_categorical_accuracy: 0.9782 - val_loss: 0.1119 - val_sparse_categorical_accuracy: 0.9708\n",
      "Epoch 3/3\n",
      "782/782 [==============================] - 3s 4ms/step - loss: 0.0665 - sparse_categorical_accuracy: 0.9812 - val_loss: 0.1116 - val_sparse_categorical_accuracy: 0.9719\n"
     ]
    }
   ],
   "source": [
    "dataset_val = tf.data.Dataset.from_tensor_slices((x_val, y_val)).batch(64)\n",
    "history = model.fit(dataset_trn, epochs=3, validation_data=dataset_val)"
   ]
  },
  {
   "cell_type": "code",
   "execution_count": 31,
   "metadata": {},
   "outputs": [
    {
     "name": "stdout",
     "output_type": "stream",
     "text": [
      "Epoch 1/3\n",
      "782/782 [==============================] - 3s 4ms/step - loss: 0.0583 - sparse_categorical_accuracy: 0.9844 - val_loss: 0.1658 - val_sparse_categorical_accuracy: 0.9625\n",
      "Epoch 2/3\n",
      "782/782 [==============================] - 3s 3ms/step - loss: 0.0511 - sparse_categorical_accuracy: 0.9866 - val_loss: 0.1682 - val_sparse_categorical_accuracy: 0.9578\n",
      "Epoch 3/3\n",
      "782/782 [==============================] - 3s 4ms/step - loss: 0.0446 - sparse_categorical_accuracy: 0.9887 - val_loss: 0.1781 - val_sparse_categorical_accuracy: 0.9531\n"
     ]
    }
   ],
   "source": [
    "history = model.fit(dataset_trn, epochs=3, validation_data=dataset_val, validation_steps=10)"
   ]
  },
  {
   "cell_type": "code",
   "execution_count": 32,
   "metadata": {},
   "outputs": [
    {
     "name": "stdout",
     "output_type": "stream",
     "text": [
      "Train on 50000 samples\n",
      "Epoch 1/3\n",
      "50000/50000 [==============================] - 3s 53us/sample - loss: 0.0514 - sparse_categorical_accuracy: 0.9858\n",
      "Epoch 2/3\n",
      "50000/50000 [==============================] - 2s 50us/sample - loss: 0.0441 - sparse_categorical_accuracy: 0.9877\n",
      "Epoch 3/3\n",
      "50000/50000 [==============================] - 2s 49us/sample - loss: 0.0385 - sparse_categorical_accuracy: 0.9894\n"
     ]
    }
   ],
   "source": [
    "class_weight = {i: 1.0 for i in range(10)}\n",
    "class_weight[5] = 2.0\n",
    "\n",
    "history = model.fit(x_trn, y_trn, class_weight=class_weight, batch_size=64, epochs=3)"
   ]
  },
  {
   "cell_type": "code",
   "execution_count": 33,
   "metadata": {},
   "outputs": [
    {
     "name": "stdout",
     "output_type": "stream",
     "text": [
      "Train on 50000 samples\n",
      "Epoch 1/3\n",
      "50000/50000 [==============================] - 2s 49us/sample - loss: 0.0333 - sparse_categorical_accuracy: 0.9905\n",
      "Epoch 2/3\n",
      "50000/50000 [==============================] - 3s 51us/sample - loss: 0.0305 - sparse_categorical_accuracy: 0.9912\n",
      "Epoch 3/3\n",
      "50000/50000 [==============================] - 2s 49us/sample - loss: 0.0276 - sparse_categorical_accuracy: 0.9925\n"
     ]
    }
   ],
   "source": [
    "sample_weight = np.ones(shape=y_trn.shape)\n",
    "sample_weight[y_trn==5] = 2.0\n",
    "\n",
    "history = model.fit(x_trn, y_trn, sample_weight=sample_weight, batch_size=64, epochs=3)"
   ]
  },
  {
   "cell_type": "code",
   "execution_count": 34,
   "metadata": {},
   "outputs": [
    {
     "name": "stdout",
     "output_type": "stream",
     "text": [
      "782/782 [==============================] - 3s 4ms/step - loss: 0.0226 - sparse_categorical_accuracy: 0.9936\n"
     ]
    },
    {
     "data": {
      "text/plain": [
       "<tensorflow.python.keras.callbacks.History at 0x27ca2527c88>"
      ]
     },
     "execution_count": 34,
     "metadata": {},
     "output_type": "execute_result"
    }
   ],
   "source": [
    "dataset_trn = tf.data.Dataset.from_tensor_slices((x_trn, y_trn, sample_weight))\n",
    "dataset_trn = dataset_trn.shuffle(buffer_size=1024).batch(64)\n",
    "\n",
    "model.fit(dataset_trn, epochs=1)"
   ]
  },
  {
   "cell_type": "code",
   "execution_count": 35,
   "metadata": {},
   "outputs": [],
   "source": [
    "input_image = keras.Input(shape=(32, 32, 3,), name='input_image')\n",
    "input_ts = keras.Input(shape=(None, 10,), name='input_ts')\n",
    "inputs = [input_image, input_ts]\n",
    "\n",
    "x1a = keras.layers.Conv2D(filters=3, kernel_size=(3,3,), name='conv_1a')(input_image)\n",
    "x1b = keras.layers.GlobalMaxPooling2D(name='pool_1b')(x1a)\n",
    "\n",
    "x2a = keras.layers.Conv1D(filters=3, kernel_size=(3,), name='conv_2a')(input_ts)\n",
    "x2b = keras.layers.GlobalMaxPooling1D(name='pool_2b')(x2a)\n",
    "\n",
    "x3 = keras.layers.concatenate(inputs=[x1b, x2b], name='concat_3')\n",
    "\n",
    "output_score = keras.layers.Dense(units=1, name='output_score')(x3)\n",
    "output_class = keras.layers.Dense(units=5, activation='softmax', name='output_class')(x3)\n",
    "outputs= [output_score, output_class]\n",
    "\n",
    "model = keras.Model(inputs=inputs, outputs=outputs)"
   ]
  },
  {
   "cell_type": "code",
   "execution_count": 36,
   "metadata": {},
   "outputs": [
    {
     "data": {
      "image/png": "[encoded data removed]",
      "text/plain": [
       "<IPython.core.display.Image object>"
      ]
     },
     "execution_count": 36,
     "metadata": {},
     "output_type": "execute_result"
    }
   ],
   "source": [
    "keras.utils.plot_model(model, show_shapes=True)"
   ]
  },
  {
   "cell_type": "code",
   "execution_count": 37,
   "metadata": {},
   "outputs": [
    {
     "name": "stdout",
     "output_type": "stream",
     "text": [
      "Model: \"model_6\"\n",
      "__________________________________________________________________________________________________\n",
      "Layer (type)                    Output Shape         Param #     Connected to                     \n",
      "==================================================================================================\n",
      "input_image (InputLayer)        [(None, 32, 32, 3)]  0                                            \n",
      "__________________________________________________________________________________________________\n",
      "input_ts (InputLayer)           [(None, None, 10)]   0                                            \n",
      "__________________________________________________________________________________________________\n",
      "conv_1a (Conv2D)                (None, 30, 30, 3)    84          input_image[0][0]                \n",
      "__________________________________________________________________________________________________\n",
      "conv_2a (Conv1D)                (None, None, 3)      93          input_ts[0][0]                   \n",
      "__________________________________________________________________________________________________\n",
      "pool_1b (GlobalMaxPooling2D)    (None, 3)            0           conv_1a[0][0]                    \n",
      "__________________________________________________________________________________________________\n",
      "pool_2b (GlobalMaxPooling1D)    (None, 3)            0           conv_2a[0][0]                    \n",
      "__________________________________________________________________________________________________\n",
      "concat_3 (Concatenate)          (None, 6)            0           pool_1b[0][0]                    \n",
      "                                                                 pool_2b[0][0]                    \n",
      "__________________________________________________________________________________________________\n",
      "output_score (Dense)            (None, 1)            7           concat_3[0][0]                   \n",
      "__________________________________________________________________________________________________\n",
      "output_class (Dense)            (None, 5)            35          concat_3[0][0]                   \n",
      "==================================================================================================\n",
      "Total params: 219\n",
      "Trainable params: 219\n",
      "Non-trainable params: 0\n",
      "__________________________________________________________________________________________________\n"
     ]
    }
   ],
   "source": [
    "model.summary()"
   ]
  },
  {
   "cell_type": "code",
   "execution_count": 46,
   "metadata": {},
   "outputs": [],
   "source": [
    "loss = {'output_score': keras.losses.MeanSquaredError(),\n",
    "        'output_class': keras.losses.CategoricalCrossentropy()}\n",
    "\n",
    "metrics = {'output_score': [keras.metrics.MeanAbsolutePercentageError(),\n",
    "                            keras.metrics.MeanAbsoluteError()],\n",
    "           'output_class': [keras.metrics.CategoricalAccuracy()]}\n",
    "\n",
    "loss_weights = {'output_score': 2.0,\n",
    "               'output_class': 1.0}\n",
    "\n",
    "# model1 = tf.keras.models.clone_model(model)\n",
    "# model2 = tf.keras.models.clone_model(model)\n",
    "\n",
    "model.compile(optimizer=keras.optimizers.RMSprop(learning_rate=1.0E-3),\n",
    "              loss=loss,\n",
    "              metrics=metrics)"
   ]
  },
  {
   "cell_type": "code",
   "execution_count": 47,
   "metadata": {},
   "outputs": [],
   "source": [
    "data_image = np.random.random_sample(size=(100, 32, 32, 3,))\n",
    "data_ts = np.random.random_sample(size=(100,20,10,))\n",
    "data_list = [data_image, data_ts]\n",
    "data_dict = {'input_image': data_image,\n",
    "             'input_ts': data_ts}\n",
    "\n",
    "targets_score = np.random.random_sample(size=(100,1,))\n",
    "targets_class = np.random.random_sample(size=(100,5,))\n",
    "targets_list = [targets_score, targets_class]\n",
    "targets_dict = {'output_score': targets_score,\n",
    "                'output_class': targets_class}"
   ]
  },
  {
   "cell_type": "code",
   "execution_count": 49,
   "metadata": {},
   "outputs": [
    {
     "name": "stdout",
     "output_type": "stream",
     "text": [
      "Train on 100 samples\n",
      "Epoch 1/3\n",
      "100/100 [==============================] - 0s 250us/sample - loss: 7.6954 - output_score_loss: 1.9342 - output_class_loss: 5.6072 - output_score_mean_absolute_percentage_error: 808.2719 - output_score_mean_absolute_error: 1.3890 - output_class_categorical_accuracy: 0.1800\n",
      "Epoch 2/3\n",
      "100/100 [==============================] - 0s 250us/sample - loss: 7.0525 - output_score_loss: 1.4138 - output_class_loss: 5.4300 - output_score_mean_absolute_percentage_error: 653.7198 - output_score_mean_absolute_error: 1.1768 - output_class_categorical_accuracy: 0.1800\n",
      "Epoch 3/3\n",
      "100/100 [==============================] - 0s 230us/sample - loss: 6.5502 - output_score_loss: 1.0135 - output_class_loss: 5.5141 - output_score_mean_absolute_percentage_error: 523.9642 - output_score_mean_absolute_error: 0.9849 - output_class_categorical_accuracy: 0.1800\n"
     ]
    },
    {
     "data": {
      "text/plain": [
       "<tensorflow.python.keras.callbacks.History at 0x27c69b82550>"
      ]
     },
     "execution_count": 49,
     "metadata": {},
     "output_type": "execute_result"
    }
   ],
   "source": [
    "hiostry = model.fit(x=data_dict, y=targets_dict, batch_size=32, epochs=3)"
   ]
  },
  {
   "cell_type": "code",
   "execution_count": 52,
   "metadata": {},
   "outputs": [],
   "source": [
    "dataset_trn = tf.data.Dataset.from_tensor_slices((data_dict, targets_dict))\n",
    "dataset_trn = dataset_trn.shuffle(buffer_size=1024).batch(64)"
   ]
  },
  {
   "cell_type": "code",
   "execution_count": 53,
   "metadata": {},
   "outputs": [
    {
     "name": "stdout",
     "output_type": "stream",
     "text": [
      "Epoch 1/3\n",
      "2/2 [==============================] - 0s 172ms/step - loss: 6.2289 - output_score_loss: 0.7892 - output_class_loss: 5.4424 - output_score_mean_absolute_percentage_error: 437.6691 - output_score_mean_absolute_error: 0.8422 - output_class_categorical_accuracy: 0.1800\n",
      "Epoch 2/3\n",
      "2/2 [==============================] - 0s 8ms/step - loss: 6.0610 - output_score_loss: 0.6633 - output_class_loss: 5.4016 - output_score_mean_absolute_percentage_error: 381.5578 - output_score_mean_absolute_error: 0.7616 - output_class_categorical_accuracy: 0.1800\n",
      "Epoch 3/3\n",
      "2/2 [==============================] - 0s 8ms/step - loss: 5.9129 - output_score_loss: 0.5567 - output_class_loss: 5.3611 - output_score_mean_absolute_percentage_error: 329.5727 - output_score_mean_absolute_error: 0.6872 - output_class_categorical_accuracy: 0.1800\n"
     ]
    }
   ],
   "source": [
    "history = model.fit(dataset_trn, epochs=3)"
   ]
  },
  {
   "cell_type": "code",
   "execution_count": 54,
   "metadata": {},
   "outputs": [
    {
     "data": {
      "text/plain": [
       "{'loss': [6.223586540222168, 6.053357086181641, 5.903147754669189],\n",
       " 'output_score_loss': [0.7891806, 0.6632602, 0.5567042],\n",
       " 'output_class_loss': [5.4423823, 5.4015956, 5.36114],\n",
       " 'output_score_mean_absolute_percentage_error': [437.66907,\n",
       "  381.55777,\n",
       "  329.5727],\n",
       " 'output_score_mean_absolute_error': [0.8422146, 0.76160836, 0.687199],\n",
       " 'output_class_categorical_accuracy': [0.18, 0.18, 0.18]}"
      ]
     },
     "execution_count": 54,
     "metadata": {},
     "output_type": "execute_result"
    }
   ],
   "source": [
    "history.history"
   ]
  },
  {
   "cell_type": "code",
   "execution_count": 57,
   "metadata": {},
   "outputs": [],
   "source": [
    "num_samples=120\n",
    "data_image = np.random.random_sample(size=(num_samples, 32, 32, 3,))\n",
    "data_ts = np.random.random_sample(size=(num_samples,20,10,))\n",
    "\n",
    "targets_score = np.random.random_sample(size=(num_samples,1,))\n",
    "targets_class = np.random.random_sample(size=(num_samples,5,))\n",
    "\n",
    "def trn_tst(x):\n",
    "    return x[:100], x[100:]\n",
    "\n",
    "data_image_trn, data_image_val = trn_tst(data_image)\n",
    "data_ts_trn, data_ts_val = trn_tst(data_ts)\n",
    "targets_score_trn, targets_score_val = trn_tst(targets_score)\n",
    "targets_class_trn, targets_class_val = trn_tst(targets_class)\n",
    "\n",
    "data_dict_trn = {'input_image': data_image_trn,\n",
    "                 'input_ts': data_ts_trn}\n",
    "\n",
    "data_dict_val = {'input_image': data_image_val,\n",
    "                 'input_ts': data_ts_val}\n",
    "\n",
    "targets_dict_trn = {'output_score': targets_score_trn,\n",
    "                    'output_class': targets_class_trn}\n",
    "\n",
    "targets_dict_val = {'output_score': targets_score_val,\n",
    "                    'output_class': targets_class_val}"
   ]
  },
  {
   "cell_type": "code",
   "execution_count": 60,
   "metadata": {},
   "outputs": [],
   "source": [
    "dataset_trn = tf.data.Dataset.from_tensor_slices((data_dict_trn, targets_dict_trn))\n",
    "dataset_trn = dataset_trn.shuffle(buffer_size=1024).batch(64)\n",
    "\n",
    "dataset_val = tf.data.Dataset.from_tensor_slices((data_dict_val, targets_dict_val))\n",
    "dataset_val = dataset_val.batch(64)"
   ]
  },
  {
   "cell_type": "code",
   "execution_count": 61,
   "metadata": {},
   "outputs": [
    {
     "name": "stdout",
     "output_type": "stream",
     "text": [
      "Epoch 1/3\n",
      "2/2 [==============================] - 0s 117ms/step - loss: 5.2839 - output_score_loss: 0.3632 - output_class_loss: 4.9142 - output_score_mean_absolute_percentage_error: 232.5391 - output_score_mean_absolute_error: 0.4977 - output_class_categorical_accuracy: 0.2300 - val_loss: 5.3475 - val_output_score_loss: 0.2726 - val_output_class_loss: 5.0749 - val_output_score_mean_absolute_percentage_error: 130.2594 - val_output_score_mean_absolute_error: 0.4395 - val_output_class_categorical_accuracy: 0.2500\n",
      "Epoch 2/3\n",
      "2/2 [==============================] - 0s 13ms/step - loss: 5.1980 - output_score_loss: 0.3122 - output_class_loss: 4.8798 - output_score_mean_absolute_percentage_error: 207.6250 - output_score_mean_absolute_error: 0.4554 - output_class_categorical_accuracy: 0.2300 - val_loss: 5.2675 - val_output_score_loss: 0.2321 - val_output_class_loss: 5.0354 - val_output_score_mean_absolute_percentage_error: 137.3746 - val_output_score_mean_absolute_error: 0.4021 - val_output_class_categorical_accuracy: 0.2500\n",
      "Epoch 3/3\n",
      "2/2 [==============================] - 0s 14ms/step - loss: 5.1221 - output_score_loss: 0.2729 - output_class_loss: 4.8437 - output_score_mean_absolute_percentage_error: 189.5755 - output_score_mean_absolute_error: 0.4222 - output_class_categorical_accuracy: 0.2300 - val_loss: 5.1956 - val_output_score_loss: 0.2014 - val_output_class_loss: 4.9942 - val_output_score_mean_absolute_percentage_error: 158.9630 - val_output_score_mean_absolute_error: 0.3772 - val_output_class_categorical_accuracy: 0.2500\n"
     ]
    },
    {
     "data": {
      "text/plain": [
       "<tensorflow.python.keras.callbacks.History at 0x27c68f2ea58>"
      ]
     },
     "execution_count": 61,
     "metadata": {},
     "output_type": "execute_result"
    }
   ],
   "source": [
    "model.fit(dataset_trn, epochs=3, validation_data=dataset_val)"
   ]
  },
  {
   "cell_type": "code",
   "execution_count": 65,
   "metadata": {},
   "outputs": [
    {
     "name": "stdout",
     "output_type": "stream",
     "text": [
      "Train on 40000 samples, validate on 10000 samples\n",
      "Epoch 1/20\n",
      "40000/40000 [==============================] - 2s 49us/sample - loss: 0.3800 - sparse_categorical_accuracy: 0.8918 - val_loss: 0.2247 - val_sparse_categorical_accuracy: 0.9329\n",
      "Epoch 2/20\n",
      "40000/40000 [==============================] - 2s 43us/sample - loss: 0.1750 - sparse_categorical_accuracy: 0.9482 - val_loss: 0.1892 - val_sparse_categorical_accuracy: 0.9423\n",
      "Epoch 3/20\n",
      "40000/40000 [==============================] - 2s 43us/sample - loss: 0.1281 - sparse_categorical_accuracy: 0.9611 - val_loss: 0.1577 - val_sparse_categorical_accuracy: 0.9544\n",
      "Epoch 4/20\n",
      "40000/40000 [==============================] - 2s 44us/sample - loss: 0.1006 - sparse_categorical_accuracy: 0.9691 - val_loss: 0.1427 - val_sparse_categorical_accuracy: 0.9585\n",
      "Epoch 5/20\n",
      "40000/40000 [==============================] - 2s 43us/sample - loss: 0.0828 - sparse_categorical_accuracy: 0.9750 - val_loss: 0.1275 - val_sparse_categorical_accuracy: 0.9619\n",
      "Epoch 6/20\n",
      "40000/40000 [==============================] - 2s 46us/sample - loss: 0.0691 - sparse_categorical_accuracy: 0.9789 - val_loss: 0.1300 - val_sparse_categorical_accuracy: 0.9620\n",
      "Epoch 7/20\n",
      "40000/40000 [==============================] - 2s 50us/sample - loss: 0.0594 - sparse_categorical_accuracy: 0.9821 - val_loss: 0.1369 - val_sparse_categorical_accuracy: 0.9596\n",
      "Epoch 00007: early stopping\n"
     ]
    },
    {
     "data": {
      "text/plain": [
       "<tensorflow.python.keras.callbacks.History at 0x27c6d889ac8>"
      ]
     },
     "execution_count": 65,
     "metadata": {},
     "output_type": "execute_result"
    }
   ],
   "source": [
    "model = make_model_compiled()\n",
    "\n",
    "callbacks = [keras.callbacks.EarlyStopping(monitor='val_loss', min_delta=0.01, patience=2, verbose=1)]\n",
    "\n",
    "model.fit(x_trn, y_trn, epochs=20, batch_size=64, callbacks=callbacks, validation_split=0.20)"
   ]
  },
  {
   "cell_type": "code",
   "execution_count": 67,
   "metadata": {},
   "outputs": [
    {
     "name": "stdout",
     "output_type": "stream",
     "text": [
      "Train on 40000 samples, validate on 10000 samples\n",
      "Epoch 1/3\n",
      "40000/40000 [==============================] - 2s 52us/sample - loss: 0.3790 - sparse_categorical_accuracy: 0.8925 - val_loss: 0.2297 - val_sparse_categorical_accuracy: 0.9316\n",
      "Epoch 2/3\n",
      "40000/40000 [==============================] - 2s 44us/sample - loss: 0.1669 - sparse_categorical_accuracy: 0.9495 - val_loss: 0.1998 - val_sparse_categorical_accuracy: 0.9396\n",
      "Epoch 3/3\n",
      "40000/40000 [==============================] - 2s 44us/sample - loss: 0.1216 - sparse_categorical_accuracy: 0.9628 - val_loss: 0.1491 - val_sparse_categorical_accuracy: 0.9569\n"
     ]
    },
    {
     "data": {
      "text/plain": [
       "<tensorflow.python.keras.callbacks.History at 0x27c6f8cc668>"
      ]
     },
     "execution_count": 67,
     "metadata": {},
     "output_type": "execute_result"
    }
   ],
   "source": [
    "model = make_model_compiled()\n",
    "\n",
    "callbacks = [keras.callbacks.ModelCheckpoint(filepath='./checkpoints/mymodel_{epoch}.h5', save_best_only=True, \n",
    "                                             monitor='val_loss', verbise=1)]\n",
    "\n",
    "model.fit(x_trn, y_trn, epochs=3, batch_size=64, callbacks=callbacks, validation_split=0.20)"
   ]
  },
  {
   "cell_type": "code",
   "execution_count": 70,
   "metadata": {},
   "outputs": [
    {
     "name": "stdout",
     "output_type": "stream",
     "text": [
      "Train on 50000 samples\n",
      "Epoch 1/10\n",
      "   32/50000 [..............................] - ETA: 2:26 - loss: 0.0661 - sparse_categorical_accuracy: 0.9688"
     ]
    },
    {
     "ename": "NotFoundError",
     "evalue": "Failed to create a directory: ./logs\\train\\plugins\\profile\\2019-06-18_15-13-45; No such file or directory",
     "output_type": "error",
     "traceback": [
      "\u001b[1;31m---------------------------------------------------------------------------\u001b[0m",
      "\u001b[1;31mNotFoundError\u001b[0m                             Traceback (most recent call last)",
      "\u001b[1;32m<ipython-input-70-803be1bd5281>\u001b[0m in \u001b[0;36m<module>\u001b[1;34m\u001b[0m\n\u001b[0;32m      1\u001b[0m \u001b[0mtensorboard_cbk\u001b[0m \u001b[1;33m=\u001b[0m \u001b[0mkeras\u001b[0m\u001b[1;33m.\u001b[0m\u001b[0mcallbacks\u001b[0m\u001b[1;33m.\u001b[0m\u001b[0mTensorBoard\u001b[0m\u001b[1;33m(\u001b[0m\u001b[0mlog_dir\u001b[0m\u001b[1;33m=\u001b[0m\u001b[1;34m'./logs'\u001b[0m\u001b[1;33m)\u001b[0m\u001b[1;33m\u001b[0m\u001b[1;33m\u001b[0m\u001b[0m\n\u001b[1;32m----> 2\u001b[1;33m \u001b[0mmodel\u001b[0m\u001b[1;33m.\u001b[0m\u001b[0mfit\u001b[0m\u001b[1;33m(\u001b[0m\u001b[0mx_trn\u001b[0m\u001b[1;33m,\u001b[0m \u001b[0my_trn\u001b[0m\u001b[1;33m,\u001b[0m \u001b[0mepochs\u001b[0m\u001b[1;33m=\u001b[0m\u001b[1;36m10\u001b[0m\u001b[1;33m,\u001b[0m \u001b[0mcallbacks\u001b[0m\u001b[1;33m=\u001b[0m\u001b[1;33m[\u001b[0m\u001b[0mtensorboard_cbk\u001b[0m\u001b[1;33m]\u001b[0m\u001b[1;33m)\u001b[0m\u001b[1;33m\u001b[0m\u001b[1;33m\u001b[0m\u001b[0m\n\u001b[0m",
      "\u001b[1;32mC:\\Anaconda3\\lib\\site-packages\\tensorflow\\python\\keras\\engine\\training.py\u001b[0m in \u001b[0;36mfit\u001b[1;34m(self, x, y, batch_size, epochs, verbose, callbacks, validation_split, validation_data, shuffle, class_weight, sample_weight, initial_epoch, steps_per_epoch, validation_steps, validation_freq, max_queue_size, workers, use_multiprocessing, **kwargs)\u001b[0m\n\u001b[0;32m    641\u001b[0m         \u001b[0mmax_queue_size\u001b[0m\u001b[1;33m=\u001b[0m\u001b[0mmax_queue_size\u001b[0m\u001b[1;33m,\u001b[0m\u001b[1;33m\u001b[0m\u001b[1;33m\u001b[0m\u001b[0m\n\u001b[0;32m    642\u001b[0m         \u001b[0mworkers\u001b[0m\u001b[1;33m=\u001b[0m\u001b[0mworkers\u001b[0m\u001b[1;33m,\u001b[0m\u001b[1;33m\u001b[0m\u001b[1;33m\u001b[0m\u001b[0m\n\u001b[1;32m--> 643\u001b[1;33m         use_multiprocessing=use_multiprocessing)\n\u001b[0m\u001b[0;32m    644\u001b[0m \u001b[1;33m\u001b[0m\u001b[0m\n\u001b[0;32m    645\u001b[0m   def evaluate(self,\n",
      "\u001b[1;32mC:\\Anaconda3\\lib\\site-packages\\tensorflow\\python\\keras\\engine\\training_arrays.py\u001b[0m in \u001b[0;36mfit\u001b[1;34m(self, model, x, y, batch_size, epochs, verbose, callbacks, validation_split, validation_data, shuffle, class_weight, sample_weight, initial_epoch, steps_per_epoch, validation_steps, validation_freq, **kwargs)\u001b[0m\n\u001b[0;32m    662\u001b[0m         \u001b[0mvalidation_steps\u001b[0m\u001b[1;33m=\u001b[0m\u001b[0mvalidation_steps\u001b[0m\u001b[1;33m,\u001b[0m\u001b[1;33m\u001b[0m\u001b[1;33m\u001b[0m\u001b[0m\n\u001b[0;32m    663\u001b[0m         \u001b[0mvalidation_freq\u001b[0m\u001b[1;33m=\u001b[0m\u001b[0mvalidation_freq\u001b[0m\u001b[1;33m,\u001b[0m\u001b[1;33m\u001b[0m\u001b[1;33m\u001b[0m\u001b[0m\n\u001b[1;32m--> 664\u001b[1;33m         steps_name='steps_per_epoch')\n\u001b[0m\u001b[0;32m    665\u001b[0m \u001b[1;33m\u001b[0m\u001b[0m\n\u001b[0;32m    666\u001b[0m   def evaluate(self,\n",
      "\u001b[1;32mC:\\Anaconda3\\lib\\site-packages\\tensorflow\\python\\keras\\engine\\training_arrays.py\u001b[0m in \u001b[0;36mmodel_iteration\u001b[1;34m(model, inputs, targets, sample_weights, batch_size, epochs, verbose, callbacks, val_inputs, val_targets, val_sample_weights, shuffle, initial_epoch, steps_per_epoch, validation_steps, validation_freq, mode, validation_in_fit, prepared_feed_values_from_dataset, steps_name, **kwargs)\u001b[0m\n\u001b[0;32m    392\u001b[0m         \u001b[1;31m# Callbacks batch end.\u001b[0m\u001b[1;33m\u001b[0m\u001b[1;33m\u001b[0m\u001b[1;33m\u001b[0m\u001b[0m\n\u001b[0;32m    393\u001b[0m         \u001b[0mbatch_logs\u001b[0m \u001b[1;33m=\u001b[0m \u001b[0mcbks\u001b[0m\u001b[1;33m.\u001b[0m\u001b[0mmake_logs\u001b[0m\u001b[1;33m(\u001b[0m\u001b[0mmodel\u001b[0m\u001b[1;33m,\u001b[0m \u001b[0mbatch_logs\u001b[0m\u001b[1;33m,\u001b[0m \u001b[0mbatch_outs\u001b[0m\u001b[1;33m,\u001b[0m \u001b[0mmode\u001b[0m\u001b[1;33m)\u001b[0m\u001b[1;33m\u001b[0m\u001b[1;33m\u001b[0m\u001b[0m\n\u001b[1;32m--> 394\u001b[1;33m         \u001b[0mcallbacks\u001b[0m\u001b[1;33m.\u001b[0m\u001b[0m_call_batch_hook\u001b[0m\u001b[1;33m(\u001b[0m\u001b[0mmode\u001b[0m\u001b[1;33m,\u001b[0m \u001b[1;34m'end'\u001b[0m\u001b[1;33m,\u001b[0m \u001b[0mbatch_index\u001b[0m\u001b[1;33m,\u001b[0m \u001b[0mbatch_logs\u001b[0m\u001b[1;33m)\u001b[0m\u001b[1;33m\u001b[0m\u001b[1;33m\u001b[0m\u001b[0m\n\u001b[0m\u001b[0;32m    395\u001b[0m         \u001b[0mprogbar\u001b[0m\u001b[1;33m.\u001b[0m\u001b[0mon_batch_end\u001b[0m\u001b[1;33m(\u001b[0m\u001b[0mbatch_index\u001b[0m\u001b[1;33m,\u001b[0m \u001b[0mbatch_logs\u001b[0m\u001b[1;33m)\u001b[0m\u001b[1;33m\u001b[0m\u001b[1;33m\u001b[0m\u001b[0m\n\u001b[0;32m    396\u001b[0m \u001b[1;33m\u001b[0m\u001b[0m\n",
      "\u001b[1;32mC:\\Anaconda3\\lib\\site-packages\\tensorflow\\python\\keras\\callbacks.py\u001b[0m in \u001b[0;36m_call_batch_hook\u001b[1;34m(self, mode, hook, batch, logs)\u001b[0m\n\u001b[0;32m    230\u001b[0m     \u001b[1;32mfor\u001b[0m \u001b[0mcallback\u001b[0m \u001b[1;32min\u001b[0m \u001b[0mself\u001b[0m\u001b[1;33m.\u001b[0m\u001b[0mcallbacks\u001b[0m\u001b[1;33m:\u001b[0m\u001b[1;33m\u001b[0m\u001b[1;33m\u001b[0m\u001b[0m\n\u001b[0;32m    231\u001b[0m       \u001b[0mbatch_hook\u001b[0m \u001b[1;33m=\u001b[0m \u001b[0mgetattr\u001b[0m\u001b[1;33m(\u001b[0m\u001b[0mcallback\u001b[0m\u001b[1;33m,\u001b[0m \u001b[0mhook_name\u001b[0m\u001b[1;33m)\u001b[0m\u001b[1;33m\u001b[0m\u001b[1;33m\u001b[0m\u001b[0m\n\u001b[1;32m--> 232\u001b[1;33m       \u001b[0mbatch_hook\u001b[0m\u001b[1;33m(\u001b[0m\u001b[0mbatch\u001b[0m\u001b[1;33m,\u001b[0m \u001b[0mlogs\u001b[0m\u001b[1;33m)\u001b[0m\u001b[1;33m\u001b[0m\u001b[1;33m\u001b[0m\u001b[0m\n\u001b[0m\u001b[0;32m    233\u001b[0m     \u001b[0mself\u001b[0m\u001b[1;33m.\u001b[0m\u001b[0m_delta_ts\u001b[0m\u001b[1;33m[\u001b[0m\u001b[0mhook_name\u001b[0m\u001b[1;33m]\u001b[0m\u001b[1;33m.\u001b[0m\u001b[0mappend\u001b[0m\u001b[1;33m(\u001b[0m\u001b[0mtime\u001b[0m\u001b[1;33m.\u001b[0m\u001b[0mtime\u001b[0m\u001b[1;33m(\u001b[0m\u001b[1;33m)\u001b[0m \u001b[1;33m-\u001b[0m \u001b[0mt_before_callbacks\u001b[0m\u001b[1;33m)\u001b[0m\u001b[1;33m\u001b[0m\u001b[1;33m\u001b[0m\u001b[0m\n\u001b[0;32m    234\u001b[0m \u001b[1;33m\u001b[0m\u001b[0m\n",
      "\u001b[1;32mC:\\Anaconda3\\lib\\site-packages\\tensorflow\\python\\keras\\callbacks.py\u001b[0m in \u001b[0;36mon_train_batch_end\u001b[1;34m(self, batch, logs)\u001b[0m\n\u001b[0;32m    513\u001b[0m     \"\"\"\n\u001b[0;32m    514\u001b[0m     \u001b[1;31m# For backwards compatibility.\u001b[0m\u001b[1;33m\u001b[0m\u001b[1;33m\u001b[0m\u001b[1;33m\u001b[0m\u001b[0m\n\u001b[1;32m--> 515\u001b[1;33m     \u001b[0mself\u001b[0m\u001b[1;33m.\u001b[0m\u001b[0mon_batch_end\u001b[0m\u001b[1;33m(\u001b[0m\u001b[0mbatch\u001b[0m\u001b[1;33m,\u001b[0m \u001b[0mlogs\u001b[0m\u001b[1;33m=\u001b[0m\u001b[0mlogs\u001b[0m\u001b[1;33m)\u001b[0m\u001b[1;33m\u001b[0m\u001b[1;33m\u001b[0m\u001b[0m\n\u001b[0m\u001b[0;32m    516\u001b[0m \u001b[1;33m\u001b[0m\u001b[0m\n\u001b[0;32m    517\u001b[0m   \u001b[1;32mdef\u001b[0m \u001b[0mon_test_batch_begin\u001b[0m\u001b[1;33m(\u001b[0m\u001b[0mself\u001b[0m\u001b[1;33m,\u001b[0m \u001b[0mbatch\u001b[0m\u001b[1;33m,\u001b[0m \u001b[0mlogs\u001b[0m\u001b[1;33m=\u001b[0m\u001b[1;32mNone\u001b[0m\u001b[1;33m)\u001b[0m\u001b[1;33m:\u001b[0m\u001b[1;33m\u001b[0m\u001b[1;33m\u001b[0m\u001b[0m\n",
      "\u001b[1;32mC:\\Anaconda3\\lib\\site-packages\\tensorflow\\python\\keras\\callbacks.py\u001b[0m in \u001b[0;36mon_batch_end\u001b[1;34m(self, batch, logs)\u001b[0m\n\u001b[0;32m   1600\u001b[0m     \u001b[0mself\u001b[0m\u001b[1;33m.\u001b[0m\u001b[0m_total_batches_seen\u001b[0m \u001b[1;33m+=\u001b[0m \u001b[1;36m1\u001b[0m\u001b[1;33m\u001b[0m\u001b[1;33m\u001b[0m\u001b[0m\n\u001b[0;32m   1601\u001b[0m     \u001b[1;32mif\u001b[0m \u001b[0mself\u001b[0m\u001b[1;33m.\u001b[0m\u001b[0m_is_tracing\u001b[0m\u001b[1;33m:\u001b[0m\u001b[1;33m\u001b[0m\u001b[1;33m\u001b[0m\u001b[0m\n\u001b[1;32m-> 1602\u001b[1;33m       \u001b[0mself\u001b[0m\u001b[1;33m.\u001b[0m\u001b[0m_log_trace\u001b[0m\u001b[1;33m(\u001b[0m\u001b[1;33m)\u001b[0m\u001b[1;33m\u001b[0m\u001b[1;33m\u001b[0m\u001b[0m\n\u001b[0m\u001b[0;32m   1603\u001b[0m     elif (not self._is_tracing and\n\u001b[0;32m   1604\u001b[0m           self._total_batches_seen == self._profile_batch - 1):\n",
      "\u001b[1;32mC:\\Anaconda3\\lib\\site-packages\\tensorflow\\python\\keras\\callbacks.py\u001b[0m in \u001b[0;36m_log_trace\u001b[1;34m(self)\u001b[0m\n\u001b[0;32m   1634\u001b[0m             \u001b[0mname\u001b[0m\u001b[1;33m=\u001b[0m\u001b[1;34m'batch_%d'\u001b[0m \u001b[1;33m%\u001b[0m \u001b[0mself\u001b[0m\u001b[1;33m.\u001b[0m\u001b[0m_total_batches_seen\u001b[0m\u001b[1;33m,\u001b[0m\u001b[1;33m\u001b[0m\u001b[1;33m\u001b[0m\u001b[0m\n\u001b[0;32m   1635\u001b[0m             \u001b[0mstep\u001b[0m\u001b[1;33m=\u001b[0m\u001b[0mself\u001b[0m\u001b[1;33m.\u001b[0m\u001b[0m_total_batches_seen\u001b[0m\u001b[1;33m,\u001b[0m\u001b[1;33m\u001b[0m\u001b[1;33m\u001b[0m\u001b[0m\n\u001b[1;32m-> 1636\u001b[1;33m             profiler_outdir=os.path.join(self.log_dir, 'train'))\n\u001b[0m\u001b[0;32m   1637\u001b[0m       \u001b[0mself\u001b[0m\u001b[1;33m.\u001b[0m\u001b[0m_is_tracing\u001b[0m \u001b[1;33m=\u001b[0m \u001b[1;32mFalse\u001b[0m\u001b[1;33m\u001b[0m\u001b[1;33m\u001b[0m\u001b[0m\n\u001b[0;32m   1638\u001b[0m \u001b[1;33m\u001b[0m\u001b[0m\n",
      "\u001b[1;32mC:\\Anaconda3\\lib\\site-packages\\tensorflow\\python\\ops\\summary_ops_v2.py\u001b[0m in \u001b[0;36mtrace_export\u001b[1;34m(name, step, profiler_outdir)\u001b[0m\n\u001b[0;32m   1216\u001b[0m \u001b[1;33m\u001b[0m\u001b[0m\n\u001b[0;32m   1217\u001b[0m   \u001b[1;32mif\u001b[0m \u001b[0mprofiler\u001b[0m\u001b[1;33m:\u001b[0m\u001b[1;33m\u001b[0m\u001b[1;33m\u001b[0m\u001b[0m\n\u001b[1;32m-> 1218\u001b[1;33m     \u001b[0m_profiler\u001b[0m\u001b[1;33m.\u001b[0m\u001b[0msave\u001b[0m\u001b[1;33m(\u001b[0m\u001b[0mprofiler_outdir\u001b[0m\u001b[1;33m,\u001b[0m \u001b[0m_profiler\u001b[0m\u001b[1;33m.\u001b[0m\u001b[0mstop\u001b[0m\u001b[1;33m(\u001b[0m\u001b[1;33m)\u001b[0m\u001b[1;33m)\u001b[0m\u001b[1;33m\u001b[0m\u001b[1;33m\u001b[0m\u001b[0m\n\u001b[0m\u001b[0;32m   1219\u001b[0m \u001b[1;33m\u001b[0m\u001b[0m\n\u001b[0;32m   1220\u001b[0m   \u001b[0mtrace_off\u001b[0m\u001b[1;33m(\u001b[0m\u001b[1;33m)\u001b[0m\u001b[1;33m\u001b[0m\u001b[1;33m\u001b[0m\u001b[0m\n",
      "\u001b[1;32mC:\\Anaconda3\\lib\\site-packages\\tensorflow\\python\\eager\\profiler.py\u001b[0m in \u001b[0;36msave\u001b[1;34m(logdir, result)\u001b[0m\n\u001b[0;32m    142\u001b[0m       \u001b[0mlogdir\u001b[0m\u001b[1;33m,\u001b[0m \u001b[1;34m'plugins'\u001b[0m\u001b[1;33m,\u001b[0m \u001b[1;34m'profile'\u001b[0m\u001b[1;33m,\u001b[0m\u001b[1;33m\u001b[0m\u001b[1;33m\u001b[0m\u001b[0m\n\u001b[0;32m    143\u001b[0m       datetime.datetime.now().strftime('%Y-%m-%d_%H-%M-%S'))\n\u001b[1;32m--> 144\u001b[1;33m   \u001b[0mgfile\u001b[0m\u001b[1;33m.\u001b[0m\u001b[0mMakeDirs\u001b[0m\u001b[1;33m(\u001b[0m\u001b[0mplugin_dir\u001b[0m\u001b[1;33m)\u001b[0m\u001b[1;33m\u001b[0m\u001b[1;33m\u001b[0m\u001b[0m\n\u001b[0m\u001b[0;32m    145\u001b[0m   \u001b[0mmaybe_create_event_file\u001b[0m\u001b[1;33m(\u001b[0m\u001b[0mlogdir\u001b[0m\u001b[1;33m)\u001b[0m\u001b[1;33m\u001b[0m\u001b[1;33m\u001b[0m\u001b[0m\n\u001b[0;32m    146\u001b[0m   \u001b[1;32mwith\u001b[0m \u001b[0mgfile\u001b[0m\u001b[1;33m.\u001b[0m\u001b[0mOpen\u001b[0m\u001b[1;33m(\u001b[0m\u001b[0mos\u001b[0m\u001b[1;33m.\u001b[0m\u001b[0mpath\u001b[0m\u001b[1;33m.\u001b[0m\u001b[0mjoin\u001b[0m\u001b[1;33m(\u001b[0m\u001b[0mplugin_dir\u001b[0m\u001b[1;33m,\u001b[0m \u001b[1;34m'local.trace'\u001b[0m\u001b[1;33m)\u001b[0m\u001b[1;33m,\u001b[0m \u001b[1;34m'wb'\u001b[0m\u001b[1;33m)\u001b[0m \u001b[1;32mas\u001b[0m \u001b[0mf\u001b[0m\u001b[1;33m:\u001b[0m\u001b[1;33m\u001b[0m\u001b[1;33m\u001b[0m\u001b[0m\n",
      "\u001b[1;32mC:\\Anaconda3\\lib\\site-packages\\tensorflow\\python\\lib\\io\\file_io.py\u001b[0m in \u001b[0;36mrecursive_create_dir\u001b[1;34m(dirname)\u001b[0m\n\u001b[0;32m    436\u001b[0m     \u001b[0merrors\u001b[0m\u001b[1;33m.\u001b[0m\u001b[0mOpError\u001b[0m\u001b[1;33m:\u001b[0m \u001b[0mIf\u001b[0m \u001b[0mthe\u001b[0m \u001b[0moperation\u001b[0m \u001b[0mfails\u001b[0m\u001b[1;33m.\u001b[0m\u001b[1;33m\u001b[0m\u001b[1;33m\u001b[0m\u001b[0m\n\u001b[0;32m    437\u001b[0m   \"\"\"\n\u001b[1;32m--> 438\u001b[1;33m   \u001b[0mrecursive_create_dir_v2\u001b[0m\u001b[1;33m(\u001b[0m\u001b[0mdirname\u001b[0m\u001b[1;33m)\u001b[0m\u001b[1;33m\u001b[0m\u001b[1;33m\u001b[0m\u001b[0m\n\u001b[0m\u001b[0;32m    439\u001b[0m \u001b[1;33m\u001b[0m\u001b[0m\n\u001b[0;32m    440\u001b[0m \u001b[1;33m\u001b[0m\u001b[0m\n",
      "\u001b[1;32mC:\\Anaconda3\\lib\\site-packages\\tensorflow\\python\\lib\\io\\file_io.py\u001b[0m in \u001b[0;36mrecursive_create_dir_v2\u001b[1;34m(path)\u001b[0m\n\u001b[0;32m    451\u001b[0m     \u001b[0merrors\u001b[0m\u001b[1;33m.\u001b[0m\u001b[0mOpError\u001b[0m\u001b[1;33m:\u001b[0m \u001b[0mIf\u001b[0m \u001b[0mthe\u001b[0m \u001b[0moperation\u001b[0m \u001b[0mfails\u001b[0m\u001b[1;33m.\u001b[0m\u001b[1;33m\u001b[0m\u001b[1;33m\u001b[0m\u001b[0m\n\u001b[0;32m    452\u001b[0m   \"\"\"\n\u001b[1;32m--> 453\u001b[1;33m   \u001b[0mpywrap_tensorflow\u001b[0m\u001b[1;33m.\u001b[0m\u001b[0mRecursivelyCreateDir\u001b[0m\u001b[1;33m(\u001b[0m\u001b[0mcompat\u001b[0m\u001b[1;33m.\u001b[0m\u001b[0mas_bytes\u001b[0m\u001b[1;33m(\u001b[0m\u001b[0mpath\u001b[0m\u001b[1;33m)\u001b[0m\u001b[1;33m)\u001b[0m\u001b[1;33m\u001b[0m\u001b[1;33m\u001b[0m\u001b[0m\n\u001b[0m\u001b[0;32m    454\u001b[0m \u001b[1;33m\u001b[0m\u001b[0m\n\u001b[0;32m    455\u001b[0m \u001b[1;33m\u001b[0m\u001b[0m\n",
      "\u001b[1;31mNotFoundError\u001b[0m: Failed to create a directory: ./logs\\train\\plugins\\profile\\2019-06-18_15-13-45; No such file or directory"
     ]
    }
   ],
   "source": [
    "tensorboard_cbk = keras.callbacks.TensorBoard(log_dir='./logs')\n",
    "model.fit(x_trn, y_trn, epochs=10, callbacks=[tensorboard_cbk])"
   ]
  },
  {
   "cell_type": "code",
   "execution_count": 69,
   "metadata": {},
   "outputs": [
    {
     "data": {
      "text/plain": [
       "<BatchDataset shapes: ({input_image: (None, 32, 32, 3), input_ts: (None, 20, 10)}, {output_score: (None, 1), output_class: (None, 5)}), types: ({input_image: tf.float64, input_ts: tf.float64}, {output_score: tf.float64, output_class: tf.float64})>"
      ]
     },
     "execution_count": 69,
     "metadata": {},
     "output_type": "execute_result"
    }
   ],
   "source": []
  },
  {
   "cell_type": "code",
   "execution_count": null,
   "metadata": {},
   "outputs": [],
   "source": []
  }
 ],
 "metadata": {
  "kernelspec": {
   "display_name": "Python 3",
   "language": "python",
   "name": "python3"
  },
  "language_info": {
   "codemirror_mode": {
    "name": "ipython",
    "version": 3
   },
   "file_extension": ".py",
   "mimetype": "text/x-python",
   "name": "python",
   "nbconvert_exporter": "python",
   "pygments_lexer": "ipython3",
   "version": "3.7.3"
  }
 },
 "nbformat": 4,
 "nbformat_minor": 2
}
