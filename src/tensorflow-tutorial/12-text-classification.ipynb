{
 "cells": [
  {
   "cell_type": "code",
   "execution_count": 1,
   "metadata": {},
   "outputs": [],
   "source": [
    "import tensorflow as tf\n",
    "import matplotlib.pyplot as plt\n",
    "keras = tf.keras\n",
    "layers = keras.layers"
   ]
  },
  {
   "cell_type": "code",
   "execution_count": 2,
   "metadata": {},
   "outputs": [],
   "source": [
    "gpus = tf.config.experimental.list_physical_devices('GPU')\n",
    "for gpu in gpus:\n",
    "    tf.config.experimental.set_memory_growth(gpu, True)"
   ]
  },
  {
   "cell_type": "code",
   "execution_count": 3,
   "metadata": {},
   "outputs": [],
   "source": [
    "vocab_size = 10000\n",
    "imdb = keras.datasets.imdb\n",
    "(data_trn, label_trn), (data_tst, label_tst) = imdb.load_data(num_words=vocab_size)"
   ]
  },
  {
   "cell_type": "code",
   "execution_count": 4,
   "metadata": {},
   "outputs": [],
   "source": [
    "word_index = imdb.get_word_index()"
   ]
  },
  {
   "cell_type": "code",
   "execution_count": 5,
   "metadata": {},
   "outputs": [],
   "source": [
    "word_index = {k:(v+3) for k, v in word_index.items()}\n",
    "word_index[\"<PAD>\"] = 0\n",
    "word_index[\"<START>\"] = 1\n",
    "word_index[\"<UNK>\"] = 2  # unknown\n",
    "word_index[\"<UNUSED>\"] = 3"
   ]
  },
  {
   "cell_type": "code",
   "execution_count": 6,
   "metadata": {},
   "outputs": [],
   "source": [
    "reverse_word_index = {value : key for (key, value) in word_index.items()}"
   ]
  },
  {
   "cell_type": "code",
   "execution_count": 7,
   "metadata": {},
   "outputs": [],
   "source": [
    "def decode_review(text):\n",
    "    return ' '.join([reverse_word_index.get(i, '?') for i in text])"
   ]
  },
  {
   "cell_type": "code",
   "execution_count": 8,
   "metadata": {},
   "outputs": [
    {
     "data": {
      "text/plain": [
       "\"<START> big hair big boobs bad music and a giant safety pin these are the words to best describe this terrible movie i love cheesy horror movies and i've seen hundreds but this had got to be on of the worst ever made the plot is paper thin and ridiculous the acting is an abomination the script is completely laughable the best is the end showdown with the cop and how he worked out who the killer is it's just so damn terribly written the clothes are sickening and funny in equal <UNK> the hair is big lots of boobs <UNK> men wear those cut <UNK> shirts that show off their <UNK> sickening that men actually wore them and the music is just <UNK> trash that plays over and over again in almost every scene there is trashy music boobs and <UNK> taking away bodies and the gym still doesn't close for <UNK> all joking aside this is a truly bad film whose only charm is to look back on the disaster that was the 80's and have a good old laugh at how bad everything was back then\""
      ]
     },
     "execution_count": 8,
     "metadata": {},
     "output_type": "execute_result"
    }
   ],
   "source": [
    "decode_review(data_trn[1])"
   ]
  },
  {
   "cell_type": "code",
   "execution_count": 9,
   "metadata": {},
   "outputs": [],
   "source": [
    "maxlen = 500\n",
    "data_trn = keras.preprocessing.sequence.pad_sequences(data_trn, value=word_index['<PAD>'], padding='post', maxlen=maxlen)\n",
    "data_tst = keras.preprocessing.sequence.pad_sequences(data_tst, value=word_index['<PAD>'], padding='post', maxlen=maxlen)"
   ]
  },
  {
   "cell_type": "code",
   "execution_count": 11,
   "metadata": {},
   "outputs": [
    {
     "name": "stdout",
     "output_type": "stream",
     "text": [
      "Model: \"sequential_1\"\n",
      "_________________________________________________________________\n",
      "Layer (type)                 Output Shape              Param #   \n",
      "=================================================================\n",
      "embedding_1 (Embedding)      (None, None, 16)          160000    \n",
      "_________________________________________________________________\n",
      "global_average_pooling1d_1 ( (None, 16)                0         \n",
      "_________________________________________________________________\n",
      "dense_1 (Dense)              (None, 16)                272       \n",
      "_________________________________________________________________\n",
      "dense_2 (Dense)              (None, 1)                 17        \n",
      "=================================================================\n",
      "Total params: 160,289\n",
      "Trainable params: 160,289\n",
      "Non-trainable params: 0\n",
      "_________________________________________________________________\n"
     ]
    }
   ],
   "source": [
    "model = keras.Sequential()\n",
    "model.add(layers.Embedding(vocab_size, 16))\n",
    "model.add(layers.GlobalAveragePooling1D())\n",
    "model.add(layers.Dense(16, activation='relu'))\n",
    "model.add(layers.Dense(1, activation='sigmoid'))\n",
    "model.summary()"
   ]
  },
  {
   "cell_type": "code",
   "execution_count": 12,
   "metadata": {},
   "outputs": [],
   "source": [
    "model.compile(optimizer='adam', loss='binary_crossentropy', metrics=['accuracy'])"
   ]
  },
  {
   "cell_type": "code",
   "execution_count": 14,
   "metadata": {},
   "outputs": [],
   "source": [
    "n_val = 10000\n",
    "x_val = data_trn[:n_val]\n",
    "x_trn = data_trn[n_val:]\n",
    "y_val = label_trn[0:n_val]\n",
    "y_trn = label_trn[n_val:]"
   ]
  },
  {
   "cell_type": "code",
   "execution_count": 15,
   "metadata": {},
   "outputs": [
    {
     "name": "stderr",
     "output_type": "stream",
     "text": [
      "WARNING: Logging before flag parsing goes to stderr.\n",
      "W0610 14:12:31.762770 28992 deprecation.py:323] From C:\\Anaconda3\\lib\\site-packages\\tensorflow\\python\\ops\\math_grad.py:1250: add_dispatch_support.<locals>.wrapper (from tensorflow.python.ops.array_ops) is deprecated and will be removed in a future version.\n",
      "Instructions for updating:\n",
      "Use tf.where in 2.0, which has the same broadcast rule as np.where\n"
     ]
    },
    {
     "name": "stdout",
     "output_type": "stream",
     "text": [
      "Train on 15000 samples, validate on 10000 samples\n",
      "Epoch 1/40\n",
      "15000/15000 [==============================] - 5s 362us/sample - loss: 0.6501 - accuracy: 0.6668 - val_loss: 0.5387 - val_accuracy: 0.8105\n",
      "Epoch 2/40\n",
      "15000/15000 [==============================] - 4s 286us/sample - loss: 0.4096 - accuracy: 0.8583 - val_loss: 0.3472 - val_accuracy: 0.8707\n",
      "Epoch 3/40\n",
      "15000/15000 [==============================] - 4s 293us/sample - loss: 0.2858 - accuracy: 0.8957 - val_loss: 0.3021 - val_accuracy: 0.8828\n",
      "Epoch 4/40\n",
      "15000/15000 [==============================] - 4s 290us/sample - loss: 0.2350 - accuracy: 0.9132 - val_loss: 0.2876 - val_accuracy: 0.8844\n",
      "Epoch 5/40\n",
      "15000/15000 [==============================] - 5s 311us/sample - loss: 0.1996 - accuracy: 0.9286 - val_loss: 0.2795 - val_accuracy: 0.8953\n",
      "Epoch 6/40\n",
      "15000/15000 [==============================] - 5s 318us/sample - loss: 0.1743 - accuracy: 0.9393 - val_loss: 0.2780 - val_accuracy: 0.8932\n",
      "Epoch 7/40\n",
      "15000/15000 [==============================] - 5s 302us/sample - loss: 0.1531 - accuracy: 0.9480 - val_loss: 0.2821 - val_accuracy: 0.8920\n",
      "Epoch 8/40\n",
      "15000/15000 [==============================] - 4s 294us/sample - loss: 0.1341 - accuracy: 0.9554 - val_loss: 0.2895 - val_accuracy: 0.8915\n",
      "Epoch 9/40\n",
      "15000/15000 [==============================] - 4s 297us/sample - loss: 0.1179 - accuracy: 0.9621 - val_loss: 0.2961 - val_accuracy: 0.8916\n",
      "Epoch 10/40\n",
      "15000/15000 [==============================] - 5s 309us/sample - loss: 0.1040 - accuracy: 0.9681 - val_loss: 0.3102 - val_accuracy: 0.8884\n",
      "Epoch 11/40\n",
      "15000/15000 [==============================] - 5s 311us/sample - loss: 0.0913 - accuracy: 0.9726 - val_loss: 0.3284 - val_accuracy: 0.8869\n",
      "Epoch 12/40\n",
      "15000/15000 [==============================] - 5s 323us/sample - loss: 0.0806 - accuracy: 0.9767 - val_loss: 0.3504 - val_accuracy: 0.8809\n",
      "Epoch 13/40\n",
      "15000/15000 [==============================] - 5s 324us/sample - loss: 0.0698 - accuracy: 0.9809 - val_loss: 0.3529 - val_accuracy: 0.8854\n",
      "Epoch 14/40\n",
      "15000/15000 [==============================] - 5s 307us/sample - loss: 0.0602 - accuracy: 0.9845 - val_loss: 0.3726 - val_accuracy: 0.8830\n",
      "Epoch 15/40\n",
      "15000/15000 [==============================] - 4s 290us/sample - loss: 0.0528 - accuracy: 0.9876 - val_loss: 0.3982 - val_accuracy: 0.8773\n",
      "Epoch 16/40\n",
      "15000/15000 [==============================] - 4s 290us/sample - loss: 0.0461 - accuracy: 0.9892 - val_loss: 0.4211 - val_accuracy: 0.8761\n",
      "Epoch 17/40\n",
      "15000/15000 [==============================] - 4s 296us/sample - loss: 0.0394 - accuracy: 0.9917 - val_loss: 0.4495 - val_accuracy: 0.8759\n",
      "Epoch 18/40\n",
      "15000/15000 [==============================] - 5s 313us/sample - loss: 0.0342 - accuracy: 0.9933 - val_loss: 0.4600 - val_accuracy: 0.8750\n",
      "Epoch 19/40\n",
      "15000/15000 [==============================] - 5s 318us/sample - loss: 0.0279 - accuracy: 0.9949 - val_loss: 0.4878 - val_accuracy: 0.8735\n",
      "Epoch 20/40\n",
      "15000/15000 [==============================] - 5s 321us/sample - loss: 0.0249 - accuracy: 0.9953 - val_loss: 0.5155 - val_accuracy: 0.8716\n",
      "Epoch 21/40\n",
      "15000/15000 [==============================] - 5s 324us/sample - loss: 0.0206 - accuracy: 0.9967 - val_loss: 0.5320 - val_accuracy: 0.8715\n",
      "Epoch 22/40\n",
      "15000/15000 [==============================] - 5s 303us/sample - loss: 0.0158 - accuracy: 0.9977 - val_loss: 0.5631 - val_accuracy: 0.8706\n",
      "Epoch 23/40\n",
      "15000/15000 [==============================] - 5s 306us/sample - loss: 0.0130 - accuracy: 0.9984 - val_loss: 0.5826 - val_accuracy: 0.8699\n",
      "Epoch 24/40\n",
      "15000/15000 [==============================] - 5s 302us/sample - loss: 0.0109 - accuracy: 0.9987 - val_loss: 0.6170 - val_accuracy: 0.8697\n",
      "Epoch 25/40\n",
      "15000/15000 [==============================] - 4s 294us/sample - loss: 0.0092 - accuracy: 0.9987 - val_loss: 0.6366 - val_accuracy: 0.8677\n",
      "Epoch 26/40\n",
      "15000/15000 [==============================] - 5s 300us/sample - loss: 0.0073 - accuracy: 0.9994 - val_loss: 0.6673 - val_accuracy: 0.8674\n",
      "Epoch 27/40\n",
      "15000/15000 [==============================] - 4s 288us/sample - loss: 0.0063 - accuracy: 0.9995 - val_loss: 0.6959 - val_accuracy: 0.8651\n",
      "Epoch 28/40\n",
      "15000/15000 [==============================] - 4s 276us/sample - loss: 0.0054 - accuracy: 0.9997 - val_loss: 0.7191 - val_accuracy: 0.8666\n",
      "Epoch 29/40\n",
      "15000/15000 [==============================] - 4s 281us/sample - loss: 0.0045 - accuracy: 0.9997 - val_loss: 0.7521 - val_accuracy: 0.8638\n",
      "Epoch 30/40\n",
      "15000/15000 [==============================] - 4s 278us/sample - loss: 0.0037 - accuracy: 0.9995 - val_loss: 0.7680 - val_accuracy: 0.8645\n",
      "Epoch 31/40\n",
      "15000/15000 [==============================] - 4s 296us/sample - loss: 0.0030 - accuracy: 0.9997 - val_loss: 0.7930 - val_accuracy: 0.8643\n",
      "Epoch 32/40\n",
      "15000/15000 [==============================] - 5s 302us/sample - loss: 0.0022 - accuracy: 0.9999 - val_loss: 0.7989 - val_accuracy: 0.8661\n",
      "Epoch 33/40\n",
      "15000/15000 [==============================] - 5s 308us/sample - loss: 0.0019 - accuracy: 0.9998 - val_loss: 0.8319 - val_accuracy: 0.8650\n",
      "Epoch 34/40\n",
      "15000/15000 [==============================] - 5s 300us/sample - loss: 0.0014 - accuracy: 0.9999 - val_loss: 0.8589 - val_accuracy: 0.8632\n",
      "Epoch 35/40\n",
      "15000/15000 [==============================] - 4s 289us/sample - loss: 0.0019 - accuracy: 0.9999 - val_loss: 0.8761 - val_accuracy: 0.8639\n",
      "Epoch 36/40\n",
      "15000/15000 [==============================] - 4s 288us/sample - loss: 0.0011 - accuracy: 0.9999 - val_loss: 0.8872 - val_accuracy: 0.8637\n",
      "Epoch 37/40\n",
      "15000/15000 [==============================] - 4s 297us/sample - loss: 9.4973e-04 - accuracy: 0.9999 - val_loss: 0.9081 - val_accuracy: 0.8648\n",
      "Epoch 38/40\n",
      "15000/15000 [==============================] - 4s 287us/sample - loss: 7.6303e-04 - accuracy: 0.9999 - val_loss: 0.9254 - val_accuracy: 0.8634\n",
      "Epoch 39/40\n",
      "15000/15000 [==============================] - 5s 306us/sample - loss: 0.0018 - accuracy: 0.9995 - val_loss: 0.9395 - val_accuracy: 0.8633\n",
      "Epoch 40/40\n",
      "15000/15000 [==============================] - 5s 302us/sample - loss: 9.5265e-04 - accuracy: 0.9998 - val_loss: 0.9819 - val_accuracy: 0.8590\n"
     ]
    }
   ],
   "source": [
    "history = model.fit(x_trn, y_trn, epochs=40, validation_data=(x_val, y_val), verbose=1)"
   ]
  },
  {
   "cell_type": "code",
   "execution_count": 16,
   "metadata": {},
   "outputs": [
    {
     "name": "stdout",
     "output_type": "stream",
     "text": [
      "25000/25000 [==============================] - 2s 87us/sample - loss: 1.1117 - accuracy: 0.8432\n"
     ]
    }
   ],
   "source": [
    "results = model.evaluate(data_tst, label_tst)"
   ]
  },
  {
   "cell_type": "code",
   "execution_count": 17,
   "metadata": {},
   "outputs": [
    {
     "data": {
      "text/plain": [
       "[1.1116931204813718, 0.84324]"
      ]
     },
     "execution_count": 17,
     "metadata": {},
     "output_type": "execute_result"
    }
   ],
   "source": [
    "results"
   ]
  },
  {
   "cell_type": "code",
   "execution_count": 18,
   "metadata": {},
   "outputs": [],
   "source": [
    "history_dict = history.history"
   ]
  },
  {
   "cell_type": "code",
   "execution_count": 21,
   "metadata": {},
   "outputs": [],
   "source": [
    "acc_trn = history_dict['accuracy']\n",
    "acc_val = history_dict['val_accuracy']\n",
    "loss_trn = history_dict['loss']\n",
    "loss_val = history_dict['val_loss']\n",
    "epochs = range(1, len(acc_trn)+1)"
   ]
  },
  {
   "cell_type": "code",
   "execution_count": 23,
   "metadata": {},
   "outputs": [
    {
     "data": {
      "image/png": "[encoded data removed]",
      "text/plain": [
       "<Figure size 432x288 with 1 Axes>"
      ]
     },
     "metadata": {
      "needs_background": "light"
     },
     "output_type": "display_data"
    }
   ],
   "source": [
    "plt.plot(epochs, loss_trn, 'bo', label='Training Loss')\n",
    "plt.plot(epochs, loss_val, 'b', label='Validation Loss')\n",
    "plt.title('Training & Validation Loss')\n",
    "plt.xlabel('Epoch')\n",
    "plt.ylabel('Loss')\n",
    "plt.legend()\n",
    "plt.grid()\n",
    "plt.show()"
   ]
  },
  {
   "cell_type": "code",
   "execution_count": 24,
   "metadata": {},
   "outputs": [
    {
     "data": {
      "image/png": "[encoded data removed]",
      "text/plain": [
       "<Figure size 432x288 with 1 Axes>"
      ]
     },
     "metadata": {
      "needs_background": "light"
     },
     "output_type": "display_data"
    }
   ],
   "source": [
    "plt.plot(epochs, acc_trn, 'bo', label='Training Accuracy')\n",
    "plt.plot(epochs, acc_val, 'b', label='Validation Accuracy')\n",
    "plt.title('Training & Validation Accuracy')\n",
    "plt.xlabel('Epoch')\n",
    "plt.ylabel('Accuracy')\n",
    "plt.legend()\n",
    "plt.grid()\n",
    "plt.show()"
   ]
  },
  {
   "cell_type": "code",
   "execution_count": null,
   "metadata": {},
   "outputs": [],
   "source": []
  }
 ],
 "metadata": {
  "kernelspec": {
   "display_name": "Python 3",
   "language": "python",
   "name": "python3"
  },
  "language_info": {
   "codemirror_mode": {
    "name": "ipython",
    "version": 3
   },
   "file_extension": ".py",
   "mimetype": "text/x-python",
   "name": "python",
   "nbconvert_exporter": "python",
   "pygments_lexer": "ipython3",
   "version": "3.7.3"
  }
 },
 "nbformat": 4,
 "nbformat_minor": 2
}
