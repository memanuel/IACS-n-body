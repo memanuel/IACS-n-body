{
 "cells": [
  {
   "cell_type": "code",
   "execution_count": 1,
   "metadata": {},
   "outputs": [],
   "source": [
    "import tensorflow as tf\n",
    "import matplotlib.pyplot as plt\n",
    "keras = tf.keras\n",
    "layers = keras.layers"
   ]
  },
  {
   "cell_type": "code",
   "execution_count": 3,
   "metadata": {},
   "outputs": [],
   "source": [
    "gpus = tf.config.experimental.list_physical_devices('GPU')\n",
    "for gpu in gpus:\n",
    "    tf.config.experimental.set_memory_growth(gpu, True)"
   ]
  },
  {
   "cell_type": "code",
   "execution_count": 4,
   "metadata": {},
   "outputs": [],
   "source": [
    "vocab_size = 10000\n",
    "imdb = keras.datasets.imdb\n",
    "(data_trn, label_trn), (data_tst, label_tst) = imdb.load_data(num_words=vocab_size)"
   ]
  },
  {
   "cell_type": "code",
   "execution_count": 6,
   "metadata": {},
   "outputs": [
    {
     "name": "stdout",
     "output_type": "stream",
     "text": [
      "[1, 14, 22, 16, 43, 530, 973, 1622, 1385, 65, 458, 4468, 66, 3941, 4, 173, 36, 256, 5, 25, 100, 43, 838, 112, 50, 670, 2, 9, 35, 480, 284, 5, 150, 4, 172, 112, 167, 2, 336, 385, 39, 4, 172, 4536, 1111, 17, 546, 38, 13, 447, 4, 192, 50, 16, 6, 147, 2025, 19, 14, 22, 4, 1920, 4613, 469, 4, 22, 71, 87, 12, 16, 43, 530, 38, 76, 15, 13, 1247, 4, 22, 17, 515, 17, 12, 16, 626, 18, 2, 5, 62, 386, 12, 8, 316, 8, 106, 5, 4, 2223, 5244, 16, 480, 66, 3785, 33, 4, 130, 12, 16, 38, 619, 5, 25, 124, 51, 36, 135, 48, 25, 1415, 33, 6, 22, 12, 215, 28, 77, 52, 5, 14, 407, 16, 82, 2, 8, 4, 107, 117, 5952, 15, 256, 4, 2, 7, 3766, 5, 723, 36, 71, 43, 530, 476, 26, 400, 317, 46, 7, 4, 2, 1029, 13, 104, 88, 4, 381, 15, 297, 98, 32, 2071, 56, 26, 141, 6, 194, 7486, 18, 4, 226, 22, 21, 134, 476, 26, 480, 5, 144, 30, 5535, 18, 51, 36, 28, 224, 92, 25, 104, 4, 226, 65, 16, 38, 1334, 88, 12, 16, 283, 5, 16, 4472, 113, 103, 32, 15, 16, 5345, 19, 178, 32]\n"
     ]
    }
   ],
   "source": [
    "print(data_trn[0])"
   ]
  },
  {
   "cell_type": "code",
   "execution_count": 7,
   "metadata": {},
   "outputs": [
    {
     "name": "stdout",
     "output_type": "stream",
     "text": [
      "Downloading data from https://storage.googleapis.com/tensorflow/tf-keras-datasets/imdb_word_index.json\n",
      "1646592/1641221 [==============================] - 0s 0us/step\n"
     ]
    }
   ],
   "source": [
    "word_index = imdb.get_word_index()"
   ]
  },
  {
   "cell_type": "code",
   "execution_count": 8,
   "metadata": {},
   "outputs": [],
   "source": [
    "word_index = {k:(v+3) for k, v in word_index.items()}\n",
    "word_index[\"<PAD>\"] = 0\n",
    "word_index[\"<START>\"] = 1\n",
    "word_index[\"<UNK>\"] = 2  # unknown\n",
    "word_index[\"<UNUSED>\"] = 3"
   ]
  },
  {
   "cell_type": "code",
   "execution_count": 9,
   "metadata": {},
   "outputs": [],
   "source": [
    "reverse_word_index = {value : key for (key, value) in word_index.items()}"
   ]
  },
  {
   "cell_type": "code",
   "execution_count": 10,
   "metadata": {},
   "outputs": [],
   "source": [
    "def decode_review(text):\n",
    "    return ' '.join([reverse_word_index.get(i, '?') for i in text])"
   ]
  },
  {
   "cell_type": "code",
   "execution_count": 11,
   "metadata": {},
   "outputs": [
    {
     "data": {
      "text/plain": [
       "\"<START> this film was just brilliant casting location scenery story direction everyone's really suited the part they played and you could just imagine being there robert <UNK> is an amazing actor and now the same being director <UNK> father came from the same scottish island as myself so i loved the fact there was a real connection with this film the witty remarks throughout the film were great it was just brilliant so much that i bought the film as soon as it was released for <UNK> and would recommend it to everyone to watch and the fly fishing was amazing really cried at the end it was so sad and you know what they say if you cry at a film it must have been good and this definitely was also <UNK> to the two little boy's that played the <UNK> of norman and paul they were just brilliant children are often left out of the <UNK> list i think because the stars that play them all grown up are such a big profile for the whole film but these children are amazing and should be praised for what they have done don't you think the whole story was so lovely because it was true and was someone's life after all that was shared with us all\""
      ]
     },
     "execution_count": 11,
     "metadata": {},
     "output_type": "execute_result"
    }
   ],
   "source": [
    "decode_review(data_trn[0])"
   ]
  },
  {
   "cell_type": "code",
   "execution_count": 13,
   "metadata": {},
   "outputs": [],
   "source": [
    "maxlen = 500\n",
    "data_trn = keras.preprocessing.sequence.pad_sequences(data_trn, value=word_index['<PAD>'], padding='post', maxlen=maxlen)\n",
    "data_tst = keras.preprocessing.sequence.pad_sequences(data_tst, value=word_index['<PAD>'], padding='post', maxlen=maxlen)"
   ]
  },
  {
   "cell_type": "code",
   "execution_count": 14,
   "metadata": {},
   "outputs": [
    {
     "name": "stdout",
     "output_type": "stream",
     "text": [
      "[   1   14   22   16   43  530  973 1622 1385   65  458 4468   66 3941\n",
      "    4  173   36  256    5   25  100   43  838  112   50  670    2    9\n",
      "   35  480  284    5  150    4  172  112  167    2  336  385   39    4\n",
      "  172 4536 1111   17  546   38   13  447    4  192   50   16    6  147\n",
      " 2025   19   14   22    4 1920 4613  469    4   22   71   87   12   16\n",
      "   43  530   38   76   15   13 1247    4   22   17  515   17   12   16\n",
      "  626   18    2    5   62  386   12    8  316    8  106    5    4 2223\n",
      " 5244   16  480   66 3785   33    4  130   12   16   38  619    5   25\n",
      "  124   51   36  135   48   25 1415   33    6   22   12  215   28   77\n",
      "   52    5   14  407   16   82    2    8    4  107  117 5952   15  256\n",
      "    4    2    7 3766    5  723   36   71   43  530  476   26  400  317\n",
      "   46    7    4    2 1029   13  104   88    4  381   15  297   98   32\n",
      " 2071   56   26  141    6  194 7486   18    4  226   22   21  134  476\n",
      "   26  480    5  144   30 5535   18   51   36   28  224   92   25  104\n",
      "    4  226   65   16   38 1334   88   12   16  283    5   16 4472  113\n",
      "  103   32   15   16 5345   19  178   32    0    0    0    0    0    0\n",
      "    0    0    0    0    0    0    0    0    0    0    0    0    0    0\n",
      "    0    0    0    0    0    0    0    0    0    0    0    0    0    0\n",
      "    0    0    0    0    0    0    0    0    0    0    0    0    0    0\n",
      "    0    0    0    0    0    0    0    0    0    0    0    0    0    0\n",
      "    0    0    0    0    0    0    0    0    0    0    0    0    0    0\n",
      "    0    0    0    0    0    0    0    0    0    0    0    0    0    0\n",
      "    0    0    0    0    0    0    0    0    0    0    0    0    0    0\n",
      "    0    0    0    0    0    0    0    0    0    0    0    0    0    0\n",
      "    0    0    0    0    0    0    0    0    0    0    0    0    0    0\n",
      "    0    0    0    0    0    0    0    0    0    0    0    0    0    0\n",
      "    0    0    0    0    0    0    0    0    0    0    0    0    0    0\n",
      "    0    0    0    0    0    0    0    0    0    0    0    0    0    0\n",
      "    0    0    0    0    0    0    0    0    0    0    0    0    0    0\n",
      "    0    0    0    0    0    0    0    0    0    0    0    0    0    0\n",
      "    0    0    0    0    0    0    0    0    0    0    0    0    0    0\n",
      "    0    0    0    0    0    0    0    0    0    0    0    0    0    0\n",
      "    0    0    0    0    0    0    0    0    0    0    0    0    0    0\n",
      "    0    0    0    0    0    0    0    0    0    0    0    0    0    0\n",
      "    0    0    0    0    0    0    0    0    0    0    0    0    0    0\n",
      "    0    0    0    0    0    0    0    0    0    0]\n"
     ]
    }
   ],
   "source": [
    "print(data_trn[0])"
   ]
  },
  {
   "cell_type": "code",
   "execution_count": 15,
   "metadata": {},
   "outputs": [
    {
     "name": "stdout",
     "output_type": "stream",
     "text": [
      "Model: \"sequential\"\n",
      "_________________________________________________________________\n",
      "Layer (type)                 Output Shape              Param #   \n",
      "=================================================================\n",
      "embedding (Embedding)        (None, 500, 16)           160000    \n",
      "_________________________________________________________________\n",
      "global_average_pooling1d (Gl (None, 16)                0         \n",
      "_________________________________________________________________\n",
      "dense (Dense)                (None, 16)                272       \n",
      "_________________________________________________________________\n",
      "dense_1 (Dense)              (None, 1)                 17        \n",
      "=================================================================\n",
      "Total params: 160,289\n",
      "Trainable params: 160,289\n",
      "Non-trainable params: 0\n",
      "_________________________________________________________________\n"
     ]
    }
   ],
   "source": [
    "embedding_dim = 16\n",
    "model = keras.Sequential([\n",
    "    layers.Embedding(vocab_size, embedding_dim, input_length=maxlen),\n",
    "    layers.GlobalAveragePooling1D(),\n",
    "    layers.Dense(16, activation='relu'),\n",
    "    layers.Dense(1, activation='sigmoid')\n",
    "])\n",
    "model.summary()"
   ]
  },
  {
   "cell_type": "code",
   "execution_count": 16,
   "metadata": {},
   "outputs": [],
   "source": [
    "model.compile(optimizer='adam', loss='binary_crossentropy', metrics=['accuracy'])"
   ]
  },
  {
   "cell_type": "code",
   "execution_count": 18,
   "metadata": {},
   "outputs": [
    {
     "name": "stderr",
     "output_type": "stream",
     "text": [
      "WARNING: Logging before flag parsing goes to stderr.\n",
      "W0610 12:32:26.480171 23280 deprecation.py:323] From C:\\Anaconda3\\lib\\site-packages\\tensorflow\\python\\ops\\math_grad.py:1250: add_dispatch_support.<locals>.wrapper (from tensorflow.python.ops.array_ops) is deprecated and will be removed in a future version.\n",
      "Instructions for updating:\n",
      "Use tf.where in 2.0, which has the same broadcast rule as np.where\n"
     ]
    },
    {
     "name": "stdout",
     "output_type": "stream",
     "text": [
      "Train on 20000 samples, validate on 5000 samples\n",
      "Epoch 1/30\n",
      "20000/20000 [==============================] - 2s 117us/sample - loss: 0.6928 - accuracy: 0.5181 - val_loss: 0.6923 - val_accuracy: 0.5134\n",
      "Epoch 2/30\n",
      "20000/20000 [==============================] - 2s 82us/sample - loss: 0.6907 - accuracy: 0.5513 - val_loss: 0.6878 - val_accuracy: 0.5880\n",
      "Epoch 3/30\n",
      "20000/20000 [==============================] - 2s 79us/sample - loss: 0.6833 - accuracy: 0.7058 - val_loss: 0.6764 - val_accuracy: 0.7440\n",
      "Epoch 4/30\n",
      "20000/20000 [==============================] - 2s 77us/sample - loss: 0.6663 - accuracy: 0.7492 - val_loss: 0.6530 - val_accuracy: 0.7472\n",
      "Epoch 5/30\n",
      "20000/20000 [==============================] - 2s 79us/sample - loss: 0.6365 - accuracy: 0.7786 - val_loss: 0.6172 - val_accuracy: 0.7794\n",
      "Epoch 6/30\n",
      "20000/20000 [==============================] - 2s 79us/sample - loss: 0.5946 - accuracy: 0.7979 - val_loss: 0.5724 - val_accuracy: 0.7980\n",
      "Epoch 7/30\n",
      "20000/20000 [==============================] - 2s 78us/sample - loss: 0.5467 - accuracy: 0.8142 - val_loss: 0.5271 - val_accuracy: 0.8098\n",
      "Epoch 8/30\n",
      "20000/20000 [==============================] - 2s 79us/sample - loss: 0.4972 - accuracy: 0.8375 - val_loss: 0.4834 - val_accuracy: 0.8260\n",
      "Epoch 9/30\n",
      "20000/20000 [==============================] - 2s 78us/sample - loss: 0.4520 - accuracy: 0.8539 - val_loss: 0.4453 - val_accuracy: 0.8442\n",
      "Epoch 10/30\n",
      "20000/20000 [==============================] - 2s 79us/sample - loss: 0.4119 - accuracy: 0.8682 - val_loss: 0.4145 - val_accuracy: 0.8562\n",
      "Epoch 11/30\n",
      "20000/20000 [==============================] - ETA: 0s - loss: 0.3790 - accuracy: 0.8763 ETA:  - 2s 76us/sample - loss: 0.3788 - accuracy: 0.8763 - val_loss: 0.3892 - val_accuracy: 0.8628\n",
      "Epoch 12/30\n",
      "20000/20000 [==============================] - 2s 78us/sample - loss: 0.3515 - accuracy: 0.8834 - val_loss: 0.3703 - val_accuracy: 0.8652\n",
      "Epoch 13/30\n",
      "20000/20000 [==============================] - 2s 81us/sample - loss: 0.3286 - accuracy: 0.8895 - val_loss: 0.3544 - val_accuracy: 0.8698\n",
      "Epoch 14/30\n",
      "20000/20000 [==============================] - 2s 80us/sample - loss: 0.3091 - accuracy: 0.8951 - val_loss: 0.3418 - val_accuracy: 0.8720\n",
      "Epoch 15/30\n",
      "20000/20000 [==============================] - 2s 82us/sample - loss: 0.2939 - accuracy: 0.9003 - val_loss: 0.3318 - val_accuracy: 0.8750\n",
      "Epoch 16/30\n",
      "20000/20000 [==============================] - 2s 80us/sample - loss: 0.2792 - accuracy: 0.9035 - val_loss: 0.3297 - val_accuracy: 0.8680\n",
      "Epoch 17/30\n",
      "20000/20000 [==============================] - 2s 81us/sample - loss: 0.2668 - accuracy: 0.9081 - val_loss: 0.3170 - val_accuracy: 0.8798\n",
      "Epoch 18/30\n",
      "20000/20000 [==============================] - 2s 80us/sample - loss: 0.2546 - accuracy: 0.9122 - val_loss: 0.3100 - val_accuracy: 0.8808\n",
      "Epoch 19/30\n",
      "20000/20000 [==============================] - 2s 79us/sample - loss: 0.2443 - accuracy: 0.9161 - val_loss: 0.3053 - val_accuracy: 0.8824\n",
      "Epoch 20/30\n",
      "20000/20000 [==============================] - 2s 80us/sample - loss: 0.2347 - accuracy: 0.9183 - val_loss: 0.3013 - val_accuracy: 0.8832\n",
      "Epoch 21/30\n",
      "20000/20000 [==============================] - 2s 81us/sample - loss: 0.2267 - accuracy: 0.9216 - val_loss: 0.2971 - val_accuracy: 0.8852\n",
      "Epoch 22/30\n",
      "20000/20000 [==============================] - 2s 79us/sample - loss: 0.2200 - accuracy: 0.9240 - val_loss: 0.2941 - val_accuracy: 0.8866\n",
      "Epoch 23/30\n",
      "20000/20000 [==============================] - 2s 78us/sample - loss: 0.2117 - accuracy: 0.9264 - val_loss: 0.2923 - val_accuracy: 0.8882\n",
      "Epoch 24/30\n",
      "20000/20000 [==============================] - 2s 81us/sample - loss: 0.2046 - accuracy: 0.9290 - val_loss: 0.2893 - val_accuracy: 0.8892\n",
      "Epoch 25/30\n",
      "20000/20000 [==============================] - 2s 76us/sample - loss: 0.1979 - accuracy: 0.9305 - val_loss: 0.2886 - val_accuracy: 0.8894\n",
      "Epoch 26/30\n",
      "20000/20000 [==============================] - 2s 78us/sample - loss: 0.1926 - accuracy: 0.9323 - val_loss: 0.2867 - val_accuracy: 0.8894\n",
      "Epoch 27/30\n",
      "20000/20000 [==============================] - 2s 79us/sample - loss: 0.1866 - accuracy: 0.9356 - val_loss: 0.2860 - val_accuracy: 0.8892\n",
      "Epoch 28/30\n",
      "20000/20000 [==============================] - 2s 78us/sample - loss: 0.1809 - accuracy: 0.9374 - val_loss: 0.2840 - val_accuracy: 0.8900\n",
      "Epoch 29/30\n",
      "20000/20000 [==============================] - 2s 80us/sample - loss: 0.1752 - accuracy: 0.9405 - val_loss: 0.2830 - val_accuracy: 0.8920\n",
      "Epoch 30/30\n",
      "20000/20000 [==============================] - 2s 79us/sample - loss: 0.1702 - accuracy: 0.9421 - val_loss: 0.2845 - val_accuracy: 0.8914\n"
     ]
    }
   ],
   "source": [
    "history=model.fit(data_trn, label_trn, epochs=30, batch_size=512, validation_split=0.20)"
   ]
  },
  {
   "cell_type": "code",
   "execution_count": 23,
   "metadata": {},
   "outputs": [],
   "source": [
    "history_dict = history.history\n",
    "acc_trn = history_dict['accuracy']\n",
    "acc_val = history_dict['val_accuracy']\n",
    "loss_trn = history_dict['loss']\n",
    "loss_val = history_dict['val_loss']\n",
    "epochs = range(1, len(acc_trn)+1)"
   ]
  },
  {
   "cell_type": "code",
   "execution_count": 27,
   "metadata": {},
   "outputs": [
    {
     "data": {
      "image/png": "[encoded data removed]",
      "text/plain": [
       "<Figure size 864x648 with 1 Axes>"
      ]
     },
     "metadata": {
      "needs_background": "light"
     },
     "output_type": "display_data"
    }
   ],
   "source": [
    "plt.figure(figsize=(12,9))\n",
    "plt.plot(epochs, loss_trn, 'bo', label='Training Loss')\n",
    "plt.plot(epochs, loss_val, 'b', label='Validation Loss')\n",
    "plt.title('Training & Validation Loss')\n",
    "plt.xlabel('Epoch')\n",
    "plt.ylabel('Loss')\n",
    "plt.legend()\n",
    "plt.grid()\n",
    "plt.show()"
   ]
  },
  {
   "cell_type": "code",
   "execution_count": 28,
   "metadata": {},
   "outputs": [
    {
     "data": {
      "image/png": "[encoded data removed]",
      "text/plain": [
       "<Figure size 864x648 with 1 Axes>"
      ]
     },
     "metadata": {
      "needs_background": "light"
     },
     "output_type": "display_data"
    }
   ],
   "source": [
    "plt.figure(figsize=(12,9))\n",
    "plt.plot(epochs, acc_trn, 'bo', label='Training Accuracy')\n",
    "plt.plot(epochs, acc_val, 'b', label='Validation Accuracy')\n",
    "plt.title('Training & Validation Accuracy')\n",
    "plt.xlabel('Epoch')\n",
    "plt.ylabel('Accuracy')\n",
    "plt.legend()\n",
    "plt.grid()\n",
    "plt.show()"
   ]
  },
  {
   "cell_type": "code",
   "execution_count": 29,
   "metadata": {},
   "outputs": [
    {
     "name": "stdout",
     "output_type": "stream",
     "text": [
      "(10000, 16)\n"
     ]
    }
   ],
   "source": [
    "emb = model.layers[0]\n",
    "weights = emb.get_weights()[0]\n",
    "print(weights.shape)"
   ]
  },
  {
   "cell_type": "code",
   "execution_count": 31,
   "metadata": {},
   "outputs": [],
   "source": [
    "import io\n",
    "out_v = io.open('vecs.tsv', 'w', encoding='utf-8')\n",
    "out_m = io.open('meta.tsv', 'w', encoding='utf-8')\n",
    "for word_num in range(vocab_size):\n",
    "    word = reverse_word_index[word_num]\n",
    "    embeddings = weights[word_num]\n",
    "    out_m.write(word + '\\n')\n",
    "    out_v.write('\\t'.join([str(x) for x in embeddings]) + '\\n')\n",
    "out_v.close()\n",
    "out_m.close()"
   ]
  },
  {
   "cell_type": "code",
   "execution_count": null,
   "metadata": {},
   "outputs": [],
   "source": []
  }
 ],
 "metadata": {
  "kernelspec": {
   "display_name": "Python 3",
   "language": "python",
   "name": "python3"
  },
  "language_info": {
   "codemirror_mode": {
    "name": "ipython",
    "version": 3
   },
   "file_extension": ".py",
   "mimetype": "text/x-python",
   "name": "python",
   "nbconvert_exporter": "python",
   "pygments_lexer": "ipython3",
   "version": "3.7.3"
  }
 },
 "nbformat": 4,
 "nbformat_minor": 2
}
