{
 "cells": [
  {
   "cell_type": "code",
   "execution_count": 1,
   "metadata": {},
   "outputs": [],
   "source": [
    "# Library imports\n",
    "import tensorflow as tf\n",
    "import numpy as np\n",
    "keras = tf.keras\n",
    "import matplotlib.pyplot as plt\n",
    "import os\n",
    "import sys"
   ]
  },
  {
   "cell_type": "code",
   "execution_count": 2,
   "metadata": {},
   "outputs": [],
   "source": [
    "# Add src directory to path for local imports\n",
    "module_path = os.path.abspath(os.path.join('..'))\n",
    "if module_path not in sys.path:\n",
    "    sys.path.append(module_path)\n",
    "\n",
    "# Local imports\n",
    "from utils import gpu_grow_memory"
   ]
  },
  {
   "cell_type": "code",
   "execution_count": 3,
   "metadata": {},
   "outputs": [],
   "source": [
    "gpu_grow_memory()"
   ]
  },
  {
   "cell_type": "code",
   "execution_count": 4,
   "metadata": {},
   "outputs": [],
   "source": [
    "@tf.function\n",
    "def simple_nn_layer(x, y):\n",
    "    return tf.nn.relu(tf.matmul(x, y))"
   ]
  },
  {
   "cell_type": "code",
   "execution_count": 5,
   "metadata": {},
   "outputs": [
    {
     "data": {
      "text/plain": [
       "<tf.Tensor: id=23, shape=(3, 3), dtype=float32, numpy=\n",
       "array([[0.5328578 , 0.41398597, 0.14595816],\n",
       "       [1.6773702 , 0.71510756, 0.5577528 ],\n",
       "       [1.110822  , 0.627371  , 0.5181678 ]], dtype=float32)>"
      ]
     },
     "execution_count": 5,
     "metadata": {},
     "output_type": "execute_result"
    }
   ],
   "source": [
    "x = tf.random.uniform((3,3))\n",
    "y = tf.random.uniform((3,3))\n",
    "\n",
    "simple_nn_layer(x, y)"
   ]
  },
  {
   "cell_type": "code",
   "execution_count": 6,
   "metadata": {},
   "outputs": [
    {
     "data": {
      "text/plain": [
       "<tensorflow.python.eager.def_function.Function at 0x217040fe0b8>"
      ]
     },
     "execution_count": 6,
     "metadata": {},
     "output_type": "execute_result"
    }
   ],
   "source": [
    "simple_nn_layer"
   ]
  },
  {
   "cell_type": "code",
   "execution_count": 7,
   "metadata": {},
   "outputs": [
    {
     "data": {
      "text/plain": [
       "<tf.Tensor: id=36, shape=(3,), dtype=int32, numpy=array([3, 5, 7])>"
      ]
     },
     "execution_count": 7,
     "metadata": {},
     "output_type": "execute_result"
    }
   ],
   "source": [
    "def linear_layer(x):\n",
    "    return 2*x + 1\n",
    "\n",
    "@tf.function\n",
    "def deep_net(x):\n",
    "    return tf.nn.relu(linear_layer(x))\n",
    "\n",
    "deep_net(tf.constant((1,2,3)))"
   ]
  },
  {
   "cell_type": "code",
   "execution_count": 8,
   "metadata": {},
   "outputs": [
    {
     "name": "stdout",
     "output_type": "stream",
     "text": [
      "Eager conv:    0.0030880000000195196\n",
      "Function conv: 0.0025162000000023\n"
     ]
    }
   ],
   "source": [
    "import timeit\n",
    "\n",
    "conv_layer = tf.keras.layers.Conv2D(100, 3)\n",
    "\n",
    "@tf.function\n",
    "def conv_fn(image):\n",
    "    return conv_layer(image)\n",
    "\n",
    "image = tf.zeros([1, 200, 200, 100])\n",
    "\n",
    "conv_layer(image)\n",
    "conv_fn(image)\n",
    "\n",
    "print(f'Eager conv:   ', timeit.timeit(lambda: conv_layer(image), number=10))\n",
    "print(f'Function conv:', timeit.timeit(lambda: conv_fn(image), number=10))"
   ]
  },
  {
   "cell_type": "code",
   "execution_count": 10,
   "metadata": {},
   "outputs": [
    {
     "name": "stdout",
     "output_type": "stream",
     "text": [
      "Eager LSTM:     0.007383000000004358\n",
      "Function LSTM:  0.003946200000029876\n"
     ]
    }
   ],
   "source": [
    "lstm_cell = tf.keras.layers.LSTMCell(10)\n",
    "@tf.function\n",
    "def lstm_fn(input, state):\n",
    "    return lstm_cell(input, state)\n",
    "\n",
    "input = tf.zeros([10, 10])\n",
    "state = [tf.zeros([10, 10])] * 2\n",
    "\n",
    "lstm_cell(input, state)\n",
    "lstm_fn(input, state)\n",
    "\n",
    "print('Eager LSTM:    ', timeit.timeit(lambda: lstm_cell(input, state), number=10))\n",
    "print('Function LSTM: ', timeit.timeit(lambda: lstm_fn(input, state), number=10))"
   ]
  },
  {
   "cell_type": "code",
   "execution_count": 12,
   "metadata": {},
   "outputs": [
    {
     "name": "stdout",
     "output_type": "stream",
     "text": [
      "square_if_positive(2) = 4\n",
      "square_if_positive(-2) = 0\n"
     ]
    }
   ],
   "source": [
    "@tf.function\n",
    "def square_if_positive(x):\n",
    "    if x > 0:\n",
    "        return x * x\n",
    "    else:\n",
    "        return 0\n",
    "    \n",
    "print(f'square_if_positive(2) = {square_if_positive(tf.constant(2))}')\n",
    "print(f'square_if_positive(-2) = {square_if_positive(tf.constant(-2))}')"
   ]
  },
  {
   "cell_type": "code",
   "execution_count": 18,
   "metadata": {},
   "outputs": [
    {
     "data": {
      "text/plain": [
       "<tf.Tensor: id=852, shape=(), dtype=int32, numpy=12>"
      ]
     },
     "execution_count": 18,
     "metadata": {},
     "output_type": "execute_result"
    }
   ],
   "source": [
    "@tf.function\n",
    "def sum_even(items):\n",
    "    s = 0\n",
    "    for c in items:\n",
    "        if (c % 2) > 0:\n",
    "            continue\n",
    "        else:\n",
    "            s += c\n",
    "    return s\n",
    "\n",
    "sum_even(tf.constant([1,2,3,4,5,6]))"
   ]
  },
  {
   "cell_type": "code",
   "execution_count": 16,
   "metadata": {},
   "outputs": [
    {
     "data": {
      "text/plain": [
       "<tf.Tensor: id=720, shape=(6,), dtype=int32, numpy=array([1, 2, 3, 4, 5, 6])>"
      ]
     },
     "execution_count": 16,
     "metadata": {},
     "output_type": "execute_result"
    }
   ],
   "source": [
    "tf.constant([1,2,3,4,5,6])"
   ]
  },
  {
   "cell_type": "code",
   "execution_count": 21,
   "metadata": {},
   "outputs": [
    {
     "name": "stdout",
     "output_type": "stream",
     "text": [
      "1\n",
      "2\n",
      "Fizz\n",
      "4\n",
      "Buzz\n",
      "Fizz\n",
      "7\n",
      "8\n",
      "Fizz\n",
      "Buzz\n",
      "11\n",
      "Fizz\n",
      "13\n",
      "14\n",
      "FizzBuzz\n"
     ]
    }
   ],
   "source": [
    "@tf.function\n",
    "def fizzbuzz(n):\n",
    "    for i in tf.range(1, n+1):\n",
    "        if tf.equal(i % 15, 0):\n",
    "            tf.print('FizzBuzz')\n",
    "        elif tf.equal(i % 3, 0):\n",
    "            tf.print('Fizz')\n",
    "        elif tf.equal(i % 5, 0):\n",
    "            tf.print('Buzz')\n",
    "        else:\n",
    "            tf.print(i)\n",
    "\n",
    "fizzbuzz(tf.constant(15))"
   ]
  },
  {
   "cell_type": "code",
   "execution_count": 22,
   "metadata": {},
   "outputs": [
    {
     "name": "stdout",
     "output_type": "stream",
     "text": [
      "1\n",
      "2\n",
      "Fizz\n",
      "4\n",
      "Buzz\n",
      "Fizz\n",
      "7\n",
      "8\n",
      "Fizz\n",
      "Buzz\n",
      "11\n",
      "Fizz\n",
      "13\n",
      "14\n",
      "FizzBuzz\n"
     ]
    }
   ],
   "source": [
    "fizzbuzz(15)"
   ]
  },
  {
   "cell_type": "code",
   "execution_count": 65,
   "metadata": {},
   "outputs": [],
   "source": [
    "def prepare_mnist_data(x, y):\n",
    "    x = tf.cast(x, tf.float32) / 255.0\n",
    "    y = tf.cast(y, tf.int32)\n",
    "    return x, y\n",
    "\n",
    "def mnist_dataset():\n",
    "    (x, y), _ = tf.keras.datasets.mnist.load_data()\n",
    "    ds = tf.data.Dataset.from_tensor_slices((x,y))\n",
    "    ds = ds.map(prepare_mnist_data)\n",
    "    ds = ds.take(20000).shuffle(20000).batch(100)\n",
    "    return ds"
   ]
  },
  {
   "cell_type": "code",
   "execution_count": 66,
   "metadata": {},
   "outputs": [],
   "source": [
    "model = tf.keras.Sequential([\n",
    "    tf.keras.layers.Flatten(input_shape=(28, 28,)),\n",
    "    tf.keras.layers.Dense(100, activation='relu'),\n",
    "    tf.keras.layers.Dense(100, activation='relu'),\n",
    "    tf.keras.layers.Dense((10)),\n",
    "])\n",
    "model.build()\n",
    "optimizer = tf.keras.optimizers.Adam()"
   ]
  },
  {
   "cell_type": "code",
   "execution_count": 67,
   "metadata": {},
   "outputs": [],
   "source": [
    "calc_loss = tf.keras.losses.SparseCategoricalCrossentropy(from_logits=True)\n",
    "calc_acc = tf.keras.metrics.SparseCategoricalAccuracy()"
   ]
  },
  {
   "cell_type": "code",
   "execution_count": 68,
   "metadata": {},
   "outputs": [],
   "source": [
    "def train_one_step(model, optimizer, x, y):\n",
    "    with tf.GradientTape() as tape:\n",
    "        logits = model(x)\n",
    "        loss = calc_loss(y, logits)\n",
    "    grads = tape.gradient(loss, model.trainable_variables)\n",
    "    optimizer.apply_gradients(zip(grads, model.trainable_variables))\n",
    "    \n",
    "    calc_acc(y, logits)\n",
    "    return loss"
   ]
  },
  {
   "cell_type": "code",
   "execution_count": 69,
   "metadata": {},
   "outputs": [
    {
     "data": {
      "text/plain": [
       "<tf.Tensor: id=4732, shape=(100,), dtype=int32, numpy=\n",
       "array([9, 5, 0, 7, 5, 3, 3, 7, 2, 9, 0, 8, 3, 6, 6, 2, 1, 1, 8, 5, 7, 1,\n",
       "       2, 8, 2, 0, 0, 7, 7, 1, 4, 2, 6, 1, 8, 5, 9, 3, 2, 7, 3, 7, 0, 9,\n",
       "       4, 8, 3, 6, 4, 8, 7, 0, 2, 4, 6, 9, 2, 7, 0, 1, 7, 5, 3, 1, 4, 9,\n",
       "       1, 2, 1, 1, 0, 7, 0, 6, 6, 5, 9, 9, 9, 9, 8, 4, 5, 1, 5, 2, 9, 7,\n",
       "       2, 6, 6, 5, 1, 0, 2, 7, 4, 9, 0, 8])>"
      ]
     },
     "execution_count": 69,
     "metadata": {},
     "output_type": "execute_result"
    }
   ],
   "source": [
    "ds = mnist_dataset()\n",
    "for (x, y) in ds.take(1):\n",
    "    pass\n",
    "# train_one_step(model, optimizer, x, y)\n",
    "model(x)\n",
    "y"
   ]
  },
  {
   "cell_type": "code",
   "execution_count": 70,
   "metadata": {},
   "outputs": [],
   "source": [
    "@tf.function\n",
    "def train(model, optimizer):\n",
    "    ds = mnist_dataset()\n",
    "    step = 0\n",
    "    loss = 0.0\n",
    "    accuracy = 0.0\n",
    "    for x, y in ds:\n",
    "        step += 1\n",
    "        loss = train_one_step(model, optimizer, x, y)\n",
    "        if tf.equal(step % 10, 0):\n",
    "            acc = calc_acc.result()\n",
    "            tf.print('Step ', step, 'loss', loss, 'accuracy', acc)\n",
    "    return step, loss, accuracy"
   ]
  },
  {
   "cell_type": "code",
   "execution_count": 71,
   "metadata": {},
   "outputs": [
    {
     "name": "stdout",
     "output_type": "stream",
     "text": [
      "Step  10 loss 1.82996488 accuracy 0.368\n",
      "Step  20 loss 1.32712841 accuracy 0.5025\n",
      "Step  30 loss 0.739079893 accuracy 0.584666669\n",
      "Step  40 loss 0.864029 accuracy 0.64275\n",
      "Step  50 loss 0.573883 accuracy 0.6846\n",
      "Step  60 loss 0.509914279 accuracy 0.712833345\n",
      "Step  70 loss 0.250975728 accuracy 0.734571457\n",
      "Step  80 loss 0.327843159 accuracy 0.75425\n",
      "Step  90 loss 0.46158585 accuracy 0.768666685\n",
      "Step  100 loss 0.227207169 accuracy 0.7819\n",
      "Step  110 loss 0.276043683 accuracy 0.792\n",
      "Step  120 loss 0.455222428 accuracy 0.801\n",
      "Step  130 loss 0.325037718 accuracy 0.809538484\n",
      "Step  140 loss 0.370701939 accuracy 0.816357136\n",
      "Step  150 loss 0.368190408 accuracy 0.8226\n",
      "Step  160 loss 0.225897133 accuracy 0.828375\n",
      "Step  170 loss 0.4260104 accuracy 0.833352923\n",
      "Step  180 loss 0.201803088 accuracy 0.837944448\n",
      "Step  190 loss 0.222904563 accuracy 0.842631578\n",
      "Step  200 loss 0.27454102 accuracy 0.8465\n",
      "Final step tf.Tensor(200, shape=(), dtype=int32) loss tf.Tensor(0.27454102, shape=(), dtype=float32) accuracy tf.Tensor(0.8465, shape=(), dtype=float32)\n"
     ]
    }
   ],
   "source": [
    "step, loss, accuracy = train(model, optimizer)\n",
    "print('Final step', step, 'loss', loss, 'accuracy', calc_acc.result())"
   ]
  },
  {
   "cell_type": "code",
   "execution_count": 72,
   "metadata": {},
   "outputs": [
    {
     "data": {
      "text/plain": [
       "[-5, -4, -3, -2, -1, 0, 1, 4, 9, 16]"
      ]
     },
     "execution_count": 72,
     "metadata": {},
     "output_type": "execute_result"
    }
   ],
   "source": [
    "def square_if_pos(x):\n",
    "    return [i ** 2 if i > 0 else i for i in x]\n",
    "\n",
    "square_if_pos(range(-5, 5))"
   ]
  },
  {
   "cell_type": "code",
   "execution_count": 74,
   "metadata": {},
   "outputs": [
    {
     "data": {
      "text/plain": [
       "<tf.Tensor: id=5594, shape=(10,), dtype=int32, numpy=array([-5, -4, -3, -2, -1,  0,  1,  4,  9, 16])>"
      ]
     },
     "execution_count": 74,
     "metadata": {},
     "output_type": "execute_result"
    }
   ],
   "source": [
    "@tf.function\n",
    "def square_if_pos_vec(x):\n",
    "    return tf.where(x>0, tf.square(x), x)\n",
    "\n",
    "square_if_pos_vec(tf.range(-5, 5))"
   ]
  },
  {
   "cell_type": "code",
   "execution_count": null,
   "metadata": {},
   "outputs": [],
   "source": []
  }
 ],
 "metadata": {
  "kernelspec": {
   "display_name": "Python 3",
   "language": "python",
   "name": "python3"
  },
  "language_info": {
   "codemirror_mode": {
    "name": "ipython",
    "version": 3
   },
   "file_extension": ".py",
   "mimetype": "text/x-python",
   "name": "python",
   "nbconvert_exporter": "python",
   "pygments_lexer": "ipython3",
   "version": "3.7.3"
  }
 },
 "nbformat": 4,
 "nbformat_minor": 2
}
