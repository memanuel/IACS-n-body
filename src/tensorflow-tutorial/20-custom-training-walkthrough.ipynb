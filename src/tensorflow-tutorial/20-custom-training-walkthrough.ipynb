{
 "cells": [
  {
   "cell_type": "code",
   "execution_count": 1,
   "metadata": {},
   "outputs": [],
   "source": [
    "# Library imports\n",
    "import tensorflow as tf\n",
    "import numpy as np\n",
    "keras = tf.keras\n",
    "import matplotlib.pyplot as plt\n",
    "import os\n",
    "import sys"
   ]
  },
  {
   "cell_type": "code",
   "execution_count": 2,
   "metadata": {},
   "outputs": [],
   "source": [
    "# Add src directory to path for local imports\n",
    "module_path = os.path.abspath(os.path.join('..'))\n",
    "if module_path not in sys.path:\n",
    "    sys.path.append(module_path)\n",
    "\n",
    "# Local imports\n",
    "from utils import gpu_grow_memory"
   ]
  },
  {
   "cell_type": "code",
   "execution_count": 3,
   "metadata": {},
   "outputs": [],
   "source": [
    "gpu_grow_memory()"
   ]
  },
  {
   "cell_type": "code",
   "execution_count": 4,
   "metadata": {},
   "outputs": [
    {
     "name": "stdout",
     "output_type": "stream",
     "text": [
      "TensorFlow version 2.0.0-beta0\n",
      "Eager execution: True\n"
     ]
    }
   ],
   "source": [
    "print(f'TensorFlow version {tf.__version__}')\n",
    "print(f'Eager execution: {tf.executing_eagerly()}')"
   ]
  },
  {
   "cell_type": "code",
   "execution_count": 7,
   "metadata": {},
   "outputs": [
    {
     "name": "stdout",
     "output_type": "stream",
     "text": [
      "Local copy of dataset: C:\\Users\\Michael\\.keras\\datasets\\iris_training.csv\n"
     ]
    }
   ],
   "source": [
    "data_url_trn = \"https://storage.googleapis.com/download.tensorflow.org/data/iris_training.csv\"\n",
    "dataset_fp_trn = tf.keras.utils.get_file(fname=os.path.basename(data_url_trn), origin=data_url_trn)\n",
    "print(f'Local copy of dataset: {dataset_fp_trn}')"
   ]
  },
  {
   "cell_type": "code",
   "execution_count": 8,
   "metadata": {},
   "outputs": [
    {
     "name": "stdout",
     "output_type": "stream",
     "text": [
      "120,4,setosa,versicolor,virginica\n",
      "6.4,2.8,5.6,2.2,2\n",
      "5.0,2.3,3.3,1.0,1\n",
      "4.9,2.5,4.5,1.7,2\n",
      "4.9,3.1,1.5,0.1,0\n"
     ]
    }
   ],
   "source": [
    "!head -n5 {dataset_fp_trn}"
   ]
  },
  {
   "cell_type": "code",
   "execution_count": 9,
   "metadata": {},
   "outputs": [
    {
     "name": "stdout",
     "output_type": "stream",
     "text": [
      "Features: ['sepal_length', 'sepal_width', 'petal_length', 'petal_width']\n",
      "Label: species\n"
     ]
    }
   ],
   "source": [
    "col_names = ['sepal_length', 'sepal_width', 'petal_length', 'petal_width', 'species']\n",
    "feature_names = col_names[0:-1]\n",
    "label_name = col_names[-1]\n",
    "\n",
    "print(f'Features: {feature_names}')\n",
    "print(f'Label: {label_name}')"
   ]
  },
  {
   "cell_type": "code",
   "execution_count": 10,
   "metadata": {},
   "outputs": [],
   "source": [
    "class_names = ['Iris setosa', 'Iris versicolor', 'Iris virginica']"
   ]
  },
  {
   "cell_type": "code",
   "execution_count": 14,
   "metadata": {},
   "outputs": [],
   "source": [
    "batch_size = 32\n",
    "dataset_trn = tf.data.experimental.make_csv_dataset(\n",
    "    dataset_fp_trn,\n",
    "    batch_size,\n",
    "    column_names=col_names,\n",
    "    label_name = label_name,\n",
    "    num_epochs=1)"
   ]
  },
  {
   "cell_type": "code",
   "execution_count": 16,
   "metadata": {},
   "outputs": [
    {
     "data": {
      "text/plain": [
       "OrderedDict([('sepal_length',\n",
       "              <tf.Tensor: id=122, shape=(32,), dtype=float32, numpy=\n",
       "              array([7.7, 4.4, 6.4, 7.6, 6.4, 6.9, 4.6, 6.9, 5.6, 5.8, 5.4, 5.1, 6.2,\n",
       "                     5. , 7.2, 6.4, 4.9, 4.8, 5. , 5.7, 6.8, 6.7, 6.3, 5.8, 5.7, 5.3,\n",
       "                     4.4, 5.8, 5.4, 6.1, 6.3, 5. ], dtype=float32)>),\n",
       "             ('sepal_width',\n",
       "              <tf.Tensor: id=123, shape=(32,), dtype=float32, numpy=\n",
       "              array([3. , 3. , 2.7, 3. , 3.2, 3.2, 3.6, 3.1, 2.9, 2.8, 3.4, 3.5, 2.8,\n",
       "                     3.4, 3.2, 2.8, 2.4, 3. , 2.3, 4.4, 2.8, 3.1, 3.3, 2.7, 2.8, 3.7,\n",
       "                     3.2, 4. , 3. , 2.6, 3.3, 3.5], dtype=float32)>),\n",
       "             ('petal_length',\n",
       "              <tf.Tensor: id=120, shape=(32,), dtype=float32, numpy=\n",
       "              array([6.1, 1.3, 5.3, 6.6, 4.5, 5.7, 1. , 4.9, 3.6, 5.1, 1.5, 1.4, 4.8,\n",
       "                     1.5, 6. , 5.6, 3.3, 1.4, 3.3, 1.5, 4.8, 5.6, 4.7, 5.1, 4.5, 1.5,\n",
       "                     1.3, 1.2, 4.5, 5.6, 6. , 1.3], dtype=float32)>),\n",
       "             ('petal_width',\n",
       "              <tf.Tensor: id=121, shape=(32,), dtype=float32, numpy=\n",
       "              array([2.3, 0.2, 1.9, 2.1, 1.5, 2.3, 0.2, 1.5, 1.3, 2.4, 0.4, 0.3, 1.8,\n",
       "                     0.2, 1.8, 2.1, 1. , 0.1, 1. , 0.4, 1.4, 2.4, 1.6, 1.9, 1.3, 0.2,\n",
       "                     0.2, 0.2, 1.5, 1.4, 2.5, 0.3], dtype=float32)>)])"
      ]
     },
     "execution_count": 16,
     "metadata": {},
     "output_type": "execute_result"
    }
   ],
   "source": [
    "features, labels = next(iter(dataset_trn))\n",
    "features"
   ]
  },
  {
   "cell_type": "code",
   "execution_count": 18,
   "metadata": {},
   "outputs": [
    {
     "data": {
      "image/png": "[encoded data removed]",
      "text/plain": [
       "<Figure size 432x288 with 1 Axes>"
      ]
     },
     "metadata": {
      "needs_background": "light"
     },
     "output_type": "display_data"
    }
   ],
   "source": [
    "plt.scatter(features['petal_length'], features['sepal_length'], c=labels)\n",
    "plt.xlabel('Petal length')\n",
    "plt.ylabel('Sepal length')\n",
    "plt.show()"
   ]
  },
  {
   "cell_type": "code",
   "execution_count": 19,
   "metadata": {},
   "outputs": [],
   "source": [
    "def make_feature_vector(features, labels):\n",
    "    features = tf.stack(list(features.values()), axis=1)\n",
    "    return features, labels"
   ]
  },
  {
   "cell_type": "code",
   "execution_count": 20,
   "metadata": {},
   "outputs": [],
   "source": [
    "dataset_trn = dataset_trn.map(make_feature_vector)"
   ]
  },
  {
   "cell_type": "code",
   "execution_count": 23,
   "metadata": {},
   "outputs": [
    {
     "data": {
      "text/plain": [
       "<tf.Tensor: id=214, shape=(5, 4), dtype=float32, numpy=\n",
       "array([[7.7, 3. , 6.1, 2.3],\n",
       "       [4.4, 3. , 1.3, 0.2],\n",
       "       [6.4, 2.7, 5.3, 1.9],\n",
       "       [7.6, 3. , 6.6, 2.1],\n",
       "       [6.4, 3.2, 4.5, 1.5]], dtype=float32)>"
      ]
     },
     "execution_count": 23,
     "metadata": {},
     "output_type": "execute_result"
    }
   ],
   "source": [
    "features, labels = next(iter(dataset_trn))\n",
    "features[0:5]"
   ]
  },
  {
   "cell_type": "code",
   "execution_count": 24,
   "metadata": {},
   "outputs": [],
   "source": [
    "model = tf.keras.Sequential([\n",
    "    tf.keras.layers.Dense(10, activation='relu', input_shape=(4,)),\n",
    "    tf.keras.layers.Dense(10, activation='relu'),\n",
    "    tf.keras.layers.Dense(3)\n",
    "])"
   ]
  },
  {
   "cell_type": "code",
   "execution_count": 27,
   "metadata": {},
   "outputs": [
    {
     "data": {
      "text/plain": [
       "<tf.Tensor: id=362, shape=(5, 3), dtype=float32, numpy=\n",
       "array([[0.32004026, 0.17566693, 0.50429285],\n",
       "       [0.37079507, 0.22798678, 0.40121818],\n",
       "       [0.323605  , 0.18803623, 0.48835877],\n",
       "       [0.31460994, 0.15990928, 0.52548075],\n",
       "       [0.32294518, 0.18558915, 0.4914656 ]], dtype=float32)>"
      ]
     },
     "execution_count": 27,
     "metadata": {},
     "output_type": "execute_result"
    }
   ],
   "source": [
    "logits = model(features)\n",
    "probs = tf.nn.softmax(logits)\n",
    "preds = tf.argmax(logits, axis=1)\n",
    "\n",
    "# The model probabilities (these are garbage now on an untrained model)\n",
    "probs[0:5]"
   ]
  },
  {
   "cell_type": "code",
   "execution_count": 28,
   "metadata": {},
   "outputs": [],
   "source": [
    "loss_func = tf.keras.losses.SparseCategoricalCrossentropy(from_logits=True)"
   ]
  },
  {
   "cell_type": "code",
   "execution_count": 30,
   "metadata": {},
   "outputs": [],
   "source": [
    "def loss(model, x, y):\n",
    "    y_pred = model(x)\n",
    "    return loss_func(y_true=y, y_pred=y_pred)"
   ]
  },
  {
   "cell_type": "code",
   "execution_count": 31,
   "metadata": {},
   "outputs": [
    {
     "name": "stdout",
     "output_type": "stream",
     "text": [
      "Current loss = 1.05\n"
     ]
    }
   ],
   "source": [
    "loss_cur = loss(model, features, labels)\n",
    "print(f'Current loss = {loss_cur:0.2f}')"
   ]
  },
  {
   "cell_type": "code",
   "execution_count": 32,
   "metadata": {},
   "outputs": [],
   "source": [
    "def grad(model, inputs, targets):\n",
    "    with tf.GradientTape() as tape:\n",
    "        loss_value = loss(model, inputs, targets)\n",
    "    return loss_value, tape.gradient(loss_value, model.trainable_variables)"
   ]
  },
  {
   "cell_type": "code",
   "execution_count": 33,
   "metadata": {},
   "outputs": [],
   "source": [
    "optimizer = tf.keras.optimizers.Adam(learning_rate=0.01)"
   ]
  },
  {
   "cell_type": "code",
   "execution_count": 41,
   "metadata": {},
   "outputs": [
    {
     "name": "stdout",
     "output_type": "stream",
     "text": [
      "Step 1, Loss = 1.003\n",
      "Step 2, Loss = 0.987\n"
     ]
    }
   ],
   "source": [
    "loss_value, grads = grad(model, features, labels)\n",
    "print(f'Step {optimizer.iterations.numpy()}, Loss = {loss_value.numpy():5.3f}')\n",
    "\n",
    "optimizer.apply_gradients(zip(grads, model.trainable_variables))\n",
    "loss_value, grads = grad(model, features, labels)\n",
    "print(f'Step {optimizer.iterations.numpy()}, Loss = {loss_value.numpy():5.3f}')"
   ]
  },
  {
   "cell_type": "code",
   "execution_count": 46,
   "metadata": {},
   "outputs": [
    {
     "name": "stdout",
     "output_type": "stream",
     "text": [
      "Epoch 000, loss 0.627, accuracy 0.7000\n",
      "Epoch 050, loss 0.061, accuracy 0.9833\n",
      "Epoch 100, loss 0.052, accuracy 0.9833\n",
      "Epoch 150, loss 0.048, accuracy 0.9917\n",
      "Epoch 200, loss 0.045, accuracy 0.9917\n"
     ]
    }
   ],
   "source": [
    "hist_loss = []\n",
    "hist_acc = []\n",
    "for epoch in range(201):\n",
    "    epoch_loss = tf.keras.metrics.Mean()\n",
    "    epoch_acc = tf.keras.metrics.SparseCategoricalAccuracy()\n",
    "    for x, y, in dataset_trn:\n",
    "        loss_value, grads = grad(model, x, y)\n",
    "        optimizer.apply_gradients(zip(grads, model.trainable_variables))\n",
    "        epoch_loss(loss_value)\n",
    "        epoch_acc(y, model(x))\n",
    "    hist_loss.append(epoch_loss.result())\n",
    "    hist_acc.append(epoch_acc.result())\n",
    "    if epoch % 50 == 0:\n",
    "        print(f'Epoch {epoch:03d}, loss {hist_loss[-1]:5.3f}, accuracy {hist_acc[-1]:0.4f}')"
   ]
  },
  {
   "cell_type": "code",
   "execution_count": 47,
   "metadata": {},
   "outputs": [
    {
     "data": {
      "image/png": "[encoded data removed]",
      "text/plain": [
       "<Figure size 864x576 with 2 Axes>"
      ]
     },
     "metadata": {
      "needs_background": "light"
     },
     "output_type": "display_data"
    }
   ],
   "source": [
    "fig, axes = plt.subplots(2, sharex=True, figsize=(12, 8))\n",
    "fig.suptitle('Training Metrics')\n",
    "\n",
    "axes[0].set_ylabel(\"Loss\", fontsize=14)\n",
    "axes[0].plot(hist_loss)\n",
    "\n",
    "axes[1].set_ylabel(\"Accuracy\", fontsize=14)\n",
    "axes[1].set_xlabel(\"Epoch\", fontsize=14)\n",
    "axes[1].plot(hist_acc)\n",
    "plt.show()"
   ]
  },
  {
   "cell_type": "code",
   "execution_count": 48,
   "metadata": {},
   "outputs": [],
   "source": [
    "data_url_tst = \"https://storage.googleapis.com/download.tensorflow.org/data/iris_test.csv\"\n",
    "dataset_fp_tst = tf.keras.utils.get_file(fname=os.path.basename(data_url_tst), origin=data_url_tst)"
   ]
  },
  {
   "cell_type": "code",
   "execution_count": 56,
   "metadata": {},
   "outputs": [],
   "source": [
    "dataset_tst = tf.data.experimental.make_csv_dataset(\n",
    "    dataset_fp_tst,\n",
    "    batch_size,\n",
    "    column_names=col_names,\n",
    "    label_name = label_name,\n",
    "    num_epochs=1,\n",
    "    shuffle=False)\n",
    "\n",
    "dataset_tst = dataset_tst.map(make_feature_vector)"
   ]
  },
  {
   "cell_type": "code",
   "execution_count": 59,
   "metadata": {},
   "outputs": [
    {
     "name": "stdout",
     "output_type": "stream",
     "text": [
      "Test set accuracy: 0.9667\n"
     ]
    }
   ],
   "source": [
    "test_acc = tf.keras.metrics.Accuracy()\n",
    "\n",
    "for (x, y) in dataset_tst:\n",
    "    logits = model(x)\n",
    "    pred = tf.argmax(logits, axis=1, output_type=tf.int32)\n",
    "    test_acc(pred, y)\n",
    "\n",
    "print(f'Test set accuracy: {test_acc.result():.4f}')"
   ]
  },
  {
   "cell_type": "code",
   "execution_count": null,
   "metadata": {},
   "outputs": [],
   "source": []
  }
 ],
 "metadata": {
  "kernelspec": {
   "display_name": "Python 3",
   "language": "python",
   "name": "python3"
  },
  "language_info": {
   "codemirror_mode": {
    "name": "ipython",
    "version": 3
   },
   "file_extension": ".py",
   "mimetype": "text/x-python",
   "name": "python",
   "nbconvert_exporter": "python",
   "pygments_lexer": "ipython3",
   "version": "3.7.3"
  }
 },
 "nbformat": 4,
 "nbformat_minor": 2
}
