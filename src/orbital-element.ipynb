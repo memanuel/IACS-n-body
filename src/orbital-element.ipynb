{
 "cells": [
  {
   "cell_type": "markdown",
   "metadata": {},
   "source": [
    "# Orbital Elements to Cartesian Coordinates"
   ]
  },
  {
   "cell_type": "code",
   "execution_count": 1,
   "metadata": {},
   "outputs": [],
   "source": [
    "# Library imports\n",
    "import tensorflow as tf\n",
    "import rebound\n",
    "import numpy as np\n",
    "import matplotlib.pyplot as plt\n",
    "import time\n",
    "\n",
    "# Aliases\n",
    "keras = tf.keras"
   ]
  },
  {
   "cell_type": "code",
   "execution_count": 2,
   "metadata": {},
   "outputs": [],
   "source": [
    "# Local imports\n",
    "from utils import load_vartbl, save_vartbl, plot_style\n",
    "from tf_utils import gpu_grow_memory\n",
    "# from tf_utils import Identity\n",
    "from r2b import VectorError\n",
    "from orbital_element import make_data_orb_elt, make_dataset_elt_to_cfg, make_dataset_cfg_to_elt\n",
    "from orbital_element import OrbitalElementToConfig, make_model_elt_to_cfg\n",
    "from orbital_element import ConfigToOrbitalElement, make_model_cfg_to_elt\n",
    "from orbital_element import MeanToEccentricAnomaly, MeanToTrueAnomaly"
   ]
  },
  {
   "cell_type": "code",
   "execution_count": 3,
   "metadata": {},
   "outputs": [],
   "source": [
    "# Grow GPU memory (must be first operation in TF)\n",
    "gpu_grow_memory()"
   ]
  },
  {
   "cell_type": "code",
   "execution_count": 4,
   "metadata": {},
   "outputs": [],
   "source": [
    "# Plot style \n",
    "plot_style()"
   ]
  },
  {
   "cell_type": "code",
   "execution_count": 5,
   "metadata": {},
   "outputs": [],
   "source": [
    "# Lightweight serialization\n",
    "fname = '../data/r2b/orbital_element.pickle'\n",
    "vartbl = load_vartbl(fname)"
   ]
  },
  {
   "cell_type": "code",
   "execution_count": 6,
   "metadata": {},
   "outputs": [],
   "source": [
    "# Create small data set for orbital elements; dictionaries of numpy arrays\n",
    "n = 100\n",
    "a_min = 1.0\n",
    "a_max = 2.0\n",
    "e_max = 1.0\n",
    "inc_max = np.pi/4.0\n",
    "seed=42\n",
    "elts, cart = make_data_orb_elt(n=n, a_min=a_min, a_max=a_max, e_max=e_max, inc_max=inc_max, seed=seed)"
   ]
  },
  {
   "cell_type": "code",
   "execution_count": 7,
   "metadata": {},
   "outputs": [],
   "source": [
    "# Create a tensorflow Dataset instance in both directions\n",
    "batch_size = 64\n",
    "ds_e2c = make_dataset_elt_to_cfg(n=n, a_min=a_min, a_max=a_max, e_max=e_max, \n",
    "                                 inc_max=inc_max, seed=seed, batch_size=batch_size)\n",
    "ds_c2e = make_dataset_cfg_to_elt(n=n, a_min=a_min, a_max=a_max, e_max=e_max, \n",
    "                                 inc_max=inc_max, seed=seed, batch_size=batch_size)"
   ]
  },
  {
   "cell_type": "code",
   "execution_count": 8,
   "metadata": {},
   "outputs": [
    {
     "name": "stdout",
     "output_type": "stream",
     "text": [
      "Example batch sizes:\n",
      "a    = (64,)\n",
      "e    = (64,)\n",
      "inc  = (64,)\n",
      "Omega= (64,)\n",
      "omega= (64,)\n",
      "f    = (64,)\n",
      "mu   = (64,)\n",
      "q    = (64, 3)\n",
      "v    = (64, 3)\n"
     ]
    }
   ],
   "source": [
    "# Example batch\n",
    "elts, cart = list(ds_e2c.take(1))[0]\n",
    "\n",
    "# Unpack orbital elements\n",
    "a = elts['a']\n",
    "e = elts['e']\n",
    "inc = elts['inc']\n",
    "Omega = elts['Omega']\n",
    "omega = elts['omega']\n",
    "f = elts['f']\n",
    "mu = elts['mu']\n",
    "\n",
    "# Unpack cartesian coordinates\n",
    "q = cart['q']\n",
    "v = cart['v']\n",
    "\n",
    "# Review shapes\n",
    "print(f'Example batch sizes:')\n",
    "print(f'a    = {a.shape}')\n",
    "print(f'e    = {e.shape}')\n",
    "print(f'inc  = {inc.shape}')\n",
    "print(f'Omega= {Omega.shape}')\n",
    "print(f'omega= {omega.shape}')\n",
    "print(f'f    = {f.shape}')\n",
    "print(f'mu   = {f.shape}')\n",
    "print(f'q    = {q.shape}')\n",
    "print(f'v    = {v.shape}')"
   ]
  },
  {
   "cell_type": "code",
   "execution_count": null,
   "metadata": {},
   "outputs": [],
   "source": [
    "# Run the layer on the batch of orbital elements\n",
    "inputs_e2c = (a, e, inc, Omega, omega, f, mu)\n",
    "cart_rec = OrbitalElementToConfig()(inputs_e2c)"
   ]
  },
  {
   "cell_type": "code",
   "execution_count": null,
   "metadata": {},
   "outputs": [],
   "source": [
    "# Create a model mapping orbital elements to cartesian coordinates\n",
    "model_e2c = make_model_elt_to_cfg()"
   ]
  },
  {
   "cell_type": "code",
   "execution_count": null,
   "metadata": {},
   "outputs": [],
   "source": [
    "# Inputs to compile this model\n",
    "optimizer = keras.optimizers.Adam(learning_rate=1.0E-3)\n",
    "\n",
    "loss = {'q': VectorError(name='q_loss'),\n",
    "        'v': VectorError(name='v_loss')}\n",
    "\n",
    "metrics = None\n",
    "\n",
    "loss_weights = {'q': 1.0,\n",
    "                'v': 1.0}"
   ]
  },
  {
   "cell_type": "code",
   "execution_count": null,
   "metadata": {},
   "outputs": [],
   "source": [
    "# Compile the e2c model\n",
    "model_e2c.compile(optimizer=optimizer, loss=loss, metrics=metrics, loss_weights=loss_weights)"
   ]
  },
  {
   "cell_type": "code",
   "execution_count": null,
   "metadata": {},
   "outputs": [],
   "source": [
    "# Verify that model matches rebound\n",
    "model_e2c.evaluate(ds_e2c)"
   ]
  },
  {
   "cell_type": "code",
   "execution_count": null,
   "metadata": {},
   "outputs": [],
   "source": [
    "# Summary of the model mapping orbital elements to position\n",
    "# model_e2c.summary()"
   ]
  },
  {
   "cell_type": "code",
   "execution_count": null,
   "metadata": {},
   "outputs": [],
   "source": [
    "# Run the layer on the batch of orbital elements\n",
    "qx = q[:,0]\n",
    "qy = q[:,1]\n",
    "qz = q[:,2]\n",
    "vx = v[:,0]\n",
    "vy = v[:,1]\n",
    "vz = v[:,2]\n",
    "inputs_c2e = (qx, qy, qz, vx, vy, vz, mu)\n",
    "elt_rec = ConfigToOrbitalElement()(inputs_c2e)"
   ]
  },
  {
   "cell_type": "code",
   "execution_count": null,
   "metadata": {},
   "outputs": [],
   "source": [
    "# Review shapes\n",
    "print(f'Example batch sizes:')\n",
    "print(f'qx   = {qx.shape}')\n",
    "print(f'vx   = {vx.shape}')\n",
    "print(f'mu   = {mu.shape}')"
   ]
  },
  {
   "cell_type": "code",
   "execution_count": null,
   "metadata": {},
   "outputs": [],
   "source": [
    "# Create a model mapping cartesian coordinates to orbital elements\n",
    "model_c2e = make_model_cfg_to_elt()"
   ]
  },
  {
   "cell_type": "code",
   "execution_count": null,
   "metadata": {},
   "outputs": [],
   "source": [
    "# Inputs to compile the c2e model\n",
    "optimizer = keras.optimizers.Adam(learning_rate=1.0E-3)\n",
    "\n",
    "loss = {'a': keras.losses.MeanSquaredError(),\n",
    "        'e': keras.losses.MeanSquaredError(),\n",
    "        'inc': keras.losses.MeanSquaredError(),\n",
    "        'Omega': keras.losses.MeanSquaredError(),\n",
    "        'omega': keras.losses.MeanSquaredError(),\n",
    "        'f': keras.losses.MeanSquaredError(),\n",
    "       }\n",
    "\n",
    "metrics = None\n",
    "\n",
    "loss_weights = {'a': 1.0,\n",
    "                'e': 1.0,\n",
    "                'inc': 1.0,\n",
    "                'Omega': 1.0,\n",
    "                'omega': 1.0,\n",
    "                'f': 1.0}"
   ]
  },
  {
   "cell_type": "code",
   "execution_count": null,
   "metadata": {},
   "outputs": [],
   "source": [
    "# model_c2e.summary()"
   ]
  },
  {
   "cell_type": "code",
   "execution_count": null,
   "metadata": {},
   "outputs": [],
   "source": [
    "# Compile the c2e model\n",
    "model_c2e.compile(optimizer=optimizer, loss=loss, metrics=metrics, loss_weights=loss_weights)"
   ]
  },
  {
   "cell_type": "code",
   "execution_count": null,
   "metadata": {},
   "outputs": [],
   "source": [
    "model_c2e.evaluate(ds_c2e)"
   ]
  },
  {
   "cell_type": "code",
   "execution_count": null,
   "metadata": {},
   "outputs": [],
   "source": [
    "a, e, inc, Omega, omega, f, M, N = elt_rec"
   ]
  },
  {
   "cell_type": "code",
   "execution_count": null,
   "metadata": {},
   "outputs": [],
   "source": [
    "# Test the mean anomaly convervsion functions\n",
    "E = MeanToEccentricAnomaly()((M, e))\n",
    "f_rec = MeanToTrueAnomaly()((M, e))\n",
    "\n",
    "# Compute the RMS error\n",
    "f_err = f_rec - f\n",
    "rms_err = np.sqrt(np.mean(f_err * f_err))\n",
    "print(f'RMS error of true anomaly f from mean anomaly M:')\n",
    "print(f'{rms_err:5.2E}')"
   ]
  },
  {
   "cell_type": "code",
   "execution_count": null,
   "metadata": {},
   "outputs": [],
   "source": []
  }
 ],
 "metadata": {
  "kernelspec": {
   "display_name": "Python [conda env:nbody]",
   "language": "python",
   "name": "conda-env-nbody-py"
  },
  "language_info": {
   "codemirror_mode": {
    "name": "ipython",
    "version": 3
   },
   "file_extension": ".py",
   "mimetype": "text/x-python",
   "name": "python",
   "nbconvert_exporter": "python",
   "pygments_lexer": "ipython3",
   "version": "3.7.3"
  }
 },
 "nbformat": 4,
 "nbformat_minor": 2
}
