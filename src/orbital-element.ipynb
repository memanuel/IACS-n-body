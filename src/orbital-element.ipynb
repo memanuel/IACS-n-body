{
 "cells": [
  {
   "cell_type": "markdown",
   "metadata": {},
   "source": [
    "# Restricted Two Body Problem: Elliptical Orbits Around a Central Mass\n",
    "\n",
    "This is the general case of a Keperian orbit.<br>\n",
    "A light body (e.g. a planet) orbits a heavy central body (e.g. the sun).  The orbit is an ellipse with the primary at one focus."
   ]
  },
  {
   "cell_type": "code",
   "execution_count": 1,
   "metadata": {},
   "outputs": [],
   "source": [
    "# Library imports\n",
    "import tensorflow as tf\n",
    "import rebound\n",
    "import numpy as np\n",
    "import matplotlib.pyplot as plt\n",
    "import time\n",
    "\n",
    "# Aliases\n",
    "keras = tf.keras"
   ]
  },
  {
   "cell_type": "code",
   "execution_count": 2,
   "metadata": {},
   "outputs": [],
   "source": [
    "# Local imports\n",
    "from utils import load_vartbl, save_vartbl, plot_style\n",
    "from tf_utils import gpu_grow_memory\n",
    "from r2b import VectorError\n",
    "from orbital_element import make_data_orb_elt, make_dataset_elt_to_cfg\n",
    "from orbital_element import OrbitalElementToConfig, make_model_elt_to_cfg"
   ]
  },
  {
   "cell_type": "code",
   "execution_count": 3,
   "metadata": {},
   "outputs": [],
   "source": [
    "# Grow GPU memory (must be first operation in TF)\n",
    "gpu_grow_memory()"
   ]
  },
  {
   "cell_type": "code",
   "execution_count": 4,
   "metadata": {},
   "outputs": [],
   "source": [
    "# Plot style \n",
    "plot_style()"
   ]
  },
  {
   "cell_type": "code",
   "execution_count": 5,
   "metadata": {},
   "outputs": [],
   "source": [
    "# Lightweight serialization\n",
    "fname = '../pickle/orbital_element.pickle'\n",
    "vartbl = load_vartbl(fname)"
   ]
  },
  {
   "cell_type": "code",
   "execution_count": 6,
   "metadata": {},
   "outputs": [],
   "source": [
    "# Create small data set for orbital elements; dictionaries of numpy arrays\n",
    "n = 100\n",
    "a_min = 1.0\n",
    "a_max = 2.0\n",
    "e_max = 1.0\n",
    "inc_max = np.pi/4.0\n",
    "seed=42\n",
    "elts, cart = make_data_orb_elt(n=n, a_min=a_min, a_max=a_max, e_max=e_max, inc_max=inc_max, seed=seed)"
   ]
  },
  {
   "cell_type": "code",
   "execution_count": 7,
   "metadata": {},
   "outputs": [],
   "source": [
    "# Create a tensorflow Dataset instance\n",
    "batch_size = 64\n",
    "ds_e2c = make_dataset_elt_to_cfg(n=n, a_min=a_min, a_max=a_max, e_max=e_max, inc_max=inc_max, seed=seed, batch_size=batch_size)"
   ]
  },
  {
   "cell_type": "code",
   "execution_count": 8,
   "metadata": {},
   "outputs": [
    {
     "name": "stdout",
     "output_type": "stream",
     "text": [
      "Example batch sizes:\n",
      "a    = (64,)\n",
      "e    = (64,)\n",
      "inc  = (64,)\n",
      "Omega= (64,)\n",
      "omega= (64,)\n",
      "f    = (64,)\n",
      "q    = (64, 3)\n",
      "v    = (64, 3)\n"
     ]
    }
   ],
   "source": [
    "# Example batch\n",
    "elts, cart = list(ds_e2c.take(1))[0]\n",
    "\n",
    "a = elts['a']\n",
    "e = elts['e']\n",
    "inc = elts['inc']\n",
    "Omega = elts['Omega']\n",
    "omega = elts['omega']\n",
    "f = elts['f']\n",
    "mu = elts['mu']\n",
    "\n",
    "q = cart['q']\n",
    "v = cart['v']\n",
    "\n",
    "print(f'Example batch sizes:')\n",
    "print(f'a    = {a.shape}')\n",
    "print(f'e    = {e.shape}')\n",
    "print(f'inc  = {inc.shape}')\n",
    "print(f'Omega= {Omega.shape}')\n",
    "print(f'omega= {omega.shape}')\n",
    "print(f'f    = {f.shape}')\n",
    "print(f'q    = {q.shape}')\n",
    "print(f'v    = {v.shape}')"
   ]
  },
  {
   "cell_type": "code",
   "execution_count": 9,
   "metadata": {},
   "outputs": [],
   "source": [
    "# Run the layer on the batch of orbital elements\n",
    "inputs = (a, e, inc, Omega, omega, f, mu)\n",
    "cart_rec = OrbitalElementToConfig()(inputs)"
   ]
  },
  {
   "cell_type": "code",
   "execution_count": 10,
   "metadata": {},
   "outputs": [],
   "source": [
    "# Create a model mapping orbital elements to cartesian coordinates\n",
    "model_e2c = make_model_elt_to_cfg()"
   ]
  },
  {
   "cell_type": "code",
   "execution_count": 11,
   "metadata": {},
   "outputs": [],
   "source": [
    "# Inputs to compile this model\n",
    "optimizer = keras.optimizers.Adam(learning_rate=1.0E-3)\n",
    "\n",
    "loss = {'q': VectorError(name='q_loss'),\n",
    "        'v': VectorError(name='v_loss')}\n",
    "\n",
    "metrics = None\n",
    "\n",
    "loss_weights = {'q': 1.0,\n",
    "                'v': 1.0}"
   ]
  },
  {
   "cell_type": "code",
   "execution_count": 12,
   "metadata": {},
   "outputs": [],
   "source": [
    "# Compile the model\n",
    "model_e2c.compile(optimizer=optimizer, loss=loss, metrics=metrics, loss_weights=loss_weights)"
   ]
  },
  {
   "cell_type": "code",
   "execution_count": 13,
   "metadata": {},
   "outputs": [
    {
     "name": "stdout",
     "output_type": "stream",
     "text": [
      "2/2 [==============================] - 0s 128ms/step - loss: 3.3443e-14 - q_loss: 2.3860e-14 - v_loss: 9.5832e-15\n"
     ]
    },
    {
     "data": {
      "text/plain": [
       "[3.3443230755786195e-14, 2.386005e-14, 9.58318e-15]"
      ]
     },
     "execution_count": 13,
     "metadata": {},
     "output_type": "execute_result"
    }
   ],
   "source": [
    "# Verify that model matches rebound\n",
    "model_e2c.evaluate(ds_e2c)"
   ]
  },
  {
   "cell_type": "code",
   "execution_count": 14,
   "metadata": {},
   "outputs": [
    {
     "name": "stdout",
     "output_type": "stream",
     "text": [
      "Model: \"orbital_element_to_cartesian\"\n",
      "__________________________________________________________________________________________________\n",
      "Layer (type)                    Output Shape         Param #     Connected to                     \n",
      "==================================================================================================\n",
      "a (InputLayer)                  [(None, 1)]          0                                            \n",
      "__________________________________________________________________________________________________\n",
      "e (InputLayer)                  [(None, 1)]          0                                            \n",
      "__________________________________________________________________________________________________\n",
      "inc (InputLayer)                [(None, 1)]          0                                            \n",
      "__________________________________________________________________________________________________\n",
      "Omega (InputLayer)              [(None, 1)]          0                                            \n",
      "__________________________________________________________________________________________________\n",
      "omega (InputLayer)              [(None, 1)]          0                                            \n",
      "__________________________________________________________________________________________________\n",
      "f (InputLayer)                  [(None, 1)]          0                                            \n",
      "__________________________________________________________________________________________________\n",
      "mu (InputLayer)                 [(None, 1)]          0                                            \n",
      "__________________________________________________________________________________________________\n",
      "orbital_element_to_config (Orbi ((None, 1), (None, 1 0           a[0][0]                          \n",
      "                                                                 e[0][0]                          \n",
      "                                                                 inc[0][0]                        \n",
      "                                                                 Omega[0][0]                      \n",
      "                                                                 omega[0][0]                      \n",
      "                                                                 f[0][0]                          \n",
      "                                                                 mu[0][0]                         \n",
      "__________________________________________________________________________________________________\n",
      "q (Concatenate)                 (None, 3)            0           orbital_element_to_config[0][0]  \n",
      "                                                                 orbital_element_to_config[0][1]  \n",
      "                                                                 orbital_element_to_config[0][2]  \n",
      "__________________________________________________________________________________________________\n",
      "v (Concatenate)                 (None, 3)            0           orbital_element_to_config[0][3]  \n",
      "                                                                 orbital_element_to_config[0][4]  \n",
      "                                                                 orbital_element_to_config[0][5]  \n",
      "==================================================================================================\n",
      "Total params: 0\n",
      "Trainable params: 0\n",
      "Non-trainable params: 0\n",
      "__________________________________________________________________________________________________\n"
     ]
    }
   ],
   "source": [
    "# Summary of the model mapping orbital elements to position\n",
    "model_e2c.summary()"
   ]
  },
  {
   "cell_type": "code",
   "execution_count": null,
   "metadata": {},
   "outputs": [],
   "source": []
  }
 ],
 "metadata": {
  "kernelspec": {
   "display_name": "Python [conda env:nbody]",
   "language": "python",
   "name": "conda-env-nbody-py"
  },
  "language_info": {
   "codemirror_mode": {
    "name": "ipython",
    "version": 3
   },
   "file_extension": ".py",
   "mimetype": "text/x-python",
   "name": "python",
   "nbconvert_exporter": "python",
   "pygments_lexer": "ipython3",
   "version": "3.7.3"
  }
 },
 "nbformat": 4,
 "nbformat_minor": 2
}
