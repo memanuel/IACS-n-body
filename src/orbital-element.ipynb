{
 "cells": [
  {
   "cell_type": "markdown",
   "metadata": {},
   "source": [
    "# Orbital Elements to Cartesian Coordinates"
   ]
  },
  {
   "cell_type": "code",
   "execution_count": 1,
   "metadata": {},
   "outputs": [],
   "source": [
    "# Library imports\n",
    "import tensorflow as tf\n",
    "import rebound\n",
    "import numpy as np\n",
    "import matplotlib.pyplot as plt\n",
    "import time\n",
    "\n",
    "# Aliases\n",
    "keras = tf.keras"
   ]
  },
  {
   "cell_type": "code",
   "execution_count": 2,
   "metadata": {},
   "outputs": [],
   "source": [
    "# Local imports\n",
    "from utils import load_vartbl, save_vartbl, plot_style\n",
    "from tf_utils import gpu_grow_memory\n",
    "# from tf_utils import Identity\n",
    "from r2b import VectorError\n",
    "from orbital_element import make_data_orb_elt, make_dataset_elt_to_cfg, make_dataset_cfg_to_elt\n",
    "from orbital_element import OrbitalElementToConfig, make_model_elt_to_cfg\n",
    "from orbital_element import ConfigToOrbitalElement, make_model_cfg_to_elt\n",
    "from orbital_element import MeanToEccentricAnomaly, MeanToTrueAnomaly"
   ]
  },
  {
   "cell_type": "code",
   "execution_count": 3,
   "metadata": {},
   "outputs": [],
   "source": [
    "# Grow GPU memory (must be first operation in TF)\n",
    "gpu_grow_memory()"
   ]
  },
  {
   "cell_type": "code",
   "execution_count": 4,
   "metadata": {},
   "outputs": [],
   "source": [
    "# Plot style \n",
    "plot_style()"
   ]
  },
  {
   "cell_type": "code",
   "execution_count": 5,
   "metadata": {},
   "outputs": [],
   "source": [
    "# Lightweight serialization\n",
    "fname = '../pickle/orbital_element.pickle'\n",
    "vartbl = load_vartbl(fname)"
   ]
  },
  {
   "cell_type": "code",
   "execution_count": 6,
   "metadata": {},
   "outputs": [],
   "source": [
    "# Create small data set for orbital elements; dictionaries of numpy arrays\n",
    "n = 100\n",
    "a_min = 1.0\n",
    "a_max = 2.0\n",
    "e_max = 1.0\n",
    "inc_max = np.pi/4.0\n",
    "seed=42\n",
    "elts, cart = make_data_orb_elt(n=n, a_min=a_min, a_max=a_max, e_max=e_max, inc_max=inc_max, seed=seed)"
   ]
  },
  {
   "cell_type": "code",
   "execution_count": 7,
   "metadata": {},
   "outputs": [],
   "source": [
    "# Create a tensorflow Dataset instance in both directions\n",
    "batch_size = 64\n",
    "ds_e2c = make_dataset_elt_to_cfg(n=n, a_min=a_min, a_max=a_max, e_max=e_max, \n",
    "                                 inc_max=inc_max, seed=seed, batch_size=batch_size)\n",
    "ds_c2e = make_dataset_cfg_to_elt(n=n, a_min=a_min, a_max=a_max, e_max=e_max, \n",
    "                                 inc_max=inc_max, seed=seed, batch_size=batch_size)"
   ]
  },
  {
   "cell_type": "code",
   "execution_count": 8,
   "metadata": {},
   "outputs": [
    {
     "name": "stdout",
     "output_type": "stream",
     "text": [
      "Example batch sizes:\n",
      "a    = (64,)\n",
      "e    = (64,)\n",
      "inc  = (64,)\n",
      "Omega= (64,)\n",
      "omega= (64,)\n",
      "f    = (64,)\n",
      "mu   = (64,)\n",
      "q    = (64, 3)\n",
      "v    = (64, 3)\n"
     ]
    }
   ],
   "source": [
    "# Example batch\n",
    "elts, cart = list(ds_e2c.take(1))[0]\n",
    "\n",
    "# Unpack orbital elements\n",
    "a = elts['a']\n",
    "e = elts['e']\n",
    "inc = elts['inc']\n",
    "Omega = elts['Omega']\n",
    "omega = elts['omega']\n",
    "f = elts['f']\n",
    "mu = elts['mu']\n",
    "\n",
    "# Unpack cartesian coordinates\n",
    "q = cart['q']\n",
    "v = cart['v']\n",
    "\n",
    "# Review shapes\n",
    "print(f'Example batch sizes:')\n",
    "print(f'a    = {a.shape}')\n",
    "print(f'e    = {e.shape}')\n",
    "print(f'inc  = {inc.shape}')\n",
    "print(f'Omega= {Omega.shape}')\n",
    "print(f'omega= {omega.shape}')\n",
    "print(f'f    = {f.shape}')\n",
    "print(f'mu   = {f.shape}')\n",
    "print(f'q    = {q.shape}')\n",
    "print(f'v    = {v.shape}')"
   ]
  },
  {
   "cell_type": "code",
   "execution_count": 9,
   "metadata": {},
   "outputs": [],
   "source": [
    "# Run the layer on the batch of orbital elements\n",
    "inputs_e2c = (a, e, inc, Omega, omega, f, mu)\n",
    "cart_rec = OrbitalElementToConfig()(inputs_e2c)"
   ]
  },
  {
   "cell_type": "code",
   "execution_count": 10,
   "metadata": {},
   "outputs": [],
   "source": [
    "# Create a model mapping orbital elements to cartesian coordinates\n",
    "model_e2c = make_model_elt_to_cfg()"
   ]
  },
  {
   "cell_type": "code",
   "execution_count": 11,
   "metadata": {},
   "outputs": [],
   "source": [
    "# Inputs to compile this model\n",
    "optimizer = keras.optimizers.Adam(learning_rate=1.0E-3)\n",
    "\n",
    "loss = {'q': VectorError(name='q_loss'),\n",
    "        'v': VectorError(name='v_loss')}\n",
    "\n",
    "metrics = None\n",
    "\n",
    "loss_weights = {'q': 1.0,\n",
    "                'v': 1.0}"
   ]
  },
  {
   "cell_type": "code",
   "execution_count": 12,
   "metadata": {},
   "outputs": [],
   "source": [
    "# Compile the e2c model\n",
    "model_e2c.compile(optimizer=optimizer, loss=loss, metrics=metrics, loss_weights=loss_weights)"
   ]
  },
  {
   "cell_type": "code",
   "execution_count": 13,
   "metadata": {},
   "outputs": [
    {
     "name": "stdout",
     "output_type": "stream",
     "text": [
      "2/2 [==============================] - 0s 129ms/step - loss: 3.1243e-14 - q_loss: 2.0652e-14 - v_loss: 1.0591e-14\n"
     ]
    },
    {
     "data": {
      "text/plain": [
       "[3.1243021170678734e-14, 2.065208e-14, 1.0590941e-14]"
      ]
     },
     "execution_count": 13,
     "metadata": {},
     "output_type": "execute_result"
    }
   ],
   "source": [
    "# Verify that model matches rebound\n",
    "model_e2c.evaluate(ds_e2c)"
   ]
  },
  {
   "cell_type": "code",
   "execution_count": 14,
   "metadata": {},
   "outputs": [],
   "source": [
    "# Summary of the model mapping orbital elements to position\n",
    "# model_e2c.summary()"
   ]
  },
  {
   "cell_type": "code",
   "execution_count": 15,
   "metadata": {},
   "outputs": [],
   "source": [
    "# Run the layer on the batch of orbital elements\n",
    "qx = q[:,0]\n",
    "qy = q[:,1]\n",
    "qz = q[:,2]\n",
    "vx = v[:,0]\n",
    "vy = v[:,1]\n",
    "vz = v[:,2]\n",
    "inputs_c2e = (qx, qy, qz, vx, vy, vz, mu)\n",
    "elt_rec = ConfigToOrbitalElement()(inputs_c2e)"
   ]
  },
  {
   "cell_type": "code",
   "execution_count": 16,
   "metadata": {},
   "outputs": [],
   "source": [
    "# Create a model mapping cartesian coordinates to orbital elements\n",
    "model_c2e = make_model_cfg_to_elt()"
   ]
  },
  {
   "cell_type": "code",
   "execution_count": 17,
   "metadata": {},
   "outputs": [],
   "source": [
    "# Inputs to compile the c2e model\n",
    "optimizer = keras.optimizers.Adam(learning_rate=1.0E-3)\n",
    "\n",
    "loss = {'a': keras.losses.MeanSquaredError(),\n",
    "        'e': keras.losses.MeanSquaredError(),\n",
    "        'inc': keras.losses.MeanSquaredError(),\n",
    "        'Omega': keras.losses.MeanSquaredError(),\n",
    "        'omega': keras.losses.MeanSquaredError(),\n",
    "        'f': keras.losses.MeanSquaredError(),\n",
    "       }\n",
    "\n",
    "metrics = None\n",
    "\n",
    "loss_weights = {'a': 1.0,\n",
    "                'e': 1.0,\n",
    "                'inc': 1.0,\n",
    "                'Omega': 1.0,\n",
    "                'omega': 1.0,\n",
    "                'f': 1.0}"
   ]
  },
  {
   "cell_type": "code",
   "execution_count": 18,
   "metadata": {},
   "outputs": [],
   "source": [
    "# model_c2e.summary()"
   ]
  },
  {
   "cell_type": "code",
   "execution_count": 19,
   "metadata": {},
   "outputs": [
    {
     "name": "stderr",
     "output_type": "stream",
     "text": [
      "WARNING: Logging before flag parsing goes to stderr.\n",
      "W0711 12:14:42.737786 140249643951936 training_utils.py:1237] Output M missing from loss dictionary. We assume this was done on purpose. The fit and evaluate APIs will not be expecting any data to be passed to M.\n",
      "W0711 12:14:42.739298 140249643951936 training_utils.py:1237] Output N missing from loss dictionary. We assume this was done on purpose. The fit and evaluate APIs will not be expecting any data to be passed to N.\n"
     ]
    }
   ],
   "source": [
    "# Compile the c2e model\n",
    "model_c2e.compile(optimizer=optimizer, loss=loss, metrics=metrics, loss_weights=loss_weights)"
   ]
  },
  {
   "cell_type": "code",
   "execution_count": 20,
   "metadata": {},
   "outputs": [
    {
     "name": "stdout",
     "output_type": "stream",
     "text": [
      "2/2 [==============================] - 0s 207ms/step - loss: 2.8515e-12 - a_loss: 7.1528e-13 - e_loss: 6.3892e-15 - inc_loss: 7.3696e-13 - Omega_loss: 7.0521e-14 - omega_loss: 5.5364e-13 - f_loss: 7.6871e-13\n"
     ]
    },
    {
     "data": {
      "text/plain": [
       "[2.8515038637613732e-12,\n",
       " 7.152797e-13,\n",
       " 6.3892394e-15,\n",
       " 7.369649e-13,\n",
       " 7.0520555e-14,\n",
       " 5.5363776e-13,\n",
       " 7.6871175e-13]"
      ]
     },
     "execution_count": 20,
     "metadata": {},
     "output_type": "execute_result"
    }
   ],
   "source": [
    "model_c2e.evaluate(ds_c2e)"
   ]
  },
  {
   "cell_type": "code",
   "execution_count": null,
   "metadata": {},
   "outputs": [],
   "source": [
    "class MeanToEccentricAnomaly(keras.layers.Layer):\n",
    "    \"\"\"\n",
    "    Convert the mean anomaly M to the eccentric anomly E given the eccentricity E.\n",
    "    \"\"\"\n",
    "    def call(self, inputs):\n",
    "        # Unpack inputs\n",
    "        M, e = inputs\n",
    "        \n",
    "        # Move M to the inveral [0, 2pi]\n",
    "        two_pi = tf.constant(2.0 * np.pi)\n",
    "        M = tf.math.floormod(M, two_pi)\n",
    "\n",
    "        # Initialize E; guess M when eccentricity is small, otherwise guess pi\n",
    "        pi = tf.constant(np.pi)\n",
    "        E = tf.where(condition= e < 0.8, x=M, y=pi)\n",
    "        \n",
    "        # Initial error; from Kepler's equation M = E - e sin(E)\n",
    "        F = E - e * tf.sin(E) - M\n",
    "        \n",
    "        # Iterate to improve E; trial and error shows 8 usually enough for single precision convergence\n",
    "        for i in range(10):\n",
    "            # Only update where the error is above the tolerance\n",
    "            condition = tf.greater(tf.abs(F), tf.constant(1.0E-16))\n",
    "            E = tf.where(condition=condition, x=E - F / (1.0 - e * tf.cos(E)), y=E)\n",
    "            F = tf.where(condition=condition, x=E - e * tf.sin(E) - M, y=F)\n",
    "        \n",
    "        # Put E in the range [0, 2pi]        \n",
    "        return tf.math.floormod(E, two_pi)\n",
    "        \n",
    "    def get_config(self):\n",
    "        return dict()"
   ]
  },
  {
   "cell_type": "code",
   "execution_count": null,
   "metadata": {},
   "outputs": [],
   "source": [
    "class MeanToTrueAnomaly(keras.layers.Layer):\n",
    "    \"\"\"\n",
    "    Convert the mean anomaly M to the true anomly f given the eccentricity E.\n",
    "    \"\"\"\n",
    "    def call(self, inputs):\n",
    "        # Unpack inputs\n",
    "        M, e = inputs\n",
    "        \n",
    "        # Compute the eccentric anomaly E\n",
    "        E = MeanToEccentricAnomaly()((M, e))\n",
    "        \n",
    "        # Compute the true anomaly from E\n",
    "        return 2.0*tf.math.atan(tf.sqrt((1.0+e)/(1.0-e))*tf.math.tan(0.5*E))\n",
    "        \n",
    "    def get_config(self):\n",
    "        return dict()"
   ]
  },
  {
   "cell_type": "code",
   "execution_count": 21,
   "metadata": {},
   "outputs": [],
   "source": [
    "a, e, inc, Omega, omega, f, M, N = elt_rec"
   ]
  },
  {
   "cell_type": "code",
   "execution_count": 25,
   "metadata": {},
   "outputs": [
    {
     "name": "stdout",
     "output_type": "stream",
     "text": [
      "RMS error of true anomaly f from mean anomaly M:\n",
      "2.40E-06\n"
     ]
    }
   ],
   "source": [
    "# Test the mean anomaly convervsion functions\n",
    "E = MeanToEccentricAnomaly()((M, e))\n",
    "f_rec = MeanToTrueAnomaly()((M, e))\n",
    "\n",
    "# Compute the RMS error\n",
    "f_err = f_rec - f\n",
    "rms_err = np.sqrt(np.mean(f_err * f_err))\n",
    "print(f'RMS error of true anomaly f from mean anomaly M:')\n",
    "print(f'{rms_err:5.2E}')"
   ]
  },
  {
   "cell_type": "code",
   "execution_count": null,
   "metadata": {},
   "outputs": [],
   "source": []
  }
 ],
 "metadata": {
  "kernelspec": {
   "display_name": "Python [conda env:nbody]",
   "language": "python",
   "name": "conda-env-nbody-py"
  },
  "language_info": {
   "codemirror_mode": {
    "name": "ipython",
    "version": 3
   },
   "file_extension": ".py",
   "mimetype": "text/x-python",
   "name": "python",
   "nbconvert_exporter": "python",
   "pygments_lexer": "ipython3",
   "version": "3.7.3"
  }
 },
 "nbformat": 4,
 "nbformat_minor": 2
}
