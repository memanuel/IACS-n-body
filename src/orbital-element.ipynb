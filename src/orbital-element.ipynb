{
 "cells": [
  {
   "cell_type": "markdown",
   "metadata": {},
   "source": [
    "# Restricted Two Body Problem: Elliptical Orbits Around a Central Mass\n",
    "\n",
    "This is the general case of a Keperian orbit.<br>\n",
    "A light body (e.g. a planet) orbits a heavy central body (e.g. the sun).  The orbit is an ellipse with the primary at one focus."
   ]
  },
  {
   "cell_type": "code",
   "execution_count": 1,
   "metadata": {},
   "outputs": [],
   "source": [
    "# Library imports\n",
    "import tensorflow as tf\n",
    "import rebound\n",
    "import numpy as np\n",
    "import matplotlib.pyplot as plt\n",
    "import time\n",
    "\n",
    "# Aliases\n",
    "keras = tf.keras"
   ]
  },
  {
   "cell_type": "code",
   "execution_count": 2,
   "metadata": {},
   "outputs": [],
   "source": [
    "# Local imports\n",
    "from utils import load_vartbl, save_vartbl, plot_style\n",
    "from tf_utils import gpu_grow_memory\n",
    "from tf_utils import Identity\n",
    "from r2b import VectorError\n",
    "from orbital_element import make_data_orb_elt, make_dataset_elt_to_cfg, make_dataset_cfg_to_elt\n",
    "from orbital_element import OrbitalElementToConfig, make_model_elt_to_cfg"
   ]
  },
  {
   "cell_type": "code",
   "execution_count": 3,
   "metadata": {},
   "outputs": [],
   "source": [
    "# Grow GPU memory (must be first operation in TF)\n",
    "gpu_grow_memory()"
   ]
  },
  {
   "cell_type": "code",
   "execution_count": 4,
   "metadata": {},
   "outputs": [],
   "source": [
    "# Plot style \n",
    "plot_style()"
   ]
  },
  {
   "cell_type": "code",
   "execution_count": 5,
   "metadata": {},
   "outputs": [],
   "source": [
    "# Lightweight serialization\n",
    "fname = '../pickle/orbital_element.pickle'\n",
    "vartbl = load_vartbl(fname)"
   ]
  },
  {
   "cell_type": "code",
   "execution_count": 6,
   "metadata": {},
   "outputs": [],
   "source": [
    "# Create small data set for orbital elements; dictionaries of numpy arrays\n",
    "n = 100\n",
    "a_min = 1.0\n",
    "a_max = 2.0\n",
    "e_max = 1.0\n",
    "inc_max = np.pi/4.0\n",
    "seed=42\n",
    "elts, cart = make_data_orb_elt(n=n, a_min=a_min, a_max=a_max, e_max=e_max, inc_max=inc_max, seed=seed)"
   ]
  },
  {
   "cell_type": "code",
   "execution_count": 7,
   "metadata": {},
   "outputs": [],
   "source": [
    "# Create a tensorflow Dataset instance in both directions\n",
    "batch_size = 64\n",
    "ds_e2c = make_dataset_elt_to_cfg(n=n, a_min=a_min, a_max=a_max, e_max=e_max, \n",
    "                                 inc_max=inc_max, seed=seed, batch_size=batch_size)\n",
    "ds_c2e = make_dataset_cfg_to_elt(n=n, a_min=a_min, a_max=a_max, e_max=e_max, \n",
    "                                 inc_max=inc_max, seed=seed, batch_size=batch_size)"
   ]
  },
  {
   "cell_type": "code",
   "execution_count": 8,
   "metadata": {},
   "outputs": [
    {
     "name": "stdout",
     "output_type": "stream",
     "text": [
      "Example batch sizes:\n",
      "a    = (64,)\n",
      "e    = (64,)\n",
      "inc  = (64,)\n",
      "Omega= (64,)\n",
      "omega= (64,)\n",
      "f    = (64,)\n",
      "mu   = (64,)\n",
      "q    = (64, 3)\n",
      "v    = (64, 3)\n"
     ]
    }
   ],
   "source": [
    "# Example batch\n",
    "elts, cart = list(ds_e2c.take(1))[0]\n",
    "\n",
    "# Unpack orbital elements\n",
    "a = elts['a']\n",
    "e = elts['e']\n",
    "inc = elts['inc']\n",
    "Omega = elts['Omega']\n",
    "omega = elts['omega']\n",
    "f = elts['f']\n",
    "mu = elts['mu']\n",
    "\n",
    "# Unpack cartesian coordinates\n",
    "q = cart['q']\n",
    "v = cart['v']\n",
    "\n",
    "# Review shapes\n",
    "print(f'Example batch sizes:')\n",
    "print(f'a    = {a.shape}')\n",
    "print(f'e    = {e.shape}')\n",
    "print(f'inc  = {inc.shape}')\n",
    "print(f'Omega= {Omega.shape}')\n",
    "print(f'omega= {omega.shape}')\n",
    "print(f'f    = {f.shape}')\n",
    "print(f'mu   = {f.shape}')\n",
    "print(f'q    = {q.shape}')\n",
    "print(f'v    = {v.shape}')"
   ]
  },
  {
   "cell_type": "code",
   "execution_count": 9,
   "metadata": {},
   "outputs": [],
   "source": [
    "# Run the layer on the batch of orbital elements\n",
    "inputs_e2c = (a, e, inc, Omega, omega, f, mu)\n",
    "cart_rec = OrbitalElementToConfig()(inputs_e2c)"
   ]
  },
  {
   "cell_type": "code",
   "execution_count": 10,
   "metadata": {},
   "outputs": [],
   "source": [
    "# Create a model mapping orbital elements to cartesian coordinates\n",
    "model_e2c = make_model_elt_to_cfg()"
   ]
  },
  {
   "cell_type": "code",
   "execution_count": 11,
   "metadata": {},
   "outputs": [],
   "source": [
    "# Inputs to compile this model\n",
    "optimizer = keras.optimizers.Adam(learning_rate=1.0E-3)\n",
    "\n",
    "loss = {'q': VectorError(name='q_loss'),\n",
    "        'v': VectorError(name='v_loss')}\n",
    "\n",
    "metrics = None\n",
    "\n",
    "loss_weights = {'q': 1.0,\n",
    "                'v': 1.0}"
   ]
  },
  {
   "cell_type": "code",
   "execution_count": 12,
   "metadata": {},
   "outputs": [],
   "source": [
    "# Compile the e2c model\n",
    "model_e2c.compile(optimizer=optimizer, loss=loss, metrics=metrics, loss_weights=loss_weights)"
   ]
  },
  {
   "cell_type": "code",
   "execution_count": 13,
   "metadata": {},
   "outputs": [
    {
     "name": "stdout",
     "output_type": "stream",
     "text": [
      "2/2 [==============================] - 0s 112ms/step - loss: 3.0719e-14 - q_loss: 2.0408e-14 - v_loss: 1.0310e-14\n"
     ]
    },
    {
     "data": {
      "text/plain": [
       "[3.071855954556255e-14, 2.0408156e-14, 1.0310403e-14]"
      ]
     },
     "execution_count": 13,
     "metadata": {},
     "output_type": "execute_result"
    }
   ],
   "source": [
    "# Verify that model matches rebound\n",
    "model_e2c.evaluate(ds_e2c)"
   ]
  },
  {
   "cell_type": "code",
   "execution_count": 14,
   "metadata": {},
   "outputs": [],
   "source": [
    "# Summary of the model mapping orbital elements to position\n",
    "# model_e2c.summary()"
   ]
  },
  {
   "cell_type": "code",
   "execution_count": 63,
   "metadata": {},
   "outputs": [],
   "source": [
    "class ConfigToOrbitalElement(keras.layers.Layer):\n",
    "    def call(self, inputs):\n",
    "        \"\"\"Compute orbital elements (a, e, inc, Omega, omega, f) from configuration (qx, qy, qz, vx, vy, vz, mu)\"\"\"\n",
    "        # Unpack inputs\n",
    "        qx, qy, qz, vx, vy, vz, mu = inputs\n",
    "\n",
    "        # See rebound library tools.c, reb_tools_particle_to_orbit_err\n",
    "        \n",
    "        # The distance from the primary\n",
    "        r = tf.sqrt(tf.square(qx) + tf.square(qy) + tf.square(qz))\n",
    "        \n",
    "        # The speed and its square\n",
    "        v2 = tf.square(vx) + tf.square(vy) + tf.square(vz)\n",
    "        v = tf.sqrt(v2)\n",
    "        \n",
    "        # The speed squared of a circular orbit\n",
    "        v2_circ = mu / r\n",
    "        \n",
    "        # The semi-major axis\n",
    "        a = -mu / (v2 - tf.constant(2.0) * v2_circ)\n",
    "        \n",
    "        # The specific angular momentum vector and its magnitude\n",
    "        hx = qy*vz - qz*vy\n",
    "        hy = qz*vx - qx*vz\n",
    "        hz = qx*vy - qy*vx\n",
    "        h = tf.sqrt(tf.square(hx) + tf.square(hy) + tf.square(hz))\n",
    "        \n",
    "        # The excess squared speed vs. a circular orbit\n",
    "        v2_diff = v2 - v2_circ\n",
    "        \n",
    "        # The dot product of v and r\n",
    "        vr = qx * vx + qy*vy + qz*vz\n",
    "        # r times v dot r\n",
    "        rvr = r * vr\n",
    "        # Inverse of mu\n",
    "        mu_inv = tf.constant(1.0) / mu\n",
    "        \n",
    "        # Eccentricity vector\n",
    "        ex = mu_inv * (v2_diff * qx - rvr * vx)\n",
    "        ey = mu_inv * (v2_diff * qy - rvr * vy)\n",
    "        ez = mu_inv * (v2_diff * qz - rvr * vz)\n",
    "        # The eccentricity is the magnitude of this vector\n",
    "        e = tf.sqrt(tf.square(ex) + tf.square(ey) + tf.square(ez))\n",
    "        \n",
    "        # Dummy placeholders for rest\n",
    "        inc = tf.constant(0.0) * a\n",
    "        Omega = tf.constant(0.0) * a\n",
    "        omega = tf.constant(0.0) * a\n",
    "        f = tf.constant(0.0) * a\n",
    "        \n",
    "        return a, e, inc, Omega, omega, f\n",
    "\n",
    "    def get_config(self):\n",
    "        return dict()"
   ]
  },
  {
   "cell_type": "code",
   "execution_count": 64,
   "metadata": {},
   "outputs": [],
   "source": [
    "def make_model_cfg_to_elt():\n",
    "    \"\"\"Model that transforms from orbital elements to cartesian coordinates\"\"\"\n",
    "    # Create input layers    \n",
    "    q = keras.Input(shape=(3,), name='q')\n",
    "    v = keras.Input(shape=(3,), name='v')\n",
    "    mu = keras.Input(shape=(1,), name='mu')\n",
    "    \n",
    "    # Wrap these up into one tuple of inputs for the model\n",
    "    inputs_model = (q, v, mu,)\n",
    "    \n",
    "    # Unpack coordinates from inputs\n",
    "    qx = keras.layers.Reshape(target_shape=(1,), name='qx')(q[:,0])\n",
    "    qy = keras.layers.Reshape(target_shape=(1,), name='qy')(q[:,1])\n",
    "    qz = keras.layers.Reshape(target_shape=(1,), name='qz')(q[:,2])\n",
    "    vx = keras.layers.Reshape(target_shape=(1,), name='vx')(v[:,0])\n",
    "    vy = keras.layers.Reshape(target_shape=(1,), name='vy')(v[:,1])\n",
    "    vz = keras.layers.Reshape(target_shape=(1,), name='vz')(v[:,2])\n",
    "\n",
    "    # Tuple of inputs for the layer\n",
    "    inputs_layer = (qx, qy, qz, vx, vy, vz, mu,)\n",
    "\n",
    "    # Calculations are in one layer that does all the work...\n",
    "    a, e, inc, Omega, omega, f = ConfigToOrbitalElement(name='config_to_orbital_element')(inputs_layer)\n",
    "\n",
    "    # Name the outputs of the layer\n",
    "    a = Identity(name='a')(a)\n",
    "    e = Identity(name='e')(e)\n",
    "    inc = Identity(name='inc')(inc)\n",
    "    Omega = Identity(name='Omega')(Omega)\n",
    "    omega = Identity(name='omega')(omega)\n",
    "    f = Identity(name='f')(f)\n",
    "\n",
    "    # Wrap up the outputs\n",
    "    outputs = (a, e, inc, Omega, omega, f)\n",
    "\n",
    "    # Create a model from inputs to outputs\n",
    "    model = keras.Model(inputs=inputs_model, outputs=outputs, name='cartesian_to_orbital_element')\n",
    "    return model"
   ]
  },
  {
   "cell_type": "code",
   "execution_count": 65,
   "metadata": {},
   "outputs": [],
   "source": [
    "# Run the layer on the batch of orbital elements\n",
    "qx = q[:,0:1]\n",
    "qy = q[:,1]\n",
    "qz = q[:,2]\n",
    "vx = v[:,0]\n",
    "vy = v[:,1]\n",
    "vz = v[:,2]\n",
    "inputs_c2e = (qx, qy, qz, vx, vy, vz, mu)\n",
    "elt_rec = ConfigToOrbitalElement()(inputs_c2e)"
   ]
  },
  {
   "cell_type": "code",
   "execution_count": 66,
   "metadata": {},
   "outputs": [],
   "source": [
    "# Create a model mapping cartesian coordinates to orbital elements\n",
    "model_c2e = make_model_cfg_to_elt()"
   ]
  },
  {
   "cell_type": "code",
   "execution_count": 67,
   "metadata": {},
   "outputs": [],
   "source": [
    "# Inputs to compile the c2e model\n",
    "optimizer = keras.optimizers.Adam(learning_rate=1.0E-3)\n",
    "\n",
    "loss = {'a': keras.losses.MeanSquaredError(),\n",
    "        'e': keras.losses.MeanSquaredError(),\n",
    "        'inc': keras.losses.MeanSquaredError(),\n",
    "        'Omega': keras.losses.MeanSquaredError(),\n",
    "        'omega': keras.losses.MeanSquaredError(),\n",
    "        'f': keras.losses.MeanSquaredError(),\n",
    "       }\n",
    "\n",
    "metrics = None\n",
    "\n",
    "loss_weights = {'a': 1.0,\n",
    "                'e': 1.0,\n",
    "                'inc': 1.0,\n",
    "                'Omega': 1.0,\n",
    "                'omega': 1.0,\n",
    "                'f': 1.0}"
   ]
  },
  {
   "cell_type": "code",
   "execution_count": 68,
   "metadata": {},
   "outputs": [],
   "source": [
    "# model_c2e.summary()"
   ]
  },
  {
   "cell_type": "code",
   "execution_count": 69,
   "metadata": {},
   "outputs": [],
   "source": [
    "# Compile the c2e model\n",
    "model_c2e.compile(optimizer=optimizer, loss=loss, metrics=metrics, loss_weights=loss_weights)"
   ]
  },
  {
   "cell_type": "code",
   "execution_count": 70,
   "metadata": {},
   "outputs": [
    {
     "name": "stdout",
     "output_type": "stream",
     "text": [
      "2/2 [==============================] - 0s 189ms/step - loss: 10.9354 - a_loss: 8.7598e-13 - e_loss: 0.0341 - inc_loss: 0.2254 - Omega_loss: 3.2830 - omega_loss: 3.9055 - f_loss: 3.4873\n"
     ]
    },
    {
     "data": {
      "text/plain": [
       "[10.935360431671143,\n",
       " 8.759783e-13,\n",
       " 0.034139823,\n",
       " 0.22539008,\n",
       " 3.2830186,\n",
       " 3.9055257,\n",
       " 3.4872866]"
      ]
     },
     "execution_count": 70,
     "metadata": {},
     "output_type": "execute_result"
    }
   ],
   "source": [
    "model_c2e.evaluate(ds_c2e)"
   ]
  },
  {
   "cell_type": "code",
   "execution_count": null,
   "metadata": {},
   "outputs": [],
   "source": []
  }
 ],
 "metadata": {
  "kernelspec": {
   "display_name": "Python [conda env:nbody]",
   "language": "python",
   "name": "conda-env-nbody-py"
  },
  "language_info": {
   "codemirror_mode": {
    "name": "ipython",
    "version": 3
   },
   "file_extension": ".py",
   "mimetype": "text/x-python",
   "name": "python",
   "nbconvert_exporter": "python",
   "pygments_lexer": "ipython3",
   "version": "3.7.3"
  }
 },
 "nbformat": 4,
 "nbformat_minor": 2
}
